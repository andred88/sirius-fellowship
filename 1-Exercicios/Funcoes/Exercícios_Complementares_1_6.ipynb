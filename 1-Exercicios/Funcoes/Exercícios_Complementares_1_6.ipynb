{
 "cells": [
  {
   "cell_type": "markdown",
   "source": "",
   "metadata": {
    "cell_id": "c232ab11-771c-4e5c-a286-92b3cfd974c3",
    "deepnote_cell_type": "markdown",
    "deepnote_cell_height": 46
   }
  },
  {
   "cell_type": "markdown",
   "source": "#### Exercicio C1\n\nCrie uma função que receba como argumentos os dois valores de um retângulo e então retorne a Área e o Perímetro do retângulo. Chame a função com os argumentos 2 e 10 para verificar se funcionou corretamente.",
   "metadata": {
    "cell_id": "00001-4e3bdb8b-ab45-45db-ab05-2c7f7b19acde",
    "deepnote_cell_type": "markdown",
    "deepnote_cell_height": 110.80000305175781
   }
  },
  {
   "cell_type": "code",
   "metadata": {
    "cell_id": "00002-42b98606-1b01-41c3-8bc0-dec291b015e2",
    "deepnote_to_be_reexecuted": false,
    "source_hash": "ae3856e4",
    "execution_start": 1653507804412,
    "execution_millis": 6,
    "deepnote_cell_type": "code",
    "deepnote_cell_height": 153
   },
   "source": "def retangulo(val1,val2):\n    area = float(val1*val2)\n    perimetro = float(2*(val1+val2))\n    print(area,perimetro)\n",
   "execution_count": null,
   "outputs": []
  },
  {
   "cell_type": "code",
   "metadata": {
    "cell_id": "00003-0965f14b-04af-4a03-bd4c-63e847696983",
    "deepnote_to_be_reexecuted": false,
    "source_hash": "b7a13418",
    "execution_start": 1653507806823,
    "execution_millis": 5,
    "deepnote_cell_type": "code",
    "deepnote_cell_height": 111.19999694824219
   },
   "source": "retangulo(2,10)",
   "execution_count": null,
   "outputs": [
    {
     "name": "stdout",
     "text": "20.0 24.0\n",
     "output_type": "stream"
    }
   ]
  },
  {
   "cell_type": "markdown",
   "source": "#### Exercício C2\n\nChame um método que permita extrair o nome e a idade fornecidos separadamente. Em seguida, imprima os valores \"nome\" e \"idade\" para verificar seu resultado. Veja que o código abaixo está errado.",
   "metadata": {
    "cell_id": "00004-9fbf0ba3-402b-45ac-8a09-b80884366a19",
    "deepnote_cell_type": "markdown",
    "deepnote_cell_height": 110.80000305175781
   }
  },
  {
   "cell_type": "code",
   "metadata": {
    "cell_id": "00005-4bb382e9-3f0b-4a45-a56b-f193af82c7cb",
    "deepnote_cell_type": "code",
    "deepnote_cell_height": 144.1999969482422
   },
   "source": "nome, idade = 'Peter,24'",
   "execution_count": null,
   "outputs": [
    {
     "ename": "ValueError",
     "evalue": "too many values to unpack (expected 2)",
     "output_type": "error",
     "traceback": [
      "\u001b[1;31m---------------------------------------------------------------------------\u001b[0m",
      "\u001b[1;31mValueError\u001b[0m                                Traceback (most recent call last)",
      "\u001b[1;32m<ipython-input-35-f310d1c023a8>\u001b[0m in \u001b[0;36m<module>\u001b[1;34m\u001b[0m\n\u001b[1;32m----> 1\u001b[1;33m \u001b[0mnome\u001b[0m\u001b[1;33m,\u001b[0m \u001b[0midade\u001b[0m \u001b[1;33m=\u001b[0m \u001b[1;34m'Peter,24'\u001b[0m\u001b[1;33m\u001b[0m\u001b[1;33m\u001b[0m\u001b[0m\n\u001b[0m",
      "\u001b[1;31mValueError\u001b[0m: too many values to unpack (expected 2)"
     ]
    }
   ]
  },
  {
   "cell_type": "code",
   "metadata": {
    "cell_id": "00006-a119b989-a5cb-444e-a408-e54e68524400",
    "deepnote_to_be_reexecuted": false,
    "source_hash": "246eaabf",
    "execution_start": 1653508202156,
    "execution_millis": 4,
    "deepnote_cell_type": "code",
    "deepnote_cell_height": 81
   },
   "source": "nome = {'Peter': '24'}",
   "execution_count": null,
   "outputs": []
  },
  {
   "cell_type": "code",
   "metadata": {
    "cell_id": "00007-667e5417-fa08-49e4-8758-22866a0c065b",
    "deepnote_to_be_reexecuted": false,
    "source_hash": "32ec1bb8",
    "execution_start": 1653508213079,
    "execution_millis": 1,
    "deepnote_cell_type": "code",
    "deepnote_cell_height": 118,
    "deepnote_output_heights": [
     21
    ]
   },
   "source": "nome",
   "execution_count": null,
   "outputs": [
    {
     "output_type": "execute_result",
     "execution_count": 50,
     "data": {
      "text/plain": "{'Peter': '24'}"
     },
     "metadata": {}
    }
   ]
  },
  {
   "cell_type": "markdown",
   "source": "#### Exercício C3 \nObtenha o maior número(máximo) entre os valores 25, 65, 890 e 15.\n",
   "metadata": {
    "cell_id": "00008-28d16ed9-928d-40ed-ae07-75b6f4db137c",
    "deepnote_cell_type": "markdown",
    "deepnote_cell_height": 88.39999389648438
   }
  },
  {
   "cell_type": "code",
   "metadata": {
    "cell_id": "00009-d9028709-98fe-47fb-a6de-66667e9469a6",
    "deepnote_to_be_reexecuted": false,
    "source_hash": "9d005e0f",
    "execution_start": 1653508266285,
    "execution_millis": 10,
    "deepnote_cell_type": "code",
    "deepnote_cell_height": 118,
    "deepnote_output_heights": [
     21
    ]
   },
   "source": "max(25,65,890,15)",
   "execution_count": null,
   "outputs": [
    {
     "output_type": "execute_result",
     "execution_count": 51,
     "data": {
      "text/plain": "890"
     },
     "metadata": {}
    }
   ]
  },
  {
   "cell_type": "markdown",
   "source": "#### Exercício C4\nConte quantos caracteres tem a palavra \"constituição\" usando uma função padrão do python",
   "metadata": {
    "cell_id": "00010-57facd21-9fe3-4216-bdfe-0a5ba7b96e9f",
    "deepnote_cell_type": "markdown",
    "deepnote_cell_height": 88.39999389648438
   }
  },
  {
   "cell_type": "code",
   "metadata": {
    "cell_id": "00011-d7fd02df-5b23-46bd-acb4-565bf2f39fca",
    "deepnote_to_be_reexecuted": false,
    "source_hash": "3276a41a",
    "execution_start": 1653508280463,
    "execution_millis": 4,
    "deepnote_cell_type": "code",
    "deepnote_cell_height": 118,
    "deepnote_output_heights": [
     21
    ]
   },
   "source": "len('constituição')",
   "execution_count": null,
   "outputs": [
    {
     "output_type": "execute_result",
     "execution_count": 52,
     "data": {
      "text/plain": "12"
     },
     "metadata": {}
    }
   ]
  },
  {
   "cell_type": "markdown",
   "source": "##### Exercício C5\nEncontre a soma de todos os elementos na lista fornecida, chamada \"Numeros\".",
   "metadata": {
    "cell_id": "00012-a5e0cd2e-0bed-46f9-9934-edf0f7d5c812",
    "deepnote_cell_type": "markdown",
    "deepnote_cell_height": 88.39999389648438
   }
  },
  {
   "cell_type": "code",
   "metadata": {
    "cell_id": "00013-75681671-e9d4-44cf-a378-e64072d6520c",
    "deepnote_to_be_reexecuted": false,
    "source_hash": "816dfbf4",
    "execution_start": 1653508301996,
    "execution_millis": 29,
    "deepnote_cell_type": "code",
    "deepnote_cell_height": 144.1999969482422
   },
   "source": "count[numeros]",
   "execution_count": null,
   "outputs": [
    {
     "output_type": "error",
     "ename": "NameError",
     "evalue": "name 'count' is not defined",
     "traceback": [
      "\u001b[0;31m---------------------------------------------------------------------------\u001b[0m",
      "\u001b[0;31mNameError\u001b[0m                                 Traceback (most recent call last)",
      "\u001b[0;32m<ipython-input-53-5204bc3e5a37>\u001b[0m in \u001b[0;36m<module>\u001b[0;34m\u001b[0m\n\u001b[0;32m----> 1\u001b[0;31m \u001b[0mcount\u001b[0m\u001b[0;34m[\u001b[0m\u001b[0mnumeros\u001b[0m\u001b[0;34m]\u001b[0m\u001b[0;34m\u001b[0m\u001b[0;34m\u001b[0m\u001b[0m\n\u001b[0m",
      "\u001b[0;31mNameError\u001b[0m: name 'count' is not defined"
     ]
    }
   ]
  },
  {
   "cell_type": "markdown",
   "source": "##### Exercício C6\n\nCrie uma função, chamada \"distancia_do_zero\", que retorne o valor absoluto de um único argumento fornecido e imprima uma declaração \"Impossível\" se o argumento fornecido não for um número. Chame a função com os valores de -15 e \"limão\" para verificar se funciona corretamente.",
   "metadata": {
    "cell_id": "00014-3c637381-0eed-4bad-a23a-2bef7b98a580",
    "deepnote_cell_type": "markdown",
    "deepnote_cell_height": 110.80000305175781
   }
  },
  {
   "cell_type": "code",
   "metadata": {
    "cell_id": "00015-484fdc65-80cc-4f89-a694-fae9d294275e",
    "owner_user_id": "f3b685db-82a0-4f74-9158-9e3d6de2c3bf",
    "deepnote_cell_type": "code",
    "deepnote_cell_height": 66
   },
   "source": "",
   "execution_count": null,
   "outputs": []
  },
  {
   "cell_type": "code",
   "metadata": {
    "cell_id": "00016-0f03a8db-7c9a-4947-83b4-d85424419bc4",
    "deepnote_cell_type": "code",
    "deepnote_cell_height": 66
   },
   "source": "",
   "execution_count": null,
   "outputs": []
  },
  {
   "cell_type": "code",
   "metadata": {
    "cell_id": "00017-9688210c-b6f9-44e5-8bd3-5dc908400dec",
    "deepnote_cell_type": "code",
    "deepnote_cell_height": 66
   },
   "source": "",
   "execution_count": null,
   "outputs": []
  },
  {
   "cell_type": "markdown",
   "source": "##### Exercício C7\n\nDada a lista:\n",
   "metadata": {
    "cell_id": "00018-f8831e13-cf24-42de-bafe-18c7170b3da4",
    "deepnote_cell_type": "markdown",
    "deepnote_cell_height": 88.39999389648438
   }
  },
  {
   "cell_type": "code",
   "metadata": {
    "cell_id": "00019-1f38b7cc-fb6a-4028-81f8-881eb5d120ac",
    "deepnote_cell_type": "code",
    "deepnote_cell_height": 66
   },
   "source": "Numeros = [15, 40, 50, 100, 115, 140]",
   "execution_count": null,
   "outputs": []
  },
  {
   "cell_type": "markdown",
   "source": "Usando o fatiamento de lista(slicing), obtenha os números 100 e 115.",
   "metadata": {
    "cell_id": "00020-5ef7fd33-1600-4809-88cb-2f8beac9bca7",
    "deepnote_cell_type": "markdown",
    "deepnote_cell_height": 52.399993896484375
   }
  },
  {
   "cell_type": "code",
   "metadata": {
    "cell_id": "00021-eadbd52d-0f86-41e3-a8d6-30076361f4ab",
    "deepnote_cell_type": "code",
    "deepnote_cell_height": 66
   },
   "source": "",
   "execution_count": null,
   "outputs": []
  },
  {
   "cell_type": "markdown",
   "source": "Usando o fatiamento, extraia os quatro primeiros elementos da lista.",
   "metadata": {
    "cell_id": "00022-76a8f474-ba5c-40c1-ad9b-df8e9570f272",
    "deepnote_cell_type": "markdown",
    "deepnote_cell_height": 52.399993896484375
   }
  },
  {
   "cell_type": "code",
   "metadata": {
    "cell_id": "00023-abbc510f-5ebe-459d-9047-6b668c6ddae0",
    "deepnote_cell_type": "code",
    "deepnote_cell_height": 66
   },
   "source": "",
   "execution_count": null,
   "outputs": []
  },
  {
   "cell_type": "markdown",
   "source": "Qual é a posição do valor 40?",
   "metadata": {
    "cell_id": "00024-d188af55-aea3-4679-9c4d-89aba7ff331b",
    "deepnote_cell_type": "markdown",
    "deepnote_cell_height": 52.399993896484375
   }
  },
  {
   "cell_type": "code",
   "metadata": {
    "cell_id": "00025-df1e6e31-1f01-4fff-ad9a-5245e240ed7e",
    "deepnote_cell_type": "code",
    "deepnote_cell_height": 66
   },
   "source": "",
   "execution_count": null,
   "outputs": []
  },
  {
   "cell_type": "markdown",
   "source": "Ordene todos os números na lista \"Números\" do maior para o menor.",
   "metadata": {
    "cell_id": "00026-3c6d9a33-dd57-44fd-af7e-2f21ab6ad826",
    "deepnote_cell_type": "markdown",
    "deepnote_cell_height": 52.399993896484375
   }
  },
  {
   "cell_type": "code",
   "metadata": {
    "cell_id": "00027-efa76ab3-904f-4cdb-9191-cd6c392aabfe",
    "deepnote_cell_type": "code",
    "deepnote_cell_height": 66
   },
   "source": "",
   "execution_count": null,
   "outputs": []
  },
  {
   "cell_type": "markdown",
   "source": "##### Exercício C8\nUse a função range para criar uma lista com todos os números pares de 0 a 30 incluídos.",
   "metadata": {
    "cell_id": "00028-458571e7-de00-4042-8ed7-581d550eca25",
    "deepnote_cell_type": "markdown",
    "deepnote_cell_height": 88.39999389648438
   }
  },
  {
   "cell_type": "code",
   "metadata": {
    "cell_id": "00029-f8488b1f-9e07-402a-a0f9-e7190590e4b5",
    "deepnote_cell_type": "code",
    "deepnote_cell_height": 66
   },
   "source": "",
   "execution_count": null,
   "outputs": []
  },
  {
   "cell_type": "markdown",
   "source": "##### Exercício C9\nDefina uma função que dado um número adicione 5. Em seguida, defina outra função que irá multiplicar o número recém-obtido por 3. Verifique se seu código estava correto chamando a segunda função com um argumento de 5. Sua saída foi igual a 30?",
   "metadata": {
    "cell_id": "00030-4163b2e8-4e57-4e5f-9704-5f1a5e1195e9",
    "deepnote_cell_type": "markdown",
    "deepnote_cell_height": 110.80000305175781
   }
  },
  {
   "cell_type": "code",
   "metadata": {
    "cell_id": "00031-452ca41f-5eed-4838-abc4-a4f4817e146c",
    "deepnote_cell_type": "code",
    "deepnote_cell_height": 66
   },
   "source": "",
   "execution_count": null,
   "outputs": []
  },
  {
   "cell_type": "code",
   "metadata": {
    "cell_id": "00032-a187be41-6e9e-40c1-bad3-228623b636f7",
    "deepnote_cell_type": "code",
    "deepnote_cell_height": 66
   },
   "source": "",
   "execution_count": null,
   "outputs": []
  },
  {
   "cell_type": "code",
   "metadata": {
    "cell_id": "00033-6093c54d-c20f-4a89-9bed-39fecb37a142",
    "deepnote_cell_type": "code",
    "deepnote_cell_height": 66
   },
   "source": "",
   "execution_count": null,
   "outputs": []
  },
  {
   "cell_type": "markdown",
   "source": "<a style='text-decoration:none;line-height:16px;display:flex;color:#5B5B62;padding:10px;justify-content:end;' href='https://deepnote.com?utm_source=created-in-deepnote-cell&projectId=31152f18-3036-40d1-92d9-59f0bbdc0756' target=\"_blank\">\n<img alt='Created in deepnote.com' style='display:inline;max-height:16px;margin:0px;margin-right:7.5px;' src='data:image/svg+xml;base64,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' > </img>\nCreated in <span style='font-weight:600;margin-left:4px;'>Deepnote</span></a>",
   "metadata": {
    "tags": [],
    "created_in_deepnote_cell": true,
    "deepnote_cell_type": "markdown"
   }
  }
 ],
 "nbformat": 4,
 "nbformat_minor": 5,
 "metadata": {
  "kernelspec": {
   "display_name": "Python 3",
   "language": "python",
   "name": "python3"
  },
  "language_info": {
   "codemirror_mode": {
    "name": "ipython",
    "version": 3
   },
   "file_extension": ".py",
   "mimetype": "text/x-python",
   "name": "python",
   "nbconvert_exporter": "python",
   "pygments_lexer": "ipython3",
   "version": "3.8.8"
  },
  "deepnote_notebook_id": "f6bb300d-5a70-4784-b02b-de51c120a407",
  "deepnote": {},
  "deepnote_execution_queue": []
 }
}