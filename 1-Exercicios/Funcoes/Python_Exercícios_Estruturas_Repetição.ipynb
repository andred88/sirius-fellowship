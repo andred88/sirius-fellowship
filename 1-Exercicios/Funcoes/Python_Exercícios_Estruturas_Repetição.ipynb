{
 "cells": [
  {
   "cell_type": "markdown",
   "source": "### Exercício 1\n\n\nLer 5 notas e informar a média usando loop for\n",
   "metadata": {
    "cell_id": "0ba0928c-d1b2-4f9d-ab40-cbab13fd9ba4",
    "id": "c9BudZ2gNE2n",
    "deepnote_cell_type": "markdown",
    "deepnote_cell_height": 100.39999389648438
   }
  },
  {
   "cell_type": "markdown",
   "source": "",
   "metadata": {
    "cell_id": "00001-36235c6a-b9b4-4917-8d2d-b40868f972db",
    "id": "RFJ-2UWJSviN",
    "deepnote_cell_type": "markdown",
    "deepnote_cell_height": 46
   }
  },
  {
   "cell_type": "code",
   "metadata": {
    "cell_id": "00002-d047fd2a-7b3c-456c-b276-a35c60357706",
    "id": "SVlPSs0oS1XU",
    "deepnote_to_be_reexecuted": false,
    "source_hash": "ef57738a",
    "execution_start": 1654187702734,
    "execution_millis": 6489,
    "owner_user_id": "f3b685db-82a0-4f74-9158-9e3d6de2c3bf",
    "deepnote_cell_type": "code",
    "deepnote_cell_height": 278
   },
   "source": "soma = 0\nfor i in range(5):\n  n = int(input('Digite uma nota: '))\n  soma+=n\n  media = soma/5\n  print(media)",
   "execution_count": null,
   "outputs": [
    {
     "name": "stdout",
     "text": "2.0\n3.6\n5.0\n6.2\n7.2\n",
     "output_type": "stream"
    }
   ]
  },
  {
   "cell_type": "code",
   "metadata": {
    "cell_id": "00006-b30d7e57-3da4-4f91-98f6-bc8b0d6b84ff",
    "colab": {
     "base_uri": "https://localhost:8080/",
     "height": 34
    },
    "id": "EfSe5EF6bYCA",
    "outputId": "4463ec53-74d1-43e0-f8c3-c0e9459e5c2b",
    "deepnote_cell_type": "code",
    "deepnote_cell_height": 66
   },
   "source": "",
   "execution_count": null,
   "outputs": []
  },
  {
   "cell_type": "markdown",
   "source": "### Exercício 2\nLer 5 notas e informar a média usando loop while",
   "metadata": {
    "cell_id": "00007-ee4363c8-7047-4493-ac9c-e418764cfe48",
    "id": "-44bufKRbeBf",
    "deepnote_cell_type": "markdown",
    "deepnote_cell_height": 100.39999389648438
   }
  },
  {
   "cell_type": "code",
   "metadata": {
    "cell_id": "00008-74390165-401c-4cb6-ac14-a69650f96b13",
    "colab": {
     "base_uri": "https://localhost:8080/",
     "height": 118
    },
    "id": "5O23ONtfbf9w",
    "outputId": "c6abb714-3486-435e-a004-979106f4ba6f",
    "deepnote_cell_type": "code",
    "deepnote_cell_height": 66
   },
   "source": "",
   "execution_count": null,
   "outputs": []
  },
  {
   "cell_type": "markdown",
   "source": "### Exercício 3\n\nImprimir a tabuada do número 3 (3 x 1 = 1 - 3 x 10 = 30) usando loop for",
   "metadata": {
    "cell_id": "00009-9d68c25a-f497-47a9-bb91-44caf051eedd",
    "id": "QK3YAlgdN0t3",
    "deepnote_cell_type": "markdown",
    "deepnote_cell_height": 100.39999389648438
   }
  },
  {
   "cell_type": "code",
   "metadata": {
    "cell_id": "00011-7205360c-0bb7-4a1a-bd5b-78096d9361e0",
    "colab": {
     "base_uri": "https://localhost:8080/",
     "height": 185
    },
    "id": "17IiwQLVcKM1",
    "outputId": "7c2b6ec8-1bb2-4b5a-c0e0-002c0c7d2130",
    "deepnote_to_be_reexecuted": false,
    "source_hash": "91617bdc",
    "execution_start": 1654166593652,
    "execution_millis": 12,
    "deepnote_cell_type": "code",
    "deepnote_cell_height": 338
   },
   "source": "\nfor i in range(1,11):\n    tab = i * 3\n    print('3 x {} = {}'.format(i,tab))",
   "execution_count": null,
   "outputs": [
    {
     "name": "stdout",
     "text": "3 x 1 = 3\n3 x 2 = 6\n3 x 3 = 9\n3 x 4 = 12\n3 x 5 = 15\n3 x 6 = 18\n3 x 7 = 21\n3 x 8 = 24\n3 x 9 = 27\n3 x 10 = 30\n",
     "output_type": "stream"
    }
   ]
  },
  {
   "cell_type": "markdown",
   "source": "### Exercício 4\n\nImprimir a tabuada do número 3 (3 x 1 = 1 - 3 x 10 = 30) usando loop while",
   "metadata": {
    "cell_id": "00012-d40bfddf-e7db-4e21-bba1-890eb96a8f9b",
    "id": "7HRSb00ycuip",
    "deepnote_cell_type": "markdown",
    "deepnote_cell_height": 100.39999389648438
   }
  },
  {
   "cell_type": "code",
   "metadata": {
    "cell_id": "00013-75c0e365-8cc7-49ea-b627-26dbe03fa91d",
    "colab": {
     "base_uri": "https://localhost:8080/",
     "height": 185
    },
    "id": "rR51zPtEcuKg",
    "outputId": "b05cb38c-a391-4327-d976-a5a769945559",
    "deepnote_to_be_reexecuted": false,
    "source_hash": "2fc2a96",
    "execution_start": 1654166855047,
    "execution_millis": 1,
    "deepnote_cell_type": "code"
   },
   "source": "n = 0\nwhile n < 11:\n    tab = n * 3\n    n += 1\n    print('3 x {} = {}'.format(n,tab))\n    ",
   "execution_count": null,
   "outputs": [
    {
     "name": "stdout",
     "text": "3 x 1 = 0\n3 x 2 = 3\n3 x 3 = 6\n3 x 4 = 9\n3 x 5 = 12\n3 x 6 = 15\n3 x 7 = 18\n3 x 8 = 21\n3 x 9 = 24\n3 x 10 = 27\n3 x 11 = 30\n",
     "output_type": "stream"
    }
   ]
  },
  {
   "cell_type": "markdown",
   "source": "<a style='text-decoration:none;line-height:16px;display:flex;color:#5B5B62;padding:10px;justify-content:end;' href='https://deepnote.com?utm_source=created-in-deepnote-cell&projectId=31152f18-3036-40d1-92d9-59f0bbdc0756' target=\"_blank\">\n<img alt='Created in deepnote.com' style='display:inline;max-height:16px;margin:0px;margin-right:7.5px;' src='data:image/svg+xml;base64,PD94bWwgdmVyc2lvbj0iMS4wIiBlbmNvZGluZz0iVVRGLTgiPz4KPHN2ZyB3aWR0aD0iODBweCIgaGVpZ2h0PSI4MHB4IiB2aWV3Qm94PSIwIDAgODAgODAiIHZlcnNpb249IjEuMSIgeG1sbnM9Imh0dHA6Ly93d3cudzMub3JnLzIwMDAvc3ZnIiB4bWxuczp4bGluaz0iaHR0cDovL3d3dy53My5vcmcvMTk5OS94bGluayI+CiAgICA8IS0tIEdlbmVyYXRvcjogU2tldGNoIDU0LjEgKDc2NDkwKSAtIGh0dHBzOi8vc2tldGNoYXBwLmNvbSAtLT4KICAgIDx0aXRsZT5Hcm91cCAzPC90aXRsZT4KICAgIDxkZXNjPkNyZWF0ZWQgd2l0aCBTa2V0Y2guPC9kZXNjPgogICAgPGcgaWQ9IkxhbmRpbmciIHN0cm9rZT0ibm9uZSIgc3Ryb2tlLXdpZHRoPSIxIiBmaWxsPSJub25lIiBmaWxsLXJ1bGU9ImV2ZW5vZGQiPgogICAgICAgIDxnIGlkPSJBcnRib2FyZCIgdHJhbnNmb3JtPSJ0cmFuc2xhdGUoLTEyMzUuMDAwMDAwLCAtNzkuMDAwMDAwKSI+CiAgICAgICAgICAgIDxnIGlkPSJHcm91cC0zIiB0cmFuc2Zvcm09InRyYW5zbGF0ZSgxMjM1LjAwMDAwMCwgNzkuMDAwMDAwKSI+CiAgICAgICAgICAgICAgICA8cG9seWdvbiBpZD0iUGF0aC0yMCIgZmlsbD0iIzAyNjVCNCIgcG9pbnRzPSIyLjM3NjIzNzYyIDgwIDM4LjA0NzY2NjcgODAgNTcuODIxNzgyMiA3My44MDU3NTkyIDU3LjgyMTc4MjIgMzIuNzU5MjczOSAzOS4xNDAyMjc4IDMxLjY4MzE2ODMiPjwvcG9seWdvbj4KICAgICAgICAgICAgICAgIDxwYXRoIGQ9Ik0zNS4wMDc3MTgsODAgQzQyLjkwNjIwMDcsNzYuNDU0OTM1OCA0Ny41NjQ5MTY3LDcxLjU0MjI2NzEgNDguOTgzODY2LDY1LjI2MTk5MzkgQzUxLjExMjI4OTksNTUuODQxNTg0MiA0MS42NzcxNzk1LDQ5LjIxMjIyODQgMjUuNjIzOTg0Niw0OS4yMTIyMjg0IEMyNS40ODQ5Mjg5LDQ5LjEyNjg0NDggMjkuODI2MTI5Niw0My4yODM4MjQ4IDM4LjY0NzU4NjksMzEuNjgzMTY4MyBMNzIuODcxMjg3MSwzMi41NTQ0MjUgTDY1LjI4MDk3Myw2Ny42NzYzNDIxIEw1MS4xMTIyODk5LDc3LjM3NjE0NCBMMzUuMDA3NzE4LDgwIFoiIGlkPSJQYXRoLTIyIiBmaWxsPSIjMDAyODY4Ij48L3BhdGg+CiAgICAgICAgICAgICAgICA8cGF0aCBkPSJNMCwzNy43MzA0NDA1IEwyNy4xMTQ1MzcsMC4yNTcxMTE0MzYgQzYyLjM3MTUxMjMsLTEuOTkwNzE3MDEgODAsMTAuNTAwMzkyNyA4MCwzNy43MzA0NDA1IEM4MCw2NC45NjA0ODgyIDY0Ljc3NjUwMzgsNzkuMDUwMzQxNCAzNC4zMjk1MTEzLDgwIEM0Ny4wNTUzNDg5LDc3LjU2NzA4MDggNTMuNDE4MjY3Nyw3MC4zMTM2MTAzIDUzLjQxODI2NzcsNTguMjM5NTg4NSBDNTMuNDE4MjY3Nyw0MC4xMjg1NTU3IDM2LjMwMzk1NDQsMzcuNzMwNDQwNSAyNS4yMjc0MTcsMzcuNzMwNDQwNSBDMTcuODQzMDU4NiwzNy43MzA0NDA1IDkuNDMzOTE5NjYsMzcuNzMwNDQwNSAwLDM3LjczMDQ0MDUgWiIgaWQ9IlBhdGgtMTkiIGZpbGw9IiMzNzkzRUYiPjwvcGF0aD4KICAgICAgICAgICAgPC9nPgogICAgICAgIDwvZz4KICAgIDwvZz4KPC9zdmc+' > </img>\nCreated in <span style='font-weight:600;margin-left:4px;'>Deepnote</span></a>",
   "metadata": {
    "tags": [],
    "created_in_deepnote_cell": true,
    "deepnote_cell_type": "markdown"
   }
  }
 ],
 "nbformat": 4,
 "nbformat_minor": 1,
 "metadata": {
  "colab": {
   "name": "Python Exercícios Estruturas Repetição.ipynb",
   "provenance": []
  },
  "deepnote": {},
  "deepnote_execution_queue": [],
  "deepnote_notebook_id": "9d4b2e7f-1771-470b-a7a8-9ff92629f997",
  "kernelspec": {
   "display_name": "Python 3",
   "language": "python",
   "name": "python3"
  },
  "language_info": {
   "codemirror_mode": {
    "name": "ipython",
    "version": 3
   },
   "file_extension": ".py",
   "mimetype": "text/x-python",
   "name": "python",
   "nbconvert_exporter": "python",
   "pygments_lexer": "ipython3",
   "version": "3.8.8"
  }
 }
}