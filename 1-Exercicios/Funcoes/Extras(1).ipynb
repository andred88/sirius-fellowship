{
 "cells": [
  {
   "cell_type": "markdown",
   "source": "### Extras",
   "metadata": {
    "cell_id": "f6c3abcd-bd64-415e-9837-78c4e5f6ca29",
    "deepnote_cell_type": "markdown",
    "deepnote_cell_height": 62
   }
  },
  {
   "cell_type": "markdown",
   "source": "1- Escreva um programa em Python que aceite uma sequência de números separados por vírgulas fornecida pelo usuário e gere uma lista e uma tupla com esses números.",
   "metadata": {
    "cell_id": "00001-92b6068e-14ad-4e10-85d5-789d8374c5dc",
    "deepnote_cell_type": "markdown",
    "deepnote_cell_height": 74.80000305175781
   }
  },
  {
   "cell_type": "code",
   "metadata": {
    "cell_id": "00002-3e33fac9-8dcd-4462-aebc-afdce228a3e3",
    "deepnote_to_be_reexecuted": false,
    "source_hash": "48dab4a9",
    "execution_start": 1653609204493,
    "execution_millis": 4613,
    "deepnote_cell_type": "code",
    "deepnote_cell_height": 129.1999969482422
   },
   "source": "numeros = input('Insira uma sequencia de numeros')\nprint(numeros.split(','))",
   "execution_count": null,
   "outputs": [
    {
     "name": "stdout",
     "text": "['1', '2', '3', '4', '5']\n",
     "output_type": "stream"
    }
   ]
  },
  {
   "cell_type": "code",
   "metadata": {
    "cell_id": "663104f0bcef4f748e318767ed5f3790",
    "tags": [],
    "deepnote_to_be_reexecuted": false,
    "source_hash": "b50ada67",
    "execution_start": 1653608905441,
    "execution_millis": 14,
    "deepnote_cell_type": "code",
    "deepnote_cell_height": 111.19999694824219
   },
   "source": "print(tuple(numeros))",
   "execution_count": null,
   "outputs": [
    {
     "name": "stdout",
     "text": "('1', ',', '2', ',', '3', ',', '4', ',', '5', ',', '6', ',', '7', ',', '8', ',', '9')\n",
     "output_type": "stream"
    }
   ]
  },
  {
   "cell_type": "markdown",
   "source": "2 -Escreva um programa em Python para imprimir o calendário de um determinado mês e ano.\n\nDica: veja a documentação do pacote 'calendar'.",
   "metadata": {
    "cell_id": "00003-f50571f4-035b-4167-81d1-f9d6e8a3335c",
    "deepnote_cell_type": "markdown",
    "deepnote_cell_height": 88.80000305175781
   }
  },
  {
   "cell_type": "code",
   "metadata": {
    "cell_id": "00004-ab826ce5-c554-41cb-b039-97873f725720",
    "deepnote_to_be_reexecuted": false,
    "source_hash": "8881f732",
    "execution_start": 1653609506471,
    "execution_millis": 7,
    "deepnote_cell_type": "code",
    "deepnote_cell_height": 336.79998779296875,
    "deepnote_output_heights": [
     21
    ]
   },
   "source": "import calendar\nyy = 2022\nmm = 5\nprint(calendar.month(yy, mm))\n",
   "execution_count": null,
   "outputs": [
    {
     "name": "stdout",
     "text": "      May 2022\nMo Tu We Th Fr Sa Su\n                   1\n 2  3  4  5  6  7  8\n 9 10 11 12 13 14 15\n16 17 18 19 20 21 22\n23 24 25 26 27 28 29\n30 31\n\n",
     "output_type": "stream"
    }
   ]
  },
  {
   "cell_type": "markdown",
   "source": "",
   "metadata": {
    "cell_id": "00005-a7786937-efb1-4f4a-9945-f458470618ee",
    "deepnote_cell_type": "markdown",
    "deepnote_cell_height": 46
   }
  },
  {
   "cell_type": "markdown",
   "source": "",
   "metadata": {
    "cell_id": "00006-ea96e7d7-7fe8-4970-a1e2-e5cb20d5c156",
    "deepnote_cell_type": "markdown",
    "deepnote_cell_height": 46
   }
  },
  {
   "cell_type": "markdown",
   "source": "3 - Escreva um programa em Python para calcular a distância entre os pontos (x1, y1) e (x2, y2).",
   "metadata": {
    "cell_id": "00007-2087832b-3a03-4244-a751-a6f840c0f45d",
    "deepnote_cell_type": "markdown",
    "deepnote_cell_height": 52.399993896484375
   }
  },
  {
   "cell_type": "code",
   "metadata": {
    "cell_id": "00008-bdb640a0-5422-48c6-8462-c8d0c08f80e7",
    "deepnote_to_be_reexecuted": false,
    "source_hash": "3e67c9b",
    "execution_start": 1653610126877,
    "execution_millis": 3,
    "deepnote_cell_type": "code",
    "deepnote_cell_height": 219.1999969482422
   },
   "source": "import math\nx1 = 2\nx2 = 3\ny1 = 1\ny2 = 4\nd = math.sqrt((x1-x2)**2 + (y1-y2)**2)\nprint(d)",
   "execution_count": null,
   "outputs": [
    {
     "name": "stdout",
     "text": "3.1622776601683795\n",
     "output_type": "stream"
    }
   ]
  },
  {
   "cell_type": "markdown",
   "source": "4 -Crie um programa que leia três inteiros do usuário e os exiba em ordem (do menor para o maior). Use as funções min e max para encontrar o menor e maiores valores. O valor médio pode ser encontrado calculando a soma de todos os três\nvalores e, em seguida, subtraindo o valor mínimo e o valor máximo",
   "metadata": {
    "cell_id": "00009-644cb3c5-6700-42d2-be65-e4424896b00a",
    "deepnote_cell_type": "markdown",
    "deepnote_cell_height": 97.19999694824219
   }
  },
  {
   "cell_type": "code",
   "metadata": {
    "cell_id": "00010-acb6746e-cb04-4d5a-8d9d-63661322ad9c",
    "deepnote_to_be_reexecuted": false,
    "source_hash": "7afc5feb",
    "execution_start": 1653611100100,
    "execution_millis": 5177,
    "owner_user_id": "f3b685db-82a0-4f74-9158-9e3d6de2c3bf",
    "deepnote_cell_type": "code",
    "deepnote_cell_height": 234
   },
   "source": "n1 = int(input('Insira o primeiro numero: '))\nn2 = int(input('Insira o segundo numero: '))\nn3 = int(input('insira o terceiro numero: '))\nlista = [n1, n2, n3]\nprint(lista)\n",
   "execution_count": null,
   "outputs": [
    {
     "name": "stdout",
     "text": "[1, 2, 3]\n",
     "output_type": "stream"
    }
   ]
  },
  {
   "cell_type": "code",
   "metadata": {
    "cell_id": "00011-b9c5ccdf-b493-4a21-b716-ebb9956121d7",
    "deepnote_to_be_reexecuted": false,
    "source_hash": "cbdb1a40",
    "execution_start": 1653611221575,
    "execution_millis": 14,
    "deepnote_cell_type": "code",
    "deepnote_cell_height": 111.19999694824219
   },
   "source": "print(max(lista))",
   "execution_count": null,
   "outputs": [
    {
     "name": "stdout",
     "text": "3\n",
     "output_type": "stream"
    }
   ]
  },
  {
   "cell_type": "code",
   "metadata": {
    "cell_id": "00012-10ec1b93-bb94-48df-9bac-7b8b972e6281",
    "deepnote_to_be_reexecuted": false,
    "source_hash": "553c2008",
    "execution_start": 1653611234353,
    "execution_millis": 222,
    "deepnote_cell_type": "code",
    "deepnote_cell_height": 111.19999694824219
   },
   "source": "print(min(lista))",
   "execution_count": null,
   "outputs": [
    {
     "name": "stdout",
     "text": "1\n",
     "output_type": "stream"
    }
   ]
  },
  {
   "cell_type": "code",
   "metadata": {
    "cell_id": "00013-96fa9ada-18f7-4902-8ccd-68ce8ab93849",
    "deepnote_to_be_reexecuted": false,
    "source_hash": "9fe9eafe",
    "execution_start": 1653611372280,
    "execution_millis": 20,
    "deepnote_cell_type": "code",
    "deepnote_cell_height": 129.1999969482422
   },
   "source": "medio = sum(lista)-min(lista)-max(lista)\nprint(medio)",
   "execution_count": null,
   "outputs": [
    {
     "name": "stdout",
     "text": "2\n",
     "output_type": "stream"
    }
   ]
  },
  {
   "cell_type": "markdown",
   "source": "<a style='text-decoration:none;line-height:16px;display:flex;color:#5B5B62;padding:10px;justify-content:end;' href='https://deepnote.com?utm_source=created-in-deepnote-cell&projectId=31152f18-3036-40d1-92d9-59f0bbdc0756' target=\"_blank\">\n<img alt='Created in deepnote.com' style='display:inline;max-height:16px;margin:0px;margin-right:7.5px;' src='data:image/svg+xml;base64,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' > </img>\nCreated in <span style='font-weight:600;margin-left:4px;'>Deepnote</span></a>",
   "metadata": {
    "tags": [],
    "created_in_deepnote_cell": true,
    "deepnote_cell_type": "markdown"
   }
  }
 ],
 "nbformat": 4,
 "nbformat_minor": 5,
 "metadata": {
  "hide_input": false,
  "kernelspec": {
   "display_name": "Python 3",
   "language": "python",
   "name": "python3"
  },
  "language_info": {
   "codemirror_mode": {
    "name": "ipython",
    "version": 3
   },
   "file_extension": ".py",
   "mimetype": "text/x-python",
   "name": "python",
   "nbconvert_exporter": "python",
   "pygments_lexer": "ipython3",
   "version": "3.8.8"
  },
  "deepnote_notebook_id": "12b4f505-a998-427f-b2b8-fe973430c0c1",
  "deepnote": {},
  "deepnote_execution_queue": []
 }
}