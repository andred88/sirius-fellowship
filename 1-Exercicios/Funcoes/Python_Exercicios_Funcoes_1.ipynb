{
 "cells": [
  {
   "cell_type": "markdown",
   "source": "# Exercício 1\n\nLer uma temperatura em graus Celsius e apresentá-la convertida em graus Fahrenheit. A fórmula de conversão é F = (9 * C + 160) / 5, na qual F é a temperatura em Fahrenheit e C é a temperatura em graus Celsius\n- Função para ler e retorna o valor da temperatura (não recebe parâmetro)\n- Função para fazer o cálculo (recebe como parâmetro a temperatura em graus Celsius)\n- Função para mostrar o resultado, recebendo como parâmetro o valor e fazendo a impressão\n",
   "metadata": {
    "cell_id": "117e6e7a-5905-4ab7-9394-a65721e9b527",
    "id": "c9BudZ2gNE2n",
    "deepnote_cell_type": "markdown",
    "deepnote_cell_height": 244
   }
  },
  {
   "cell_type": "code",
   "metadata": {
    "cell_id": "00001-7b4105aa-fa98-422f-9c5d-2e538f3dc456",
    "id": "SVlPSs0oS1XU",
    "deepnote_to_be_reexecuted": false,
    "source_hash": "58dd51b3",
    "execution_start": 1653415785196,
    "execution_millis": 13,
    "deepnote_cell_type": "code",
    "deepnote_cell_height": 99
   },
   "source": "def ler_temp():\n    return ler_temp",
   "execution_count": null,
   "outputs": []
  },
  {
   "cell_type": "code",
   "metadata": {
    "cell_id": "00002-084cefe5-25df-4603-b273-d9755954e0cb",
    "id": "nG8uZCHWd6z0",
    "deepnote_to_be_reexecuted": false,
    "source_hash": "b51f2037",
    "execution_start": 1653415911009,
    "execution_millis": 15,
    "deepnote_cell_type": "code",
    "deepnote_cell_height": 135
   },
   "source": "def calculo(c):\n    f = (9 * C + 160)\n    return\n    ",
   "execution_count": null,
   "outputs": []
  },
  {
   "cell_type": "code",
   "metadata": {
    "cell_id": "00003-df6105c3-e000-4357-9e61-989a550b3f04",
    "id": "byzWkAl0eG3X",
    "deepnote_to_be_reexecuted": false,
    "source_hash": "80430acb",
    "execution_start": 1653416049369,
    "execution_millis": 1,
    "deepnote_cell_type": "code",
    "deepnote_cell_height": 117
   },
   "source": "def conversao(c):\n    f = (9 * C + 160)\n    return f",
   "execution_count": null,
   "outputs": []
  },
  {
   "cell_type": "code",
   "metadata": {
    "cell_id": "00004-a7ee3187-9d49-4a9e-add5-8521eac80ace",
    "colab": {
     "base_uri": "https://localhost:8080/",
     "height": 50
    },
    "id": "I4JsEBXLeSUI",
    "outputId": "2bc1ae5b-8a84-484a-e485-1a0c7eaa54b9",
    "deepnote_cell_type": "code",
    "deepnote_cell_height": 66
   },
   "source": "",
   "execution_count": null,
   "outputs": []
  },
  {
   "cell_type": "markdown",
   "source": "# Exercício 2\n\nEfetuar o cálculo da quantidade de litros de combustível gasto em uma viagem, utilizando um automóvel que faz 12 Km por litro. Para obter o cálculo, o usuário deve fornecer o tempo gasto na viagem e a velocidade média durante ela. Desta forma, será possível obter a distância percorrida com a fórmula DISTANCIA = TEMPO * VELOCIDADE. Tendo o valor da distância, basta calcular a quantidade de litros de combustível utilizada na viagem, com a fórmula: LITROS_USADOS = DISTANCIA / 12. O programa deve apresentar os valores da velocidade média, tempo gasto na viagem, a distância percorrida e a quantidade de litros utilizada na viagem\n- Função para ler os valores (não recebe parâmetro e retorna os dois valores)\n- Função para calcular a distância (recebe como parâmetro o tempo e a velocidade e retorna a distância)\n- Função para calcular a quantidade de litros (recebe como parâmetro a distância e retorna os litros)\n- Função para apresentar o resultado (recebe como parâmetro os valores e somente imprime o resultado)",
   "metadata": {
    "cell_id": "00005-063dd9bf-21aa-41c3-8864-c85ab13e149e",
    "id": "-44bufKRbeBf",
    "deepnote_cell_type": "markdown",
    "deepnote_cell_height": 359
   }
  },
  {
   "cell_type": "code",
   "metadata": {
    "cell_id": "00006-718a04d8-0861-4efd-b128-b45e297ed927",
    "id": "GxlRNd_meyJA",
    "deepnote_to_be_reexecuted": false,
    "source_hash": "f3aa5c7b",
    "execution_start": 1653416151619,
    "execution_millis": 0,
    "deepnote_cell_type": "code",
    "deepnote_cell_height": 99
   },
   "source": "def trip(temp,vel):\n    return temp, vel",
   "execution_count": null,
   "outputs": []
  },
  {
   "cell_type": "code",
   "metadata": {
    "cell_id": "00007-c4686be2-c49a-4ea2-94f6-e377b6b49d21",
    "id": "GqJx1tabfWhA",
    "deepnote_to_be_reexecuted": false,
    "source_hash": "b460a2c3",
    "execution_start": 1653416196772,
    "execution_millis": 12,
    "deepnote_cell_type": "code",
    "deepnote_cell_height": 117
   },
   "source": "def trip(temp,vel):\n    dist = temp * vel\n    return dist",
   "execution_count": null,
   "outputs": []
  },
  {
   "cell_type": "code",
   "metadata": {
    "cell_id": "00009-1ae465dc-de61-4732-bb4e-53cd35f03362",
    "id": "TlebFchzfiQH",
    "deepnote_to_be_reexecuted": false,
    "source_hash": "b5afe25d",
    "execution_start": 1653416275762,
    "execution_millis": 2,
    "deepnote_cell_type": "code",
    "deepnote_cell_height": 117
   },
   "source": "def litros(dist):\n    litros_usados = dist / 12\n    return litros_usados",
   "execution_count": null,
   "outputs": []
  },
  {
   "cell_type": "code",
   "metadata": {
    "cell_id": "00008-ef748aba-bc94-4620-848e-10791ce2f9c5",
    "id": "ns5EY4mkfdAx",
    "deepnote_to_be_reexecuted": false,
    "source_hash": "e9026029",
    "execution_start": 1653416815641,
    "execution_millis": 4202,
    "deepnote_cell_type": "code",
    "deepnote_cell_height": 255.1999969482422
   },
   "source": "temp = int(input('insira o tempo'))\nvel = int(input('insira a velocidade'))\n\ndef trip(temp,vel):\n    dist = temp * vel\n    litros_usados = round((dist / 12), 2)\n    print(litros_usados)\n\ntrip(temp,vel)",
   "execution_count": null,
   "outputs": [
    {
     "name": "stdout",
     "text": "0.42\n",
     "output_type": "stream"
    }
   ]
  },
  {
   "cell_type": "markdown",
   "source": "<a style='text-decoration:none;line-height:16px;display:flex;color:#5B5B62;padding:10px;justify-content:end;' href='https://deepnote.com?utm_source=created-in-deepnote-cell&projectId=31152f18-3036-40d1-92d9-59f0bbdc0756' target=\"_blank\">\n<img alt='Created in deepnote.com' style='display:inline;max-height:16px;margin:0px;margin-right:7.5px;' src='data:image/svg+xml;base64,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' > </img>\nCreated in <span style='font-weight:600;margin-left:4px;'>Deepnote</span></a>",
   "metadata": {
    "tags": [],
    "created_in_deepnote_cell": true,
    "deepnote_cell_type": "markdown"
   }
  }
 ],
 "nbformat": 4,
 "nbformat_minor": 1,
 "metadata": {
  "colab": {
   "name": "Python Exercícios Funções.ipynb",
   "provenance": []
  },
  "deepnote": {},
  "deepnote_execution_queue": [],
  "deepnote_notebook_id": "8b05a228-d6f1-4b29-94b8-71bd3cd8fc44",
  "kernelspec": {
   "display_name": "Python 3",
   "language": "python",
   "name": "python3"
  },
  "language_info": {
   "codemirror_mode": {
    "name": "ipython",
    "version": 3
   },
   "file_extension": ".py",
   "mimetype": "text/x-python",
   "name": "python",
   "nbconvert_exporter": "python",
   "pygments_lexer": "ipython3",
   "version": "3.8.8"
  }
 }
}