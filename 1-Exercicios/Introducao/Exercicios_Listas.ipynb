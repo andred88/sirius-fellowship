{
 "cells": [
  {
   "cell_type": "markdown",
   "source": "#### Exercício 1 - Imprima a lista de nomes recebida em ordem alfabética crescente\n \n\n",
   "metadata": {
    "cell_id": "036020f6-40fc-4d37-8956-9a1ffcbd9766",
    "deepnote_cell_type": "markdown",
    "deepnote_cell_height": 54
   }
  },
  {
   "cell_type": "code",
   "metadata": {
    "cell_id": "00001-92dca95d-bb44-478b-9da6-11725d597b4a",
    "deepnote_cell_type": "code",
    "deepnote_cell_height": 66
   },
   "source": "a=['u', 'v','z','e','m']",
   "execution_count": null,
   "outputs": []
  },
  {
   "cell_type": "code",
   "metadata": {
    "cell_id": "00002-db5d4ed8-b4ca-4432-9477-62ff9f4c580b",
    "deepnote_to_be_reexecuted": false,
    "source_hash": "1378aee6",
    "execution_start": 1653418157673,
    "execution_millis": 0,
    "deepnote_cell_type": "code",
    "deepnote_cell_height": 147.1999969482422
   },
   "source": "a=['u', 'v','z','e','m']\na.sort()\nprint(a)",
   "execution_count": null,
   "outputs": [
    {
     "name": "stdout",
     "text": "['e', 'm', 'u', 'v', 'z']\n",
     "output_type": "stream"
    }
   ]
  },
  {
   "cell_type": "markdown",
   "source": "#### Exercício 2 - Imprima a lista de nomes recebida em ordem alfabética decrescente\n  ",
   "metadata": {
    "cell_id": "00003-1b874f76-0a7b-4838-bbd3-285e2d0b16af",
    "deepnote_cell_type": "markdown",
    "deepnote_cell_height": 54
   }
  },
  {
   "cell_type": "code",
   "metadata": {
    "cell_id": "00004-93f364c5-4ea9-48e4-8a82-84eefd026588",
    "deepnote_cell_type": "code",
    "deepnote_cell_height": 66
   },
   "source": "a=['u', 'v','z','e','m']",
   "execution_count": null,
   "outputs": []
  },
  {
   "cell_type": "code",
   "metadata": {
    "cell_id": "9956e10d9a2347f38f031c7921fed2c2",
    "tags": [],
    "deepnote_to_be_reexecuted": false,
    "source_hash": "6e7b7f98",
    "execution_start": 1653418265349,
    "execution_millis": 0,
    "deepnote_cell_type": "code",
    "deepnote_cell_height": 147.1999969482422
   },
   "source": "a=['u', 'v','z','e','m']\na.sort(reverse = True)\nprint(a)",
   "execution_count": null,
   "outputs": [
    {
     "name": "stdout",
     "text": "['z', 'v', 'u', 'm', 'e']\n",
     "output_type": "stream"
    }
   ]
  },
  {
   "cell_type": "markdown",
   "source": "##### Exercício 3 - Imprima o segundo elemento da lista recebida\n\n\n",
   "metadata": {
    "cell_id": "00005-2d469bed-9188-4283-b762-bdafd48d40a1",
    "deepnote_cell_type": "markdown",
    "deepnote_cell_height": 54
   }
  },
  {
   "cell_type": "code",
   "metadata": {
    "cell_id": "a07462a5e143467e86c22080c32f17b3",
    "tags": [],
    "deepnote_to_be_reexecuted": false,
    "source_hash": "6c6aee0a",
    "execution_start": 1653418332659,
    "execution_millis": 18,
    "deepnote_cell_type": "code",
    "deepnote_cell_height": 129.1999969482422
   },
   "source": "a=['u', 'v','z','e','m']\nprint(a[1])",
   "execution_count": null,
   "outputs": [
    {
     "name": "stdout",
     "text": "v\n",
     "output_type": "stream"
    }
   ]
  },
  {
   "cell_type": "markdown",
   "source": "##### Exercício 4 - Imprima o último elemento da lista recebida\n  \n",
   "metadata": {
    "cell_id": "00006-061bb844-f5d9-4dec-b97a-a5b5e01fbf4b",
    "deepnote_cell_type": "markdown",
    "deepnote_cell_height": 54
   }
  },
  {
   "cell_type": "code",
   "metadata": {
    "cell_id": "e50c2f7397694b2c8df2e998038bc7d3",
    "tags": [],
    "deepnote_to_be_reexecuted": false,
    "source_hash": "ca00dff4",
    "execution_start": 1653418705148,
    "execution_millis": 14,
    "deepnote_cell_type": "code",
    "deepnote_cell_height": 129.1999969482422
   },
   "source": "a=['u','v','z','e','m']\nprint(a[len(a)-1])",
   "execution_count": null,
   "outputs": [
    {
     "name": "stdout",
     "text": "m\n",
     "output_type": "stream"
    }
   ]
  },
  {
   "cell_type": "markdown",
   "source": "##### Exercício 5 -  Encontrar o erro no código abaixo\nObs: A lista não pode ser modificada\n \n\n",
   "metadata": {
    "cell_id": "00007-536becaf-ddf1-4ffc-8785-187df613d38d",
    "deepnote_cell_type": "markdown",
    "deepnote_cell_height": 88.39999389648438
   }
  },
  {
   "cell_type": "code",
   "metadata": {
    "cell_id": "00008-262d076c-fc23-48e1-bd01-79eced439709",
    "deepnote_to_be_reexecuted": false,
    "source_hash": "3c0a083b",
    "execution_start": 1653419322773,
    "execution_millis": 565,
    "deepnote_cell_type": "code",
    "deepnote_cell_height": 147.1999969482422
   },
   "source": "my_list = [1, 2, 3, 4, 5]\nprint(my_list[4])\n",
   "execution_count": null,
   "outputs": [
    {
     "name": "stdout",
     "text": "5\n",
     "output_type": "stream"
    }
   ]
  },
  {
   "cell_type": "markdown",
   "source": "##### Exercício 6 - Encontrar o erro no código abaixo\nobs.:my_list não deverá ser modificada\n\nÚltimo elemento da lista deverá ser removido\n  \n\n",
   "metadata": {
    "cell_id": "00009-9ab56a82-a98f-4a30-a28d-d12221c5ec1a",
    "deepnote_cell_type": "markdown",
    "deepnote_cell_height": 124.80000305175781
   }
  },
  {
   "cell_type": "code",
   "metadata": {
    "cell_id": "00010-46d2238f-a017-42cd-bba6-fbf56d41c501",
    "deepnote_to_be_reexecuted": false,
    "source_hash": "f87fcfd1",
    "execution_start": 1653419345710,
    "execution_millis": 2,
    "deepnote_cell_type": "code",
    "deepnote_cell_height": 147.1999969482422
   },
   "source": "my_list = [1, 2, 3, 4, 5]\nmy_list.remove(4)\nprint(my_list[0])",
   "execution_count": null,
   "outputs": [
    {
     "name": "stdout",
     "text": "1\n",
     "output_type": "stream"
    }
   ]
  },
  {
   "cell_type": "markdown",
   "source": "##### Exercício 8  -  Programa Python para trocar os primeiros e últimos elementos em uma lista",
   "metadata": {
    "cell_id": "00011-e067b7a9-a6bc-423f-8c8d-1a26a4e8826c",
    "deepnote_cell_type": "markdown",
    "deepnote_cell_height": 54
   }
  },
  {
   "cell_type": "markdown",
   "source": "Dada uma lista, escreva um programa Python para trocar o primeiro e o último elemento da lista.",
   "metadata": {
    "cell_id": "00012-8ea9fae6-98db-4631-ace2-ea7d4dfd2c99",
    "deepnote_cell_type": "markdown",
    "deepnote_cell_height": 52.399993896484375
   }
  },
  {
   "cell_type": "code",
   "metadata": {
    "cell_id": "00013-492e3ff6-f710-4480-a182-db14b1d6cb0e",
    "deepnote_cell_type": "code",
    "deepnote_cell_height": 192
   },
   "source": "Exemplos:\n \nInput : [12, 35, 9, 56, 24]\nOutput : [24, 35, 9, 56, 12]\n\nInput : [1, 2, 3]\nOutput : [3, 2, 1]\n",
   "execution_count": null,
   "outputs": []
  },
  {
   "cell_type": "code",
   "metadata": {
    "cell_id": "00014-e439d52d-4f97-45fc-bef2-04fbc3af0556",
    "deepnote_to_be_reexecuted": false,
    "source_hash": "2c683893",
    "execution_start": 1653421449717,
    "execution_millis": 563,
    "deepnote_cell_type": "code",
    "deepnote_cell_height": 183.1999969482422
   },
   "source": "lista1 = [12, 35, 9, 56, 24]\nlista1[0]=24\nlista1[4]=12\nprint(lista1)\n",
   "execution_count": null,
   "outputs": [
    {
     "name": "stdout",
     "text": "[24, 35, 9, 56, 12]\n",
     "output_type": "stream"
    }
   ]
  },
  {
   "cell_type": "code",
   "metadata": {
    "cell_id": "00015-99761685-d497-41ae-8e72-8d376bea7156",
    "owner_user_id": "f3b685db-82a0-4f74-9158-9e3d6de2c3bf",
    "deepnote_to_be_reexecuted": false,
    "source_hash": "95cc99f1",
    "execution_start": 1653421472562,
    "execution_millis": 13,
    "deepnote_cell_type": "code",
    "deepnote_cell_height": 135
   },
   "source": "lista2 = [1, 2, 3]\nlista2[0]=3\nlista2[2]=1\nprint(lista2)",
   "execution_count": null,
   "outputs": [
    {
     "name": "stdout",
     "text": "[3, 2, 1]\n",
     "output_type": "stream"
    }
   ]
  },
  {
   "cell_type": "markdown",
   "source": "<a style='text-decoration:none;line-height:16px;display:flex;color:#5B5B62;padding:10px;justify-content:end;' href='https://deepnote.com?utm_source=created-in-deepnote-cell&projectId=31152f18-3036-40d1-92d9-59f0bbdc0756' target=\"_blank\">\n<img alt='Created in deepnote.com' style='display:inline;max-height:16px;margin:0px;margin-right:7.5px;' src='data:image/svg+xml;base64,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' > </img>\nCreated in <span style='font-weight:600;margin-left:4px;'>Deepnote</span></a>",
   "metadata": {
    "tags": [],
    "created_in_deepnote_cell": true,
    "deepnote_cell_type": "markdown"
   }
  }
 ],
 "nbformat": 4,
 "nbformat_minor": 5,
 "metadata": {
  "kernelspec": {
   "display_name": "Python 3",
   "language": "python",
   "name": "python3"
  },
  "language_info": {
   "codemirror_mode": {
    "name": "ipython",
    "version": 3
   },
   "file_extension": ".py",
   "mimetype": "text/x-python",
   "name": "python",
   "nbconvert_exporter": "python",
   "pygments_lexer": "ipython3",
   "version": "3.8.8"
  },
  "deepnote_notebook_id": "edcce7df-dcbf-4662-a482-6d21be009b17",
  "deepnote": {},
  "deepnote_execution_queue": []
 }
}