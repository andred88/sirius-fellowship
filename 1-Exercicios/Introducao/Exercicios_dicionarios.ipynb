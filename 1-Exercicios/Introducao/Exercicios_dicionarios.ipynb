{
 "cells": [
  {
   "cell_type": "markdown",
   "source": "#### Exercício 1 - No dicionário 'my_dict' são armazenados as notas de alunos\n##### Imprima a nota do aluno 'Júlio'\n",
   "metadata": {
    "cell_id": "255ad5c7-21be-411e-ac7c-79f97160ffdb",
    "deepnote_cell_type": "markdown",
    "deepnote_cell_height": 90
   }
  },
  {
   "cell_type": "code",
   "metadata": {
    "cell_id": "00001-0255480e-33aa-462e-b781-7fcda38a5b60",
    "deepnote_to_be_reexecuted": false,
    "source_hash": "a6824e04",
    "execution_start": 1653505145176,
    "execution_millis": 5,
    "deepnote_cell_type": "code",
    "deepnote_cell_height": 171
   },
   "source": "my_dict = {\n    'Ana': 10,\n    'Júlio': 8,\n    'Antônio': 9,\n    'Maria': 7\n}",
   "outputs": [],
   "execution_count": null
  },
  {
   "cell_type": "code",
   "source": "print(my_dict['Júlio'])",
   "metadata": {
    "cell_id": "3471d9f662a7413bac06fed1fe4665bb",
    "tags": [],
    "deepnote_to_be_reexecuted": false,
    "source_hash": "6b73673d",
    "execution_start": 1653505148963,
    "execution_millis": 195,
    "deepnote_cell_type": "code",
    "deepnote_cell_height": 111.19999694824219
   },
   "outputs": [
    {
     "name": "stdout",
     "text": "8\n",
     "output_type": "stream"
    }
   ],
   "execution_count": null
  },
  {
   "cell_type": "markdown",
   "source": "##### Exercício 2 -No dicionário 'my_dict' são armazenados as notas de alunos, mas a aluna 'Ana' faz mais parte da turma\n##### Imprima my_dict revisada com a exclusão da aluna 'Ana'\n  ",
   "metadata": {
    "cell_id": "00002-a4046979-454a-4c2a-bada-7984e72fd659",
    "deepnote_cell_type": "markdown",
    "deepnote_cell_height": 98
   }
  },
  {
   "cell_type": "code",
   "metadata": {
    "cell_id": "00003-cab44aef-653f-4d8c-8b09-ae6b0bef201a",
    "deepnote_to_be_reexecuted": false,
    "source_hash": "acc80434",
    "execution_start": 1653505179555,
    "execution_millis": 3,
    "deepnote_cell_type": "code",
    "deepnote_cell_height": 171
   },
   "source": "my_dict = {\n    'Ana': 10,\n    'Júlio': 8,\n    'Antônio': 9,\n    'Maria': 7\n  }",
   "outputs": [],
   "execution_count": null
  },
  {
   "cell_type": "code",
   "source": "del my_dict['Ana']\nprint(my_dict)",
   "metadata": {
    "cell_id": "3ff1d1ec605649319a6c056d040e502f",
    "tags": [],
    "deepnote_to_be_reexecuted": false,
    "source_hash": "99a99726",
    "execution_start": 1653505396260,
    "execution_millis": 0,
    "deepnote_cell_type": "code",
    "deepnote_cell_height": 129.1999969482422
   },
   "outputs": [
    {
     "name": "stdout",
     "text": "{'Júlio': 8, 'Antônio': 9, 'Maria': 7}\n",
     "output_type": "stream"
    }
   ],
   "execution_count": null
  },
  {
   "cell_type": "markdown",
   "source": "##### Exercício 3 - No dicionário 'my_dict' são armazenados as notas de alunos, a aluna 'Carla' acabou de entrar na turma\n##### Imprima my_dict revisada com a inclusão da aluna 'Carla' e sua nota 0, pois ela ainda fará seus exercícios\n  ",
   "metadata": {
    "cell_id": "00004-d0359796-897a-421c-a94e-4585b8347738",
    "deepnote_cell_type": "markdown",
    "deepnote_cell_height": 98
   }
  },
  {
   "cell_type": "code",
   "metadata": {
    "cell_id": "00005-14f69b38-8087-48c7-a8b4-b2aca429c8b2",
    "deepnote_to_be_reexecuted": false,
    "source_hash": "acc80434",
    "execution_start": 1653505436233,
    "execution_millis": 0,
    "deepnote_cell_type": "code",
    "deepnote_cell_height": 171
   },
   "source": "my_dict = {\n    'Ana': 10,\n    'Júlio': 8,\n    'Antônio': 9,\n    'Maria': 7\n  }",
   "outputs": [],
   "execution_count": null
  },
  {
   "cell_type": "code",
   "source": "my_dict['Carla'] = '0'\nprint(my_dict)",
   "metadata": {
    "cell_id": "a11c4e0502b64b0b8d2ae9a37f1841cc",
    "tags": [],
    "deepnote_to_be_reexecuted": false,
    "source_hash": "85206edb",
    "execution_start": 1653505487780,
    "execution_millis": 3,
    "deepnote_cell_type": "code",
    "deepnote_cell_height": 129.1999969482422
   },
   "outputs": [
    {
     "name": "stdout",
     "text": "{'Ana': 10, 'Júlio': 8, 'Antônio': 9, 'Maria': 7, 'Carla': '0'}\n",
     "output_type": "stream"
    }
   ],
   "execution_count": null
  },
  {
   "cell_type": "markdown",
   "source": "##### Exercício 4 - Encontrar o erro no código abaixo\n##### my_dict não deverá ser modificada\n  ",
   "metadata": {
    "cell_id": "00006-26714afe-0974-432a-90b4-2712588e8af8",
    "deepnote_cell_type": "markdown",
    "deepnote_cell_height": 98
   }
  },
  {
   "cell_type": "code",
   "metadata": {
    "cell_id": "00007-e17d79ad-abfc-4769-9aba-ac40118d00da",
    "owner_user_id": "f3b685db-82a0-4f74-9158-9e3d6de2c3bf",
    "deepnote_to_be_reexecuted": false,
    "source_hash": "d6158bbf",
    "execution_start": 1653505511687,
    "execution_millis": 8,
    "deepnote_cell_type": "code",
    "deepnote_cell_height": 174
   },
   "source": "my_dict = {\n      'Ana': 10,\n      'Júlio': 8,\n      'Antônio': 9,\n      'Maria': 7\n    }\nprint(my_dict['Maria'])",
   "outputs": [
    {
     "name": "stdout",
     "text": "7\n",
     "output_type": "stream"
    }
   ],
   "execution_count": null
  },
  {
   "cell_type": "code",
   "metadata": {
    "cell_id": "00008-fbc3c0ff-a2b5-4605-9481-afc9975424ea",
    "deepnote_cell_type": "code",
    "deepnote_cell_height": 66
   },
   "source": "",
   "execution_count": null,
   "outputs": []
  },
  {
   "cell_type": "markdown",
   "source": "<a style='text-decoration:none;line-height:16px;display:flex;color:#5B5B62;padding:10px;justify-content:end;' href='https://deepnote.com?utm_source=created-in-deepnote-cell&projectId=31152f18-3036-40d1-92d9-59f0bbdc0756' target=\"_blank\">\n<img alt='Created in deepnote.com' style='display:inline;max-height:16px;margin:0px;margin-right:7.5px;' src='data:image/svg+xml;base64,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' > </img>\nCreated in <span style='font-weight:600;margin-left:4px;'>Deepnote</span></a>",
   "metadata": {
    "tags": [],
    "created_in_deepnote_cell": true,
    "deepnote_cell_type": "markdown"
   }
  }
 ],
 "nbformat": 4,
 "nbformat_minor": 5,
 "metadata": {
  "kernelspec": {
   "display_name": "Python 3",
   "language": "python",
   "name": "python3"
  },
  "language_info": {
   "codemirror_mode": {
    "name": "ipython",
    "version": 3
   },
   "file_extension": ".py",
   "mimetype": "text/x-python",
   "name": "python",
   "nbconvert_exporter": "python",
   "pygments_lexer": "ipython3",
   "version": "3.8.8"
  },
  "deepnote_notebook_id": "d30be16f-1d10-4eb0-9089-f06164ea5448",
  "deepnote": {},
  "deepnote_execution_queue": []
 }
}