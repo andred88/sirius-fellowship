{
 "cells": [
  {
   "cell_type": "code",
   "metadata": {
    "cell_id": "2d9dace3-8651-4ae5-827b-de8276cd19d2",
    "deepnote_to_be_reexecuted": false,
    "execution_millis": 44,
    "execution_start": 1653154023818,
    "source_hash": "b623e53d",
    "tags": [],
    "deepnote_cell_type": "code",
    "deepnote_cell_height": 81
   },
   "source": "",
   "execution_count": 0,
   "outputs": []
  },
  {
   "cell_type": "markdown",
   "source": "## Exercício 1\n\nEscreva um programa que pede o raio(r) de um círculo para o usuário, e em seguida exiba o perímetro(P) e área(A) do círculo.\n\nDica, para saber o valor de pi, use:\n\nimport math\n\nprint(math.pi)",
   "metadata": {
    "cell_id": "095ca695962a457c843a1ee5b9ca8e4e",
    "tags": [],
    "deepnote_cell_type": "markdown",
    "deepnote_cell_height": 217.60000610351562
   }
  },
  {
   "cell_type": "markdown",
   "source": "",
   "metadata": {
    "cell_id": "34d955ba1aaf45a6b90399d846171c01",
    "tags": [],
    "deepnote_cell_type": "markdown",
    "deepnote_cell_height": 46
   }
  },
  {
   "cell_type": "code",
   "metadata": {
    "cell_id": "50c9e32491054f3192f0c6a178aac1fd",
    "deepnote_to_be_reexecuted": false,
    "execution_millis": 11193,
    "execution_start": 1653154023862,
    "source_hash": "ebea5b5c",
    "tags": [],
    "deepnote_cell_type": "code",
    "deepnote_cell_height": 165.1999969482422
   },
   "source": "import math\nraio = int(input('Insira o raio de um circulo '))\nperimetro = (2 * math.pi * raio)\nprint(perimetro)",
   "execution_count": null,
   "outputs": [
    {
     "name": "stdout",
     "text": "18.84955592153876\n",
     "output_type": "stream"
    }
   ]
  },
  {
   "cell_type": "code",
   "metadata": {
    "cell_id": "82f1dc7d1d614b9c8691362ed9ee02e3",
    "deepnote_to_be_reexecuted": false,
    "execution_millis": 17,
    "execution_start": 1653154035066,
    "source_hash": "b623e53d",
    "tags": [],
    "deepnote_cell_type": "code",
    "deepnote_cell_height": 81
   },
   "source": "",
   "execution_count": null,
   "outputs": []
  },
  {
   "cell_type": "markdown",
   "source": "## Exercício 2\nLer uma temperatura em graus Celsius e apresentá-la convertida em graus Fahrenheit.\nA fórmula de conversão é F = (9 * C + 160) / 5, na qual F é a temperatura em Fahrenheit e\nC é a temperatura em graus Celsius '''\n",
   "metadata": {
    "cell_id": "3489806b0785465fa3db48a2a78f9eac",
    "tags": [],
    "deepnote_cell_type": "markdown",
    "deepnote_cell_height": 130.8000030517578
   }
  },
  {
   "cell_type": "code",
   "metadata": {
    "cell_id": "224445bd4e7c441d8e6675af92318bc8",
    "tags": [],
    "deepnote_to_be_reexecuted": false,
    "source_hash": "432e4c63",
    "execution_start": 1653154035096,
    "execution_millis": 3890,
    "deepnote_cell_type": "code",
    "deepnote_cell_height": 180.1999969482422
   },
   "source": "c = int(input('Insira a temperatura em graus celcius para conversão: '))\nf = (9 * c + 160)\nprint('{} ºC equivalem a {} ºF'.format(c,f))",
   "execution_count": null,
   "outputs": [
    {
     "output_type": "error",
     "ename": "ValueError",
     "evalue": "invalid literal for int() with base 10: ''",
     "traceback": [
      "\u001b[0;31m---------------------------------------------------------------------------\u001b[0m",
      "\u001b[0;31mValueError\u001b[0m                                Traceback (most recent call last)",
      "\u001b[0;32m<ipython-input-2-2549d20ab860>\u001b[0m in \u001b[0;36m<module>\u001b[0;34m\u001b[0m\n\u001b[0;32m----> 1\u001b[0;31m \u001b[0mc\u001b[0m \u001b[0;34m=\u001b[0m \u001b[0mint\u001b[0m\u001b[0;34m(\u001b[0m\u001b[0minput\u001b[0m\u001b[0;34m(\u001b[0m\u001b[0;34m'Insira a temperatura em graus celcius para conversão: '\u001b[0m\u001b[0;34m)\u001b[0m\u001b[0;34m)\u001b[0m\u001b[0;34m\u001b[0m\u001b[0;34m\u001b[0m\u001b[0m\n\u001b[0m\u001b[1;32m      2\u001b[0m \u001b[0mf\u001b[0m \u001b[0;34m=\u001b[0m \u001b[0;34m(\u001b[0m\u001b[0;36m9\u001b[0m \u001b[0;34m*\u001b[0m \u001b[0mc\u001b[0m \u001b[0;34m+\u001b[0m \u001b[0;36m160\u001b[0m\u001b[0;34m)\u001b[0m\u001b[0;34m\u001b[0m\u001b[0;34m\u001b[0m\u001b[0m\n\u001b[1;32m      3\u001b[0m \u001b[0mprint\u001b[0m\u001b[0;34m(\u001b[0m\u001b[0;34m'{} ºC equivalem a {} ºF'\u001b[0m\u001b[0;34m.\u001b[0m\u001b[0mformat\u001b[0m\u001b[0;34m(\u001b[0m\u001b[0mc\u001b[0m\u001b[0;34m,\u001b[0m\u001b[0mf\u001b[0m\u001b[0;34m)\u001b[0m\u001b[0;34m)\u001b[0m\u001b[0;34m\u001b[0m\u001b[0;34m\u001b[0m\u001b[0m\n",
      "\u001b[0;31mValueError\u001b[0m: invalid literal for int() with base 10: ''"
     ]
    }
   ]
  },
  {
   "cell_type": "markdown",
   "source": "## Exercício 3 \n\nLer os valores de comprimento, largura e altura e apresentar o valor do volume de uma\ncaixa retangular. Utilize para o cálculo a fórmula: VOLUME = COMPRIMENTO * LARGURA * ALTURA",
   "metadata": {
    "cell_id": "13b09b310251437ebba73a3df2349524",
    "tags": [],
    "deepnote_cell_type": "markdown",
    "deepnote_cell_height": 130.8000030517578
   }
  },
  {
   "cell_type": "code",
   "metadata": {
    "cell_id": "c52144fee5a04652a0c5c66f62506151",
    "deepnote_to_be_reexecuted": true,
    "execution_millis": 4259,
    "execution_start": 1653154012337,
    "source_hash": "4beff7ff",
    "tags": [],
    "owner_user_id": "f3b685db-82a0-4f74-9158-9e3d6de2c3bf",
    "deepnote_cell_type": "code",
    "deepnote_cell_height": 183.1999969482422
   },
   "source": "comprimento = int(input('Insira o comprimento da caixa: '))\nlargura = int(input('Insira a largura da caixa: '))\naltura = int(input('Insira a altura da caixa: '))\nvolume = comprimento * largura * altura\nprint('O volume da caixa retangular é {}'.format(volume))",
   "execution_count": null,
   "outputs": [
    {
     "name": "stdout",
     "text": "O volume da caixa retangular é 125\n",
     "output_type": "stream"
    }
   ]
  },
  {
   "cell_type": "code",
   "metadata": {
    "cell_id": "9fd42bd766c54036bdf739e5ba06fc6a",
    "deepnote_to_be_reexecuted": true,
    "source_hash": "b623e53d",
    "tags": [],
    "execution_start": 1653153556250,
    "deepnote_cell_type": "code",
    "deepnote_cell_height": 81
   },
   "source": "",
   "execution_count": null,
   "outputs": []
  },
  {
   "cell_type": "markdown",
   "source": "<a style='text-decoration:none;line-height:16px;display:flex;color:#5B5B62;padding:10px;justify-content:end;' href='https://deepnote.com?utm_source=created-in-deepnote-cell&projectId=31152f18-3036-40d1-92d9-59f0bbdc0756' target=\"_blank\">\n<img alt='Created in deepnote.com' style='display:inline;max-height:16px;margin:0px;margin-right:7.5px;' src='data:image/svg+xml;base64,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' > </img>\nCreated in <span style='font-weight:600;margin-left:4px;'>Deepnote</span></a>",
   "metadata": {
    "tags": [],
    "created_in_deepnote_cell": true,
    "deepnote_cell_type": "markdown"
   }
  }
 ],
 "nbformat": 4,
 "nbformat_minor": 2,
 "metadata": {
  "deepnote": {},
  "deepnote_execution_queue": [],
  "deepnote_notebook_id": "b76372bf-ada3-4654-9d59-e3ecffb3ca7d",
  "kernelspec": {
   "display_name": "Python 3",
   "language": "python",
   "name": "python3"
  },
  "language_info": {
   "codemirror_mode": {
    "name": "ipython",
    "version": 3
   },
   "file_extension": ".py",
   "mimetype": "text/x-python",
   "name": "python",
   "nbconvert_exporter": "python",
   "pygments_lexer": "ipython3",
   "version": "3.8.8"
  }
 }
}