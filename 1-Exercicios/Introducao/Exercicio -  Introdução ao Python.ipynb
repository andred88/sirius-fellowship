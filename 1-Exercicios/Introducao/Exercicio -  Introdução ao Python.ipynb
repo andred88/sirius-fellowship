{
 "cells": [
  {
   "cell_type": "markdown",
   "source": "<div>\n    <p style=\"float: right;\"><img src=\"https://media.swipepages.com/2021/2/sirius-logo-principal-tag-1-300.png\" height=\"80px\"border=\"1px\"></p>\n    \n</div>\n<h1>Nano Desafio 1 </h1>\n<h2> Exercícios iniciais em python </h2>\n\nAluno: André Luiz Deitos\n\nData: 24/05/2022\n\n\n",
   "metadata": {
    "cell_id": "00001-9059c58a-7002-4ff3-b2cc-c2ee2f4cdd95",
    "tags": [],
    "deepnote_cell_type": "markdown",
    "deepnote_cell_height": 196.8000030517578
   }
  },
  {
   "cell_type": "markdown",
   "source": "<h3> Primeiro desafio </h3>\n\nEstamos usando notebooks(no caso usando DeepNote) para escrever códigos. Existem várias formas de programar em Python, inclusive usando editores de texto como o VSCode por exemplo.\n\n\nVamos precisar que você *baixe* esse notebook e salve na sua pasta no DeepNote para que possa resolver os exercícios!",
   "metadata": {
    "cell_id": "00001-3484bef7-70cf-44b1-8e45-48ba8ff5a84e",
    "tags": [],
    "deepnote_cell_type": "markdown",
    "deepnote_cell_height": 143.1999969482422
   }
  },
  {
   "cell_type": "markdown",
   "source": "## Exercício 1\nImprima o seu nome usando a função padrão do python - print()\n",
   "metadata": {
    "cell_id": "00002-81b8b9f9-efcd-47bb-a0e7-2386e20f6603",
    "tags": [],
    "deepnote_cell_type": "markdown",
    "deepnote_cell_height": 108.39999389648438
   }
  },
  {
   "cell_type": "code",
   "metadata": {
    "cell_id": "00003-5edf5498-3690-4de8-b9d3-491a2d065abe",
    "deepnote_to_be_reexecuted": false,
    "source_hash": "a5787390",
    "execution_start": 1653433677719,
    "deepnote_cell_type": "code",
    "deepnote_cell_height": 111.19999694824219
   },
   "source": "print('André')",
   "execution_count": null,
   "outputs": [
    {
     "name": "stdout",
     "text": "André\n",
     "output_type": "stream"
    }
   ]
  },
  {
   "cell_type": "markdown",
   "source": "## Exercício 2\nImprima o seu nome e sobrenome usando a função padrão do python mas em linhas diferentes",
   "metadata": {
    "cell_id": "00003-bcf5a961-9eed-41a3-8a9a-1f2537f8a1ec",
    "tags": [],
    "deepnote_cell_type": "markdown",
    "deepnote_cell_height": 108.39999389648438
   }
  },
  {
   "cell_type": "code",
   "metadata": {
    "cell_id": "00005-470465ea-42b5-4fa1-a786-1c1c403a1fc5",
    "deepnote_to_be_reexecuted": false,
    "source_hash": "be760162",
    "execution_start": 1653433684447,
    "execution_millis": 331,
    "deepnote_cell_type": "code",
    "deepnote_cell_height": 148.39999389648438
   },
   "source": "print('André')\nprint('Deitos')",
   "execution_count": null,
   "outputs": [
    {
     "name": "stdout",
     "text": "André\nDeitos\n",
     "output_type": "stream"
    }
   ]
  },
  {
   "cell_type": "markdown",
   "source": "## Exercício 3\nVocê consegue repetir o exercício 2 mas agora apenas uma vez o comando \"print\" ?",
   "metadata": {
    "cell_id": "00004-20839cdd-e6f4-4118-9b12-44e1f536ac51",
    "tags": [],
    "deepnote_cell_type": "markdown",
    "deepnote_cell_height": 108.39999389648438
   }
  },
  {
   "cell_type": "code",
   "metadata": {
    "cell_id": "00007-63c7546a-074e-4dc0-ac1a-38003f579acf",
    "deepnote_to_be_reexecuted": false,
    "source_hash": "e125ad35",
    "execution_start": 1653433815085,
    "execution_millis": 1,
    "deepnote_cell_type": "code",
    "deepnote_cell_height": 166.39999389648438
   },
   "source": "print('André \\nDeitos')\n\n",
   "execution_count": null,
   "outputs": [
    {
     "name": "stdout",
     "text": "André \nDeitos\n",
     "output_type": "stream"
    }
   ]
  },
  {
   "cell_type": "markdown",
   "source": "## Exercício 4\nImprima a subtração de 2 números!",
   "metadata": {
    "cell_id": "00005-5cff4d10-02a1-4ae7-a49f-53da9ea1172e",
    "tags": [],
    "deepnote_cell_type": "markdown",
    "deepnote_cell_height": 108.39999389648438
   }
  },
  {
   "cell_type": "code",
   "metadata": {
    "cell_id": "00009-52cae04e-6b60-4ac0-9dbc-fc633334d608",
    "deepnote_to_be_reexecuted": false,
    "source_hash": "64c64bb8",
    "execution_start": 1653433840197,
    "execution_millis": 4,
    "deepnote_cell_type": "code",
    "deepnote_cell_height": 111.19999694824219
   },
   "source": "print(4-2)",
   "execution_count": null,
   "outputs": [
    {
     "name": "stdout",
     "text": "2\n",
     "output_type": "stream"
    }
   ]
  },
  {
   "cell_type": "markdown",
   "source": "## Exercício 5\nImprima a soma de 2 números a sua escolha",
   "metadata": {
    "cell_id": "00006-6c152d9f-43ce-41a1-9ed1-737f2b07f7f7",
    "tags": [],
    "deepnote_cell_type": "markdown",
    "deepnote_cell_height": 108.39999389648438
   }
  },
  {
   "cell_type": "code",
   "metadata": {
    "cell_id": "00011-7202b066-7ece-4f13-a5ae-fca9e6fb4d0a",
    "deepnote_to_be_reexecuted": false,
    "source_hash": "91667fac",
    "execution_start": 1653433872879,
    "execution_millis": 5,
    "deepnote_cell_type": "code",
    "deepnote_cell_height": 111.19999694824219
   },
   "source": "print(4+2)",
   "execution_count": null,
   "outputs": [
    {
     "name": "stdout",
     "text": "6\n",
     "output_type": "stream"
    }
   ]
  },
  {
   "cell_type": "markdown",
   "source": "## Exercício 6\nQuanto é 8 elevado a potencia 4",
   "metadata": {
    "cell_id": "00007-0835fb45-dad9-48b4-b456-e785013d9e90",
    "tags": [],
    "deepnote_cell_type": "markdown",
    "deepnote_cell_height": 108.39999389648438
   }
  },
  {
   "cell_type": "code",
   "metadata": {
    "cell_id": "00013-08ace02a-08a4-46d6-92ac-3a01372d995e",
    "deepnote_to_be_reexecuted": false,
    "source_hash": "7a2e32e7",
    "execution_start": 1653433895801,
    "execution_millis": 2,
    "deepnote_cell_type": "code",
    "deepnote_cell_height": 111.19999694824219
   },
   "source": "print(8**4)",
   "execution_count": null,
   "outputs": [
    {
     "name": "stdout",
     "text": "4096\n",
     "output_type": "stream"
    }
   ]
  },
  {
   "cell_type": "markdown",
   "source": "## Exercício 7\n**Split esta string:**\n \n s = 'Eu sou uma string que vou virar uma lista após você aplicar o split, \"me splita?\"'",
   "metadata": {
    "cell_id": "00008-b610cffe-c267-400d-975d-660028fcbe9a",
    "tags": [],
    "deepnote_cell_type": "markdown",
    "deepnote_cell_height": 144.8000030517578
   }
  },
  {
   "cell_type": "code",
   "metadata": {
    "cell_id": "b1e897a876b945e7a2fe2ca579d268b2",
    "tags": [],
    "deepnote_to_be_reexecuted": false,
    "source_hash": "4f0cc3ee",
    "execution_start": 1653434136460,
    "execution_millis": 93,
    "deepnote_cell_type": "code",
    "deepnote_cell_height": 129.1999969482422
   },
   "source": "s = 'Eu sou uma string que vou virar uma lista após você aplicar o split, \"me splita?\"'\nprint(s.split())",
   "execution_count": null,
   "outputs": [
    {
     "name": "stdout",
     "text": "['Eu', 'sou', 'uma', 'string', 'que', 'vou', 'virar', 'uma', 'lista', 'após', 'você', 'aplicar', 'o', 'split,', '\"me', 'splita?\"']\n",
     "output_type": "stream"
    }
   ]
  },
  {
   "cell_type": "markdown",
   "source": "## Exercício 8\nCrie duas variáveis com valores inteiros <br>\nImprima a soma dessas duas variáveis <br>",
   "metadata": {
    "cell_id": "00010-9aa226a4-1322-4ff5-afca-97327ec31617",
    "tags": [],
    "deepnote_cell_type": "markdown",
    "deepnote_cell_height": 130.8000030517578
   }
  },
  {
   "cell_type": "code",
   "metadata": {
    "cell_id": "00017-76514768-fdab-44eb-bb10-da65873778a6",
    "deepnote_to_be_reexecuted": false,
    "source_hash": "3e572c2c",
    "execution_start": 1653434192426,
    "execution_millis": 8,
    "deepnote_cell_type": "code",
    "deepnote_cell_height": 147.1999969482422
   },
   "source": "valor1 = int(5)\nvalor2 = int(10)\nprint(valor1+valor2)",
   "execution_count": null,
   "outputs": [
    {
     "name": "stdout",
     "text": "15\n",
     "output_type": "stream"
    }
   ]
  },
  {
   "cell_type": "markdown",
   "source": "## Exercício 9\nCrie duas variáveis que irão receber os valores do usuário <br>\nImprima a soma dessas duas variáveis <br>",
   "metadata": {
    "cell_id": "00011-87b91a4e-677e-4645-af3a-bc27d107b009",
    "tags": [],
    "deepnote_cell_type": "markdown",
    "deepnote_cell_height": 130.8000030517578
   }
  },
  {
   "cell_type": "code",
   "metadata": {
    "cell_id": "00019-9cc7dfa1-7df5-4f89-a8fb-ca25281172c5",
    "deepnote_to_be_reexecuted": false,
    "source_hash": "46eac550",
    "execution_start": 1653434340841,
    "execution_millis": 3317,
    "deepnote_cell_type": "code",
    "deepnote_cell_height": 147.1999969482422
   },
   "source": "valor1 = float(input('Valor 1'))\nvalor2 = float(input('Valor 2'))\nprint(valor1 + valor2)",
   "execution_count": null,
   "outputs": [
    {
     "name": "stdout",
     "text": "20.0\n",
     "output_type": "stream"
    }
   ]
  },
  {
   "cell_type": "markdown",
   "source": "## Exercício 10\nQual dos seguintes comandos em Python exibe o número 4?(Ei, responda antes de executar!😇)",
   "metadata": {
    "cell_id": "00012-04d6af7e-4b24-45fd-b5b4-2357dec40669",
    "tags": [],
    "deepnote_cell_type": "markdown",
    "deepnote_cell_height": 108.39999389648438
   }
  },
  {
   "cell_type": "markdown",
   "source": "1. Print(4)\n2. print 2+2\n3. print(7-3)\n4. Print('4')",
   "metadata": {
    "cell_id": "00021-bebd45c7-e6f1-4e5f-83e7-1e448cfc0a0d",
    "deepnote_cell_type": "markdown",
    "deepnote_cell_height": 145.60000610351562
   }
  },
  {
   "cell_type": "markdown",
   "source": "3",
   "metadata": {
    "cell_id": "00022-ba1f5880-9885-4cd0-ac66-447e74fb6e81",
    "deepnote_cell_type": "markdown",
    "deepnote_cell_height": 52.399993896484375
   }
  },
  {
   "cell_type": "markdown",
   "source": "## Exercício 11\nCrie um programa que peça ao usuário para digitar seu nome e sua idade. Imprima uma mensagem endereçada a eles informando o ano em que completarão 100 anos.",
   "metadata": {
    "cell_id": "00013-fcca80d7-7979-4aa5-aba2-e72369c2fb69",
    "tags": [],
    "deepnote_cell_type": "markdown",
    "deepnote_cell_height": 130.8000030517578
   }
  },
  {
   "cell_type": "code",
   "metadata": {
    "cell_id": "00024-a0228df6-67c0-44c5-b19c-156a6458f880",
    "deepnote_to_be_reexecuted": false,
    "source_hash": "7df5e2db",
    "execution_start": 1653435140141,
    "execution_millis": 6770,
    "deepnote_cell_type": "code",
    "deepnote_cell_height": 165.1999969482422
   },
   "source": "nome = input('Qual seu nome: ')\nidade = int(input('Qual sua idade: '))\nano = 2022+(100-idade)\nprint('{} você terá 100 no ano de {}'.format(nome,ano))",
   "execution_count": null,
   "outputs": [
    {
     "name": "stdout",
     "text": "And você terá 100 no ano de 2119\n",
     "output_type": "stream"
    }
   ]
  },
  {
   "cell_type": "markdown",
   "source": "## Exercício 12\nFaça um programa que, dada a entrada do usuário em metros, transforme para milímetros",
   "metadata": {
    "cell_id": "00014-33346b94-ae79-42e1-a53a-4403c15fc59d",
    "tags": [],
    "deepnote_cell_type": "markdown",
    "deepnote_cell_height": 108.39999389648438
   }
  },
  {
   "cell_type": "code",
   "metadata": {
    "cell_id": "00026-35411dd8-f39b-4261-92a4-dfd4c74305a2",
    "deepnote_to_be_reexecuted": false,
    "source_hash": "315ffbaa",
    "execution_start": 1653435296882,
    "execution_millis": 5546,
    "deepnote_cell_type": "code",
    "deepnote_cell_height": 129.1999969482422
   },
   "source": "metros = float(input('Inisira uma medida em metros'))\nprint(metros*1000)",
   "execution_count": null,
   "outputs": [
    {
     "name": "stdout",
     "text": "10000.0\n",
     "output_type": "stream"
    }
   ]
  },
  {
   "cell_type": "markdown",
   "source": "## Exercício 13\nDado o número de dias, horas e minutos, transforme tudo para segundos e some o resultado!",
   "metadata": {
    "cell_id": "00015-b23a0380-40f6-4c72-9e3d-c4454e1204c4",
    "tags": [],
    "deepnote_cell_type": "markdown",
    "deepnote_cell_height": 108.39999389648438
   }
  },
  {
   "cell_type": "code",
   "metadata": {
    "cell_id": "00028-f03c9032-0ae0-461c-88c9-ff68769a2c68",
    "deepnote_to_be_reexecuted": false,
    "source_hash": "91061f33",
    "execution_start": 1653436122772,
    "execution_millis": 4220,
    "deepnote_cell_type": "code",
    "deepnote_cell_height": 425.20001220703125,
    "deepnote_output_heights": [
     194
    ]
   },
   "source": "dias = float(input('Numero de dias'))\nhoras = float(input('Número de horas'))\nminutos = int(input('Número de minutos'))\nsegundos = (dias*24*60*60) + (horas*60*60) + (minutos*60)\nprint(segundos)",
   "execution_count": null,
   "outputs": [
    {
     "output_type": "error",
     "ename": "ValueError",
     "evalue": "could not convert string to float: ",
     "traceback": [
      "\u001b[0;31m---------------------------------------------------------------------------\u001b[0m",
      "\u001b[0;31mValueError\u001b[0m                                Traceback (most recent call last)",
      "\u001b[0;32m<ipython-input-37-3918b1d578ce>\u001b[0m in \u001b[0;36m<module>\u001b[0;34m\u001b[0m\n\u001b[1;32m      1\u001b[0m \u001b[0mdias\u001b[0m \u001b[0;34m=\u001b[0m \u001b[0mfloat\u001b[0m\u001b[0;34m(\u001b[0m\u001b[0minput\u001b[0m\u001b[0;34m(\u001b[0m\u001b[0;34m\"Numero de dias\"\u001b[0m\u001b[0;34m)\u001b[0m\u001b[0;34m)\u001b[0m\u001b[0;34m\u001b[0m\u001b[0;34m\u001b[0m\u001b[0m\n\u001b[0;32m----> 2\u001b[0;31m \u001b[0mhoras\u001b[0m \u001b[0;34m=\u001b[0m \u001b[0mfloat\u001b[0m\u001b[0;34m(\u001b[0m\u001b[0minput\u001b[0m\u001b[0;34m(\u001b[0m\u001b[0;34m\"Número de horas\"\u001b[0m\u001b[0;34m)\u001b[0m\u001b[0;34m)\u001b[0m\u001b[0;34m\u001b[0m\u001b[0;34m\u001b[0m\u001b[0m\n\u001b[0m\u001b[1;32m      3\u001b[0m \u001b[0mminutos\u001b[0m \u001b[0;34m=\u001b[0m \u001b[0mint\u001b[0m\u001b[0;34m(\u001b[0m\u001b[0minput\u001b[0m\u001b[0;34m(\u001b[0m\u001b[0;34m\"Número de minutos\"\u001b[0m\u001b[0;34m)\u001b[0m\u001b[0;34m)\u001b[0m\u001b[0;34m\u001b[0m\u001b[0;34m\u001b[0m\u001b[0m\n\u001b[1;32m      4\u001b[0m \u001b[0msegundos\u001b[0m \u001b[0;34m=\u001b[0m \u001b[0;34m(\u001b[0m\u001b[0mdias\u001b[0m\u001b[0;34m*\u001b[0m\u001b[0;36m24\u001b[0m\u001b[0;34m*\u001b[0m\u001b[0;36m60\u001b[0m\u001b[0;34m*\u001b[0m\u001b[0;36m60\u001b[0m\u001b[0;34m)\u001b[0m \u001b[0;34m+\u001b[0m \u001b[0;34m(\u001b[0m\u001b[0mhoras\u001b[0m\u001b[0;34m*\u001b[0m\u001b[0;36m60\u001b[0m\u001b[0;34m*\u001b[0m\u001b[0;36m60\u001b[0m\u001b[0;34m)\u001b[0m \u001b[0;34m+\u001b[0m \u001b[0;34m(\u001b[0m\u001b[0mminutos\u001b[0m\u001b[0;34m*\u001b[0m\u001b[0;36m60\u001b[0m\u001b[0;34m)\u001b[0m\u001b[0;34m\u001b[0m\u001b[0;34m\u001b[0m\u001b[0m\n\u001b[1;32m      5\u001b[0m \u001b[0mprint\u001b[0m\u001b[0;34m(\u001b[0m\u001b[0msegundos\u001b[0m\u001b[0;34m)\u001b[0m\u001b[0;34m\u001b[0m\u001b[0;34m\u001b[0m\u001b[0m\n",
      "\u001b[0;31mValueError\u001b[0m: could not convert string to float: "
     ]
    }
   ]
  },
  {
   "cell_type": "markdown",
   "source": "## Exercício 14\nQuantos segundos você já viveu? <br>\nDado a idade em anos de uma pessoa, informe quantos segundos ela já viveu!",
   "metadata": {
    "cell_id": "00016-6d412b56-38d6-4d0e-9a88-b039d5eec743",
    "tags": [],
    "deepnote_cell_type": "markdown",
    "deepnote_cell_height": 130.8000030517578
   }
  },
  {
   "cell_type": "code",
   "metadata": {
    "cell_id": "00030-e0f3d45b-9e14-4021-84ce-f5dc53ba1791",
    "deepnote_to_be_reexecuted": false,
    "source_hash": "f768e363",
    "execution_start": 1653435883280,
    "execution_millis": 34,
    "deepnote_cell_type": "code",
    "deepnote_cell_height": 147.1999969482422
   },
   "source": "idade = 34\nsegundos = idade*24*60*60\nprint(segundos)",
   "execution_count": null,
   "outputs": [
    {
     "name": "stdout",
     "text": "2937600\n",
     "output_type": "stream"
    }
   ]
  },
  {
   "cell_type": "markdown",
   "source": "## Exercício 15\nAumento salarial! <br>\nA partir do salário informado pelo usuário e o percentual desejado de aumento do mesmo, calcule o novo valor do salário",
   "metadata": {
    "cell_id": "00017-f796480d-8c3f-42a9-ad70-3fc6b00506a8",
    "tags": [],
    "deepnote_cell_type": "markdown",
    "deepnote_cell_height": 130.8000030517578
   }
  },
  {
   "cell_type": "code",
   "metadata": {
    "cell_id": "00032-e6880536-e8ca-4f0e-bdea-0e7984410925",
    "deepnote_to_be_reexecuted": false,
    "source_hash": "66412ce3",
    "execution_start": 1653436022827,
    "execution_millis": 4912,
    "deepnote_cell_type": "code",
    "deepnote_cell_height": 165.1999969482422
   },
   "source": "salario = float(input('Informe um salário'))\npercentual = float(input('Informe a porcentagem do aumento'))\nnovo_salario = salario*(1 + percentual/100)\nprint(novo_salario)",
   "execution_count": null,
   "outputs": [
    {
     "name": "stdout",
     "text": "1100.0\n",
     "output_type": "stream"
    }
   ]
  },
  {
   "cell_type": "markdown",
   "source": "## Exercício 17\nUtilizando o Python, descubra se o número 5776 é divisivel por 3",
   "metadata": {
    "cell_id": "00018-36d850b4-72c0-4593-b5c2-cef7edfb2a80",
    "tags": [],
    "deepnote_cell_type": "markdown",
    "deepnote_cell_height": 108.39999389648438
   }
  },
  {
   "cell_type": "code",
   "metadata": {
    "cell_id": "00034-728d7e24-594b-4aca-af2e-a6cab80e7f80",
    "deepnote_to_be_reexecuted": false,
    "source_hash": "9ecb930a",
    "execution_start": 1653436167119,
    "execution_millis": 22,
    "deepnote_cell_type": "code",
    "deepnote_cell_height": 118,
    "deepnote_output_heights": [
     21
    ]
   },
   "source": "5776 % 3",
   "execution_count": null,
   "outputs": [
    {
     "output_type": "execute_result",
     "execution_count": 38,
     "data": {
      "text/plain": "1"
     },
     "metadata": {}
    }
   ]
  },
  {
   "cell_type": "markdown",
   "source": "O resto da divisão de 5776 por 3 não resulto em 0 e sim em 1, logo 5776 não é divisivel por 3!",
   "metadata": {
    "cell_id": "00035-fbb3f220-c5aa-49ea-aed2-0c5edc106da8",
    "deepnote_cell_type": "markdown",
    "deepnote_cell_height": 52.399993896484375
   }
  },
  {
   "cell_type": "markdown",
   "source": "## Exercício 18\nTa frio ou ta quente? Dado uma temperatura em Fahrenheit transforme-a para Celsius <br>\nDica: F = 9*C/5 + 32.8",
   "metadata": {
    "cell_id": "00019-34389055-61e8-4abe-84d3-bac4c10aba73",
    "tags": [],
    "deepnote_cell_type": "markdown",
    "deepnote_cell_height": 130.8000030517578
   }
  },
  {
   "cell_type": "code",
   "metadata": {
    "cell_id": "00037-09d36221-16ab-43ff-b772-dac24a549a1c",
    "owner_user_id": "f3b685db-82a0-4f74-9158-9e3d6de2c3bf",
    "deepnote_to_be_reexecuted": false,
    "source_hash": "9fd82784",
    "execution_start": 1653502897341,
    "execution_millis": 82685,
    "deepnote_cell_type": "code",
    "deepnote_cell_height": 165.1999969482422
   },
   "source": "f = float(input('Insira uma temperatura em Fahrenheit'))\nc = 5*f/9 - 32.8\nprint(c)\n",
   "execution_count": null,
   "outputs": [
    {
     "name": "stdout",
     "text": "-16.13333333333333\n",
     "output_type": "stream"
    }
   ]
  },
  {
   "cell_type": "markdown",
   "source": "## Exercício 19\nCorriga o código abaixo para que ele funcione. O resultado esperado é que o programa retorne a soma dos números informados pelo usuário.",
   "metadata": {
    "cell_id": "00020-862b7b58-ef67-487f-9a3a-05ff168f4f3a",
    "tags": [],
    "deepnote_cell_type": "markdown",
    "deepnote_cell_height": 108.39999389648438
   }
  },
  {
   "cell_type": "code",
   "metadata": {
    "cell_id": "00039-17748f31-2f22-4dfa-9c5d-6bd6a1493b5d",
    "deepnote_to_be_reexecuted": false,
    "source_hash": "dc8acc2b",
    "execution_start": 1653436466227,
    "execution_millis": 3890,
    "deepnote_cell_type": "code",
    "deepnote_cell_height": 147.1999969482422
   },
   "source": "a = float(input('a'))\nb = float(input('b'))\nprint(a+b)",
   "execution_count": null,
   "outputs": [
    {
     "name": "stdout",
     "text": "15.0\n",
     "output_type": "stream"
    }
   ]
  },
  {
   "cell_type": "markdown",
   "source": "",
   "metadata": {
    "cell_id": "00021-d2025b5d-24c3-4bf3-aec9-796148e24553",
    "tags": [],
    "deepnote_cell_type": "markdown",
    "deepnote_cell_height": 46
   }
  },
  {
   "cell_type": "markdown",
   "source": "## Exercício 20\nExecute o código abaixo e explique o erro:",
   "metadata": {
    "cell_id": "00022-2ea46d70-8018-4d95-b69e-4f76df1e494b",
    "tags": [],
    "deepnote_cell_type": "markdown",
    "deepnote_cell_height": 108.39999389648438
   }
  },
  {
   "cell_type": "code",
   "metadata": {
    "cell_id": "00042-1e8b85c6-91ad-4e60-90d9-cbc763ce1396",
    "deepnote_to_be_reexecuted": false,
    "source_hash": "a60d1b64",
    "execution_start": 1653436525593,
    "execution_millis": 6,
    "deepnote_cell_type": "code",
    "deepnote_cell_height": 144.1999969482422
   },
   "source": "print((38+16)*11/(15-17+2))",
   "execution_count": null,
   "outputs": [
    {
     "output_type": "error",
     "ename": "ZeroDivisionError",
     "evalue": "division by zero",
     "traceback": [
      "\u001b[0;31m---------------------------------------------------------------------------\u001b[0m",
      "\u001b[0;31mZeroDivisionError\u001b[0m                         Traceback (most recent call last)",
      "\u001b[0;32m<ipython-input-41-9f98af1fa1ad>\u001b[0m in \u001b[0;36m<module>\u001b[0;34m\u001b[0m\n\u001b[0;32m----> 1\u001b[0;31m \u001b[0mprint\u001b[0m\u001b[0;34m(\u001b[0m\u001b[0;34m(\u001b[0m\u001b[0;36m38\u001b[0m\u001b[0;34m+\u001b[0m\u001b[0;36m16\u001b[0m\u001b[0;34m)\u001b[0m\u001b[0;34m*\u001b[0m\u001b[0;36m11\u001b[0m\u001b[0;34m/\u001b[0m\u001b[0;34m(\u001b[0m\u001b[0;36m15\u001b[0m\u001b[0;34m-\u001b[0m\u001b[0;36m17\u001b[0m\u001b[0;34m+\u001b[0m\u001b[0;36m2\u001b[0m\u001b[0;34m)\u001b[0m\u001b[0;34m)\u001b[0m\u001b[0;34m\u001b[0m\u001b[0;34m\u001b[0m\u001b[0m\n\u001b[0m",
      "\u001b[0;31mZeroDivisionError\u001b[0m: division by zero"
     ]
    }
   ]
  },
  {
   "cell_type": "markdown",
   "source": "Caraca! Deu erro!!!! Não se preocupe! Os erros são nossos amigos. Eles nos informam o que fizemos de errado e onde.\nNesse caso na linha 1, cometemos o erro  *ZeroDivisionError*, ou seja, tentamos dividir por zero.Como isso não é possível,\nnosso amigo Python nos alertou sobre isso!!!",
   "metadata": {
    "cell_id": "00043-fdaaae78-67c6-4251-a811-3f85049c36af",
    "deepnote_cell_type": "markdown",
    "deepnote_cell_height": 74.80000305175781
   }
  },
  {
   "cell_type": "markdown",
   "source": "## Exercício 22\nSandra investiu R$1000,00 na sua conta no Banco \"Rende +\" por um ano.Sabendo que seu investimento rende 0.02% por dia útil, qual o montante Sandra terá após 7 semanas de investimento?\n",
   "metadata": {
    "cell_id": "00023-470f2509-76dc-4adf-816e-5e245e938b8b",
    "tags": [],
    "deepnote_cell_type": "markdown",
    "deepnote_cell_height": 130.8000030517578
   }
  },
  {
   "cell_type": "code",
   "metadata": {
    "cell_id": "00045-1ef0ea4b-e84a-42dd-b415-e0e9a690d8a2",
    "deepnote_to_be_reexecuted": false,
    "source_hash": "93695e44",
    "execution_start": 1653436841020,
    "execution_millis": 10,
    "deepnote_cell_type": "code",
    "deepnote_cell_height": 147.1999969482422
   },
   "source": "investimento = 1000\nrendimento = round((1000*(1.02**35)),2)\nprint(rendimento)",
   "execution_count": null,
   "outputs": [
    {
     "name": "stdout",
     "text": "1999.89\n",
     "output_type": "stream"
    }
   ]
  },
  {
   "cell_type": "code",
   "metadata": {
    "cell_id": "00046-6af76364-adcf-478d-9453-d00f11a3f7d2",
    "deepnote_cell_type": "code",
    "deepnote_cell_height": 66
   },
   "source": "",
   "execution_count": null,
   "outputs": []
  },
  {
   "cell_type": "code",
   "metadata": {
    "cell_id": "00047-da9a452b-c3a9-49e0-8252-1e978ba2617f",
    "deepnote_cell_type": "code",
    "deepnote_cell_height": 66
   },
   "source": "",
   "execution_count": null,
   "outputs": []
  },
  {
   "cell_type": "markdown",
   "source": "",
   "metadata": {
    "cell_id": "00021-ca4e6b01-bb13-4684-bdd3-d08328baebb9",
    "tags": [],
    "deepnote_cell_type": "markdown",
    "deepnote_cell_height": 46
   }
  },
  {
   "cell_type": "markdown",
   "source": "## Bônus\n1- Você consegue repetir todos esses exercícios no VSCode?\nObs: Não precisa fazer hoje!!😅",
   "metadata": {
    "cell_id": "00006-2d589f6f-e584-4d33-9241-6337cd28f35d",
    "tags": [],
    "deepnote_cell_type": "markdown",
    "deepnote_cell_height": 108.39999389648438
   }
  },
  {
   "cell_type": "markdown",
   "source": "<a style='text-decoration:none;line-height:16px;display:flex;color:#5B5B62;padding:10px;justify-content:end;' href='https://deepnote.com?utm_source=created-in-deepnote-cell&projectId=31152f18-3036-40d1-92d9-59f0bbdc0756' target=\"_blank\">\n<img alt='Created in deepnote.com' style='display:inline;max-height:16px;margin:0px;margin-right:7.5px;' src='data:image/svg+xml;base64,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' > </img>\nCreated in <span style='font-weight:600;margin-left:4px;'>Deepnote</span></a>",
   "metadata": {
    "tags": [],
    "created_in_deepnote_cell": true,
    "deepnote_cell_type": "markdown"
   }
  }
 ],
 "nbformat": 4,
 "nbformat_minor": 2,
 "metadata": {
  "deepnote": {
   "is_reactive": false
  },
  "deepnote_execution_queue": [],
  "deepnote_notebook_id": "20baba61-9256-48a1-8eac-728e83a54b3b",
  "hide_input": false,
  "kernelspec": {
   "display_name": "Python 3 (ipykernel)",
   "language": "python",
   "name": "python3"
  },
  "language_info": {
   "codemirror_mode": {
    "name": "ipython",
    "version": 3
   },
   "file_extension": ".py",
   "mimetype": "text/x-python",
   "name": "python",
   "nbconvert_exporter": "python",
   "pygments_lexer": "ipython3",
   "version": "3.9.7"
  }
 }
}