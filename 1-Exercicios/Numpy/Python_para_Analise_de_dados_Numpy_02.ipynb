{
 "cells": [
  {
   "cell_type": "markdown",
   "source": "# Conteúdo Extra\n# Python para Análise de Dados - Numpy   ",
   "metadata": {
    "cell_id": "4cda537c-34f2-4472-a8bb-c0e687ee21d0",
    "deepnote_cell_type": "markdown",
    "deepnote_cell_height": 160
   }
  },
  {
   "cell_type": "markdown",
   "source": "<p> Iremos aprender a trabalhar coma biblioteca Numpy.\n",
   "metadata": {
    "cell_id": "00001-16e7cd68-fe57-4bdb-8bd8-9da11bd725e5",
    "deepnote_cell_type": "markdown",
    "deepnote_cell_height": 52.399993896484375
   }
  },
  {
   "cell_type": "markdown",
   "source": "# Acessando Dimensões no Array",
   "metadata": {
    "cell_id": "00002-b1d0b159-4213-438f-965b-f241c517a801",
    "deepnote_cell_type": "markdown",
    "deepnote_cell_height": 82
   }
  },
  {
   "cell_type": "code",
   "metadata": {
    "cell_id": "00003-40890ce4-ec58-4767-85cf-4bf634a71df5",
    "deepnote_to_be_reexecuted": false,
    "source_hash": "3827037d",
    "execution_start": 1652181670189,
    "execution_millis": 5,
    "deepnote_cell_type": "code",
    "deepnote_cell_height": 99
   },
   "source": "# Importando o Numpy\nimport numpy as np",
   "execution_count": null,
   "outputs": []
  },
  {
   "cell_type": "code",
   "metadata": {
    "cell_id": "00004-b249ade6-52a7-450c-ac3a-784d6f65bf47",
    "deepnote_to_be_reexecuted": false,
    "source_hash": "394d56f7",
    "execution_start": 1652181672957,
    "execution_millis": 2,
    "deepnote_cell_type": "code",
    "deepnote_cell_height": 117
   },
   "source": "# Gera um array aleatório de 10 linhas e 2 colunas\n# formato linha,coluna\nmy_array = np.random.random([10,2])",
   "execution_count": null,
   "outputs": []
  },
  {
   "cell_type": "code",
   "metadata": {
    "cell_id": "00005-5fcb7da3-2007-4d07-92d7-2d8b26af8552",
    "deepnote_to_be_reexecuted": false,
    "source_hash": "3b6ae863",
    "execution_start": 1652181674169,
    "execution_millis": 4,
    "deepnote_cell_type": "code",
    "deepnote_cell_height": 291,
    "deepnote_output_heights": [
     194
    ]
   },
   "source": "my_array",
   "execution_count": null,
   "outputs": [
    {
     "output_type": "execute_result",
     "execution_count": 3,
     "data": {
      "text/plain": "array([[0.8663725 , 0.59168859],\n       [0.20163981, 0.77899362],\n       [0.81105069, 0.50584237],\n       [0.06515974, 0.75111978],\n       [0.02580588, 0.99337326],\n       [0.30988847, 0.04408326],\n       [0.10581352, 0.94002629],\n       [0.09051186, 0.13163383],\n       [0.09484018, 0.12952102],\n       [0.65278285, 0.08537582]])"
     },
     "metadata": {}
    }
   ]
  },
  {
   "cell_type": "code",
   "metadata": {
    "cell_id": "00006-ad8fbc71-74b9-43f7-bd7e-a7a8228ae5f8",
    "deepnote_to_be_reexecuted": false,
    "source_hash": "3f259c77",
    "execution_start": 1652181674723,
    "execution_millis": 7,
    "deepnote_cell_type": "code",
    "deepnote_cell_height": 136,
    "deepnote_output_heights": [
     21
    ]
   },
   "source": "# Imprimindo o primeiro elemento (1 linha)\nmy_array[0]",
   "execution_count": null,
   "outputs": [
    {
     "output_type": "execute_result",
     "execution_count": 4,
     "data": {
      "text/plain": "array([0.8663725 , 0.59168859])"
     },
     "metadata": {}
    }
   ]
  },
  {
   "cell_type": "code",
   "metadata": {
    "cell_id": "00007-56aadc98-3454-412e-a0c9-0cf151df600f",
    "deepnote_to_be_reexecuted": false,
    "source_hash": "80d1ccb",
    "execution_start": 1652181675281,
    "execution_millis": 7,
    "deepnote_cell_type": "code",
    "deepnote_cell_height": 136,
    "deepnote_output_heights": [
     21
    ]
   },
   "source": "# Imprimindo o primeiro elemento da coluna 0 (1 coluna)\nmy_array[0][0]",
   "execution_count": null,
   "outputs": [
    {
     "output_type": "execute_result",
     "execution_count": 5,
     "data": {
      "text/plain": "0.8663725044994398"
     },
     "metadata": {}
    }
   ]
  },
  {
   "cell_type": "code",
   "metadata": {
    "cell_id": "00008-0ae66a0e-c67c-4494-96e4-a2bad9da487b",
    "deepnote_to_be_reexecuted": false,
    "source_hash": "690da829",
    "execution_start": 1652181676510,
    "execution_millis": 7,
    "deepnote_cell_type": "code",
    "deepnote_cell_height": 136,
    "deepnote_output_heights": [
     21
    ]
   },
   "source": "# Primeiro elemento da coluna 1\nmy_array[0][1]",
   "execution_count": null,
   "outputs": [
    {
     "output_type": "execute_result",
     "execution_count": 6,
     "data": {
      "text/plain": "0.5916885929280624"
     },
     "metadata": {}
    }
   ]
  },
  {
   "cell_type": "code",
   "metadata": {
    "cell_id": "00009-ac1808c5-50de-4365-a7c5-7a94231147a6",
    "deepnote_to_be_reexecuted": false,
    "source_hash": "47c69109",
    "execution_start": 1652181677880,
    "execution_millis": 24,
    "deepnote_cell_type": "code",
    "deepnote_cell_height": 136,
    "deepnote_output_heights": [
     21
    ]
   },
   "source": "# Segundo elemento da coluna 1\nmy_array[1][1]",
   "execution_count": null,
   "outputs": [
    {
     "output_type": "execute_result",
     "execution_count": 7,
     "data": {
      "text/plain": "0.7789936206121604"
     },
     "metadata": {}
    }
   ]
  },
  {
   "cell_type": "code",
   "metadata": {
    "cell_id": "00010-a1c90ab5-4d39-4872-8136-ca51a1ec324e",
    "deepnote_to_be_reexecuted": false,
    "source_hash": "b1affec3",
    "execution_start": 1652181679328,
    "execution_millis": 8,
    "deepnote_cell_type": "code",
    "deepnote_cell_height": 154,
    "deepnote_output_heights": [
     21
    ]
   },
   "source": "# Segundo elemento da coluna escrito com virgula.\n# O primeiro valor especifica a linha e o segundo valor especifica a coluna.\nmy_array[1,1]",
   "execution_count": null,
   "outputs": [
    {
     "output_type": "execute_result",
     "execution_count": 8,
     "data": {
      "text/plain": "0.7789936206121604"
     },
     "metadata": {}
    }
   ]
  },
  {
   "cell_type": "code",
   "metadata": {
    "cell_id": "00011-270ed5d0-7ad2-41d9-bc80-b498e77edbc4",
    "deepnote_to_be_reexecuted": false,
    "source_hash": "5a08d9c3",
    "execution_start": 1652181680160,
    "execution_millis": 5,
    "deepnote_cell_type": "code",
    "deepnote_cell_height": 136,
    "deepnote_output_heights": [
     21
    ]
   },
   "source": "# Imprimindo até 3 valores da coluna 1\nmy_array[:3,1]",
   "execution_count": null,
   "outputs": [
    {
     "output_type": "execute_result",
     "execution_count": 9,
     "data": {
      "text/plain": "array([0.59168859, 0.77899362, 0.50584237])"
     },
     "metadata": {}
    }
   ]
  },
  {
   "cell_type": "code",
   "metadata": {
    "cell_id": "00012-dd70fa16-7695-4df7-9c9d-aa427eabf99d",
    "deepnote_to_be_reexecuted": false,
    "source_hash": "5e46e20f",
    "execution_start": 1652181977410,
    "execution_millis": 3,
    "deepnote_cell_type": "code",
    "deepnote_cell_height": 155,
    "deepnote_output_heights": [
     40
    ]
   },
   "source": "# Imprime todas as linhas da coluna 2 * 10\nmy_array[:,1] * 10",
   "execution_count": null,
   "outputs": [
    {
     "output_type": "execute_result",
     "execution_count": 10,
     "data": {
      "text/plain": "array([5.91688593, 7.78993621, 5.05842372, 7.51119778, 9.93373258,\n       0.44083261, 9.40026295, 1.31633826, 1.29521022, 0.85375819])"
     },
     "metadata": {}
    }
   ]
  },
  {
   "cell_type": "code",
   "metadata": {
    "cell_id": "00013-c3cf21dd-c5e0-4ba0-b736-730086b116fc",
    "deepnote_to_be_reexecuted": false,
    "source_hash": "bbf90687",
    "execution_start": 1652181980860,
    "execution_millis": 347,
    "deepnote_cell_type": "code",
    "deepnote_cell_height": 309,
    "deepnote_output_heights": [
     194
    ]
   },
   "source": "# Comparação retorna indices\nmy_array > 0.50",
   "execution_count": null,
   "outputs": [
    {
     "output_type": "execute_result",
     "execution_count": 11,
     "data": {
      "text/plain": "array([[ True,  True],\n       [False,  True],\n       [ True,  True],\n       [False,  True],\n       [False,  True],\n       [False, False],\n       [False,  True],\n       [False, False],\n       [False, False],\n       [ True, False]])"
     },
     "metadata": {}
    }
   ]
  },
  {
   "cell_type": "code",
   "metadata": {
    "cell_id": "00014-33ba0b69-2051-4e93-a82c-d52119774751",
    "deepnote_to_be_reexecuted": false,
    "source_hash": "97842452",
    "execution_start": 1652181983874,
    "execution_millis": 4,
    "deepnote_cell_type": "code",
    "deepnote_cell_height": 155,
    "deepnote_output_heights": [
     40
    ]
   },
   "source": "# Acessando valores por índices\nmy_array[my_array > 0.50]",
   "execution_count": null,
   "outputs": [
    {
     "output_type": "execute_result",
     "execution_count": 12,
     "data": {
      "text/plain": "array([0.8663725 , 0.59168859, 0.77899362, 0.81105069, 0.50584237,\n       0.75111978, 0.99337326, 0.94002629, 0.65278285])"
     },
     "metadata": {}
    }
   ]
  },
  {
   "cell_type": "markdown",
   "source": "# Carregar Arrays NumPy a partir de arquivos de Texto",
   "metadata": {
    "cell_id": "00015-b03f2519-9394-435c-98df-bec9458ee5d1",
    "deepnote_cell_type": "markdown",
    "deepnote_cell_height": 82
   }
  },
  {
   "cell_type": "code",
   "metadata": {
    "cell_id": "00016-764cf9e4-ebdb-4a23-8291-b95e3b87ef01",
    "deepnote_to_be_reexecuted": false,
    "source_hash": "c2602aa8",
    "execution_start": 1652181987493,
    "execution_millis": 3,
    "deepnote_cell_type": "code",
    "deepnote_cell_height": 81
   },
   "source": "import numpy as np",
   "execution_count": null,
   "outputs": []
  },
  {
   "cell_type": "code",
   "metadata": {
    "cell_id": "00017-32c6554c-b6ee-49d3-8eda-9031056cae4b",
    "deepnote_to_be_reexecuted": false,
    "source_hash": "1ac4b76",
    "execution_start": 1652181988116,
    "execution_millis": 4,
    "deepnote_cell_type": "code",
    "deepnote_cell_height": 99
   },
   "source": "# Lendo um arquivo do tipo .txt\ndataset = np.loadtxt('dataset_array.txt', delimiter=',')",
   "execution_count": null,
   "outputs": []
  },
  {
   "cell_type": "code",
   "metadata": {
    "cell_id": "00018-bd5855f0-c993-49e4-8fc7-02453b974048",
    "deepnote_to_be_reexecuted": false,
    "source_hash": "60577c1c",
    "execution_start": 1652181990726,
    "execution_millis": 10,
    "deepnote_cell_type": "code",
    "deepnote_cell_height": 118,
    "deepnote_output_heights": [
     21
    ]
   },
   "source": "dataset.shape",
   "execution_count": null,
   "outputs": [
    {
     "output_type": "execute_result",
     "execution_count": 15,
     "data": {
      "text/plain": "(6,)"
     },
     "metadata": {}
    }
   ]
  },
  {
   "cell_type": "code",
   "metadata": {
    "cell_id": "00019-cef41595-e7db-4bc9-b06a-5b949c452a39",
    "deepnote_to_be_reexecuted": false,
    "source_hash": "10724ecb",
    "execution_start": 1652181992634,
    "execution_millis": 29,
    "deepnote_cell_type": "code",
    "deepnote_cell_height": 118,
    "deepnote_output_heights": [
     21
    ]
   },
   "source": "dataset",
   "execution_count": null,
   "outputs": [
    {
     "output_type": "execute_result",
     "execution_count": 16,
     "data": {
      "text/plain": "array([1., 2., 3., 4., 5., 6.])"
     },
     "metadata": {}
    }
   ]
  },
  {
   "cell_type": "code",
   "metadata": {
    "cell_id": "00020-f3b79379-3bf1-49eb-aac6-61c4da0d2c15",
    "deepnote_to_be_reexecuted": false,
    "source_hash": "6174aa8d",
    "execution_start": 1652181992653,
    "execution_millis": 1,
    "deepnote_cell_type": "code",
    "deepnote_cell_height": 99
   },
   "source": "# carregando um arquivo dividido em 3 arrays\na, b, c = np.loadtxt('dataset_valores.txt', skiprows=1, unpack=True )",
   "execution_count": null,
   "outputs": []
  },
  {
   "cell_type": "code",
   "metadata": {
    "cell_id": "00021-e9ab29f6-5530-4bb4-bafb-ae8a2c303388",
    "deepnote_to_be_reexecuted": false,
    "source_hash": "f10bcd45",
    "execution_start": 1652181992654,
    "execution_millis": 10,
    "deepnote_cell_type": "code",
    "deepnote_cell_height": 136,
    "deepnote_output_heights": [
     21
    ]
   },
   "source": "# Array a\na",
   "execution_count": null,
   "outputs": [
    {
     "output_type": "execute_result",
     "execution_count": 18,
     "data": {
      "text/plain": "array([0.4839, 0.1292, 0.1781, 0.7676, 0.5993])"
     },
     "metadata": {}
    }
   ]
  },
  {
   "cell_type": "code",
   "metadata": {
    "cell_id": "00022-164f3b2d-bdf7-46ae-b94f-628960e0c376",
    "deepnote_to_be_reexecuted": false,
    "source_hash": "9f638b70",
    "execution_start": 1652181992655,
    "execution_millis": 43,
    "deepnote_cell_type": "code",
    "deepnote_cell_height": 136,
    "deepnote_output_heights": [
     21
    ]
   },
   "source": "# Array B\nb",
   "execution_count": null,
   "outputs": [
    {
     "output_type": "execute_result",
     "execution_count": 19,
     "data": {
      "text/plain": "array([0.4536, 0.6875, 0.3049, 0.5801, 0.4357])"
     },
     "metadata": {}
    }
   ]
  },
  {
   "cell_type": "code",
   "metadata": {
    "cell_id": "00023-27cb7609-8d52-4ad0-9372-70f7dc45be0e",
    "deepnote_to_be_reexecuted": false,
    "source_hash": "8e6aab72",
    "execution_start": 1652181995096,
    "execution_millis": 13,
    "deepnote_cell_type": "code",
    "deepnote_cell_height": 136,
    "deepnote_output_heights": [
     21
    ]
   },
   "source": "# Array C\nc",
   "execution_count": null,
   "outputs": [
    {
     "output_type": "execute_result",
     "execution_count": 20,
     "data": {
      "text/plain": "array([0.3561, 0.6565, 0.8928, 0.2038, 0.741 ])"
     },
     "metadata": {}
    }
   ]
  },
  {
   "cell_type": "code",
   "metadata": {
    "collapsed": true,
    "cell_id": "00024-b98eb53b-c202-4459-8851-18cc6c3b2ed5",
    "deepnote_to_be_reexecuted": false,
    "source_hash": "c5c4fc8",
    "execution_start": 1652181995110,
    "execution_millis": 7,
    "deepnote_cell_type": "code",
    "deepnote_cell_height": 135
   },
   "source": "# Carrega o arquivo ignorando as 2 primeiras linhas e preenchendo os valores vazio por 0\n# Obs: os valores string também são convertidos!!\n\ndataset = np.genfromtxt('dataset_valores_vazio.txt', skip_header=2, filling_values=0)",
   "execution_count": null,
   "outputs": []
  },
  {
   "cell_type": "code",
   "metadata": {
    "cell_id": "00025-f2abba3f-5067-4cc6-83d4-cc607f47196a",
    "deepnote_to_be_reexecuted": false,
    "source_hash": "a77d923b",
    "execution_start": 1652181995126,
    "execution_millis": 17,
    "deepnote_cell_type": "code",
    "deepnote_cell_height": 213,
    "deepnote_output_heights": [
     98
    ]
   },
   "source": "# Imprimindo o dataset\ndataset",
   "execution_count": null,
   "outputs": [
    {
     "output_type": "execute_result",
     "execution_count": 22,
     "data": {
      "text/plain": "array([[0.4839, 0.4536, 0.3561],\n       [0.1292, 0.6875, 0.    ],\n       [0.1781, 0.3049, 0.8928],\n       [0.    , 0.5801, 0.2038],\n       [0.5993, 0.4357, 0.741 ]])"
     },
     "metadata": {}
    }
   ]
  },
  {
   "cell_type": "code",
   "metadata": {
    "cell_id": "e6423325133844e19024b412bfd6ff9d",
    "tags": [],
    "deepnote_to_be_reexecuted": false,
    "source_hash": "b623e53d",
    "execution_start": 1652181995743,
    "execution_millis": 2,
    "deepnote_cell_type": "code",
    "deepnote_cell_height": 81
   },
   "source": "",
   "execution_count": null,
   "outputs": []
  },
  {
   "cell_type": "code",
   "metadata": {
    "cell_id": "5291ae0298fc43ada2e6bf9a3bd92136",
    "tags": [],
    "owner_user_id": "d001098f-5dea-4d4f-8c97-a79374dcf058",
    "deepnote_cell_type": "code",
    "deepnote_cell_height": 66
   },
   "source": "",
   "execution_count": null,
   "outputs": []
  },
  {
   "cell_type": "markdown",
   "source": "<a style='text-decoration:none;line-height:16px;display:flex;color:#5B5B62;padding:10px;justify-content:end;' href='https://deepnote.com?utm_source=created-in-deepnote-cell&projectId=31152f18-3036-40d1-92d9-59f0bbdc0756' target=\"_blank\">\n<img alt='Created in deepnote.com' style='display:inline;max-height:16px;margin:0px;margin-right:7.5px;' src='data:image/svg+xml;base64,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' > </img>\nCreated in <span style='font-weight:600;margin-left:4px;'>Deepnote</span></a>",
   "metadata": {
    "tags": [],
    "created_in_deepnote_cell": true,
    "deepnote_cell_type": "markdown"
   }
  }
 ],
 "nbformat": 4,
 "nbformat_minor": 2,
 "metadata": {
  "hide_input": false,
  "kernelspec": {
   "display_name": "Python 3 (ipykernel)",
   "language": "python",
   "name": "python3"
  },
  "language_info": {
   "codemirror_mode": {
    "name": "ipython",
    "version": 3
   },
   "file_extension": ".py",
   "mimetype": "text/x-python",
   "name": "python",
   "nbconvert_exporter": "python",
   "pygments_lexer": "ipython3",
   "version": "3.9.7"
  },
  "deepnote_notebook_id": "96e84a19-3a32-4169-b017-f40180656741",
  "deepnote": {},
  "deepnote_execution_queue": []
 }
}