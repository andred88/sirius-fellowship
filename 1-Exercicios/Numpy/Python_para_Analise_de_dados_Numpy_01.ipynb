{
 "cells": [
  {
   "cell_type": "markdown",
   "source": "# Conteúdo Extra\n# Python para Análise de Dados - Numpy   ",
   "metadata": {
    "cell_id": "8a675954-ca04-40d0-940a-6a4ba85d3cc6",
    "deepnote_cell_type": "markdown",
    "deepnote_cell_height": 160
   }
  },
  {
   "cell_type": "markdown",
   "source": "<p> Trabalhando com numpy\n",
   "metadata": {
    "cell_id": "00001-92514f72-90ea-480a-b6ea-6159ef2f48f1",
    "deepnote_cell_type": "markdown",
    "deepnote_cell_height": 52.399993896484375
   }
  },
  {
   "cell_type": "code",
   "metadata": {
    "cell_id": "00002-9c0c66f4-389f-4bd0-ae94-2abc2f256be7",
    "deepnote_to_be_reexecuted": false,
    "execution_millis": 70,
    "execution_start": 1652180517432,
    "source_hash": "d59260a9",
    "deepnote_cell_type": "code",
    "deepnote_cell_height": 99
   },
   "source": "# Importando a biblioteca numpy\nimport numpy as np",
   "outputs": [],
   "execution_count": null
  },
  {
   "cell_type": "code",
   "metadata": {
    "cell_id": "00003-8a0fbe96-45cc-4a71-9190-78d446e1a181",
    "deepnote_to_be_reexecuted": false,
    "execution_millis": 1,
    "execution_start": 1652180518808,
    "source_hash": "967cc6e8",
    "deepnote_cell_type": "code",
    "deepnote_cell_height": 99
   },
   "source": "# Criando um array de 1 dimensão\none_dim = np.array([1,2,3,4])",
   "outputs": [],
   "execution_count": null
  },
  {
   "cell_type": "code",
   "metadata": {
    "cell_id": "00004-e7253d8e-9092-4ecc-b825-3dbc3e9000f7",
    "deepnote_to_be_reexecuted": false,
    "execution_millis": 6,
    "execution_start": 1652180519655,
    "source_hash": "1d52a60c",
    "deepnote_cell_type": "code",
    "deepnote_cell_height": 118,
    "deepnote_output_heights": [
     21
    ]
   },
   "source": "type(one_dim)",
   "outputs": [
    {
     "data": {
      "text/plain": "numpy.ndarray"
     },
     "execution_count": 3,
     "metadata": {},
     "output_type": "execute_result"
    }
   ],
   "execution_count": null
  },
  {
   "cell_type": "code",
   "metadata": {
    "cell_id": "00005-7de06287-3e40-4f96-9e87-02cef61da0e4",
    "deepnote_to_be_reexecuted": false,
    "execution_millis": 4,
    "execution_start": 1652180520262,
    "source_hash": "9255c7d3",
    "deepnote_cell_type": "code",
    "deepnote_cell_height": 136,
    "deepnote_output_heights": [
     21
    ]
   },
   "source": "# Imprimindo um array.\none_dim.ndim",
   "outputs": [
    {
     "data": {
      "text/plain": "1"
     },
     "execution_count": 4,
     "metadata": {},
     "output_type": "execute_result"
    }
   ],
   "execution_count": null
  },
  {
   "cell_type": "code",
   "metadata": {
    "cell_id": "00006-850585ac-9e22-40e9-ab5a-ea39b363e52b",
    "deepnote_to_be_reexecuted": false,
    "execution_millis": 1,
    "execution_start": 1652180522723,
    "source_hash": "1cf81632",
    "deepnote_cell_type": "code",
    "deepnote_cell_height": 99
   },
   "source": "# Criando um array de 2 dimensões.\ntwo_dim = np.array([(1,2,3), (4,5,6)])",
   "outputs": [],
   "execution_count": null
  },
  {
   "cell_type": "code",
   "metadata": {
    "cell_id": "00007-7d6f77d3-3e48-4286-995f-334287e3578f",
    "deepnote_to_be_reexecuted": false,
    "execution_millis": 4,
    "execution_start": 1652180541787,
    "source_hash": "2b37d1b5",
    "deepnote_cell_type": "code",
    "deepnote_cell_height": 155,
    "deepnote_output_heights": [
     40
    ]
   },
   "source": "# Imprimindo o array\ntwo_dim",
   "outputs": [
    {
     "data": {
      "text/plain": "array([[1, 2, 3],\n       [4, 5, 6]])"
     },
     "execution_count": 6,
     "metadata": {},
     "output_type": "execute_result"
    }
   ],
   "execution_count": null
  },
  {
   "cell_type": "code",
   "metadata": {
    "cell_id": "00008-821c9d49-2a05-4c4d-9fad-7a3df80d68e8",
    "deepnote_to_be_reexecuted": false,
    "execution_millis": 2,
    "execution_start": 1652180548091,
    "source_hash": "fb912b19",
    "deepnote_cell_type": "code",
    "deepnote_cell_height": 231,
    "deepnote_output_heights": [
     98
    ]
   },
   "source": "# Cria um array de números aleatórios.\n# Um array de 5 linhas e duas dimensões.\nnp.random.random((5,2))",
   "outputs": [
    {
     "data": {
      "text/plain": "array([[0.77458927, 0.14800605],\n       [0.96946633, 0.41844553],\n       [0.0264268 , 0.06748873],\n       [0.11839301, 0.43949842],\n       [0.60786571, 0.83966313]])"
     },
     "execution_count": 7,
     "metadata": {},
     "output_type": "execute_result"
    }
   ],
   "execution_count": null
  },
  {
   "cell_type": "code",
   "metadata": {
    "cell_id": "00009-80af4141-74f2-4896-afc8-9869be24e51c",
    "deepnote_to_be_reexecuted": false,
    "execution_millis": 4,
    "execution_start": 1652180557249,
    "source_hash": "7af30493",
    "deepnote_cell_type": "code",
    "deepnote_cell_height": 136,
    "deepnote_output_heights": [
     21
    ]
   },
   "source": "# Cria um array com valores esparsos iniciando com o valor 10, menor que 50 e incrementando de 5 em 5.\nnp.arange(10,50,5)",
   "outputs": [
    {
     "data": {
      "text/plain": "array([10, 15, 20, 25, 30, 35, 40, 45])"
     },
     "execution_count": 8,
     "metadata": {},
     "output_type": "execute_result"
    }
   ],
   "execution_count": null
  },
  {
   "cell_type": "code",
   "metadata": {
    "cell_id": "00010-eabe9a54-98b5-40d6-b392-c8dfbfddf523",
    "deepnote_to_be_reexecuted": false,
    "execution_millis": 5,
    "execution_start": 1652180560788,
    "source_hash": "4703742c",
    "deepnote_cell_type": "code",
    "deepnote_cell_height": 136,
    "deepnote_output_heights": [
     21
    ]
   },
   "source": "# cria um array linear de 0 a 2 de no máximo 9 elementos.\nnp.linspace(0,2,9)",
   "outputs": [
    {
     "data": {
      "text/plain": "array([0.  , 0.25, 0.5 , 0.75, 1.  , 1.25, 1.5 , 1.75, 2.  ])"
     },
     "execution_count": 9,
     "metadata": {},
     "output_type": "execute_result"
    }
   ],
   "execution_count": null
  },
  {
   "cell_type": "code",
   "metadata": {
    "cell_id": "00011-8fe1ae9a-3a43-415d-b18f-4010ebd8baee",
    "deepnote_to_be_reexecuted": false,
    "execution_millis": 2,
    "execution_start": 1652180562979,
    "source_hash": "9d7897b0",
    "deepnote_cell_type": "code",
    "deepnote_cell_height": 193,
    "deepnote_output_heights": [
     60
    ]
   },
   "source": "# Cria um array de valores zero.\n# Cria um array com 3 linhas e 4 dimensões.\nnp.zeros((3,4))",
   "outputs": [
    {
     "data": {
      "text/plain": "array([[0., 0., 0., 0.],\n       [0., 0., 0., 0.],\n       [0., 0., 0., 0.]])"
     },
     "execution_count": 10,
     "metadata": {},
     "output_type": "execute_result"
    }
   ],
   "execution_count": null
  },
  {
   "cell_type": "markdown",
   "source": "# Numpy Arrays Vs Listas",
   "metadata": {
    "cell_id": "00012-8dea205f-da43-4da3-8598-b0f526abd7e7",
    "deepnote_cell_type": "markdown",
    "deepnote_cell_height": 82
   }
  },
  {
   "cell_type": "markdown",
   "source": "- Arrays Numpy permitem fazermos operações em **arrays inteiros** de forma rápida.\n- Listas não permitem operações em todos os elementos da lista.\n- Para operações em todos os elementos é preciso iterar sobre toda a lista.\n- Listas em Python armazenam diferentes tipos de objetos\n- Arrays Numpy considera todos os elementos de tipos distintos como strings\n",
   "metadata": {
    "cell_id": "00013-b0a46f4e-9932-4033-b580-d384cdce8768",
    "deepnote_cell_type": "markdown",
    "deepnote_cell_height": 171
   }
  },
  {
   "cell_type": "code",
   "metadata": {
    "cell_id": "00014-3d44d18d-6b4f-4fcc-bc43-1a8ebf1ef214",
    "deepnote_to_be_reexecuted": false,
    "execution_millis": 2,
    "execution_start": 1652180569351,
    "source_hash": "ea5ebfa1",
    "deepnote_cell_type": "code",
    "deepnote_cell_height": 99
   },
   "source": "# Criando uma lista em Python.\nlista = [1,2,3]",
   "outputs": [],
   "execution_count": null
  },
  {
   "cell_type": "code",
   "metadata": {
    "cell_id": "00015-c8bfd42b-22ca-41c8-a436-0f90085700ae",
    "deepnote_to_be_reexecuted": false,
    "execution_millis": 474,
    "execution_start": 1652180570320,
    "source_hash": "8a17b22b",
    "deepnote_cell_type": "code",
    "deepnote_cell_height": 118,
    "deepnote_output_heights": [
     21
    ]
   },
   "source": "lista",
   "outputs": [
    {
     "data": {
      "text/plain": "[1, 2, 3]"
     },
     "execution_count": 12,
     "metadata": {},
     "output_type": "execute_result"
    }
   ],
   "execution_count": null
  },
  {
   "cell_type": "code",
   "metadata": {
    "cell_id": "00016-3125d666-4da3-4dcf-aa12-9f5115c159de",
    "deepnote_to_be_reexecuted": false,
    "execution_millis": 3,
    "execution_start": 1652180571185,
    "source_hash": "ea755ab7",
    "deepnote_cell_type": "code",
    "deepnote_cell_height": 136,
    "deepnote_output_heights": [
     21
    ]
   },
   "source": "# Multiplicar valores da lista por 2.\nlista * 2",
   "outputs": [
    {
     "data": {
      "text/plain": "[1, 2, 3, 1, 2, 3]"
     },
     "execution_count": 13,
     "metadata": {},
     "output_type": "execute_result"
    }
   ],
   "execution_count": null
  },
  {
   "cell_type": "code",
   "metadata": {
    "cell_id": "00017-eee1f033-39af-4397-b5a4-270699451483",
    "deepnote_to_be_reexecuted": false,
    "execution_millis": 3,
    "execution_start": 1652180576673,
    "source_hash": "78c39ca2",
    "deepnote_cell_type": "code",
    "deepnote_cell_height": 99
   },
   "source": "# Transforme a variável lista em um array Numpy\nlista = np.array(lista)",
   "outputs": [],
   "execution_count": null
  },
  {
   "cell_type": "code",
   "metadata": {
    "cell_id": "00018-375d663c-8c46-4242-bde9-b42e2f6a861f",
    "deepnote_to_be_reexecuted": false,
    "execution_millis": 5,
    "execution_start": 1652180577444,
    "source_hash": "8c83453e",
    "deepnote_cell_type": "code",
    "deepnote_cell_height": 136,
    "deepnote_output_heights": [
     21
    ]
   },
   "source": "# Imprimindo o tipo do objeto.\ntype(lista)",
   "outputs": [
    {
     "data": {
      "text/plain": "numpy.ndarray"
     },
     "execution_count": 15,
     "metadata": {},
     "output_type": "execute_result"
    }
   ],
   "execution_count": null
  },
  {
   "cell_type": "code",
   "metadata": {
    "cell_id": "00019-65dbd617-ddf9-4d97-926d-1c6893e01dc4",
    "deepnote_to_be_reexecuted": false,
    "execution_millis": 450,
    "execution_start": 1652180578474,
    "source_hash": "6369f528",
    "deepnote_cell_type": "code",
    "deepnote_cell_height": 136,
    "deepnote_output_heights": [
     21
    ]
   },
   "source": "# Multiplicando cada elemento por 2.\nlista * 2",
   "outputs": [
    {
     "data": {
      "text/plain": "array([2, 4, 6])"
     },
     "execution_count": 16,
     "metadata": {},
     "output_type": "execute_result"
    }
   ],
   "execution_count": null
  },
  {
   "cell_type": "code",
   "metadata": {
    "cell_id": "00020-dc5de8a0-dd45-4f63-b596-0ccd33d1141f",
    "deepnote_to_be_reexecuted": false,
    "execution_millis": 2,
    "execution_start": 1652180582719,
    "source_hash": "c0ef3077",
    "deepnote_cell_type": "code",
    "deepnote_cell_height": 117
   },
   "source": "# Calcular IMC de pessoas.\npesos = [67,81,120,90]\naltura = [1.68,1.70,1.75,1.85]",
   "outputs": [],
   "execution_count": null
  },
  {
   "cell_type": "code",
   "metadata": {
    "cell_id": "00021-736f54b4-6bbf-4d64-990b-585e52a12276",
    "deepnote_to_be_reexecuted": false,
    "execution_millis": 864,
    "execution_start": 1652180585748,
    "source_hash": "acbdf9db",
    "deepnote_cell_type": "code",
    "deepnote_cell_height": 162.1999969482422
   },
   "source": "# Faz o calculo usando as listas\npesos/altura**2",
   "outputs": [
    {
     "ename": "TypeError",
     "evalue": "unsupported operand type(s) for ** or pow(): 'list' and 'int'",
     "output_type": "error",
     "traceback": [
      "\u001b[1;31m---------------------------------------------------------------------------\u001b[0m",
      "\u001b[1;31mTypeError\u001b[0m                                 Traceback (most recent call last)",
      "\u001b[1;32m<ipython-input-18-eb14f0efc6ca>\u001b[0m in \u001b[0;36m<module>\u001b[1;34m\u001b[0m\n\u001b[0;32m      1\u001b[0m \u001b[1;31m# Faz o calculo usando as listas\u001b[0m\u001b[1;33m\u001b[0m\u001b[1;33m\u001b[0m\u001b[1;33m\u001b[0m\u001b[0m\n\u001b[1;32m----> 2\u001b[1;33m \u001b[0mpesos\u001b[0m\u001b[1;33m/\u001b[0m\u001b[0maltura\u001b[0m\u001b[1;33m**\u001b[0m\u001b[1;36m2\u001b[0m\u001b[1;33m\u001b[0m\u001b[1;33m\u001b[0m\u001b[0m\n\u001b[0m",
      "\u001b[1;31mTypeError\u001b[0m: unsupported operand type(s) for ** or pow(): 'list' and 'int'"
     ]
    }
   ],
   "execution_count": null
  },
  {
   "cell_type": "code",
   "metadata": {
    "cell_id": "00022-f5f71289-1324-40da-a3b4-445263d4fefb",
    "deepnote_to_be_reexecuted": false,
    "execution_millis": 2,
    "execution_start": 1652180590700,
    "source_hash": "980d91b7",
    "deepnote_cell_type": "code",
    "deepnote_cell_height": 117
   },
   "source": "# Transforme isso em arrays numpy\npesos = np.array(pesos)\naltura = np.array(altura)",
   "outputs": [],
   "execution_count": null
  },
  {
   "cell_type": "code",
   "metadata": {
    "cell_id": "00023-c8890093-6950-4eff-9951-edafaf3ad888",
    "deepnote_to_be_reexecuted": false,
    "execution_millis": 6,
    "execution_start": 1652180593375,
    "source_hash": "26447e1e",
    "deepnote_cell_type": "code",
    "deepnote_cell_height": 136,
    "deepnote_output_heights": [
     21
    ]
   },
   "source": "# Imprime o calculo de cada valor\npesos / altura**2",
   "outputs": [
    {
     "data": {
      "text/plain": "array([23.73866213, 28.02768166, 39.18367347, 26.29656684])"
     },
     "execution_count": 20,
     "metadata": {},
     "output_type": "execute_result"
    }
   ],
   "execution_count": null
  },
  {
   "cell_type": "code",
   "metadata": {
    "cell_id": "00024-034c4afd-5734-4e5c-9ac7-93a770c0c93b",
    "deepnote_to_be_reexecuted": false,
    "execution_millis": 2,
    "execution_start": 1652180596342,
    "source_hash": "a0d14645",
    "deepnote_cell_type": "code",
    "deepnote_cell_height": 99
   },
   "source": "# Arrays Numpy armazena elementos como strings quando estes não são inteiros ou float\na = np.array([1,3,'Casa',True])",
   "outputs": [],
   "execution_count": null
  },
  {
   "cell_type": "code",
   "metadata": {
    "cell_id": "00025-e4b14bd6-ca8b-4cca-a701-1a2f7b3928ff",
    "deepnote_to_be_reexecuted": false,
    "execution_millis": 9,
    "execution_start": 1652180597927,
    "source_hash": "ef4233c",
    "deepnote_cell_type": "code",
    "deepnote_cell_height": 118,
    "deepnote_output_heights": [
     21
    ]
   },
   "source": "a",
   "outputs": [
    {
     "data": {
      "text/plain": "array(['1', '3', 'Casa', 'True'], dtype='<U11')"
     },
     "execution_count": 22,
     "metadata": {},
     "output_type": "execute_result"
    }
   ],
   "execution_count": null
  },
  {
   "cell_type": "code",
   "metadata": {
    "cell_id": "00026-6fd91991-f19f-403d-b6c3-96488cadeaad",
    "deepnote_to_be_reexecuted": false,
    "execution_millis": 11,
    "execution_start": 1652180597935,
    "source_hash": "bddad2ad",
    "deepnote_cell_type": "code",
    "deepnote_cell_height": 144.1999969482422
   },
   "source": "a*2 ",
   "outputs": [
    {
     "ename": "UFuncTypeError",
     "evalue": "ufunc 'multiply' did not contain a loop with signature matching types (dtype('<U11'), dtype('<U11')) -> dtype('<U11')",
     "output_type": "error",
     "traceback": [
      "\u001b[1;31m---------------------------------------------------------------------------\u001b[0m",
      "\u001b[1;31mUFuncTypeError\u001b[0m                            Traceback (most recent call last)",
      "\u001b[1;32m<ipython-input-23-f0c80702f8c1>\u001b[0m in \u001b[0;36m<module>\u001b[1;34m\u001b[0m\n\u001b[1;32m----> 1\u001b[1;33m \u001b[0ma\u001b[0m\u001b[1;33m*\u001b[0m\u001b[1;36m2\u001b[0m\u001b[1;33m\u001b[0m\u001b[1;33m\u001b[0m\u001b[0m\n\u001b[0m",
      "\u001b[1;31mUFuncTypeError\u001b[0m: ufunc 'multiply' did not contain a loop with signature matching types (dtype('<U11'), dtype('<U11')) -> dtype('<U11')"
     ]
    }
   ],
   "execution_count": null
  },
  {
   "cell_type": "markdown",
   "source": "# Métodos e Atributos Úteis",
   "metadata": {
    "cell_id": "00027-2dd6a0b6-2e6c-430d-a76e-31b980ed5347",
    "deepnote_cell_type": "markdown",
    "deepnote_cell_height": 82
   }
  },
  {
   "cell_type": "code",
   "metadata": {
    "cell_id": "00028-5301b1c2-8f28-437f-8515-91e83b26ff68",
    "deepnote_to_be_reexecuted": false,
    "execution_millis": 1,
    "execution_start": 1652180613230,
    "source_hash": "747573a2",
    "deepnote_cell_type": "code",
    "deepnote_cell_height": 162.1999969482422
   },
   "source": "# Métodos disponíveis (digite o . pressione tab).\ntwo_dim.",
   "outputs": [
    {
     "ename": "SyntaxError",
     "evalue": "invalid syntax (<ipython-input-24-538b6f2a23d9>, line 2)",
     "output_type": "error",
     "traceback": [
      "\u001b[1;36m  File \u001b[1;32m\"<ipython-input-24-538b6f2a23d9>\"\u001b[1;36m, line \u001b[1;32m2\u001b[0m\n\u001b[1;33m    two_dim.\u001b[0m\n\u001b[1;37m            ^\u001b[0m\n\u001b[1;31mSyntaxError\u001b[0m\u001b[1;31m:\u001b[0m invalid syntax\n"
     ]
    }
   ],
   "execution_count": null
  },
  {
   "cell_type": "code",
   "metadata": {
    "cell_id": "00029-2d230de0-5e48-4632-9f39-cd7e65435045",
    "deepnote_to_be_reexecuted": false,
    "execution_millis": 4,
    "execution_start": 1652180626509,
    "source_hash": "19ec9dc0",
    "deepnote_cell_type": "code",
    "deepnote_cell_height": 137,
    "deepnote_output_heights": [
     40
    ]
   },
   "source": "two_dim",
   "outputs": [
    {
     "data": {
      "text/plain": "array([[1, 2, 3],\n       [4, 5, 6]])"
     },
     "execution_count": 25,
     "metadata": {},
     "output_type": "execute_result"
    }
   ],
   "execution_count": null
  },
  {
   "cell_type": "code",
   "metadata": {
    "cell_id": "00030-8ac5296c-fc62-4b6f-aee0-2cf8ed2dbe71",
    "deepnote_to_be_reexecuted": false,
    "execution_millis": 4,
    "execution_start": 1652180629012,
    "source_hash": "91ade106",
    "deepnote_cell_type": "code",
    "deepnote_cell_height": 136,
    "deepnote_output_heights": [
     21
    ]
   },
   "source": "# Retorna a forma do array no formato linhas e colunas.\ntwo_dim.shape",
   "outputs": [
    {
     "data": {
      "text/plain": "(2, 3)"
     },
     "execution_count": 26,
     "metadata": {},
     "output_type": "execute_result"
    }
   ],
   "execution_count": null
  },
  {
   "cell_type": "code",
   "metadata": {
    "cell_id": "00031-5c4b1947-4bf4-4fed-a3b9-7ec66fdac333",
    "deepnote_to_be_reexecuted": false,
    "execution_millis": 5,
    "execution_start": 1652180631518,
    "source_hash": "51b24732",
    "deepnote_cell_type": "code",
    "deepnote_cell_height": 136,
    "deepnote_output_heights": [
     21
    ]
   },
   "source": "# Retorna a quantidade de dimensões.\ntwo_dim.ndim",
   "outputs": [
    {
     "data": {
      "text/plain": "2"
     },
     "execution_count": 27,
     "metadata": {},
     "output_type": "execute_result"
    }
   ],
   "execution_count": null
  },
  {
   "cell_type": "code",
   "metadata": {
    "cell_id": "00032-83a1a332-6124-415d-9662-de59a348d64d",
    "deepnote_to_be_reexecuted": false,
    "execution_millis": 10,
    "execution_start": 1652180634150,
    "source_hash": "ad02fd81",
    "deepnote_cell_type": "code",
    "deepnote_cell_height": 136,
    "deepnote_output_heights": [
     21
    ]
   },
   "source": "# Imprimindo o valor máximo do array.\ntwo_dim.max()",
   "outputs": [
    {
     "data": {
      "text/plain": "6"
     },
     "execution_count": 28,
     "metadata": {},
     "output_type": "execute_result"
    }
   ],
   "execution_count": null
  },
  {
   "cell_type": "code",
   "metadata": {
    "cell_id": "00033-d573e009-70a1-4df3-b4a0-8a46339a733c",
    "deepnote_to_be_reexecuted": false,
    "execution_millis": 4,
    "execution_start": 1652180636445,
    "source_hash": "bc026348",
    "deepnote_cell_type": "code",
    "deepnote_cell_height": 136,
    "deepnote_output_heights": [
     21
    ]
   },
   "source": "# Imprimindo o valor mínimo.\ntwo_dim.min()",
   "outputs": [
    {
     "data": {
      "text/plain": "1"
     },
     "execution_count": 29,
     "metadata": {},
     "output_type": "execute_result"
    }
   ],
   "execution_count": null
  },
  {
   "cell_type": "code",
   "metadata": {
    "cell_id": "00034-3807c311-476e-469e-814d-7d6b6f53db32",
    "deepnote_to_be_reexecuted": false,
    "execution_millis": 0,
    "execution_start": 1652180639209,
    "source_hash": "4a41ea11",
    "deepnote_cell_type": "code",
    "deepnote_cell_height": 136,
    "deepnote_output_heights": [
     21
    ]
   },
   "source": "# Imprimindo o valor médio.\ntwo_dim.mean()",
   "outputs": [
    {
     "data": {
      "text/plain": "3.5"
     },
     "execution_count": 30,
     "metadata": {},
     "output_type": "execute_result"
    }
   ],
   "execution_count": null
  },
  {
   "cell_type": "code",
   "metadata": {
    "cell_id": "00035-54ef5f2b-61e1-48a4-ac8c-ce12a85a05f4",
    "deepnote_to_be_reexecuted": false,
    "execution_millis": 4,
    "execution_start": 1652180640338,
    "source_hash": "6446d758",
    "deepnote_cell_type": "code",
    "deepnote_cell_height": 136,
    "deepnote_output_heights": [
     21
    ]
   },
   "source": "# Imprimindo o desvio padrão.\ntwo_dim.std()",
   "outputs": [
    {
     "data": {
      "text/plain": "1.707825127659933"
     },
     "execution_count": 31,
     "metadata": {},
     "output_type": "execute_result"
    }
   ],
   "execution_count": null
  },
  {
   "cell_type": "code",
   "metadata": {
    "cell_id": "00036-4e569e0d-4e77-4b00-9cd3-7e7d0ac10eab",
    "deepnote_to_be_reexecuted": false,
    "execution_millis": 8,
    "execution_start": 1652180641845,
    "source_hash": "19ec9dc0",
    "deepnote_cell_type": "code",
    "deepnote_cell_height": 137,
    "deepnote_output_heights": [
     40
    ]
   },
   "source": "two_dim",
   "outputs": [
    {
     "data": {
      "text/plain": "array([[1, 2, 3],\n       [4, 5, 6]])"
     },
     "execution_count": 32,
     "metadata": {},
     "output_type": "execute_result"
    }
   ],
   "execution_count": null
  },
  {
   "cell_type": "code",
   "metadata": {
    "cell_id": "00037-8e28f044-6465-4c58-8679-bb0b3f71101f",
    "deepnote_to_be_reexecuted": false,
    "execution_millis": 504,
    "execution_start": 1652180643897,
    "source_hash": "4ab2a9a7",
    "deepnote_cell_type": "code",
    "deepnote_cell_height": 118,
    "deepnote_output_heights": [
     21
    ]
   },
   "source": "two_dim.dtype",
   "outputs": [
    {
     "data": {
      "text/plain": "dtype('int32')"
     },
     "execution_count": 33,
     "metadata": {},
     "output_type": "execute_result"
    }
   ],
   "execution_count": null
  },
  {
   "cell_type": "code",
   "metadata": {
    "cell_id": "00038-bd3c7031-53d2-4a53-9a9e-2cb5512ed5c1",
    "deepnote_to_be_reexecuted": false,
    "execution_millis": 4,
    "execution_start": 1652180644670,
    "source_hash": "558cdeb0",
    "deepnote_cell_type": "code",
    "deepnote_cell_height": 118,
    "deepnote_output_heights": [
     21
    ]
   },
   "source": "two_dim.size",
   "outputs": [
    {
     "data": {
      "text/plain": "6"
     },
     "execution_count": 34,
     "metadata": {},
     "output_type": "execute_result"
    }
   ],
   "execution_count": null
  },
  {
   "cell_type": "code",
   "metadata": {
    "cell_id": "00039-abced22f-bd88-45d4-b283-5838043f2598",
    "deepnote_to_be_reexecuted": false,
    "execution_millis": 0,
    "execution_start": 1652180645655,
    "source_hash": "29ab268c",
    "deepnote_cell_type": "code",
    "deepnote_cell_height": 136,
    "deepnote_output_heights": [
     21
    ]
   },
   "source": "# mostra a quantidade\ntwo_dim.itemsize",
   "outputs": [
    {
     "data": {
      "text/plain": "4"
     },
     "execution_count": 35,
     "metadata": {},
     "output_type": "execute_result"
    }
   ],
   "execution_count": null
  },
  {
   "cell_type": "code",
   "metadata": {
    "cell_id": "00040-01968ed0-8837-4f7d-86d8-375daf6a143b",
    "deepnote_to_be_reexecuted": false,
    "execution_millis": 3,
    "execution_start": 1652180646289,
    "source_hash": "2f12d688",
    "deepnote_cell_type": "code",
    "deepnote_cell_height": 136,
    "deepnote_output_heights": [
     21
    ]
   },
   "source": "# Somando todos os elementos do array.\ntwo_dim.sum()",
   "outputs": [
    {
     "data": {
      "text/plain": "21"
     },
     "execution_count": 36,
     "metadata": {},
     "output_type": "execute_result"
    }
   ],
   "execution_count": null
  },
  {
   "cell_type": "markdown",
   "source": "#  Transformando Arrays",
   "metadata": {
    "cell_id": "00041-2876c47e-e7c8-45d5-9f2f-91697e4ee1fb",
    "deepnote_cell_type": "markdown",
    "deepnote_cell_height": 82
   }
  },
  {
   "cell_type": "code",
   "metadata": {
    "cell_id": "00042-d8692e51-e9fc-49cb-afd0-bd52520ede47",
    "deepnote_to_be_reexecuted": false,
    "execution_millis": 5,
    "execution_start": 1652180650127,
    "source_hash": "19ec9dc0",
    "deepnote_cell_type": "code",
    "deepnote_cell_height": 137,
    "deepnote_output_heights": [
     40
    ]
   },
   "source": "two_dim",
   "outputs": [
    {
     "data": {
      "text/plain": "array([[1, 2, 3],\n       [4, 5, 6]])"
     },
     "execution_count": 37,
     "metadata": {},
     "output_type": "execute_result"
    }
   ],
   "execution_count": null
  },
  {
   "cell_type": "code",
   "metadata": {
    "cell_id": "00043-71b8fd92-4440-4bce-a313-fa59b22a3ced",
    "deepnote_to_be_reexecuted": false,
    "execution_millis": 4,
    "execution_start": 1652180654472,
    "source_hash": "97f95a30",
    "deepnote_cell_type": "code",
    "deepnote_cell_height": 175,
    "deepnote_output_heights": [
     60
    ]
   },
   "source": "# Gera a Transposta da Matriz (Linha -> coluna)\ntwo_dim.T",
   "outputs": [
    {
     "data": {
      "text/plain": "array([[1, 4],\n       [2, 5],\n       [3, 6]])"
     },
     "execution_count": 38,
     "metadata": {},
     "output_type": "execute_result"
    }
   ],
   "execution_count": null
  },
  {
   "cell_type": "code",
   "metadata": {
    "cell_id": "00044-67ce7a99-8e21-47af-a083-d72eb0b279b3",
    "deepnote_to_be_reexecuted": false,
    "execution_millis": 2,
    "execution_start": 1652180656978,
    "source_hash": "19ec9dc0",
    "deepnote_cell_type": "code",
    "deepnote_cell_height": 137,
    "deepnote_output_heights": [
     40
    ]
   },
   "source": "two_dim",
   "outputs": [
    {
     "data": {
      "text/plain": "array([[1, 2, 3],\n       [4, 5, 6]])"
     },
     "execution_count": 39,
     "metadata": {},
     "output_type": "execute_result"
    }
   ],
   "execution_count": null
  },
  {
   "cell_type": "code",
   "metadata": {
    "cell_id": "00045-69691acf-b274-4ee3-a552-d0097c2f1f10",
    "deepnote_to_be_reexecuted": false,
    "execution_millis": 567,
    "execution_start": 1652180657392,
    "source_hash": "ae9dfa30",
    "deepnote_cell_type": "code",
    "deepnote_cell_height": 154,
    "deepnote_output_heights": [
     21
    ]
   },
   "source": "# Transforma em uma matriz de uma linha.\n# È muito comum em bibliotecas como scikit-learn e Keras\ntwo_dim.reshape(-1)",
   "outputs": [
    {
     "data": {
      "text/plain": "array([1, 2, 3, 4, 5, 6])"
     },
     "execution_count": 40,
     "metadata": {},
     "output_type": "execute_result"
    }
   ],
   "execution_count": null
  },
  {
   "cell_type": "code",
   "metadata": {
    "cell_id": "00046-929d6908-8e77-4cb9-9035-16c75a1ee576",
    "deepnote_to_be_reexecuted": false,
    "execution_millis": 1,
    "execution_start": 1652180660934,
    "source_hash": "9d988a09",
    "deepnote_cell_type": "code",
    "deepnote_cell_height": 81
   },
   "source": "tree = np.random.random((5,3))",
   "outputs": [],
   "execution_count": null
  },
  {
   "cell_type": "code",
   "metadata": {
    "cell_id": "00047-d6336354-6178-446b-acf6-ba09ecb1dbb7",
    "deepnote_to_be_reexecuted": false,
    "execution_millis": 4,
    "execution_start": 1652180661326,
    "source_hash": "fbbf9f99",
    "deepnote_cell_type": "code",
    "deepnote_cell_height": 118,
    "deepnote_output_heights": [
     21
    ]
   },
   "source": "tree.shape",
   "outputs": [
    {
     "data": {
      "text/plain": "(5, 3)"
     },
     "execution_count": 42,
     "metadata": {},
     "output_type": "execute_result"
    }
   ],
   "execution_count": null
  },
  {
   "cell_type": "code",
   "metadata": {
    "cell_id": "00048-757d75ea-3b71-4957-b91c-0e103794b95b",
    "deepnote_to_be_reexecuted": false,
    "execution_millis": 6,
    "execution_start": 1652180662145,
    "source_hash": "b7b87b2f",
    "deepnote_cell_type": "code",
    "deepnote_cell_height": 195,
    "deepnote_output_heights": [
     98
    ]
   },
   "source": "tree",
   "outputs": [
    {
     "data": {
      "text/plain": "array([[0.72968794, 0.75497797, 0.79235148],\n       [0.97137436, 0.51622887, 0.7844031 ],\n       [0.8281129 , 0.95454643, 0.77690948],\n       [0.12363725, 0.0491011 , 0.08697961],\n       [0.01742717, 0.51475151, 0.76847145]])"
     },
     "execution_count": 43,
     "metadata": {},
     "output_type": "execute_result"
    }
   ],
   "execution_count": null
  },
  {
   "cell_type": "code",
   "metadata": {
    "cell_id": "00049-b840be3a-1d49-4fad-8a79-2e70d27db8d6",
    "deepnote_to_be_reexecuted": false,
    "execution_millis": 689,
    "execution_start": 1652180665593,
    "source_hash": "d81c47cd",
    "deepnote_cell_type": "code",
    "deepnote_cell_height": 175,
    "deepnote_output_heights": [
     60
    ]
   },
   "source": "# Transforma em uma matriz com 3 linhas e 5 colunas\ntree.reshape(3,5)",
   "outputs": [
    {
     "data": {
      "text/plain": "array([[0.72968794, 0.75497797, 0.79235148, 0.97137436, 0.51622887],\n       [0.7844031 , 0.8281129 , 0.95454643, 0.77690948, 0.12363725],\n       [0.0491011 , 0.08697961, 0.01742717, 0.51475151, 0.76847145]])"
     },
     "execution_count": 44,
     "metadata": {},
     "output_type": "execute_result"
    }
   ],
   "execution_count": null
  },
  {
   "cell_type": "code",
   "metadata": {
    "cell_id": "00050-72d56add-e30b-4f31-9fb2-db86edd000fb",
    "deepnote_to_be_reexecuted": false,
    "execution_millis": 85,
    "execution_start": 1652180685383,
    "source_hash": "4ccef7ea",
    "deepnote_cell_type": "code",
    "deepnote_cell_height": 157,
    "deepnote_output_heights": [
     60
    ]
   },
   "source": "tree.reshape(-1)",
   "outputs": [
    {
     "data": {
      "text/plain": "array([0.72968794, 0.75497797, 0.79235148, 0.97137436, 0.51622887,\n       0.7844031 , 0.8281129 , 0.95454643, 0.77690948, 0.12363725,\n       0.0491011 , 0.08697961, 0.01742717, 0.51475151, 0.76847145])"
     },
     "execution_count": 45,
     "metadata": {},
     "output_type": "execute_result"
    }
   ],
   "execution_count": null
  },
  {
   "cell_type": "code",
   "metadata": {
    "cell_id": "00051-ea61e20d-b5c5-4478-85c6-4cf777ad82de",
    "deepnote_to_be_reexecuted": false,
    "execution_millis": 2,
    "execution_start": 1652180735076,
    "source_hash": "4f80cf29",
    "deepnote_cell_type": "code",
    "deepnote_cell_height": 175,
    "deepnote_output_heights": [
     60
    ]
   },
   "source": "t=tree.reshape(1,15)\nt",
   "outputs": [
    {
     "data": {
      "text/plain": "array([[0.72968794, 0.75497797, 0.79235148, 0.97137436, 0.51622887,\n        0.7844031 , 0.8281129 , 0.95454643, 0.77690948, 0.12363725,\n        0.0491011 , 0.08697961, 0.01742717, 0.51475151, 0.76847145]])"
     },
     "execution_count": 46,
     "metadata": {},
     "output_type": "execute_result"
    }
   ],
   "execution_count": null
  },
  {
   "cell_type": "code",
   "metadata": {
    "cell_id": "00052-983d36e0-81f3-44df-a801-f36107f907e2",
    "deepnote_to_be_reexecuted": false,
    "execution_millis": 6,
    "execution_start": 1652180743670,
    "source_hash": "19ec9dc0",
    "deepnote_cell_type": "code",
    "deepnote_cell_height": 137,
    "deepnote_output_heights": [
     40
    ]
   },
   "source": "two_dim",
   "outputs": [
    {
     "data": {
      "text/plain": "array([[1, 2, 3],\n       [4, 5, 6]])"
     },
     "execution_count": 47,
     "metadata": {},
     "output_type": "execute_result"
    }
   ],
   "execution_count": null
  },
  {
   "cell_type": "code",
   "metadata": {
    "cell_id": "00053-f217ef0a-fd9a-406d-8c37-f8c83a589e79",
    "deepnote_to_be_reexecuted": false,
    "execution_millis": 2,
    "execution_start": 1652180748678,
    "source_hash": "e731a8e5",
    "deepnote_cell_type": "code",
    "deepnote_cell_height": 99
   },
   "source": "# Adicionando elementos a um array.\ntwo_dim = np.insert(two_dim,0,10)",
   "outputs": [],
   "execution_count": null
  },
  {
   "cell_type": "code",
   "metadata": {
    "cell_id": "00054-c95186be-2755-4870-809f-ef7abe49808c",
    "deepnote_to_be_reexecuted": false,
    "execution_millis": 8,
    "execution_start": 1652180749463,
    "source_hash": "3f181ece",
    "deepnote_cell_type": "code",
    "deepnote_cell_height": 136,
    "deepnote_output_heights": [
     21
    ]
   },
   "source": "# Transforma em um array de uma linha.\ntwo_dim",
   "outputs": [
    {
     "data": {
      "text/plain": "array([10,  1,  2,  3,  4,  5,  6])"
     },
     "execution_count": 49,
     "metadata": {},
     "output_type": "execute_result"
    }
   ],
   "execution_count": null
  },
  {
   "cell_type": "code",
   "metadata": {
    "cell_id": "00055-ed16de8e-e30a-43a3-9ddc-be83b4b9e484",
    "deepnote_to_be_reexecuted": false,
    "execution_millis": 3,
    "execution_start": 1652180750540,
    "source_hash": "53e2aa07",
    "deepnote_cell_type": "code",
    "deepnote_cell_height": 99
   },
   "source": "# Apagando o elemento da primeira posição do array.\ntwo_dim = np.delete(two_dim,[0])",
   "outputs": [],
   "execution_count": null
  },
  {
   "cell_type": "code",
   "metadata": {
    "cell_id": "00056-b9697b59-02cf-47f4-af99-df2e65479ddd",
    "deepnote_to_be_reexecuted": false,
    "execution_millis": 4,
    "execution_start": 1652180751793,
    "source_hash": "19ec9dc0",
    "deepnote_cell_type": "code",
    "deepnote_cell_height": 118,
    "deepnote_output_heights": [
     21
    ]
   },
   "source": "two_dim",
   "outputs": [
    {
     "data": {
      "text/plain": "array([1, 2, 3, 4, 5, 6])"
     },
     "execution_count": 51,
     "metadata": {},
     "output_type": "execute_result"
    }
   ],
   "execution_count": null
  },
  {
   "cell_type": "code",
   "metadata": {
    "cell_id": "00057-0bc77a4a-4aa1-48f7-a14c-248ff9f34c67",
    "deepnote_to_be_reexecuted": false,
    "execution_millis": 2,
    "execution_start": 1652180752529,
    "source_hash": "eeadc0fd",
    "deepnote_cell_type": "code",
    "deepnote_cell_height": 99
   },
   "source": "# Gerando um arquivo .txt a partir de um array\nnp.savetxt(\"dataset_array.txt\",two_dim, delimiter=',')",
   "outputs": [],
   "execution_count": null
  },
  {
   "cell_type": "code",
   "metadata": {
    "cell_id": "00058-be95e929-ca83-46bb-b860-a085f8eb5bef",
    "owner_user_id": "d001098f-5dea-4d4f-8c97-a79374dcf058",
    "deepnote_cell_type": "code",
    "deepnote_cell_height": 66
   },
   "source": "",
   "execution_count": null,
   "outputs": []
  },
  {
   "cell_type": "markdown",
   "source": "<a style='text-decoration:none;line-height:16px;display:flex;color:#5B5B62;padding:10px;justify-content:end;' href='https://deepnote.com?utm_source=created-in-deepnote-cell&projectId=31152f18-3036-40d1-92d9-59f0bbdc0756' target=\"_blank\">\n<img alt='Created in deepnote.com' style='display:inline;max-height:16px;margin:0px;margin-right:7.5px;' src='data:image/svg+xml;base64,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' > </img>\nCreated in <span style='font-weight:600;margin-left:4px;'>Deepnote</span></a>",
   "metadata": {
    "tags": [],
    "created_in_deepnote_cell": true,
    "deepnote_cell_type": "markdown"
   }
  }
 ],
 "nbformat": 4,
 "nbformat_minor": 2,
 "metadata": {
  "deepnote": {},
  "deepnote_execution_queue": [],
  "deepnote_notebook_id": "b0c20fe4-1c3a-47bc-8a85-bcbd2efe1c86",
  "hide_input": false,
  "kernelspec": {
   "display_name": "Python 3",
   "language": "python",
   "name": "python3"
  },
  "language_info": {
   "codemirror_mode": {
    "name": "ipython",
    "version": 3
   },
   "file_extension": ".py",
   "mimetype": "text/x-python",
   "name": "python",
   "nbconvert_exporter": "python",
   "pygments_lexer": "ipython3",
   "version": "3.8.8"
  }
 }
}