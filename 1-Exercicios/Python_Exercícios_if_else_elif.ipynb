{
 "cells": [
  {
   "cell_type": "markdown",
   "source": "### Exercício 1\n\nCrie um programa que leia a idade do usuário e classifique-o em:\n- Criança – 0 a 12 anos\n- Adolescente – 13 a 17 anos\n- Adulto – acima de 18 anos\n -Se o usuário digitar um número negativo, mostrar a mensagem que a idade é inválida\n",
   "metadata": {
    "cell_id": "c5816e9e-f0c6-404b-be00-db60328cf60e",
    "id": "c9BudZ2gNE2n",
    "deepnote_cell_type": "markdown",
    "deepnote_cell_height": 222
   }
  },
  {
   "cell_type": "code",
   "metadata": {
    "cell_id": "00003-b1cfffcf-bba0-435a-aaab-fdf3d8d7d647",
    "colab": {
     "base_uri": "https://localhost:8080/",
     "height": 34
    },
    "id": "Dy_UFha_Nb8o",
    "outputId": "a30b7782-abd1-416e-8455-f230afa5dad9",
    "deepnote_to_be_reexecuted": false,
    "source_hash": "28d79fdb",
    "execution_start": 1654009375369,
    "execution_millis": 1913,
    "deepnote_cell_type": "code",
    "deepnote_cell_height": 81
   },
   "source": "idade = float(input('Insira a sua idade: '))",
   "execution_count": null,
   "outputs": []
  },
  {
   "cell_type": "code",
   "metadata": {
    "cell_id": "dab290763a3e4095a0505e1b6bb17a81",
    "tags": [],
    "deepnote_to_be_reexecuted": false,
    "source_hash": "84ac643d",
    "execution_start": 1654009379193,
    "execution_millis": 4,
    "deepnote_cell_type": "code",
    "deepnote_cell_height": 255
   },
   "source": "if idade < 0:\n    print('Idade negativa ou igual a zero')\nelif idade <= 12:\n    print('Você é Crianca')\nelif idade <= 17:\n    print('Você é adolecente')\nelse:\n    print('Você é adulto')\n",
   "execution_count": null,
   "outputs": [
    {
     "name": "stdout",
     "text": "Idade negativa ou igual a zero\n",
     "output_type": "stream"
    }
   ]
  },
  {
   "cell_type": "markdown",
   "source": "### Exercício 2 \n\nCrie um programa que leia um número inteiro e apresenta as seguintes mensagens:\n- “O valor está na faixa permitida”, caso o valor esteja entre 1 e 9\n- “O valor está fora da faixa permitida”, caso o valor seja menor que 1 OU maior que 9",
   "metadata": {
    "cell_id": "00003-c9c412e4-79d1-4dc4-b367-698c3ebdb062",
    "deepnote_cell_type": "markdown",
    "deepnote_cell_height": 175
   }
  },
  {
   "cell_type": "code",
   "metadata": {
    "cell_id": "9254eee845a74b0593a4feae84a59200",
    "tags": [],
    "deepnote_to_be_reexecuted": false,
    "source_hash": "91cc3f33",
    "execution_start": 1654009584431,
    "execution_millis": 2718,
    "deepnote_cell_type": "code",
    "deepnote_cell_height": 81
   },
   "source": "numero = int(input('Insira um número inteiro: '))",
   "execution_count": null,
   "outputs": []
  },
  {
   "cell_type": "code",
   "metadata": {
    "cell_id": "ebc3022a9fee4914bcdc31d64d41186a",
    "tags": [],
    "deepnote_to_be_reexecuted": false,
    "source_hash": "b99aa6e1",
    "execution_start": 1654009591002,
    "execution_millis": 1,
    "deepnote_cell_type": "code",
    "deepnote_cell_height": 165
   },
   "source": "if numero >= 1 and numero <= 9:\n    print('O valor está na faixa permitida')\nelse:\n    print('O valor está fora da faixa permitida')",
   "execution_count": null,
   "outputs": [
    {
     "name": "stdout",
     "text": "O valor está fora da faixa permitida\n",
     "output_type": "stream"
    }
   ]
  },
  {
   "cell_type": "markdown",
   "source": "### Exercício 3\n\nCrie um programa que calcule a média de um aluno que cursou a disciplina de Estatística, a partir da leitura das notas M1, M2 e M3; passando por um cálculo da média aritmética. Após a média calculada, devemos anunciar se o aluno foi aprovado, reprovado ou pegou exame\n- Se a média estiver entre 0.0 e 4.0, o aluno está reprovado\n- Se a média estiver entre 4.1 e 6.0, o aluno pegou exame\n- Se a média for maior do que 6.0, o aluno está aprovado\n- Se o aluno pegou exame, deve ser lida a nota do exame. Se a nota do exame for maior do que 6.0, está aprovado, senão; está reprovado",
   "metadata": {
    "cell_id": "00004-5537f7e7-3395-434f-9d3d-7b6cd2112b7a",
    "id": "QK3YAlgdN0t3",
    "deepnote_cell_type": "markdown",
    "deepnote_cell_height": 313
   }
  },
  {
   "cell_type": "code",
   "metadata": {
    "cell_id": "00005-4130c163-d23f-42ff-9e34-6d207e6c24fb",
    "colab": {
     "base_uri": "https://localhost:8080/",
     "height": 67
    },
    "id": "FIz6i8_LOByQ",
    "outputId": "bd0e5481-5206-44b4-aabd-dafd3273c37e",
    "deepnote_to_be_reexecuted": false,
    "source_hash": "daaf936a",
    "execution_start": 1654011446341,
    "execution_millis": 9647,
    "deepnote_cell_type": "code",
    "deepnote_cell_height": 135
   },
   "source": "nome = input('Insira seu nome: ')\nm1 = float(input('Insira a sua primeira média: '))\nm2 = float(input('Insira a sua segunda média: '))\nm3 = float(input('Insira a sua terceira média: '))",
   "execution_count": null,
   "outputs": []
  },
  {
   "cell_type": "code",
   "metadata": {
    "cell_id": "00006-e8dc5914-ad4a-481f-b18e-050dd82a75aa",
    "colab": {
     "base_uri": "https://localhost:8080/",
     "height": 34
    },
    "id": "g1-4CUlMORsU",
    "outputId": "ae391d8c-0d62-4394-a147-d1462ba63f0c",
    "deepnote_to_be_reexecuted": false,
    "source_hash": "27ea7703",
    "execution_start": 1654011502022,
    "execution_millis": 3,
    "deepnote_cell_type": "code",
    "deepnote_cell_height": 99
   },
   "source": "media = round((m1 + m2 + m3)/3,2)\nexame = False",
   "execution_count": null,
   "outputs": []
  },
  {
   "cell_type": "code",
   "metadata": {
    "cell_id": "00007-392beeb7-17ce-44f4-bab0-0872192c6078",
    "colab": {
     "base_uri": "https://localhost:8080/",
     "height": 50
    },
    "id": "9uVrqKjhOcAV",
    "outputId": "ef5f896b-22c3-4aed-d97c-bd632a0fac71",
    "deepnote_to_be_reexecuted": false,
    "source_hash": "898a35bd",
    "execution_start": 1654011503994,
    "execution_millis": 5906,
    "deepnote_cell_type": "code",
    "deepnote_cell_height": 346
   },
   "source": "if media >= 6:\n    print('{}, você foi aprovado na disciplina de Estatística com a média de: {}'.format(nome, media))\nelif media <= 4:\n    print('{}, você foi reprovado na disciplina de Estatística com a média de: {}'.format(nome, media))\nelif media <= 6:\n    print('{}, você está em exame na disciplina de Estatística com a média de: {}'.format(nome, media))\n    exame = True\nif exame == True:\n    nota_exame = float(input('Insira a nota do seu exame: '))\n    if nota_exame >= 6:\n        print('{}, você foi aprovado na disciplina de Estatística com a nota do exame de: {}'.format(nome,nota_exame))\n    else:\n        print('{}, você foi reprovado na disciplina de Estatística com a nota do exame de: {}'.format(nome,nota_exame))",
   "execution_count": null,
   "outputs": [
    {
     "name": "stdout",
     "text": "Andr, você está em exame na disciplina de Estatística com a média de: 4.17\nAndr, você foi reprovado na disciplina de Estatística com a nota do exame de: 5.0\n",
     "output_type": "stream"
    }
   ]
  },
  {
   "cell_type": "markdown",
   "source": "### Exercício 4 \nCrie um programa que leia dois números reais e uma operação, e com isso imprima o resultado de acordo com a operação escolhida pelo usuário: adição, subtração, multiplicação e divisão.\nCaso seja informada operação inválida, mostrar na tela",
   "metadata": {
    "cell_id": "00008-bbfa7129-34eb-450a-91eb-40c5b1a17530",
    "deepnote_cell_type": "markdown",
    "deepnote_cell_height": 144
   }
  },
  {
   "cell_type": "code",
   "metadata": {
    "cell_id": "00009-b08f60b7-3262-4c04-8881-e51046075ccc",
    "deepnote_to_be_reexecuted": false,
    "source_hash": "10111cf1",
    "execution_start": 1654012762400,
    "execution_millis": 3472,
    "deepnote_cell_type": "code",
    "deepnote_cell_height": 198
   },
   "source": "n1 = float(input('Insira um numero real: '))\nn2 = float(input('Insira um numero real: '))\noperacao = int(input('Qual operação você deseja fazer? '))\n",
   "execution_count": null,
   "outputs": [
    {
     "output_type": "error",
     "ename": "ValueError",
     "evalue": "could not convert string to float: ",
     "traceback": [
      "\u001b[0;31m---------------------------------------------------------------------------\u001b[0m",
      "\u001b[0;31mValueError\u001b[0m                                Traceback (most recent call last)",
      "\u001b[0;32m<ipython-input-63-1cbe46991d45>\u001b[0m in \u001b[0;36m<module>\u001b[0;34m\u001b[0m\n\u001b[0;32m----> 1\u001b[0;31m \u001b[0mn1\u001b[0m \u001b[0;34m=\u001b[0m \u001b[0mfloat\u001b[0m\u001b[0;34m(\u001b[0m\u001b[0minput\u001b[0m\u001b[0;34m(\u001b[0m\u001b[0;34m'Insira um numero real: '\u001b[0m\u001b[0;34m)\u001b[0m\u001b[0;34m)\u001b[0m\u001b[0;34m\u001b[0m\u001b[0;34m\u001b[0m\u001b[0m\n\u001b[0m\u001b[1;32m      2\u001b[0m \u001b[0mn2\u001b[0m \u001b[0;34m=\u001b[0m \u001b[0mfloat\u001b[0m\u001b[0;34m(\u001b[0m\u001b[0minput\u001b[0m\u001b[0;34m(\u001b[0m\u001b[0;34m'Insira um numero real: '\u001b[0m\u001b[0;34m)\u001b[0m\u001b[0;34m)\u001b[0m\u001b[0;34m\u001b[0m\u001b[0;34m\u001b[0m\u001b[0m\n\u001b[1;32m      3\u001b[0m \u001b[0moperacao\u001b[0m \u001b[0;34m=\u001b[0m \u001b[0mint\u001b[0m\u001b[0;34m(\u001b[0m\u001b[0minput\u001b[0m\u001b[0;34m(\u001b[0m\u001b[0;34m'Qual operação você deseja fazer? '\u001b[0m\u001b[0;34m)\u001b[0m\u001b[0;34m)\u001b[0m\u001b[0;34m\u001b[0m\u001b[0;34m\u001b[0m\u001b[0m\n",
      "\u001b[0;31mValueError\u001b[0m: could not convert string to float: "
     ]
    }
   ]
  },
  {
   "cell_type": "code",
   "metadata": {
    "cell_id": "4f5ae71be7b54a83851e52e4adc574c8",
    "tags": [],
    "deepnote_to_be_reexecuted": false,
    "source_hash": "31934d52",
    "execution_start": 1654012723842,
    "execution_millis": 5,
    "deepnote_cell_type": "code",
    "deepnote_cell_height": 306
   },
   "source": "if operacao == 1:\n    print(n1+n2)\nelif operacao == 2:\n    print(n1-n2)\nelif operacao == 3:\n    print(n1*n2)\nelif operacao == 4:\n    print(n1/n2)\nelif operacao > 4 and operacao < 1:\n    print('Operação invalida')",
   "execution_count": null,
   "outputs": [
    {
     "output_type": "error",
     "ename": "TypeError",
     "evalue": "'>' not supported between instances of 'str' and 'int'",
     "traceback": [
      "\u001b[0;31m---------------------------------------------------------------------------\u001b[0m",
      "\u001b[0;31mTypeError\u001b[0m                                 Traceback (most recent call last)",
      "\u001b[0;32m<ipython-input-62-79cd421a3dfc>\u001b[0m in \u001b[0;36m<module>\u001b[0;34m\u001b[0m\n\u001b[1;32m      7\u001b[0m \u001b[0;32melif\u001b[0m \u001b[0moperacao\u001b[0m \u001b[0;34m==\u001b[0m \u001b[0;36m4\u001b[0m\u001b[0;34m:\u001b[0m\u001b[0;34m\u001b[0m\u001b[0;34m\u001b[0m\u001b[0m\n\u001b[1;32m      8\u001b[0m     \u001b[0mprint\u001b[0m\u001b[0;34m(\u001b[0m\u001b[0mn1\u001b[0m\u001b[0;34m/\u001b[0m\u001b[0mn2\u001b[0m\u001b[0;34m)\u001b[0m\u001b[0;34m\u001b[0m\u001b[0;34m\u001b[0m\u001b[0m\n\u001b[0;32m----> 9\u001b[0;31m \u001b[0;32melif\u001b[0m \u001b[0moperacao\u001b[0m \u001b[0;34m>\u001b[0m \u001b[0;36m4\u001b[0m \u001b[0;32mand\u001b[0m \u001b[0moperacao\u001b[0m \u001b[0;34m<\u001b[0m \u001b[0;36m1\u001b[0m\u001b[0;34m:\u001b[0m\u001b[0;34m\u001b[0m\u001b[0;34m\u001b[0m\u001b[0m\n\u001b[0m\u001b[1;32m     10\u001b[0m     \u001b[0mprint\u001b[0m\u001b[0;34m(\u001b[0m\u001b[0;34m'Operação invalida'\u001b[0m\u001b[0;34m)\u001b[0m\u001b[0;34m\u001b[0m\u001b[0;34m\u001b[0m\u001b[0m\n",
      "\u001b[0;31mTypeError\u001b[0m: '>' not supported between instances of 'str' and 'int'"
     ]
    }
   ]
  },
  {
   "cell_type": "markdown",
   "source": "<a style='text-decoration:none;line-height:16px;display:flex;color:#5B5B62;padding:10px;justify-content:end;' href='https://deepnote.com?utm_source=created-in-deepnote-cell&projectId=31152f18-3036-40d1-92d9-59f0bbdc0756' target=\"_blank\">\n<img alt='Created in deepnote.com' style='display:inline;max-height:16px;margin:0px;margin-right:7.5px;' src='data:image/svg+xml;base64,PD94bWwgdmVyc2lvbj0iMS4wIiBlbmNvZGluZz0iVVRGLTgiPz4KPHN2ZyB3aWR0aD0iODBweCIgaGVpZ2h0PSI4MHB4IiB2aWV3Qm94PSIwIDAgODAgODAiIHZlcnNpb249IjEuMSIgeG1sbnM9Imh0dHA6Ly93d3cudzMub3JnLzIwMDAvc3ZnIiB4bWxuczp4bGluaz0iaHR0cDovL3d3dy53My5vcmcvMTk5OS94bGluayI+CiAgICA8IS0tIEdlbmVyYXRvcjogU2tldGNoIDU0LjEgKDc2NDkwKSAtIGh0dHBzOi8vc2tldGNoYXBwLmNvbSAtLT4KICAgIDx0aXRsZT5Hcm91cCAzPC90aXRsZT4KICAgIDxkZXNjPkNyZWF0ZWQgd2l0aCBTa2V0Y2guPC9kZXNjPgogICAgPGcgaWQ9IkxhbmRpbmciIHN0cm9rZT0ibm9uZSIgc3Ryb2tlLXdpZHRoPSIxIiBmaWxsPSJub25lIiBmaWxsLXJ1bGU9ImV2ZW5vZGQiPgogICAgICAgIDxnIGlkPSJBcnRib2FyZCIgdHJhbnNmb3JtPSJ0cmFuc2xhdGUoLTEyMzUuMDAwMDAwLCAtNzkuMDAwMDAwKSI+CiAgICAgICAgICAgIDxnIGlkPSJHcm91cC0zIiB0cmFuc2Zvcm09InRyYW5zbGF0ZSgxMjM1LjAwMDAwMCwgNzkuMDAwMDAwKSI+CiAgICAgICAgICAgICAgICA8cG9seWdvbiBpZD0iUGF0aC0yMCIgZmlsbD0iIzAyNjVCNCIgcG9pbnRzPSIyLjM3NjIzNzYyIDgwIDM4LjA0NzY2NjcgODAgNTcuODIxNzgyMiA3My44MDU3NTkyIDU3LjgyMTc4MjIgMzIuNzU5MjczOSAzOS4xNDAyMjc4IDMxLjY4MzE2ODMiPjwvcG9seWdvbj4KICAgICAgICAgICAgICAgIDxwYXRoIGQ9Ik0zNS4wMDc3MTgsODAgQzQyLjkwNjIwMDcsNzYuNDU0OTM1OCA0Ny41NjQ5MTY3LDcxLjU0MjI2NzEgNDguOTgzODY2LDY1LjI2MTk5MzkgQzUxLjExMjI4OTksNTUuODQxNTg0MiA0MS42NzcxNzk1LDQ5LjIxMjIyODQgMjUuNjIzOTg0Niw0OS4yMTIyMjg0IEMyNS40ODQ5Mjg5LDQ5LjEyNjg0NDggMjkuODI2MTI5Niw0My4yODM4MjQ4IDM4LjY0NzU4NjksMzEuNjgzMTY4MyBMNzIuODcxMjg3MSwzMi41NTQ0MjUgTDY1LjI4MDk3Myw2Ny42NzYzNDIxIEw1MS4xMTIyODk5LDc3LjM3NjE0NCBMMzUuMDA3NzE4LDgwIFoiIGlkPSJQYXRoLTIyIiBmaWxsPSIjMDAyODY4Ij48L3BhdGg+CiAgICAgICAgICAgICAgICA8cGF0aCBkPSJNMCwzNy43MzA0NDA1IEwyNy4xMTQ1MzcsMC4yNTcxMTE0MzYgQzYyLjM3MTUxMjMsLTEuOTkwNzE3MDEgODAsMTAuNTAwMzkyNyA4MCwzNy43MzA0NDA1IEM4MCw2NC45NjA0ODgyIDY0Ljc3NjUwMzgsNzkuMDUwMzQxNCAzNC4zMjk1MTEzLDgwIEM0Ny4wNTUzNDg5LDc3LjU2NzA4MDggNTMuNDE4MjY3Nyw3MC4zMTM2MTAzIDUzLjQxODI2NzcsNTguMjM5NTg4NSBDNTMuNDE4MjY3Nyw0MC4xMjg1NTU3IDM2LjMwMzk1NDQsMzcuNzMwNDQwNSAyNS4yMjc0MTcsMzcuNzMwNDQwNSBDMTcuODQzMDU4NiwzNy43MzA0NDA1IDkuNDMzOTE5NjYsMzcuNzMwNDQwNSAwLDM3LjczMDQ0MDUgWiIgaWQ9IlBhdGgtMTkiIGZpbGw9IiMzNzkzRUYiPjwvcGF0aD4KICAgICAgICAgICAgPC9nPgogICAgICAgIDwvZz4KICAgIDwvZz4KPC9zdmc+' > </img>\nCreated in <span style='font-weight:600;margin-left:4px;'>Deepnote</span></a>",
   "metadata": {
    "tags": [],
    "created_in_deepnote_cell": true,
    "deepnote_cell_type": "markdown"
   }
  }
 ],
 "nbformat": 4,
 "nbformat_minor": 1,
 "metadata": {
  "colab": {
   "name": "Python Exercícios Estruturas condicionais.ipynb",
   "provenance": []
  },
  "deepnote": {},
  "deepnote_execution_queue": [],
  "deepnote_notebook_id": "e57aea23-a238-498e-beb5-87203e8b0197",
  "hide_input": false,
  "kernelspec": {
   "display_name": "Python 3",
   "language": "python",
   "name": "python3"
  },
  "language_info": {
   "codemirror_mode": {
    "name": "ipython",
    "version": 3
   },
   "file_extension": ".py",
   "mimetype": "text/x-python",
   "name": "python",
   "nbconvert_exporter": "python",
   "pygments_lexer": "ipython3",
   "version": "3.8.8"
  }
 }
}