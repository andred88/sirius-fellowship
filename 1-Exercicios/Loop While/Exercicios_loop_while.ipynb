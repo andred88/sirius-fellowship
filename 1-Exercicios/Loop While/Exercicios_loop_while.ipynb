{
 "cells": [
  {
   "cell_type": "markdown",
   "source": "#### Exercício 1 \nApresentar o quadrado dos números inteiros de 15 a 200",
   "metadata": {
    "cell_id": "41a0c6fc-9a75-49ba-a73a-1468c806fcf5",
    "deepnote_cell_type": "markdown",
    "deepnote_cell_height": 88.39999389648438
   }
  },
  {
   "cell_type": "code",
   "metadata": {
    "cell_id": "00001-60ce4cc1-e4ec-42c8-ad9a-18bbefd0f23f",
    "deepnote_to_be_reexecuted": false,
    "source_hash": "b305f545",
    "execution_start": 1654177351445,
    "execution_millis": 510,
    "deepnote_cell_type": "code",
    "deepnote_cell_height": 773
   },
   "source": "i = 14\nwhile i < 200:\n    quadrado = i ** 2\n    i += 1\n    print('Quadrado de: {} = {}'.format(i,quadrado))",
   "execution_count": null,
   "outputs": [
    {
     "name": "stdout",
     "text": "Quadrado de: 15 = 196\nQuadrado de: 16 = 225\nQuadrado de: 17 = 256\nQuadrado de: 18 = 289\nQuadrado de: 19 = 324\nQuadrado de: 20 = 361\nQuadrado de: 21 = 400\nQuadrado de: 22 = 441\nQuadrado de: 23 = 484\nQuadrado de: 24 = 529\nQuadrado de: 25 = 576\nQuadrado de: 26 = 625\nQuadrado de: 27 = 676\nQuadrado de: 28 = 729\nQuadrado de: 29 = 784\nQuadrado de: 30 = 841\nQuadrado de: 31 = 900\nQuadrado de: 32 = 961\nQuadrado de: 33 = 1024\nQuadrado de: 34 = 1089\nQuadrado de: 35 = 1156\nQuadrado de: 36 = 1225\nQuadrado de: 37 = 1296\nQuadrado de: 38 = 1369\nQuadrado de: 39 = 1444\nQuadrado de: 40 = 1521\nQuadrado de: 41 = 1600\nQuadrado de: 42 = 1681\nQuadrado de: 43 = 1764\nQuadrado de: 44 = 1849\nQuadrado de: 45 = 1936\nQuadrado de: 46 = 2025\nQuadrado de: 47 = 2116\nQuadrado de: 48 = 2209\nQuadrado de: 49 = 2304\nQuadrado de: 50 = 2401\nQuadrado de: 51 = 2500\nQuadrado de: 52 = 2601\nQuadrado de: 53 = 2704\nQuadrado de: 54 = 2809\nQuadrado de: 55 = 2916\nQuadrado de: 56 = 3025\nQuadrado de: 57 = 3136\nQuadrado de: 58 = 3249\nQuadrado de: 59 = 3364\nQuadrado de: 60 = 3481\nQuadrado de: 61 = 3600\nQuadrado de: 62 = 3721\nQuadrado de: 63 = 3844\nQuadrado de: 64 = 3969\nQuadrado de: 65 = 4096\nQuadrado de: 66 = 4225\nQuadrado de: 67 = 4356\nQuadrado de: 68 = 4489\nQuadrado de: 69 = 4624\nQuadrado de: 70 = 4761\nQuadrado de: 71 = 4900\nQuadrado de: 72 = 5041\nQuadrado de: 73 = 5184\nQuadrado de: 74 = 5329\nQuadrado de: 75 = 5476\nQuadrado de: 76 = 5625\nQuadrado de: 77 = 5776\nQuadrado de: 78 = 5929\nQuadrado de: 79 = 6084\nQuadrado de: 80 = 6241\nQuadrado de: 81 = 6400\nQuadrado de: 82 = 6561\nQuadrado de: 83 = 6724\nQuadrado de: 84 = 6889\nQuadrado de: 85 = 7056\nQuadrado de: 86 = 7225\nQuadrado de: 87 = 7396\nQuadrado de: 88 = 7569\nQuadrado de: 89 = 7744\nQuadrado de: 90 = 7921\nQuadrado de: 91 = 8100\nQuadrado de: 92 = 8281\nQuadrado de: 93 = 8464\nQuadrado de: 94 = 8649\nQuadrado de: 95 = 8836\nQuadrado de: 96 = 9025\nQuadrado de: 97 = 9216\nQuadrado de: 98 = 9409\nQuadrado de: 99 = 9604\nQuadrado de: 100 = 9801\nQuadrado de: 101 = 10000\nQuadrado de: 102 = 10201\nQuadrado de: 103 = 10404\nQuadrado de: 104 = 10609\nQuadrado de: 105 = 10816\nQuadrado de: 106 = 11025\nQuadrado de: 107 = 11236\nQuadrado de: 108 = 11449\nQuadrado de: 109 = 11664\nQuadrado de: 110 = 11881\nQuadrado de: 111 = 12100\nQuadrado de: 112 = 12321\nQuadrado de: 113 = 12544\nQuadrado de: 114 = 12769\nQuadrado de: 115 = 12996\nQuadrado de: 116 = 13225\nQuadrado de: 117 = 13456\nQuadrado de: 118 = 13689\nQuadrado de: 119 = 13924\nQuadrado de: 120 = 14161\nQuadrado de: 121 = 14400\nQuadrado de: 122 = 14641\nQuadrado de: 123 = 14884\nQuadrado de: 124 = 15129\nQuadrado de: 125 = 15376\nQuadrado de: 126 = 15625\nQuadrado de: 127 = 15876\nQuadrado de: 128 = 16129\nQuadrado de: 129 = 16384\nQuadrado de: 130 = 16641\nQuadrado de: 131 = 16900\nQuadrado de: 132 = 17161\nQuadrado de: 133 = 17424\nQuadrado de: 134 = 17689\nQuadrado de: 135 = 17956\nQuadrado de: 136 = 18225\nQuadrado de: 137 = 18496\nQuadrado de: 138 = 18769\nQuadrado de: 139 = 19044\nQuadrado de: 140 = 19321\nQuadrado de: 141 = 19600\nQuadrado de: 142 = 19881\nQuadrado de: 143 = 20164\nQuadrado de: 144 = 20449\nQuadrado de: 145 = 20736\nQuadrado de: 146 = 21025\nQuadrado de: 147 = 21316\nQuadrado de: 148 = 21609\nQuadrado de: 149 = 21904\nQuadrado de: 150 = 22201\nQuadrado de: 151 = 22500\nQuadrado de: 152 = 22801\nQuadrado de: 153 = 23104\nQuadrado de: 154 = 23409\nQuadrado de: 155 = 23716\nQuadrado de: 156 = 24025\nQuadrado de: 157 = 24336\nQuadrado de: 158 = 24649\nQuadrado de: 159 = 24964\nQuadrado de: 160 = 25281\nQuadrado de: 161 = 25600\nQuadrado de: 162 = 25921\nQuadrado de: 163 = 26244\nQuadrado de: 164 = 26569\nQuadrado de: 165 = 26896\nQuadrado de: 166 = 27225\nQuadrado de: 167 = 27556\nQuadrado de: 168 = 27889\nQuadrado de: 169 = 28224\nQuadrado de: 170 = 28561\nQuadrado de: 171 = 28900\nQuadrado de: 172 = 29241\nQuadrado de: 173 = 29584\nQuadrado de: 174 = 29929\nQuadrado de: 175 = 30276\nQuadrado de: 176 = 30625\nQuadrado de: 177 = 30976\nQuadrado de: 178 = 31329\nQuadrado de: 179 = 31684\nQuadrado de: 180 = 32041\nQuadrado de: 181 = 32400\nQuadrado de: 182 = 32761\nQuadrado de: 183 = 33124\nQuadrado de: 184 = 33489\nQuadrado de: 185 = 33856\nQuadrado de: 186 = 34225\nQuadrado de: 187 = 34596\nQuadrado de: 188 = 34969\nQuadrado de: 189 = 35344\nQuadrado de: 190 = 35721\nQuadrado de: 191 = 36100\nQuadrado de: 192 = 36481\nQuadrado de: 193 = 36864\nQuadrado de: 194 = 37249\nQuadrado de: 195 = 37636\nQuadrado de: 196 = 38025\nQuadrado de: 197 = 38416\nQuadrado de: 198 = 38809\nQuadrado de: 199 = 39204\nQuadrado de: 200 = 39601\n",
     "output_type": "stream"
    }
   ]
  },
  {
   "cell_type": "markdown",
   "source": "#### Exercício 2\n\nApresentar o total da soma obtida dos cem primeiros números inteiros\n(1+2+3+4+5+6+7+...+97+98+99+100)",
   "metadata": {
    "cell_id": "00002-df90d820-e9a7-4f28-9c31-cc73c92f7730",
    "deepnote_cell_type": "markdown",
    "deepnote_cell_height": 88.39999389648438
   }
  },
  {
   "cell_type": "code",
   "metadata": {
    "cell_id": "00003-7d96da35-dd27-4fd0-a447-3af901f59567",
    "deepnote_to_be_reexecuted": false,
    "source_hash": "b25308ff",
    "execution_start": 1654178401637,
    "execution_millis": 31,
    "deepnote_cell_type": "code",
    "deepnote_cell_height": 791
   },
   "source": "soma = 1\nn = 0\nwhile n < 100:\n    n +=  1\n    print(n+n)\n    #print(soma)",
   "execution_count": null,
   "outputs": [
    {
     "name": "stdout",
     "text": "2\n4\n6\n8\n10\n12\n14\n16\n18\n20\n22\n24\n26\n28\n30\n32\n34\n36\n38\n40\n42\n44\n46\n48\n50\n52\n54\n56\n58\n60\n62\n64\n66\n68\n70\n72\n74\n76\n78\n80\n82\n84\n86\n88\n90\n92\n94\n96\n98\n100\n102\n104\n106\n108\n110\n112\n114\n116\n118\n120\n122\n124\n126\n128\n130\n132\n134\n136\n138\n140\n142\n144\n146\n148\n150\n152\n154\n156\n158\n160\n162\n164\n166\n168\n170\n172\n174\n176\n178\n180\n182\n184\n186\n188\n190\n192\n194\n196\n198\n200\n",
     "output_type": "stream"
    }
   ]
  },
  {
   "cell_type": "markdown",
   "source": "#### Exercício 3\nEscrever um algoritmo que lê 5 valores para a variável A, um de cada vez,\ne contar quantos destes valores são negativos. Após a leitura, o programa deve mostrar\na quantidade de números negativos",
   "metadata": {
    "cell_id": "00004-02c8c03d-8a81-46fe-b4e7-05e252572813",
    "deepnote_cell_type": "markdown",
    "deepnote_cell_height": 110.80000305175781
   }
  },
  {
   "cell_type": "code",
   "metadata": {
    "cell_id": "00005-79b102e1-a739-439f-b63b-eb3ab01b6361",
    "owner_user_id": "f3b685db-82a0-4f74-9158-9e3d6de2c3bf",
    "deepnote_cell_type": "code",
    "deepnote_cell_height": 66
   },
   "source": "",
   "execution_count": null,
   "outputs": []
  },
  {
   "cell_type": "markdown",
   "source": "#### Exercício 4\nLer duas notas e informar a média. Se o valor digitado for menor do que 0 (zero)\nou maior do que 10 (dez), o usuário deve digitar a nota novamente",
   "metadata": {
    "cell_id": "00006-47cb15c5-7982-47a5-a1f4-8bf9a4bb6161",
    "deepnote_cell_type": "markdown",
    "deepnote_cell_height": 88.39999389648438
   }
  },
  {
   "cell_type": "code",
   "metadata": {
    "cell_id": "00007-a37989de-c2cc-41c2-abe3-f51349049a76",
    "deepnote_cell_type": "code",
    "deepnote_cell_height": 66
   },
   "source": "",
   "execution_count": null,
   "outputs": []
  },
  {
   "cell_type": "code",
   "metadata": {
    "cell_id": "00008-1dbc3487-c728-49bc-9510-b4e941f08ab5",
    "deepnote_cell_type": "code",
    "deepnote_cell_height": 66
   },
   "source": "",
   "execution_count": null,
   "outputs": []
  },
  {
   "cell_type": "markdown",
   "source": "<a style='text-decoration:none;line-height:16px;display:flex;color:#5B5B62;padding:10px;justify-content:end;' href='https://deepnote.com?utm_source=created-in-deepnote-cell&projectId=31152f18-3036-40d1-92d9-59f0bbdc0756' target=\"_blank\">\n<img alt='Created in deepnote.com' style='display:inline;max-height:16px;margin:0px;margin-right:7.5px;' src='data:image/svg+xml;base64,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' > </img>\nCreated in <span style='font-weight:600;margin-left:4px;'>Deepnote</span></a>",
   "metadata": {
    "tags": [],
    "created_in_deepnote_cell": true,
    "deepnote_cell_type": "markdown"
   }
  }
 ],
 "nbformat": 4,
 "nbformat_minor": 5,
 "metadata": {
  "kernelspec": {
   "display_name": "Python 3",
   "language": "python",
   "name": "python3"
  },
  "language_info": {
   "codemirror_mode": {
    "name": "ipython",
    "version": 3
   },
   "file_extension": ".py",
   "mimetype": "text/x-python",
   "name": "python",
   "nbconvert_exporter": "python",
   "pygments_lexer": "ipython3",
   "version": "3.8.8"
  },
  "deepnote_notebook_id": "4e2f7821-88ad-4f74-9ea4-73f770d5c380",
  "deepnote": {},
  "deepnote_execution_queue": []
 }
}