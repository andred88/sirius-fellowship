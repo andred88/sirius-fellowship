{
 "cells": [
  {
   "cell_type": "markdown",
   "source": "#### Exercicio 1\n\nNesse exercícios você deverá criar 3 funções que irão receber uma lista de números inteiros e retornar a soma deles.\nA primeira função você deverá fazer utilizando WHILE, na segunda FOR e na terceira de alguma outra maneira.\n\nExemplo:\n\nlista_numeros = [1,2,3,4,5,6,7,8,9,10]\n\nprint(soma_while(lista_numeros)) \n\n55\n\nprint(soma_for(lista_numeros))\n\n55\n\nprint(soma(lista_numeros))\n\n55",
   "metadata": {
    "cell_id": "6b58c10b-0a83-4815-9c05-f88d9a376ce1",
    "deepnote_cell_type": "markdown",
    "deepnote_cell_height": 402
   }
  },
  {
   "cell_type": "code",
   "metadata": {
    "cell_id": "00001-eae2a67b-21a5-4ae8-8764-825c78f769b2",
    "deepnote_cell_type": "code",
    "deepnote_cell_height": 66
   },
   "source": "",
   "execution_count": null,
   "outputs": []
  },
  {
   "cell_type": "code",
   "metadata": {
    "cell_id": "00002-260fead0-c279-407d-a160-5d1dde504be1",
    "deepnote_cell_type": "code",
    "deepnote_cell_height": 66
   },
   "source": "",
   "execution_count": null,
   "outputs": []
  },
  {
   "cell_type": "code",
   "metadata": {
    "cell_id": "00003-66ca04af-d07d-4738-9eec-8e855d30dd38",
    "deepnote_cell_type": "code",
    "deepnote_cell_height": 66
   },
   "source": "",
   "execution_count": null,
   "outputs": []
  },
  {
   "cell_type": "code",
   "metadata": {
    "cell_id": "00004-7f849e81-8e6a-4d37-af81-a8fc4f292fd6",
    "deepnote_cell_type": "code",
    "deepnote_cell_height": 66
   },
   "source": "",
   "execution_count": null,
   "outputs": []
  },
  {
   "cell_type": "markdown",
   "source": "##### Exercicio 2\n\nEscreva um programa em Python para adivinhar um número entre 1 e 9.\n\nNota: O usuário é solicitado a inserir um palpite. Se o usuário adivinhar errado, o prompt aparecerá novamente até que o palpite esteja correto, em um palpite bem-sucedido, o usuário receberá um \"Bem adivinhado!\" mensagem e o programa será encerrado.\n\nDica: Use o pacote random",
   "metadata": {
    "cell_id": "00005-a04a9bca-25ac-463e-8252-132d292a9681",
    "deepnote_cell_type": "markdown",
    "deepnote_cell_height": 183.60000610351562
   }
  },
  {
   "cell_type": "code",
   "metadata": {
    "cell_id": "00006-dfed48be-2a2a-44b3-80db-9d298438e145",
    "owner_user_id": "f3b685db-82a0-4f74-9158-9e3d6de2c3bf",
    "deepnote_cell_type": "code",
    "deepnote_cell_height": 66
   },
   "source": "palpite = int(input('Escreva um número palpite entre 1 e 9')",
   "execution_count": null,
   "outputs": []
  },
  {
   "cell_type": "code",
   "metadata": {
    "cell_id": "00007-04412ad5-1052-4089-81cb-b129406c9beb",
    "deepnote_to_be_reexecuted": false,
    "source_hash": "c4c22dc4",
    "execution_start": 1654210373838,
    "execution_millis": 29,
    "deepnote_cell_type": "code",
    "deepnote_cell_height": 270.20001220703125
   },
   "source": "from random import *\n#from random import random.choice\n#random.choice(0,1,2,3,4,5,6,7,8,9)\nnumero = randint(0,9)\nwhile numero != palpite:\n    palpite = int(input('Escreva um número palpite entre 1 e 9'))\nprint('Bem adivinhado!')\n",
   "execution_count": null,
   "outputs": [
    {
     "output_type": "error",
     "ename": "NameError",
     "evalue": "name 'palpite' is not defined",
     "traceback": [
      "\u001b[0;31m---------------------------------------------------------------------------\u001b[0m",
      "\u001b[0;31mNameError\u001b[0m                                 Traceback (most recent call last)",
      "\u001b[0;32m<ipython-input-5-47a7d71db5cb>\u001b[0m in \u001b[0;36m<module>\u001b[0;34m\u001b[0m\n\u001b[1;32m      3\u001b[0m \u001b[0;31m#random.choice(0,1,2,3,4,5,6,7,8,9)\u001b[0m\u001b[0;34m\u001b[0m\u001b[0;34m\u001b[0m\u001b[0;34m\u001b[0m\u001b[0m\n\u001b[1;32m      4\u001b[0m \u001b[0mnumero\u001b[0m \u001b[0;34m=\u001b[0m \u001b[0mrandint\u001b[0m\u001b[0;34m(\u001b[0m\u001b[0;36m0\u001b[0m\u001b[0;34m,\u001b[0m\u001b[0;36m9\u001b[0m\u001b[0;34m)\u001b[0m\u001b[0;34m\u001b[0m\u001b[0;34m\u001b[0m\u001b[0m\n\u001b[0;32m----> 5\u001b[0;31m \u001b[0;32mwhile\u001b[0m \u001b[0mnumero\u001b[0m \u001b[0;34m!=\u001b[0m \u001b[0mpalpite\u001b[0m\u001b[0;34m:\u001b[0m\u001b[0;34m\u001b[0m\u001b[0;34m\u001b[0m\u001b[0m\n\u001b[0m\u001b[1;32m      6\u001b[0m     \u001b[0mpalpite\u001b[0m \u001b[0;34m=\u001b[0m \u001b[0mint\u001b[0m\u001b[0;34m(\u001b[0m\u001b[0minput\u001b[0m\u001b[0;34m(\u001b[0m\u001b[0;34m'Escreva um número palpite entre 1 e 9'\u001b[0m\u001b[0;34m)\u001b[0m\u001b[0;34m)\u001b[0m\u001b[0;34m\u001b[0m\u001b[0;34m\u001b[0m\u001b[0m\n\u001b[1;32m      7\u001b[0m \u001b[0mprint\u001b[0m\u001b[0;34m(\u001b[0m\u001b[0;34m'Bem adivinhado!'\u001b[0m\u001b[0;34m)\u001b[0m\u001b[0;34m\u001b[0m\u001b[0;34m\u001b[0m\u001b[0m\n",
      "\u001b[0;31mNameError\u001b[0m: name 'palpite' is not defined"
     ]
    }
   ]
  },
  {
   "cell_type": "markdown",
   "source": "#### Exercicio 3\n\nNesse exercícios você deverá criar 3 métodos que irá receber um array de números inteiros e retornar a Média Aritmética Simples deles.\nO primeiro método você deverá fazer utilizando WHILE, no segundo FOR e no terceiro de alguma outra maneira.\n\nExemplo:\n    \nlista_numeros = [1,2,3,4,5,6,7,8,9,10]\n\nprint(media_while(lista_numeros))\n\n5.5\n\nprint(media_for(lista_numeros))\n\n5.5\n\nprint(media(lista_numeros)) \n\n5.5\n",
   "metadata": {
    "cell_id": "00008-02182841-73e5-4398-8245-bfad9e23f967",
    "deepnote_cell_type": "markdown",
    "deepnote_cell_height": 402
   }
  },
  {
   "cell_type": "code",
   "metadata": {
    "cell_id": "00009-eb3b9565-35c8-4191-a541-94feef2506c5",
    "deepnote_cell_type": "code",
    "deepnote_cell_height": 66
   },
   "source": "",
   "execution_count": null,
   "outputs": []
  },
  {
   "cell_type": "code",
   "metadata": {
    "cell_id": "00010-50abc26e-6f65-4331-bc01-e3ab7cd618f2",
    "deepnote_cell_type": "code",
    "deepnote_cell_height": 66
   },
   "source": "",
   "execution_count": null,
   "outputs": []
  },
  {
   "cell_type": "code",
   "metadata": {
    "cell_id": "00011-239185d6-d7e7-46b7-a72b-c38ce51262b5",
    "deepnote_cell_type": "code",
    "deepnote_cell_height": 66
   },
   "source": "",
   "execution_count": null,
   "outputs": []
  },
  {
   "cell_type": "markdown",
   "source": "<a style='text-decoration:none;line-height:16px;display:flex;color:#5B5B62;padding:10px;justify-content:end;' href='https://deepnote.com?utm_source=created-in-deepnote-cell&projectId=31152f18-3036-40d1-92d9-59f0bbdc0756' target=\"_blank\">\n<img alt='Created in deepnote.com' style='display:inline;max-height:16px;margin:0px;margin-right:7.5px;' src='data:image/svg+xml;base64,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' > </img>\nCreated in <span style='font-weight:600;margin-left:4px;'>Deepnote</span></a>",
   "metadata": {
    "tags": [],
    "created_in_deepnote_cell": true,
    "deepnote_cell_type": "markdown"
   }
  }
 ],
 "nbformat": 4,
 "nbformat_minor": 5,
 "metadata": {
  "hide_input": false,
  "kernelspec": {
   "display_name": "Python 3 (ipykernel)",
   "language": "python",
   "name": "python3"
  },
  "language_info": {
   "codemirror_mode": {
    "name": "ipython",
    "version": 3
   },
   "file_extension": ".py",
   "mimetype": "text/x-python",
   "name": "python",
   "nbconvert_exporter": "python",
   "pygments_lexer": "ipython3",
   "version": "3.9.7"
  },
  "deepnote_notebook_id": "dd0bbc8e-2b1b-4aa7-aac9-2c666d94708e",
  "deepnote": {},
  "deepnote_execution_queue": []
 }
}