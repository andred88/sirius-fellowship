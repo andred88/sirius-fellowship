{
 "cells": [
  {
   "cell_type": "code",
   "metadata": {
    "cell_id": "6667b6ad-467d-4ed1-982b-699e87070deb",
    "deepnote_cell_type": "code",
    "deepnote_cell_height": 65.16667175292969
   },
   "source": "",
   "execution_count": null,
   "outputs": []
  },
  {
   "cell_type": "markdown",
   "source": "#### Exercício \n\nMuitas vezes os dados que você irá acessar virão no formato de dicionários.\n\n**Crie  um DataFrame usando o dicionário abaixo e  use a lista rótulos(também abaixo) como índice.**",
   "metadata": {
    "cell_id": "00001-f4ede40e-c3b1-470a-8817-7b233d70e537",
    "deepnote_cell_type": "markdown",
    "deepnote_cell_height": 123.96665954589844
   }
  },
  {
   "cell_type": "code",
   "metadata": {
    "cell_id": "00002-673a17e6-ac4f-485c-a7a4-97413769f2e0",
    "deepnote_to_be_reexecuted": false,
    "source_hash": "9b82ee11",
    "execution_start": 1654598635249,
    "execution_millis": 4,
    "deepnote_cell_type": "code",
    "deepnote_cell_height": 80.16667175292969
   },
   "source": "import pandas as pd",
   "execution_count": null,
   "outputs": []
  },
  {
   "cell_type": "code",
   "metadata": {
    "cell_id": "00003-7ae155e3-ad9d-49ae-8820-f56642f07f5f",
    "deepnote_cell_type": "code",
    "deepnote_cell_height": 155.1666717529297
   },
   "source": "exam_data = {'nome': ['Sandra', 'Carlos', 'Regiane', 'Cesar', 'Eliana', 'Marcelio', 'Marcos', 'Leandra', 'Roberto', 'João'],\n'pontuação': [10, 9, 6.5, 8.7, 9, 6.8, 9.5, 5, 8, 4],\n'tentativas': [1, 3, 2, 3, 2, 3, 1, 1, 2, 1],\n'aprovado': ['sim', 'sim', 'não', 'sim', 'sim', 'não', 'sim', 'não', 'sim', 'não']}\n\nrotulos = ['a', 'b', 'c', 'd', 'e', 'f', 'g', 'h', 'i', 'j']",
   "execution_count": null,
   "outputs": []
  },
  {
   "cell_type": "markdown",
   "source": "**crie o dataframe:**",
   "metadata": {
    "cell_id": "00004-28f9bfdd-eee5-4590-bb84-d3babeca3bd6",
    "deepnote_cell_type": "markdown",
    "deepnote_cell_height": 51.56666564941406
   }
  },
  {
   "cell_type": "code",
   "metadata": {
    "cell_id": "00005-8dc96c79-d9b3-4153-96bf-6d07d29f0140",
    "deepnote_to_be_reexecuted": false,
    "source_hash": "eb42592a",
    "execution_start": 1654598746441,
    "execution_millis": 1,
    "deepnote_cell_type": "code",
    "deepnote_cell_height": 170.1666717529297
   },
   "source": "exam_data = {'nome': ['Sandra', 'Carlos', 'Regiane', 'Cesar', 'Eliana', 'Marcelio', 'Marcos', 'Leandra', 'Roberto', 'João'],\n'pontuação': [10, 9, 6.5, 8.7, 9, 6.8, 9.5, 5, 8, 4],\n'tentativas': [1, 3, 2, 3, 2, 3, 1, 1, 2, 1],\n'aprovado': ['sim', 'sim', 'não', 'sim', 'sim', 'não', 'sim', 'não', 'sim', 'não']}\n\n",
   "execution_count": null,
   "outputs": []
  },
  {
   "cell_type": "code",
   "metadata": {
    "cell_id": "83ea4cff233f46caa29e555c3504b2a2",
    "tags": [],
    "deepnote_to_be_reexecuted": false,
    "source_hash": "5538e9e2",
    "execution_start": 1654598838410,
    "execution_millis": 1,
    "deepnote_cell_type": "code",
    "deepnote_cell_height": 80.16667175292969
   },
   "source": "rotulos = 'a b c d e f g h i j'.split()",
   "execution_count": null,
   "outputs": []
  },
  {
   "cell_type": "code",
   "metadata": {
    "cell_id": "5a0e2254fe0049e7a19e95129578c055",
    "tags": [],
    "deepnote_to_be_reexecuted": false,
    "source_hash": "c039497d",
    "execution_start": 1654598930220,
    "execution_millis": 11,
    "deepnote_cell_type": "code",
    "deepnote_cell_height": 80.16667175292969
   },
   "source": "colunas = 'nome pontuação tentativas aprovado'.split()",
   "execution_count": null,
   "outputs": []
  },
  {
   "cell_type": "code",
   "metadata": {
    "cell_id": "971dcf4cf11f40fd8815aada06e67ae6",
    "tags": [],
    "deepnote_to_be_reexecuted": false,
    "source_hash": "cef6c35b",
    "execution_start": 1654598932741,
    "execution_millis": 7,
    "deepnote_cell_type": "code",
    "deepnote_cell_height": 80.16667175292969
   },
   "source": "df = pd.DataFrame(data= exam_data, index= rotulos, columns= colunas)",
   "execution_count": null,
   "outputs": []
  },
  {
   "cell_type": "markdown",
   "source": "**visualize algumas linhas da  tabela que você criou**",
   "metadata": {
    "cell_id": "00006-6ac8402b-d7ce-4276-b916-83196082442e",
    "deepnote_cell_type": "markdown",
    "deepnote_cell_height": 51.56666564941406
   }
  },
  {
   "cell_type": "code",
   "metadata": {
    "cell_id": "00007-6583ae6a-77fa-417e-82eb-6cced62de464",
    "deepnote_to_be_reexecuted": false,
    "source_hash": "3f898c48",
    "execution_start": 1654598934894,
    "execution_millis": 115,
    "deepnote_cell_type": "code",
    "deepnote_cell_height": 616.3333129882812
   },
   "source": "df\n",
   "execution_count": null,
   "outputs": [
    {
     "output_type": "execute_result",
     "execution_count": 18,
     "data": {
      "application/vnd.deepnote.dataframe.v3+json": {
       "column_count": 4,
       "row_count": 10,
       "columns": [
        {
         "name": "nome",
         "dtype": "object",
         "stats": {
          "unique_count": 10,
          "nan_count": 0,
          "categories": [
           {
            "name": "Sandra",
            "count": 1
           },
           {
            "name": "Carlos",
            "count": 1
           },
           {
            "name": "8 others",
            "count": 8
           }
          ]
         }
        },
        {
         "name": "pontuação",
         "dtype": "float64",
         "stats": {
          "unique_count": 9,
          "nan_count": 0,
          "min": "4.0",
          "max": "10.0",
          "histogram": [
           {
            "bin_start": 4,
            "bin_end": 4.6,
            "count": 1
           },
           {
            "bin_start": 4.6,
            "bin_end": 5.2,
            "count": 1
           },
           {
            "bin_start": 5.2,
            "bin_end": 5.8,
            "count": 0
           },
           {
            "bin_start": 5.8,
            "bin_end": 6.4,
            "count": 0
           },
           {
            "bin_start": 6.4,
            "bin_end": 7,
            "count": 2
           },
           {
            "bin_start": 7,
            "bin_end": 7.6,
            "count": 0
           },
           {
            "bin_start": 7.6,
            "bin_end": 8.2,
            "count": 1
           },
           {
            "bin_start": 8.2,
            "bin_end": 8.8,
            "count": 1
           },
           {
            "bin_start": 8.8,
            "bin_end": 9.399999999999999,
            "count": 2
           },
           {
            "bin_start": 9.399999999999999,
            "bin_end": 10,
            "count": 2
           }
          ]
         }
        },
        {
         "name": "tentativas",
         "dtype": "int64",
         "stats": {
          "unique_count": 3,
          "nan_count": 0,
          "min": "1",
          "max": "3",
          "histogram": [
           {
            "bin_start": 1,
            "bin_end": 1.2,
            "count": 4
           },
           {
            "bin_start": 1.2,
            "bin_end": 1.4,
            "count": 0
           },
           {
            "bin_start": 1.4,
            "bin_end": 1.6,
            "count": 0
           },
           {
            "bin_start": 1.6,
            "bin_end": 1.8,
            "count": 0
           },
           {
            "bin_start": 1.8,
            "bin_end": 2,
            "count": 0
           },
           {
            "bin_start": 2,
            "bin_end": 2.2,
            "count": 3
           },
           {
            "bin_start": 2.2,
            "bin_end": 2.4000000000000004,
            "count": 0
           },
           {
            "bin_start": 2.4000000000000004,
            "bin_end": 2.6,
            "count": 0
           },
           {
            "bin_start": 2.6,
            "bin_end": 2.8,
            "count": 0
           },
           {
            "bin_start": 2.8,
            "bin_end": 3,
            "count": 3
           }
          ]
         }
        },
        {
         "name": "aprovado",
         "dtype": "object",
         "stats": {
          "unique_count": 2,
          "nan_count": 0,
          "categories": [
           {
            "name": "sim",
            "count": 6
           },
           {
            "name": "não",
            "count": 4
           }
          ]
         }
        },
        {
         "name": "_deepnote_index_column",
         "dtype": "object"
        }
       ],
       "rows": [
        {
         "nome": "Sandra",
         "pontuação": 10,
         "tentativas": 1,
         "aprovado": "sim",
         "_deepnote_index_column": "a"
        },
        {
         "nome": "Carlos",
         "pontuação": 9,
         "tentativas": 3,
         "aprovado": "sim",
         "_deepnote_index_column": "b"
        },
        {
         "nome": "Regiane",
         "pontuação": 6.5,
         "tentativas": 2,
         "aprovado": "não",
         "_deepnote_index_column": "c"
        },
        {
         "nome": "Cesar",
         "pontuação": 8.7,
         "tentativas": 3,
         "aprovado": "sim",
         "_deepnote_index_column": "d"
        },
        {
         "nome": "Eliana",
         "pontuação": 9,
         "tentativas": 2,
         "aprovado": "sim",
         "_deepnote_index_column": "e"
        },
        {
         "nome": "Marcelio",
         "pontuação": 6.8,
         "tentativas": 3,
         "aprovado": "não",
         "_deepnote_index_column": "f"
        },
        {
         "nome": "Marcos",
         "pontuação": 9.5,
         "tentativas": 1,
         "aprovado": "sim",
         "_deepnote_index_column": "g"
        },
        {
         "nome": "Leandra",
         "pontuação": 5,
         "tentativas": 1,
         "aprovado": "não",
         "_deepnote_index_column": "h"
        },
        {
         "nome": "Roberto",
         "pontuação": 8,
         "tentativas": 2,
         "aprovado": "sim",
         "_deepnote_index_column": "i"
        },
        {
         "nome": "João",
         "pontuação": 4,
         "tentativas": 1,
         "aprovado": "não",
         "_deepnote_index_column": "j"
        }
       ]
      },
      "text/plain": "       nome  pontuação  tentativas aprovado\na    Sandra       10.0           1      sim\nb    Carlos        9.0           3      sim\nc   Regiane        6.5           2      não\nd     Cesar        8.7           3      sim\ne    Eliana        9.0           2      sim\nf  Marcelio        6.8           3      não\ng    Marcos        9.5           1      sim\nh   Leandra        5.0           1      não\ni   Roberto        8.0           2      sim\nj      João        4.0           1      não",
      "text/html": "<div>\n<style scoped>\n    .dataframe tbody tr th:only-of-type {\n        vertical-align: middle;\n    }\n\n    .dataframe tbody tr th {\n        vertical-align: top;\n    }\n\n    .dataframe thead th {\n        text-align: right;\n    }\n</style>\n<table border=\"1\" class=\"dataframe\">\n  <thead>\n    <tr style=\"text-align: right;\">\n      <th></th>\n      <th>nome</th>\n      <th>pontuação</th>\n      <th>tentativas</th>\n      <th>aprovado</th>\n    </tr>\n  </thead>\n  <tbody>\n    <tr>\n      <th>a</th>\n      <td>Sandra</td>\n      <td>10.0</td>\n      <td>1</td>\n      <td>sim</td>\n    </tr>\n    <tr>\n      <th>b</th>\n      <td>Carlos</td>\n      <td>9.0</td>\n      <td>3</td>\n      <td>sim</td>\n    </tr>\n    <tr>\n      <th>c</th>\n      <td>Regiane</td>\n      <td>6.5</td>\n      <td>2</td>\n      <td>não</td>\n    </tr>\n    <tr>\n      <th>d</th>\n      <td>Cesar</td>\n      <td>8.7</td>\n      <td>3</td>\n      <td>sim</td>\n    </tr>\n    <tr>\n      <th>e</th>\n      <td>Eliana</td>\n      <td>9.0</td>\n      <td>2</td>\n      <td>sim</td>\n    </tr>\n    <tr>\n      <th>f</th>\n      <td>Marcelio</td>\n      <td>6.8</td>\n      <td>3</td>\n      <td>não</td>\n    </tr>\n    <tr>\n      <th>g</th>\n      <td>Marcos</td>\n      <td>9.5</td>\n      <td>1</td>\n      <td>sim</td>\n    </tr>\n    <tr>\n      <th>h</th>\n      <td>Leandra</td>\n      <td>5.0</td>\n      <td>1</td>\n      <td>não</td>\n    </tr>\n    <tr>\n      <th>i</th>\n      <td>Roberto</td>\n      <td>8.0</td>\n      <td>2</td>\n      <td>sim</td>\n    </tr>\n    <tr>\n      <th>j</th>\n      <td>João</td>\n      <td>4.0</td>\n      <td>1</td>\n      <td>não</td>\n    </tr>\n  </tbody>\n</table>\n</div>"
     },
     "metadata": {}
    }
   ]
  },
  {
   "cell_type": "code",
   "metadata": {
    "cell_id": "d0eb4ee700484b3eb810a64623198cf8",
    "tags": [],
    "deepnote_to_be_reexecuted": false,
    "source_hash": "4e957ff7",
    "execution_start": 1654599004723,
    "execution_millis": 2,
    "deepnote_cell_type": "code",
    "deepnote_cell_height": 193.75,
    "deepnote_output_heights": [
     98
    ]
   },
   "source": "df.loc['j']",
   "execution_count": null,
   "outputs": [
    {
     "output_type": "execute_result",
     "execution_count": 21,
     "data": {
      "text/plain": "nome          João\npontuação      4.0\ntentativas       1\naprovado       não\nName: j, dtype: object"
     },
     "metadata": {}
    }
   ]
  },
  {
   "cell_type": "code",
   "metadata": {
    "cell_id": "2e6d257de70f4d36a4f04df6a670afcd",
    "tags": [],
    "deepnote_to_be_reexecuted": false,
    "source_hash": "f7abd8b",
    "execution_start": 1654599372576,
    "execution_millis": 31,
    "deepnote_cell_type": "code",
    "deepnote_cell_height": 229.3333282470703
   },
   "source": "df.loc[['a'],['aprovado']]",
   "execution_count": null,
   "outputs": [
    {
     "output_type": "execute_result",
     "execution_count": 31,
     "data": {
      "application/vnd.deepnote.dataframe.v3+json": {
       "column_count": 1,
       "row_count": 1,
       "columns": [
        {
         "name": "aprovado",
         "dtype": "object",
         "stats": {
          "unique_count": 1,
          "nan_count": 0,
          "categories": [
           {
            "name": "sim",
            "count": 1
           }
          ]
         }
        },
        {
         "name": "_deepnote_index_column",
         "dtype": "object"
        }
       ],
       "rows": [
        {
         "aprovado": "sim",
         "_deepnote_index_column": "a"
        }
       ]
      },
      "text/plain": "  aprovado\na      sim",
      "text/html": "<div>\n<style scoped>\n    .dataframe tbody tr th:only-of-type {\n        vertical-align: middle;\n    }\n\n    .dataframe tbody tr th {\n        vertical-align: top;\n    }\n\n    .dataframe thead th {\n        text-align: right;\n    }\n</style>\n<table border=\"1\" class=\"dataframe\">\n  <thead>\n    <tr style=\"text-align: right;\">\n      <th></th>\n      <th>aprovado</th>\n    </tr>\n  </thead>\n  <tbody>\n    <tr>\n      <th>a</th>\n      <td>sim</td>\n    </tr>\n  </tbody>\n</table>\n</div>"
     },
     "metadata": {}
    }
   ]
  },
  {
   "cell_type": "markdown",
   "source": "**mude o nome da coluna pontuação para notas**",
   "metadata": {
    "cell_id": "00008-0ba2b9a0-b5f2-442a-b609-d8581e996ccb",
    "deepnote_cell_type": "markdown",
    "deepnote_cell_height": 51.56666564941406
   }
  },
  {
   "cell_type": "code",
   "metadata": {
    "cell_id": "00009-7d9e6e89-eabf-4eef-80bd-8f2cb888aac1",
    "deepnote_to_be_reexecuted": false,
    "source_hash": "6994a897",
    "execution_start": 1654599237018,
    "execution_millis": 72,
    "deepnote_cell_type": "code",
    "deepnote_cell_height": 598.3333129882812
   },
   "source": "df.rename(columns={'pontuação': 'notas'})",
   "execution_count": null,
   "outputs": [
    {
     "output_type": "execute_result",
     "execution_count": 25,
     "data": {
      "application/vnd.deepnote.dataframe.v3+json": {
       "column_count": 4,
       "row_count": 10,
       "columns": [
        {
         "name": "nome",
         "dtype": "object",
         "stats": {
          "unique_count": 10,
          "nan_count": 0,
          "categories": [
           {
            "name": "Sandra",
            "count": 1
           },
           {
            "name": "Carlos",
            "count": 1
           },
           {
            "name": "8 others",
            "count": 8
           }
          ]
         }
        },
        {
         "name": "notas",
         "dtype": "float64",
         "stats": {
          "unique_count": 9,
          "nan_count": 0,
          "min": "4.0",
          "max": "10.0",
          "histogram": [
           {
            "bin_start": 4,
            "bin_end": 4.6,
            "count": 1
           },
           {
            "bin_start": 4.6,
            "bin_end": 5.2,
            "count": 1
           },
           {
            "bin_start": 5.2,
            "bin_end": 5.8,
            "count": 0
           },
           {
            "bin_start": 5.8,
            "bin_end": 6.4,
            "count": 0
           },
           {
            "bin_start": 6.4,
            "bin_end": 7,
            "count": 2
           },
           {
            "bin_start": 7,
            "bin_end": 7.6,
            "count": 0
           },
           {
            "bin_start": 7.6,
            "bin_end": 8.2,
            "count": 1
           },
           {
            "bin_start": 8.2,
            "bin_end": 8.8,
            "count": 1
           },
           {
            "bin_start": 8.8,
            "bin_end": 9.399999999999999,
            "count": 2
           },
           {
            "bin_start": 9.399999999999999,
            "bin_end": 10,
            "count": 2
           }
          ]
         }
        },
        {
         "name": "tentativas",
         "dtype": "int64",
         "stats": {
          "unique_count": 3,
          "nan_count": 0,
          "min": "1",
          "max": "3",
          "histogram": [
           {
            "bin_start": 1,
            "bin_end": 1.2,
            "count": 4
           },
           {
            "bin_start": 1.2,
            "bin_end": 1.4,
            "count": 0
           },
           {
            "bin_start": 1.4,
            "bin_end": 1.6,
            "count": 0
           },
           {
            "bin_start": 1.6,
            "bin_end": 1.8,
            "count": 0
           },
           {
            "bin_start": 1.8,
            "bin_end": 2,
            "count": 0
           },
           {
            "bin_start": 2,
            "bin_end": 2.2,
            "count": 3
           },
           {
            "bin_start": 2.2,
            "bin_end": 2.4000000000000004,
            "count": 0
           },
           {
            "bin_start": 2.4000000000000004,
            "bin_end": 2.6,
            "count": 0
           },
           {
            "bin_start": 2.6,
            "bin_end": 2.8,
            "count": 0
           },
           {
            "bin_start": 2.8,
            "bin_end": 3,
            "count": 3
           }
          ]
         }
        },
        {
         "name": "aprovado",
         "dtype": "object",
         "stats": {
          "unique_count": 2,
          "nan_count": 0,
          "categories": [
           {
            "name": "sim",
            "count": 6
           },
           {
            "name": "não",
            "count": 4
           }
          ]
         }
        },
        {
         "name": "_deepnote_index_column",
         "dtype": "object"
        }
       ],
       "rows": [
        {
         "nome": "Sandra",
         "notas": 10,
         "tentativas": 1,
         "aprovado": "sim",
         "_deepnote_index_column": "a"
        },
        {
         "nome": "Carlos",
         "notas": 9,
         "tentativas": 3,
         "aprovado": "sim",
         "_deepnote_index_column": "b"
        },
        {
         "nome": "Regiane",
         "notas": 6.5,
         "tentativas": 2,
         "aprovado": "não",
         "_deepnote_index_column": "c"
        },
        {
         "nome": "Cesar",
         "notas": 8.7,
         "tentativas": 3,
         "aprovado": "sim",
         "_deepnote_index_column": "d"
        },
        {
         "nome": "Eliana",
         "notas": 9,
         "tentativas": 2,
         "aprovado": "sim",
         "_deepnote_index_column": "e"
        },
        {
         "nome": "Marcelio",
         "notas": 6.8,
         "tentativas": 3,
         "aprovado": "não",
         "_deepnote_index_column": "f"
        },
        {
         "nome": "Marcos",
         "notas": 9.5,
         "tentativas": 1,
         "aprovado": "sim",
         "_deepnote_index_column": "g"
        },
        {
         "nome": "Leandra",
         "notas": 5,
         "tentativas": 1,
         "aprovado": "não",
         "_deepnote_index_column": "h"
        },
        {
         "nome": "Roberto",
         "notas": 8,
         "tentativas": 2,
         "aprovado": "sim",
         "_deepnote_index_column": "i"
        },
        {
         "nome": "João",
         "notas": 4,
         "tentativas": 1,
         "aprovado": "não",
         "_deepnote_index_column": "j"
        }
       ]
      },
      "text/plain": "       nome  notas  tentativas aprovado\na    Sandra   10.0           1      sim\nb    Carlos    9.0           3      sim\nc   Regiane    6.5           2      não\nd     Cesar    8.7           3      sim\ne    Eliana    9.0           2      sim\nf  Marcelio    6.8           3      não\ng    Marcos    9.5           1      sim\nh   Leandra    5.0           1      não\ni   Roberto    8.0           2      sim\nj      João    4.0           1      não",
      "text/html": "<div>\n<style scoped>\n    .dataframe tbody tr th:only-of-type {\n        vertical-align: middle;\n    }\n\n    .dataframe tbody tr th {\n        vertical-align: top;\n    }\n\n    .dataframe thead th {\n        text-align: right;\n    }\n</style>\n<table border=\"1\" class=\"dataframe\">\n  <thead>\n    <tr style=\"text-align: right;\">\n      <th></th>\n      <th>nome</th>\n      <th>notas</th>\n      <th>tentativas</th>\n      <th>aprovado</th>\n    </tr>\n  </thead>\n  <tbody>\n    <tr>\n      <th>a</th>\n      <td>Sandra</td>\n      <td>10.0</td>\n      <td>1</td>\n      <td>sim</td>\n    </tr>\n    <tr>\n      <th>b</th>\n      <td>Carlos</td>\n      <td>9.0</td>\n      <td>3</td>\n      <td>sim</td>\n    </tr>\n    <tr>\n      <th>c</th>\n      <td>Regiane</td>\n      <td>6.5</td>\n      <td>2</td>\n      <td>não</td>\n    </tr>\n    <tr>\n      <th>d</th>\n      <td>Cesar</td>\n      <td>8.7</td>\n      <td>3</td>\n      <td>sim</td>\n    </tr>\n    <tr>\n      <th>e</th>\n      <td>Eliana</td>\n      <td>9.0</td>\n      <td>2</td>\n      <td>sim</td>\n    </tr>\n    <tr>\n      <th>f</th>\n      <td>Marcelio</td>\n      <td>6.8</td>\n      <td>3</td>\n      <td>não</td>\n    </tr>\n    <tr>\n      <th>g</th>\n      <td>Marcos</td>\n      <td>9.5</td>\n      <td>1</td>\n      <td>sim</td>\n    </tr>\n    <tr>\n      <th>h</th>\n      <td>Leandra</td>\n      <td>5.0</td>\n      <td>1</td>\n      <td>não</td>\n    </tr>\n    <tr>\n      <th>i</th>\n      <td>Roberto</td>\n      <td>8.0</td>\n      <td>2</td>\n      <td>sim</td>\n    </tr>\n    <tr>\n      <th>j</th>\n      <td>João</td>\n      <td>4.0</td>\n      <td>1</td>\n      <td>não</td>\n    </tr>\n  </tbody>\n</table>\n</div>"
     },
     "metadata": {}
    }
   ]
  },
  {
   "cell_type": "code",
   "metadata": {
    "cell_id": "00010-970368cf-5873-4f10-bd39-aeea7c1fbb38",
    "deepnote_cell_type": "code",
    "deepnote_cell_height": 65.16667175292969
   },
   "source": "",
   "execution_count": null,
   "outputs": []
  },
  {
   "cell_type": "markdown",
   "source": "**Imprima informações basicas do dataframe que você criou**",
   "metadata": {
    "cell_id": "00011-caa23d33-9bf7-4a5f-8bbd-465b4e5180dc",
    "deepnote_cell_type": "markdown",
    "deepnote_cell_height": 51.56666564941406
   }
  },
  {
   "cell_type": "code",
   "metadata": {
    "cell_id": "00012-86cc4b59-b6e7-42b0-9436-11050bd350c7",
    "owner_user_id": "f3b685db-82a0-4f74-9158-9e3d6de2c3bf",
    "deepnote_to_be_reexecuted": false,
    "source_hash": "c085b6ba",
    "execution_start": 1654599472279,
    "execution_millis": 54,
    "deepnote_cell_type": "code",
    "deepnote_cell_height": 393.33331298828125
   },
   "source": "df.head()",
   "execution_count": null,
   "outputs": [
    {
     "output_type": "execute_result",
     "execution_count": 33,
     "data": {
      "application/vnd.deepnote.dataframe.v3+json": {
       "column_count": 4,
       "row_count": 5,
       "columns": [
        {
         "name": "nome",
         "dtype": "object",
         "stats": {
          "unique_count": 5,
          "nan_count": 0,
          "categories": [
           {
            "name": "Sandra",
            "count": 1
           },
           {
            "name": "Carlos",
            "count": 1
           },
           {
            "name": "3 others",
            "count": 3
           }
          ]
         }
        },
        {
         "name": "pontuação",
         "dtype": "float64",
         "stats": {
          "unique_count": 4,
          "nan_count": 0,
          "min": "6.5",
          "max": "10.0",
          "histogram": [
           {
            "bin_start": 6.5,
            "bin_end": 6.85,
            "count": 1
           },
           {
            "bin_start": 6.85,
            "bin_end": 7.2,
            "count": 0
           },
           {
            "bin_start": 7.2,
            "bin_end": 7.55,
            "count": 0
           },
           {
            "bin_start": 7.55,
            "bin_end": 7.9,
            "count": 0
           },
           {
            "bin_start": 7.9,
            "bin_end": 8.25,
            "count": 0
           },
           {
            "bin_start": 8.25,
            "bin_end": 8.6,
            "count": 0
           },
           {
            "bin_start": 8.6,
            "bin_end": 8.95,
            "count": 1
           },
           {
            "bin_start": 8.95,
            "bin_end": 9.3,
            "count": 2
           },
           {
            "bin_start": 9.3,
            "bin_end": 9.65,
            "count": 0
           },
           {
            "bin_start": 9.65,
            "bin_end": 10,
            "count": 1
           }
          ]
         }
        },
        {
         "name": "tentativas",
         "dtype": "int64",
         "stats": {
          "unique_count": 3,
          "nan_count": 0,
          "min": "1",
          "max": "3",
          "histogram": [
           {
            "bin_start": 1,
            "bin_end": 1.2,
            "count": 1
           },
           {
            "bin_start": 1.2,
            "bin_end": 1.4,
            "count": 0
           },
           {
            "bin_start": 1.4,
            "bin_end": 1.6,
            "count": 0
           },
           {
            "bin_start": 1.6,
            "bin_end": 1.8,
            "count": 0
           },
           {
            "bin_start": 1.8,
            "bin_end": 2,
            "count": 0
           },
           {
            "bin_start": 2,
            "bin_end": 2.2,
            "count": 2
           },
           {
            "bin_start": 2.2,
            "bin_end": 2.4000000000000004,
            "count": 0
           },
           {
            "bin_start": 2.4000000000000004,
            "bin_end": 2.6,
            "count": 0
           },
           {
            "bin_start": 2.6,
            "bin_end": 2.8,
            "count": 0
           },
           {
            "bin_start": 2.8,
            "bin_end": 3,
            "count": 2
           }
          ]
         }
        },
        {
         "name": "aprovado",
         "dtype": "object",
         "stats": {
          "unique_count": 2,
          "nan_count": 0,
          "categories": [
           {
            "name": "sim",
            "count": 4
           },
           {
            "name": "não",
            "count": 1
           }
          ]
         }
        },
        {
         "name": "_deepnote_index_column",
         "dtype": "object"
        }
       ],
       "rows": [
        {
         "nome": "Sandra",
         "pontuação": 10,
         "tentativas": 1,
         "aprovado": "sim",
         "_deepnote_index_column": "a"
        },
        {
         "nome": "Carlos",
         "pontuação": 9,
         "tentativas": 3,
         "aprovado": "sim",
         "_deepnote_index_column": "b"
        },
        {
         "nome": "Regiane",
         "pontuação": 6.5,
         "tentativas": 2,
         "aprovado": "não",
         "_deepnote_index_column": "c"
        },
        {
         "nome": "Cesar",
         "pontuação": 8.7,
         "tentativas": 3,
         "aprovado": "sim",
         "_deepnote_index_column": "d"
        },
        {
         "nome": "Eliana",
         "pontuação": 9,
         "tentativas": 2,
         "aprovado": "sim",
         "_deepnote_index_column": "e"
        }
       ]
      },
      "text/plain": "      nome  pontuação  tentativas aprovado\na   Sandra       10.0           1      sim\nb   Carlos        9.0           3      sim\nc  Regiane        6.5           2      não\nd    Cesar        8.7           3      sim\ne   Eliana        9.0           2      sim",
      "text/html": "<div>\n<style scoped>\n    .dataframe tbody tr th:only-of-type {\n        vertical-align: middle;\n    }\n\n    .dataframe tbody tr th {\n        vertical-align: top;\n    }\n\n    .dataframe thead th {\n        text-align: right;\n    }\n</style>\n<table border=\"1\" class=\"dataframe\">\n  <thead>\n    <tr style=\"text-align: right;\">\n      <th></th>\n      <th>nome</th>\n      <th>pontuação</th>\n      <th>tentativas</th>\n      <th>aprovado</th>\n    </tr>\n  </thead>\n  <tbody>\n    <tr>\n      <th>a</th>\n      <td>Sandra</td>\n      <td>10.0</td>\n      <td>1</td>\n      <td>sim</td>\n    </tr>\n    <tr>\n      <th>b</th>\n      <td>Carlos</td>\n      <td>9.0</td>\n      <td>3</td>\n      <td>sim</td>\n    </tr>\n    <tr>\n      <th>c</th>\n      <td>Regiane</td>\n      <td>6.5</td>\n      <td>2</td>\n      <td>não</td>\n    </tr>\n    <tr>\n      <th>d</th>\n      <td>Cesar</td>\n      <td>8.7</td>\n      <td>3</td>\n      <td>sim</td>\n    </tr>\n    <tr>\n      <th>e</th>\n      <td>Eliana</td>\n      <td>9.0</td>\n      <td>2</td>\n      <td>sim</td>\n    </tr>\n  </tbody>\n</table>\n</div>"
     },
     "metadata": {}
    }
   ]
  },
  {
   "cell_type": "markdown",
   "source": "**Imprima as colunas do seu dataframe**\n",
   "metadata": {
    "cell_id": "00013-1fe3297c-86b3-45d6-a3fc-5da506df2b8e",
    "deepnote_cell_type": "markdown",
    "deepnote_cell_height": 51.56666564941406
   }
  },
  {
   "cell_type": "code",
   "metadata": {
    "cell_id": "00014-a3a62d09-b7d5-420b-bbbe-ec1a397805b7",
    "deepnote_to_be_reexecuted": false,
    "source_hash": "490c8f36",
    "execution_start": 1654599429523,
    "execution_millis": 11,
    "deepnote_cell_type": "code",
    "deepnote_cell_height": 142.9499969482422
   },
   "source": "",
   "execution_count": null,
   "outputs": [
    {
     "output_type": "error",
     "ename": "TypeError",
     "evalue": "'>' not supported between instances of 'str' and 'int'",
     "traceback": [
      "\u001b[0;31m---------------------------------------------------------------------------\u001b[0m",
      "\u001b[0;31mTypeError\u001b[0m                                 Traceback (most recent call last)",
      "\u001b[0;32m<ipython-input-32-503d14ceaf55>\u001b[0m in \u001b[0;36m<module>\u001b[0;34m\u001b[0m\n\u001b[0;32m----> 1\u001b[0;31m \u001b[0mdf\u001b[0m\u001b[0;34m[\u001b[0m\u001b[0mdf\u001b[0m\u001b[0;34m[\u001b[0m\u001b[0;34m'nota'\u001b[0m\u001b[0;34m>\u001b[0m\u001b[0;36m0\u001b[0m\u001b[0;34m]\u001b[0m\u001b[0;34m]\u001b[0m\u001b[0;34m\u001b[0m\u001b[0;34m\u001b[0m\u001b[0m\n\u001b[0m",
      "\u001b[0;31mTypeError\u001b[0m: '>' not supported between instances of 'str' and 'int'"
     ]
    }
   ]
  },
  {
   "cell_type": "code",
   "metadata": {
    "cell_id": "00015-edeaa5e6-68d7-4683-96db-307d982536e0",
    "deepnote_cell_type": "code",
    "deepnote_cell_height": 65.16667175292969
   },
   "source": "",
   "execution_count": null,
   "outputs": []
  },
  {
   "cell_type": "markdown",
   "source": "<a style='text-decoration:none;line-height:16px;display:flex;color:#5B5B62;padding:10px;justify-content:end;' href='https://deepnote.com?utm_source=created-in-deepnote-cell&projectId=31152f18-3036-40d1-92d9-59f0bbdc0756' target=\"_blank\">\n<img alt='Created in deepnote.com' style='display:inline;max-height:16px;margin:0px;margin-right:7.5px;' src='data:image/svg+xml;base64,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' > </img>\nCreated in <span style='font-weight:600;margin-left:4px;'>Deepnote</span></a>",
   "metadata": {
    "tags": [],
    "created_in_deepnote_cell": true,
    "deepnote_cell_type": "markdown"
   }
  }
 ],
 "nbformat": 4,
 "nbformat_minor": 5,
 "metadata": {
  "kernelspec": {
   "display_name": "Python 3",
   "language": "python",
   "name": "python3"
  },
  "language_info": {
   "codemirror_mode": {
    "name": "ipython",
    "version": 3
   },
   "file_extension": ".py",
   "mimetype": "text/x-python",
   "name": "python",
   "nbconvert_exporter": "python",
   "pygments_lexer": "ipython3",
   "version": "3.8.8"
  },
  "deepnote_notebook_id": "232c3727-6602-49c3-b613-a5adee1110f6",
  "deepnote": {},
  "deepnote_execution_queue": []
 }
}