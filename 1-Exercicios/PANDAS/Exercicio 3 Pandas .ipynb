{
 "cells": [
  {
   "cell_type": "markdown",
   "source": "###### Os dados desse exercício fazem parte de um conjunto de dados sobre pessoas sem moradia em estados dos EUA.\n",
   "metadata": {
    "cell_id": "d214cf3f-2541-4590-8d51-6765366dab7c",
    "deepnote_cell_type": "markdown",
    "deepnote_cell_height": 73.96665954589844
   }
  },
  {
   "cell_type": "markdown",
   "source": "##### Exercício 1 - Importe o dataset dados.csv e salve com o nome df\n",
   "metadata": {
    "cell_id": "00001-8354ffcc-f64c-41d7-966d-06b18dc3f8a0",
    "deepnote_cell_type": "markdown",
    "deepnote_cell_height": 53.16667175292969
   }
  },
  {
   "cell_type": "code",
   "metadata": {
    "cell_id": "00002-cb74f339-e76e-49d1-98b0-5e2aa0f394c7",
    "deepnote_to_be_reexecuted": false,
    "source_hash": "9b82ee11",
    "execution_start": 1654607303860,
    "execution_millis": 0,
    "deepnote_cell_type": "code",
    "deepnote_cell_height": 80.16667175292969
   },
   "source": "import pandas as pd",
   "execution_count": null,
   "outputs": []
  },
  {
   "cell_type": "code",
   "metadata": {
    "cell_id": "00003-8ad0789b-cbda-4b74-a7c8-726148f03031",
    "deepnote_to_be_reexecuted": false,
    "source_hash": "e5a6ce68",
    "execution_start": 1654608541767,
    "execution_millis": 0,
    "owner_user_id": "f3b685db-82a0-4f74-9158-9e3d6de2c3bf",
    "deepnote_cell_type": "code",
    "deepnote_cell_height": 80.16667175292969
   },
   "source": "df = pd.read_csv('dados.csv', sep=',')",
   "execution_count": null,
   "outputs": []
  },
  {
   "cell_type": "markdown",
   "source": "##### Exercício 2 - Imprima as primeiras e as últimas linhas desse dataset",
   "metadata": {
    "cell_id": "00004-fb539800-4fc0-4e4d-abf8-4995f5a725aa",
    "deepnote_cell_type": "markdown",
    "deepnote_cell_height": 53.16667175292969
   }
  },
  {
   "cell_type": "code",
   "metadata": {
    "cell_id": "00005-75efea72-8b03-4bd8-a1c0-2bcedf0bc04a",
    "deepnote_to_be_reexecuted": false,
    "source_hash": "c085b6ba",
    "execution_start": 1654607424825,
    "execution_millis": 34,
    "deepnote_cell_type": "code",
    "deepnote_cell_height": 393.33331298828125
   },
   "source": "df.head()",
   "execution_count": null,
   "outputs": [
    {
     "output_type": "execute_result",
     "execution_count": 4,
     "data": {
      "application/vnd.deepnote.dataframe.v3+json": {
       "column_count": 6,
       "row_count": 5,
       "columns": [
        {
         "name": "Unnamed: 0",
         "dtype": "int64",
         "stats": {
          "unique_count": 5,
          "nan_count": 0,
          "min": "0",
          "max": "4",
          "histogram": [
           {
            "bin_start": 0,
            "bin_end": 0.4,
            "count": 1
           },
           {
            "bin_start": 0.4,
            "bin_end": 0.8,
            "count": 0
           },
           {
            "bin_start": 0.8,
            "bin_end": 1.2000000000000002,
            "count": 1
           },
           {
            "bin_start": 1.2000000000000002,
            "bin_end": 1.6,
            "count": 0
           },
           {
            "bin_start": 1.6,
            "bin_end": 2,
            "count": 0
           },
           {
            "bin_start": 2,
            "bin_end": 2.4000000000000004,
            "count": 1
           },
           {
            "bin_start": 2.4000000000000004,
            "bin_end": 2.8000000000000003,
            "count": 0
           },
           {
            "bin_start": 2.8000000000000003,
            "bin_end": 3.2,
            "count": 1
           },
           {
            "bin_start": 3.2,
            "bin_end": 3.6,
            "count": 0
           },
           {
            "bin_start": 3.6,
            "bin_end": 4,
            "count": 1
           }
          ]
         }
        },
        {
         "name": "regiao",
         "dtype": "object",
         "stats": {
          "unique_count": 4,
          "nan_count": 0,
          "categories": [
           {
            "name": "Pacific",
            "count": 2
           },
           {
            "name": "East South Central",
            "count": 1
           },
           {
            "name": "2 others",
            "count": 2
           }
          ]
         }
        },
        {
         "name": "estado",
         "dtype": "object",
         "stats": {
          "unique_count": 5,
          "nan_count": 0,
          "categories": [
           {
            "name": "Alabama",
            "count": 1
           },
           {
            "name": "Alaska",
            "count": 1
           },
           {
            "name": "3 others",
            "count": 3
           }
          ]
         }
        },
        {
         "name": "individuos",
         "dtype": "float64",
         "stats": {
          "unique_count": 5,
          "nan_count": 0,
          "min": "1434.0",
          "max": "109008.0",
          "histogram": [
           {
            "bin_start": 1434,
            "bin_end": 12191.4,
            "count": 4
           },
           {
            "bin_start": 12191.4,
            "bin_end": 22948.8,
            "count": 0
           },
           {
            "bin_start": 22948.8,
            "bin_end": 33706.2,
            "count": 0
           },
           {
            "bin_start": 33706.2,
            "bin_end": 44463.6,
            "count": 0
           },
           {
            "bin_start": 44463.6,
            "bin_end": 55221,
            "count": 0
           },
           {
            "bin_start": 55221,
            "bin_end": 65978.4,
            "count": 0
           },
           {
            "bin_start": 65978.4,
            "bin_end": 76735.8,
            "count": 0
           },
           {
            "bin_start": 76735.8,
            "bin_end": 87493.2,
            "count": 0
           },
           {
            "bin_start": 87493.2,
            "bin_end": 98250.59999999999,
            "count": 0
           },
           {
            "bin_start": 98250.59999999999,
            "bin_end": 109008,
            "count": 1
           }
          ]
         }
        },
        {
         "name": "membros_da_familia",
         "dtype": "float64",
         "stats": {
          "unique_count": 5,
          "nan_count": 0,
          "min": "432.0",
          "max": "20964.0",
          "histogram": [
           {
            "bin_start": 432,
            "bin_end": 2485.2,
            "count": 3
           },
           {
            "bin_start": 2485.2,
            "bin_end": 4538.4,
            "count": 1
           },
           {
            "bin_start": 4538.4,
            "bin_end": 6591.599999999999,
            "count": 0
           },
           {
            "bin_start": 6591.599999999999,
            "bin_end": 8644.8,
            "count": 0
           },
           {
            "bin_start": 8644.8,
            "bin_end": 10698,
            "count": 0
           },
           {
            "bin_start": 10698,
            "bin_end": 12751.199999999999,
            "count": 0
           },
           {
            "bin_start": 12751.199999999999,
            "bin_end": 14804.399999999998,
            "count": 0
           },
           {
            "bin_start": 14804.399999999998,
            "bin_end": 16857.6,
            "count": 0
           },
           {
            "bin_start": 16857.6,
            "bin_end": 18910.8,
            "count": 0
           },
           {
            "bin_start": 18910.8,
            "bin_end": 20964,
            "count": 1
           }
          ]
         }
        },
        {
         "name": "populacao_do_estado",
         "dtype": "int64",
         "stats": {
          "unique_count": 5,
          "nan_count": 0,
          "min": "735139",
          "max": "39461588",
          "histogram": [
           {
            "bin_start": 735139,
            "bin_end": 4607783.9,
            "count": 2
           },
           {
            "bin_start": 4607783.9,
            "bin_end": 8480428.8,
            "count": 2
           },
           {
            "bin_start": 8480428.8,
            "bin_end": 12353073.7,
            "count": 0
           },
           {
            "bin_start": 12353073.7,
            "bin_end": 16225718.6,
            "count": 0
           },
           {
            "bin_start": 16225718.6,
            "bin_end": 20098363.5,
            "count": 0
           },
           {
            "bin_start": 20098363.5,
            "bin_end": 23971008.4,
            "count": 0
           },
           {
            "bin_start": 23971008.4,
            "bin_end": 27843653.3,
            "count": 0
           },
           {
            "bin_start": 27843653.3,
            "bin_end": 31716298.2,
            "count": 0
           },
           {
            "bin_start": 31716298.2,
            "bin_end": 35588943.1,
            "count": 0
           },
           {
            "bin_start": 35588943.1,
            "bin_end": 39461588,
            "count": 1
           }
          ]
         }
        },
        {
         "name": "_deepnote_index_column",
         "dtype": "int64"
        }
       ],
       "rows": [
        {
         "Unnamed: 0": 0,
         "regiao": "East South Central",
         "estado": "Alabama",
         "individuos": 2570,
         "membros_da_familia": 864,
         "populacao_do_estado": 4887681,
         "_deepnote_index_column": 0
        },
        {
         "Unnamed: 0": 1,
         "regiao": "Pacific",
         "estado": "Alaska",
         "individuos": 1434,
         "membros_da_familia": 582,
         "populacao_do_estado": 735139,
         "_deepnote_index_column": 1
        },
        {
         "Unnamed: 0": 2,
         "regiao": "Mountain",
         "estado": "Arizona",
         "individuos": 7259,
         "membros_da_familia": 2606,
         "populacao_do_estado": 7158024,
         "_deepnote_index_column": 2
        },
        {
         "Unnamed: 0": 3,
         "regiao": "West South Central",
         "estado": "Arkansas",
         "individuos": 2280,
         "membros_da_familia": 432,
         "populacao_do_estado": 3009733,
         "_deepnote_index_column": 3
        },
        {
         "Unnamed: 0": 4,
         "regiao": "Pacific",
         "estado": "California",
         "individuos": 109008,
         "membros_da_familia": 20964,
         "populacao_do_estado": 39461588,
         "_deepnote_index_column": 4
        }
       ]
      },
      "text/plain": "   Unnamed: 0              regiao      estado  individuos  membros_da_familia  \\\n0           0  East South Central     Alabama      2570.0               864.0   \n1           1             Pacific      Alaska      1434.0               582.0   \n2           2            Mountain     Arizona      7259.0              2606.0   \n3           3  West South Central    Arkansas      2280.0               432.0   \n4           4             Pacific  California    109008.0             20964.0   \n\n   populacao_do_estado  \n0              4887681  \n1               735139  \n2              7158024  \n3              3009733  \n4             39461588  ",
      "text/html": "<div>\n<style scoped>\n    .dataframe tbody tr th:only-of-type {\n        vertical-align: middle;\n    }\n\n    .dataframe tbody tr th {\n        vertical-align: top;\n    }\n\n    .dataframe thead th {\n        text-align: right;\n    }\n</style>\n<table border=\"1\" class=\"dataframe\">\n  <thead>\n    <tr style=\"text-align: right;\">\n      <th></th>\n      <th>Unnamed: 0</th>\n      <th>regiao</th>\n      <th>estado</th>\n      <th>individuos</th>\n      <th>membros_da_familia</th>\n      <th>populacao_do_estado</th>\n    </tr>\n  </thead>\n  <tbody>\n    <tr>\n      <th>0</th>\n      <td>0</td>\n      <td>East South Central</td>\n      <td>Alabama</td>\n      <td>2570.0</td>\n      <td>864.0</td>\n      <td>4887681</td>\n    </tr>\n    <tr>\n      <th>1</th>\n      <td>1</td>\n      <td>Pacific</td>\n      <td>Alaska</td>\n      <td>1434.0</td>\n      <td>582.0</td>\n      <td>735139</td>\n    </tr>\n    <tr>\n      <th>2</th>\n      <td>2</td>\n      <td>Mountain</td>\n      <td>Arizona</td>\n      <td>7259.0</td>\n      <td>2606.0</td>\n      <td>7158024</td>\n    </tr>\n    <tr>\n      <th>3</th>\n      <td>3</td>\n      <td>West South Central</td>\n      <td>Arkansas</td>\n      <td>2280.0</td>\n      <td>432.0</td>\n      <td>3009733</td>\n    </tr>\n    <tr>\n      <th>4</th>\n      <td>4</td>\n      <td>Pacific</td>\n      <td>California</td>\n      <td>109008.0</td>\n      <td>20964.0</td>\n      <td>39461588</td>\n    </tr>\n  </tbody>\n</table>\n</div>"
     },
     "metadata": {}
    }
   ]
  },
  {
   "cell_type": "code",
   "metadata": {
    "cell_id": "8ec58de3e600473fae22cb674922addd",
    "tags": [],
    "deepnote_to_be_reexecuted": false,
    "source_hash": "838c0c28",
    "execution_start": 1654607492291,
    "execution_millis": 25,
    "deepnote_cell_type": "code",
    "deepnote_cell_height": 393.33331298828125
   },
   "source": "df.tail()",
   "execution_count": null,
   "outputs": [
    {
     "output_type": "execute_result",
     "execution_count": 6,
     "data": {
      "application/vnd.deepnote.dataframe.v3+json": {
       "column_count": 6,
       "row_count": 5,
       "columns": [
        {
         "name": "Unnamed: 0",
         "dtype": "int64",
         "stats": {
          "unique_count": 5,
          "nan_count": 0,
          "min": "46",
          "max": "50",
          "histogram": [
           {
            "bin_start": 46,
            "bin_end": 46.4,
            "count": 1
           },
           {
            "bin_start": 46.4,
            "bin_end": 46.8,
            "count": 0
           },
           {
            "bin_start": 46.8,
            "bin_end": 47.2,
            "count": 1
           },
           {
            "bin_start": 47.2,
            "bin_end": 47.6,
            "count": 0
           },
           {
            "bin_start": 47.6,
            "bin_end": 48,
            "count": 0
           },
           {
            "bin_start": 48,
            "bin_end": 48.4,
            "count": 1
           },
           {
            "bin_start": 48.4,
            "bin_end": 48.8,
            "count": 0
           },
           {
            "bin_start": 48.8,
            "bin_end": 49.2,
            "count": 1
           },
           {
            "bin_start": 49.2,
            "bin_end": 49.6,
            "count": 0
           },
           {
            "bin_start": 49.6,
            "bin_end": 50,
            "count": 1
           }
          ]
         }
        },
        {
         "name": "regiao",
         "dtype": "object",
         "stats": {
          "unique_count": 4,
          "nan_count": 0,
          "categories": [
           {
            "name": "South Atlantic",
            "count": 2
           },
           {
            "name": "Pacific",
            "count": 1
           },
           {
            "name": "2 others",
            "count": 2
           }
          ]
         }
        },
        {
         "name": "estado",
         "dtype": "object",
         "stats": {
          "unique_count": 5,
          "nan_count": 0,
          "categories": [
           {
            "name": "Virginia",
            "count": 1
           },
           {
            "name": "Washington",
            "count": 1
           },
           {
            "name": "3 others",
            "count": 3
           }
          ]
         }
        },
        {
         "name": "individuos",
         "dtype": "float64",
         "stats": {
          "unique_count": 5,
          "nan_count": 0,
          "min": "434.0",
          "max": "16424.0",
          "histogram": [
           {
            "bin_start": 434,
            "bin_end": 2033,
            "count": 2
           },
           {
            "bin_start": 2033,
            "bin_end": 3632,
            "count": 1
           },
           {
            "bin_start": 3632,
            "bin_end": 5231,
            "count": 1
           },
           {
            "bin_start": 5231,
            "bin_end": 6830,
            "count": 0
           },
           {
            "bin_start": 6830,
            "bin_end": 8429,
            "count": 0
           },
           {
            "bin_start": 8429,
            "bin_end": 10028,
            "count": 0
           },
           {
            "bin_start": 10028,
            "bin_end": 11627,
            "count": 0
           },
           {
            "bin_start": 11627,
            "bin_end": 13226,
            "count": 0
           },
           {
            "bin_start": 13226,
            "bin_end": 14825,
            "count": 0
           },
           {
            "bin_start": 14825,
            "bin_end": 16424,
            "count": 1
           }
          ]
         }
        },
        {
         "name": "membros_da_familia",
         "dtype": "float64",
         "stats": {
          "unique_count": 5,
          "nan_count": 0,
          "min": "205.0",
          "max": "5880.0",
          "histogram": [
           {
            "bin_start": 205,
            "bin_end": 772.5,
            "count": 2
           },
           {
            "bin_start": 772.5,
            "bin_end": 1340,
            "count": 0
           },
           {
            "bin_start": 1340,
            "bin_end": 1907.5,
            "count": 0
           },
           {
            "bin_start": 1907.5,
            "bin_end": 2475,
            "count": 2
           },
           {
            "bin_start": 2475,
            "bin_end": 3042.5,
            "count": 0
           },
           {
            "bin_start": 3042.5,
            "bin_end": 3610,
            "count": 0
           },
           {
            "bin_start": 3610,
            "bin_end": 4177.5,
            "count": 0
           },
           {
            "bin_start": 4177.5,
            "bin_end": 4745,
            "count": 0
           },
           {
            "bin_start": 4745,
            "bin_end": 5312.5,
            "count": 0
           },
           {
            "bin_start": 5312.5,
            "bin_end": 5880,
            "count": 1
           }
          ]
         }
        },
        {
         "name": "populacao_do_estado",
         "dtype": "int64",
         "stats": {
          "unique_count": 5,
          "nan_count": 0,
          "min": "577601",
          "max": "8501286",
          "histogram": [
           {
            "bin_start": 577601,
            "bin_end": 1369969.5,
            "count": 1
           },
           {
            "bin_start": 1369969.5,
            "bin_end": 2162338,
            "count": 1
           },
           {
            "bin_start": 2162338,
            "bin_end": 2954706.5,
            "count": 0
           },
           {
            "bin_start": 2954706.5,
            "bin_end": 3747075,
            "count": 0
           },
           {
            "bin_start": 3747075,
            "bin_end": 4539443.5,
            "count": 0
           },
           {
            "bin_start": 4539443.5,
            "bin_end": 5331812,
            "count": 0
           },
           {
            "bin_start": 5331812,
            "bin_end": 6124180.5,
            "count": 1
           },
           {
            "bin_start": 6124180.5,
            "bin_end": 6916549,
            "count": 0
           },
           {
            "bin_start": 6916549,
            "bin_end": 7708917.5,
            "count": 1
           },
           {
            "bin_start": 7708917.5,
            "bin_end": 8501286,
            "count": 1
           }
          ]
         }
        },
        {
         "name": "_deepnote_index_column",
         "dtype": "int64"
        }
       ],
       "rows": [
        {
         "Unnamed: 0": 46,
         "regiao": "South Atlantic",
         "estado": "Virginia",
         "individuos": 3928,
         "membros_da_familia": 2047,
         "populacao_do_estado": 8501286,
         "_deepnote_index_column": 46
        },
        {
         "Unnamed: 0": 47,
         "regiao": "Pacific",
         "estado": "Washington",
         "individuos": 16424,
         "membros_da_familia": 5880,
         "populacao_do_estado": 7523869,
         "_deepnote_index_column": 47
        },
        {
         "Unnamed: 0": 48,
         "regiao": "South Atlantic",
         "estado": "West Virginia",
         "individuos": 1021,
         "membros_da_familia": 222,
         "populacao_do_estado": 1804291,
         "_deepnote_index_column": 48
        },
        {
         "Unnamed: 0": 49,
         "regiao": "East North Central",
         "estado": "Wisconsin",
         "individuos": 2740,
         "membros_da_familia": 2167,
         "populacao_do_estado": 5807406,
         "_deepnote_index_column": 49
        },
        {
         "Unnamed: 0": 50,
         "regiao": "Mountain",
         "estado": "Wyoming",
         "individuos": 434,
         "membros_da_familia": 205,
         "populacao_do_estado": 577601,
         "_deepnote_index_column": 50
        }
       ]
      },
      "text/plain": "    Unnamed: 0              regiao         estado  individuos  \\\n46          46      South Atlantic       Virginia      3928.0   \n47          47             Pacific     Washington     16424.0   \n48          48      South Atlantic  West Virginia      1021.0   \n49          49  East North Central      Wisconsin      2740.0   \n50          50            Mountain        Wyoming       434.0   \n\n    membros_da_familia  populacao_do_estado  \n46              2047.0              8501286  \n47              5880.0              7523869  \n48               222.0              1804291  \n49              2167.0              5807406  \n50               205.0               577601  ",
      "text/html": "<div>\n<style scoped>\n    .dataframe tbody tr th:only-of-type {\n        vertical-align: middle;\n    }\n\n    .dataframe tbody tr th {\n        vertical-align: top;\n    }\n\n    .dataframe thead th {\n        text-align: right;\n    }\n</style>\n<table border=\"1\" class=\"dataframe\">\n  <thead>\n    <tr style=\"text-align: right;\">\n      <th></th>\n      <th>Unnamed: 0</th>\n      <th>regiao</th>\n      <th>estado</th>\n      <th>individuos</th>\n      <th>membros_da_familia</th>\n      <th>populacao_do_estado</th>\n    </tr>\n  </thead>\n  <tbody>\n    <tr>\n      <th>46</th>\n      <td>46</td>\n      <td>South Atlantic</td>\n      <td>Virginia</td>\n      <td>3928.0</td>\n      <td>2047.0</td>\n      <td>8501286</td>\n    </tr>\n    <tr>\n      <th>47</th>\n      <td>47</td>\n      <td>Pacific</td>\n      <td>Washington</td>\n      <td>16424.0</td>\n      <td>5880.0</td>\n      <td>7523869</td>\n    </tr>\n    <tr>\n      <th>48</th>\n      <td>48</td>\n      <td>South Atlantic</td>\n      <td>West Virginia</td>\n      <td>1021.0</td>\n      <td>222.0</td>\n      <td>1804291</td>\n    </tr>\n    <tr>\n      <th>49</th>\n      <td>49</td>\n      <td>East North Central</td>\n      <td>Wisconsin</td>\n      <td>2740.0</td>\n      <td>2167.0</td>\n      <td>5807406</td>\n    </tr>\n    <tr>\n      <th>50</th>\n      <td>50</td>\n      <td>Mountain</td>\n      <td>Wyoming</td>\n      <td>434.0</td>\n      <td>205.0</td>\n      <td>577601</td>\n    </tr>\n  </tbody>\n</table>\n</div>"
     },
     "metadata": {}
    }
   ]
  },
  {
   "cell_type": "markdown",
   "source": "Observação: A coluna individuos refere-se a pessoas sem moradia.",
   "metadata": {
    "cell_id": "00006-1c1fcea4-e64d-4c06-9844-d33c8a4343f3",
    "deepnote_cell_type": "markdown",
    "deepnote_cell_height": 51.56666564941406
   }
  },
  {
   "cell_type": "markdown",
   "source": "##### Exercício 3 - Elimine a coluna \" Unnamed: 0\"",
   "metadata": {
    "cell_id": "00007-a8a0ce32-4251-4c24-a61a-06df2d89d4ee",
    "deepnote_cell_type": "markdown",
    "deepnote_cell_height": 53.16667175292969
   }
  },
  {
   "cell_type": "code",
   "metadata": {
    "cell_id": "00008-faad5eb2-635e-4bba-b683-7c9515f883f8",
    "deepnote_to_be_reexecuted": false,
    "source_hash": "1dd7b333",
    "execution_start": 1654608547763,
    "execution_millis": 3,
    "deepnote_cell_type": "code",
    "deepnote_cell_height": 80.16667175292969
   },
   "source": "df.drop('Unnamed: 0', axis=1, inplace=True)",
   "execution_count": null,
   "outputs": []
  },
  {
   "cell_type": "code",
   "metadata": {
    "cell_id": "00009-bd6744a2-1554-45f2-b443-ead880465a68",
    "deepnote_to_be_reexecuted": false,
    "source_hash": "c085b6ba",
    "execution_start": 1654607585434,
    "execution_millis": 512,
    "deepnote_cell_type": "code",
    "deepnote_cell_height": 393.33331298828125
   },
   "source": "df.head()",
   "execution_count": null,
   "outputs": [
    {
     "output_type": "execute_result",
     "execution_count": 9,
     "data": {
      "application/vnd.deepnote.dataframe.v3+json": {
       "column_count": 5,
       "row_count": 5,
       "columns": [
        {
         "name": "regiao",
         "dtype": "object",
         "stats": {
          "unique_count": 4,
          "nan_count": 0,
          "categories": [
           {
            "name": "Pacific",
            "count": 2
           },
           {
            "name": "East South Central",
            "count": 1
           },
           {
            "name": "2 others",
            "count": 2
           }
          ]
         }
        },
        {
         "name": "estado",
         "dtype": "object",
         "stats": {
          "unique_count": 5,
          "nan_count": 0,
          "categories": [
           {
            "name": "Alabama",
            "count": 1
           },
           {
            "name": "Alaska",
            "count": 1
           },
           {
            "name": "3 others",
            "count": 3
           }
          ]
         }
        },
        {
         "name": "individuos",
         "dtype": "float64",
         "stats": {
          "unique_count": 5,
          "nan_count": 0,
          "min": "1434.0",
          "max": "109008.0",
          "histogram": [
           {
            "bin_start": 1434,
            "bin_end": 12191.4,
            "count": 4
           },
           {
            "bin_start": 12191.4,
            "bin_end": 22948.8,
            "count": 0
           },
           {
            "bin_start": 22948.8,
            "bin_end": 33706.2,
            "count": 0
           },
           {
            "bin_start": 33706.2,
            "bin_end": 44463.6,
            "count": 0
           },
           {
            "bin_start": 44463.6,
            "bin_end": 55221,
            "count": 0
           },
           {
            "bin_start": 55221,
            "bin_end": 65978.4,
            "count": 0
           },
           {
            "bin_start": 65978.4,
            "bin_end": 76735.8,
            "count": 0
           },
           {
            "bin_start": 76735.8,
            "bin_end": 87493.2,
            "count": 0
           },
           {
            "bin_start": 87493.2,
            "bin_end": 98250.59999999999,
            "count": 0
           },
           {
            "bin_start": 98250.59999999999,
            "bin_end": 109008,
            "count": 1
           }
          ]
         }
        },
        {
         "name": "membros_da_familia",
         "dtype": "float64",
         "stats": {
          "unique_count": 5,
          "nan_count": 0,
          "min": "432.0",
          "max": "20964.0",
          "histogram": [
           {
            "bin_start": 432,
            "bin_end": 2485.2,
            "count": 3
           },
           {
            "bin_start": 2485.2,
            "bin_end": 4538.4,
            "count": 1
           },
           {
            "bin_start": 4538.4,
            "bin_end": 6591.599999999999,
            "count": 0
           },
           {
            "bin_start": 6591.599999999999,
            "bin_end": 8644.8,
            "count": 0
           },
           {
            "bin_start": 8644.8,
            "bin_end": 10698,
            "count": 0
           },
           {
            "bin_start": 10698,
            "bin_end": 12751.199999999999,
            "count": 0
           },
           {
            "bin_start": 12751.199999999999,
            "bin_end": 14804.399999999998,
            "count": 0
           },
           {
            "bin_start": 14804.399999999998,
            "bin_end": 16857.6,
            "count": 0
           },
           {
            "bin_start": 16857.6,
            "bin_end": 18910.8,
            "count": 0
           },
           {
            "bin_start": 18910.8,
            "bin_end": 20964,
            "count": 1
           }
          ]
         }
        },
        {
         "name": "populacao_do_estado",
         "dtype": "int64",
         "stats": {
          "unique_count": 5,
          "nan_count": 0,
          "min": "735139",
          "max": "39461588",
          "histogram": [
           {
            "bin_start": 735139,
            "bin_end": 4607783.9,
            "count": 2
           },
           {
            "bin_start": 4607783.9,
            "bin_end": 8480428.8,
            "count": 2
           },
           {
            "bin_start": 8480428.8,
            "bin_end": 12353073.7,
            "count": 0
           },
           {
            "bin_start": 12353073.7,
            "bin_end": 16225718.6,
            "count": 0
           },
           {
            "bin_start": 16225718.6,
            "bin_end": 20098363.5,
            "count": 0
           },
           {
            "bin_start": 20098363.5,
            "bin_end": 23971008.4,
            "count": 0
           },
           {
            "bin_start": 23971008.4,
            "bin_end": 27843653.3,
            "count": 0
           },
           {
            "bin_start": 27843653.3,
            "bin_end": 31716298.2,
            "count": 0
           },
           {
            "bin_start": 31716298.2,
            "bin_end": 35588943.1,
            "count": 0
           },
           {
            "bin_start": 35588943.1,
            "bin_end": 39461588,
            "count": 1
           }
          ]
         }
        },
        {
         "name": "_deepnote_index_column",
         "dtype": "int64"
        }
       ],
       "rows": [
        {
         "regiao": "East South Central",
         "estado": "Alabama",
         "individuos": 2570,
         "membros_da_familia": 864,
         "populacao_do_estado": 4887681,
         "_deepnote_index_column": 0
        },
        {
         "regiao": "Pacific",
         "estado": "Alaska",
         "individuos": 1434,
         "membros_da_familia": 582,
         "populacao_do_estado": 735139,
         "_deepnote_index_column": 1
        },
        {
         "regiao": "Mountain",
         "estado": "Arizona",
         "individuos": 7259,
         "membros_da_familia": 2606,
         "populacao_do_estado": 7158024,
         "_deepnote_index_column": 2
        },
        {
         "regiao": "West South Central",
         "estado": "Arkansas",
         "individuos": 2280,
         "membros_da_familia": 432,
         "populacao_do_estado": 3009733,
         "_deepnote_index_column": 3
        },
        {
         "regiao": "Pacific",
         "estado": "California",
         "individuos": 109008,
         "membros_da_familia": 20964,
         "populacao_do_estado": 39461588,
         "_deepnote_index_column": 4
        }
       ]
      },
      "text/plain": "               regiao      estado  individuos  membros_da_familia  \\\n0  East South Central     Alabama      2570.0               864.0   \n1             Pacific      Alaska      1434.0               582.0   \n2            Mountain     Arizona      7259.0              2606.0   \n3  West South Central    Arkansas      2280.0               432.0   \n4             Pacific  California    109008.0             20964.0   \n\n   populacao_do_estado  \n0              4887681  \n1               735139  \n2              7158024  \n3              3009733  \n4             39461588  ",
      "text/html": "<div>\n<style scoped>\n    .dataframe tbody tr th:only-of-type {\n        vertical-align: middle;\n    }\n\n    .dataframe tbody tr th {\n        vertical-align: top;\n    }\n\n    .dataframe thead th {\n        text-align: right;\n    }\n</style>\n<table border=\"1\" class=\"dataframe\">\n  <thead>\n    <tr style=\"text-align: right;\">\n      <th></th>\n      <th>regiao</th>\n      <th>estado</th>\n      <th>individuos</th>\n      <th>membros_da_familia</th>\n      <th>populacao_do_estado</th>\n    </tr>\n  </thead>\n  <tbody>\n    <tr>\n      <th>0</th>\n      <td>East South Central</td>\n      <td>Alabama</td>\n      <td>2570.0</td>\n      <td>864.0</td>\n      <td>4887681</td>\n    </tr>\n    <tr>\n      <th>1</th>\n      <td>Pacific</td>\n      <td>Alaska</td>\n      <td>1434.0</td>\n      <td>582.0</td>\n      <td>735139</td>\n    </tr>\n    <tr>\n      <th>2</th>\n      <td>Mountain</td>\n      <td>Arizona</td>\n      <td>7259.0</td>\n      <td>2606.0</td>\n      <td>7158024</td>\n    </tr>\n    <tr>\n      <th>3</th>\n      <td>West South Central</td>\n      <td>Arkansas</td>\n      <td>2280.0</td>\n      <td>432.0</td>\n      <td>3009733</td>\n    </tr>\n    <tr>\n      <th>4</th>\n      <td>Pacific</td>\n      <td>California</td>\n      <td>109008.0</td>\n      <td>20964.0</td>\n      <td>39461588</td>\n    </tr>\n  </tbody>\n</table>\n</div>"
     },
     "metadata": {}
    }
   ]
  },
  {
   "cell_type": "markdown",
   "source": "**Exercício 4 - Crie uma nova coluna chamada total que é a soma das colunas  individuos e membros_da_familia**",
   "metadata": {
    "cell_id": "00010-2b1ad6d0-2f2e-4bdf-bb84-e71ff62780f1",
    "deepnote_cell_type": "markdown",
    "deepnote_cell_height": 73.96665954589844
   }
  },
  {
   "cell_type": "code",
   "metadata": {
    "cell_id": "00011-cddd41d9-7b50-4df5-a5b2-52cecb8035e6",
    "deepnote_to_be_reexecuted": false,
    "source_hash": "9a229ca4",
    "execution_start": 1654607706161,
    "execution_millis": 12,
    "deepnote_cell_type": "code",
    "deepnote_cell_height": 80.16667175292969
   },
   "source": "df['total'] = (df['individuos'] + df['membros_da_familia'])",
   "execution_count": null,
   "outputs": []
  },
  {
   "cell_type": "code",
   "metadata": {
    "cell_id": "419d94cf346d4750b4957cc8e76f6fec",
    "tags": [],
    "deepnote_to_be_reexecuted": false,
    "source_hash": "c085b6ba",
    "execution_start": 1654607713365,
    "execution_millis": 27,
    "deepnote_cell_type": "code",
    "deepnote_cell_height": 393.33331298828125
   },
   "source": "df.head()",
   "execution_count": null,
   "outputs": [
    {
     "output_type": "execute_result",
     "execution_count": 11,
     "data": {
      "application/vnd.deepnote.dataframe.v3+json": {
       "column_count": 6,
       "row_count": 5,
       "columns": [
        {
         "name": "regiao",
         "dtype": "object",
         "stats": {
          "unique_count": 4,
          "nan_count": 0,
          "categories": [
           {
            "name": "Pacific",
            "count": 2
           },
           {
            "name": "East South Central",
            "count": 1
           },
           {
            "name": "2 others",
            "count": 2
           }
          ]
         }
        },
        {
         "name": "estado",
         "dtype": "object",
         "stats": {
          "unique_count": 5,
          "nan_count": 0,
          "categories": [
           {
            "name": "Alabama",
            "count": 1
           },
           {
            "name": "Alaska",
            "count": 1
           },
           {
            "name": "3 others",
            "count": 3
           }
          ]
         }
        },
        {
         "name": "individuos",
         "dtype": "float64",
         "stats": {
          "unique_count": 5,
          "nan_count": 0,
          "min": "1434.0",
          "max": "109008.0",
          "histogram": [
           {
            "bin_start": 1434,
            "bin_end": 12191.4,
            "count": 4
           },
           {
            "bin_start": 12191.4,
            "bin_end": 22948.8,
            "count": 0
           },
           {
            "bin_start": 22948.8,
            "bin_end": 33706.2,
            "count": 0
           },
           {
            "bin_start": 33706.2,
            "bin_end": 44463.6,
            "count": 0
           },
           {
            "bin_start": 44463.6,
            "bin_end": 55221,
            "count": 0
           },
           {
            "bin_start": 55221,
            "bin_end": 65978.4,
            "count": 0
           },
           {
            "bin_start": 65978.4,
            "bin_end": 76735.8,
            "count": 0
           },
           {
            "bin_start": 76735.8,
            "bin_end": 87493.2,
            "count": 0
           },
           {
            "bin_start": 87493.2,
            "bin_end": 98250.59999999999,
            "count": 0
           },
           {
            "bin_start": 98250.59999999999,
            "bin_end": 109008,
            "count": 1
           }
          ]
         }
        },
        {
         "name": "membros_da_familia",
         "dtype": "float64",
         "stats": {
          "unique_count": 5,
          "nan_count": 0,
          "min": "432.0",
          "max": "20964.0",
          "histogram": [
           {
            "bin_start": 432,
            "bin_end": 2485.2,
            "count": 3
           },
           {
            "bin_start": 2485.2,
            "bin_end": 4538.4,
            "count": 1
           },
           {
            "bin_start": 4538.4,
            "bin_end": 6591.599999999999,
            "count": 0
           },
           {
            "bin_start": 6591.599999999999,
            "bin_end": 8644.8,
            "count": 0
           },
           {
            "bin_start": 8644.8,
            "bin_end": 10698,
            "count": 0
           },
           {
            "bin_start": 10698,
            "bin_end": 12751.199999999999,
            "count": 0
           },
           {
            "bin_start": 12751.199999999999,
            "bin_end": 14804.399999999998,
            "count": 0
           },
           {
            "bin_start": 14804.399999999998,
            "bin_end": 16857.6,
            "count": 0
           },
           {
            "bin_start": 16857.6,
            "bin_end": 18910.8,
            "count": 0
           },
           {
            "bin_start": 18910.8,
            "bin_end": 20964,
            "count": 1
           }
          ]
         }
        },
        {
         "name": "populacao_do_estado",
         "dtype": "int64",
         "stats": {
          "unique_count": 5,
          "nan_count": 0,
          "min": "735139",
          "max": "39461588",
          "histogram": [
           {
            "bin_start": 735139,
            "bin_end": 4607783.9,
            "count": 2
           },
           {
            "bin_start": 4607783.9,
            "bin_end": 8480428.8,
            "count": 2
           },
           {
            "bin_start": 8480428.8,
            "bin_end": 12353073.7,
            "count": 0
           },
           {
            "bin_start": 12353073.7,
            "bin_end": 16225718.6,
            "count": 0
           },
           {
            "bin_start": 16225718.6,
            "bin_end": 20098363.5,
            "count": 0
           },
           {
            "bin_start": 20098363.5,
            "bin_end": 23971008.4,
            "count": 0
           },
           {
            "bin_start": 23971008.4,
            "bin_end": 27843653.3,
            "count": 0
           },
           {
            "bin_start": 27843653.3,
            "bin_end": 31716298.2,
            "count": 0
           },
           {
            "bin_start": 31716298.2,
            "bin_end": 35588943.1,
            "count": 0
           },
           {
            "bin_start": 35588943.1,
            "bin_end": 39461588,
            "count": 1
           }
          ]
         }
        },
        {
         "name": "total",
         "dtype": "float64",
         "stats": {
          "unique_count": 5,
          "nan_count": 0,
          "min": "2016.0",
          "max": "129972.0",
          "histogram": [
           {
            "bin_start": 2016,
            "bin_end": 14811.6,
            "count": 4
           },
           {
            "bin_start": 14811.6,
            "bin_end": 27607.2,
            "count": 0
           },
           {
            "bin_start": 27607.2,
            "bin_end": 40402.8,
            "count": 0
           },
           {
            "bin_start": 40402.8,
            "bin_end": 53198.4,
            "count": 0
           },
           {
            "bin_start": 53198.4,
            "bin_end": 65994,
            "count": 0
           },
           {
            "bin_start": 65994,
            "bin_end": 78789.6,
            "count": 0
           },
           {
            "bin_start": 78789.6,
            "bin_end": 91585.2,
            "count": 0
           },
           {
            "bin_start": 91585.2,
            "bin_end": 104380.8,
            "count": 0
           },
           {
            "bin_start": 104380.8,
            "bin_end": 117176.40000000001,
            "count": 0
           },
           {
            "bin_start": 117176.40000000001,
            "bin_end": 129972,
            "count": 1
           }
          ]
         }
        },
        {
         "name": "_deepnote_index_column",
         "dtype": "int64"
        }
       ],
       "rows": [
        {
         "regiao": "East South Central",
         "estado": "Alabama",
         "individuos": 2570,
         "membros_da_familia": 864,
         "populacao_do_estado": 4887681,
         "total": 3434,
         "_deepnote_index_column": 0
        },
        {
         "regiao": "Pacific",
         "estado": "Alaska",
         "individuos": 1434,
         "membros_da_familia": 582,
         "populacao_do_estado": 735139,
         "total": 2016,
         "_deepnote_index_column": 1
        },
        {
         "regiao": "Mountain",
         "estado": "Arizona",
         "individuos": 7259,
         "membros_da_familia": 2606,
         "populacao_do_estado": 7158024,
         "total": 9865,
         "_deepnote_index_column": 2
        },
        {
         "regiao": "West South Central",
         "estado": "Arkansas",
         "individuos": 2280,
         "membros_da_familia": 432,
         "populacao_do_estado": 3009733,
         "total": 2712,
         "_deepnote_index_column": 3
        },
        {
         "regiao": "Pacific",
         "estado": "California",
         "individuos": 109008,
         "membros_da_familia": 20964,
         "populacao_do_estado": 39461588,
         "total": 129972,
         "_deepnote_index_column": 4
        }
       ]
      },
      "text/plain": "               regiao      estado  individuos  membros_da_familia  \\\n0  East South Central     Alabama      2570.0               864.0   \n1             Pacific      Alaska      1434.0               582.0   \n2            Mountain     Arizona      7259.0              2606.0   \n3  West South Central    Arkansas      2280.0               432.0   \n4             Pacific  California    109008.0             20964.0   \n\n   populacao_do_estado     total  \n0              4887681    3434.0  \n1               735139    2016.0  \n2              7158024    9865.0  \n3              3009733    2712.0  \n4             39461588  129972.0  ",
      "text/html": "<div>\n<style scoped>\n    .dataframe tbody tr th:only-of-type {\n        vertical-align: middle;\n    }\n\n    .dataframe tbody tr th {\n        vertical-align: top;\n    }\n\n    .dataframe thead th {\n        text-align: right;\n    }\n</style>\n<table border=\"1\" class=\"dataframe\">\n  <thead>\n    <tr style=\"text-align: right;\">\n      <th></th>\n      <th>regiao</th>\n      <th>estado</th>\n      <th>individuos</th>\n      <th>membros_da_familia</th>\n      <th>populacao_do_estado</th>\n      <th>total</th>\n    </tr>\n  </thead>\n  <tbody>\n    <tr>\n      <th>0</th>\n      <td>East South Central</td>\n      <td>Alabama</td>\n      <td>2570.0</td>\n      <td>864.0</td>\n      <td>4887681</td>\n      <td>3434.0</td>\n    </tr>\n    <tr>\n      <th>1</th>\n      <td>Pacific</td>\n      <td>Alaska</td>\n      <td>1434.0</td>\n      <td>582.0</td>\n      <td>735139</td>\n      <td>2016.0</td>\n    </tr>\n    <tr>\n      <th>2</th>\n      <td>Mountain</td>\n      <td>Arizona</td>\n      <td>7259.0</td>\n      <td>2606.0</td>\n      <td>7158024</td>\n      <td>9865.0</td>\n    </tr>\n    <tr>\n      <th>3</th>\n      <td>West South Central</td>\n      <td>Arkansas</td>\n      <td>2280.0</td>\n      <td>432.0</td>\n      <td>3009733</td>\n      <td>2712.0</td>\n    </tr>\n    <tr>\n      <th>4</th>\n      <td>Pacific</td>\n      <td>California</td>\n      <td>109008.0</td>\n      <td>20964.0</td>\n      <td>39461588</td>\n      <td>129972.0</td>\n    </tr>\n  </tbody>\n</table>\n</div>"
     },
     "metadata": {}
    }
   ]
  },
  {
   "cell_type": "markdown",
   "source": "**Exercício 5 - Crie a coluna prop_individuos como uma  proporção de indivíduos em relação a coluna total que você criou anteriormente**",
   "metadata": {
    "cell_id": "00012-86265d0f-8140-49f3-9f75-1bd88bf33346",
    "deepnote_cell_type": "markdown",
    "deepnote_cell_height": 73.96665954589844
   }
  },
  {
   "cell_type": "code",
   "metadata": {
    "cell_id": "5255f6c13c8d4bb399a9055d1d4ec08e",
    "tags": [],
    "deepnote_to_be_reexecuted": false,
    "source_hash": "e78ddca1",
    "execution_start": 1654608034527,
    "execution_millis": 1,
    "deepnote_cell_type": "code",
    "deepnote_cell_height": 80.16667175292969
   },
   "source": "df['prop_individuos'] = (df['total'] / df['individuos'])",
   "execution_count": null,
   "outputs": []
  },
  {
   "cell_type": "markdown",
   "source": "**Exercício 6 - Imprima as primeiras linhas das colunas *individuos*, *total* e *prop_individuos***",
   "metadata": {
    "cell_id": "00014-e86339aa-4a2b-4b28-b06c-9945f3cb3cfa",
    "deepnote_cell_type": "markdown",
    "deepnote_cell_height": 51.56666564941406
   }
  },
  {
   "cell_type": "code",
   "metadata": {
    "cell_id": "00015-d24bcdbc-842c-429f-a039-adbd8a9df63a",
    "deepnote_to_be_reexecuted": false,
    "source_hash": "df2f9517",
    "execution_start": 1654608472121,
    "execution_millis": 7,
    "deepnote_cell_type": "code",
    "deepnote_cell_height": 411.33331298828125
   },
   "source": "df[['individuos','total','prop_individuos']].head()\n",
   "execution_count": null,
   "outputs": [
    {
     "output_type": "execute_result",
     "execution_count": 21,
     "data": {
      "application/vnd.deepnote.dataframe.v3+json": {
       "column_count": 3,
       "row_count": 5,
       "columns": [
        {
         "name": "individuos",
         "dtype": "float64",
         "stats": {
          "unique_count": 5,
          "nan_count": 0,
          "min": "1434.0",
          "max": "109008.0",
          "histogram": [
           {
            "bin_start": 1434,
            "bin_end": 12191.4,
            "count": 4
           },
           {
            "bin_start": 12191.4,
            "bin_end": 22948.8,
            "count": 0
           },
           {
            "bin_start": 22948.8,
            "bin_end": 33706.2,
            "count": 0
           },
           {
            "bin_start": 33706.2,
            "bin_end": 44463.6,
            "count": 0
           },
           {
            "bin_start": 44463.6,
            "bin_end": 55221,
            "count": 0
           },
           {
            "bin_start": 55221,
            "bin_end": 65978.4,
            "count": 0
           },
           {
            "bin_start": 65978.4,
            "bin_end": 76735.8,
            "count": 0
           },
           {
            "bin_start": 76735.8,
            "bin_end": 87493.2,
            "count": 0
           },
           {
            "bin_start": 87493.2,
            "bin_end": 98250.59999999999,
            "count": 0
           },
           {
            "bin_start": 98250.59999999999,
            "bin_end": 109008,
            "count": 1
           }
          ]
         }
        },
        {
         "name": "total",
         "dtype": "float64",
         "stats": {
          "unique_count": 5,
          "nan_count": 0,
          "min": "2016.0",
          "max": "129972.0",
          "histogram": [
           {
            "bin_start": 2016,
            "bin_end": 14811.6,
            "count": 4
           },
           {
            "bin_start": 14811.6,
            "bin_end": 27607.2,
            "count": 0
           },
           {
            "bin_start": 27607.2,
            "bin_end": 40402.8,
            "count": 0
           },
           {
            "bin_start": 40402.8,
            "bin_end": 53198.4,
            "count": 0
           },
           {
            "bin_start": 53198.4,
            "bin_end": 65994,
            "count": 0
           },
           {
            "bin_start": 65994,
            "bin_end": 78789.6,
            "count": 0
           },
           {
            "bin_start": 78789.6,
            "bin_end": 91585.2,
            "count": 0
           },
           {
            "bin_start": 91585.2,
            "bin_end": 104380.8,
            "count": 0
           },
           {
            "bin_start": 104380.8,
            "bin_end": 117176.40000000001,
            "count": 0
           },
           {
            "bin_start": 117176.40000000001,
            "bin_end": 129972,
            "count": 1
           }
          ]
         }
        },
        {
         "name": "prop_individuos",
         "dtype": "float64",
         "stats": {
          "unique_count": 5,
          "nan_count": 0,
          "min": "1.1894736842105262",
          "max": "1.405857740585774",
          "histogram": [
           {
            "bin_start": 1.1894736842105262,
            "bin_end": 1.211112089848051,
            "count": 2
           },
           {
            "bin_start": 1.211112089848051,
            "bin_end": 1.2327504954855757,
            "count": 0
           },
           {
            "bin_start": 1.2327504954855757,
            "bin_end": 1.2543889011231006,
            "count": 0
           },
           {
            "bin_start": 1.2543889011231006,
            "bin_end": 1.2760273067606254,
            "count": 0
           },
           {
            "bin_start": 1.2760273067606254,
            "bin_end": 1.29766571239815,
            "count": 0
           },
           {
            "bin_start": 1.29766571239815,
            "bin_end": 1.3193041180356748,
            "count": 0
           },
           {
            "bin_start": 1.3193041180356748,
            "bin_end": 1.3409425236731995,
            "count": 1
           },
           {
            "bin_start": 1.3409425236731995,
            "bin_end": 1.3625809293107245,
            "count": 1
           },
           {
            "bin_start": 1.3625809293107245,
            "bin_end": 1.3842193349482492,
            "count": 0
           },
           {
            "bin_start": 1.3842193349482492,
            "bin_end": 1.405857740585774,
            "count": 1
           }
          ]
         }
        },
        {
         "name": "_deepnote_index_column",
         "dtype": "int64"
        }
       ],
       "rows": [
        {
         "individuos": 2570,
         "total": 3434,
         "prop_individuos": 1.3361867704280155,
         "_deepnote_index_column": 0
        },
        {
         "individuos": 1434,
         "total": 2016,
         "prop_individuos": 1.405857740585774,
         "_deepnote_index_column": 1
        },
        {
         "individuos": 7259,
         "total": 9865,
         "prop_individuos": 1.3590026174404188,
         "_deepnote_index_column": 2
        },
        {
         "individuos": 2280,
         "total": 2712,
         "prop_individuos": 1.1894736842105262,
         "_deepnote_index_column": 3
        },
        {
         "individuos": 109008,
         "total": 129972,
         "prop_individuos": 1.1923161602818142,
         "_deepnote_index_column": 4
        }
       ]
      },
      "text/plain": "   individuos     total  prop_individuos\n0      2570.0    3434.0         1.336187\n1      1434.0    2016.0         1.405858\n2      7259.0    9865.0         1.359003\n3      2280.0    2712.0         1.189474\n4    109008.0  129972.0         1.192316",
      "text/html": "<div>\n<style scoped>\n    .dataframe tbody tr th:only-of-type {\n        vertical-align: middle;\n    }\n\n    .dataframe tbody tr th {\n        vertical-align: top;\n    }\n\n    .dataframe thead th {\n        text-align: right;\n    }\n</style>\n<table border=\"1\" class=\"dataframe\">\n  <thead>\n    <tr style=\"text-align: right;\">\n      <th></th>\n      <th>individuos</th>\n      <th>total</th>\n      <th>prop_individuos</th>\n    </tr>\n  </thead>\n  <tbody>\n    <tr>\n      <th>0</th>\n      <td>2570.0</td>\n      <td>3434.0</td>\n      <td>1.336187</td>\n    </tr>\n    <tr>\n      <th>1</th>\n      <td>1434.0</td>\n      <td>2016.0</td>\n      <td>1.405858</td>\n    </tr>\n    <tr>\n      <th>2</th>\n      <td>7259.0</td>\n      <td>9865.0</td>\n      <td>1.359003</td>\n    </tr>\n    <tr>\n      <th>3</th>\n      <td>2280.0</td>\n      <td>2712.0</td>\n      <td>1.189474</td>\n    </tr>\n    <tr>\n      <th>4</th>\n      <td>109008.0</td>\n      <td>129972.0</td>\n      <td>1.192316</td>\n    </tr>\n  </tbody>\n</table>\n</div>"
     },
     "metadata": {}
    }
   ]
  },
  {
   "cell_type": "markdown",
   "source": "**Exercício 7  - Qual estado tem o maior número de pessoas sem moradia por 10.000 pessoas ?**\n\nPara responder siga os passos:\n\n\n- Crie uma coluna, chamada indiv_por_10k, contendo o número de pessoas sem-teto(individuos) por dez mil pessoas em cada estado.\n\nFórmula = 10000 * df['individuos'] / df['populacao_do_estado']\n\n- Depois filtre as linhas tais que indiv_por_10k seja  maior que 20\n- Classifique os altos níveis de falta de moradia ordenando os dados em ordem decrescente pela coluna indiv_per_10k\n- selecione as colunas estado e indiv_por_10k e imprima o rsultado",
   "metadata": {
    "cell_id": "00016-800a18d6-c6b6-4ea5-9cb2-a83b992973ed",
    "deepnote_cell_type": "markdown",
    "deepnote_cell_height": 309.1000061035156
   }
  },
  {
   "cell_type": "code",
   "metadata": {
    "cell_id": "00017-a4f37e49-c911-4085-afc6-eb791a98120d",
    "deepnote_to_be_reexecuted": false,
    "source_hash": "e57c4e75",
    "execution_start": 1654608756394,
    "execution_millis": 1,
    "deepnote_cell_type": "code",
    "deepnote_cell_height": 80.16667175292969
   },
   "source": "df['indiv_por_10k'] = (10000 * df['individuos'] / df['populacao_do_estado'])",
   "execution_count": null,
   "outputs": []
  },
  {
   "cell_type": "code",
   "metadata": {
    "cell_id": "00018-c850515b-9a3b-4027-a9a1-4110ce6a18a0",
    "deepnote_to_be_reexecuted": false,
    "source_hash": "84fad7e2",
    "execution_start": 1654609228035,
    "execution_millis": 0,
    "deepnote_cell_type": "code",
    "deepnote_cell_height": 80.16667175292969
   },
   "source": "df_1 = df[df['indiv_por_10k']>20]",
   "execution_count": null,
   "outputs": []
  },
  {
   "cell_type": "code",
   "metadata": {
    "cell_id": "00020-b4c95b7c-0ff7-4d75-a43c-4d77fd1db19d",
    "deepnote_to_be_reexecuted": false,
    "source_hash": "7d09720c",
    "execution_start": 1654609348725,
    "execution_millis": 2,
    "deepnote_cell_type": "code",
    "deepnote_cell_height": 80.16667175292969
   },
   "source": "df_tratada = df_1[['estado','indiv_por_10k']].sort_values(by='indiv_por_10k', ascending=False)",
   "execution_count": null,
   "outputs": []
  },
  {
   "cell_type": "code",
   "metadata": {
    "cell_id": "00021-79713634-4232-4532-923c-6f4777f41eb1",
    "deepnote_to_be_reexecuted": false,
    "source_hash": "37f4881",
    "execution_start": 1654609355269,
    "execution_millis": 12,
    "deepnote_cell_type": "code",
    "deepnote_cell_height": 475.33331298828125
   },
   "source": "df_tratada",
   "execution_count": null,
   "outputs": [
    {
     "output_type": "execute_result",
     "execution_count": 42,
     "data": {
      "application/vnd.deepnote.dataframe.v3+json": {
       "column_count": 2,
       "row_count": 7,
       "columns": [
        {
         "name": "estado",
         "dtype": "object",
         "stats": {
          "unique_count": 7,
          "nan_count": 0,
          "categories": [
           {
            "name": "District of Columbia",
            "count": 1
           },
           {
            "name": "Hawaii",
            "count": 1
           },
           {
            "name": "5 others",
            "count": 5
           }
          ]
         }
        },
        {
         "name": "indiv_por_10k",
         "dtype": "float64",
         "stats": {
          "unique_count": 7,
          "nan_count": 0,
          "min": "20.3923626359813",
          "max": "53.73838103505538",
          "histogram": [
           {
            "bin_start": 20.3923626359813,
            "bin_end": 23.726964475888707,
            "count": 3
           },
           {
            "bin_start": 23.726964475888707,
            "bin_end": 27.061566315796117,
            "count": 1
           },
           {
            "bin_start": 27.061566315796117,
            "bin_end": 30.396168155703524,
            "count": 2
           },
           {
            "bin_start": 30.396168155703524,
            "bin_end": 33.730769995610935,
            "count": 0
           },
           {
            "bin_start": 33.730769995610935,
            "bin_end": 37.06537183551834,
            "count": 0
           },
           {
            "bin_start": 37.06537183551834,
            "bin_end": 40.39997367542575,
            "count": 0
           },
           {
            "bin_start": 40.39997367542575,
            "bin_end": 43.73457551533316,
            "count": 0
           },
           {
            "bin_start": 43.73457551533316,
            "bin_end": 47.06917735524057,
            "count": 0
           },
           {
            "bin_start": 47.06917735524057,
            "bin_end": 50.403779195147976,
            "count": 0
           },
           {
            "bin_start": 50.403779195147976,
            "bin_end": 53.73838103505538,
            "count": 1
           }
          ]
         }
        },
        {
         "name": "_deepnote_index_column",
         "dtype": "int64"
        }
       ],
       "rows": [
        {
         "estado": "District of Columbia",
         "indiv_por_10k": 53.73838103505538,
         "_deepnote_index_column": 8
        },
        {
         "estado": "Hawaii",
         "indiv_por_10k": 29.079405572180068,
         "_deepnote_index_column": 11
        },
        {
         "estado": "California",
         "indiv_por_10k": 27.62382497126066,
         "_deepnote_index_column": 4
        },
        {
         "estado": "Oregon",
         "indiv_por_10k": 26.63630715901868,
         "_deepnote_index_column": 37
        },
        {
         "estado": "Nevada",
         "indiv_por_10k": 23.314188920243872,
         "_deepnote_index_column": 28
        },
        {
         "estado": "Washington",
         "indiv_por_10k": 21.82919452744326,
         "_deepnote_index_column": 47
        },
        {
         "estado": "New York",
         "indiv_por_10k": 20.3923626359813,
         "_deepnote_index_column": 32
        }
       ]
      },
      "text/plain": "                  estado  indiv_por_10k\n8   District of Columbia      53.738381\n11                Hawaii      29.079406\n4             California      27.623825\n37                Oregon      26.636307\n28                Nevada      23.314189\n47            Washington      21.829195\n32              New York      20.392363",
      "text/html": "<div>\n<style scoped>\n    .dataframe tbody tr th:only-of-type {\n        vertical-align: middle;\n    }\n\n    .dataframe tbody tr th {\n        vertical-align: top;\n    }\n\n    .dataframe thead th {\n        text-align: right;\n    }\n</style>\n<table border=\"1\" class=\"dataframe\">\n  <thead>\n    <tr style=\"text-align: right;\">\n      <th></th>\n      <th>estado</th>\n      <th>indiv_por_10k</th>\n    </tr>\n  </thead>\n  <tbody>\n    <tr>\n      <th>8</th>\n      <td>District of Columbia</td>\n      <td>53.738381</td>\n    </tr>\n    <tr>\n      <th>11</th>\n      <td>Hawaii</td>\n      <td>29.079406</td>\n    </tr>\n    <tr>\n      <th>4</th>\n      <td>California</td>\n      <td>27.623825</td>\n    </tr>\n    <tr>\n      <th>37</th>\n      <td>Oregon</td>\n      <td>26.636307</td>\n    </tr>\n    <tr>\n      <th>28</th>\n      <td>Nevada</td>\n      <td>23.314189</td>\n    </tr>\n    <tr>\n      <th>47</th>\n      <td>Washington</td>\n      <td>21.829195</td>\n    </tr>\n    <tr>\n      <th>32</th>\n      <td>New York</td>\n      <td>20.392363</td>\n    </tr>\n  </tbody>\n</table>\n</div>"
     },
     "metadata": {}
    }
   ]
  },
  {
   "cell_type": "code",
   "metadata": {
    "cell_id": "00022-8da2721b-c5e1-4238-ad80-57aafe74510d",
    "deepnote_cell_type": "code",
    "deepnote_cell_height": 65.16667175292969
   },
   "source": "",
   "execution_count": null,
   "outputs": []
  },
  {
   "cell_type": "markdown",
   "source": "<a style='text-decoration:none;line-height:16px;display:flex;color:#5B5B62;padding:10px;justify-content:end;' href='https://deepnote.com?utm_source=created-in-deepnote-cell&projectId=31152f18-3036-40d1-92d9-59f0bbdc0756' target=\"_blank\">\n<img alt='Created in deepnote.com' style='display:inline;max-height:16px;margin:0px;margin-right:7.5px;' src='data:image/svg+xml;base64,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' > </img>\nCreated in <span style='font-weight:600;margin-left:4px;'>Deepnote</span></a>",
   "metadata": {
    "tags": [],
    "created_in_deepnote_cell": true,
    "deepnote_cell_type": "markdown"
   }
  }
 ],
 "nbformat": 4,
 "nbformat_minor": 5,
 "metadata": {
  "kernelspec": {
   "display_name": "Python 3",
   "language": "python",
   "name": "python3"
  },
  "language_info": {
   "codemirror_mode": {
    "name": "ipython",
    "version": 3
   },
   "file_extension": ".py",
   "mimetype": "text/x-python",
   "name": "python",
   "nbconvert_exporter": "python",
   "pygments_lexer": "ipython3",
   "version": "3.8.8"
  },
  "deepnote_notebook_id": "544acfea-f36c-4812-9204-b3cb7f148de9",
  "deepnote": {},
  "deepnote_execution_queue": []
 }
}