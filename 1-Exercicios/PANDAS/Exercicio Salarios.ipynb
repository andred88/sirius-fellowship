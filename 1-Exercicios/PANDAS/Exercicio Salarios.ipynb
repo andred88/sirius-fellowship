{
 "cells": [
  {
   "cell_type": "markdown",
   "source": "</div>\n<h1>Exercício Guiado </h1>\n\n\nAluno: \n\nData:",
   "metadata": {
    "cell_id": "0d630550-3869-41f2-99d3-26eb6f6c2a98",
    "deepnote_cell_type": "markdown",
    "deepnote_cell_height": 125.96665954589844
   }
  },
  {
   "cell_type": "markdown",
   "source": "#### Exercício de Salários SF \n\nBem-vindo a um exercício rápido para você praticar suas habilidades de pandas! Usaremos o [SF Salaries Dataset](https://www.kaggle.com/kaggle/sf-salaries) do Kaggle! Siga as tarefas descritas em negrito abaixo. ",
   "metadata": {
    "cell_id": "00001-36892962-d363-4e42-8f39-92b771c02ef2",
    "deepnote_cell_type": "markdown",
    "deepnote_cell_height": 109.96665954589844
   }
  },
  {
   "cell_type": "markdown",
   "source": "Descrição dos dados:\n\n- Id               =  Id,\n- EmployeeName     =  Nome do Funcionário , \n- JobTitle\t       =  Cargo ,\n- BasePay          =  Remuneração Base ,\n- OvertimePay      =  Pagamento de Horas Extras,\n- OtherPay         =  Outros Pagamentos,\n- Benefits         =  Benefícios, \n- TotalPay         =  Pagamento Total, \n- TotalPayBenefits =  Pagamento Total de Benefícios, \n- Year             =  Ano, \n- Notes            =  Notas, \n- Agency           = Agência,\n- Status           =  Status",
   "metadata": {
    "cell_id": "00002-eae296e4-72dd-48c4-bebe-261b7661fe92",
    "deepnote_cell_type": "markdown",
    "deepnote_cell_height": 414.3500061035156
   }
  },
  {
   "cell_type": "markdown",
   "source": "**Não esqueça de importar o arquivo csv que está na plataforma Sirius para fazer o exercício!!**",
   "metadata": {
    "cell_id": "00003-d90fca9d-2d90-470b-a708-3f884b76e963",
    "deepnote_cell_type": "markdown",
    "deepnote_cell_height": 51.56666564941406
   }
  },
  {
   "cell_type": "markdown",
   "source": "**Import pandas as pd.** \n\n - pd é o que chamamos de alias, ou seja um apelido para o pandas!",
   "metadata": {
    "cell_id": "00004-19cea27f-0cc4-430a-ab3c-75bf306b58b4",
    "deepnote_cell_type": "markdown",
    "deepnote_cell_height": 102.55000305175781
   }
  },
  {
   "cell_type": "code",
   "metadata": {
    "cell_id": "00005-50431db9-eeb7-423e-a810-91840ee44666",
    "deepnote_to_be_reexecuted": false,
    "source_hash": "9b82ee11",
    "execution_start": 1654613310107,
    "execution_millis": 15,
    "deepnote_cell_type": "code",
    "deepnote_cell_height": 80.16667175292969
   },
   "source": "import pandas as pd",
   "execution_count": null,
   "outputs": []
  },
  {
   "cell_type": "markdown",
   "source": "**Leia o arquivo Salaries.csv como um dataframe chamado sal.** \n\n- pandas tem um método para isso!!",
   "metadata": {
    "cell_id": "00006-797f5dc6-1512-40c1-a0bb-e209a121ab8b",
    "deepnote_cell_type": "markdown",
    "deepnote_cell_height": 102.55000305175781
   }
  },
  {
   "cell_type": "code",
   "metadata": {
    "cell_id": "00007-bc5903e6-9523-4212-9655-f30b4ad557d1",
    "deepnote_to_be_reexecuted": false,
    "source_hash": "680ec615",
    "execution_start": 1654613312220,
    "execution_millis": 590,
    "deepnote_cell_type": "code",
    "deepnote_cell_height": 80.16667175292969
   },
   "source": "sal = pd.read_csv('Salaries.csv', sep=',')",
   "execution_count": null,
   "outputs": []
  },
  {
   "cell_type": "markdown",
   "source": "**Verifique as primeiras linhas do DataFrame.**",
   "metadata": {
    "cell_id": "00008-adce2f52-220c-4bf3-b5f4-cc8f438b1f41",
    "deepnote_cell_type": "markdown",
    "deepnote_cell_height": 51.56666564941406
   }
  },
  {
   "cell_type": "code",
   "metadata": {
    "cell_id": "00009-e1f5999a-7f1c-4c6f-ac7b-12dd6c0d10ea",
    "deepnote_to_be_reexecuted": false,
    "source_hash": "3ac51487",
    "execution_start": 1654610428105,
    "execution_millis": 51,
    "deepnote_cell_type": "code",
    "deepnote_cell_height": 393.33331298828125
   },
   "source": "sal.head()",
   "execution_count": null,
   "outputs": [
    {
     "output_type": "execute_result",
     "execution_count": 3,
     "data": {
      "application/vnd.deepnote.dataframe.v3+json": {
       "column_count": 13,
       "row_count": 5,
       "columns": [
        {
         "name": "Id",
         "dtype": "int64",
         "stats": {
          "unique_count": 5,
          "nan_count": 0,
          "min": "1",
          "max": "5",
          "histogram": [
           {
            "bin_start": 1,
            "bin_end": 1.4,
            "count": 1
           },
           {
            "bin_start": 1.4,
            "bin_end": 1.8,
            "count": 0
           },
           {
            "bin_start": 1.8,
            "bin_end": 2.2,
            "count": 1
           },
           {
            "bin_start": 2.2,
            "bin_end": 2.6,
            "count": 0
           },
           {
            "bin_start": 2.6,
            "bin_end": 3,
            "count": 0
           },
           {
            "bin_start": 3,
            "bin_end": 3.4000000000000004,
            "count": 1
           },
           {
            "bin_start": 3.4000000000000004,
            "bin_end": 3.8000000000000003,
            "count": 0
           },
           {
            "bin_start": 3.8000000000000003,
            "bin_end": 4.2,
            "count": 1
           },
           {
            "bin_start": 4.2,
            "bin_end": 4.6,
            "count": 0
           },
           {
            "bin_start": 4.6,
            "bin_end": 5,
            "count": 1
           }
          ]
         }
        },
        {
         "name": "EmployeeName",
         "dtype": "object",
         "stats": {
          "unique_count": 5,
          "nan_count": 0,
          "categories": [
           {
            "name": "NATHANIEL FORD",
            "count": 1
           },
           {
            "name": "GARY JIMENEZ",
            "count": 1
           },
           {
            "name": "3 others",
            "count": 3
           }
          ]
         }
        },
        {
         "name": "JobTitle",
         "dtype": "object",
         "stats": {
          "unique_count": 4,
          "nan_count": 0,
          "categories": [
           {
            "name": "CAPTAIN III (POLICE DEPARTMENT)",
            "count": 2
           },
           {
            "name": "GENERAL MANAGER-METROPOLITAN TRANSIT AUTHORITY",
            "count": 1
           },
           {
            "name": "2 others",
            "count": 2
           }
          ]
         }
        },
        {
         "name": "BasePay",
         "dtype": "float64",
         "stats": {
          "unique_count": 5,
          "nan_count": 0,
          "min": "77916.0",
          "max": "212739.13",
          "histogram": [
           {
            "bin_start": 77916,
            "bin_end": 91398.313,
            "count": 1
           },
           {
            "bin_start": 91398.313,
            "bin_end": 104880.626,
            "count": 0
           },
           {
            "bin_start": 104880.626,
            "bin_end": 118362.939,
            "count": 0
           },
           {
            "bin_start": 118362.939,
            "bin_end": 131845.252,
            "count": 0
           },
           {
            "bin_start": 131845.252,
            "bin_end": 145327.565,
            "count": 1
           },
           {
            "bin_start": 145327.565,
            "bin_end": 158809.878,
            "count": 1
           },
           {
            "bin_start": 158809.878,
            "bin_end": 172292.191,
            "count": 1
           },
           {
            "bin_start": 172292.191,
            "bin_end": 185774.50400000002,
            "count": 0
           },
           {
            "bin_start": 185774.50400000002,
            "bin_end": 199256.81699999998,
            "count": 0
           },
           {
            "bin_start": 199256.81699999998,
            "bin_end": 212739.13,
            "count": 1
           }
          ]
         }
        },
        {
         "name": "OvertimePay",
         "dtype": "float64",
         "stats": {
          "unique_count": 5,
          "nan_count": 0,
          "min": "0.0",
          "max": "245131.88",
          "histogram": [
           {
            "bin_start": 0,
            "bin_end": 24513.188000000002,
            "count": 2
           },
           {
            "bin_start": 24513.188000000002,
            "bin_end": 49026.376000000004,
            "count": 0
           },
           {
            "bin_start": 49026.376000000004,
            "bin_end": 73539.56400000001,
            "count": 1
           },
           {
            "bin_start": 73539.56400000001,
            "bin_end": 98052.75200000001,
            "count": 0
           },
           {
            "bin_start": 98052.75200000001,
            "bin_end": 122565.94,
            "count": 1
           },
           {
            "bin_start": 122565.94,
            "bin_end": 147079.12800000003,
            "count": 0
           },
           {
            "bin_start": 147079.12800000003,
            "bin_end": 171592.31600000002,
            "count": 0
           },
           {
            "bin_start": 171592.31600000002,
            "bin_end": 196105.50400000002,
            "count": 0
           },
           {
            "bin_start": 196105.50400000002,
            "bin_end": 220618.692,
            "count": 0
           },
           {
            "bin_start": 220618.692,
            "bin_end": 245131.88,
            "count": 1
           }
          ]
         }
        },
        {
         "name": "OtherPay",
         "dtype": "float64",
         "stats": {
          "unique_count": 5,
          "nan_count": 0,
          "min": "16452.6",
          "max": "400184.25",
          "histogram": [
           {
            "bin_start": 16452.6,
            "bin_end": 54825.765,
            "count": 1
           },
           {
            "bin_start": 54825.765,
            "bin_end": 93198.93,
            "count": 0
           },
           {
            "bin_start": 93198.93,
            "bin_end": 131572.095,
            "count": 0
           },
           {
            "bin_start": 131572.095,
            "bin_end": 169945.26,
            "count": 1
           },
           {
            "bin_start": 169945.26,
            "bin_end": 208318.42500000002,
            "count": 2
           },
           {
            "bin_start": 208318.42500000002,
            "bin_end": 246691.59,
            "count": 0
           },
           {
            "bin_start": 246691.59,
            "bin_end": 285064.755,
            "count": 0
           },
           {
            "bin_start": 285064.755,
            "bin_end": 323437.92,
            "count": 0
           },
           {
            "bin_start": 323437.92,
            "bin_end": 361811.08499999996,
            "count": 0
           },
           {
            "bin_start": 361811.08499999996,
            "bin_end": 400184.25,
            "count": 1
           }
          ]
         }
        },
        {
         "name": "Benefits",
         "dtype": "float64",
         "stats": {
          "unique_count": 0,
          "nan_count": 5,
          "min": null,
          "max": null,
          "histogram": [
           {
            "bin_start": 0,
            "bin_end": 0.1,
            "count": 0
           },
           {
            "bin_start": 0.1,
            "bin_end": 0.2,
            "count": 0
           },
           {
            "bin_start": 0.2,
            "bin_end": 0.30000000000000004,
            "count": 0
           },
           {
            "bin_start": 0.30000000000000004,
            "bin_end": 0.4,
            "count": 0
           },
           {
            "bin_start": 0.4,
            "bin_end": 0.5,
            "count": 0
           },
           {
            "bin_start": 0.5,
            "bin_end": 0.6000000000000001,
            "count": 0
           },
           {
            "bin_start": 0.6000000000000001,
            "bin_end": 0.7000000000000001,
            "count": 0
           },
           {
            "bin_start": 0.7000000000000001,
            "bin_end": 0.8,
            "count": 0
           },
           {
            "bin_start": 0.8,
            "bin_end": 0.9,
            "count": 0
           },
           {
            "bin_start": 0.9,
            "bin_end": 1,
            "count": 0
           }
          ]
         }
        },
        {
         "name": "TotalPay",
         "dtype": "float64",
         "stats": {
          "unique_count": 5,
          "nan_count": 0,
          "min": "326373.19",
          "max": "567595.43",
          "histogram": [
           {
            "bin_start": 326373.19,
            "bin_end": 350495.414,
            "count": 3
           },
           {
            "bin_start": 350495.414,
            "bin_end": 374617.63800000004,
            "count": 0
           },
           {
            "bin_start": 374617.63800000004,
            "bin_end": 398739.862,
            "count": 0
           },
           {
            "bin_start": 398739.862,
            "bin_end": 422862.086,
            "count": 0
           },
           {
            "bin_start": 422862.086,
            "bin_end": 446984.31000000006,
            "count": 0
           },
           {
            "bin_start": 446984.31000000006,
            "bin_end": 471106.53400000004,
            "count": 0
           },
           {
            "bin_start": 471106.53400000004,
            "bin_end": 495228.75800000003,
            "count": 0
           },
           {
            "bin_start": 495228.75800000003,
            "bin_end": 519350.9820000001,
            "count": 0
           },
           {
            "bin_start": 519350.9820000001,
            "bin_end": 543473.206,
            "count": 1
           },
           {
            "bin_start": 543473.206,
            "bin_end": 567595.43,
            "count": 1
           }
          ]
         }
        },
        {
         "name": "TotalPayBenefits",
         "dtype": "float64",
         "stats": {
          "unique_count": 5,
          "nan_count": 0,
          "min": "326373.19",
          "max": "567595.43",
          "histogram": [
           {
            "bin_start": 326373.19,
            "bin_end": 350495.414,
            "count": 3
           },
           {
            "bin_start": 350495.414,
            "bin_end": 374617.63800000004,
            "count": 0
           },
           {
            "bin_start": 374617.63800000004,
            "bin_end": 398739.862,
            "count": 0
           },
           {
            "bin_start": 398739.862,
            "bin_end": 422862.086,
            "count": 0
           },
           {
            "bin_start": 422862.086,
            "bin_end": 446984.31000000006,
            "count": 0
           },
           {
            "bin_start": 446984.31000000006,
            "bin_end": 471106.53400000004,
            "count": 0
           },
           {
            "bin_start": 471106.53400000004,
            "bin_end": 495228.75800000003,
            "count": 0
           },
           {
            "bin_start": 495228.75800000003,
            "bin_end": 519350.9820000001,
            "count": 0
           },
           {
            "bin_start": 519350.9820000001,
            "bin_end": 543473.206,
            "count": 1
           },
           {
            "bin_start": 543473.206,
            "bin_end": 567595.43,
            "count": 1
           }
          ]
         }
        },
        {
         "name": "Year",
         "dtype": "int64",
         "stats": {
          "unique_count": 1,
          "nan_count": 0,
          "min": "2011",
          "max": "2011",
          "histogram": [
           {
            "bin_start": 2010.5,
            "bin_end": 2010.6,
            "count": 0
           },
           {
            "bin_start": 2010.6,
            "bin_end": 2010.7,
            "count": 0
           },
           {
            "bin_start": 2010.7,
            "bin_end": 2010.8,
            "count": 0
           },
           {
            "bin_start": 2010.8,
            "bin_end": 2010.9,
            "count": 0
           },
           {
            "bin_start": 2010.9,
            "bin_end": 2011,
            "count": 0
           },
           {
            "bin_start": 2011,
            "bin_end": 2011.1,
            "count": 5
           },
           {
            "bin_start": 2011.1,
            "bin_end": 2011.2,
            "count": 0
           },
           {
            "bin_start": 2011.2,
            "bin_end": 2011.3,
            "count": 0
           },
           {
            "bin_start": 2011.3,
            "bin_end": 2011.4,
            "count": 0
           },
           {
            "bin_start": 2011.4,
            "bin_end": 2011.5,
            "count": 0
           }
          ]
         }
        },
        {
         "name": "Notes",
         "dtype": "float64",
         "stats": {
          "unique_count": 0,
          "nan_count": 5,
          "min": null,
          "max": null,
          "histogram": [
           {
            "bin_start": 0,
            "bin_end": 0.1,
            "count": 0
           },
           {
            "bin_start": 0.1,
            "bin_end": 0.2,
            "count": 0
           },
           {
            "bin_start": 0.2,
            "bin_end": 0.30000000000000004,
            "count": 0
           },
           {
            "bin_start": 0.30000000000000004,
            "bin_end": 0.4,
            "count": 0
           },
           {
            "bin_start": 0.4,
            "bin_end": 0.5,
            "count": 0
           },
           {
            "bin_start": 0.5,
            "bin_end": 0.6000000000000001,
            "count": 0
           },
           {
            "bin_start": 0.6000000000000001,
            "bin_end": 0.7000000000000001,
            "count": 0
           },
           {
            "bin_start": 0.7000000000000001,
            "bin_end": 0.8,
            "count": 0
           },
           {
            "bin_start": 0.8,
            "bin_end": 0.9,
            "count": 0
           },
           {
            "bin_start": 0.9,
            "bin_end": 1,
            "count": 0
           }
          ]
         }
        },
        {
         "name": "Agency",
         "dtype": "object",
         "stats": {
          "unique_count": 1,
          "nan_count": 0,
          "categories": [
           {
            "name": "San Francisco",
            "count": 5
           }
          ]
         }
        },
        {
         "name": "Status",
         "dtype": "float64",
         "stats": {
          "unique_count": 0,
          "nan_count": 5,
          "min": null,
          "max": null,
          "histogram": [
           {
            "bin_start": 0,
            "bin_end": 0.1,
            "count": 0
           },
           {
            "bin_start": 0.1,
            "bin_end": 0.2,
            "count": 0
           },
           {
            "bin_start": 0.2,
            "bin_end": 0.30000000000000004,
            "count": 0
           },
           {
            "bin_start": 0.30000000000000004,
            "bin_end": 0.4,
            "count": 0
           },
           {
            "bin_start": 0.4,
            "bin_end": 0.5,
            "count": 0
           },
           {
            "bin_start": 0.5,
            "bin_end": 0.6000000000000001,
            "count": 0
           },
           {
            "bin_start": 0.6000000000000001,
            "bin_end": 0.7000000000000001,
            "count": 0
           },
           {
            "bin_start": 0.7000000000000001,
            "bin_end": 0.8,
            "count": 0
           },
           {
            "bin_start": 0.8,
            "bin_end": 0.9,
            "count": 0
           },
           {
            "bin_start": 0.9,
            "bin_end": 1,
            "count": 0
           }
          ]
         }
        },
        {
         "name": "_deepnote_index_column",
         "dtype": "int64"
        }
       ],
       "rows": [
        {
         "Id": 1,
         "EmployeeName": "NATHANIEL FORD",
         "JobTitle": "GENERAL MANAGER-METROPOLITAN TRANSIT AUTHORITY",
         "BasePay": 167411.18,
         "OvertimePay": 0,
         "OtherPay": 400184.25,
         "Benefits": "nan",
         "TotalPay": 567595.43,
         "TotalPayBenefits": 567595.43,
         "Year": 2011,
         "Notes": "nan",
         "Agency": "San Francisco",
         "Status": "nan",
         "_deepnote_index_column": 0
        },
        {
         "Id": 2,
         "EmployeeName": "GARY JIMENEZ",
         "JobTitle": "CAPTAIN III (POLICE DEPARTMENT)",
         "BasePay": 155966.02,
         "OvertimePay": 245131.88,
         "OtherPay": 137811.38,
         "Benefits": "nan",
         "TotalPay": 538909.28,
         "TotalPayBenefits": 538909.28,
         "Year": 2011,
         "Notes": "nan",
         "Agency": "San Francisco",
         "Status": "nan",
         "_deepnote_index_column": 1
        },
        {
         "Id": 3,
         "EmployeeName": "ALBERT PARDINI",
         "JobTitle": "CAPTAIN III (POLICE DEPARTMENT)",
         "BasePay": 212739.13,
         "OvertimePay": 106088.18,
         "OtherPay": 16452.6,
         "Benefits": "nan",
         "TotalPay": 335279.91,
         "TotalPayBenefits": 335279.91,
         "Year": 2011,
         "Notes": "nan",
         "Agency": "San Francisco",
         "Status": "nan",
         "_deepnote_index_column": 2
        },
        {
         "Id": 4,
         "EmployeeName": "CHRISTOPHER CHONG",
         "JobTitle": "WIRE ROPE CABLE MAINTENANCE MECHANIC",
         "BasePay": 77916,
         "OvertimePay": 56120.71,
         "OtherPay": 198306.9,
         "Benefits": "nan",
         "TotalPay": 332343.61,
         "TotalPayBenefits": 332343.61,
         "Year": 2011,
         "Notes": "nan",
         "Agency": "San Francisco",
         "Status": "nan",
         "_deepnote_index_column": 3
        },
        {
         "Id": 5,
         "EmployeeName": "PATRICK GARDNER",
         "JobTitle": "DEPUTY CHIEF OF DEPARTMENT,(FIRE DEPARTMENT)",
         "BasePay": 134401.6,
         "OvertimePay": 9737,
         "OtherPay": 182234.59,
         "Benefits": "nan",
         "TotalPay": 326373.19,
         "TotalPayBenefits": 326373.19,
         "Year": 2011,
         "Notes": "nan",
         "Agency": "San Francisco",
         "Status": "nan",
         "_deepnote_index_column": 4
        }
       ]
      },
      "text/plain": "   Id       EmployeeName                                        JobTitle  \\\n0   1     NATHANIEL FORD  GENERAL MANAGER-METROPOLITAN TRANSIT AUTHORITY   \n1   2       GARY JIMENEZ                 CAPTAIN III (POLICE DEPARTMENT)   \n2   3     ALBERT PARDINI                 CAPTAIN III (POLICE DEPARTMENT)   \n3   4  CHRISTOPHER CHONG            WIRE ROPE CABLE MAINTENANCE MECHANIC   \n4   5    PATRICK GARDNER    DEPUTY CHIEF OF DEPARTMENT,(FIRE DEPARTMENT)   \n\n     BasePay  OvertimePay   OtherPay  Benefits   TotalPay  TotalPayBenefits  \\\n0  167411.18         0.00  400184.25       NaN  567595.43         567595.43   \n1  155966.02    245131.88  137811.38       NaN  538909.28         538909.28   \n2  212739.13    106088.18   16452.60       NaN  335279.91         335279.91   \n3   77916.00     56120.71  198306.90       NaN  332343.61         332343.61   \n4  134401.60      9737.00  182234.59       NaN  326373.19         326373.19   \n\n   Year  Notes         Agency  Status  \n0  2011    NaN  San Francisco     NaN  \n1  2011    NaN  San Francisco     NaN  \n2  2011    NaN  San Francisco     NaN  \n3  2011    NaN  San Francisco     NaN  \n4  2011    NaN  San Francisco     NaN  ",
      "text/html": "<div>\n<style scoped>\n    .dataframe tbody tr th:only-of-type {\n        vertical-align: middle;\n    }\n\n    .dataframe tbody tr th {\n        vertical-align: top;\n    }\n\n    .dataframe thead th {\n        text-align: right;\n    }\n</style>\n<table border=\"1\" class=\"dataframe\">\n  <thead>\n    <tr style=\"text-align: right;\">\n      <th></th>\n      <th>Id</th>\n      <th>EmployeeName</th>\n      <th>JobTitle</th>\n      <th>BasePay</th>\n      <th>OvertimePay</th>\n      <th>OtherPay</th>\n      <th>Benefits</th>\n      <th>TotalPay</th>\n      <th>TotalPayBenefits</th>\n      <th>Year</th>\n      <th>Notes</th>\n      <th>Agency</th>\n      <th>Status</th>\n    </tr>\n  </thead>\n  <tbody>\n    <tr>\n      <th>0</th>\n      <td>1</td>\n      <td>NATHANIEL FORD</td>\n      <td>GENERAL MANAGER-METROPOLITAN TRANSIT AUTHORITY</td>\n      <td>167411.18</td>\n      <td>0.00</td>\n      <td>400184.25</td>\n      <td>NaN</td>\n      <td>567595.43</td>\n      <td>567595.43</td>\n      <td>2011</td>\n      <td>NaN</td>\n      <td>San Francisco</td>\n      <td>NaN</td>\n    </tr>\n    <tr>\n      <th>1</th>\n      <td>2</td>\n      <td>GARY JIMENEZ</td>\n      <td>CAPTAIN III (POLICE DEPARTMENT)</td>\n      <td>155966.02</td>\n      <td>245131.88</td>\n      <td>137811.38</td>\n      <td>NaN</td>\n      <td>538909.28</td>\n      <td>538909.28</td>\n      <td>2011</td>\n      <td>NaN</td>\n      <td>San Francisco</td>\n      <td>NaN</td>\n    </tr>\n    <tr>\n      <th>2</th>\n      <td>3</td>\n      <td>ALBERT PARDINI</td>\n      <td>CAPTAIN III (POLICE DEPARTMENT)</td>\n      <td>212739.13</td>\n      <td>106088.18</td>\n      <td>16452.60</td>\n      <td>NaN</td>\n      <td>335279.91</td>\n      <td>335279.91</td>\n      <td>2011</td>\n      <td>NaN</td>\n      <td>San Francisco</td>\n      <td>NaN</td>\n    </tr>\n    <tr>\n      <th>3</th>\n      <td>4</td>\n      <td>CHRISTOPHER CHONG</td>\n      <td>WIRE ROPE CABLE MAINTENANCE MECHANIC</td>\n      <td>77916.00</td>\n      <td>56120.71</td>\n      <td>198306.90</td>\n      <td>NaN</td>\n      <td>332343.61</td>\n      <td>332343.61</td>\n      <td>2011</td>\n      <td>NaN</td>\n      <td>San Francisco</td>\n      <td>NaN</td>\n    </tr>\n    <tr>\n      <th>4</th>\n      <td>5</td>\n      <td>PATRICK GARDNER</td>\n      <td>DEPUTY CHIEF OF DEPARTMENT,(FIRE DEPARTMENT)</td>\n      <td>134401.60</td>\n      <td>9737.00</td>\n      <td>182234.59</td>\n      <td>NaN</td>\n      <td>326373.19</td>\n      <td>326373.19</td>\n      <td>2011</td>\n      <td>NaN</td>\n      <td>San Francisco</td>\n      <td>NaN</td>\n    </tr>\n  </tbody>\n</table>\n</div>"
     },
     "metadata": {}
    }
   ]
  },
  {
   "cell_type": "markdown",
   "source": "**Verifique quantas linhas existem, os tipos de dados e se há nulos.**",
   "metadata": {
    "cell_id": "00010-4b098bd4-5eab-40e5-a1a4-840ccfc14d06",
    "deepnote_cell_type": "markdown",
    "deepnote_cell_height": 51.56666564941406
   }
  },
  {
   "cell_type": "code",
   "metadata": {
    "cell_id": "00011-06858cc5-4b6d-4785-b395-e02408d5b904",
    "deepnote_to_be_reexecuted": false,
    "source_hash": "b5ae37ff",
    "execution_start": 1654610448565,
    "execution_millis": 10,
    "deepnote_cell_type": "code",
    "deepnote_cell_height": 706.75,
    "deepnote_output_heights": [
     611
    ]
   },
   "source": "sal.info",
   "execution_count": null,
   "outputs": [
    {
     "output_type": "execute_result",
     "execution_count": 4,
     "data": {
      "text/plain": "<bound method DataFrame.info of             Id       EmployeeName  \\\n0            1     NATHANIEL FORD   \n1            2       GARY JIMENEZ   \n2            3     ALBERT PARDINI   \n3            4  CHRISTOPHER CHONG   \n4            5    PATRICK GARDNER   \n...        ...                ...   \n148649  148650      Roy I Tillery   \n148650  148651       Not provided   \n148651  148652       Not provided   \n148652  148653       Not provided   \n148653  148654          Joe Lopez   \n\n                                              JobTitle    BasePay  \\\n0       GENERAL MANAGER-METROPOLITAN TRANSIT AUTHORITY  167411.18   \n1                      CAPTAIN III (POLICE DEPARTMENT)  155966.02   \n2                      CAPTAIN III (POLICE DEPARTMENT)  212739.13   \n3                 WIRE ROPE CABLE MAINTENANCE MECHANIC   77916.00   \n4         DEPUTY CHIEF OF DEPARTMENT,(FIRE DEPARTMENT)  134401.60   \n...                                                ...        ...   \n148649                                       Custodian       0.00   \n148650                                    Not provided        NaN   \n148651                                    Not provided        NaN   \n148652                                    Not provided        NaN   \n148653                      Counselor, Log Cabin Ranch       0.00   \n\n        OvertimePay   OtherPay  Benefits   TotalPay  TotalPayBenefits  Year  \\\n0              0.00  400184.25       NaN  567595.43         567595.43  2011   \n1         245131.88  137811.38       NaN  538909.28         538909.28  2011   \n2         106088.18   16452.60       NaN  335279.91         335279.91  2011   \n3          56120.71  198306.90       NaN  332343.61         332343.61  2011   \n4           9737.00  182234.59       NaN  326373.19         326373.19  2011   \n...             ...        ...       ...        ...               ...   ...   \n148649         0.00       0.00       0.0       0.00              0.00  2014   \n148650          NaN        NaN       NaN       0.00              0.00  2014   \n148651          NaN        NaN       NaN       0.00              0.00  2014   \n148652          NaN        NaN       NaN       0.00              0.00  2014   \n148653         0.00    -618.13       0.0    -618.13           -618.13  2014   \n\n        Notes         Agency  Status  \n0         NaN  San Francisco     NaN  \n1         NaN  San Francisco     NaN  \n2         NaN  San Francisco     NaN  \n3         NaN  San Francisco     NaN  \n4         NaN  San Francisco     NaN  \n...       ...            ...     ...  \n148649    NaN  San Francisco     NaN  \n148650    NaN  San Francisco     NaN  \n148651    NaN  San Francisco     NaN  \n148652    NaN  San Francisco     NaN  \n148653    NaN  San Francisco     NaN  \n\n[148654 rows x 13 columns]>"
     },
     "metadata": {}
    }
   ]
  },
  {
   "cell_type": "markdown",
   "source": "**Qual é a média da  Remuneração base(BasePay) ?**",
   "metadata": {
    "cell_id": "00012-d81a4f0e-15ec-4cbb-ac50-9e3fcc27ef94",
    "deepnote_cell_type": "markdown",
    "deepnote_cell_height": 51.56666564941406
   }
  },
  {
   "cell_type": "code",
   "metadata": {
    "cell_id": "00013-daa02c41-e524-4030-b37a-867b0360d4ba",
    "deepnote_to_be_reexecuted": false,
    "source_hash": "bbac6594",
    "execution_start": 1654610977456,
    "execution_millis": 117,
    "deepnote_cell_type": "code",
    "deepnote_cell_height": 116.75,
    "deepnote_output_heights": [
     21
    ]
   },
   "source": "sal.describe().loc['mean','BasePay']",
   "execution_count": null,
   "outputs": [
    {
     "output_type": "execute_result",
     "execution_count": 11,
     "data": {
      "text/plain": "66325.4488404877"
     },
     "metadata": {}
    }
   ]
  },
  {
   "cell_type": "markdown",
   "source": "**Qual é a máximo de horas extras(OvertimePay) no conjunto de dados?**",
   "metadata": {
    "cell_id": "00014-2c25febd-481d-423d-9f19-1f15ae46bd4e",
    "deepnote_cell_type": "markdown",
    "deepnote_cell_height": 51.56666564941406
   }
  },
  {
   "cell_type": "code",
   "metadata": {
    "cell_id": "00015-3938c592-c109-438a-b2ee-02aa48a5ab07",
    "deepnote_to_be_reexecuted": false,
    "source_hash": "78266e71",
    "execution_start": 1654611034504,
    "execution_millis": 78,
    "deepnote_cell_type": "code",
    "deepnote_cell_height": 116.75,
    "deepnote_output_heights": [
     21
    ]
   },
   "source": "sal.describe().loc['max','OvertimePay']",
   "execution_count": null,
   "outputs": [
    {
     "output_type": "execute_result",
     "execution_count": 14,
     "data": {
      "text/plain": "245131.88"
     },
     "metadata": {}
    }
   ]
  },
  {
   "cell_type": "markdown",
   "source": "**Qual é o cargo de JOANNE HAYES-WHITE'?**",
   "metadata": {
    "cell_id": "00016-d6712523-7497-4b01-a492-7f68b9d57fa0",
    "deepnote_cell_type": "markdown",
    "deepnote_cell_height": 51.56666564941406
   }
  },
  {
   "cell_type": "code",
   "metadata": {
    "cell_id": "00017-302daada-13da-4b39-bdc3-e3d7bcf5b35c",
    "deepnote_to_be_reexecuted": false,
    "source_hash": "5bde566d",
    "execution_start": 1654611253029,
    "execution_millis": 2,
    "deepnote_cell_type": "code",
    "deepnote_cell_height": 80.16667175292969
   },
   "source": "sal_joanne = sal[sal['EmployeeName'] == 'JOANNE HAYES-WHITE']",
   "execution_count": null,
   "outputs": []
  },
  {
   "cell_type": "code",
   "metadata": {
    "cell_id": "a3291214a4b84d1b830ca955390f4f2d",
    "tags": [],
    "deepnote_to_be_reexecuted": false,
    "source_hash": "4df0b457",
    "execution_start": 1654611311545,
    "execution_millis": 4,
    "deepnote_cell_type": "code",
    "deepnote_cell_height": 135.75,
    "deepnote_output_heights": [
     40
    ]
   },
   "source": "sal_joanne['JobTitle']",
   "execution_count": null,
   "outputs": [
    {
     "output_type": "execute_result",
     "execution_count": 24,
     "data": {
      "text/plain": "9    CHIEF OF DEPARTMENT, (FIRE DEPARTMENT)\nName: JobTitle, dtype: object"
     },
     "metadata": {}
    }
   ]
  },
  {
   "cell_type": "markdown",
   "source": "**Quanto ganha JOANNE HAYES-WHITE (incluindo benefícios)?**",
   "metadata": {
    "cell_id": "00018-9af809dc-262e-478e-aa5b-ed658189e793",
    "deepnote_cell_type": "markdown",
    "deepnote_cell_height": 51.56666564941406
   }
  },
  {
   "cell_type": "code",
   "metadata": {
    "cell_id": "00019-f6755f7b-b4db-454b-ab37-d5ed234c7b1a",
    "deepnote_to_be_reexecuted": false,
    "source_hash": "6d79a710",
    "execution_start": 1654611438551,
    "execution_millis": 2,
    "deepnote_cell_type": "code",
    "deepnote_cell_height": 207.75
   },
   "source": "sal_joanne['Salario Total'] = sal_joanne['TotalPayBenefits'] + sal_joanne['TotalPay']",
   "execution_count": null,
   "outputs": [
    {
     "name": "stderr",
     "text": "/shared-libs/python3.7/py-core/lib/python3.7/site-packages/ipykernel_launcher.py:1: SettingWithCopyWarning: \nA value is trying to be set on a copy of a slice from a DataFrame.\nTry using .loc[row_indexer,col_indexer] = value instead\n\nSee the caveats in the documentation: https://pandas.pydata.org/pandas-docs/stable/user_guide/indexing.html#returning-a-view-versus-a-copy\n  \"\"\"Entry point for launching an IPython kernel.\n",
     "output_type": "stream"
    }
   ]
  },
  {
   "cell_type": "code",
   "metadata": {
    "cell_id": "8a89419da7054b4eae81ac8ddfe4b4df",
    "tags": [],
    "deepnote_to_be_reexecuted": false,
    "source_hash": "e6122bf0",
    "execution_start": 1654611456911,
    "execution_millis": 16,
    "deepnote_cell_type": "code",
    "deepnote_cell_height": 135.75,
    "deepnote_output_heights": [
     40
    ]
   },
   "source": "sal_joanne['Salario Total']",
   "execution_count": null,
   "outputs": [
    {
     "output_type": "execute_result",
     "execution_count": 30,
     "data": {
      "text/plain": "9    604755.46\nName: Salario Total, dtype: float64"
     },
     "metadata": {}
    }
   ]
  },
  {
   "cell_type": "markdown",
   "source": "**Qual é o nome da pessoa mais bem paga (incluindo benefícios)?**",
   "metadata": {
    "cell_id": "00020-087d4fbc-77ef-419b-b3ee-385ad8013c21",
    "deepnote_cell_type": "markdown",
    "deepnote_cell_height": 51.56666564941406
   }
  },
  {
   "cell_type": "code",
   "metadata": {
    "cell_id": "00021-194d963c-f93b-4c7e-9bde-76f0f168724b",
    "deepnote_to_be_reexecuted": false,
    "source_hash": "b9f091b0",
    "execution_start": 1654613317669,
    "execution_millis": 22,
    "deepnote_cell_type": "code",
    "deepnote_cell_height": 80.16667175292969
   },
   "source": "sal['Salario Total'] = sal['TotalPayBenefits'] + sal['TotalPay']",
   "execution_count": null,
   "outputs": []
  },
  {
   "cell_type": "code",
   "metadata": {
    "cell_id": "bd31165318be4582a2b13b61a126316b",
    "tags": [],
    "deepnote_to_be_reexecuted": false,
    "source_hash": "6212a5c8",
    "execution_start": 1654611595322,
    "execution_millis": 91,
    "deepnote_cell_type": "code",
    "deepnote_cell_height": 229.3333282470703
   },
   "source": "sal[sal['Salario Total'] == 1135190.86]",
   "execution_count": null,
   "outputs": [
    {
     "output_type": "execute_result",
     "execution_count": 33,
     "data": {
      "application/vnd.deepnote.dataframe.v3+json": {
       "column_count": 14,
       "row_count": 1,
       "columns": [
        {
         "name": "Id",
         "dtype": "int64",
         "stats": {
          "unique_count": 1,
          "nan_count": 0,
          "min": "1",
          "max": "1",
          "histogram": [
           {
            "bin_start": 0.5,
            "bin_end": 0.6,
            "count": 0
           },
           {
            "bin_start": 0.6,
            "bin_end": 0.7,
            "count": 0
           },
           {
            "bin_start": 0.7,
            "bin_end": 0.8,
            "count": 0
           },
           {
            "bin_start": 0.8,
            "bin_end": 0.9,
            "count": 0
           },
           {
            "bin_start": 0.9,
            "bin_end": 1,
            "count": 0
           },
           {
            "bin_start": 1,
            "bin_end": 1.1,
            "count": 1
           },
           {
            "bin_start": 1.1,
            "bin_end": 1.2000000000000002,
            "count": 0
           },
           {
            "bin_start": 1.2000000000000002,
            "bin_end": 1.3,
            "count": 0
           },
           {
            "bin_start": 1.3,
            "bin_end": 1.4,
            "count": 0
           },
           {
            "bin_start": 1.4,
            "bin_end": 1.5,
            "count": 0
           }
          ]
         }
        },
        {
         "name": "EmployeeName",
         "dtype": "object",
         "stats": {
          "unique_count": 1,
          "nan_count": 0,
          "categories": [
           {
            "name": "NATHANIEL FORD",
            "count": 1
           }
          ]
         }
        },
        {
         "name": "JobTitle",
         "dtype": "object",
         "stats": {
          "unique_count": 1,
          "nan_count": 0,
          "categories": [
           {
            "name": "GENERAL MANAGER-METROPOLITAN TRANSIT AUTHORITY",
            "count": 1
           }
          ]
         }
        },
        {
         "name": "BasePay",
         "dtype": "float64",
         "stats": {
          "unique_count": 1,
          "nan_count": 0,
          "min": "167411.18",
          "max": "167411.18",
          "histogram": [
           {
            "bin_start": 167410.68,
            "bin_end": 167410.78,
            "count": 0
           },
           {
            "bin_start": 167410.78,
            "bin_end": 167410.88,
            "count": 0
           },
           {
            "bin_start": 167410.88,
            "bin_end": 167410.97999999998,
            "count": 0
           },
           {
            "bin_start": 167410.97999999998,
            "bin_end": 167411.08,
            "count": 0
           },
           {
            "bin_start": 167411.08,
            "bin_end": 167411.18,
            "count": 0
           },
           {
            "bin_start": 167411.18,
            "bin_end": 167411.28,
            "count": 1
           },
           {
            "bin_start": 167411.28,
            "bin_end": 167411.38,
            "count": 0
           },
           {
            "bin_start": 167411.38,
            "bin_end": 167411.47999999998,
            "count": 0
           },
           {
            "bin_start": 167411.47999999998,
            "bin_end": 167411.58,
            "count": 0
           },
           {
            "bin_start": 167411.58,
            "bin_end": 167411.68,
            "count": 0
           }
          ]
         }
        },
        {
         "name": "OvertimePay",
         "dtype": "float64",
         "stats": {
          "unique_count": 1,
          "nan_count": 0,
          "min": "0.0",
          "max": "0.0",
          "histogram": [
           {
            "bin_start": -0.5,
            "bin_end": -0.4,
            "count": 0
           },
           {
            "bin_start": -0.4,
            "bin_end": -0.3,
            "count": 0
           },
           {
            "bin_start": -0.3,
            "bin_end": -0.19999999999999996,
            "count": 0
           },
           {
            "bin_start": -0.19999999999999996,
            "bin_end": -0.09999999999999998,
            "count": 0
           },
           {
            "bin_start": -0.09999999999999998,
            "bin_end": 0,
            "count": 0
           },
           {
            "bin_start": 0,
            "bin_end": 0.10000000000000009,
            "count": 1
           },
           {
            "bin_start": 0.10000000000000009,
            "bin_end": 0.20000000000000007,
            "count": 0
           },
           {
            "bin_start": 0.20000000000000007,
            "bin_end": 0.30000000000000004,
            "count": 0
           },
           {
            "bin_start": 0.30000000000000004,
            "bin_end": 0.4,
            "count": 0
           },
           {
            "bin_start": 0.4,
            "bin_end": 0.5,
            "count": 0
           }
          ]
         }
        },
        {
         "name": "OtherPay",
         "dtype": "float64",
         "stats": {
          "unique_count": 1,
          "nan_count": 0,
          "min": "400184.25",
          "max": "400184.25",
          "histogram": [
           {
            "bin_start": 400183.75,
            "bin_end": 400183.85,
            "count": 0
           },
           {
            "bin_start": 400183.85,
            "bin_end": 400183.95,
            "count": 0
           },
           {
            "bin_start": 400183.95,
            "bin_end": 400184.05,
            "count": 0
           },
           {
            "bin_start": 400184.05,
            "bin_end": 400184.15,
            "count": 0
           },
           {
            "bin_start": 400184.15,
            "bin_end": 400184.25,
            "count": 0
           },
           {
            "bin_start": 400184.25,
            "bin_end": 400184.35,
            "count": 1
           },
           {
            "bin_start": 400184.35,
            "bin_end": 400184.45,
            "count": 0
           },
           {
            "bin_start": 400184.45,
            "bin_end": 400184.55,
            "count": 0
           },
           {
            "bin_start": 400184.55,
            "bin_end": 400184.65,
            "count": 0
           },
           {
            "bin_start": 400184.65,
            "bin_end": 400184.75,
            "count": 0
           }
          ]
         }
        },
        {
         "name": "Benefits",
         "dtype": "float64",
         "stats": {
          "unique_count": 0,
          "nan_count": 1,
          "min": null,
          "max": null,
          "histogram": [
           {
            "bin_start": 0,
            "bin_end": 0.1,
            "count": 0
           },
           {
            "bin_start": 0.1,
            "bin_end": 0.2,
            "count": 0
           },
           {
            "bin_start": 0.2,
            "bin_end": 0.30000000000000004,
            "count": 0
           },
           {
            "bin_start": 0.30000000000000004,
            "bin_end": 0.4,
            "count": 0
           },
           {
            "bin_start": 0.4,
            "bin_end": 0.5,
            "count": 0
           },
           {
            "bin_start": 0.5,
            "bin_end": 0.6000000000000001,
            "count": 0
           },
           {
            "bin_start": 0.6000000000000001,
            "bin_end": 0.7000000000000001,
            "count": 0
           },
           {
            "bin_start": 0.7000000000000001,
            "bin_end": 0.8,
            "count": 0
           },
           {
            "bin_start": 0.8,
            "bin_end": 0.9,
            "count": 0
           },
           {
            "bin_start": 0.9,
            "bin_end": 1,
            "count": 0
           }
          ]
         }
        },
        {
         "name": "TotalPay",
         "dtype": "float64",
         "stats": {
          "unique_count": 1,
          "nan_count": 0,
          "min": "567595.43",
          "max": "567595.43",
          "histogram": [
           {
            "bin_start": 567594.93,
            "bin_end": 567595.03,
            "count": 0
           },
           {
            "bin_start": 567595.03,
            "bin_end": 567595.13,
            "count": 0
           },
           {
            "bin_start": 567595.13,
            "bin_end": 567595.2300000001,
            "count": 0
           },
           {
            "bin_start": 567595.2300000001,
            "bin_end": 567595.3300000001,
            "count": 0
           },
           {
            "bin_start": 567595.3300000001,
            "bin_end": 567595.43,
            "count": 0
           },
           {
            "bin_start": 567595.43,
            "bin_end": 567595.53,
            "count": 1
           },
           {
            "bin_start": 567595.53,
            "bin_end": 567595.63,
            "count": 0
           },
           {
            "bin_start": 567595.63,
            "bin_end": 567595.7300000001,
            "count": 0
           },
           {
            "bin_start": 567595.7300000001,
            "bin_end": 567595.8300000001,
            "count": 0
           },
           {
            "bin_start": 567595.8300000001,
            "bin_end": 567595.93,
            "count": 0
           }
          ]
         }
        },
        {
         "name": "TotalPayBenefits",
         "dtype": "float64",
         "stats": {
          "unique_count": 1,
          "nan_count": 0,
          "min": "567595.43",
          "max": "567595.43",
          "histogram": [
           {
            "bin_start": 567594.93,
            "bin_end": 567595.03,
            "count": 0
           },
           {
            "bin_start": 567595.03,
            "bin_end": 567595.13,
            "count": 0
           },
           {
            "bin_start": 567595.13,
            "bin_end": 567595.2300000001,
            "count": 0
           },
           {
            "bin_start": 567595.2300000001,
            "bin_end": 567595.3300000001,
            "count": 0
           },
           {
            "bin_start": 567595.3300000001,
            "bin_end": 567595.43,
            "count": 0
           },
           {
            "bin_start": 567595.43,
            "bin_end": 567595.53,
            "count": 1
           },
           {
            "bin_start": 567595.53,
            "bin_end": 567595.63,
            "count": 0
           },
           {
            "bin_start": 567595.63,
            "bin_end": 567595.7300000001,
            "count": 0
           },
           {
            "bin_start": 567595.7300000001,
            "bin_end": 567595.8300000001,
            "count": 0
           },
           {
            "bin_start": 567595.8300000001,
            "bin_end": 567595.93,
            "count": 0
           }
          ]
         }
        },
        {
         "name": "Year",
         "dtype": "int64",
         "stats": {
          "unique_count": 1,
          "nan_count": 0,
          "min": "2011",
          "max": "2011",
          "histogram": [
           {
            "bin_start": 2010.5,
            "bin_end": 2010.6,
            "count": 0
           },
           {
            "bin_start": 2010.6,
            "bin_end": 2010.7,
            "count": 0
           },
           {
            "bin_start": 2010.7,
            "bin_end": 2010.8,
            "count": 0
           },
           {
            "bin_start": 2010.8,
            "bin_end": 2010.9,
            "count": 0
           },
           {
            "bin_start": 2010.9,
            "bin_end": 2011,
            "count": 0
           },
           {
            "bin_start": 2011,
            "bin_end": 2011.1,
            "count": 1
           },
           {
            "bin_start": 2011.1,
            "bin_end": 2011.2,
            "count": 0
           },
           {
            "bin_start": 2011.2,
            "bin_end": 2011.3,
            "count": 0
           },
           {
            "bin_start": 2011.3,
            "bin_end": 2011.4,
            "count": 0
           },
           {
            "bin_start": 2011.4,
            "bin_end": 2011.5,
            "count": 0
           }
          ]
         }
        },
        {
         "name": "Notes",
         "dtype": "float64",
         "stats": {
          "unique_count": 0,
          "nan_count": 1,
          "min": null,
          "max": null,
          "histogram": [
           {
            "bin_start": 0,
            "bin_end": 0.1,
            "count": 0
           },
           {
            "bin_start": 0.1,
            "bin_end": 0.2,
            "count": 0
           },
           {
            "bin_start": 0.2,
            "bin_end": 0.30000000000000004,
            "count": 0
           },
           {
            "bin_start": 0.30000000000000004,
            "bin_end": 0.4,
            "count": 0
           },
           {
            "bin_start": 0.4,
            "bin_end": 0.5,
            "count": 0
           },
           {
            "bin_start": 0.5,
            "bin_end": 0.6000000000000001,
            "count": 0
           },
           {
            "bin_start": 0.6000000000000001,
            "bin_end": 0.7000000000000001,
            "count": 0
           },
           {
            "bin_start": 0.7000000000000001,
            "bin_end": 0.8,
            "count": 0
           },
           {
            "bin_start": 0.8,
            "bin_end": 0.9,
            "count": 0
           },
           {
            "bin_start": 0.9,
            "bin_end": 1,
            "count": 0
           }
          ]
         }
        },
        {
         "name": "Agency",
         "dtype": "object",
         "stats": {
          "unique_count": 1,
          "nan_count": 0,
          "categories": [
           {
            "name": "San Francisco",
            "count": 1
           }
          ]
         }
        },
        {
         "name": "Status",
         "dtype": "float64",
         "stats": {
          "unique_count": 0,
          "nan_count": 1,
          "min": null,
          "max": null,
          "histogram": [
           {
            "bin_start": 0,
            "bin_end": 0.1,
            "count": 0
           },
           {
            "bin_start": 0.1,
            "bin_end": 0.2,
            "count": 0
           },
           {
            "bin_start": 0.2,
            "bin_end": 0.30000000000000004,
            "count": 0
           },
           {
            "bin_start": 0.30000000000000004,
            "bin_end": 0.4,
            "count": 0
           },
           {
            "bin_start": 0.4,
            "bin_end": 0.5,
            "count": 0
           },
           {
            "bin_start": 0.5,
            "bin_end": 0.6000000000000001,
            "count": 0
           },
           {
            "bin_start": 0.6000000000000001,
            "bin_end": 0.7000000000000001,
            "count": 0
           },
           {
            "bin_start": 0.7000000000000001,
            "bin_end": 0.8,
            "count": 0
           },
           {
            "bin_start": 0.8,
            "bin_end": 0.9,
            "count": 0
           },
           {
            "bin_start": 0.9,
            "bin_end": 1,
            "count": 0
           }
          ]
         }
        },
        {
         "name": "Salario Total",
         "dtype": "float64",
         "stats": {
          "unique_count": 1,
          "nan_count": 0,
          "min": "1135190.86",
          "max": "1135190.86",
          "histogram": [
           {
            "bin_start": 1135190.36,
            "bin_end": 1135190.4600000002,
            "count": 0
           },
           {
            "bin_start": 1135190.4600000002,
            "bin_end": 1135190.56,
            "count": 0
           },
           {
            "bin_start": 1135190.56,
            "bin_end": 1135190.6600000001,
            "count": 0
           },
           {
            "bin_start": 1135190.6600000001,
            "bin_end": 1135190.76,
            "count": 0
           },
           {
            "bin_start": 1135190.76,
            "bin_end": 1135190.86,
            "count": 0
           },
           {
            "bin_start": 1135190.86,
            "bin_end": 1135190.9600000002,
            "count": 1
           },
           {
            "bin_start": 1135190.9600000002,
            "bin_end": 1135191.06,
            "count": 0
           },
           {
            "bin_start": 1135191.06,
            "bin_end": 1135191.1600000001,
            "count": 0
           },
           {
            "bin_start": 1135191.1600000001,
            "bin_end": 1135191.26,
            "count": 0
           },
           {
            "bin_start": 1135191.26,
            "bin_end": 1135191.36,
            "count": 0
           }
          ]
         }
        },
        {
         "name": "_deepnote_index_column",
         "dtype": "int64"
        }
       ],
       "rows": [
        {
         "Id": 1,
         "EmployeeName": "NATHANIEL FORD",
         "JobTitle": "GENERAL MANAGER-METROPOLITAN TRANSIT AUTHORITY",
         "BasePay": 167411.18,
         "OvertimePay": 0,
         "OtherPay": 400184.25,
         "Benefits": "nan",
         "TotalPay": 567595.43,
         "TotalPayBenefits": 567595.43,
         "Year": 2011,
         "Notes": "nan",
         "Agency": "San Francisco",
         "Status": "nan",
         "Salario Total": 1135190.86,
         "_deepnote_index_column": 0
        }
       ]
      },
      "text/plain": "   Id    EmployeeName                                        JobTitle  \\\n0   1  NATHANIEL FORD  GENERAL MANAGER-METROPOLITAN TRANSIT AUTHORITY   \n\n     BasePay  OvertimePay   OtherPay  Benefits   TotalPay  TotalPayBenefits  \\\n0  167411.18          0.0  400184.25       NaN  567595.43         567595.43   \n\n   Year  Notes         Agency  Status  Salario Total  \n0  2011    NaN  San Francisco     NaN     1135190.86  ",
      "text/html": "<div>\n<style scoped>\n    .dataframe tbody tr th:only-of-type {\n        vertical-align: middle;\n    }\n\n    .dataframe tbody tr th {\n        vertical-align: top;\n    }\n\n    .dataframe thead th {\n        text-align: right;\n    }\n</style>\n<table border=\"1\" class=\"dataframe\">\n  <thead>\n    <tr style=\"text-align: right;\">\n      <th></th>\n      <th>Id</th>\n      <th>EmployeeName</th>\n      <th>JobTitle</th>\n      <th>BasePay</th>\n      <th>OvertimePay</th>\n      <th>OtherPay</th>\n      <th>Benefits</th>\n      <th>TotalPay</th>\n      <th>TotalPayBenefits</th>\n      <th>Year</th>\n      <th>Notes</th>\n      <th>Agency</th>\n      <th>Status</th>\n      <th>Salario Total</th>\n    </tr>\n  </thead>\n  <tbody>\n    <tr>\n      <th>0</th>\n      <td>1</td>\n      <td>NATHANIEL FORD</td>\n      <td>GENERAL MANAGER-METROPOLITAN TRANSIT AUTHORITY</td>\n      <td>167411.18</td>\n      <td>0.0</td>\n      <td>400184.25</td>\n      <td>NaN</td>\n      <td>567595.43</td>\n      <td>567595.43</td>\n      <td>2011</td>\n      <td>NaN</td>\n      <td>San Francisco</td>\n      <td>NaN</td>\n      <td>1135190.86</td>\n    </tr>\n  </tbody>\n</table>\n</div>"
     },
     "metadata": {}
    }
   ]
  },
  {
   "cell_type": "markdown",
   "source": "**Qual é o nome da pessoa com o salário mais baixo (incluindo benefícios)? Você percebe algo estranho sobre o quanto ele ou ela é pago?**",
   "metadata": {
    "cell_id": "00022-7fe09e7e-3b92-4f6e-ad75-55b2b6b9e979",
    "deepnote_cell_type": "markdown",
    "deepnote_cell_height": 73.96665954589844
   }
  },
  {
   "cell_type": "code",
   "metadata": {
    "cell_id": "00023-70b8ddef-6028-407a-89a2-e56ff71dcb2a",
    "deepnote_to_be_reexecuted": false,
    "source_hash": "42964b85",
    "execution_start": 1654613374907,
    "execution_millis": 195,
    "deepnote_cell_type": "code",
    "deepnote_cell_height": 516.3333129882812
   },
   "source": "sal[sal['Salario Total']>0].describe()",
   "execution_count": null,
   "outputs": [
    {
     "output_type": "execute_result",
     "execution_count": 7,
     "data": {
      "application/vnd.deepnote.dataframe.v3+json": {
       "column_count": 11,
       "row_count": 8,
       "columns": [
        {
         "name": "Id",
         "dtype": "float64",
         "stats": {
          "unique_count": 8,
          "nan_count": 0,
          "min": "1.0",
          "max": "148626.0",
          "histogram": [
           {
            "bin_start": 1,
            "bin_end": 14863.5,
            "count": 1
           },
           {
            "bin_start": 14863.5,
            "bin_end": 29726,
            "count": 0
           },
           {
            "bin_start": 29726,
            "bin_end": 44588.5,
            "count": 2
           },
           {
            "bin_start": 44588.5,
            "bin_end": 59451,
            "count": 0
           },
           {
            "bin_start": 59451,
            "bin_end": 74313.5,
            "count": 0
           },
           {
            "bin_start": 74313.5,
            "bin_end": 89176,
            "count": 2
           },
           {
            "bin_start": 89176,
            "bin_end": 104038.5,
            "count": 0
           },
           {
            "bin_start": 104038.5,
            "bin_end": 118901,
            "count": 1
           },
           {
            "bin_start": 118901,
            "bin_end": 133763.5,
            "count": 0
           },
           {
            "bin_start": 133763.5,
            "bin_end": 148626,
            "count": 2
           }
          ]
         }
        },
        {
         "name": "BasePay",
         "dtype": "float64",
         "stats": {
          "unique_count": 8,
          "nan_count": 0,
          "min": "-166.01",
          "max": "319275.01",
          "histogram": [
           {
            "bin_start": -166.01,
            "bin_end": 31778.092000000004,
            "count": 1
           },
           {
            "bin_start": 31778.092000000004,
            "bin_end": 63722.194,
            "count": 2
           },
           {
            "bin_start": 63722.194,
            "bin_end": 95666.29600000002,
            "count": 3
           },
           {
            "bin_start": 95666.29600000002,
            "bin_end": 127610.39800000002,
            "count": 0
           },
           {
            "bin_start": 127610.39800000002,
            "bin_end": 159554.5,
            "count": 1
           },
           {
            "bin_start": 159554.5,
            "bin_end": 191498.602,
            "count": 0
           },
           {
            "bin_start": 191498.602,
            "bin_end": 223442.704,
            "count": 0
           },
           {
            "bin_start": 223442.704,
            "bin_end": 255386.806,
            "count": 0
           },
           {
            "bin_start": 255386.806,
            "bin_end": 287330.908,
            "count": 0
           },
           {
            "bin_start": 287330.908,
            "bin_end": 319275.01,
            "count": 1
           }
          ]
         }
        },
        {
         "name": "OvertimePay",
         "dtype": "float64",
         "stats": {
          "unique_count": 7,
          "nan_count": 0,
          "min": "-0.01",
          "max": "245131.88",
          "histogram": [
           {
            "bin_start": -0.01,
            "bin_end": 24513.179000000004,
            "count": 6
           },
           {
            "bin_start": 24513.179000000004,
            "bin_end": 49026.368,
            "count": 0
           },
           {
            "bin_start": 49026.368,
            "bin_end": 73539.55700000002,
            "count": 0
           },
           {
            "bin_start": 73539.55700000002,
            "bin_end": 98052.74600000001,
            "count": 0
           },
           {
            "bin_start": 98052.74600000001,
            "bin_end": 122565.93500000001,
            "count": 0
           },
           {
            "bin_start": 122565.93500000001,
            "bin_end": 147079.124,
            "count": 0
           },
           {
            "bin_start": 147079.124,
            "bin_end": 171592.313,
            "count": 1
           },
           {
            "bin_start": 171592.313,
            "bin_end": 196105.502,
            "count": 0
           },
           {
            "bin_start": 196105.502,
            "bin_end": 220618.69100000002,
            "count": 0
           },
           {
            "bin_start": 220618.69100000002,
            "bin_end": 245131.88,
            "count": 1
           }
          ]
         }
        },
        {
         "name": "OtherPay",
         "dtype": "float64",
         "stats": {
          "unique_count": 8,
          "nan_count": 0,
          "min": "-7058.59",
          "max": "400184.25",
          "histogram": [
           {
            "bin_start": -7058.59,
            "bin_end": 33665.694,
            "count": 6
           },
           {
            "bin_start": 33665.694,
            "bin_end": 74389.978,
            "count": 0
           },
           {
            "bin_start": 74389.978,
            "bin_end": 115114.262,
            "count": 0
           },
           {
            "bin_start": 115114.262,
            "bin_end": 155838.546,
            "count": 1
           },
           {
            "bin_start": 155838.546,
            "bin_end": 196562.83,
            "count": 0
           },
           {
            "bin_start": 196562.83,
            "bin_end": 237287.114,
            "count": 0
           },
           {
            "bin_start": 237287.114,
            "bin_end": 278011.398,
            "count": 0
           },
           {
            "bin_start": 278011.398,
            "bin_end": 318735.682,
            "count": 0
           },
           {
            "bin_start": 318735.682,
            "bin_end": 359459.96599999996,
            "count": 0
           },
           {
            "bin_start": 359459.96599999996,
            "bin_end": 400184.25,
            "count": 1
           }
          ]
         }
        },
        {
         "name": "Benefits",
         "dtype": "float64",
         "stats": {
          "unique_count": 8,
          "nan_count": 0,
          "min": "-13.8",
          "max": "112464.0",
          "histogram": [
           {
            "bin_start": -13.8,
            "bin_end": 11233.980000000001,
            "count": 1
           },
           {
            "bin_start": 11233.980000000001,
            "bin_end": 22481.760000000002,
            "count": 2
           },
           {
            "bin_start": 22481.760000000002,
            "bin_end": 33729.54,
            "count": 2
           },
           {
            "bin_start": 33729.54,
            "bin_end": 44977.32,
            "count": 1
           },
           {
            "bin_start": 44977.32,
            "bin_end": 56225.1,
            "count": 0
           },
           {
            "bin_start": 56225.1,
            "bin_end": 67472.88,
            "count": 0
           },
           {
            "bin_start": 67472.88,
            "bin_end": 78720.66,
            "count": 0
           },
           {
            "bin_start": 78720.66,
            "bin_end": 89968.44,
            "count": 0
           },
           {
            "bin_start": 89968.44,
            "bin_end": 101216.22,
            "count": 1
           },
           {
            "bin_start": 101216.22,
            "bin_end": 112464,
            "count": 1
           }
          ]
         }
        },
        {
         "name": "TotalPay",
         "dtype": "float64",
         "stats": {
          "unique_count": 8,
          "nan_count": 0,
          "min": "0.0",
          "max": "567595.43",
          "histogram": [
           {
            "bin_start": 0,
            "bin_end": 56759.543000000005,
            "count": 3
           },
           {
            "bin_start": 56759.543000000005,
            "bin_end": 113519.08600000001,
            "count": 3
           },
           {
            "bin_start": 113519.08600000001,
            "bin_end": 170278.62900000002,
            "count": 1
           },
           {
            "bin_start": 170278.62900000002,
            "bin_end": 227038.17200000002,
            "count": 0
           },
           {
            "bin_start": 227038.17200000002,
            "bin_end": 283797.715,
            "count": 0
           },
           {
            "bin_start": 283797.715,
            "bin_end": 340557.25800000003,
            "count": 0
           },
           {
            "bin_start": 340557.25800000003,
            "bin_end": 397316.80100000004,
            "count": 0
           },
           {
            "bin_start": 397316.80100000004,
            "bin_end": 454076.34400000004,
            "count": 0
           },
           {
            "bin_start": 454076.34400000004,
            "bin_end": 510835.88700000005,
            "count": 0
           },
           {
            "bin_start": 510835.88700000005,
            "bin_end": 567595.43,
            "count": 1
           }
          ]
         }
        },
        {
         "name": "TotalPayBenefits",
         "dtype": "float64",
         "stats": {
          "unique_count": 8,
          "nan_count": 0,
          "min": "0.3",
          "max": "567595.43",
          "histogram": [
           {
            "bin_start": 0.3,
            "bin_end": 56759.813,
            "count": 2
           },
           {
            "bin_start": 56759.813,
            "bin_end": 113519.326,
            "count": 3
           },
           {
            "bin_start": 113519.326,
            "bin_end": 170278.83899999998,
            "count": 2
           },
           {
            "bin_start": 170278.83899999998,
            "bin_end": 227038.35199999998,
            "count": 0
           },
           {
            "bin_start": 227038.35199999998,
            "bin_end": 283797.865,
            "count": 0
           },
           {
            "bin_start": 283797.865,
            "bin_end": 340557.37799999997,
            "count": 0
           },
           {
            "bin_start": 340557.37799999997,
            "bin_end": 397316.891,
            "count": 0
           },
           {
            "bin_start": 397316.891,
            "bin_end": 454076.404,
            "count": 0
           },
           {
            "bin_start": 454076.404,
            "bin_end": 510835.91699999996,
            "count": 0
           },
           {
            "bin_start": 510835.91699999996,
            "bin_end": 567595.43,
            "count": 1
           }
          ]
         }
        },
        {
         "name": "Year",
         "dtype": "float64",
         "stats": {
          "unique_count": 7,
          "nan_count": 0,
          "min": "1.1174584108868075",
          "max": "148620.0",
          "histogram": [
           {
            "bin_start": 1.1174584108868075,
            "bin_end": 14863.005712569799,
            "count": 7
           },
           {
            "bin_start": 14863.005712569799,
            "bin_end": 29724.893966728712,
            "count": 0
           },
           {
            "bin_start": 29724.893966728712,
            "bin_end": 44586.782220887624,
            "count": 0
           },
           {
            "bin_start": 44586.782220887624,
            "bin_end": 59448.670475046536,
            "count": 0
           },
           {
            "bin_start": 59448.670475046536,
            "bin_end": 74310.55872920544,
            "count": 0
           },
           {
            "bin_start": 74310.55872920544,
            "bin_end": 89172.44698336435,
            "count": 0
           },
           {
            "bin_start": 89172.44698336435,
            "bin_end": 104034.33523752326,
            "count": 0
           },
           {
            "bin_start": 104034.33523752326,
            "bin_end": 118896.22349168218,
            "count": 0
           },
           {
            "bin_start": 118896.22349168218,
            "bin_end": 133758.11174584107,
            "count": 0
           },
           {
            "bin_start": 133758.11174584107,
            "bin_end": 148620,
            "count": 1
           }
          ]
         }
        },
        {
         "name": "Notes",
         "dtype": "float64",
         "stats": {
          "unique_count": 1,
          "nan_count": 7,
          "min": "0.0",
          "max": "0.0",
          "histogram": [
           {
            "bin_start": -0.5,
            "bin_end": -0.4,
            "count": 0
           },
           {
            "bin_start": -0.4,
            "bin_end": -0.3,
            "count": 0
           },
           {
            "bin_start": -0.3,
            "bin_end": -0.19999999999999996,
            "count": 0
           },
           {
            "bin_start": -0.19999999999999996,
            "bin_end": -0.09999999999999998,
            "count": 0
           },
           {
            "bin_start": -0.09999999999999998,
            "bin_end": 0,
            "count": 0
           },
           {
            "bin_start": 0,
            "bin_end": 0.10000000000000009,
            "count": 1
           },
           {
            "bin_start": 0.10000000000000009,
            "bin_end": 0.20000000000000007,
            "count": 0
           },
           {
            "bin_start": 0.20000000000000007,
            "bin_end": 0.30000000000000004,
            "count": 0
           },
           {
            "bin_start": 0.30000000000000004,
            "bin_end": 0.4,
            "count": 0
           },
           {
            "bin_start": 0.4,
            "bin_end": 0.5,
            "count": 0
           }
          ]
         }
        },
        {
         "name": "Status",
         "dtype": "float64",
         "stats": {
          "unique_count": 1,
          "nan_count": 7,
          "min": "0.0",
          "max": "0.0",
          "histogram": [
           {
            "bin_start": -0.5,
            "bin_end": -0.4,
            "count": 0
           },
           {
            "bin_start": -0.4,
            "bin_end": -0.3,
            "count": 0
           },
           {
            "bin_start": -0.3,
            "bin_end": -0.19999999999999996,
            "count": 0
           },
           {
            "bin_start": -0.19999999999999996,
            "bin_end": -0.09999999999999998,
            "count": 0
           },
           {
            "bin_start": -0.09999999999999998,
            "bin_end": 0,
            "count": 0
           },
           {
            "bin_start": 0,
            "bin_end": 0.10000000000000009,
            "count": 1
           },
           {
            "bin_start": 0.10000000000000009,
            "bin_end": 0.20000000000000007,
            "count": 0
           },
           {
            "bin_start": 0.20000000000000007,
            "bin_end": 0.30000000000000004,
            "count": 0
           },
           {
            "bin_start": 0.30000000000000004,
            "bin_end": 0.4,
            "count": 0
           },
           {
            "bin_start": 0.4,
            "bin_end": 0.5,
            "count": 0
           }
          ]
         }
        },
        {
         "name": "Salario Total",
         "dtype": "float64",
         "stats": {
          "unique_count": 8,
          "nan_count": 0,
          "min": "0.6",
          "max": "1135190.86",
          "histogram": [
           {
            "bin_start": 0.6,
            "bin_end": 113519.626,
            "count": 3
           },
           {
            "bin_start": 113519.626,
            "bin_end": 227038.652,
            "count": 3
           },
           {
            "bin_start": 227038.652,
            "bin_end": 340557.67799999996,
            "count": 1
           },
           {
            "bin_start": 340557.67799999996,
            "bin_end": 454076.70399999997,
            "count": 0
           },
           {
            "bin_start": 454076.70399999997,
            "bin_end": 567595.73,
            "count": 0
           },
           {
            "bin_start": 567595.73,
            "bin_end": 681114.7559999999,
            "count": 0
           },
           {
            "bin_start": 681114.7559999999,
            "bin_end": 794633.782,
            "count": 0
           },
           {
            "bin_start": 794633.782,
            "bin_end": 908152.808,
            "count": 0
           },
           {
            "bin_start": 908152.808,
            "bin_end": 1021671.8339999999,
            "count": 0
           },
           {
            "bin_start": 1021671.8339999999,
            "bin_end": 1135190.86,
            "count": 1
           }
          ]
         }
        },
        {
         "name": "_deepnote_index_column",
         "dtype": "object"
        }
       ],
       "rows": [
        {
         "Id": 148620,
         "BasePay": 148018,
         "OvertimePay": 148620,
         "OtherPay": 148620,
         "Benefits": 112464,
         "TotalPay": 148620,
         "TotalPayBenefits": 148620,
         "Year": 148620,
         "Notes": 0,
         "Status": 0,
         "Salario Total": 148620,
         "_deepnote_index_column": "count"
        },
        {
         "Id": 74313.53914008882,
         "BasePay": 66337.54728201976,
         "OvertimePay": 5067.082506526714,
         "OtherPay": 3649.5079854662895,
         "Benefits": 25013.897364934553,
         "TotalPay": 74785.43098176556,
         "TotalPayBenefits": 93713.99344475845,
         "Year": 2012.5223859507469,
         "Notes": "nan",
         "Status": "nan",
         "Salario Total": 168499.42442652403,
         "_deepnote_index_column": "mean"
        },
        {
         "Id": 42904.98993867302,
         "BasePay": 42759.151761463385,
         "OvertimePay": 11455.310412532986,
         "OtherPay": 8057.246123994737,
         "Benefits": 15399.188509021731,
         "TotalPay": 50510.115977777605,
         "TotalPayBenefits": 62784.71447077296,
         "Year": 1.1174584108868075,
         "Notes": "nan",
         "Status": "nan",
         "Salario Total": 112657.67664481654,
         "_deepnote_index_column": "std"
        },
        {
         "Id": 1,
         "BasePay": -166.01,
         "OvertimePay": -0.01,
         "OtherPay": -7058.59,
         "Benefits": -13.8,
         "TotalPay": 0,
         "TotalPayBenefits": 0.3,
         "Year": 2011,
         "Notes": "nan",
         "Status": "nan",
         "Salario Total": 0.6,
         "_deepnote_index_column": "min"
        },
        {
         "Id": 37158.75,
         "BasePay": 33616.582500000004,
         "OvertimePay": 0,
         "OtherPay": 0,
         "Benefits": 11560.994999999999,
         "TotalPay": 36198.15,
         "TotalPayBenefits": 44132.715000000004,
         "Year": 2012,
         "Notes": "nan",
         "Status": "nan",
         "Salario Total": 80978.4875,
         "_deepnote_index_column": "25%"
        },
        {
         "Id": 74313.5,
         "BasePay": 65014.975,
         "OvertimePay": 0,
         "OtherPay": 812.425,
         "Benefits": 28631.47,
         "TotalPay": 71433.495,
         "TotalPayBenefits": 92419.38,
         "Year": 2013,
         "Notes": "nan",
         "Status": "nan",
         "Salario Total": 164155.555,
         "_deepnote_index_column": "50%"
        },
        {
         "Id": 111471.25,
         "BasePay": 94692.11,
         "OvertimePay": 4659.26,
         "OtherPay": 4237.905000000001,
         "Benefits": 35569.0325,
         "TotalPay": 105849.57500000001,
         "TotalPayBenefits": 132887.89750000002,
         "Year": 2014,
         "Notes": "nan",
         "Status": "nan",
         "Salario Total": 238285.8975,
         "_deepnote_index_column": "75%"
        },
        {
         "Id": 148626,
         "BasePay": 319275.01,
         "OvertimePay": 245131.88,
         "OtherPay": 400184.25,
         "Benefits": 96570.66,
         "TotalPay": 567595.43,
         "TotalPayBenefits": 567595.43,
         "Year": 2014,
         "Notes": "nan",
         "Status": "nan",
         "Salario Total": 1135190.86,
         "_deepnote_index_column": "max"
        }
       ]
      },
      "text/plain": "                  Id        BasePay    OvertimePay       OtherPay  \\\ncount  148620.000000  148018.000000  148620.000000  148620.000000   \nmean    74313.539140   66337.547282    5067.082507    3649.507985   \nstd     42904.989939   42759.151761   11455.310413    8057.246124   \nmin         1.000000    -166.010000      -0.010000   -7058.590000   \n25%     37158.750000   33616.582500       0.000000       0.000000   \n50%     74313.500000   65014.975000       0.000000     812.425000   \n75%    111471.250000   94692.110000    4659.260000    4237.905000   \nmax    148626.000000  319275.010000  245131.880000  400184.250000   \n\n            Benefits       TotalPay  TotalPayBenefits           Year  Notes  \\\ncount  112464.000000  148620.000000     148620.000000  148620.000000    0.0   \nmean    25013.897365   74785.430982      93713.993445    2012.522386    NaN   \nstd     15399.188509   50510.115978      62784.714471       1.117458    NaN   \nmin       -13.800000       0.000000          0.300000    2011.000000    NaN   \n25%     11560.995000   36198.150000      44132.715000    2012.000000    NaN   \n50%     28631.470000   71433.495000      92419.380000    2013.000000    NaN   \n75%     35569.032500  105849.575000     132887.897500    2014.000000    NaN   \nmax     96570.660000  567595.430000     567595.430000    2014.000000    NaN   \n\n       Status  Salario Total  \ncount     0.0   1.486200e+05  \nmean      NaN   1.684994e+05  \nstd       NaN   1.126577e+05  \nmin       NaN   6.000000e-01  \n25%       NaN   8.097849e+04  \n50%       NaN   1.641556e+05  \n75%       NaN   2.382859e+05  \nmax       NaN   1.135191e+06  ",
      "text/html": "<div>\n<style scoped>\n    .dataframe tbody tr th:only-of-type {\n        vertical-align: middle;\n    }\n\n    .dataframe tbody tr th {\n        vertical-align: top;\n    }\n\n    .dataframe thead th {\n        text-align: right;\n    }\n</style>\n<table border=\"1\" class=\"dataframe\">\n  <thead>\n    <tr style=\"text-align: right;\">\n      <th></th>\n      <th>Id</th>\n      <th>BasePay</th>\n      <th>OvertimePay</th>\n      <th>OtherPay</th>\n      <th>Benefits</th>\n      <th>TotalPay</th>\n      <th>TotalPayBenefits</th>\n      <th>Year</th>\n      <th>Notes</th>\n      <th>Status</th>\n      <th>Salario Total</th>\n    </tr>\n  </thead>\n  <tbody>\n    <tr>\n      <th>count</th>\n      <td>148620.000000</td>\n      <td>148018.000000</td>\n      <td>148620.000000</td>\n      <td>148620.000000</td>\n      <td>112464.000000</td>\n      <td>148620.000000</td>\n      <td>148620.000000</td>\n      <td>148620.000000</td>\n      <td>0.0</td>\n      <td>0.0</td>\n      <td>1.486200e+05</td>\n    </tr>\n    <tr>\n      <th>mean</th>\n      <td>74313.539140</td>\n      <td>66337.547282</td>\n      <td>5067.082507</td>\n      <td>3649.507985</td>\n      <td>25013.897365</td>\n      <td>74785.430982</td>\n      <td>93713.993445</td>\n      <td>2012.522386</td>\n      <td>NaN</td>\n      <td>NaN</td>\n      <td>1.684994e+05</td>\n    </tr>\n    <tr>\n      <th>std</th>\n      <td>42904.989939</td>\n      <td>42759.151761</td>\n      <td>11455.310413</td>\n      <td>8057.246124</td>\n      <td>15399.188509</td>\n      <td>50510.115978</td>\n      <td>62784.714471</td>\n      <td>1.117458</td>\n      <td>NaN</td>\n      <td>NaN</td>\n      <td>1.126577e+05</td>\n    </tr>\n    <tr>\n      <th>min</th>\n      <td>1.000000</td>\n      <td>-166.010000</td>\n      <td>-0.010000</td>\n      <td>-7058.590000</td>\n      <td>-13.800000</td>\n      <td>0.000000</td>\n      <td>0.300000</td>\n      <td>2011.000000</td>\n      <td>NaN</td>\n      <td>NaN</td>\n      <td>6.000000e-01</td>\n    </tr>\n    <tr>\n      <th>25%</th>\n      <td>37158.750000</td>\n      <td>33616.582500</td>\n      <td>0.000000</td>\n      <td>0.000000</td>\n      <td>11560.995000</td>\n      <td>36198.150000</td>\n      <td>44132.715000</td>\n      <td>2012.000000</td>\n      <td>NaN</td>\n      <td>NaN</td>\n      <td>8.097849e+04</td>\n    </tr>\n    <tr>\n      <th>50%</th>\n      <td>74313.500000</td>\n      <td>65014.975000</td>\n      <td>0.000000</td>\n      <td>812.425000</td>\n      <td>28631.470000</td>\n      <td>71433.495000</td>\n      <td>92419.380000</td>\n      <td>2013.000000</td>\n      <td>NaN</td>\n      <td>NaN</td>\n      <td>1.641556e+05</td>\n    </tr>\n    <tr>\n      <th>75%</th>\n      <td>111471.250000</td>\n      <td>94692.110000</td>\n      <td>4659.260000</td>\n      <td>4237.905000</td>\n      <td>35569.032500</td>\n      <td>105849.575000</td>\n      <td>132887.897500</td>\n      <td>2014.000000</td>\n      <td>NaN</td>\n      <td>NaN</td>\n      <td>2.382859e+05</td>\n    </tr>\n    <tr>\n      <th>max</th>\n      <td>148626.000000</td>\n      <td>319275.010000</td>\n      <td>245131.880000</td>\n      <td>400184.250000</td>\n      <td>96570.660000</td>\n      <td>567595.430000</td>\n      <td>567595.430000</td>\n      <td>2014.000000</td>\n      <td>NaN</td>\n      <td>NaN</td>\n      <td>1.135191e+06</td>\n    </tr>\n  </tbody>\n</table>\n</div>"
     },
     "metadata": {}
    }
   ]
  },
  {
   "cell_type": "markdown",
   "source": "**Qual foi a média da Remuneração base (BasePay) de todos os funcionários por ano? (2011-2014) ?**",
   "metadata": {
    "cell_id": "00024-6d63c026-0468-4a7e-b7c5-b868dcb37662",
    "deepnote_cell_type": "markdown",
    "deepnote_cell_height": 51.56666564941406
   }
  },
  {
   "cell_type": "code",
   "metadata": {
    "cell_id": "00025-419cbf2f-fc23-4c26-8482-4d2cd23d4cdb",
    "deepnote_to_be_reexecuted": false,
    "source_hash": "e67e91f0",
    "execution_start": 1654613521659,
    "execution_millis": 204,
    "deepnote_cell_type": "code",
    "deepnote_cell_height": 516.3333129882812
   },
   "source": "sal[sal['Year'] > 2011].describe()",
   "execution_count": null,
   "outputs": [
    {
     "output_type": "execute_result",
     "execution_count": 12,
     "data": {
      "application/vnd.deepnote.dataframe.v3+json": {
       "column_count": 11,
       "row_count": 8,
       "columns": [
        {
         "name": "Id",
         "dtype": "float64",
         "stats": {
          "unique_count": 7,
          "nan_count": 0,
          "min": "32474.65360349001",
          "max": "148654.0",
          "histogram": [
           {
            "bin_start": 32474.65360349001,
            "bin_end": 44092.58824314101,
            "count": 2
           },
           {
            "bin_start": 44092.58824314101,
            "bin_end": 55710.52288279201,
            "count": 0
           },
           {
            "bin_start": 55710.52288279201,
            "bin_end": 67328.457522443,
            "count": 1
           },
           {
            "bin_start": 67328.457522443,
            "bin_end": 78946.39216209401,
            "count": 0
           },
           {
            "bin_start": 78946.39216209401,
            "bin_end": 90564.326801745,
            "count": 0
           },
           {
            "bin_start": 90564.326801745,
            "bin_end": 102182.261441396,
            "count": 2
           },
           {
            "bin_start": 102182.261441396,
            "bin_end": 113800.196081047,
            "count": 1
           },
           {
            "bin_start": 113800.196081047,
            "bin_end": 125418.130720698,
            "count": 1
           },
           {
            "bin_start": 125418.130720698,
            "bin_end": 137036.065360349,
            "count": 0
           },
           {
            "bin_start": 137036.065360349,
            "bin_end": 148654,
            "count": 1
           }
          ]
         }
        },
        {
         "name": "BasePay",
         "dtype": "float64",
         "stats": {
          "unique_count": 8,
          "nan_count": 0,
          "min": "-166.01",
          "max": "319275.01",
          "histogram": [
           {
            "bin_start": -166.01,
            "bin_end": 31778.092000000004,
            "count": 1
           },
           {
            "bin_start": 31778.092000000004,
            "bin_end": 63722.194,
            "count": 2
           },
           {
            "bin_start": 63722.194,
            "bin_end": 95666.29600000002,
            "count": 3
           },
           {
            "bin_start": 95666.29600000002,
            "bin_end": 127610.39800000002,
            "count": 1
           },
           {
            "bin_start": 127610.39800000002,
            "bin_end": 159554.5,
            "count": 0
           },
           {
            "bin_start": 159554.5,
            "bin_end": 191498.602,
            "count": 0
           },
           {
            "bin_start": 191498.602,
            "bin_end": 223442.704,
            "count": 0
           },
           {
            "bin_start": 223442.704,
            "bin_end": 255386.806,
            "count": 0
           },
           {
            "bin_start": 255386.806,
            "bin_end": 287330.908,
            "count": 0
           },
           {
            "bin_start": 287330.908,
            "bin_end": 319275.01,
            "count": 1
           }
          ]
         }
        },
        {
         "name": "OvertimePay",
         "dtype": "float64",
         "stats": {
          "unique_count": 7,
          "nan_count": 0,
          "min": "-0.01",
          "max": "220909.48",
          "histogram": [
           {
            "bin_start": -0.01,
            "bin_end": 22090.939000000002,
            "count": 6
           },
           {
            "bin_start": 22090.939000000002,
            "bin_end": 44181.888,
            "count": 0
           },
           {
            "bin_start": 44181.888,
            "bin_end": 66272.83700000001,
            "count": 0
           },
           {
            "bin_start": 66272.83700000001,
            "bin_end": 88363.78600000001,
            "count": 0
           },
           {
            "bin_start": 88363.78600000001,
            "bin_end": 110454.735,
            "count": 0
           },
           {
            "bin_start": 110454.735,
            "bin_end": 132545.684,
            "count": 1
           },
           {
            "bin_start": 132545.684,
            "bin_end": 154636.633,
            "count": 0
           },
           {
            "bin_start": 154636.633,
            "bin_end": 176727.582,
            "count": 0
           },
           {
            "bin_start": 176727.582,
            "bin_end": 198818.531,
            "count": 0
           },
           {
            "bin_start": 198818.531,
            "bin_end": 220909.48,
            "count": 1
           }
          ]
         }
        },
        {
         "name": "OtherPay",
         "dtype": "float64",
         "stats": {
          "unique_count": 8,
          "nan_count": 0,
          "min": "-7058.59",
          "max": "342802.63",
          "histogram": [
           {
            "bin_start": -7058.59,
            "bin_end": 27927.532000000003,
            "count": 6
           },
           {
            "bin_start": 27927.532000000003,
            "bin_end": 62913.65400000001,
            "count": 0
           },
           {
            "bin_start": 62913.65400000001,
            "bin_end": 97899.77600000001,
            "count": 0
           },
           {
            "bin_start": 97899.77600000001,
            "bin_end": 132885.89800000002,
            "count": 1
           },
           {
            "bin_start": 132885.89800000002,
            "bin_end": 167872.02000000002,
            "count": 0
           },
           {
            "bin_start": 167872.02000000002,
            "bin_end": 202858.14200000002,
            "count": 0
           },
           {
            "bin_start": 202858.14200000002,
            "bin_end": 237844.26400000002,
            "count": 0
           },
           {
            "bin_start": 237844.26400000002,
            "bin_end": 272830.386,
            "count": 0
           },
           {
            "bin_start": 272830.386,
            "bin_end": 307816.508,
            "count": 0
           },
           {
            "bin_start": 307816.508,
            "bin_end": 342802.63,
            "count": 1
           }
          ]
         }
        },
        {
         "name": "Benefits",
         "dtype": "float64",
         "stats": {
          "unique_count": 8,
          "nan_count": 0,
          "min": "-33.89",
          "max": "112491.0",
          "histogram": [
           {
            "bin_start": -33.89,
            "bin_end": 11218.599,
            "count": 1
           },
           {
            "bin_start": 11218.599,
            "bin_end": 22471.088,
            "count": 2
           },
           {
            "bin_start": 22471.088,
            "bin_end": 33723.577,
            "count": 2
           },
           {
            "bin_start": 33723.577,
            "bin_end": 44976.066,
            "count": 1
           },
           {
            "bin_start": 44976.066,
            "bin_end": 56228.555,
            "count": 0
           },
           {
            "bin_start": 56228.555,
            "bin_end": 67481.044,
            "count": 0
           },
           {
            "bin_start": 67481.044,
            "bin_end": 78733.533,
            "count": 0
           },
           {
            "bin_start": 78733.533,
            "bin_end": 89986.022,
            "count": 0
           },
           {
            "bin_start": 89986.022,
            "bin_end": 101238.511,
            "count": 1
           },
           {
            "bin_start": 101238.511,
            "bin_end": 112491,
            "count": 1
           }
          ]
         }
        },
        {
         "name": "TotalPay",
         "dtype": "float64",
         "stats": {
          "unique_count": 8,
          "nan_count": 0,
          "min": "-618.13",
          "max": "471952.64",
          "histogram": [
           {
            "bin_start": -618.13,
            "bin_end": 46638.94700000001,
            "count": 2
           },
           {
            "bin_start": 46638.94700000001,
            "bin_end": 93896.024,
            "count": 3
           },
           {
            "bin_start": 93896.024,
            "bin_end": 141153.10100000002,
            "count": 2
           },
           {
            "bin_start": 141153.10100000002,
            "bin_end": 188410.178,
            "count": 0
           },
           {
            "bin_start": 188410.178,
            "bin_end": 235667.255,
            "count": 0
           },
           {
            "bin_start": 235667.255,
            "bin_end": 282924.33200000005,
            "count": 0
           },
           {
            "bin_start": 282924.33200000005,
            "bin_end": 330181.40900000004,
            "count": 0
           },
           {
            "bin_start": 330181.40900000004,
            "bin_end": 377438.48600000003,
            "count": 0
           },
           {
            "bin_start": 377438.48600000003,
            "bin_end": 424695.563,
            "count": 0
           },
           {
            "bin_start": 424695.563,
            "bin_end": 471952.64,
            "count": 1
           }
          ]
         }
        },
        {
         "name": "TotalPayBenefits",
         "dtype": "float64",
         "stats": {
          "unique_count": 8,
          "nan_count": 0,
          "min": "-618.13",
          "max": "510732.68",
          "histogram": [
           {
            "bin_start": -618.13,
            "bin_end": 50516.951,
            "count": 2
           },
           {
            "bin_start": 50516.951,
            "bin_end": 101652.03199999999,
            "count": 3
           },
           {
            "bin_start": 101652.03199999999,
            "bin_end": 152787.11299999998,
            "count": 2
           },
           {
            "bin_start": 152787.11299999998,
            "bin_end": 203922.194,
            "count": 0
           },
           {
            "bin_start": 203922.194,
            "bin_end": 255057.275,
            "count": 0
           },
           {
            "bin_start": 255057.275,
            "bin_end": 306192.35599999997,
            "count": 0
           },
           {
            "bin_start": 306192.35599999997,
            "bin_end": 357327.437,
            "count": 0
           },
           {
            "bin_start": 357327.437,
            "bin_end": 408462.518,
            "count": 0
           },
           {
            "bin_start": 408462.518,
            "bin_end": 459597.599,
            "count": 0
           },
           {
            "bin_start": 459597.599,
            "bin_end": 510732.68,
            "count": 1
           }
          ]
         }
        },
        {
         "name": "Year",
         "dtype": "float64",
         "stats": {
          "unique_count": 6,
          "nan_count": 0,
          "min": "0.8158247320316702",
          "max": "112495.0",
          "histogram": [
           {
            "bin_start": 0.8158247320316702,
            "bin_end": 11250.234242258828,
            "count": 7
           },
           {
            "bin_start": 11250.234242258828,
            "bin_end": 22499.652659785625,
            "count": 0
           },
           {
            "bin_start": 22499.652659785625,
            "bin_end": 33749.07107731242,
            "count": 0
           },
           {
            "bin_start": 33749.07107731242,
            "bin_end": 44998.48949483922,
            "count": 0
           },
           {
            "bin_start": 44998.48949483922,
            "bin_end": 56247.90791236601,
            "count": 0
           },
           {
            "bin_start": 56247.90791236601,
            "bin_end": 67497.32632989282,
            "count": 0
           },
           {
            "bin_start": 67497.32632989282,
            "bin_end": 78746.74474741961,
            "count": 0
           },
           {
            "bin_start": 78746.74474741961,
            "bin_end": 89996.16316494641,
            "count": 0
           },
           {
            "bin_start": 89996.16316494641,
            "bin_end": 101245.58158247321,
            "count": 0
           },
           {
            "bin_start": 101245.58158247321,
            "bin_end": 112495,
            "count": 1
           }
          ]
         }
        },
        {
         "name": "Notes",
         "dtype": "float64",
         "stats": {
          "unique_count": 1,
          "nan_count": 7,
          "min": "0.0",
          "max": "0.0",
          "histogram": [
           {
            "bin_start": -0.5,
            "bin_end": -0.4,
            "count": 0
           },
           {
            "bin_start": -0.4,
            "bin_end": -0.3,
            "count": 0
           },
           {
            "bin_start": -0.3,
            "bin_end": -0.19999999999999996,
            "count": 0
           },
           {
            "bin_start": -0.19999999999999996,
            "bin_end": -0.09999999999999998,
            "count": 0
           },
           {
            "bin_start": -0.09999999999999998,
            "bin_end": 0,
            "count": 0
           },
           {
            "bin_start": 0,
            "bin_end": 0.10000000000000009,
            "count": 1
           },
           {
            "bin_start": 0.10000000000000009,
            "bin_end": 0.20000000000000007,
            "count": 0
           },
           {
            "bin_start": 0.20000000000000007,
            "bin_end": 0.30000000000000004,
            "count": 0
           },
           {
            "bin_start": 0.30000000000000004,
            "bin_end": 0.4,
            "count": 0
           },
           {
            "bin_start": 0.4,
            "bin_end": 0.5,
            "count": 0
           }
          ]
         }
        },
        {
         "name": "Status",
         "dtype": "float64",
         "stats": {
          "unique_count": 1,
          "nan_count": 7,
          "min": "0.0",
          "max": "0.0",
          "histogram": [
           {
            "bin_start": -0.5,
            "bin_end": -0.4,
            "count": 0
           },
           {
            "bin_start": -0.4,
            "bin_end": -0.3,
            "count": 0
           },
           {
            "bin_start": -0.3,
            "bin_end": -0.19999999999999996,
            "count": 0
           },
           {
            "bin_start": -0.19999999999999996,
            "bin_end": -0.09999999999999998,
            "count": 0
           },
           {
            "bin_start": -0.09999999999999998,
            "bin_end": 0,
            "count": 0
           },
           {
            "bin_start": 0,
            "bin_end": 0.10000000000000009,
            "count": 1
           },
           {
            "bin_start": 0.10000000000000009,
            "bin_end": 0.20000000000000007,
            "count": 0
           },
           {
            "bin_start": 0.20000000000000007,
            "bin_end": 0.30000000000000004,
            "count": 0
           },
           {
            "bin_start": 0.30000000000000004,
            "bin_end": 0.4,
            "count": 0
           },
           {
            "bin_start": 0.4,
            "bin_end": 0.5,
            "count": 0
           }
          ]
         }
        },
        {
         "name": "Salario Total",
         "dtype": "float64",
         "stats": {
          "unique_count": 8,
          "nan_count": 0,
          "min": "-1236.26",
          "max": "982685.3200000001",
          "histogram": [
           {
            "bin_start": -1236.26,
            "bin_end": 97155.89800000002,
            "count": 2
           },
           {
            "bin_start": 97155.89800000002,
            "bin_end": 195548.056,
            "count": 4
           },
           {
            "bin_start": 195548.056,
            "bin_end": 293940.21400000004,
            "count": 1
           },
           {
            "bin_start": 293940.21400000004,
            "bin_end": 392332.37200000003,
            "count": 0
           },
           {
            "bin_start": 392332.37200000003,
            "bin_end": 490724.53,
            "count": 0
           },
           {
            "bin_start": 490724.53,
            "bin_end": 589116.6880000001,
            "count": 0
           },
           {
            "bin_start": 589116.6880000001,
            "bin_end": 687508.846,
            "count": 0
           },
           {
            "bin_start": 687508.846,
            "bin_end": 785901.0040000001,
            "count": 0
           },
           {
            "bin_start": 785901.0040000001,
            "bin_end": 884293.1620000001,
            "count": 0
           },
           {
            "bin_start": 884293.1620000001,
            "bin_end": 982685.3200000001,
            "count": 1
           }
          ]
         }
        },
        {
         "name": "_deepnote_index_column",
         "dtype": "object"
        }
       ],
       "rows": [
        {
         "Id": 112495,
         "BasePay": 111886,
         "OvertimePay": 112491,
         "OtherPay": 112491,
         "Benefits": 112491,
         "TotalPay": 112495,
         "TotalPayBenefits": 112495,
         "Year": 112495,
         "Notes": 0,
         "Status": 0,
         "Salario Total": 112495,
         "_deepnote_index_column": "count"
        },
        {
         "Id": 92407,
         "BasePay": 67207.55842464652,
         "OvertimePay": 5238.027995928563,
         "OtherPay": 3658.95221226587,
         "Benefits": 25007.89315082985,
         "TotalPay": 75740.38919507533,
         "TotalPayBenefits": 100747.39313685054,
         "Year": 2013.0120627583449,
         "Notes": "nan",
         "Status": "nan",
         "Salario Total": 176487.78233192588,
         "_deepnote_index_column": "mean"
        },
        {
         "Id": 32474.65360349001,
         "BasePay": 43417.689462639966,
         "OvertimePay": 11739.170478951968,
         "OtherPay": 8087.4522171663475,
         "Benefits": 15402.215857867077,
         "TotalPay": 51412.01610493563,
         "TotalPayBenefits": 65426.7060832127,
         "Year": 0.8158247320316702,
         "Notes": "nan",
         "Status": "nan",
         "Salario Total": 116663.86108386096,
         "_deepnote_index_column": "std"
        },
        {
         "Id": 36160,
         "BasePay": -166.01,
         "OvertimePay": -0.01,
         "OtherPay": -7058.59,
         "Benefits": -33.89,
         "TotalPay": -618.13,
         "TotalPayBenefits": -618.13,
         "Year": 2012,
         "Notes": "nan",
         "Status": "nan",
         "Salario Total": -1236.26,
         "_deepnote_index_column": "min"
        },
        {
         "Id": 64283.5,
         "BasePay": 33644.4275,
         "OvertimePay": 0,
         "OtherPay": 0,
         "Benefits": 11535.395,
         "TotalPay": 35946.149999999994,
         "TotalPayBenefits": 47758.185,
         "Year": 2012,
         "Notes": "nan",
         "Status": "nan",
         "Salario Total": 83840,
         "_deepnote_index_column": "25%"
        },
        {
         "Id": 92407,
         "BasePay": 65547.035,
         "OvertimePay": 0,
         "OtherPay": 819.01,
         "Benefits": 28628.62,
         "TotalPay": 72363.75,
         "TotalPayBenefits": 101639.85,
         "Year": 2013,
         "Notes": "nan",
         "Status": "nan",
         "Salario Total": 174184.32,
         "_deepnote_index_column": "50%"
        },
        {
         "Id": 120530.5,
         "BasePay": 95229.03,
         "OvertimePay": 4815.27,
         "OtherPay": 4299.505,
         "Benefits": 35566.854999999996,
         "TotalPay": 107203.07,
         "TotalPayBenefits": 142628.07,
         "Year": 2014,
         "Notes": "nan",
         "Status": "nan",
         "Salario Total": 249912.58000000002,
         "_deepnote_index_column": "75%"
        },
        {
         "Id": 148654,
         "BasePay": 319275.01,
         "OvertimePay": 220909.48,
         "OtherPay": 342802.63,
         "Benefits": 96570.66,
         "TotalPay": 471952.64,
         "TotalPayBenefits": 510732.68,
         "Year": 2014,
         "Notes": "nan",
         "Status": "nan",
         "Salario Total": 982685.3200000001,
         "_deepnote_index_column": "max"
        }
       ]
      },
      "text/plain": "                  Id        BasePay    OvertimePay       OtherPay  \\\ncount  112495.000000  111886.000000  112491.000000  112491.000000   \nmean    92407.000000   67207.558425    5238.027996    3658.952212   \nstd     32474.653603   43417.689463   11739.170479    8087.452217   \nmin     36160.000000    -166.010000      -0.010000   -7058.590000   \n25%     64283.500000   33644.427500       0.000000       0.000000   \n50%     92407.000000   65547.035000       0.000000     819.010000   \n75%    120530.500000   95229.030000    4815.270000    4299.505000   \nmax    148654.000000  319275.010000  220909.480000  342802.630000   \n\n            Benefits       TotalPay  TotalPayBenefits           Year  Notes  \\\ncount  112491.000000  112495.000000     112495.000000  112495.000000    0.0   \nmean    25007.893151   75740.389195     100747.393137    2013.012063    NaN   \nstd     15402.215858   51412.016105      65426.706083       0.815825    NaN   \nmin       -33.890000    -618.130000       -618.130000    2012.000000    NaN   \n25%     11535.395000   35946.150000      47758.185000    2012.000000    NaN   \n50%     28628.620000   72363.750000     101639.850000    2013.000000    NaN   \n75%     35566.855000  107203.070000     142628.070000    2014.000000    NaN   \nmax     96570.660000  471952.640000     510732.680000    2014.000000    NaN   \n\n       Status  Salario Total  \ncount     0.0  112495.000000  \nmean      NaN  176487.782332  \nstd       NaN  116663.861084  \nmin       NaN   -1236.260000  \n25%       NaN   83840.000000  \n50%       NaN  174184.320000  \n75%       NaN  249912.580000  \nmax       NaN  982685.320000  ",
      "text/html": "<div>\n<style scoped>\n    .dataframe tbody tr th:only-of-type {\n        vertical-align: middle;\n    }\n\n    .dataframe tbody tr th {\n        vertical-align: top;\n    }\n\n    .dataframe thead th {\n        text-align: right;\n    }\n</style>\n<table border=\"1\" class=\"dataframe\">\n  <thead>\n    <tr style=\"text-align: right;\">\n      <th></th>\n      <th>Id</th>\n      <th>BasePay</th>\n      <th>OvertimePay</th>\n      <th>OtherPay</th>\n      <th>Benefits</th>\n      <th>TotalPay</th>\n      <th>TotalPayBenefits</th>\n      <th>Year</th>\n      <th>Notes</th>\n      <th>Status</th>\n      <th>Salario Total</th>\n    </tr>\n  </thead>\n  <tbody>\n    <tr>\n      <th>count</th>\n      <td>112495.000000</td>\n      <td>111886.000000</td>\n      <td>112491.000000</td>\n      <td>112491.000000</td>\n      <td>112491.000000</td>\n      <td>112495.000000</td>\n      <td>112495.000000</td>\n      <td>112495.000000</td>\n      <td>0.0</td>\n      <td>0.0</td>\n      <td>112495.000000</td>\n    </tr>\n    <tr>\n      <th>mean</th>\n      <td>92407.000000</td>\n      <td>67207.558425</td>\n      <td>5238.027996</td>\n      <td>3658.952212</td>\n      <td>25007.893151</td>\n      <td>75740.389195</td>\n      <td>100747.393137</td>\n      <td>2013.012063</td>\n      <td>NaN</td>\n      <td>NaN</td>\n      <td>176487.782332</td>\n    </tr>\n    <tr>\n      <th>std</th>\n      <td>32474.653603</td>\n      <td>43417.689463</td>\n      <td>11739.170479</td>\n      <td>8087.452217</td>\n      <td>15402.215858</td>\n      <td>51412.016105</td>\n      <td>65426.706083</td>\n      <td>0.815825</td>\n      <td>NaN</td>\n      <td>NaN</td>\n      <td>116663.861084</td>\n    </tr>\n    <tr>\n      <th>min</th>\n      <td>36160.000000</td>\n      <td>-166.010000</td>\n      <td>-0.010000</td>\n      <td>-7058.590000</td>\n      <td>-33.890000</td>\n      <td>-618.130000</td>\n      <td>-618.130000</td>\n      <td>2012.000000</td>\n      <td>NaN</td>\n      <td>NaN</td>\n      <td>-1236.260000</td>\n    </tr>\n    <tr>\n      <th>25%</th>\n      <td>64283.500000</td>\n      <td>33644.427500</td>\n      <td>0.000000</td>\n      <td>0.000000</td>\n      <td>11535.395000</td>\n      <td>35946.150000</td>\n      <td>47758.185000</td>\n      <td>2012.000000</td>\n      <td>NaN</td>\n      <td>NaN</td>\n      <td>83840.000000</td>\n    </tr>\n    <tr>\n      <th>50%</th>\n      <td>92407.000000</td>\n      <td>65547.035000</td>\n      <td>0.000000</td>\n      <td>819.010000</td>\n      <td>28628.620000</td>\n      <td>72363.750000</td>\n      <td>101639.850000</td>\n      <td>2013.000000</td>\n      <td>NaN</td>\n      <td>NaN</td>\n      <td>174184.320000</td>\n    </tr>\n    <tr>\n      <th>75%</th>\n      <td>120530.500000</td>\n      <td>95229.030000</td>\n      <td>4815.270000</td>\n      <td>4299.505000</td>\n      <td>35566.855000</td>\n      <td>107203.070000</td>\n      <td>142628.070000</td>\n      <td>2014.000000</td>\n      <td>NaN</td>\n      <td>NaN</td>\n      <td>249912.580000</td>\n    </tr>\n    <tr>\n      <th>max</th>\n      <td>148654.000000</td>\n      <td>319275.010000</td>\n      <td>220909.480000</td>\n      <td>342802.630000</td>\n      <td>96570.660000</td>\n      <td>471952.640000</td>\n      <td>510732.680000</td>\n      <td>2014.000000</td>\n      <td>NaN</td>\n      <td>NaN</td>\n      <td>982685.320000</td>\n    </tr>\n  </tbody>\n</table>\n</div>"
     },
     "metadata": {}
    }
   ]
  },
  {
   "cell_type": "markdown",
   "source": "**Quantos cargos exclusivos existem?**",
   "metadata": {
    "cell_id": "00026-71d78b5a-4fc7-4045-b3f5-d7cb94f25313",
    "deepnote_cell_type": "markdown",
    "deepnote_cell_height": 51.56666564941406
   }
  },
  {
   "cell_type": "code",
   "metadata": {
    "cell_id": "00027-4364842e-9e90-40ae-8db5-1ad1d788d516",
    "deepnote_to_be_reexecuted": false,
    "source_hash": "3ac51487",
    "execution_start": 1654613578414,
    "execution_millis": 16,
    "deepnote_cell_type": "code",
    "deepnote_cell_height": 393.33331298828125
   },
   "source": "sal.head()",
   "execution_count": null,
   "outputs": [
    {
     "output_type": "execute_result",
     "execution_count": 13,
     "data": {
      "application/vnd.deepnote.dataframe.v3+json": {
       "column_count": 14,
       "row_count": 5,
       "columns": [
        {
         "name": "Id",
         "dtype": "int64",
         "stats": {
          "unique_count": 5,
          "nan_count": 0,
          "min": "1",
          "max": "5",
          "histogram": [
           {
            "bin_start": 1,
            "bin_end": 1.4,
            "count": 1
           },
           {
            "bin_start": 1.4,
            "bin_end": 1.8,
            "count": 0
           },
           {
            "bin_start": 1.8,
            "bin_end": 2.2,
            "count": 1
           },
           {
            "bin_start": 2.2,
            "bin_end": 2.6,
            "count": 0
           },
           {
            "bin_start": 2.6,
            "bin_end": 3,
            "count": 0
           },
           {
            "bin_start": 3,
            "bin_end": 3.4000000000000004,
            "count": 1
           },
           {
            "bin_start": 3.4000000000000004,
            "bin_end": 3.8000000000000003,
            "count": 0
           },
           {
            "bin_start": 3.8000000000000003,
            "bin_end": 4.2,
            "count": 1
           },
           {
            "bin_start": 4.2,
            "bin_end": 4.6,
            "count": 0
           },
           {
            "bin_start": 4.6,
            "bin_end": 5,
            "count": 1
           }
          ]
         }
        },
        {
         "name": "EmployeeName",
         "dtype": "object",
         "stats": {
          "unique_count": 5,
          "nan_count": 0,
          "categories": [
           {
            "name": "NATHANIEL FORD",
            "count": 1
           },
           {
            "name": "GARY JIMENEZ",
            "count": 1
           },
           {
            "name": "3 others",
            "count": 3
           }
          ]
         }
        },
        {
         "name": "JobTitle",
         "dtype": "object",
         "stats": {
          "unique_count": 4,
          "nan_count": 0,
          "categories": [
           {
            "name": "CAPTAIN III (POLICE DEPARTMENT)",
            "count": 2
           },
           {
            "name": "GENERAL MANAGER-METROPOLITAN TRANSIT AUTHORITY",
            "count": 1
           },
           {
            "name": "2 others",
            "count": 2
           }
          ]
         }
        },
        {
         "name": "BasePay",
         "dtype": "float64",
         "stats": {
          "unique_count": 5,
          "nan_count": 0,
          "min": "77916.0",
          "max": "212739.13",
          "histogram": [
           {
            "bin_start": 77916,
            "bin_end": 91398.313,
            "count": 1
           },
           {
            "bin_start": 91398.313,
            "bin_end": 104880.626,
            "count": 0
           },
           {
            "bin_start": 104880.626,
            "bin_end": 118362.939,
            "count": 0
           },
           {
            "bin_start": 118362.939,
            "bin_end": 131845.252,
            "count": 0
           },
           {
            "bin_start": 131845.252,
            "bin_end": 145327.565,
            "count": 1
           },
           {
            "bin_start": 145327.565,
            "bin_end": 158809.878,
            "count": 1
           },
           {
            "bin_start": 158809.878,
            "bin_end": 172292.191,
            "count": 1
           },
           {
            "bin_start": 172292.191,
            "bin_end": 185774.50400000002,
            "count": 0
           },
           {
            "bin_start": 185774.50400000002,
            "bin_end": 199256.81699999998,
            "count": 0
           },
           {
            "bin_start": 199256.81699999998,
            "bin_end": 212739.13,
            "count": 1
           }
          ]
         }
        },
        {
         "name": "OvertimePay",
         "dtype": "float64",
         "stats": {
          "unique_count": 5,
          "nan_count": 0,
          "min": "0.0",
          "max": "245131.88",
          "histogram": [
           {
            "bin_start": 0,
            "bin_end": 24513.188000000002,
            "count": 2
           },
           {
            "bin_start": 24513.188000000002,
            "bin_end": 49026.376000000004,
            "count": 0
           },
           {
            "bin_start": 49026.376000000004,
            "bin_end": 73539.56400000001,
            "count": 1
           },
           {
            "bin_start": 73539.56400000001,
            "bin_end": 98052.75200000001,
            "count": 0
           },
           {
            "bin_start": 98052.75200000001,
            "bin_end": 122565.94,
            "count": 1
           },
           {
            "bin_start": 122565.94,
            "bin_end": 147079.12800000003,
            "count": 0
           },
           {
            "bin_start": 147079.12800000003,
            "bin_end": 171592.31600000002,
            "count": 0
           },
           {
            "bin_start": 171592.31600000002,
            "bin_end": 196105.50400000002,
            "count": 0
           },
           {
            "bin_start": 196105.50400000002,
            "bin_end": 220618.692,
            "count": 0
           },
           {
            "bin_start": 220618.692,
            "bin_end": 245131.88,
            "count": 1
           }
          ]
         }
        },
        {
         "name": "OtherPay",
         "dtype": "float64",
         "stats": {
          "unique_count": 5,
          "nan_count": 0,
          "min": "16452.6",
          "max": "400184.25",
          "histogram": [
           {
            "bin_start": 16452.6,
            "bin_end": 54825.765,
            "count": 1
           },
           {
            "bin_start": 54825.765,
            "bin_end": 93198.93,
            "count": 0
           },
           {
            "bin_start": 93198.93,
            "bin_end": 131572.095,
            "count": 0
           },
           {
            "bin_start": 131572.095,
            "bin_end": 169945.26,
            "count": 1
           },
           {
            "bin_start": 169945.26,
            "bin_end": 208318.42500000002,
            "count": 2
           },
           {
            "bin_start": 208318.42500000002,
            "bin_end": 246691.59,
            "count": 0
           },
           {
            "bin_start": 246691.59,
            "bin_end": 285064.755,
            "count": 0
           },
           {
            "bin_start": 285064.755,
            "bin_end": 323437.92,
            "count": 0
           },
           {
            "bin_start": 323437.92,
            "bin_end": 361811.08499999996,
            "count": 0
           },
           {
            "bin_start": 361811.08499999996,
            "bin_end": 400184.25,
            "count": 1
           }
          ]
         }
        },
        {
         "name": "Benefits",
         "dtype": "float64",
         "stats": {
          "unique_count": 0,
          "nan_count": 5,
          "min": null,
          "max": null,
          "histogram": [
           {
            "bin_start": 0,
            "bin_end": 0.1,
            "count": 0
           },
           {
            "bin_start": 0.1,
            "bin_end": 0.2,
            "count": 0
           },
           {
            "bin_start": 0.2,
            "bin_end": 0.30000000000000004,
            "count": 0
           },
           {
            "bin_start": 0.30000000000000004,
            "bin_end": 0.4,
            "count": 0
           },
           {
            "bin_start": 0.4,
            "bin_end": 0.5,
            "count": 0
           },
           {
            "bin_start": 0.5,
            "bin_end": 0.6000000000000001,
            "count": 0
           },
           {
            "bin_start": 0.6000000000000001,
            "bin_end": 0.7000000000000001,
            "count": 0
           },
           {
            "bin_start": 0.7000000000000001,
            "bin_end": 0.8,
            "count": 0
           },
           {
            "bin_start": 0.8,
            "bin_end": 0.9,
            "count": 0
           },
           {
            "bin_start": 0.9,
            "bin_end": 1,
            "count": 0
           }
          ]
         }
        },
        {
         "name": "TotalPay",
         "dtype": "float64",
         "stats": {
          "unique_count": 5,
          "nan_count": 0,
          "min": "326373.19",
          "max": "567595.43",
          "histogram": [
           {
            "bin_start": 326373.19,
            "bin_end": 350495.414,
            "count": 3
           },
           {
            "bin_start": 350495.414,
            "bin_end": 374617.63800000004,
            "count": 0
           },
           {
            "bin_start": 374617.63800000004,
            "bin_end": 398739.862,
            "count": 0
           },
           {
            "bin_start": 398739.862,
            "bin_end": 422862.086,
            "count": 0
           },
           {
            "bin_start": 422862.086,
            "bin_end": 446984.31000000006,
            "count": 0
           },
           {
            "bin_start": 446984.31000000006,
            "bin_end": 471106.53400000004,
            "count": 0
           },
           {
            "bin_start": 471106.53400000004,
            "bin_end": 495228.75800000003,
            "count": 0
           },
           {
            "bin_start": 495228.75800000003,
            "bin_end": 519350.9820000001,
            "count": 0
           },
           {
            "bin_start": 519350.9820000001,
            "bin_end": 543473.206,
            "count": 1
           },
           {
            "bin_start": 543473.206,
            "bin_end": 567595.43,
            "count": 1
           }
          ]
         }
        },
        {
         "name": "TotalPayBenefits",
         "dtype": "float64",
         "stats": {
          "unique_count": 5,
          "nan_count": 0,
          "min": "326373.19",
          "max": "567595.43",
          "histogram": [
           {
            "bin_start": 326373.19,
            "bin_end": 350495.414,
            "count": 3
           },
           {
            "bin_start": 350495.414,
            "bin_end": 374617.63800000004,
            "count": 0
           },
           {
            "bin_start": 374617.63800000004,
            "bin_end": 398739.862,
            "count": 0
           },
           {
            "bin_start": 398739.862,
            "bin_end": 422862.086,
            "count": 0
           },
           {
            "bin_start": 422862.086,
            "bin_end": 446984.31000000006,
            "count": 0
           },
           {
            "bin_start": 446984.31000000006,
            "bin_end": 471106.53400000004,
            "count": 0
           },
           {
            "bin_start": 471106.53400000004,
            "bin_end": 495228.75800000003,
            "count": 0
           },
           {
            "bin_start": 495228.75800000003,
            "bin_end": 519350.9820000001,
            "count": 0
           },
           {
            "bin_start": 519350.9820000001,
            "bin_end": 543473.206,
            "count": 1
           },
           {
            "bin_start": 543473.206,
            "bin_end": 567595.43,
            "count": 1
           }
          ]
         }
        },
        {
         "name": "Year",
         "dtype": "int64",
         "stats": {
          "unique_count": 1,
          "nan_count": 0,
          "min": "2011",
          "max": "2011",
          "histogram": [
           {
            "bin_start": 2010.5,
            "bin_end": 2010.6,
            "count": 0
           },
           {
            "bin_start": 2010.6,
            "bin_end": 2010.7,
            "count": 0
           },
           {
            "bin_start": 2010.7,
            "bin_end": 2010.8,
            "count": 0
           },
           {
            "bin_start": 2010.8,
            "bin_end": 2010.9,
            "count": 0
           },
           {
            "bin_start": 2010.9,
            "bin_end": 2011,
            "count": 0
           },
           {
            "bin_start": 2011,
            "bin_end": 2011.1,
            "count": 5
           },
           {
            "bin_start": 2011.1,
            "bin_end": 2011.2,
            "count": 0
           },
           {
            "bin_start": 2011.2,
            "bin_end": 2011.3,
            "count": 0
           },
           {
            "bin_start": 2011.3,
            "bin_end": 2011.4,
            "count": 0
           },
           {
            "bin_start": 2011.4,
            "bin_end": 2011.5,
            "count": 0
           }
          ]
         }
        },
        {
         "name": "Notes",
         "dtype": "float64",
         "stats": {
          "unique_count": 0,
          "nan_count": 5,
          "min": null,
          "max": null,
          "histogram": [
           {
            "bin_start": 0,
            "bin_end": 0.1,
            "count": 0
           },
           {
            "bin_start": 0.1,
            "bin_end": 0.2,
            "count": 0
           },
           {
            "bin_start": 0.2,
            "bin_end": 0.30000000000000004,
            "count": 0
           },
           {
            "bin_start": 0.30000000000000004,
            "bin_end": 0.4,
            "count": 0
           },
           {
            "bin_start": 0.4,
            "bin_end": 0.5,
            "count": 0
           },
           {
            "bin_start": 0.5,
            "bin_end": 0.6000000000000001,
            "count": 0
           },
           {
            "bin_start": 0.6000000000000001,
            "bin_end": 0.7000000000000001,
            "count": 0
           },
           {
            "bin_start": 0.7000000000000001,
            "bin_end": 0.8,
            "count": 0
           },
           {
            "bin_start": 0.8,
            "bin_end": 0.9,
            "count": 0
           },
           {
            "bin_start": 0.9,
            "bin_end": 1,
            "count": 0
           }
          ]
         }
        },
        {
         "name": "Agency",
         "dtype": "object",
         "stats": {
          "unique_count": 1,
          "nan_count": 0,
          "categories": [
           {
            "name": "San Francisco",
            "count": 5
           }
          ]
         }
        },
        {
         "name": "Status",
         "dtype": "float64",
         "stats": {
          "unique_count": 0,
          "nan_count": 5,
          "min": null,
          "max": null,
          "histogram": [
           {
            "bin_start": 0,
            "bin_end": 0.1,
            "count": 0
           },
           {
            "bin_start": 0.1,
            "bin_end": 0.2,
            "count": 0
           },
           {
            "bin_start": 0.2,
            "bin_end": 0.30000000000000004,
            "count": 0
           },
           {
            "bin_start": 0.30000000000000004,
            "bin_end": 0.4,
            "count": 0
           },
           {
            "bin_start": 0.4,
            "bin_end": 0.5,
            "count": 0
           },
           {
            "bin_start": 0.5,
            "bin_end": 0.6000000000000001,
            "count": 0
           },
           {
            "bin_start": 0.6000000000000001,
            "bin_end": 0.7000000000000001,
            "count": 0
           },
           {
            "bin_start": 0.7000000000000001,
            "bin_end": 0.8,
            "count": 0
           },
           {
            "bin_start": 0.8,
            "bin_end": 0.9,
            "count": 0
           },
           {
            "bin_start": 0.9,
            "bin_end": 1,
            "count": 0
           }
          ]
         }
        },
        {
         "name": "Salario Total",
         "dtype": "float64",
         "stats": {
          "unique_count": 5,
          "nan_count": 0,
          "min": "652746.38",
          "max": "1135190.86",
          "histogram": [
           {
            "bin_start": 652746.38,
            "bin_end": 700990.828,
            "count": 3
           },
           {
            "bin_start": 700990.828,
            "bin_end": 749235.2760000001,
            "count": 0
           },
           {
            "bin_start": 749235.2760000001,
            "bin_end": 797479.724,
            "count": 0
           },
           {
            "bin_start": 797479.724,
            "bin_end": 845724.172,
            "count": 0
           },
           {
            "bin_start": 845724.172,
            "bin_end": 893968.6200000001,
            "count": 0
           },
           {
            "bin_start": 893968.6200000001,
            "bin_end": 942213.0680000001,
            "count": 0
           },
           {
            "bin_start": 942213.0680000001,
            "bin_end": 990457.5160000001,
            "count": 0
           },
           {
            "bin_start": 990457.5160000001,
            "bin_end": 1038701.9640000002,
            "count": 0
           },
           {
            "bin_start": 1038701.9640000002,
            "bin_end": 1086946.412,
            "count": 1
           },
           {
            "bin_start": 1086946.412,
            "bin_end": 1135190.86,
            "count": 1
           }
          ]
         }
        },
        {
         "name": "_deepnote_index_column",
         "dtype": "int64"
        }
       ],
       "rows": [
        {
         "Id": 1,
         "EmployeeName": "NATHANIEL FORD",
         "JobTitle": "GENERAL MANAGER-METROPOLITAN TRANSIT AUTHORITY",
         "BasePay": 167411.18,
         "OvertimePay": 0,
         "OtherPay": 400184.25,
         "Benefits": "nan",
         "TotalPay": 567595.43,
         "TotalPayBenefits": 567595.43,
         "Year": 2011,
         "Notes": "nan",
         "Agency": "San Francisco",
         "Status": "nan",
         "Salario Total": 1135190.86,
         "_deepnote_index_column": 0
        },
        {
         "Id": 2,
         "EmployeeName": "GARY JIMENEZ",
         "JobTitle": "CAPTAIN III (POLICE DEPARTMENT)",
         "BasePay": 155966.02,
         "OvertimePay": 245131.88,
         "OtherPay": 137811.38,
         "Benefits": "nan",
         "TotalPay": 538909.28,
         "TotalPayBenefits": 538909.28,
         "Year": 2011,
         "Notes": "nan",
         "Agency": "San Francisco",
         "Status": "nan",
         "Salario Total": 1077818.56,
         "_deepnote_index_column": 1
        },
        {
         "Id": 3,
         "EmployeeName": "ALBERT PARDINI",
         "JobTitle": "CAPTAIN III (POLICE DEPARTMENT)",
         "BasePay": 212739.13,
         "OvertimePay": 106088.18,
         "OtherPay": 16452.6,
         "Benefits": "nan",
         "TotalPay": 335279.91,
         "TotalPayBenefits": 335279.91,
         "Year": 2011,
         "Notes": "nan",
         "Agency": "San Francisco",
         "Status": "nan",
         "Salario Total": 670559.82,
         "_deepnote_index_column": 2
        },
        {
         "Id": 4,
         "EmployeeName": "CHRISTOPHER CHONG",
         "JobTitle": "WIRE ROPE CABLE MAINTENANCE MECHANIC",
         "BasePay": 77916,
         "OvertimePay": 56120.71,
         "OtherPay": 198306.9,
         "Benefits": "nan",
         "TotalPay": 332343.61,
         "TotalPayBenefits": 332343.61,
         "Year": 2011,
         "Notes": "nan",
         "Agency": "San Francisco",
         "Status": "nan",
         "Salario Total": 664687.22,
         "_deepnote_index_column": 3
        },
        {
         "Id": 5,
         "EmployeeName": "PATRICK GARDNER",
         "JobTitle": "DEPUTY CHIEF OF DEPARTMENT,(FIRE DEPARTMENT)",
         "BasePay": 134401.6,
         "OvertimePay": 9737,
         "OtherPay": 182234.59,
         "Benefits": "nan",
         "TotalPay": 326373.19,
         "TotalPayBenefits": 326373.19,
         "Year": 2011,
         "Notes": "nan",
         "Agency": "San Francisco",
         "Status": "nan",
         "Salario Total": 652746.38,
         "_deepnote_index_column": 4
        }
       ]
      },
      "text/plain": "   Id       EmployeeName                                        JobTitle  \\\n0   1     NATHANIEL FORD  GENERAL MANAGER-METROPOLITAN TRANSIT AUTHORITY   \n1   2       GARY JIMENEZ                 CAPTAIN III (POLICE DEPARTMENT)   \n2   3     ALBERT PARDINI                 CAPTAIN III (POLICE DEPARTMENT)   \n3   4  CHRISTOPHER CHONG            WIRE ROPE CABLE MAINTENANCE MECHANIC   \n4   5    PATRICK GARDNER    DEPUTY CHIEF OF DEPARTMENT,(FIRE DEPARTMENT)   \n\n     BasePay  OvertimePay   OtherPay  Benefits   TotalPay  TotalPayBenefits  \\\n0  167411.18         0.00  400184.25       NaN  567595.43         567595.43   \n1  155966.02    245131.88  137811.38       NaN  538909.28         538909.28   \n2  212739.13    106088.18   16452.60       NaN  335279.91         335279.91   \n3   77916.00     56120.71  198306.90       NaN  332343.61         332343.61   \n4  134401.60      9737.00  182234.59       NaN  326373.19         326373.19   \n\n   Year  Notes         Agency  Status  Salario Total  \n0  2011    NaN  San Francisco     NaN     1135190.86  \n1  2011    NaN  San Francisco     NaN     1077818.56  \n2  2011    NaN  San Francisco     NaN      670559.82  \n3  2011    NaN  San Francisco     NaN      664687.22  \n4  2011    NaN  San Francisco     NaN      652746.38  ",
      "text/html": "<div>\n<style scoped>\n    .dataframe tbody tr th:only-of-type {\n        vertical-align: middle;\n    }\n\n    .dataframe tbody tr th {\n        vertical-align: top;\n    }\n\n    .dataframe thead th {\n        text-align: right;\n    }\n</style>\n<table border=\"1\" class=\"dataframe\">\n  <thead>\n    <tr style=\"text-align: right;\">\n      <th></th>\n      <th>Id</th>\n      <th>EmployeeName</th>\n      <th>JobTitle</th>\n      <th>BasePay</th>\n      <th>OvertimePay</th>\n      <th>OtherPay</th>\n      <th>Benefits</th>\n      <th>TotalPay</th>\n      <th>TotalPayBenefits</th>\n      <th>Year</th>\n      <th>Notes</th>\n      <th>Agency</th>\n      <th>Status</th>\n      <th>Salario Total</th>\n    </tr>\n  </thead>\n  <tbody>\n    <tr>\n      <th>0</th>\n      <td>1</td>\n      <td>NATHANIEL FORD</td>\n      <td>GENERAL MANAGER-METROPOLITAN TRANSIT AUTHORITY</td>\n      <td>167411.18</td>\n      <td>0.00</td>\n      <td>400184.25</td>\n      <td>NaN</td>\n      <td>567595.43</td>\n      <td>567595.43</td>\n      <td>2011</td>\n      <td>NaN</td>\n      <td>San Francisco</td>\n      <td>NaN</td>\n      <td>1135190.86</td>\n    </tr>\n    <tr>\n      <th>1</th>\n      <td>2</td>\n      <td>GARY JIMENEZ</td>\n      <td>CAPTAIN III (POLICE DEPARTMENT)</td>\n      <td>155966.02</td>\n      <td>245131.88</td>\n      <td>137811.38</td>\n      <td>NaN</td>\n      <td>538909.28</td>\n      <td>538909.28</td>\n      <td>2011</td>\n      <td>NaN</td>\n      <td>San Francisco</td>\n      <td>NaN</td>\n      <td>1077818.56</td>\n    </tr>\n    <tr>\n      <th>2</th>\n      <td>3</td>\n      <td>ALBERT PARDINI</td>\n      <td>CAPTAIN III (POLICE DEPARTMENT)</td>\n      <td>212739.13</td>\n      <td>106088.18</td>\n      <td>16452.60</td>\n      <td>NaN</td>\n      <td>335279.91</td>\n      <td>335279.91</td>\n      <td>2011</td>\n      <td>NaN</td>\n      <td>San Francisco</td>\n      <td>NaN</td>\n      <td>670559.82</td>\n    </tr>\n    <tr>\n      <th>3</th>\n      <td>4</td>\n      <td>CHRISTOPHER CHONG</td>\n      <td>WIRE ROPE CABLE MAINTENANCE MECHANIC</td>\n      <td>77916.00</td>\n      <td>56120.71</td>\n      <td>198306.90</td>\n      <td>NaN</td>\n      <td>332343.61</td>\n      <td>332343.61</td>\n      <td>2011</td>\n      <td>NaN</td>\n      <td>San Francisco</td>\n      <td>NaN</td>\n      <td>664687.22</td>\n    </tr>\n    <tr>\n      <th>4</th>\n      <td>5</td>\n      <td>PATRICK GARDNER</td>\n      <td>DEPUTY CHIEF OF DEPARTMENT,(FIRE DEPARTMENT)</td>\n      <td>134401.60</td>\n      <td>9737.00</td>\n      <td>182234.59</td>\n      <td>NaN</td>\n      <td>326373.19</td>\n      <td>326373.19</td>\n      <td>2011</td>\n      <td>NaN</td>\n      <td>San Francisco</td>\n      <td>NaN</td>\n      <td>652746.38</td>\n    </tr>\n  </tbody>\n</table>\n</div>"
     },
     "metadata": {}
    }
   ]
  },
  {
   "cell_type": "markdown",
   "source": "**Quais são as 5 profissões mais comuns?**",
   "metadata": {
    "cell_id": "00028-1a5ec86b-6ab9-49b6-a436-d4eaac6b5e02",
    "deepnote_cell_type": "markdown",
    "deepnote_cell_height": 51.56666564941406
   }
  },
  {
   "cell_type": "code",
   "metadata": {
    "cell_id": "00029-e206f0de-bad4-4b7a-a3f3-bc095e50e187",
    "owner_user_id": "f3b685db-82a0-4f74-9158-9e3d6de2c3bf",
    "deepnote_cell_type": "code",
    "deepnote_cell_height": 65.16667175292969
   },
   "source": "",
   "execution_count": null,
   "outputs": []
  },
  {
   "cell_type": "markdown",
   "source": "**Quantos cargos foram representados por apenas uma pessoa em 2013? (ou seja, cargos com apenas uma ocorrência em 2013?)**",
   "metadata": {
    "cell_id": "00030-9d1f0982-171b-44dc-958b-700e70f534ac",
    "deepnote_cell_type": "markdown",
    "deepnote_cell_height": 73.96665954589844
   }
  },
  {
   "cell_type": "code",
   "metadata": {
    "cell_id": "00031-18736d76-4788-4822-80d0-79fe79a7c553",
    "deepnote_cell_type": "code",
    "deepnote_cell_height": 65.16667175292969
   },
   "source": "",
   "execution_count": null,
   "outputs": []
  },
  {
   "cell_type": "markdown",
   "source": "**Quantas pessoas têm a palavra chefe em seu cargo?**",
   "metadata": {
    "cell_id": "00032-5bd386eb-4db2-465c-b9ad-9a52874e9542",
    "deepnote_cell_type": "markdown",
    "deepnote_cell_height": 51.56666564941406
   }
  },
  {
   "cell_type": "code",
   "metadata": {
    "cell_id": "00033-ddf782b0-89e0-4a93-8a65-099f2a550242",
    "deepnote_cell_type": "code",
    "deepnote_cell_height": 65.16667175292969
   },
   "source": "",
   "execution_count": null,
   "outputs": []
  },
  {
   "cell_type": "code",
   "metadata": {
    "cell_id": "00034-7c63ca64-f9fa-487b-9c1a-f394abe996b9",
    "deepnote_cell_type": "code",
    "deepnote_cell_height": 65.16667175292969
   },
   "source": "",
   "execution_count": null,
   "outputs": []
  },
  {
   "cell_type": "markdown",
   "source": "",
   "metadata": {
    "cell_id": "00035-49bf6244-0fd9-4002-9ab8-11d595b1de2e",
    "deepnote_cell_type": "markdown",
    "deepnote_cell_height": 45.16667175292969
   }
  },
  {
   "cell_type": "code",
   "metadata": {
    "cell_id": "00036-1e1ecb0a-f75e-4875-869b-efd3b0b9d891",
    "deepnote_cell_type": "code",
    "deepnote_cell_height": 65.16667175292969
   },
   "source": "",
   "execution_count": null,
   "outputs": []
  },
  {
   "cell_type": "code",
   "metadata": {
    "cell_id": "00037-87f94a30-6cc8-48ae-9d8c-2578d182e1bf",
    "deepnote_cell_type": "code",
    "deepnote_cell_height": 65.16667175292969
   },
   "source": "",
   "execution_count": null,
   "outputs": []
  },
  {
   "cell_type": "markdown",
   "source": "",
   "metadata": {
    "cell_id": "00038-aace65c1-cddb-44f2-ba40-09c458598493",
    "deepnote_cell_type": "markdown",
    "deepnote_cell_height": 45.16667175292969
   }
  },
  {
   "cell_type": "markdown",
   "source": "<a style='text-decoration:none;line-height:16px;display:flex;color:#5B5B62;padding:10px;justify-content:end;' href='https://deepnote.com?utm_source=created-in-deepnote-cell&projectId=31152f18-3036-40d1-92d9-59f0bbdc0756' target=\"_blank\">\n<img alt='Created in deepnote.com' style='display:inline;max-height:16px;margin:0px;margin-right:7.5px;' src='data:image/svg+xml;base64,PD94bWwgdmVyc2lvbj0iMS4wIiBlbmNvZGluZz0iVVRGLTgiPz4KPHN2ZyB3aWR0aD0iODBweCIgaGVpZ2h0PSI4MHB4IiB2aWV3Qm94PSIwIDAgODAgODAiIHZlcnNpb249IjEuMSIgeG1sbnM9Imh0dHA6Ly93d3cudzMub3JnLzIwMDAvc3ZnIiB4bWxuczp4bGluaz0iaHR0cDovL3d3dy53My5vcmcvMTk5OS94bGluayI+CiAgICA8IS0tIEdlbmVyYXRvcjogU2tldGNoIDU0LjEgKDc2NDkwKSAtIGh0dHBzOi8vc2tldGNoYXBwLmNvbSAtLT4KICAgIDx0aXRsZT5Hcm91cCAzPC90aXRsZT4KICAgIDxkZXNjPkNyZWF0ZWQgd2l0aCBTa2V0Y2guPC9kZXNjPgogICAgPGcgaWQ9IkxhbmRpbmciIHN0cm9rZT0ibm9uZSIgc3Ryb2tlLXdpZHRoPSIxIiBmaWxsPSJub25lIiBmaWxsLXJ1bGU9ImV2ZW5vZGQiPgogICAgICAgIDxnIGlkPSJBcnRib2FyZCIgdHJhbnNmb3JtPSJ0cmFuc2xhdGUoLTEyMzUuMDAwMDAwLCAtNzkuMDAwMDAwKSI+CiAgICAgICAgICAgIDxnIGlkPSJHcm91cC0zIiB0cmFuc2Zvcm09InRyYW5zbGF0ZSgxMjM1LjAwMDAwMCwgNzkuMDAwMDAwKSI+CiAgICAgICAgICAgICAgICA8cG9seWdvbiBpZD0iUGF0aC0yMCIgZmlsbD0iIzAyNjVCNCIgcG9pbnRzPSIyLjM3NjIzNzYyIDgwIDM4LjA0NzY2NjcgODAgNTcuODIxNzgyMiA3My44MDU3NTkyIDU3LjgyMTc4MjIgMzIuNzU5MjczOSAzOS4xNDAyMjc4IDMxLjY4MzE2ODMiPjwvcG9seWdvbj4KICAgICAgICAgICAgICAgIDxwYXRoIGQ9Ik0zNS4wMDc3MTgsODAgQzQyLjkwNjIwMDcsNzYuNDU0OTM1OCA0Ny41NjQ5MTY3LDcxLjU0MjI2NzEgNDguOTgzODY2LDY1LjI2MTk5MzkgQzUxLjExMjI4OTksNTUuODQxNTg0MiA0MS42NzcxNzk1LDQ5LjIxMjIyODQgMjUuNjIzOTg0Niw0OS4yMTIyMjg0IEMyNS40ODQ5Mjg5LDQ5LjEyNjg0NDggMjkuODI2MTI5Niw0My4yODM4MjQ4IDM4LjY0NzU4NjksMzEuNjgzMTY4MyBMNzIuODcxMjg3MSwzMi41NTQ0MjUgTDY1LjI4MDk3Myw2Ny42NzYzNDIxIEw1MS4xMTIyODk5LDc3LjM3NjE0NCBMMzUuMDA3NzE4LDgwIFoiIGlkPSJQYXRoLTIyIiBmaWxsPSIjMDAyODY4Ij48L3BhdGg+CiAgICAgICAgICAgICAgICA8cGF0aCBkPSJNMCwzNy43MzA0NDA1IEwyNy4xMTQ1MzcsMC4yNTcxMTE0MzYgQzYyLjM3MTUxMjMsLTEuOTkwNzE3MDEgODAsMTAuNTAwMzkyNyA4MCwzNy43MzA0NDA1IEM4MCw2NC45NjA0ODgyIDY0Ljc3NjUwMzgsNzkuMDUwMzQxNCAzNC4zMjk1MTEzLDgwIEM0Ny4wNTUzNDg5LDc3LjU2NzA4MDggNTMuNDE4MjY3Nyw3MC4zMTM2MTAzIDUzLjQxODI2NzcsNTguMjM5NTg4NSBDNTMuNDE4MjY3Nyw0MC4xMjg1NTU3IDM2LjMwMzk1NDQsMzcuNzMwNDQwNSAyNS4yMjc0MTcsMzcuNzMwNDQwNSBDMTcuODQzMDU4NiwzNy43MzA0NDA1IDkuNDMzOTE5NjYsMzcuNzMwNDQwNSAwLDM3LjczMDQ0MDUgWiIgaWQ9IlBhdGgtMTkiIGZpbGw9IiMzNzkzRUYiPjwvcGF0aD4KICAgICAgICAgICAgPC9nPgogICAgICAgIDwvZz4KICAgIDwvZz4KPC9zdmc+' > </img>\nCreated in <span style='font-weight:600;margin-left:4px;'>Deepnote</span></a>",
   "metadata": {
    "tags": [],
    "created_in_deepnote_cell": true,
    "deepnote_cell_type": "markdown"
   }
  }
 ],
 "nbformat": 4,
 "nbformat_minor": 1,
 "metadata": {
  "hide_input": false,
  "kernelspec": {
   "display_name": "Python 3 (ipykernel)",
   "language": "python",
   "name": "python3"
  },
  "language_info": {
   "codemirror_mode": {
    "name": "ipython",
    "version": 3
   },
   "file_extension": ".py",
   "mimetype": "text/x-python",
   "name": "python",
   "nbconvert_exporter": "python",
   "pygments_lexer": "ipython3",
   "version": "3.9.7"
  },
  "deepnote_notebook_id": "915a40a3-cb42-4db8-9eb5-7ab7e04f3ee6",
  "deepnote": {},
  "deepnote_execution_queue": []
 }
}