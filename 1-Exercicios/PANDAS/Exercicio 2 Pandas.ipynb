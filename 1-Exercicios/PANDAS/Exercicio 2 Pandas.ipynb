{
 "cells": [
  {
   "cell_type": "markdown",
   "source": "Para entender melhor os objetos DataFrame, é útil saber que eles consistem em três componentes, armazenados como atributos:\n\n- .values: Uma matriz bidimensional de valores.\n- .columns: Um índice de colunas: os nomes das colunas.\n- .index: Um índice para as linhas: números de linha ou nomes de linha.",
   "metadata": {
    "cell_id": "f1f847a0-9fa9-4243-b26f-0d10ef91c3d7",
    "deepnote_cell_type": "markdown",
    "deepnote_cell_height": 176.9166717529297
   }
  },
  {
   "cell_type": "markdown",
   "source": "##### Exercício 1 - Importe o dataset walmart_vendas.csv e salve com o nome vendas",
   "metadata": {
    "cell_id": "00001-6c7e807a-5d45-4222-ab6d-d15b3779df3f",
    "deepnote_cell_type": "markdown",
    "deepnote_cell_height": 53.16667175292969
   }
  },
  {
   "cell_type": "code",
   "metadata": {
    "cell_id": "00002-6de1889c-5436-4679-881e-95d76b219afd",
    "deepnote_to_be_reexecuted": false,
    "source_hash": "9b82ee11",
    "execution_start": 1654604331121,
    "execution_millis": 4,
    "deepnote_cell_type": "code",
    "deepnote_cell_height": 80.16667175292969
   },
   "source": "import pandas as pd",
   "execution_count": null,
   "outputs": []
  },
  {
   "cell_type": "code",
   "metadata": {
    "cell_id": "00003-36f719a7-ea11-4830-84d7-5fdf1a7aa5fe",
    "deepnote_to_be_reexecuted": false,
    "source_hash": "391bceb4",
    "execution_start": 1654604333098,
    "execution_millis": 26,
    "owner_user_id": "f3b685db-82a0-4f74-9158-9e3d6de2c3bf",
    "deepnote_cell_type": "code",
    "deepnote_cell_height": 80.16667175292969
   },
   "source": "df = pd.read_csv('walmart_vendas.csv', sep=',')",
   "execution_count": null,
   "outputs": []
  },
  {
   "cell_type": "markdown",
   "source": "##### Exercício 2 - Imprima as primeiras e as últimas linhas desse dataset",
   "metadata": {
    "cell_id": "00004-401ffc24-2949-4f83-bf37-b7ce2bb81b8b",
    "deepnote_cell_type": "markdown",
    "deepnote_cell_height": 53.16667175292969
   }
  },
  {
   "cell_type": "code",
   "metadata": {
    "cell_id": "00005-ac909dba-fdf5-45b1-b71f-56c6a03f6a3c",
    "deepnote_to_be_reexecuted": false,
    "source_hash": "c43dd9bb",
    "execution_start": 1654601306398,
    "execution_millis": 478,
    "deepnote_cell_type": "code",
    "deepnote_cell_height": 307.75,
    "deepnote_output_heights": [
     194
    ]
   },
   "source": "df.iloc[-1]\ndf.iloc[0]",
   "execution_count": null,
   "outputs": [
    {
     "output_type": "execute_result",
     "execution_count": 31,
     "data": {
      "text/plain": "store                            1\ntype                             A\ndepartment                       1\ndate                    2010-02-05\nweekly_sales               24924.5\nis_holiday                   False\ntemperature_c             5.727778\nfuel_price_usd_per_l      0.679451\nunemployment                 8.106\nName: 0, dtype: object"
     },
     "metadata": {}
    }
   ]
  },
  {
   "cell_type": "code",
   "metadata": {
    "cell_id": "00006-b1cabead-2483-44de-b568-67ceb866cdc4",
    "deepnote_cell_type": "code",
    "deepnote_cell_height": 65.16667175292969
   },
   "source": "",
   "execution_count": null,
   "outputs": []
  },
  {
   "cell_type": "markdown",
   "source": "##### Exercício 3 - Elimine a coluna \" Unnamed: 0\"",
   "metadata": {
    "cell_id": "00007-167099b9-96c9-425d-9ee5-456950789bed",
    "deepnote_cell_type": "markdown",
    "deepnote_cell_height": 53.16667175292969
   }
  },
  {
   "cell_type": "code",
   "metadata": {
    "cell_id": "00008-82293a71-f3fe-4ab6-9e24-5146c98fadba",
    "deepnote_to_be_reexecuted": false,
    "source_hash": "1dd7b333",
    "execution_start": 1654600556133,
    "execution_millis": 15,
    "deepnote_cell_type": "code",
    "deepnote_cell_height": 80.16667175292969
   },
   "source": "df.drop('Unnamed: 0', axis=1, inplace=True)",
   "execution_count": null,
   "outputs": []
  },
  {
   "cell_type": "code",
   "metadata": {
    "cell_id": "00009-bdcf4d68-83ed-467e-b74e-9398d8aa25cd",
    "deepnote_cell_type": "code",
    "deepnote_cell_height": 65.16667175292969
   },
   "source": "",
   "execution_count": null,
   "outputs": []
  },
  {
   "cell_type": "markdown",
   "source": "**Exercício 4 -Imprima os valores desse dataframe**",
   "metadata": {
    "cell_id": "00010-e571855a-89b6-4629-a72e-2001030aed8a",
    "deepnote_cell_type": "markdown",
    "deepnote_cell_height": 51.56666564941406
   }
  },
  {
   "cell_type": "code",
   "metadata": {
    "cell_id": "00011-15c581f9-7c70-4b00-9cc6-89530baf8f33",
    "deepnote_to_be_reexecuted": false,
    "source_hash": "f804c160",
    "execution_start": 1654600560590,
    "execution_millis": 114,
    "deepnote_cell_type": "code",
    "deepnote_cell_height": 598.3333129882812
   },
   "source": "df",
   "execution_count": null,
   "outputs": [
    {
     "output_type": "execute_result",
     "execution_count": 27,
     "data": {
      "application/vnd.deepnote.dataframe.v3+json": {
       "column_count": 9,
       "row_count": 10774,
       "columns": [
        {
         "name": "store",
         "dtype": "int64",
         "stats": {
          "unique_count": 12,
          "nan_count": 0,
          "min": "1",
          "max": "39",
          "histogram": [
           {
            "bin_start": 1,
            "bin_end": 4.8,
            "count": 2699
           },
           {
            "bin_start": 4.8,
            "bin_end": 8.6,
            "count": 894
           },
           {
            "bin_start": 8.6,
            "bin_end": 12.399999999999999,
            "count": 902
           },
           {
            "bin_start": 12.399999999999999,
            "bin_end": 16.2,
            "count": 1798
           },
           {
            "bin_start": 16.2,
            "bin_end": 20,
            "count": 906
           },
           {
            "bin_start": 20,
            "bin_end": 23.799999999999997,
            "count": 910
           },
           {
            "bin_start": 23.799999999999997,
            "bin_end": 27.599999999999998,
            "count": 900
           },
           {
            "bin_start": 27.599999999999998,
            "bin_end": 31.4,
            "count": 890
           },
           {
            "bin_start": 31.4,
            "bin_end": 35.199999999999996,
            "count": 0
           },
           {
            "bin_start": 35.199999999999996,
            "bin_end": 39,
            "count": 875
           }
          ]
         }
        },
        {
         "name": "type",
         "dtype": "object",
         "stats": {
          "unique_count": 2,
          "nan_count": 0,
          "categories": [
           {
            "name": "A",
            "count": 9872
           },
           {
            "name": "B",
            "count": 902
           }
          ]
         }
        },
        {
         "name": "department",
         "dtype": "int64",
         "stats": {
          "unique_count": 80,
          "nan_count": 0,
          "min": "1",
          "max": "99",
          "histogram": [
           {
            "bin_start": 1,
            "bin_end": 10.8,
            "count": 1440
           },
           {
            "bin_start": 10.8,
            "bin_end": 20.6,
            "count": 1292
           },
           {
            "bin_start": 20.6,
            "bin_end": 30.400000000000002,
            "count": 1440
           },
           {
            "bin_start": 30.400000000000002,
            "bin_end": 40.2,
            "count": 1279
           },
           {
            "bin_start": 40.2,
            "bin_end": 50,
            "count": 1052
           },
           {
            "bin_start": 50,
            "bin_end": 59.800000000000004,
            "count": 1035
           },
           {
            "bin_start": 59.800000000000004,
            "bin_end": 69.60000000000001,
            "count": 288
           },
           {
            "bin_start": 69.60000000000001,
            "bin_end": 79.4,
            "count": 671
           },
           {
            "bin_start": 79.4,
            "bin_end": 89.2,
            "count": 864
           },
           {
            "bin_start": 89.2,
            "bin_end": 99,
            "count": 1413
           }
          ]
         }
        },
        {
         "name": "date",
         "dtype": "object",
         "stats": {
          "unique_count": 123,
          "nan_count": 0,
          "categories": [
           {
            "name": "2010-02-05",
            "count": 869
           },
           {
            "name": "2010-03-05",
            "count": 867
           },
           {
            "name": "121 others",
            "count": 9038
           }
          ]
         }
        },
        {
         "name": "weekly_sales",
         "dtype": "float64",
         "stats": {
          "unique_count": 10353,
          "nan_count": 0,
          "min": "-1098.0",
          "max": "293966.05",
          "histogram": [
           {
            "bin_start": -1098,
            "bin_end": 28408.405,
            "count": 7758
           },
           {
            "bin_start": 28408.405,
            "bin_end": 57914.81,
            "count": 1720
           },
           {
            "bin_start": 57914.81,
            "bin_end": 87421.215,
            "count": 760
           },
           {
            "bin_start": 87421.215,
            "bin_end": 116927.62,
            "count": 326
           },
           {
            "bin_start": 116927.62,
            "bin_end": 146434.025,
            "count": 115
           },
           {
            "bin_start": 146434.025,
            "bin_end": 175940.43,
            "count": 70
           },
           {
            "bin_start": 175940.43,
            "bin_end": 205446.835,
            "count": 18
           },
           {
            "bin_start": 205446.835,
            "bin_end": 234953.24,
            "count": 6
           },
           {
            "bin_start": 234953.24,
            "bin_end": 264459.645,
            "count": 0
           },
           {
            "bin_start": 264459.645,
            "bin_end": 293966.05,
            "count": 1
           }
          ]
         }
        },
        {
         "name": "is_holiday",
         "dtype": "bool",
         "stats": {
          "unique_count": 2,
          "nan_count": 0,
          "categories": [
           {
            "name": "False",
            "count": 10732
           },
           {
            "name": "True",
            "count": 42
           }
          ]
         }
        },
        {
         "name": "temperature_c",
         "dtype": "float64",
         "stats": {
          "unique_count": 539,
          "nan_count": 0,
          "min": "-8.366666666666667",
          "max": "33.827777777777776",
          "histogram": [
           {
            "bin_start": -8.366666666666667,
            "bin_end": -4.147222222222223,
            "count": 151
           },
           {
            "bin_start": -4.147222222222223,
            "bin_end": 0.07222222222222108,
            "count": 599
           },
           {
            "bin_start": 0.07222222222222108,
            "bin_end": 4.291666666666664,
            "count": 679
           },
           {
            "bin_start": 4.291666666666664,
            "bin_end": 8.51111111111111,
            "count": 1708
           },
           {
            "bin_start": 8.51111111111111,
            "bin_end": 12.730555555555554,
            "count": 1344
           },
           {
            "bin_start": 12.730555555555554,
            "bin_end": 16.949999999999996,
            "count": 857
           },
           {
            "bin_start": 16.949999999999996,
            "bin_end": 21.16944444444444,
            "count": 1146
           },
           {
            "bin_start": 21.16944444444444,
            "bin_end": 25.388888888888886,
            "count": 2121
           },
           {
            "bin_start": 25.388888888888886,
            "bin_end": 29.608333333333327,
            "count": 1627
           },
           {
            "bin_start": 29.608333333333327,
            "bin_end": 33.827777777777776,
            "count": 542
           }
          ]
         }
        },
        {
         "name": "fuel_price_usd_per_l",
         "dtype": "float64",
         "stats": {
          "unique_count": 319,
          "nan_count": 0,
          "min": "0.6641288526209843",
          "max": "1.1076739375655478",
          "histogram": [
           {
            "bin_start": 0.6641288526209843,
            "bin_end": 0.7084833611154406,
            "count": 2762
           },
           {
            "bin_start": 0.7084833611154406,
            "bin_end": 0.752837869609897,
            "count": 3693
           },
           {
            "bin_start": 0.752837869609897,
            "bin_end": 0.7971923781043533,
            "count": 2710
           },
           {
            "bin_start": 0.7971923781043533,
            "bin_end": 0.8415468865988097,
            "count": 828
           },
           {
            "bin_start": 0.8415468865988097,
            "bin_end": 0.885901395093266,
            "count": 546
           },
           {
            "bin_start": 0.885901395093266,
            "bin_end": 0.9302559035877224,
            "count": 43
           },
           {
            "bin_start": 0.9302559035877224,
            "bin_end": 0.9746104120821788,
            "count": 74
           },
           {
            "bin_start": 0.9746104120821788,
            "bin_end": 1.0189649205766351,
            "count": 45
           },
           {
            "bin_start": 1.0189649205766351,
            "bin_end": 1.0633194290710914,
            "count": 52
           },
           {
            "bin_start": 1.0633194290710914,
            "bin_end": 1.1076739375655478,
            "count": 21
           }
          ]
         }
        },
        {
         "name": "unemployment",
         "dtype": "float64",
         "stats": {
          "unique_count": 126,
          "nan_count": 0,
          "min": "3.879",
          "max": "9.765",
          "histogram": [
           {
            "bin_start": 3.879,
            "bin_end": 4.4676,
            "count": 3
           },
           {
            "bin_start": 4.4676,
            "bin_end": 5.0562000000000005,
            "count": 4
           },
           {
            "bin_start": 5.0562000000000005,
            "bin_end": 5.6448,
            "count": 9
           },
           {
            "bin_start": 5.6448,
            "bin_end": 6.2334000000000005,
            "count": 18
           },
           {
            "bin_start": 6.2334000000000005,
            "bin_end": 6.822000000000001,
            "count": 89
           },
           {
            "bin_start": 6.822000000000001,
            "bin_end": 7.4106000000000005,
            "count": 1457
           },
           {
            "bin_start": 7.4106000000000005,
            "bin_end": 7.9992,
            "count": 2581
           },
           {
            "bin_start": 7.9992,
            "bin_end": 8.587800000000001,
            "count": 4774
           },
           {
            "bin_start": 8.587800000000001,
            "bin_end": 9.176400000000001,
            "count": 1242
           },
           {
            "bin_start": 9.176400000000001,
            "bin_end": 9.765,
            "count": 597
           }
          ]
         }
        },
        {
         "name": "_deepnote_index_column",
         "dtype": "int64"
        }
       ],
       "rows": [
        {
         "store": 1,
         "type": "A",
         "department": 1,
         "date": "2010-02-05",
         "weekly_sales": 24924.5,
         "is_holiday": false,
         "temperature_c": 5.727777777777779,
         "fuel_price_usd_per_l": 0.6794508388787476,
         "unemployment": 8.106,
         "_deepnote_index_column": 0
        },
        {
         "store": 1,
         "type": "A",
         "department": 1,
         "date": "2010-03-05",
         "weekly_sales": 21827.9,
         "is_holiday": false,
         "temperature_c": 8.055555555555555,
         "fuel_price_usd_per_l": 0.693451964252221,
         "unemployment": 8.106,
         "_deepnote_index_column": 1
        },
        {
         "store": 1,
         "type": "A",
         "department": 1,
         "date": "2010-04-02",
         "weekly_sales": 57258.43,
         "is_holiday": false,
         "temperature_c": 16.81666666666667,
         "fuel_price_usd_per_l": 0.718284148876872,
         "unemployment": 7.808,
         "_deepnote_index_column": 2
        },
        {
         "store": 1,
         "type": "A",
         "department": 1,
         "date": "2010-05-07",
         "weekly_sales": 17413.94,
         "is_holiday": false,
         "temperature_c": 22.52777777777778,
         "fuel_price_usd_per_l": 0.7489281213923986,
         "unemployment": 7.808,
         "_deepnote_index_column": 3
        },
        {
         "store": 1,
         "type": "A",
         "department": 1,
         "date": "2010-06-04",
         "weekly_sales": 17558.09,
         "is_holiday": false,
         "temperature_c": 27.05,
         "fuel_price_usd_per_l": 0.7145857384008601,
         "unemployment": 7.808,
         "_deepnote_index_column": 4
        },
        {
         "store": 1,
         "type": "A",
         "department": 1,
         "date": "2010-07-02",
         "weekly_sales": 16333.14,
         "is_holiday": false,
         "temperature_c": 27.17222222222222,
         "fuel_price_usd_per_l": 0.7050755400339724,
         "unemployment": 7.787000000000001,
         "_deepnote_index_column": 5
        },
        {
         "store": 1,
         "type": "A",
         "department": 1,
         "date": "2010-08-06",
         "weekly_sales": 17508.41,
         "is_holiday": false,
         "temperature_c": 30.64444444444444,
         "fuel_price_usd_per_l": 0.693980308605937,
         "unemployment": 7.787000000000001,
         "_deepnote_index_column": 6
        },
        {
         "store": 1,
         "type": "A",
         "department": 1,
         "date": "2010-09-03",
         "weekly_sales": 16241.78,
         "is_holiday": false,
         "temperature_c": 27.338888888888885,
         "fuel_price_usd_per_l": 0.6807716997630375,
         "unemployment": 7.787000000000001,
         "_deepnote_index_column": 7
        },
        {
         "store": 1,
         "type": "A",
         "department": 1,
         "date": "2010-10-01",
         "weekly_sales": 20094.19,
         "is_holiday": false,
         "temperature_c": 22.16111111111111,
         "fuel_price_usd_per_l": 0.6876401763613453,
         "unemployment": 7.837999999999999,
         "_deepnote_index_column": 8
        },
        {
         "store": 1,
         "type": "A",
         "department": 1,
         "date": "2010-11-05",
         "weekly_sales": 34238.88,
         "is_holiday": false,
         "temperature_c": 14.855555555555558,
         "fuel_price_usd_per_l": 0.7103589835711321,
         "unemployment": 7.837999999999999,
         "_deepnote_index_column": 9
        }
       ]
      },
      "text/plain": "       store type  department        date  weekly_sales  is_holiday  \\\n0          1    A           1  2010-02-05      24924.50       False   \n1          1    A           1  2010-03-05      21827.90       False   \n2          1    A           1  2010-04-02      57258.43       False   \n3          1    A           1  2010-05-07      17413.94       False   \n4          1    A           1  2010-06-04      17558.09       False   \n...      ...  ...         ...         ...           ...         ...   \n10769     39    A          99  2011-12-09        895.00       False   \n10770     39    A          99  2012-02-03        350.00       False   \n10771     39    A          99  2012-06-08        450.00       False   \n10772     39    A          99  2012-07-13          0.06       False   \n10773     39    A          99  2012-10-05        915.00       False   \n\n       temperature_c  fuel_price_usd_per_l  unemployment  \n0           5.727778              0.679451         8.106  \n1           8.055556              0.693452         8.106  \n2          16.816667              0.718284         7.808  \n3          22.527778              0.748928         7.808  \n4          27.050000              0.714586         7.808  \n...              ...                   ...           ...  \n10769       9.644444              0.834256         7.716  \n10770      15.938889              0.887619         7.244  \n10771      27.288889              0.911922         6.989  \n10772      25.644444              0.860145         6.623  \n10773      22.250000              0.955511         6.228  \n\n[10774 rows x 9 columns]",
      "text/html": "<div>\n<style scoped>\n    .dataframe tbody tr th:only-of-type {\n        vertical-align: middle;\n    }\n\n    .dataframe tbody tr th {\n        vertical-align: top;\n    }\n\n    .dataframe thead th {\n        text-align: right;\n    }\n</style>\n<table border=\"1\" class=\"dataframe\">\n  <thead>\n    <tr style=\"text-align: right;\">\n      <th></th>\n      <th>store</th>\n      <th>type</th>\n      <th>department</th>\n      <th>date</th>\n      <th>weekly_sales</th>\n      <th>is_holiday</th>\n      <th>temperature_c</th>\n      <th>fuel_price_usd_per_l</th>\n      <th>unemployment</th>\n    </tr>\n  </thead>\n  <tbody>\n    <tr>\n      <th>0</th>\n      <td>1</td>\n      <td>A</td>\n      <td>1</td>\n      <td>2010-02-05</td>\n      <td>24924.50</td>\n      <td>False</td>\n      <td>5.727778</td>\n      <td>0.679451</td>\n      <td>8.106</td>\n    </tr>\n    <tr>\n      <th>1</th>\n      <td>1</td>\n      <td>A</td>\n      <td>1</td>\n      <td>2010-03-05</td>\n      <td>21827.90</td>\n      <td>False</td>\n      <td>8.055556</td>\n      <td>0.693452</td>\n      <td>8.106</td>\n    </tr>\n    <tr>\n      <th>2</th>\n      <td>1</td>\n      <td>A</td>\n      <td>1</td>\n      <td>2010-04-02</td>\n      <td>57258.43</td>\n      <td>False</td>\n      <td>16.816667</td>\n      <td>0.718284</td>\n      <td>7.808</td>\n    </tr>\n    <tr>\n      <th>3</th>\n      <td>1</td>\n      <td>A</td>\n      <td>1</td>\n      <td>2010-05-07</td>\n      <td>17413.94</td>\n      <td>False</td>\n      <td>22.527778</td>\n      <td>0.748928</td>\n      <td>7.808</td>\n    </tr>\n    <tr>\n      <th>4</th>\n      <td>1</td>\n      <td>A</td>\n      <td>1</td>\n      <td>2010-06-04</td>\n      <td>17558.09</td>\n      <td>False</td>\n      <td>27.050000</td>\n      <td>0.714586</td>\n      <td>7.808</td>\n    </tr>\n    <tr>\n      <th>...</th>\n      <td>...</td>\n      <td>...</td>\n      <td>...</td>\n      <td>...</td>\n      <td>...</td>\n      <td>...</td>\n      <td>...</td>\n      <td>...</td>\n      <td>...</td>\n    </tr>\n    <tr>\n      <th>10769</th>\n      <td>39</td>\n      <td>A</td>\n      <td>99</td>\n      <td>2011-12-09</td>\n      <td>895.00</td>\n      <td>False</td>\n      <td>9.644444</td>\n      <td>0.834256</td>\n      <td>7.716</td>\n    </tr>\n    <tr>\n      <th>10770</th>\n      <td>39</td>\n      <td>A</td>\n      <td>99</td>\n      <td>2012-02-03</td>\n      <td>350.00</td>\n      <td>False</td>\n      <td>15.938889</td>\n      <td>0.887619</td>\n      <td>7.244</td>\n    </tr>\n    <tr>\n      <th>10771</th>\n      <td>39</td>\n      <td>A</td>\n      <td>99</td>\n      <td>2012-06-08</td>\n      <td>450.00</td>\n      <td>False</td>\n      <td>27.288889</td>\n      <td>0.911922</td>\n      <td>6.989</td>\n    </tr>\n    <tr>\n      <th>10772</th>\n      <td>39</td>\n      <td>A</td>\n      <td>99</td>\n      <td>2012-07-13</td>\n      <td>0.06</td>\n      <td>False</td>\n      <td>25.644444</td>\n      <td>0.860145</td>\n      <td>6.623</td>\n    </tr>\n    <tr>\n      <th>10773</th>\n      <td>39</td>\n      <td>A</td>\n      <td>99</td>\n      <td>2012-10-05</td>\n      <td>915.00</td>\n      <td>False</td>\n      <td>22.250000</td>\n      <td>0.955511</td>\n      <td>6.228</td>\n    </tr>\n  </tbody>\n</table>\n<p>10774 rows × 9 columns</p>\n</div>"
     },
     "metadata": {}
    }
   ]
  },
  {
   "cell_type": "markdown",
   "source": "**Exercício 5 - Imprima as colunas desse dataframe**",
   "metadata": {
    "cell_id": "00012-3643f552-a863-4821-b6f9-ddf484a07c02",
    "deepnote_cell_type": "markdown",
    "deepnote_cell_height": 51.56666564941406
   }
  },
  {
   "cell_type": "code",
   "metadata": {
    "cell_id": "00013-27c23ffa-8064-4f8b-8eda-7a5de0f10a49",
    "deepnote_to_be_reexecuted": false,
    "source_hash": "25d43fa0",
    "execution_start": 1654601356641,
    "execution_millis": 6,
    "deepnote_cell_type": "code",
    "deepnote_cell_height": 155.75,
    "deepnote_output_heights": [
     60
    ]
   },
   "source": "df.columns",
   "execution_count": null,
   "outputs": [
    {
     "output_type": "execute_result",
     "execution_count": 32,
     "data": {
      "text/plain": "Index(['store', 'type', 'department', 'date', 'weekly_sales', 'is_holiday',\n       'temperature_c', 'fuel_price_usd_per_l', 'unemployment'],\n      dtype='object')"
     },
     "metadata": {}
    }
   ]
  },
  {
   "cell_type": "markdown",
   "source": "**Exercício 6 - Imprima as linhas desse dataframe**",
   "metadata": {
    "cell_id": "00014-e2907b10-5a01-4b74-9f5c-1e1b09b72cbb",
    "deepnote_cell_type": "markdown",
    "deepnote_cell_height": 51.56666564941406
   }
  },
  {
   "cell_type": "code",
   "metadata": {
    "cell_id": "00015-659a5992-fe7c-42c1-83c7-75cce81aef9a",
    "deepnote_to_be_reexecuted": false,
    "source_hash": "f3fd67c8",
    "execution_start": 1654604339846,
    "execution_millis": 34,
    "deepnote_cell_type": "code",
    "deepnote_cell_height": 308.75,
    "deepnote_output_heights": [
     213
    ]
   },
   "source": "df.count()",
   "execution_count": null,
   "outputs": [
    {
     "output_type": "execute_result",
     "execution_count": 6,
     "data": {
      "text/plain": "Unnamed: 0              10774\nstore                   10774\ntype                    10774\ndepartment              10774\ndate                    10774\nweekly_sales            10774\nis_holiday              10774\ntemperature_c           10774\nfuel_price_usd_per_l    10774\nunemployment            10774\ndtype: int64"
     },
     "metadata": {}
    }
   ]
  },
  {
   "cell_type": "markdown",
   "source": "**Exercício 7  - Crie um novo dataframe classificando-o em ordem crescente pela coluna *weekly_sales***",
   "metadata": {
    "cell_id": "00016-cc9ec942-fc39-4584-8d56-678c317d715f",
    "deepnote_cell_type": "markdown",
    "deepnote_cell_height": 51.56666564941406
   }
  },
  {
   "cell_type": "code",
   "metadata": {
    "cell_id": "00017-627a61ab-b904-4ded-81f0-e0375eff3332",
    "deepnote_to_be_reexecuted": false,
    "source_hash": "ce9b3133",
    "execution_start": 1654602118012,
    "execution_millis": 4,
    "deepnote_cell_type": "code",
    "deepnote_cell_height": 80.16667175292969
   },
   "source": "sorted_df = df.sort_values(by=['weekly_sales'], ascending=True)",
   "execution_count": null,
   "outputs": []
  },
  {
   "cell_type": "markdown",
   "source": "**Exercício 8  - Veja as primeiras linhas desse novo dataframe:**",
   "metadata": {
    "cell_id": "00018-0d42ba17-d717-4bf1-961b-aeee49ec4fe4",
    "deepnote_cell_type": "markdown",
    "deepnote_cell_height": 51.56666564941406
   }
  },
  {
   "cell_type": "code",
   "metadata": {
    "cell_id": "00019-9a70d856-79a6-4cf3-a4ec-535530798cfe",
    "deepnote_to_be_reexecuted": false,
    "source_hash": "ad0ac625",
    "execution_start": 1654602120850,
    "execution_millis": 99,
    "deepnote_cell_type": "code",
    "deepnote_cell_height": 393.33331298828125
   },
   "source": "sorted_df.head()",
   "execution_count": null,
   "outputs": [
    {
     "output_type": "execute_result",
     "execution_count": 37,
     "data": {
      "application/vnd.deepnote.dataframe.v3+json": {
       "column_count": 9,
       "row_count": 5,
       "columns": [
        {
         "name": "store",
         "dtype": "int64",
         "stats": {
          "unique_count": 3,
          "nan_count": 0,
          "min": "1",
          "max": "10",
          "histogram": [
           {
            "bin_start": 1,
            "bin_end": 1.9,
            "count": 1
           },
           {
            "bin_start": 1.9,
            "bin_end": 2.8,
            "count": 2
           },
           {
            "bin_start": 2.8,
            "bin_end": 3.7,
            "count": 0
           },
           {
            "bin_start": 3.7,
            "bin_end": 4.6,
            "count": 0
           },
           {
            "bin_start": 4.6,
            "bin_end": 5.5,
            "count": 0
           },
           {
            "bin_start": 5.5,
            "bin_end": 6.4,
            "count": 0
           },
           {
            "bin_start": 6.4,
            "bin_end": 7.3,
            "count": 0
           },
           {
            "bin_start": 7.3,
            "bin_end": 8.2,
            "count": 0
           },
           {
            "bin_start": 8.2,
            "bin_end": 9.1,
            "count": 0
           },
           {
            "bin_start": 9.1,
            "bin_end": 10,
            "count": 2
           }
          ]
         }
        },
        {
         "name": "type",
         "dtype": "object",
         "stats": {
          "unique_count": 2,
          "nan_count": 0,
          "categories": [
           {
            "name": "A",
            "count": 3
           },
           {
            "name": "B",
            "count": 2
           }
          ]
         }
        },
        {
         "name": "department",
         "dtype": "int64",
         "stats": {
          "unique_count": 1,
          "nan_count": 0,
          "min": "47",
          "max": "47",
          "histogram": [
           {
            "bin_start": 46.5,
            "bin_end": 46.6,
            "count": 0
           },
           {
            "bin_start": 46.6,
            "bin_end": 46.7,
            "count": 0
           },
           {
            "bin_start": 46.7,
            "bin_end": 46.8,
            "count": 0
           },
           {
            "bin_start": 46.8,
            "bin_end": 46.9,
            "count": 0
           },
           {
            "bin_start": 46.9,
            "bin_end": 47,
            "count": 0
           },
           {
            "bin_start": 47,
            "bin_end": 47.1,
            "count": 5
           },
           {
            "bin_start": 47.1,
            "bin_end": 47.2,
            "count": 0
           },
           {
            "bin_start": 47.2,
            "bin_end": 47.3,
            "count": 0
           },
           {
            "bin_start": 47.3,
            "bin_end": 47.4,
            "count": 0
           },
           {
            "bin_start": 47.4,
            "bin_end": 47.5,
            "count": 0
           }
          ]
         }
        },
        {
         "name": "date",
         "dtype": "object",
         "stats": {
          "unique_count": 4,
          "nan_count": 0,
          "categories": [
           {
            "name": "2010-10-15",
            "count": 2
           },
           {
            "name": "2010-07-30",
            "count": 1
           },
           {
            "name": "2 others",
            "count": 2
           }
          ]
         }
        },
        {
         "name": "weekly_sales",
         "dtype": "float64",
         "stats": {
          "unique_count": 3,
          "nan_count": 0,
          "min": "-1098.0",
          "max": "-698.0",
          "histogram": [
           {
            "bin_start": -1098,
            "bin_end": -1058,
            "count": 2
           },
           {
            "bin_start": -1058,
            "bin_end": -1018,
            "count": 0
           },
           {
            "bin_start": -1018,
            "bin_end": -978,
            "count": 0
           },
           {
            "bin_start": -978,
            "bin_end": -938,
            "count": 0
           },
           {
            "bin_start": -938,
            "bin_end": -898,
            "count": 0
           },
           {
            "bin_start": -898,
            "bin_end": -858,
            "count": 0
           },
           {
            "bin_start": -858,
            "bin_end": -818,
            "count": 0
           },
           {
            "bin_start": -818,
            "bin_end": -778,
            "count": 2
           },
           {
            "bin_start": -778,
            "bin_end": -738,
            "count": 0
           },
           {
            "bin_start": -738,
            "bin_end": -698,
            "count": 1
           }
          ]
         }
        },
        {
         "name": "is_holiday",
         "dtype": "bool",
         "stats": {
          "unique_count": 1,
          "nan_count": 0,
          "categories": [
           {
            "name": "False",
            "count": 5
           }
          ]
         }
        },
        {
         "name": "temperature_c",
         "dtype": "float64",
         "stats": {
          "unique_count": 5,
          "nan_count": 0,
          "min": "13.28888888888889",
          "max": "28.605555555555554",
          "histogram": [
           {
            "bin_start": 13.28888888888889,
            "bin_end": 14.820555555555556,
            "count": 2
           },
           {
            "bin_start": 14.820555555555556,
            "bin_end": 16.352222222222224,
            "count": 0
           },
           {
            "bin_start": 16.352222222222224,
            "bin_end": 17.88388888888889,
            "count": 0
           },
           {
            "bin_start": 17.88388888888889,
            "bin_end": 19.415555555555557,
            "count": 1
           },
           {
            "bin_start": 19.415555555555557,
            "bin_end": 20.947222222222223,
            "count": 0
           },
           {
            "bin_start": 20.947222222222223,
            "bin_end": 22.47888888888889,
            "count": 0
           },
           {
            "bin_start": 22.47888888888889,
            "bin_end": 24.010555555555555,
            "count": 0
           },
           {
            "bin_start": 24.010555555555555,
            "bin_end": 25.54222222222222,
            "count": 1
           },
           {
            "bin_start": 25.54222222222222,
            "bin_end": 27.073888888888888,
            "count": 0
           },
           {
            "bin_start": 27.073888888888888,
            "bin_end": 28.605555555555554,
            "count": 1
           }
          ]
         }
        },
        {
         "name": "fuel_price_usd_per_l",
         "dtype": "float64",
         "stats": {
          "unique_count": 5,
          "nan_count": 0,
          "min": "0.6974145469050909",
          "max": "0.813650304722606",
          "histogram": [
           {
            "bin_start": 0.6974145469050909,
            "bin_end": 0.7090381226868424,
            "count": 2
           },
           {
            "bin_start": 0.7090381226868424,
            "bin_end": 0.7206616984685938,
            "count": 1
           },
           {
            "bin_start": 0.7206616984685938,
            "bin_end": 0.7322852742503454,
            "count": 0
           },
           {
            "bin_start": 0.7322852742503454,
            "bin_end": 0.743908850032097,
            "count": 0
           },
           {
            "bin_start": 0.743908850032097,
            "bin_end": 0.7555324258138485,
            "count": 0
           },
           {
            "bin_start": 0.7555324258138485,
            "bin_end": 0.7671560015955999,
            "count": 1
           },
           {
            "bin_start": 0.7671560015955999,
            "bin_end": 0.7787795773773515,
            "count": 0
           },
           {
            "bin_start": 0.7787795773773515,
            "bin_end": 0.790403153159103,
            "count": 0
           },
           {
            "bin_start": 0.790403153159103,
            "bin_end": 0.8020267289408545,
            "count": 0
           },
           {
            "bin_start": 0.8020267289408545,
            "bin_end": 0.813650304722606,
            "count": 1
           }
          ]
         }
        },
        {
         "name": "unemployment",
         "dtype": "float64",
         "stats": {
          "unique_count": 5,
          "nan_count": 0,
          "min": "8.099",
          "max": "9.765",
          "histogram": [
           {
            "bin_start": 8.099,
            "bin_end": 8.265600000000001,
            "count": 3
           },
           {
            "bin_start": 8.265600000000001,
            "bin_end": 8.4322,
            "count": 0
           },
           {
            "bin_start": 8.4322,
            "bin_end": 8.5988,
            "count": 0
           },
           {
            "bin_start": 8.5988,
            "bin_end": 8.7654,
            "count": 0
           },
           {
            "bin_start": 8.7654,
            "bin_end": 8.932,
            "count": 0
           },
           {
            "bin_start": 8.932,
            "bin_end": 9.098600000000001,
            "count": 1
           },
           {
            "bin_start": 9.098600000000001,
            "bin_end": 9.2652,
            "count": 0
           },
           {
            "bin_start": 9.2652,
            "bin_end": 9.4318,
            "count": 0
           },
           {
            "bin_start": 9.4318,
            "bin_end": 9.5984,
            "count": 0
           },
           {
            "bin_start": 9.5984,
            "bin_end": 9.765,
            "count": 1
           }
          ]
         }
        },
        {
         "name": "_deepnote_index_column",
         "dtype": "int64"
        }
       ],
       "rows": [
        {
         "store": 2,
         "type": "A",
         "department": 47,
         "date": "2010-07-30",
         "weekly_sales": -1098,
         "is_holiday": false,
         "temperature_c": 28.605555555555554,
         "fuel_price_usd_per_l": 0.6974145469050909,
         "unemployment": 8.099,
         "_deepnote_index_column": 1420
        },
        {
         "store": 2,
         "type": "A",
         "department": 47,
         "date": "2010-10-15",
         "weekly_sales": -1098,
         "is_holiday": false,
         "temperature_c": 18.77777777777778,
         "fuel_price_usd_per_l": 0.71854832105373,
         "unemployment": 8.163,
         "_deepnote_index_column": 1422
        },
        {
         "store": 10,
         "type": "B",
         "department": 47,
         "date": "2010-10-15",
         "weekly_sales": -798,
         "is_holiday": false,
         "temperature_c": 24.15555555555556,
         "fuel_price_usd_per_l": 0.813650304722606,
         "unemployment": 9.003,
         "_deepnote_index_column": 4115
        },
        {
         "store": 10,
         "type": "B",
         "department": 47,
         "date": "2010-03-05",
         "weekly_sales": -798,
         "is_holiday": false,
         "temperature_c": 13.28888888888889,
         "fuel_price_usd_per_l": 0.7600233528204342,
         "unemployment": 9.765,
         "_deepnote_index_column": 4110
        },
        {
         "store": 1,
         "type": "A",
         "department": 47,
         "date": "2010-03-12",
         "weekly_sales": -698,
         "is_holiday": false,
         "temperature_c": 14.327777777777776,
         "fuel_price_usd_per_l": 0.7045471956802565,
         "unemployment": 8.106,
         "_deepnote_index_column": 517
        }
       ]
      },
      "text/plain": "      store type  department        date  weekly_sales  is_holiday  \\\n1420      2    A          47  2010-07-30       -1098.0       False   \n1422      2    A          47  2010-10-15       -1098.0       False   \n4115     10    B          47  2010-10-15        -798.0       False   \n4110     10    B          47  2010-03-05        -798.0       False   \n517       1    A          47  2010-03-12        -698.0       False   \n\n      temperature_c  fuel_price_usd_per_l  unemployment  \n1420      28.605556              0.697415         8.099  \n1422      18.777778              0.718548         8.163  \n4115      24.155556              0.813650         9.003  \n4110      13.288889              0.760023         9.765  \n517       14.327778              0.704547         8.106  ",
      "text/html": "<div>\n<style scoped>\n    .dataframe tbody tr th:only-of-type {\n        vertical-align: middle;\n    }\n\n    .dataframe tbody tr th {\n        vertical-align: top;\n    }\n\n    .dataframe thead th {\n        text-align: right;\n    }\n</style>\n<table border=\"1\" class=\"dataframe\">\n  <thead>\n    <tr style=\"text-align: right;\">\n      <th></th>\n      <th>store</th>\n      <th>type</th>\n      <th>department</th>\n      <th>date</th>\n      <th>weekly_sales</th>\n      <th>is_holiday</th>\n      <th>temperature_c</th>\n      <th>fuel_price_usd_per_l</th>\n      <th>unemployment</th>\n    </tr>\n  </thead>\n  <tbody>\n    <tr>\n      <th>1420</th>\n      <td>2</td>\n      <td>A</td>\n      <td>47</td>\n      <td>2010-07-30</td>\n      <td>-1098.0</td>\n      <td>False</td>\n      <td>28.605556</td>\n      <td>0.697415</td>\n      <td>8.099</td>\n    </tr>\n    <tr>\n      <th>1422</th>\n      <td>2</td>\n      <td>A</td>\n      <td>47</td>\n      <td>2010-10-15</td>\n      <td>-1098.0</td>\n      <td>False</td>\n      <td>18.777778</td>\n      <td>0.718548</td>\n      <td>8.163</td>\n    </tr>\n    <tr>\n      <th>4115</th>\n      <td>10</td>\n      <td>B</td>\n      <td>47</td>\n      <td>2010-10-15</td>\n      <td>-798.0</td>\n      <td>False</td>\n      <td>24.155556</td>\n      <td>0.813650</td>\n      <td>9.003</td>\n    </tr>\n    <tr>\n      <th>4110</th>\n      <td>10</td>\n      <td>B</td>\n      <td>47</td>\n      <td>2010-03-05</td>\n      <td>-798.0</td>\n      <td>False</td>\n      <td>13.288889</td>\n      <td>0.760023</td>\n      <td>9.765</td>\n    </tr>\n    <tr>\n      <th>517</th>\n      <td>1</td>\n      <td>A</td>\n      <td>47</td>\n      <td>2010-03-12</td>\n      <td>-698.0</td>\n      <td>False</td>\n      <td>14.327778</td>\n      <td>0.704547</td>\n      <td>8.106</td>\n    </tr>\n  </tbody>\n</table>\n</div>"
     },
     "metadata": {}
    }
   ]
  },
  {
   "cell_type": "markdown",
   "source": "**Exercício 9 - Ordene o dataframe original pela coluna *temperature_c* em ordem decrescente e imprima as primeiras linhas**",
   "metadata": {
    "cell_id": "00020-0885e05a-7b1e-4c24-88e8-4a087fb6c1b1",
    "deepnote_cell_type": "markdown",
    "deepnote_cell_height": 73.96665954589844
   }
  },
  {
   "cell_type": "code",
   "metadata": {
    "cell_id": "00021-f4dbcfff-0631-4e0e-8a10-364041c886b1",
    "deepnote_to_be_reexecuted": false,
    "source_hash": "50c7fdcf",
    "execution_start": 1654602187713,
    "execution_millis": 126,
    "deepnote_cell_type": "code",
    "deepnote_cell_height": 616.3333129882812
   },
   "source": "df.sort_values(by=['temperature_c'], ascending=False)\n",
   "execution_count": null,
   "outputs": [
    {
     "output_type": "execute_result",
     "execution_count": 38,
     "data": {
      "application/vnd.deepnote.dataframe.v3+json": {
       "column_count": 9,
       "row_count": 10774,
       "columns": [
        {
         "name": "store",
         "dtype": "int64",
         "stats": {
          "unique_count": 12,
          "nan_count": 0,
          "min": "1",
          "max": "39",
          "histogram": [
           {
            "bin_start": 1,
            "bin_end": 4.8,
            "count": 2699
           },
           {
            "bin_start": 4.8,
            "bin_end": 8.6,
            "count": 894
           },
           {
            "bin_start": 8.6,
            "bin_end": 12.399999999999999,
            "count": 902
           },
           {
            "bin_start": 12.399999999999999,
            "bin_end": 16.2,
            "count": 1798
           },
           {
            "bin_start": 16.2,
            "bin_end": 20,
            "count": 906
           },
           {
            "bin_start": 20,
            "bin_end": 23.799999999999997,
            "count": 910
           },
           {
            "bin_start": 23.799999999999997,
            "bin_end": 27.599999999999998,
            "count": 900
           },
           {
            "bin_start": 27.599999999999998,
            "bin_end": 31.4,
            "count": 890
           },
           {
            "bin_start": 31.4,
            "bin_end": 35.199999999999996,
            "count": 0
           },
           {
            "bin_start": 35.199999999999996,
            "bin_end": 39,
            "count": 875
           }
          ]
         }
        },
        {
         "name": "type",
         "dtype": "object",
         "stats": {
          "unique_count": 2,
          "nan_count": 0,
          "categories": [
           {
            "name": "A",
            "count": 9872
           },
           {
            "name": "B",
            "count": 902
           }
          ]
         }
        },
        {
         "name": "department",
         "dtype": "int64",
         "stats": {
          "unique_count": 80,
          "nan_count": 0,
          "min": "1",
          "max": "99",
          "histogram": [
           {
            "bin_start": 1,
            "bin_end": 10.8,
            "count": 1440
           },
           {
            "bin_start": 10.8,
            "bin_end": 20.6,
            "count": 1292
           },
           {
            "bin_start": 20.6,
            "bin_end": 30.400000000000002,
            "count": 1440
           },
           {
            "bin_start": 30.400000000000002,
            "bin_end": 40.2,
            "count": 1279
           },
           {
            "bin_start": 40.2,
            "bin_end": 50,
            "count": 1052
           },
           {
            "bin_start": 50,
            "bin_end": 59.800000000000004,
            "count": 1035
           },
           {
            "bin_start": 59.800000000000004,
            "bin_end": 69.60000000000001,
            "count": 288
           },
           {
            "bin_start": 69.60000000000001,
            "bin_end": 79.4,
            "count": 671
           },
           {
            "bin_start": 79.4,
            "bin_end": 89.2,
            "count": 864
           },
           {
            "bin_start": 89.2,
            "bin_end": 99,
            "count": 1413
           }
          ]
         }
        },
        {
         "name": "date",
         "dtype": "object",
         "stats": {
          "unique_count": 123,
          "nan_count": 0,
          "categories": [
           {
            "name": "2010-02-05",
            "count": 869
           },
           {
            "name": "2010-03-05",
            "count": 867
           },
           {
            "name": "121 others",
            "count": 9038
           }
          ]
         }
        },
        {
         "name": "weekly_sales",
         "dtype": "float64",
         "stats": {
          "unique_count": 10353,
          "nan_count": 0,
          "min": "-1098.0",
          "max": "293966.05",
          "histogram": [
           {
            "bin_start": -1098,
            "bin_end": 28408.405,
            "count": 7758
           },
           {
            "bin_start": 28408.405,
            "bin_end": 57914.81,
            "count": 1720
           },
           {
            "bin_start": 57914.81,
            "bin_end": 87421.215,
            "count": 760
           },
           {
            "bin_start": 87421.215,
            "bin_end": 116927.62,
            "count": 326
           },
           {
            "bin_start": 116927.62,
            "bin_end": 146434.025,
            "count": 115
           },
           {
            "bin_start": 146434.025,
            "bin_end": 175940.43,
            "count": 70
           },
           {
            "bin_start": 175940.43,
            "bin_end": 205446.835,
            "count": 18
           },
           {
            "bin_start": 205446.835,
            "bin_end": 234953.24,
            "count": 6
           },
           {
            "bin_start": 234953.24,
            "bin_end": 264459.645,
            "count": 0
           },
           {
            "bin_start": 264459.645,
            "bin_end": 293966.05,
            "count": 1
           }
          ]
         }
        },
        {
         "name": "is_holiday",
         "dtype": "bool",
         "stats": {
          "unique_count": 2,
          "nan_count": 0,
          "categories": [
           {
            "name": "False",
            "count": 10732
           },
           {
            "name": "True",
            "count": 42
           }
          ]
         }
        },
        {
         "name": "temperature_c",
         "dtype": "float64",
         "stats": {
          "unique_count": 539,
          "nan_count": 0,
          "min": "-8.366666666666667",
          "max": "33.827777777777776",
          "histogram": [
           {
            "bin_start": -8.366666666666667,
            "bin_end": -4.147222222222223,
            "count": 151
           },
           {
            "bin_start": -4.147222222222223,
            "bin_end": 0.07222222222222108,
            "count": 599
           },
           {
            "bin_start": 0.07222222222222108,
            "bin_end": 4.291666666666664,
            "count": 679
           },
           {
            "bin_start": 4.291666666666664,
            "bin_end": 8.51111111111111,
            "count": 1708
           },
           {
            "bin_start": 8.51111111111111,
            "bin_end": 12.730555555555554,
            "count": 1344
           },
           {
            "bin_start": 12.730555555555554,
            "bin_end": 16.949999999999996,
            "count": 857
           },
           {
            "bin_start": 16.949999999999996,
            "bin_end": 21.16944444444444,
            "count": 1146
           },
           {
            "bin_start": 21.16944444444444,
            "bin_end": 25.388888888888886,
            "count": 2121
           },
           {
            "bin_start": 25.388888888888886,
            "bin_end": 29.608333333333327,
            "count": 1627
           },
           {
            "bin_start": 29.608333333333327,
            "bin_end": 33.827777777777776,
            "count": 542
           }
          ]
         }
        },
        {
         "name": "fuel_price_usd_per_l",
         "dtype": "float64",
         "stats": {
          "unique_count": 319,
          "nan_count": 0,
          "min": "0.6641288526209843",
          "max": "1.1076739375655478",
          "histogram": [
           {
            "bin_start": 0.6641288526209843,
            "bin_end": 0.7084833611154406,
            "count": 2762
           },
           {
            "bin_start": 0.7084833611154406,
            "bin_end": 0.752837869609897,
            "count": 3693
           },
           {
            "bin_start": 0.752837869609897,
            "bin_end": 0.7971923781043533,
            "count": 2710
           },
           {
            "bin_start": 0.7971923781043533,
            "bin_end": 0.8415468865988097,
            "count": 828
           },
           {
            "bin_start": 0.8415468865988097,
            "bin_end": 0.885901395093266,
            "count": 546
           },
           {
            "bin_start": 0.885901395093266,
            "bin_end": 0.9302559035877224,
            "count": 43
           },
           {
            "bin_start": 0.9302559035877224,
            "bin_end": 0.9746104120821788,
            "count": 74
           },
           {
            "bin_start": 0.9746104120821788,
            "bin_end": 1.0189649205766351,
            "count": 45
           },
           {
            "bin_start": 1.0189649205766351,
            "bin_end": 1.0633194290710914,
            "count": 52
           },
           {
            "bin_start": 1.0633194290710914,
            "bin_end": 1.1076739375655478,
            "count": 21
           }
          ]
         }
        },
        {
         "name": "unemployment",
         "dtype": "float64",
         "stats": {
          "unique_count": 126,
          "nan_count": 0,
          "min": "3.879",
          "max": "9.765",
          "histogram": [
           {
            "bin_start": 3.879,
            "bin_end": 4.4676,
            "count": 3
           },
           {
            "bin_start": 4.4676,
            "bin_end": 5.0562000000000005,
            "count": 4
           },
           {
            "bin_start": 5.0562000000000005,
            "bin_end": 5.6448,
            "count": 9
           },
           {
            "bin_start": 5.6448,
            "bin_end": 6.2334000000000005,
            "count": 18
           },
           {
            "bin_start": 6.2334000000000005,
            "bin_end": 6.822000000000001,
            "count": 89
           },
           {
            "bin_start": 6.822000000000001,
            "bin_end": 7.4106000000000005,
            "count": 1457
           },
           {
            "bin_start": 7.4106000000000005,
            "bin_end": 7.9992,
            "count": 2581
           },
           {
            "bin_start": 7.9992,
            "bin_end": 8.587800000000001,
            "count": 4774
           },
           {
            "bin_start": 8.587800000000001,
            "bin_end": 9.176400000000001,
            "count": 1242
           },
           {
            "bin_start": 9.176400000000001,
            "bin_end": 9.765,
            "count": 597
           }
          ]
         }
        },
        {
         "name": "_deepnote_index_column",
         "dtype": "int64"
        }
       ],
       "rows": [
        {
         "store": 10,
         "type": "B",
         "department": 14,
         "date": "2010-07-02",
         "weekly_sales": 36506.15,
         "is_holiday": false,
         "temperature_c": 33.827777777777776,
         "fuel_price_usd_per_l": 0.7867047426830911,
         "unemployment": 9.199,
         "_deepnote_index_column": 3754
        },
        {
         "store": 10,
         "type": "B",
         "department": 87,
         "date": "2010-07-02",
         "weekly_sales": 20296.9,
         "is_holiday": false,
         "temperature_c": 33.827777777777776,
         "fuel_price_usd_per_l": 0.7867047426830911,
         "unemployment": 9.199,
         "_deepnote_index_column": 4380
        },
        {
         "store": 10,
         "type": "B",
         "department": 83,
         "date": "2010-07-02",
         "weekly_sales": 268.16,
         "is_holiday": false,
         "temperature_c": 33.827777777777776,
         "fuel_price_usd_per_l": 0.7867047426830911,
         "unemployment": 9.199,
         "_deepnote_index_column": 4356
        },
        {
         "store": 10,
         "type": "B",
         "department": 82,
         "date": "2010-07-02",
         "weekly_sales": 21579.29,
         "is_holiday": false,
         "temperature_c": 33.827777777777776,
         "fuel_price_usd_per_l": 0.7867047426830911,
         "unemployment": 9.199,
         "_deepnote_index_column": 4344
        },
        {
         "store": 10,
         "type": "B",
         "department": 81,
         "date": "2010-07-02",
         "weekly_sales": 11684.87,
         "is_holiday": false,
         "temperature_c": 33.827777777777776,
         "fuel_price_usd_per_l": 0.7867047426830911,
         "unemployment": 9.199,
         "_deepnote_index_column": 4332
        },
        {
         "store": 10,
         "type": "B",
         "department": 80,
         "date": "2010-07-02",
         "weekly_sales": 122.46,
         "is_holiday": false,
         "temperature_c": 33.827777777777776,
         "fuel_price_usd_per_l": 0.7867047426830911,
         "unemployment": 9.199,
         "_deepnote_index_column": 4320
        },
        {
         "store": 10,
         "type": "B",
         "department": 8,
         "date": "2010-07-02",
         "weekly_sales": 91347.87,
         "is_holiday": false,
         "temperature_c": 33.827777777777776,
         "fuel_price_usd_per_l": 0.7867047426830911,
         "unemployment": 9.199,
         "_deepnote_index_column": 3682
        },
        {
         "store": 10,
         "type": "B",
         "department": 74,
         "date": "2010-07-02",
         "weekly_sales": 43054.6,
         "is_holiday": false,
         "temperature_c": 33.827777777777776,
         "fuel_price_usd_per_l": 0.7867047426830911,
         "unemployment": 9.199,
         "_deepnote_index_column": 4288
        },
        {
         "store": 10,
         "type": "B",
         "department": 72,
         "date": "2010-07-02",
         "weekly_sales": 119786.65,
         "is_holiday": false,
         "temperature_c": 33.827777777777776,
         "fuel_price_usd_per_l": 0.7867047426830911,
         "unemployment": 9.199,
         "_deepnote_index_column": 4276
        },
        {
         "store": 10,
         "type": "B",
         "department": 71,
         "date": "2010-07-02",
         "weekly_sales": 14952.24,
         "is_holiday": false,
         "temperature_c": 33.827777777777776,
         "fuel_price_usd_per_l": 0.7867047426830911,
         "unemployment": 9.199,
         "_deepnote_index_column": 4264
        }
       ]
      },
      "text/plain": "      store type  department        date  weekly_sales  is_holiday  \\\n3754     10    B          14  2010-07-02      36506.15       False   \n4380     10    B          87  2010-07-02      20296.90       False   \n4356     10    B          83  2010-07-02        268.16       False   \n4344     10    B          82  2010-07-02      21579.29       False   \n4332     10    B          81  2010-07-02      11684.87       False   \n...     ...  ...         ...         ...           ...         ...   \n5395     13    A          98  2011-01-07      11289.01       False   \n5011     13    A          46  2011-01-07      36661.45       False   \n4794     13    A          26  2011-01-07       8858.06       False   \n4999     13    A          45  2011-01-07         11.44       False   \n4662     13    A          14  2011-01-07      21193.24       False   \n\n      temperature_c  fuel_price_usd_per_l  unemployment  \n3754      33.827778              0.786705         9.199  \n4380      33.827778              0.786705         9.199  \n4356      33.827778              0.786705         9.199  \n4344      33.827778              0.786705         9.199  \n4332      33.827778              0.786705         9.199  \n...             ...                   ...           ...  \n5395      -8.366667              0.763722         7.470  \n5011      -8.366667              0.763722         7.470  \n4794      -8.366667              0.763722         7.470  \n4999      -8.366667              0.763722         7.470  \n4662      -8.366667              0.763722         7.470  \n\n[10774 rows x 9 columns]",
      "text/html": "<div>\n<style scoped>\n    .dataframe tbody tr th:only-of-type {\n        vertical-align: middle;\n    }\n\n    .dataframe tbody tr th {\n        vertical-align: top;\n    }\n\n    .dataframe thead th {\n        text-align: right;\n    }\n</style>\n<table border=\"1\" class=\"dataframe\">\n  <thead>\n    <tr style=\"text-align: right;\">\n      <th></th>\n      <th>store</th>\n      <th>type</th>\n      <th>department</th>\n      <th>date</th>\n      <th>weekly_sales</th>\n      <th>is_holiday</th>\n      <th>temperature_c</th>\n      <th>fuel_price_usd_per_l</th>\n      <th>unemployment</th>\n    </tr>\n  </thead>\n  <tbody>\n    <tr>\n      <th>3754</th>\n      <td>10</td>\n      <td>B</td>\n      <td>14</td>\n      <td>2010-07-02</td>\n      <td>36506.15</td>\n      <td>False</td>\n      <td>33.827778</td>\n      <td>0.786705</td>\n      <td>9.199</td>\n    </tr>\n    <tr>\n      <th>4380</th>\n      <td>10</td>\n      <td>B</td>\n      <td>87</td>\n      <td>2010-07-02</td>\n      <td>20296.90</td>\n      <td>False</td>\n      <td>33.827778</td>\n      <td>0.786705</td>\n      <td>9.199</td>\n    </tr>\n    <tr>\n      <th>4356</th>\n      <td>10</td>\n      <td>B</td>\n      <td>83</td>\n      <td>2010-07-02</td>\n      <td>268.16</td>\n      <td>False</td>\n      <td>33.827778</td>\n      <td>0.786705</td>\n      <td>9.199</td>\n    </tr>\n    <tr>\n      <th>4344</th>\n      <td>10</td>\n      <td>B</td>\n      <td>82</td>\n      <td>2010-07-02</td>\n      <td>21579.29</td>\n      <td>False</td>\n      <td>33.827778</td>\n      <td>0.786705</td>\n      <td>9.199</td>\n    </tr>\n    <tr>\n      <th>4332</th>\n      <td>10</td>\n      <td>B</td>\n      <td>81</td>\n      <td>2010-07-02</td>\n      <td>11684.87</td>\n      <td>False</td>\n      <td>33.827778</td>\n      <td>0.786705</td>\n      <td>9.199</td>\n    </tr>\n    <tr>\n      <th>...</th>\n      <td>...</td>\n      <td>...</td>\n      <td>...</td>\n      <td>...</td>\n      <td>...</td>\n      <td>...</td>\n      <td>...</td>\n      <td>...</td>\n      <td>...</td>\n    </tr>\n    <tr>\n      <th>5395</th>\n      <td>13</td>\n      <td>A</td>\n      <td>98</td>\n      <td>2011-01-07</td>\n      <td>11289.01</td>\n      <td>False</td>\n      <td>-8.366667</td>\n      <td>0.763722</td>\n      <td>7.470</td>\n    </tr>\n    <tr>\n      <th>5011</th>\n      <td>13</td>\n      <td>A</td>\n      <td>46</td>\n      <td>2011-01-07</td>\n      <td>36661.45</td>\n      <td>False</td>\n      <td>-8.366667</td>\n      <td>0.763722</td>\n      <td>7.470</td>\n    </tr>\n    <tr>\n      <th>4794</th>\n      <td>13</td>\n      <td>A</td>\n      <td>26</td>\n      <td>2011-01-07</td>\n      <td>8858.06</td>\n      <td>False</td>\n      <td>-8.366667</td>\n      <td>0.763722</td>\n      <td>7.470</td>\n    </tr>\n    <tr>\n      <th>4999</th>\n      <td>13</td>\n      <td>A</td>\n      <td>45</td>\n      <td>2011-01-07</td>\n      <td>11.44</td>\n      <td>False</td>\n      <td>-8.366667</td>\n      <td>0.763722</td>\n      <td>7.470</td>\n    </tr>\n    <tr>\n      <th>4662</th>\n      <td>13</td>\n      <td>A</td>\n      <td>14</td>\n      <td>2011-01-07</td>\n      <td>21193.24</td>\n      <td>False</td>\n      <td>-8.366667</td>\n      <td>0.763722</td>\n      <td>7.470</td>\n    </tr>\n  </tbody>\n</table>\n<p>10774 rows × 9 columns</p>\n</div>"
     },
     "metadata": {}
    }
   ]
  },
  {
   "cell_type": "code",
   "source": "",
   "metadata": {
    "cell_id": "628c2d3a05cd4914936611cac4cdbd58",
    "deepnote_cell_type": "visualization"
   },
   "execution_count": null,
   "outputs": []
  },
  {
   "cell_type": "markdown",
   "source": "**Exercício 10 -Selecione somente a  coluna *unemployment* salve com o nome subdf e veja as primeiras linhas**\n",
   "metadata": {
    "cell_id": "00022-c3ae11ba-4f52-4835-b1e2-5024c1f15975",
    "deepnote_cell_type": "markdown",
    "deepnote_cell_height": 73.96665954589844
   }
  },
  {
   "cell_type": "code",
   "metadata": {
    "cell_id": "00023-b975be95-c82b-47c0-ba49-bcdf8ae28ffd",
    "deepnote_to_be_reexecuted": false,
    "source_hash": "38ad887",
    "execution_start": 1654602580139,
    "execution_millis": 16,
    "deepnote_cell_type": "code",
    "deepnote_cell_height": 230.75,
    "deepnote_output_heights": [
     117
    ]
   },
   "source": "subdf = df['unemployment']\nsubdf.head()",
   "execution_count": null,
   "outputs": [
    {
     "output_type": "execute_result",
     "execution_count": 48,
     "data": {
      "text/plain": "0    8.106\n1    8.106\n2    7.808\n3    7.808\n4    7.808\nName: unemployment, dtype: float64"
     },
     "metadata": {}
    }
   ]
  },
  {
   "cell_type": "markdown",
   "source": "**Exercício 11 -  Filtre por linhas os valores de weekly_sales forem maiores que 20000 e chame de weekly_sales_20k e imprima as primeiras linhas**  ",
   "metadata": {
    "cell_id": "00024-5bc8cb12-b2c6-46fa-81b2-389338faf84b",
    "deepnote_cell_type": "markdown",
    "deepnote_cell_height": 73.96665954589844
   }
  },
  {
   "cell_type": "code",
   "metadata": {
    "cell_id": "00025-225fc085-a6f8-4c93-947d-4f573a0b1294",
    "deepnote_to_be_reexecuted": false,
    "source_hash": "455cca71",
    "execution_start": 1654602803393,
    "execution_millis": 6,
    "deepnote_cell_type": "code",
    "deepnote_cell_height": 98.16667175292969
   },
   "source": "weekly_sales_20k = df[df['weekly_sales']>20000]\n",
   "execution_count": null,
   "outputs": []
  },
  {
   "cell_type": "code",
   "metadata": {
    "cell_id": "996858b0d52b48f6becc0ca50e7743ae",
    "tags": [],
    "deepnote_to_be_reexecuted": false,
    "source_hash": "88d1fdec",
    "execution_start": 1654602845312,
    "execution_millis": 69,
    "deepnote_cell_type": "code",
    "deepnote_cell_height": 393.33331298828125
   },
   "source": "weekly_sales_20k.sort_values(by='weekly_sales', ascending=False).head()",
   "execution_count": null,
   "outputs": [
    {
     "output_type": "execute_result",
     "execution_count": 58,
     "data": {
      "application/vnd.deepnote.dataframe.v3+json": {
       "column_count": 9,
       "row_count": 5,
       "columns": [
        {
         "name": "store",
         "dtype": "int64",
         "stats": {
          "unique_count": 2,
          "nan_count": 0,
          "min": "10",
          "max": "14",
          "histogram": [
           {
            "bin_start": 10,
            "bin_end": 10.4,
            "count": 2
           },
           {
            "bin_start": 10.4,
            "bin_end": 10.8,
            "count": 0
           },
           {
            "bin_start": 10.8,
            "bin_end": 11.2,
            "count": 0
           },
           {
            "bin_start": 11.2,
            "bin_end": 11.6,
            "count": 0
           },
           {
            "bin_start": 11.6,
            "bin_end": 12,
            "count": 0
           },
           {
            "bin_start": 12,
            "bin_end": 12.4,
            "count": 0
           },
           {
            "bin_start": 12.4,
            "bin_end": 12.8,
            "count": 0
           },
           {
            "bin_start": 12.8,
            "bin_end": 13.2,
            "count": 0
           },
           {
            "bin_start": 13.2,
            "bin_end": 13.6,
            "count": 0
           },
           {
            "bin_start": 13.6,
            "bin_end": 14,
            "count": 3
           }
          ]
         }
        },
        {
         "name": "type",
         "dtype": "object",
         "stats": {
          "unique_count": 2,
          "nan_count": 0,
          "categories": [
           {
            "name": "A",
            "count": 3
           },
           {
            "name": "B",
            "count": 2
           }
          ]
         }
        },
        {
         "name": "department",
         "dtype": "int64",
         "stats": {
          "unique_count": 3,
          "nan_count": 0,
          "min": "72",
          "max": "95",
          "histogram": [
           {
            "bin_start": 72,
            "bin_end": 74.3,
            "count": 2
           },
           {
            "bin_start": 74.3,
            "bin_end": 76.6,
            "count": 0
           },
           {
            "bin_start": 76.6,
            "bin_end": 78.9,
            "count": 0
           },
           {
            "bin_start": 78.9,
            "bin_end": 81.2,
            "count": 0
           },
           {
            "bin_start": 81.2,
            "bin_end": 83.5,
            "count": 0
           },
           {
            "bin_start": 83.5,
            "bin_end": 85.8,
            "count": 0
           },
           {
            "bin_start": 85.8,
            "bin_end": 88.1,
            "count": 0
           },
           {
            "bin_start": 88.1,
            "bin_end": 90.4,
            "count": 0
           },
           {
            "bin_start": 90.4,
            "bin_end": 92.7,
            "count": 2
           },
           {
            "bin_start": 92.7,
            "bin_end": 95,
            "count": 1
           }
          ]
         }
        },
        {
         "name": "date",
         "dtype": "object",
         "stats": {
          "unique_count": 3,
          "nan_count": 0,
          "categories": [
           {
            "name": "2010-02-05",
            "count": 3
           },
           {
            "name": "2010-12-03",
            "count": 1
           },
           {
            "name": "2010-03-05",
            "count": 1
           }
          ]
         }
        },
        {
         "name": "weekly_sales",
         "dtype": "float64",
         "stats": {
          "unique_count": 5,
          "nan_count": 0,
          "min": "213042.66",
          "max": "293966.05",
          "histogram": [
           {
            "bin_start": 213042.66,
            "bin_end": 221134.999,
            "count": 3
           },
           {
            "bin_start": 221134.999,
            "bin_end": 229227.338,
            "count": 0
           },
           {
            "bin_start": 229227.338,
            "bin_end": 237319.677,
            "count": 1
           },
           {
            "bin_start": 237319.677,
            "bin_end": 245412.016,
            "count": 0
           },
           {
            "bin_start": 245412.016,
            "bin_end": 253504.35499999998,
            "count": 0
           },
           {
            "bin_start": 253504.35499999998,
            "bin_end": 261596.694,
            "count": 0
           },
           {
            "bin_start": 261596.694,
            "bin_end": 269689.033,
            "count": 0
           },
           {
            "bin_start": 269689.033,
            "bin_end": 277781.372,
            "count": 0
           },
           {
            "bin_start": 277781.372,
            "bin_end": 285873.711,
            "count": 0
           },
           {
            "bin_start": 285873.711,
            "bin_end": 293966.05,
            "count": 1
           }
          ]
         }
        },
        {
         "name": "is_holiday",
         "dtype": "bool",
         "stats": {
          "unique_count": 1,
          "nan_count": 0,
          "categories": [
           {
            "name": "False",
            "count": 5
           }
          ]
         }
        },
        {
         "name": "temperature_c",
         "dtype": "float64",
         "stats": {
          "unique_count": 4,
          "nan_count": 0,
          "min": "-2.605555555555556",
          "max": "12.411111111111111",
          "histogram": [
           {
            "bin_start": -2.605555555555556,
            "bin_end": -1.1038888888888894,
            "count": 2
           },
           {
            "bin_start": -1.1038888888888894,
            "bin_end": 0.39777777777777734,
            "count": 0
           },
           {
            "bin_start": 0.39777777777777734,
            "bin_end": 1.8994444444444438,
            "count": 0
           },
           {
            "bin_start": 1.8994444444444438,
            "bin_end": 3.4011111111111108,
            "count": 1
           },
           {
            "bin_start": 3.4011111111111108,
            "bin_end": 4.902777777777778,
            "count": 0
           },
           {
            "bin_start": 4.902777777777778,
            "bin_end": 6.404444444444444,
            "count": 0
           },
           {
            "bin_start": 6.404444444444444,
            "bin_end": 7.906111111111111,
            "count": 0
           },
           {
            "bin_start": 7.906111111111111,
            "bin_end": 9.407777777777778,
            "count": 0
           },
           {
            "bin_start": 9.407777777777778,
            "bin_end": 10.909444444444444,
            "count": 1
           },
           {
            "bin_start": 10.909444444444444,
            "bin_end": 12.411111111111111,
            "count": 1
           }
          ]
         }
        },
        {
         "name": "fuel_price_usd_per_l",
         "dtype": "float64",
         "stats": {
          "unique_count": 4,
          "nan_count": 0,
          "min": "0.7336061351346352",
          "max": "0.8033475898251445",
          "histogram": [
           {
            "bin_start": 0.7336061351346352,
            "bin_end": 0.7405802806036862,
            "count": 3
           },
           {
            "bin_start": 0.7405802806036862,
            "bin_end": 0.7475544260727371,
            "count": 0
           },
           {
            "bin_start": 0.7475544260727371,
            "bin_end": 0.754528571541788,
            "count": 0
           },
           {
            "bin_start": 0.754528571541788,
            "bin_end": 0.7615027170108389,
            "count": 0
           },
           {
            "bin_start": 0.7615027170108389,
            "bin_end": 0.7684768624798899,
            "count": 0
           },
           {
            "bin_start": 0.7684768624798899,
            "bin_end": 0.7754510079489408,
            "count": 0
           },
           {
            "bin_start": 0.7754510079489408,
            "bin_end": 0.7824251534179918,
            "count": 0
           },
           {
            "bin_start": 0.7824251534179918,
            "bin_end": 0.7893992988870426,
            "count": 1
           },
           {
            "bin_start": 0.7893992988870426,
            "bin_end": 0.7963734443560936,
            "count": 0
           },
           {
            "bin_start": 0.7963734443560936,
            "bin_end": 0.8033475898251445,
            "count": 1
           }
          ]
         }
        },
        {
         "name": "unemployment",
         "dtype": "float64",
         "stats": {
          "unique_count": 3,
          "nan_count": 0,
          "min": "8.992",
          "max": "9.765",
          "histogram": [
           {
            "bin_start": 8.992,
            "bin_end": 9.0693,
            "count": 4
           },
           {
            "bin_start": 9.0693,
            "bin_end": 9.146600000000001,
            "count": 0
           },
           {
            "bin_start": 9.146600000000001,
            "bin_end": 9.2239,
            "count": 0
           },
           {
            "bin_start": 9.2239,
            "bin_end": 9.301200000000001,
            "count": 0
           },
           {
            "bin_start": 9.301200000000001,
            "bin_end": 9.3785,
            "count": 0
           },
           {
            "bin_start": 9.3785,
            "bin_end": 9.4558,
            "count": 0
           },
           {
            "bin_start": 9.4558,
            "bin_end": 9.533100000000001,
            "count": 0
           },
           {
            "bin_start": 9.533100000000001,
            "bin_end": 9.6104,
            "count": 0
           },
           {
            "bin_start": 9.6104,
            "bin_end": 9.687700000000001,
            "count": 0
           },
           {
            "bin_start": 9.687700000000001,
            "bin_end": 9.765,
            "count": 1
           }
          ]
         }
        },
        {
         "name": "_deepnote_index_column",
         "dtype": "int64"
        }
       ],
       "rows": [
        {
         "store": 14,
         "type": "A",
         "department": 92,
         "date": "2010-02-05",
         "weekly_sales": 293966.05,
         "is_holiday": false,
         "temperature_c": -2.605555555555556,
         "fuel_price_usd_per_l": 0.7354553403726412,
         "unemployment": 8.992,
         "_deepnote_index_column": 6201
        },
        {
         "store": 10,
         "type": "B",
         "department": 72,
         "date": "2010-02-05",
         "weekly_sales": 232558.51,
         "is_holiday": false,
         "temperature_c": 12.411111111111111,
         "fuel_price_usd_per_l": 0.7824779878533632,
         "unemployment": 9.765,
         "_deepnote_index_column": 4271
        },
        {
         "store": 10,
         "type": "B",
         "department": 72,
         "date": "2010-12-03",
         "weekly_sales": 218559.54,
         "is_holiday": false,
         "temperature_c": 10.65,
         "fuel_price_usd_per_l": 0.8033475898251445,
         "unemployment": 9.003,
         "_deepnote_index_column": 4281
        },
        {
         "store": 14,
         "type": "A",
         "department": 92,
         "date": "2010-03-05",
         "weekly_sales": 214383.07,
         "is_holiday": false,
         "temperature_c": 2.8500000000000014,
         "fuel_price_usd_per_l": 0.7336061351346352,
         "unemployment": 8.992,
         "_deepnote_index_column": 6202
        },
        {
         "store": 14,
         "type": "A",
         "department": 95,
         "date": "2010-02-05",
         "weekly_sales": 213042.66,
         "is_holiday": false,
         "temperature_c": -2.605555555555556,
         "fuel_price_usd_per_l": 0.7354553403726412,
         "unemployment": 8.992,
         "_deepnote_index_column": 6237
        }
       ]
      },
      "text/plain": "      store type  department        date  weekly_sales  is_holiday  \\\n6201     14    A          92  2010-02-05     293966.05       False   \n4271     10    B          72  2010-02-05     232558.51       False   \n4281     10    B          72  2010-12-03     218559.54       False   \n6202     14    A          92  2010-03-05     214383.07       False   \n6237     14    A          95  2010-02-05     213042.66       False   \n\n      temperature_c  fuel_price_usd_per_l  unemployment  \n6201      -2.605556              0.735455         8.992  \n4271      12.411111              0.782478         9.765  \n4281      10.650000              0.803348         9.003  \n6202       2.850000              0.733606         8.992  \n6237      -2.605556              0.735455         8.992  ",
      "text/html": "<div>\n<style scoped>\n    .dataframe tbody tr th:only-of-type {\n        vertical-align: middle;\n    }\n\n    .dataframe tbody tr th {\n        vertical-align: top;\n    }\n\n    .dataframe thead th {\n        text-align: right;\n    }\n</style>\n<table border=\"1\" class=\"dataframe\">\n  <thead>\n    <tr style=\"text-align: right;\">\n      <th></th>\n      <th>store</th>\n      <th>type</th>\n      <th>department</th>\n      <th>date</th>\n      <th>weekly_sales</th>\n      <th>is_holiday</th>\n      <th>temperature_c</th>\n      <th>fuel_price_usd_per_l</th>\n      <th>unemployment</th>\n    </tr>\n  </thead>\n  <tbody>\n    <tr>\n      <th>6201</th>\n      <td>14</td>\n      <td>A</td>\n      <td>92</td>\n      <td>2010-02-05</td>\n      <td>293966.05</td>\n      <td>False</td>\n      <td>-2.605556</td>\n      <td>0.735455</td>\n      <td>8.992</td>\n    </tr>\n    <tr>\n      <th>4271</th>\n      <td>10</td>\n      <td>B</td>\n      <td>72</td>\n      <td>2010-02-05</td>\n      <td>232558.51</td>\n      <td>False</td>\n      <td>12.411111</td>\n      <td>0.782478</td>\n      <td>9.765</td>\n    </tr>\n    <tr>\n      <th>4281</th>\n      <td>10</td>\n      <td>B</td>\n      <td>72</td>\n      <td>2010-12-03</td>\n      <td>218559.54</td>\n      <td>False</td>\n      <td>10.650000</td>\n      <td>0.803348</td>\n      <td>9.003</td>\n    </tr>\n    <tr>\n      <th>6202</th>\n      <td>14</td>\n      <td>A</td>\n      <td>92</td>\n      <td>2010-03-05</td>\n      <td>214383.07</td>\n      <td>False</td>\n      <td>2.850000</td>\n      <td>0.733606</td>\n      <td>8.992</td>\n    </tr>\n    <tr>\n      <th>6237</th>\n      <td>14</td>\n      <td>A</td>\n      <td>95</td>\n      <td>2010-02-05</td>\n      <td>213042.66</td>\n      <td>False</td>\n      <td>-2.605556</td>\n      <td>0.735455</td>\n      <td>8.992</td>\n    </tr>\n  </tbody>\n</table>\n</div>"
     },
     "metadata": {}
    }
   ]
  },
  {
   "cell_type": "markdown",
   "source": "<a style='text-decoration:none;line-height:16px;display:flex;color:#5B5B62;padding:10px;justify-content:end;' href='https://deepnote.com?utm_source=created-in-deepnote-cell&projectId=31152f18-3036-40d1-92d9-59f0bbdc0756' target=\"_blank\">\n<img alt='Created in deepnote.com' style='display:inline;max-height:16px;margin:0px;margin-right:7.5px;' src='data:image/svg+xml;base64,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' > </img>\nCreated in <span style='font-weight:600;margin-left:4px;'>Deepnote</span></a>",
   "metadata": {
    "tags": [],
    "created_in_deepnote_cell": true,
    "deepnote_cell_type": "markdown"
   }
  }
 ],
 "nbformat": 4,
 "nbformat_minor": 5,
 "metadata": {
  "kernelspec": {
   "display_name": "Python 3",
   "language": "python",
   "name": "python3"
  },
  "language_info": {
   "codemirror_mode": {
    "name": "ipython",
    "version": 3
   },
   "file_extension": ".py",
   "mimetype": "text/x-python",
   "name": "python",
   "nbconvert_exporter": "python",
   "pygments_lexer": "ipython3",
   "version": "3.8.8"
  },
  "deepnote_notebook_id": "4fe260b9-56b0-4c67-a58d-326e70d7bf51",
  "deepnote": {},
  "deepnote_execution_queue": []
 }
}