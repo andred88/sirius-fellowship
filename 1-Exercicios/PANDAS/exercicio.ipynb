{
 "cells": [
  {
   "cell_type": "code",
   "metadata": {
    "cell_id": "c7a0641404334022a3131662906a4944",
    "tags": [],
    "deepnote_to_be_reexecuted": false,
    "source_hash": "c76c7c51",
    "execution_start": 1654597392958,
    "execution_millis": 3,
    "deepnote_cell_type": "code",
    "deepnote_cell_height": 99
   },
   "source": "import pandas as pd\nimport numpy as np",
   "outputs": [],
   "execution_count": null
  },
  {
   "cell_type": "code",
   "metadata": {
    "cell_id": "80d18b68dc26470ba3b66fc8742c046d",
    "tags": [],
    "deepnote_to_be_reexecuted": false,
    "source_hash": "cafdd4bd",
    "execution_start": 1654597447650,
    "execution_millis": 1,
    "deepnote_cell_type": "code",
    "deepnote_cell_height": 117
   },
   "source": "np.random.seed(1)\nfrom numpy.random import randn\n",
   "outputs": [],
   "execution_count": null
  },
  {
   "cell_type": "code",
   "metadata": {
    "cell_id": "3086590b759e48c0b8c10717876f08a3",
    "tags": [],
    "deepnote_to_be_reexecuted": false,
    "source_hash": "9f7af9ae",
    "execution_start": 1654597450634,
    "execution_millis": 1,
    "deepnote_cell_type": "code",
    "deepnote_cell_height": 81
   },
   "source": "data = randn(5,4)",
   "outputs": [],
   "execution_count": null
  },
  {
   "cell_type": "code",
   "metadata": {
    "cell_id": "0d99390572634f199dcd69b4b9b05882",
    "tags": [],
    "deepnote_to_be_reexecuted": false,
    "source_hash": "e6928a8f",
    "execution_start": 1654597452998,
    "execution_millis": 437,
    "deepnote_cell_type": "code",
    "deepnote_cell_height": 195,
    "deepnote_output_heights": [
     98
    ]
   },
   "source": "data",
   "outputs": [
    {
     "output_type": "execute_result",
     "execution_count": 4,
     "data": {
      "text/plain": "array([[ 1.62434536, -0.61175641, -0.52817175, -1.07296862],\n       [ 0.86540763, -2.3015387 ,  1.74481176, -0.7612069 ],\n       [ 0.3190391 , -0.24937038,  1.46210794, -2.06014071],\n       [-0.3224172 , -0.38405435,  1.13376944, -1.09989127],\n       [-0.17242821, -0.87785842,  0.04221375,  0.58281521]])"
     },
     "metadata": {}
    }
   ],
   "execution_count": null
  },
  {
   "cell_type": "code",
   "metadata": {
    "cell_id": "03b2694794224aa783f06234862e2777",
    "tags": [],
    "deepnote_to_be_reexecuted": false,
    "source_hash": "b78dc56f",
    "execution_start": 1654597456847,
    "execution_millis": 10,
    "deepnote_cell_type": "code",
    "deepnote_cell_height": 136,
    "deepnote_output_heights": [
     21
    ]
   },
   "source": "indice = 'A B C D E'.split()\nindice",
   "outputs": [
    {
     "output_type": "execute_result",
     "execution_count": 5,
     "data": {
      "text/plain": "['A', 'B', 'C', 'D', 'E']"
     },
     "metadata": {}
    }
   ],
   "execution_count": null
  },
  {
   "cell_type": "code",
   "metadata": {
    "cell_id": "2c5a86e205f34f4b82904b7e0f17fdf3",
    "tags": [],
    "deepnote_to_be_reexecuted": false,
    "source_hash": "cd6eb2c9",
    "execution_start": 1654597460354,
    "execution_millis": 17,
    "owner_user_id": "f3b685db-82a0-4f74-9158-9e3d6de2c3bf",
    "deepnote_cell_type": "code",
    "deepnote_cell_height": 136,
    "deepnote_output_heights": [
     21
    ]
   },
   "source": "colunas = 'W X Y Z'.split()\ncolunas",
   "outputs": [
    {
     "output_type": "execute_result",
     "execution_count": 6,
     "data": {
      "text/plain": "['W', 'X', 'Y', 'Z']"
     },
     "metadata": {}
    }
   ],
   "execution_count": null
  },
  {
   "cell_type": "code",
   "metadata": {
    "cell_id": "e300c0d60251493db33ce08b6e4e41a7",
    "tags": [],
    "deepnote_to_be_reexecuted": false,
    "source_hash": "1265adf9",
    "execution_start": 1654597463289,
    "execution_millis": 0,
    "deepnote_cell_type": "code",
    "deepnote_cell_height": 81
   },
   "source": "df = pd.DataFrame(data= data, index = indice, columns= colunas)",
   "outputs": [],
   "execution_count": null
  },
  {
   "cell_type": "code",
   "metadata": {
    "cell_id": "3b8ad82e998f481a95540b8c6db33f69",
    "tags": [],
    "deepnote_to_be_reexecuted": false,
    "source_hash": "c085b6ba",
    "execution_start": 1654597467490,
    "execution_millis": 247,
    "deepnote_cell_type": "code",
    "deepnote_cell_height": 395
   },
   "source": "df.head()",
   "outputs": [
    {
     "output_type": "execute_result",
     "execution_count": 8,
     "data": {
      "application/vnd.deepnote.dataframe.v3+json": {
       "column_count": 4,
       "row_count": 5,
       "columns": [
        {
         "name": "W",
         "dtype": "float64",
         "stats": {
          "unique_count": 5,
          "nan_count": 0,
          "min": "-0.3224172040135075",
          "max": "1.6243453636632417",
          "histogram": [
           {
            "bin_start": -0.3224172040135075,
            "bin_end": -0.12774094724583257,
            "count": 2
           },
           {
            "bin_start": -0.12774094724583257,
            "bin_end": 0.06693530952184235,
            "count": 0
           },
           {
            "bin_start": 0.06693530952184235,
            "bin_end": 0.2616115662895172,
            "count": 0
           },
           {
            "bin_start": 0.2616115662895172,
            "bin_end": 0.4562878230571922,
            "count": 1
           },
           {
            "bin_start": 0.4562878230571922,
            "bin_end": 0.6509640798248671,
            "count": 0
           },
           {
            "bin_start": 0.6509640798248671,
            "bin_end": 0.8456403365925419,
            "count": 0
           },
           {
            "bin_start": 0.8456403365925419,
            "bin_end": 1.0403165933602168,
            "count": 1
           },
           {
            "bin_start": 1.0403165933602168,
            "bin_end": 1.2349928501278917,
            "count": 0
           },
           {
            "bin_start": 1.2349928501278917,
            "bin_end": 1.4296691068955667,
            "count": 0
           },
           {
            "bin_start": 1.4296691068955667,
            "bin_end": 1.6243453636632417,
            "count": 1
           }
          ]
         }
        },
        {
         "name": "X",
         "dtype": "float64",
         "stats": {
          "unique_count": 5,
          "nan_count": 0,
          "min": "-2.3015386968802827",
          "max": "-0.2493703754774101",
          "histogram": [
           {
            "bin_start": -2.3015386968802827,
            "bin_end": -2.0963218647399953,
            "count": 1
           },
           {
            "bin_start": -2.0963218647399953,
            "bin_end": -1.891105032599708,
            "count": 0
           },
           {
            "bin_start": -1.891105032599708,
            "bin_end": -1.685888200459421,
            "count": 0
           },
           {
            "bin_start": -1.685888200459421,
            "bin_end": -1.4806713683191335,
            "count": 0
           },
           {
            "bin_start": -1.4806713683191335,
            "bin_end": -1.2754545361788463,
            "count": 0
           },
           {
            "bin_start": -1.2754545361788463,
            "bin_end": -1.0702377040385591,
            "count": 0
           },
           {
            "bin_start": -1.0702377040385591,
            "bin_end": -0.8650208718982717,
            "count": 1
           },
           {
            "bin_start": -0.8650208718982717,
            "bin_end": -0.6598040397579845,
            "count": 0
           },
           {
            "bin_start": -0.6598040397579845,
            "bin_end": -0.45458720761769733,
            "count": 1
           },
           {
            "bin_start": -0.45458720761769733,
            "bin_end": -0.2493703754774101,
            "count": 2
           }
          ]
         }
        },
        {
         "name": "Y",
         "dtype": "float64",
         "stats": {
          "unique_count": 5,
          "nan_count": 0,
          "min": "-0.5281717522634557",
          "max": "1.74481176421648",
          "histogram": [
           {
            "bin_start": -0.5281717522634557,
            "bin_end": -0.30087340061546214,
            "count": 1
           },
           {
            "bin_start": -0.30087340061546214,
            "bin_end": -0.07357504896746858,
            "count": 0
           },
           {
            "bin_start": -0.07357504896746858,
            "bin_end": 0.15372330268052492,
            "count": 1
           },
           {
            "bin_start": 0.15372330268052492,
            "bin_end": 0.38102165432851853,
            "count": 0
           },
           {
            "bin_start": 0.38102165432851853,
            "bin_end": 0.6083200059765121,
            "count": 0
           },
           {
            "bin_start": 0.6083200059765121,
            "bin_end": 0.8356183576245055,
            "count": 0
           },
           {
            "bin_start": 0.8356183576245055,
            "bin_end": 1.0629167092724991,
            "count": 0
           },
           {
            "bin_start": 1.0629167092724991,
            "bin_end": 1.2902150609204928,
            "count": 1
           },
           {
            "bin_start": 1.2902150609204928,
            "bin_end": 1.5175134125684864,
            "count": 1
           },
           {
            "bin_start": 1.5175134125684864,
            "bin_end": 1.74481176421648,
            "count": 1
           }
          ]
         }
        },
        {
         "name": "Z",
         "dtype": "float64",
         "stats": {
          "unique_count": 5,
          "nan_count": 0,
          "min": "-2.060140709497654",
          "max": "0.5828152137158222",
          "histogram": [
           {
            "bin_start": -2.060140709497654,
            "bin_end": -1.7958451171763063,
            "count": 1
           },
           {
            "bin_start": -1.7958451171763063,
            "bin_end": -1.5315495248549589,
            "count": 0
           },
           {
            "bin_start": -1.5315495248549589,
            "bin_end": -1.2672539325336114,
            "count": 0
           },
           {
            "bin_start": -1.2672539325336114,
            "bin_end": -1.0029583402122637,
            "count": 2
           },
           {
            "bin_start": -1.0029583402122637,
            "bin_end": -0.738662747890916,
            "count": 1
           },
           {
            "bin_start": -0.738662747890916,
            "bin_end": -0.47436715556956854,
            "count": 0
           },
           {
            "bin_start": -0.47436715556956854,
            "bin_end": -0.21007156324822107,
            "count": 0
           },
           {
            "bin_start": -0.21007156324822107,
            "bin_end": 0.05422402907312662,
            "count": 0
           },
           {
            "bin_start": 0.05422402907312662,
            "bin_end": 0.3185196213944743,
            "count": 0
           },
           {
            "bin_start": 0.3185196213944743,
            "bin_end": 0.5828152137158222,
            "count": 1
           }
          ]
         }
        },
        {
         "name": "_deepnote_index_column",
         "dtype": "object"
        }
       ],
       "rows": [
        {
         "W": 1.6243453636632417,
         "X": -0.6117564136500754,
         "Y": -0.5281717522634557,
         "Z": -1.0729686221561705,
         "_deepnote_index_column": "A"
        },
        {
         "W": 0.8654076293246785,
         "X": -2.3015386968802827,
         "Y": 1.74481176421648,
         "Z": -0.7612069008951028,
         "_deepnote_index_column": "B"
        },
        {
         "W": 0.31903909605709857,
         "X": -0.2493703754774101,
         "Y": 1.462107937044974,
         "Z": -2.060140709497654,
         "_deepnote_index_column": "C"
        },
        {
         "W": -0.3224172040135075,
         "X": -0.38405435466841564,
         "Y": 1.1337694423354374,
         "Z": -1.0998912673140309,
         "_deepnote_index_column": "D"
        },
        {
         "W": -0.17242820755043575,
         "X": -0.8778584179213718,
         "Y": 0.04221374671559283,
         "Z": 0.5828152137158222,
         "_deepnote_index_column": "E"
        }
       ]
      },
      "text/plain": "          W         X         Y         Z\nA  1.624345 -0.611756 -0.528172 -1.072969\nB  0.865408 -2.301539  1.744812 -0.761207\nC  0.319039 -0.249370  1.462108 -2.060141\nD -0.322417 -0.384054  1.133769 -1.099891\nE -0.172428 -0.877858  0.042214  0.582815",
      "text/html": "<div>\n<style scoped>\n    .dataframe tbody tr th:only-of-type {\n        vertical-align: middle;\n    }\n\n    .dataframe tbody tr th {\n        vertical-align: top;\n    }\n\n    .dataframe thead th {\n        text-align: right;\n    }\n</style>\n<table border=\"1\" class=\"dataframe\">\n  <thead>\n    <tr style=\"text-align: right;\">\n      <th></th>\n      <th>W</th>\n      <th>X</th>\n      <th>Y</th>\n      <th>Z</th>\n    </tr>\n  </thead>\n  <tbody>\n    <tr>\n      <th>A</th>\n      <td>1.624345</td>\n      <td>-0.611756</td>\n      <td>-0.528172</td>\n      <td>-1.072969</td>\n    </tr>\n    <tr>\n      <th>B</th>\n      <td>0.865408</td>\n      <td>-2.301539</td>\n      <td>1.744812</td>\n      <td>-0.761207</td>\n    </tr>\n    <tr>\n      <th>C</th>\n      <td>0.319039</td>\n      <td>-0.249370</td>\n      <td>1.462108</td>\n      <td>-2.060141</td>\n    </tr>\n    <tr>\n      <th>D</th>\n      <td>-0.322417</td>\n      <td>-0.384054</td>\n      <td>1.133769</td>\n      <td>-1.099891</td>\n    </tr>\n    <tr>\n      <th>E</th>\n      <td>-0.172428</td>\n      <td>-0.877858</td>\n      <td>0.042214</td>\n      <td>0.582815</td>\n    </tr>\n  </tbody>\n</table>\n</div>"
     },
     "metadata": {}
    }
   ],
   "execution_count": null
  },
  {
   "cell_type": "code",
   "source": "df[['W','Z']]",
   "metadata": {
    "cell_id": "ebfdb91353b14299b920a78c70ed760e",
    "tags": [],
    "deepnote_to_be_reexecuted": false,
    "source_hash": "87b2252a",
    "execution_start": 1654597573372,
    "execution_millis": 31,
    "deepnote_cell_type": "code",
    "deepnote_cell_height": 395
   },
   "outputs": [
    {
     "output_type": "execute_result",
     "execution_count": 10,
     "data": {
      "application/vnd.deepnote.dataframe.v3+json": {
       "column_count": 2,
       "row_count": 5,
       "columns": [
        {
         "name": "W",
         "dtype": "float64",
         "stats": {
          "unique_count": 5,
          "nan_count": 0,
          "min": "-0.3224172040135075",
          "max": "1.6243453636632417",
          "histogram": [
           {
            "bin_start": -0.3224172040135075,
            "bin_end": -0.12774094724583257,
            "count": 2
           },
           {
            "bin_start": -0.12774094724583257,
            "bin_end": 0.06693530952184235,
            "count": 0
           },
           {
            "bin_start": 0.06693530952184235,
            "bin_end": 0.2616115662895172,
            "count": 0
           },
           {
            "bin_start": 0.2616115662895172,
            "bin_end": 0.4562878230571922,
            "count": 1
           },
           {
            "bin_start": 0.4562878230571922,
            "bin_end": 0.6509640798248671,
            "count": 0
           },
           {
            "bin_start": 0.6509640798248671,
            "bin_end": 0.8456403365925419,
            "count": 0
           },
           {
            "bin_start": 0.8456403365925419,
            "bin_end": 1.0403165933602168,
            "count": 1
           },
           {
            "bin_start": 1.0403165933602168,
            "bin_end": 1.2349928501278917,
            "count": 0
           },
           {
            "bin_start": 1.2349928501278917,
            "bin_end": 1.4296691068955667,
            "count": 0
           },
           {
            "bin_start": 1.4296691068955667,
            "bin_end": 1.6243453636632417,
            "count": 1
           }
          ]
         }
        },
        {
         "name": "Z",
         "dtype": "float64",
         "stats": {
          "unique_count": 5,
          "nan_count": 0,
          "min": "-2.060140709497654",
          "max": "0.5828152137158222",
          "histogram": [
           {
            "bin_start": -2.060140709497654,
            "bin_end": -1.7958451171763063,
            "count": 1
           },
           {
            "bin_start": -1.7958451171763063,
            "bin_end": -1.5315495248549589,
            "count": 0
           },
           {
            "bin_start": -1.5315495248549589,
            "bin_end": -1.2672539325336114,
            "count": 0
           },
           {
            "bin_start": -1.2672539325336114,
            "bin_end": -1.0029583402122637,
            "count": 2
           },
           {
            "bin_start": -1.0029583402122637,
            "bin_end": -0.738662747890916,
            "count": 1
           },
           {
            "bin_start": -0.738662747890916,
            "bin_end": -0.47436715556956854,
            "count": 0
           },
           {
            "bin_start": -0.47436715556956854,
            "bin_end": -0.21007156324822107,
            "count": 0
           },
           {
            "bin_start": -0.21007156324822107,
            "bin_end": 0.05422402907312662,
            "count": 0
           },
           {
            "bin_start": 0.05422402907312662,
            "bin_end": 0.3185196213944743,
            "count": 0
           },
           {
            "bin_start": 0.3185196213944743,
            "bin_end": 0.5828152137158222,
            "count": 1
           }
          ]
         }
        },
        {
         "name": "_deepnote_index_column",
         "dtype": "object"
        }
       ],
       "rows": [
        {
         "W": 1.6243453636632417,
         "Z": -1.0729686221561705,
         "_deepnote_index_column": "A"
        },
        {
         "W": 0.8654076293246785,
         "Z": -0.7612069008951028,
         "_deepnote_index_column": "B"
        },
        {
         "W": 0.31903909605709857,
         "Z": -2.060140709497654,
         "_deepnote_index_column": "C"
        },
        {
         "W": -0.3224172040135075,
         "Z": -1.0998912673140309,
         "_deepnote_index_column": "D"
        },
        {
         "W": -0.17242820755043575,
         "Z": 0.5828152137158222,
         "_deepnote_index_column": "E"
        }
       ]
      },
      "text/plain": "          W         Z\nA  1.624345 -1.072969\nB  0.865408 -0.761207\nC  0.319039 -2.060141\nD -0.322417 -1.099891\nE -0.172428  0.582815",
      "text/html": "<div>\n<style scoped>\n    .dataframe tbody tr th:only-of-type {\n        vertical-align: middle;\n    }\n\n    .dataframe tbody tr th {\n        vertical-align: top;\n    }\n\n    .dataframe thead th {\n        text-align: right;\n    }\n</style>\n<table border=\"1\" class=\"dataframe\">\n  <thead>\n    <tr style=\"text-align: right;\">\n      <th></th>\n      <th>W</th>\n      <th>Z</th>\n    </tr>\n  </thead>\n  <tbody>\n    <tr>\n      <th>A</th>\n      <td>1.624345</td>\n      <td>-1.072969</td>\n    </tr>\n    <tr>\n      <th>B</th>\n      <td>0.865408</td>\n      <td>-0.761207</td>\n    </tr>\n    <tr>\n      <th>C</th>\n      <td>0.319039</td>\n      <td>-2.060141</td>\n    </tr>\n    <tr>\n      <th>D</th>\n      <td>-0.322417</td>\n      <td>-1.099891</td>\n    </tr>\n    <tr>\n      <th>E</th>\n      <td>-0.172428</td>\n      <td>0.582815</td>\n    </tr>\n  </tbody>\n</table>\n</div>"
     },
     "metadata": {}
    }
   ],
   "execution_count": null
  },
  {
   "cell_type": "code",
   "source": "df.loc['A']",
   "metadata": {
    "cell_id": "deb92d525bd34c5d911a36b0971dd5d0",
    "tags": [],
    "deepnote_to_be_reexecuted": false,
    "source_hash": "f7d62ae1",
    "execution_start": 1654597608143,
    "execution_millis": 381,
    "deepnote_cell_type": "code",
    "deepnote_cell_height": 195,
    "deepnote_output_heights": [
     98
    ]
   },
   "outputs": [
    {
     "output_type": "execute_result",
     "execution_count": 11,
     "data": {
      "text/plain": "W    1.624345\nX   -0.611756\nY   -0.528172\nZ   -1.072969\nName: A, dtype: float64"
     },
     "metadata": {}
    }
   ],
   "execution_count": null
  },
  {
   "cell_type": "code",
   "source": "df.iloc[2]",
   "metadata": {
    "cell_id": "95774382c7404f3fb7340a2e50c7a8f7",
    "tags": [],
    "deepnote_to_be_reexecuted": false,
    "source_hash": "7bd7608c",
    "execution_start": 1654597634919,
    "execution_millis": 13,
    "deepnote_cell_type": "code",
    "deepnote_cell_height": 195,
    "deepnote_output_heights": [
     98
    ]
   },
   "outputs": [
    {
     "output_type": "execute_result",
     "execution_count": 12,
     "data": {
      "text/plain": "W    0.319039\nX   -0.249370\nY    1.462108\nZ   -2.060141\nName: C, dtype: float64"
     },
     "metadata": {}
    }
   ],
   "execution_count": null
  },
  {
   "cell_type": "code",
   "source": "df.iloc[0,1]",
   "metadata": {
    "cell_id": "f80cfc9df55f4b3491c14d2afef57001",
    "tags": [],
    "deepnote_to_be_reexecuted": false,
    "source_hash": "ab5b5a38",
    "execution_start": 1654597671962,
    "execution_millis": 156,
    "deepnote_cell_type": "code",
    "deepnote_cell_height": 118,
    "deepnote_output_heights": [
     21
    ]
   },
   "outputs": [
    {
     "output_type": "execute_result",
     "execution_count": 13,
     "data": {
      "text/plain": "-0.6117564136500754"
     },
     "metadata": {}
    }
   ],
   "execution_count": null
  },
  {
   "cell_type": "code",
   "source": "df.loc[['A','B'],['X','Z']]",
   "metadata": {
    "cell_id": "0640fc54a69342a68aa0164fdc835332",
    "tags": [],
    "deepnote_to_be_reexecuted": false,
    "source_hash": "a3daa981",
    "execution_start": 1654597740666,
    "execution_millis": 780,
    "deepnote_cell_type": "code",
    "deepnote_cell_height": 272
   },
   "outputs": [
    {
     "output_type": "execute_result",
     "execution_count": 14,
     "data": {
      "application/vnd.deepnote.dataframe.v3+json": {
       "column_count": 2,
       "row_count": 2,
       "columns": [
        {
         "name": "X",
         "dtype": "float64",
         "stats": {
          "unique_count": 2,
          "nan_count": 0,
          "min": "-2.3015386968802827",
          "max": "-0.6117564136500754",
          "histogram": [
           {
            "bin_start": -2.3015386968802827,
            "bin_end": -2.132560468557262,
            "count": 1
           },
           {
            "bin_start": -2.132560468557262,
            "bin_end": -1.963582240234241,
            "count": 0
           },
           {
            "bin_start": -1.963582240234241,
            "bin_end": -1.7946040119112205,
            "count": 0
           },
           {
            "bin_start": -1.7946040119112205,
            "bin_end": -1.6256257835881998,
            "count": 0
           },
           {
            "bin_start": -1.6256257835881998,
            "bin_end": -1.456647555265179,
            "count": 0
           },
           {
            "bin_start": -1.456647555265179,
            "bin_end": -1.2876693269421584,
            "count": 0
           },
           {
            "bin_start": -1.2876693269421584,
            "bin_end": -1.1186910986191376,
            "count": 0
           },
           {
            "bin_start": -1.1186910986191376,
            "bin_end": -0.9497128702961168,
            "count": 0
           },
           {
            "bin_start": -0.9497128702961168,
            "bin_end": -0.780734641973096,
            "count": 0
           },
           {
            "bin_start": -0.780734641973096,
            "bin_end": -0.6117564136500754,
            "count": 1
           }
          ]
         }
        },
        {
         "name": "Z",
         "dtype": "float64",
         "stats": {
          "unique_count": 2,
          "nan_count": 0,
          "min": "-1.0729686221561705",
          "max": "-0.7612069008951028",
          "histogram": [
           {
            "bin_start": -1.0729686221561705,
            "bin_end": -1.0417924500300637,
            "count": 1
           },
           {
            "bin_start": -1.0417924500300637,
            "bin_end": -1.010616277903957,
            "count": 0
           },
           {
            "bin_start": -1.010616277903957,
            "bin_end": -0.9794401057778501,
            "count": 0
           },
           {
            "bin_start": -0.9794401057778501,
            "bin_end": -0.9482639336517434,
            "count": 0
           },
           {
            "bin_start": -0.9482639336517434,
            "bin_end": -0.9170877615256366,
            "count": 0
           },
           {
            "bin_start": -0.9170877615256366,
            "bin_end": -0.8859115893995299,
            "count": 0
           },
           {
            "bin_start": -0.8859115893995299,
            "bin_end": -0.8547354172734231,
            "count": 0
           },
           {
            "bin_start": -0.8547354172734231,
            "bin_end": -0.8235592451473164,
            "count": 0
           },
           {
            "bin_start": -0.8235592451473164,
            "bin_end": -0.7923830730212096,
            "count": 0
           },
           {
            "bin_start": -0.7923830730212096,
            "bin_end": -0.7612069008951028,
            "count": 1
           }
          ]
         }
        },
        {
         "name": "_deepnote_index_column",
         "dtype": "object"
        }
       ],
       "rows": [
        {
         "X": -0.6117564136500754,
         "Z": -1.0729686221561705,
         "_deepnote_index_column": "A"
        },
        {
         "X": -2.3015386968802827,
         "Z": -0.7612069008951028,
         "_deepnote_index_column": "B"
        }
       ]
      },
      "text/plain": "          X         Z\nA -0.611756 -1.072969\nB -2.301539 -0.761207",
      "text/html": "<div>\n<style scoped>\n    .dataframe tbody tr th:only-of-type {\n        vertical-align: middle;\n    }\n\n    .dataframe tbody tr th {\n        vertical-align: top;\n    }\n\n    .dataframe thead th {\n        text-align: right;\n    }\n</style>\n<table border=\"1\" class=\"dataframe\">\n  <thead>\n    <tr style=\"text-align: right;\">\n      <th></th>\n      <th>X</th>\n      <th>Z</th>\n    </tr>\n  </thead>\n  <tbody>\n    <tr>\n      <th>A</th>\n      <td>-0.611756</td>\n      <td>-1.072969</td>\n    </tr>\n    <tr>\n      <th>B</th>\n      <td>-2.301539</td>\n      <td>-0.761207</td>\n    </tr>\n  </tbody>\n</table>\n</div>"
     },
     "metadata": {}
    }
   ],
   "execution_count": null
  },
  {
   "cell_type": "code",
   "source": "type(df['W'])",
   "metadata": {
    "cell_id": "8335b2ecdf684ac4abb40e2bd3621f73",
    "tags": [],
    "deepnote_to_be_reexecuted": false,
    "source_hash": "d42d2e03",
    "execution_start": 1654597779566,
    "execution_millis": 110,
    "deepnote_cell_type": "code",
    "deepnote_cell_height": 118,
    "deepnote_output_heights": [
     21
    ]
   },
   "outputs": [
    {
     "output_type": "execute_result",
     "execution_count": 15,
     "data": {
      "text/plain": "pandas.core.series.Series"
     },
     "metadata": {}
    }
   ],
   "execution_count": null
  },
  {
   "cell_type": "code",
   "source": "df['U'] = randn(5)",
   "metadata": {
    "cell_id": "fdea40ba5986456e8efb71fa3378215a",
    "tags": [],
    "deepnote_to_be_reexecuted": false,
    "source_hash": "ce8e2e73",
    "execution_start": 1654597856830,
    "execution_millis": 3,
    "deepnote_cell_type": "code",
    "deepnote_cell_height": 81
   },
   "outputs": [],
   "execution_count": null
  },
  {
   "cell_type": "code",
   "source": "df.head()",
   "metadata": {
    "cell_id": "0e4070758c7748fe971669b6811cbf90",
    "tags": [],
    "deepnote_to_be_reexecuted": false,
    "source_hash": "c085b6ba",
    "execution_start": 1654597870742,
    "execution_millis": 15,
    "deepnote_cell_type": "code",
    "deepnote_cell_height": 395
   },
   "outputs": [
    {
     "output_type": "execute_result",
     "execution_count": 17,
     "data": {
      "application/vnd.deepnote.dataframe.v3+json": {
       "column_count": 5,
       "row_count": 5,
       "columns": [
        {
         "name": "W",
         "dtype": "float64",
         "stats": {
          "unique_count": 5,
          "nan_count": 0,
          "min": "-0.3224172040135075",
          "max": "1.6243453636632417",
          "histogram": [
           {
            "bin_start": -0.3224172040135075,
            "bin_end": -0.12774094724583257,
            "count": 2
           },
           {
            "bin_start": -0.12774094724583257,
            "bin_end": 0.06693530952184235,
            "count": 0
           },
           {
            "bin_start": 0.06693530952184235,
            "bin_end": 0.2616115662895172,
            "count": 0
           },
           {
            "bin_start": 0.2616115662895172,
            "bin_end": 0.4562878230571922,
            "count": 1
           },
           {
            "bin_start": 0.4562878230571922,
            "bin_end": 0.6509640798248671,
            "count": 0
           },
           {
            "bin_start": 0.6509640798248671,
            "bin_end": 0.8456403365925419,
            "count": 0
           },
           {
            "bin_start": 0.8456403365925419,
            "bin_end": 1.0403165933602168,
            "count": 1
           },
           {
            "bin_start": 1.0403165933602168,
            "bin_end": 1.2349928501278917,
            "count": 0
           },
           {
            "bin_start": 1.2349928501278917,
            "bin_end": 1.4296691068955667,
            "count": 0
           },
           {
            "bin_start": 1.4296691068955667,
            "bin_end": 1.6243453636632417,
            "count": 1
           }
          ]
         }
        },
        {
         "name": "X",
         "dtype": "float64",
         "stats": {
          "unique_count": 5,
          "nan_count": 0,
          "min": "-2.3015386968802827",
          "max": "-0.2493703754774101",
          "histogram": [
           {
            "bin_start": -2.3015386968802827,
            "bin_end": -2.0963218647399953,
            "count": 1
           },
           {
            "bin_start": -2.0963218647399953,
            "bin_end": -1.891105032599708,
            "count": 0
           },
           {
            "bin_start": -1.891105032599708,
            "bin_end": -1.685888200459421,
            "count": 0
           },
           {
            "bin_start": -1.685888200459421,
            "bin_end": -1.4806713683191335,
            "count": 0
           },
           {
            "bin_start": -1.4806713683191335,
            "bin_end": -1.2754545361788463,
            "count": 0
           },
           {
            "bin_start": -1.2754545361788463,
            "bin_end": -1.0702377040385591,
            "count": 0
           },
           {
            "bin_start": -1.0702377040385591,
            "bin_end": -0.8650208718982717,
            "count": 1
           },
           {
            "bin_start": -0.8650208718982717,
            "bin_end": -0.6598040397579845,
            "count": 0
           },
           {
            "bin_start": -0.6598040397579845,
            "bin_end": -0.45458720761769733,
            "count": 1
           },
           {
            "bin_start": -0.45458720761769733,
            "bin_end": -0.2493703754774101,
            "count": 2
           }
          ]
         }
        },
        {
         "name": "Y",
         "dtype": "float64",
         "stats": {
          "unique_count": 5,
          "nan_count": 0,
          "min": "-0.5281717522634557",
          "max": "1.74481176421648",
          "histogram": [
           {
            "bin_start": -0.5281717522634557,
            "bin_end": -0.30087340061546214,
            "count": 1
           },
           {
            "bin_start": -0.30087340061546214,
            "bin_end": -0.07357504896746858,
            "count": 0
           },
           {
            "bin_start": -0.07357504896746858,
            "bin_end": 0.15372330268052492,
            "count": 1
           },
           {
            "bin_start": 0.15372330268052492,
            "bin_end": 0.38102165432851853,
            "count": 0
           },
           {
            "bin_start": 0.38102165432851853,
            "bin_end": 0.6083200059765121,
            "count": 0
           },
           {
            "bin_start": 0.6083200059765121,
            "bin_end": 0.8356183576245055,
            "count": 0
           },
           {
            "bin_start": 0.8356183576245055,
            "bin_end": 1.0629167092724991,
            "count": 0
           },
           {
            "bin_start": 1.0629167092724991,
            "bin_end": 1.2902150609204928,
            "count": 1
           },
           {
            "bin_start": 1.2902150609204928,
            "bin_end": 1.5175134125684864,
            "count": 1
           },
           {
            "bin_start": 1.5175134125684864,
            "bin_end": 1.74481176421648,
            "count": 1
           }
          ]
         }
        },
        {
         "name": "Z",
         "dtype": "float64",
         "stats": {
          "unique_count": 5,
          "nan_count": 0,
          "min": "-2.060140709497654",
          "max": "0.5828152137158222",
          "histogram": [
           {
            "bin_start": -2.060140709497654,
            "bin_end": -1.7958451171763063,
            "count": 1
           },
           {
            "bin_start": -1.7958451171763063,
            "bin_end": -1.5315495248549589,
            "count": 0
           },
           {
            "bin_start": -1.5315495248549589,
            "bin_end": -1.2672539325336114,
            "count": 0
           },
           {
            "bin_start": -1.2672539325336114,
            "bin_end": -1.0029583402122637,
            "count": 2
           },
           {
            "bin_start": -1.0029583402122637,
            "bin_end": -0.738662747890916,
            "count": 1
           },
           {
            "bin_start": -0.738662747890916,
            "bin_end": -0.47436715556956854,
            "count": 0
           },
           {
            "bin_start": -0.47436715556956854,
            "bin_end": -0.21007156324822107,
            "count": 0
           },
           {
            "bin_start": -0.21007156324822107,
            "bin_end": 0.05422402907312662,
            "count": 0
           },
           {
            "bin_start": 0.05422402907312662,
            "bin_end": 0.3185196213944743,
            "count": 0
           },
           {
            "bin_start": 0.3185196213944743,
            "bin_end": 0.5828152137158222,
            "count": 1
           }
          ]
         }
        },
        {
         "name": "U",
         "dtype": "float64",
         "stats": {
          "unique_count": 5,
          "nan_count": 0,
          "min": "-1.1006191772129212",
          "max": "1.1447237098396141",
          "histogram": [
           {
            "bin_start": -1.1006191772129212,
            "bin_end": -0.8760848885076677,
            "count": 1
           },
           {
            "bin_start": -0.8760848885076677,
            "bin_end": -0.6515505998024141,
            "count": 0
           },
           {
            "bin_start": -0.6515505998024141,
            "bin_end": -0.42701631109716054,
            "count": 0
           },
           {
            "bin_start": -0.42701631109716054,
            "bin_end": -0.20248202239190705,
            "count": 0
           },
           {
            "bin_start": -0.20248202239190705,
            "bin_end": 0.022052266313346447,
            "count": 0
           },
           {
            "bin_start": 0.022052266313346447,
            "bin_end": 0.24658655501860016,
            "count": 0
           },
           {
            "bin_start": 0.24658655501860016,
            "bin_end": 0.47112084372385366,
            "count": 0
           },
           {
            "bin_start": 0.47112084372385366,
            "bin_end": 0.6956551324291071,
            "count": 1
           },
           {
            "bin_start": 0.6956551324291071,
            "bin_end": 0.9201894211343609,
            "count": 2
           },
           {
            "bin_start": 0.9201894211343609,
            "bin_end": 1.1447237098396141,
            "count": 1
           }
          ]
         }
        },
        {
         "name": "_deepnote_index_column",
         "dtype": "object"
        }
       ],
       "rows": [
        {
         "W": 1.6243453636632417,
         "X": -0.6117564136500754,
         "Y": -0.5281717522634557,
         "Z": -1.0729686221561705,
         "U": -1.1006191772129212,
         "_deepnote_index_column": "A"
        },
        {
         "W": 0.8654076293246785,
         "X": -2.3015386968802827,
         "Y": 1.74481176421648,
         "Z": -0.7612069008951028,
         "U": 1.1447237098396141,
         "_deepnote_index_column": "B"
        },
        {
         "W": 0.31903909605709857,
         "X": -0.2493703754774101,
         "Y": 1.462107937044974,
         "Z": -2.060140709497654,
         "U": 0.9015907205927955,
         "_deepnote_index_column": "C"
        },
        {
         "W": -0.3224172040135075,
         "X": -0.38405435466841564,
         "Y": 1.1337694423354374,
         "Z": -1.0998912673140309,
         "U": 0.5024943389018682,
         "_deepnote_index_column": "D"
        },
        {
         "W": -0.17242820755043575,
         "X": -0.8778584179213718,
         "Y": 0.04221374671559283,
         "Z": 0.5828152137158222,
         "U": 0.9008559492644118,
         "_deepnote_index_column": "E"
        }
       ]
      },
      "text/plain": "          W         X         Y         Z         U\nA  1.624345 -0.611756 -0.528172 -1.072969 -1.100619\nB  0.865408 -2.301539  1.744812 -0.761207  1.144724\nC  0.319039 -0.249370  1.462108 -2.060141  0.901591\nD -0.322417 -0.384054  1.133769 -1.099891  0.502494\nE -0.172428 -0.877858  0.042214  0.582815  0.900856",
      "text/html": "<div>\n<style scoped>\n    .dataframe tbody tr th:only-of-type {\n        vertical-align: middle;\n    }\n\n    .dataframe tbody tr th {\n        vertical-align: top;\n    }\n\n    .dataframe thead th {\n        text-align: right;\n    }\n</style>\n<table border=\"1\" class=\"dataframe\">\n  <thead>\n    <tr style=\"text-align: right;\">\n      <th></th>\n      <th>W</th>\n      <th>X</th>\n      <th>Y</th>\n      <th>Z</th>\n      <th>U</th>\n    </tr>\n  </thead>\n  <tbody>\n    <tr>\n      <th>A</th>\n      <td>1.624345</td>\n      <td>-0.611756</td>\n      <td>-0.528172</td>\n      <td>-1.072969</td>\n      <td>-1.100619</td>\n    </tr>\n    <tr>\n      <th>B</th>\n      <td>0.865408</td>\n      <td>-2.301539</td>\n      <td>1.744812</td>\n      <td>-0.761207</td>\n      <td>1.144724</td>\n    </tr>\n    <tr>\n      <th>C</th>\n      <td>0.319039</td>\n      <td>-0.249370</td>\n      <td>1.462108</td>\n      <td>-2.060141</td>\n      <td>0.901591</td>\n    </tr>\n    <tr>\n      <th>D</th>\n      <td>-0.322417</td>\n      <td>-0.384054</td>\n      <td>1.133769</td>\n      <td>-1.099891</td>\n      <td>0.502494</td>\n    </tr>\n    <tr>\n      <th>E</th>\n      <td>-0.172428</td>\n      <td>-0.877858</td>\n      <td>0.042214</td>\n      <td>0.582815</td>\n      <td>0.900856</td>\n    </tr>\n  </tbody>\n</table>\n</div>"
     },
     "metadata": {}
    }
   ],
   "execution_count": null
  },
  {
   "cell_type": "code",
   "source": "df.drop('Y', axis=1)",
   "metadata": {
    "cell_id": "27d5fa00d0ad493c8f4f1d1128bae15d",
    "tags": [],
    "deepnote_to_be_reexecuted": false,
    "source_hash": "95484f00",
    "execution_start": 1654597934558,
    "execution_millis": 3,
    "deepnote_cell_type": "code",
    "deepnote_cell_height": 395
   },
   "outputs": [
    {
     "output_type": "execute_result",
     "execution_count": 18,
     "data": {
      "application/vnd.deepnote.dataframe.v3+json": {
       "column_count": 4,
       "row_count": 5,
       "columns": [
        {
         "name": "W",
         "dtype": "float64",
         "stats": {
          "unique_count": 5,
          "nan_count": 0,
          "min": "-0.3224172040135075",
          "max": "1.6243453636632417",
          "histogram": [
           {
            "bin_start": -0.3224172040135075,
            "bin_end": -0.12774094724583257,
            "count": 2
           },
           {
            "bin_start": -0.12774094724583257,
            "bin_end": 0.06693530952184235,
            "count": 0
           },
           {
            "bin_start": 0.06693530952184235,
            "bin_end": 0.2616115662895172,
            "count": 0
           },
           {
            "bin_start": 0.2616115662895172,
            "bin_end": 0.4562878230571922,
            "count": 1
           },
           {
            "bin_start": 0.4562878230571922,
            "bin_end": 0.6509640798248671,
            "count": 0
           },
           {
            "bin_start": 0.6509640798248671,
            "bin_end": 0.8456403365925419,
            "count": 0
           },
           {
            "bin_start": 0.8456403365925419,
            "bin_end": 1.0403165933602168,
            "count": 1
           },
           {
            "bin_start": 1.0403165933602168,
            "bin_end": 1.2349928501278917,
            "count": 0
           },
           {
            "bin_start": 1.2349928501278917,
            "bin_end": 1.4296691068955667,
            "count": 0
           },
           {
            "bin_start": 1.4296691068955667,
            "bin_end": 1.6243453636632417,
            "count": 1
           }
          ]
         }
        },
        {
         "name": "X",
         "dtype": "float64",
         "stats": {
          "unique_count": 5,
          "nan_count": 0,
          "min": "-2.3015386968802827",
          "max": "-0.2493703754774101",
          "histogram": [
           {
            "bin_start": -2.3015386968802827,
            "bin_end": -2.0963218647399953,
            "count": 1
           },
           {
            "bin_start": -2.0963218647399953,
            "bin_end": -1.891105032599708,
            "count": 0
           },
           {
            "bin_start": -1.891105032599708,
            "bin_end": -1.685888200459421,
            "count": 0
           },
           {
            "bin_start": -1.685888200459421,
            "bin_end": -1.4806713683191335,
            "count": 0
           },
           {
            "bin_start": -1.4806713683191335,
            "bin_end": -1.2754545361788463,
            "count": 0
           },
           {
            "bin_start": -1.2754545361788463,
            "bin_end": -1.0702377040385591,
            "count": 0
           },
           {
            "bin_start": -1.0702377040385591,
            "bin_end": -0.8650208718982717,
            "count": 1
           },
           {
            "bin_start": -0.8650208718982717,
            "bin_end": -0.6598040397579845,
            "count": 0
           },
           {
            "bin_start": -0.6598040397579845,
            "bin_end": -0.45458720761769733,
            "count": 1
           },
           {
            "bin_start": -0.45458720761769733,
            "bin_end": -0.2493703754774101,
            "count": 2
           }
          ]
         }
        },
        {
         "name": "Z",
         "dtype": "float64",
         "stats": {
          "unique_count": 5,
          "nan_count": 0,
          "min": "-2.060140709497654",
          "max": "0.5828152137158222",
          "histogram": [
           {
            "bin_start": -2.060140709497654,
            "bin_end": -1.7958451171763063,
            "count": 1
           },
           {
            "bin_start": -1.7958451171763063,
            "bin_end": -1.5315495248549589,
            "count": 0
           },
           {
            "bin_start": -1.5315495248549589,
            "bin_end": -1.2672539325336114,
            "count": 0
           },
           {
            "bin_start": -1.2672539325336114,
            "bin_end": -1.0029583402122637,
            "count": 2
           },
           {
            "bin_start": -1.0029583402122637,
            "bin_end": -0.738662747890916,
            "count": 1
           },
           {
            "bin_start": -0.738662747890916,
            "bin_end": -0.47436715556956854,
            "count": 0
           },
           {
            "bin_start": -0.47436715556956854,
            "bin_end": -0.21007156324822107,
            "count": 0
           },
           {
            "bin_start": -0.21007156324822107,
            "bin_end": 0.05422402907312662,
            "count": 0
           },
           {
            "bin_start": 0.05422402907312662,
            "bin_end": 0.3185196213944743,
            "count": 0
           },
           {
            "bin_start": 0.3185196213944743,
            "bin_end": 0.5828152137158222,
            "count": 1
           }
          ]
         }
        },
        {
         "name": "U",
         "dtype": "float64",
         "stats": {
          "unique_count": 5,
          "nan_count": 0,
          "min": "-1.1006191772129212",
          "max": "1.1447237098396141",
          "histogram": [
           {
            "bin_start": -1.1006191772129212,
            "bin_end": -0.8760848885076677,
            "count": 1
           },
           {
            "bin_start": -0.8760848885076677,
            "bin_end": -0.6515505998024141,
            "count": 0
           },
           {
            "bin_start": -0.6515505998024141,
            "bin_end": -0.42701631109716054,
            "count": 0
           },
           {
            "bin_start": -0.42701631109716054,
            "bin_end": -0.20248202239190705,
            "count": 0
           },
           {
            "bin_start": -0.20248202239190705,
            "bin_end": 0.022052266313346447,
            "count": 0
           },
           {
            "bin_start": 0.022052266313346447,
            "bin_end": 0.24658655501860016,
            "count": 0
           },
           {
            "bin_start": 0.24658655501860016,
            "bin_end": 0.47112084372385366,
            "count": 0
           },
           {
            "bin_start": 0.47112084372385366,
            "bin_end": 0.6956551324291071,
            "count": 1
           },
           {
            "bin_start": 0.6956551324291071,
            "bin_end": 0.9201894211343609,
            "count": 2
           },
           {
            "bin_start": 0.9201894211343609,
            "bin_end": 1.1447237098396141,
            "count": 1
           }
          ]
         }
        },
        {
         "name": "_deepnote_index_column",
         "dtype": "object"
        }
       ],
       "rows": [
        {
         "W": 1.6243453636632417,
         "X": -0.6117564136500754,
         "Z": -1.0729686221561705,
         "U": -1.1006191772129212,
         "_deepnote_index_column": "A"
        },
        {
         "W": 0.8654076293246785,
         "X": -2.3015386968802827,
         "Z": -0.7612069008951028,
         "U": 1.1447237098396141,
         "_deepnote_index_column": "B"
        },
        {
         "W": 0.31903909605709857,
         "X": -0.2493703754774101,
         "Z": -2.060140709497654,
         "U": 0.9015907205927955,
         "_deepnote_index_column": "C"
        },
        {
         "W": -0.3224172040135075,
         "X": -0.38405435466841564,
         "Z": -1.0998912673140309,
         "U": 0.5024943389018682,
         "_deepnote_index_column": "D"
        },
        {
         "W": -0.17242820755043575,
         "X": -0.8778584179213718,
         "Z": 0.5828152137158222,
         "U": 0.9008559492644118,
         "_deepnote_index_column": "E"
        }
       ]
      },
      "text/plain": "          W         X         Z         U\nA  1.624345 -0.611756 -1.072969 -1.100619\nB  0.865408 -2.301539 -0.761207  1.144724\nC  0.319039 -0.249370 -2.060141  0.901591\nD -0.322417 -0.384054 -1.099891  0.502494\nE -0.172428 -0.877858  0.582815  0.900856",
      "text/html": "<div>\n<style scoped>\n    .dataframe tbody tr th:only-of-type {\n        vertical-align: middle;\n    }\n\n    .dataframe tbody tr th {\n        vertical-align: top;\n    }\n\n    .dataframe thead th {\n        text-align: right;\n    }\n</style>\n<table border=\"1\" class=\"dataframe\">\n  <thead>\n    <tr style=\"text-align: right;\">\n      <th></th>\n      <th>W</th>\n      <th>X</th>\n      <th>Z</th>\n      <th>U</th>\n    </tr>\n  </thead>\n  <tbody>\n    <tr>\n      <th>A</th>\n      <td>1.624345</td>\n      <td>-0.611756</td>\n      <td>-1.072969</td>\n      <td>-1.100619</td>\n    </tr>\n    <tr>\n      <th>B</th>\n      <td>0.865408</td>\n      <td>-2.301539</td>\n      <td>-0.761207</td>\n      <td>1.144724</td>\n    </tr>\n    <tr>\n      <th>C</th>\n      <td>0.319039</td>\n      <td>-0.249370</td>\n      <td>-2.060141</td>\n      <td>0.901591</td>\n    </tr>\n    <tr>\n      <th>D</th>\n      <td>-0.322417</td>\n      <td>-0.384054</td>\n      <td>-1.099891</td>\n      <td>0.502494</td>\n    </tr>\n    <tr>\n      <th>E</th>\n      <td>-0.172428</td>\n      <td>-0.877858</td>\n      <td>0.582815</td>\n      <td>0.900856</td>\n    </tr>\n  </tbody>\n</table>\n</div>"
     },
     "metadata": {}
    }
   ],
   "execution_count": null
  },
  {
   "cell_type": "code",
   "source": "df.drop('Y', axis=1, inplace=True)",
   "metadata": {
    "cell_id": "adfb2313872c427c868ecaa2fd4048e0",
    "tags": [],
    "deepnote_to_be_reexecuted": false,
    "source_hash": "25aa9b9e",
    "execution_start": 1654597981448,
    "execution_millis": 2,
    "deepnote_cell_type": "code",
    "deepnote_cell_height": 81
   },
   "outputs": [],
   "execution_count": null
  },
  {
   "cell_type": "code",
   "source": "df<0",
   "metadata": {
    "cell_id": "b0a3b7d078034cf8baa3f51c478d5a93",
    "tags": [],
    "deepnote_to_be_reexecuted": false,
    "source_hash": "39bbc54c",
    "execution_start": 1654598058562,
    "execution_millis": 37,
    "deepnote_cell_type": "code",
    "deepnote_cell_height": 395
   },
   "outputs": [
    {
     "output_type": "execute_result",
     "execution_count": 23,
     "data": {
      "application/vnd.deepnote.dataframe.v3+json": {
       "column_count": 4,
       "row_count": 5,
       "columns": [
        {
         "name": "W",
         "dtype": "bool",
         "stats": {
          "unique_count": 2,
          "nan_count": 0,
          "categories": [
           {
            "name": "False",
            "count": 3
           },
           {
            "name": "True",
            "count": 2
           }
          ]
         }
        },
        {
         "name": "X",
         "dtype": "bool",
         "stats": {
          "unique_count": 1,
          "nan_count": 0,
          "categories": [
           {
            "name": "True",
            "count": 5
           }
          ]
         }
        },
        {
         "name": "Z",
         "dtype": "bool",
         "stats": {
          "unique_count": 2,
          "nan_count": 0,
          "categories": [
           {
            "name": "True",
            "count": 4
           },
           {
            "name": "False",
            "count": 1
           }
          ]
         }
        },
        {
         "name": "U",
         "dtype": "bool",
         "stats": {
          "unique_count": 2,
          "nan_count": 0,
          "categories": [
           {
            "name": "False",
            "count": 4
           },
           {
            "name": "True",
            "count": 1
           }
          ]
         }
        },
        {
         "name": "_deepnote_index_column",
         "dtype": "object"
        }
       ],
       "rows": [
        {
         "W": false,
         "X": true,
         "Z": true,
         "U": true,
         "_deepnote_index_column": "A"
        },
        {
         "W": false,
         "X": true,
         "Z": true,
         "U": false,
         "_deepnote_index_column": "B"
        },
        {
         "W": false,
         "X": true,
         "Z": true,
         "U": false,
         "_deepnote_index_column": "C"
        },
        {
         "W": true,
         "X": true,
         "Z": true,
         "U": false,
         "_deepnote_index_column": "D"
        },
        {
         "W": true,
         "X": true,
         "Z": false,
         "U": false,
         "_deepnote_index_column": "E"
        }
       ]
      },
      "text/plain": "       W     X      Z      U\nA  False  True   True   True\nB  False  True   True  False\nC  False  True   True  False\nD   True  True   True  False\nE   True  True  False  False",
      "text/html": "<div>\n<style scoped>\n    .dataframe tbody tr th:only-of-type {\n        vertical-align: middle;\n    }\n\n    .dataframe tbody tr th {\n        vertical-align: top;\n    }\n\n    .dataframe thead th {\n        text-align: right;\n    }\n</style>\n<table border=\"1\" class=\"dataframe\">\n  <thead>\n    <tr style=\"text-align: right;\">\n      <th></th>\n      <th>W</th>\n      <th>X</th>\n      <th>Z</th>\n      <th>U</th>\n    </tr>\n  </thead>\n  <tbody>\n    <tr>\n      <th>A</th>\n      <td>False</td>\n      <td>True</td>\n      <td>True</td>\n      <td>True</td>\n    </tr>\n    <tr>\n      <th>B</th>\n      <td>False</td>\n      <td>True</td>\n      <td>True</td>\n      <td>False</td>\n    </tr>\n    <tr>\n      <th>C</th>\n      <td>False</td>\n      <td>True</td>\n      <td>True</td>\n      <td>False</td>\n    </tr>\n    <tr>\n      <th>D</th>\n      <td>True</td>\n      <td>True</td>\n      <td>True</td>\n      <td>False</td>\n    </tr>\n    <tr>\n      <th>E</th>\n      <td>True</td>\n      <td>True</td>\n      <td>False</td>\n      <td>False</td>\n    </tr>\n  </tbody>\n</table>\n</div>"
     },
     "metadata": {}
    }
   ],
   "execution_count": null
  },
  {
   "cell_type": "code",
   "source": "df[df<0]",
   "metadata": {
    "cell_id": "5a54d148055b485cad6594a06e67f1a9",
    "tags": [],
    "deepnote_to_be_reexecuted": false,
    "source_hash": "e1dd4208",
    "execution_start": 1654598110673,
    "execution_millis": 96,
    "deepnote_cell_type": "code",
    "deepnote_cell_height": 395
   },
   "outputs": [
    {
     "output_type": "execute_result",
     "execution_count": 25,
     "data": {
      "application/vnd.deepnote.dataframe.v3+json": {
       "column_count": 4,
       "row_count": 5,
       "columns": [
        {
         "name": "W",
         "dtype": "float64",
         "stats": {
          "unique_count": 2,
          "nan_count": 3,
          "min": "-0.3224172040135075",
          "max": "-0.17242820755043575",
          "histogram": [
           {
            "bin_start": -0.3224172040135075,
            "bin_end": -0.3074183043672003,
            "count": 1
           },
           {
            "bin_start": -0.3074183043672003,
            "bin_end": -0.2924194047208931,
            "count": 0
           },
           {
            "bin_start": -0.2924194047208931,
            "bin_end": -0.27742050507458593,
            "count": 0
           },
           {
            "bin_start": -0.27742050507458593,
            "bin_end": -0.2624216054282788,
            "count": 0
           },
           {
            "bin_start": -0.2624216054282788,
            "bin_end": -0.24742270578197162,
            "count": 0
           },
           {
            "bin_start": -0.24742270578197162,
            "bin_end": -0.23242380613566443,
            "count": 0
           },
           {
            "bin_start": -0.23242380613566443,
            "bin_end": -0.21742490648935725,
            "count": 0
           },
           {
            "bin_start": -0.21742490648935725,
            "bin_end": -0.2024260068430501,
            "count": 0
           },
           {
            "bin_start": -0.2024260068430501,
            "bin_end": -0.1874271071967429,
            "count": 0
           },
           {
            "bin_start": -0.1874271071967429,
            "bin_end": -0.17242820755043575,
            "count": 1
           }
          ]
         }
        },
        {
         "name": "X",
         "dtype": "float64",
         "stats": {
          "unique_count": 5,
          "nan_count": 0,
          "min": "-2.3015386968802827",
          "max": "-0.2493703754774101",
          "histogram": [
           {
            "bin_start": -2.3015386968802827,
            "bin_end": -2.0963218647399953,
            "count": 1
           },
           {
            "bin_start": -2.0963218647399953,
            "bin_end": -1.891105032599708,
            "count": 0
           },
           {
            "bin_start": -1.891105032599708,
            "bin_end": -1.685888200459421,
            "count": 0
           },
           {
            "bin_start": -1.685888200459421,
            "bin_end": -1.4806713683191335,
            "count": 0
           },
           {
            "bin_start": -1.4806713683191335,
            "bin_end": -1.2754545361788463,
            "count": 0
           },
           {
            "bin_start": -1.2754545361788463,
            "bin_end": -1.0702377040385591,
            "count": 0
           },
           {
            "bin_start": -1.0702377040385591,
            "bin_end": -0.8650208718982717,
            "count": 1
           },
           {
            "bin_start": -0.8650208718982717,
            "bin_end": -0.6598040397579845,
            "count": 0
           },
           {
            "bin_start": -0.6598040397579845,
            "bin_end": -0.45458720761769733,
            "count": 1
           },
           {
            "bin_start": -0.45458720761769733,
            "bin_end": -0.2493703754774101,
            "count": 2
           }
          ]
         }
        },
        {
         "name": "Z",
         "dtype": "float64",
         "stats": {
          "unique_count": 4,
          "nan_count": 1,
          "min": "-2.060140709497654",
          "max": "-0.7612069008951028",
          "histogram": [
           {
            "bin_start": -2.060140709497654,
            "bin_end": -1.930247328637399,
            "count": 1
           },
           {
            "bin_start": -1.930247328637399,
            "bin_end": -1.8003539477771437,
            "count": 0
           },
           {
            "bin_start": -1.8003539477771437,
            "bin_end": -1.6704605669168888,
            "count": 0
           },
           {
            "bin_start": -1.6704605669168888,
            "bin_end": -1.5405671860566335,
            "count": 0
           },
           {
            "bin_start": -1.5405671860566335,
            "bin_end": -1.4106738051963785,
            "count": 0
           },
           {
            "bin_start": -1.4106738051963785,
            "bin_end": -1.2807804243361234,
            "count": 0
           },
           {
            "bin_start": -1.2807804243361234,
            "bin_end": -1.1508870434758682,
            "count": 0
           },
           {
            "bin_start": -1.1508870434758682,
            "bin_end": -1.020993662615613,
            "count": 2
           },
           {
            "bin_start": -1.020993662615613,
            "bin_end": -0.8911002817553579,
            "count": 0
           },
           {
            "bin_start": -0.8911002817553579,
            "bin_end": -0.7612069008951028,
            "count": 1
           }
          ]
         }
        },
        {
         "name": "U",
         "dtype": "float64",
         "stats": {
          "unique_count": 1,
          "nan_count": 4,
          "min": "-1.1006191772129212",
          "max": "-1.1006191772129212",
          "histogram": [
           {
            "bin_start": -1.6006191772129212,
            "bin_end": -1.5006191772129212,
            "count": 0
           },
           {
            "bin_start": -1.5006191772129212,
            "bin_end": -1.4006191772129213,
            "count": 0
           },
           {
            "bin_start": -1.4006191772129213,
            "bin_end": -1.3006191772129212,
            "count": 0
           },
           {
            "bin_start": -1.3006191772129212,
            "bin_end": -1.2006191772129213,
            "count": 0
           },
           {
            "bin_start": -1.2006191772129213,
            "bin_end": -1.1006191772129212,
            "count": 0
           },
           {
            "bin_start": -1.1006191772129212,
            "bin_end": -1.0006191772129212,
            "count": 1
           },
           {
            "bin_start": -1.0006191772129212,
            "bin_end": -0.9006191772129212,
            "count": 0
           },
           {
            "bin_start": -0.9006191772129212,
            "bin_end": -0.8006191772129212,
            "count": 0
           },
           {
            "bin_start": -0.8006191772129212,
            "bin_end": -0.7006191772129212,
            "count": 0
           },
           {
            "bin_start": -0.7006191772129212,
            "bin_end": -0.6006191772129212,
            "count": 0
           }
          ]
         }
        },
        {
         "name": "_deepnote_index_column",
         "dtype": "object"
        }
       ],
       "rows": [
        {
         "W": "nan",
         "X": -0.6117564136500754,
         "Z": -1.0729686221561705,
         "U": -1.1006191772129212,
         "_deepnote_index_column": "A"
        },
        {
         "W": "nan",
         "X": -2.3015386968802827,
         "Z": -0.7612069008951028,
         "U": "nan",
         "_deepnote_index_column": "B"
        },
        {
         "W": "nan",
         "X": -0.2493703754774101,
         "Z": -2.060140709497654,
         "U": "nan",
         "_deepnote_index_column": "C"
        },
        {
         "W": -0.3224172040135075,
         "X": -0.38405435466841564,
         "Z": -1.0998912673140309,
         "U": "nan",
         "_deepnote_index_column": "D"
        },
        {
         "W": -0.17242820755043575,
         "X": -0.8778584179213718,
         "Z": "nan",
         "U": "nan",
         "_deepnote_index_column": "E"
        }
       ]
      },
      "text/plain": "          W         X         Z         U\nA       NaN -0.611756 -1.072969 -1.100619\nB       NaN -2.301539 -0.761207       NaN\nC       NaN -0.249370 -2.060141       NaN\nD -0.322417 -0.384054 -1.099891       NaN\nE -0.172428 -0.877858       NaN       NaN",
      "text/html": "<div>\n<style scoped>\n    .dataframe tbody tr th:only-of-type {\n        vertical-align: middle;\n    }\n\n    .dataframe tbody tr th {\n        vertical-align: top;\n    }\n\n    .dataframe thead th {\n        text-align: right;\n    }\n</style>\n<table border=\"1\" class=\"dataframe\">\n  <thead>\n    <tr style=\"text-align: right;\">\n      <th></th>\n      <th>W</th>\n      <th>X</th>\n      <th>Z</th>\n      <th>U</th>\n    </tr>\n  </thead>\n  <tbody>\n    <tr>\n      <th>A</th>\n      <td>NaN</td>\n      <td>-0.611756</td>\n      <td>-1.072969</td>\n      <td>-1.100619</td>\n    </tr>\n    <tr>\n      <th>B</th>\n      <td>NaN</td>\n      <td>-2.301539</td>\n      <td>-0.761207</td>\n      <td>NaN</td>\n    </tr>\n    <tr>\n      <th>C</th>\n      <td>NaN</td>\n      <td>-0.249370</td>\n      <td>-2.060141</td>\n      <td>NaN</td>\n    </tr>\n    <tr>\n      <th>D</th>\n      <td>-0.322417</td>\n      <td>-0.384054</td>\n      <td>-1.099891</td>\n      <td>NaN</td>\n    </tr>\n    <tr>\n      <th>E</th>\n      <td>-0.172428</td>\n      <td>-0.877858</td>\n      <td>NaN</td>\n      <td>NaN</td>\n    </tr>\n  </tbody>\n</table>\n</div>"
     },
     "metadata": {}
    }
   ],
   "execution_count": null
  },
  {
   "cell_type": "code",
   "source": "df[df['U']<0]",
   "metadata": {
    "cell_id": "2a4051bccacd4b0cabbec1af7b28b472",
    "tags": [],
    "deepnote_to_be_reexecuted": false,
    "source_hash": "4a74fc23",
    "execution_start": 1654598165610,
    "execution_millis": 4,
    "deepnote_cell_type": "code",
    "deepnote_cell_height": 231
   },
   "outputs": [
    {
     "output_type": "execute_result",
     "execution_count": 26,
     "data": {
      "application/vnd.deepnote.dataframe.v3+json": {
       "column_count": 4,
       "row_count": 1,
       "columns": [
        {
         "name": "W",
         "dtype": "float64",
         "stats": {
          "unique_count": 1,
          "nan_count": 0,
          "min": "1.6243453636632417",
          "max": "1.6243453636632417",
          "histogram": [
           {
            "bin_start": 1.1243453636632417,
            "bin_end": 1.2243453636632418,
            "count": 0
           },
           {
            "bin_start": 1.2243453636632418,
            "bin_end": 1.3243453636632416,
            "count": 0
           },
           {
            "bin_start": 1.3243453636632416,
            "bin_end": 1.4243453636632417,
            "count": 0
           },
           {
            "bin_start": 1.4243453636632417,
            "bin_end": 1.5243453636632416,
            "count": 0
           },
           {
            "bin_start": 1.5243453636632416,
            "bin_end": 1.6243453636632417,
            "count": 0
           },
           {
            "bin_start": 1.6243453636632417,
            "bin_end": 1.7243453636632418,
            "count": 1
           },
           {
            "bin_start": 1.7243453636632418,
            "bin_end": 1.8243453636632418,
            "count": 0
           },
           {
            "bin_start": 1.8243453636632418,
            "bin_end": 1.9243453636632417,
            "count": 0
           },
           {
            "bin_start": 1.9243453636632417,
            "bin_end": 2.0243453636632416,
            "count": 0
           },
           {
            "bin_start": 2.0243453636632416,
            "bin_end": 2.1243453636632417,
            "count": 0
           }
          ]
         }
        },
        {
         "name": "X",
         "dtype": "float64",
         "stats": {
          "unique_count": 1,
          "nan_count": 0,
          "min": "-0.6117564136500754",
          "max": "-0.6117564136500754",
          "histogram": [
           {
            "bin_start": -1.1117564136500753,
            "bin_end": -1.0117564136500752,
            "count": 0
           },
           {
            "bin_start": -1.0117564136500752,
            "bin_end": -0.9117564136500753,
            "count": 0
           },
           {
            "bin_start": -0.9117564136500753,
            "bin_end": -0.8117564136500752,
            "count": 0
           },
           {
            "bin_start": -0.8117564136500752,
            "bin_end": -0.7117564136500754,
            "count": 0
           },
           {
            "bin_start": -0.7117564136500754,
            "bin_end": -0.6117564136500753,
            "count": 1
           },
           {
            "bin_start": -0.6117564136500753,
            "bin_end": -0.5117564136500753,
            "count": 0
           },
           {
            "bin_start": -0.5117564136500753,
            "bin_end": -0.4117564136500753,
            "count": 0
           },
           {
            "bin_start": -0.4117564136500753,
            "bin_end": -0.31175641365007534,
            "count": 0
           },
           {
            "bin_start": -0.31175641365007534,
            "bin_end": -0.21175641365007536,
            "count": 0
           },
           {
            "bin_start": -0.21175641365007536,
            "bin_end": -0.11175641365007538,
            "count": 0
           }
          ]
         }
        },
        {
         "name": "Z",
         "dtype": "float64",
         "stats": {
          "unique_count": 1,
          "nan_count": 0,
          "min": "-1.0729686221561705",
          "max": "-1.0729686221561705",
          "histogram": [
           {
            "bin_start": -1.5729686221561705,
            "bin_end": -1.4729686221561704,
            "count": 0
           },
           {
            "bin_start": -1.4729686221561704,
            "bin_end": -1.3729686221561705,
            "count": 0
           },
           {
            "bin_start": -1.3729686221561705,
            "bin_end": -1.2729686221561705,
            "count": 0
           },
           {
            "bin_start": -1.2729686221561705,
            "bin_end": -1.1729686221561706,
            "count": 0
           },
           {
            "bin_start": -1.1729686221561706,
            "bin_end": -1.0729686221561705,
            "count": 0
           },
           {
            "bin_start": -1.0729686221561705,
            "bin_end": -0.9729686221561704,
            "count": 1
           },
           {
            "bin_start": -0.9729686221561704,
            "bin_end": -0.8729686221561704,
            "count": 0
           },
           {
            "bin_start": -0.8729686221561704,
            "bin_end": -0.7729686221561705,
            "count": 0
           },
           {
            "bin_start": -0.7729686221561705,
            "bin_end": -0.6729686221561705,
            "count": 0
           },
           {
            "bin_start": -0.6729686221561705,
            "bin_end": -0.5729686221561705,
            "count": 0
           }
          ]
         }
        },
        {
         "name": "U",
         "dtype": "float64",
         "stats": {
          "unique_count": 1,
          "nan_count": 0,
          "min": "-1.1006191772129212",
          "max": "-1.1006191772129212",
          "histogram": [
           {
            "bin_start": -1.6006191772129212,
            "bin_end": -1.5006191772129212,
            "count": 0
           },
           {
            "bin_start": -1.5006191772129212,
            "bin_end": -1.4006191772129213,
            "count": 0
           },
           {
            "bin_start": -1.4006191772129213,
            "bin_end": -1.3006191772129212,
            "count": 0
           },
           {
            "bin_start": -1.3006191772129212,
            "bin_end": -1.2006191772129213,
            "count": 0
           },
           {
            "bin_start": -1.2006191772129213,
            "bin_end": -1.1006191772129212,
            "count": 0
           },
           {
            "bin_start": -1.1006191772129212,
            "bin_end": -1.0006191772129212,
            "count": 1
           },
           {
            "bin_start": -1.0006191772129212,
            "bin_end": -0.9006191772129212,
            "count": 0
           },
           {
            "bin_start": -0.9006191772129212,
            "bin_end": -0.8006191772129212,
            "count": 0
           },
           {
            "bin_start": -0.8006191772129212,
            "bin_end": -0.7006191772129212,
            "count": 0
           },
           {
            "bin_start": -0.7006191772129212,
            "bin_end": -0.6006191772129212,
            "count": 0
           }
          ]
         }
        },
        {
         "name": "_deepnote_index_column",
         "dtype": "object"
        }
       ],
       "rows": [
        {
         "W": 1.6243453636632417,
         "X": -0.6117564136500754,
         "Z": -1.0729686221561705,
         "U": -1.1006191772129212,
         "_deepnote_index_column": "A"
        }
       ]
      },
      "text/plain": "          W         X         Z         U\nA  1.624345 -0.611756 -1.072969 -1.100619",
      "text/html": "<div>\n<style scoped>\n    .dataframe tbody tr th:only-of-type {\n        vertical-align: middle;\n    }\n\n    .dataframe tbody tr th {\n        vertical-align: top;\n    }\n\n    .dataframe thead th {\n        text-align: right;\n    }\n</style>\n<table border=\"1\" class=\"dataframe\">\n  <thead>\n    <tr style=\"text-align: right;\">\n      <th></th>\n      <th>W</th>\n      <th>X</th>\n      <th>Z</th>\n      <th>U</th>\n    </tr>\n  </thead>\n  <tbody>\n    <tr>\n      <th>A</th>\n      <td>1.624345</td>\n      <td>-0.611756</td>\n      <td>-1.072969</td>\n      <td>-1.100619</td>\n    </tr>\n  </tbody>\n</table>\n</div>"
     },
     "metadata": {}
    }
   ],
   "execution_count": null
  },
  {
   "cell_type": "markdown",
   "source": "<a style='text-decoration:none;line-height:16px;display:flex;color:#5B5B62;padding:10px;justify-content:end;' href='https://deepnote.com?utm_source=created-in-deepnote-cell&projectId=31152f18-3036-40d1-92d9-59f0bbdc0756' target=\"_blank\">\n<img alt='Created in deepnote.com' style='display:inline;max-height:16px;margin:0px;margin-right:7.5px;' src='data:image/svg+xml;base64,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' > </img>\nCreated in <span style='font-weight:600;margin-left:4px;'>Deepnote</span></a>",
   "metadata": {
    "tags": [],
    "created_in_deepnote_cell": true,
    "deepnote_cell_type": "markdown"
   }
  }
 ],
 "nbformat": 4,
 "nbformat_minor": 2,
 "metadata": {
  "orig_nbformat": 2,
  "deepnote": {},
  "deepnote_notebook_id": "2255ef73-f0b2-4f97-94f7-3dd8f8dface8",
  "deepnote_execution_queue": []
 }
}