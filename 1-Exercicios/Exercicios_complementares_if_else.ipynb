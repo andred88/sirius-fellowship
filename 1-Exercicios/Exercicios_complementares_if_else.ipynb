{
 "cells": [
  {
   "cell_type": "code",
   "metadata": {
    "cell_id": "cd0418da-bb88-4cb5-9eeb-5f6ae7876a5a",
    "deepnote_cell_type": "code",
    "deepnote_cell_height": 66
   },
   "source": "",
   "execution_count": null,
   "outputs": []
  },
  {
   "cell_type": "markdown",
   "source": "#### Exercicio C1\nEscrever um programa em Python para ler um número inteiro e informar se ele é divisível por 5",
   "metadata": {
    "cell_id": "00001-8883139f-7d0e-46e9-8696-5941263594ab",
    "deepnote_cell_type": "markdown",
    "deepnote_cell_height": 88.39999389648438
   }
  },
  {
   "cell_type": "code",
   "metadata": {
    "cell_id": "00002-745292da-aa08-4196-90d9-90cc0ffdeb72",
    "deepnote_to_be_reexecuted": false,
    "source_hash": "7fe5cfc2",
    "execution_start": 1654015998544,
    "execution_millis": 5325,
    "deepnote_cell_type": "code",
    "deepnote_cell_height": 81
   },
   "source": "numero = int(input('Insira um numero para saber se ele é divisível por 5: '))",
   "execution_count": null,
   "outputs": []
  },
  {
   "cell_type": "code",
   "metadata": {
    "cell_id": "b23b70ed8eaf4add820acaf09d69e3b9",
    "tags": [],
    "deepnote_to_be_reexecuted": false,
    "source_hash": "e98b77d8",
    "execution_start": 1654016149678,
    "execution_millis": 4,
    "deepnote_cell_type": "code",
    "deepnote_cell_height": 81
   },
   "source": "resultado = numero % 5",
   "execution_count": null,
   "outputs": []
  },
  {
   "cell_type": "code",
   "metadata": {
    "cell_id": "a05825529db3484688aacf1108ee444f",
    "tags": [],
    "deepnote_to_be_reexecuted": false,
    "source_hash": "586e8c70",
    "execution_start": 1654016014233,
    "execution_millis": 4,
    "deepnote_cell_type": "code",
    "deepnote_cell_height": 111.19999694824219
   },
   "source": "print(resultado)",
   "execution_count": null,
   "outputs": [
    {
     "name": "stdout",
     "text": "2\n",
     "output_type": "stream"
    }
   ]
  },
  {
   "cell_type": "code",
   "metadata": {
    "cell_id": "7a34bd745e714ee6aa0fa7b3d3ef9765",
    "tags": [],
    "deepnote_to_be_reexecuted": false,
    "source_hash": "621db1be",
    "execution_start": 1654016161103,
    "execution_millis": 5,
    "deepnote_cell_type": "code",
    "deepnote_cell_height": 165.1999969482422
   },
   "source": "if resultado == 0:\n    print('O número {} é divisível por 5'.format(numero))\nelse:\n    print('O número {} não é divisível por 5'.format(numero))",
   "execution_count": null,
   "outputs": [
    {
     "name": "stdout",
     "text": "O número 12 não é divisível por 5\n",
     "output_type": "stream"
    }
   ]
  },
  {
   "cell_type": "markdown",
   "source": "#### Exercicio C2\nVogal ou Consoante\n\nNeste exercício, você criará um programa que lê uma letra do alfabeto. Se o usuário digitar a, e, i, o ou u, seu programa deverá exibir uma mensagem indicando que a letra digitada é uma vogal. Caso contrário, seu programa deve exibir uma mensagem indicando que aletra é uma consoante",
   "metadata": {
    "cell_id": "00003-398dce0c-2cc1-45e4-94ad-961788df3c92",
    "deepnote_cell_type": "markdown",
    "deepnote_cell_height": 147.1999969482422
   }
  },
  {
   "cell_type": "code",
   "metadata": {
    "cell_id": "00004-e49b6a47-c10e-4e84-b0fd-09bae78407b7",
    "deepnote_to_be_reexecuted": false,
    "source_hash": "2fcd58b0",
    "execution_start": 1654016992117,
    "execution_millis": 2626,
    "deepnote_cell_type": "code",
    "deepnote_cell_height": 81
   },
   "source": "letra = input('Insira uma letra para verificar se é vogal ou consoante: ')",
   "execution_count": null,
   "outputs": []
  },
  {
   "cell_type": "code",
   "metadata": {
    "cell_id": "00005-1401870b-4dd8-4cf9-91d1-e7d902f0fdd6",
    "deepnote_to_be_reexecuted": false,
    "source_hash": "ad858d00",
    "execution_start": 1654017036750,
    "execution_millis": 3,
    "deepnote_cell_type": "code",
    "deepnote_cell_height": 165.1999969482422
   },
   "source": "if letra == 'a' or letra == 'e' or letra == 'i' or letra == 'o' or letra == 'u':\n    print('A letra \"{}\" é uma vogal'.format(letra))\nelse:\n    print('A letra \"{}\" é uma consoante'.format(letra))",
   "execution_count": null,
   "outputs": [
    {
     "name": "stdout",
     "text": "A letra \"a\" é uma vogal\n",
     "output_type": "stream"
    }
   ]
  },
  {
   "cell_type": "markdown",
   "source": "##### Exercício C3\n\nNomeie a figura\n\n\n- Escreva um programa que determine o nome de uma figura geométrica a partir de seu número de lados. \n- O usuário fornece o número de lados e, em seguida, o programa deve informar o nome apropriado da figura geométrica. \n- Seu programa deve suportar figuras com lados a partir de 3 até (e incluindo) 10 lados.\n- Se um número de lados fora deste intervalo for inserido então seu programa deve exibir uma mensagem de erro apropriada.\n\n\nEx.:  \n3 lados ---> triângulo;    \n\n4 lados ---> quadrado;  \n\n5 lados ----> pentagono;   \n\ne assim por diante\n",
   "metadata": {
    "cell_id": "00006-13149366-68bc-4c75-b5ba-a791ca16de32",
    "deepnote_cell_type": "markdown",
    "deepnote_cell_height": 369
   }
  },
  {
   "cell_type": "code",
   "metadata": {
    "cell_id": "00007-44b8965c-5154-4cc4-b514-d9035179c6ba",
    "deepnote_to_be_reexecuted": false,
    "source_hash": "1106bdea",
    "execution_start": 1654021618268,
    "execution_millis": 2228,
    "deepnote_cell_type": "code",
    "deepnote_cell_height": 81
   },
   "source": "lados = int(input('Quantos lados a sua figura geométrica possue? '))",
   "execution_count": null,
   "outputs": []
  },
  {
   "cell_type": "code",
   "metadata": {
    "cell_id": "00008-3c692d37-79b0-4fd0-8414-009ee4cb0922",
    "deepnote_to_be_reexecuted": false,
    "source_hash": "bfee8286",
    "execution_start": 1654021606399,
    "execution_millis": 4,
    "deepnote_cell_type": "code",
    "deepnote_cell_height": 441
   },
   "source": "def verifica_lados(numero):\n    nro = int(numero)\n    if nro >= 3 and nro <= 10:\n        if nro == 3:\n            print('A figura é um triângulo pois possue {} lados'.format(nro))\n        elif nro == 4:\n            print('A figura é um quadrado pois possue {} lados'.format(nro))\n        elif nro == 5:\n            print('A figura é um pentágono pois possue {} lados'.format(nro))\n        elif nro == 6:\n            print('A figura é um hexágono pois possue {} lados'.format(nro))\n        elif nro == 7:\n            print('A figura é um heptágono pois possue {} lados'.format(nro))\n        elif nro == 8:\n            print('A figura é um octógono pois possue {} lados'.format(nro))\n        elif nro == 9:\n            print('A figura é um eneágono pois possue {} lados'.format(nro))\n        elif nro == 10:\n            print('A figura é um decágono pois possue {} lados'.format(nro))\n    else:\n        print('Insira uma quantidade de lados compatível (De 3 a 10)')",
   "execution_count": null,
   "outputs": []
  },
  {
   "cell_type": "code",
   "metadata": {
    "cell_id": "00009-58bc8783-9256-4cb2-b1da-d43b9cf8a705",
    "deepnote_to_be_reexecuted": false,
    "source_hash": "a0c37997",
    "execution_start": 1654021623629,
    "execution_millis": 4,
    "deepnote_cell_type": "code",
    "deepnote_cell_height": 111.19999694824219
   },
   "source": "verifica_lados(lados)",
   "execution_count": null,
   "outputs": [
    {
     "name": "stdout",
     "text": "A figura é um octógono pois possue 8 lados\n",
     "output_type": "stream"
    }
   ]
  },
  {
   "cell_type": "markdown",
   "source": "##### Exercicio C4\n\nA duração de um mês varia de 28 a 31 dias. Neste exercício você criará um programa que lê o nome de um mês do usuário como uma string. Então seu programa deve exibir o número de dias naquele mês. Exibir “28 ou 29 dias” para fevereiro para que os anos bissextos sejam abordados.",
   "metadata": {
    "cell_id": "00010-0add2ef2-54b1-4b5c-b98b-ad98031f5c90",
    "deepnote_cell_type": "markdown",
    "deepnote_cell_height": 110.80000305175781
   }
  },
  {
   "cell_type": "code",
   "metadata": {
    "cell_id": "00011-50f8fd68-42cd-46b5-ba73-db012082240d",
    "deepnote_cell_type": "code",
    "deepnote_cell_height": 66
   },
   "source": "",
   "execution_count": null,
   "outputs": []
  },
  {
   "cell_type": "code",
   "metadata": {
    "cell_id": "00012-1167d425-a04a-4d07-aee1-8da595615fbc",
    "deepnote_cell_type": "code",
    "deepnote_cell_height": 66
   },
   "source": "",
   "execution_count": null,
   "outputs": []
  },
  {
   "cell_type": "code",
   "metadata": {
    "cell_id": "00013-d1be9766-12d6-4188-803f-35e8c3c8ad5b",
    "deepnote_cell_type": "code",
    "deepnote_cell_height": 66
   },
   "source": "",
   "execution_count": null,
   "outputs": []
  },
  {
   "cell_type": "code",
   "metadata": {
    "cell_id": "00014-ab73d1d7-3078-4bc2-93bf-916496f325ea",
    "deepnote_cell_type": "code",
    "deepnote_cell_height": 66
   },
   "source": "",
   "execution_count": null,
   "outputs": []
  },
  {
   "cell_type": "markdown",
   "source": "<a style='text-decoration:none;line-height:16px;display:flex;color:#5B5B62;padding:10px;justify-content:end;' href='https://deepnote.com?utm_source=created-in-deepnote-cell&projectId=31152f18-3036-40d1-92d9-59f0bbdc0756' target=\"_blank\">\n<img alt='Created in deepnote.com' style='display:inline;max-height:16px;margin:0px;margin-right:7.5px;' src='data:image/svg+xml;base64,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' > </img>\nCreated in <span style='font-weight:600;margin-left:4px;'>Deepnote</span></a>",
   "metadata": {
    "tags": [],
    "created_in_deepnote_cell": true,
    "deepnote_cell_type": "markdown"
   }
  }
 ],
 "nbformat": 4,
 "nbformat_minor": 5,
 "metadata": {
  "hide_input": false,
  "kernelspec": {
   "display_name": "Python 3 (ipykernel)",
   "language": "python",
   "name": "python3"
  },
  "language_info": {
   "codemirror_mode": {
    "name": "ipython",
    "version": 3
   },
   "file_extension": ".py",
   "mimetype": "text/x-python",
   "name": "python",
   "nbconvert_exporter": "python",
   "pygments_lexer": "ipython3",
   "version": "3.9.7"
  },
  "deepnote_notebook_id": "9786174e-5e70-4f3d-8d33-578a5a1a3b91",
  "deepnote": {},
  "deepnote_execution_queue": []
 }
}