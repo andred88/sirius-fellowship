{
 "cells": [
  {
   "cell_type": "code",
   "execution_count": 1,
   "id": "3349fbae",
   "metadata": {},
   "outputs": [
    {
     "data": {
      "text/plain": [
       "<Response [200]>"
      ]
     },
     "execution_count": 1,
     "metadata": {},
     "output_type": "execute_result"
    }
   ],
   "source": [
    "import requests\n",
    "\n",
    "page = requests.get(\"https://pt.wikipedia.org/wiki/Lista_de_capitais_do_Brasil\")\n",
    "page"
   ]
  },
  {
   "cell_type": "code",
   "execution_count": 2,
   "id": "e2231b48",
   "metadata": {},
   "outputs": [],
   "source": [
    "from bs4 import BeautifulSoup\n",
    "soup = BeautifulSoup(page.content, 'html.parser')"
   ]
  },
  {
   "cell_type": "code",
   "execution_count": null,
   "id": "39a47fa6",
   "metadata": {},
   "outputs": [],
   "source": [
    "print(soup.prettify())"
   ]
  },
  {
   "cell_type": "code",
   "execution_count": null,
   "id": "3a628413",
   "metadata": {},
   "outputs": [],
   "source": []
  },
  {
   "cell_type": "code",
   "execution_count": 21,
   "id": "625fa967",
   "metadata": {},
   "outputs": [],
   "source": [
    "dfelementos = []\n",
    "for url in soup.findAll('span', class_='mw-headline'): dfelementos.append(url.text)"
   ]
  },
  {
   "cell_type": "code",
   "execution_count": 4,
   "id": "5e18938a",
   "metadata": {},
   "outputs": [
    {
     "name": "stdout",
     "output_type": "stream",
     "text": [
      "<class 'list'>\n"
     ]
    }
   ],
   "source": [
    "print(type(dfelementos))"
   ]
  },
  {
   "cell_type": "code",
   "execution_count": 25,
   "id": "2f65b4fd",
   "metadata": {},
   "outputs": [
    {
     "data": {
      "text/plain": [
       "['Acre',\n",
       " 'Alagoas',\n",
       " 'Amapá',\n",
       " 'Amazonas',\n",
       " 'Bahia',\n",
       " 'Ceará',\n",
       " 'Distrito Federal',\n",
       " 'Espírito Santo',\n",
       " 'Goiás',\n",
       " 'Maranhão',\n",
       " 'Mato Grosso',\n",
       " 'Mato Grosso do Sul',\n",
       " 'Minas Gerais',\n",
       " 'Pará',\n",
       " 'Paraíba',\n",
       " 'Paraná',\n",
       " 'Pernambuco',\n",
       " 'Piauí',\n",
       " 'Rio Grande do Norte',\n",
       " 'Rio Grande do Sul',\n",
       " 'Rio de Janeiro',\n",
       " 'Rondônia',\n",
       " 'Roraima',\n",
       " 'Santa Catarina',\n",
       " 'São Paulo',\n",
       " 'Sergipe',\n",
       " 'Ligações externas']"
      ]
     },
     "execution_count": 25,
     "metadata": {},
     "output_type": "execute_result"
    }
   ],
   "source": [
    "dfelementos"
   ]
  },
  {
   "cell_type": "code",
   "execution_count": 23,
   "id": "e8a582ba",
   "metadata": {},
   "outputs": [],
   "source": [
    "del dfelementos[0:5]\n",
    "del dfelementos[26:-1]"
   ]
  },
  {
   "cell_type": "code",
   "execution_count": 24,
   "id": "d4e04eca",
   "metadata": {},
   "outputs": [
    {
     "data": {
      "text/plain": [
       "27"
      ]
     },
     "execution_count": 24,
     "metadata": {},
     "output_type": "execute_result"
    }
   ],
   "source": [
    "len(dfelementos)"
   ]
  }
 ],
 "metadata": {
  "kernelspec": {
   "display_name": "Python 3 (ipykernel)",
   "language": "python",
   "name": "python3"
  },
  "language_info": {
   "codemirror_mode": {
    "name": "ipython",
    "version": 3
   },
   "file_extension": ".py",
   "mimetype": "text/x-python",
   "name": "python",
   "nbconvert_exporter": "python",
   "pygments_lexer": "ipython3",
   "version": "3.10.4"
  }
 },
 "nbformat": 4,
 "nbformat_minor": 5
}
