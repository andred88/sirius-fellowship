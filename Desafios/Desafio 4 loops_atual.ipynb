{
 "cells": [
  {
   "cell_type": "markdown",
   "source": "<div>\n    <p style=\"float: right;\"><img src=\"https://media.swipepages.com/2021/2/sirius-logo-principal-tag-1-300.png\" height=\"80px\"border=\"1px\"></p>\n    \n</div>\n<h1>Nano Desafio 4 </h1>\n<h2> Desafios </h2>\n\nAluno: André Luiz Deitos\n\nData: 02/06/2022",
   "metadata": {
    "cell_id": "ccbcc271-3d2b-46ea-86c4-38b004e2f71f",
    "deepnote_cell_type": "markdown",
    "deepnote_cell_height": 196.8000030517578
   }
  },
  {
   "cell_type": "markdown",
   "source": "##### EXERCÍCIO 1 \n\n###### Jogo de adivinhação de números\n\nEste primeiro exercício apresenta vários tópicos que se repetirão em sua carreira com Python : loops, entrada do usuário, conversão e comparação de valores.\n\nSaber como pedir a entrada do usuário não apenas é útil, mas nos permite pensar sobre o tipo de dados que estamos recebendo, como convertê-los em um formato que podemos usar, e qual seria o formato.\n\nComo você deve saber, o Python fornece apenas dois tipos de loops: for e while. Saber como escrevê-los e usá-los será muito útil ao longo de sua carreira em Ciência de Dados. \nO fato de que quase todos os tipos de dados podem ser usados dentro de um loop torna seu uso muito comum. Se você estiver trabalhando com registros de banco de dados, elementos em um XML ou os resultados da pesquisa de texto usando expressões regulares, você será provavelmente usará loops.\n \nPara este exercício\n- Escreva uma função (chute) que não receba argumentos.\n- Quando executada, a função escolhe um inteiro aleatório entre 0 e 100.\n- Em seguida, peça ao usuário para adivinhar qual número foi escolhido.\n- Cada vez que o usuário insere um palpite, o programa indica um dos seguintes:\n- Muito alto\n- Muito baixo\n- Na medida\n\n- Se o usuário adivinhar corretamente, o programa é encerrado. Caso contrário, o usuário é solicitado a\ntentar novamente.\n- O programa só sai depois que o usuário adivinhar corretamente.\n\n\nDica - resolva o exercício complementar 2 antes de resolver esse exercício",
   "metadata": {
    "cell_id": "00001-5e0391ac-ad35-45e6-a8c4-4c624b4ae888",
    "deepnote_cell_type": "markdown",
    "deepnote_cell_height": 655.4000244140625
   }
  },
  {
   "cell_type": "code",
   "metadata": {
    "cell_id": "d6dc050f4788402fa3d1c29255556392",
    "tags": [],
    "deepnote_to_be_reexecuted": false,
    "source_hash": "e6b47231",
    "execution_start": 1654609883678,
    "execution_millis": 40254,
    "owner_user_id": "f3b685db-82a0-4f74-9158-9e3d6de2c3bf",
    "deepnote_cell_type": "code",
    "deepnote_cell_height": 738.4000244140625
   },
   "source": "from random import randint\n\ndef chute():\n    numero = randint(0,100)\n    palpite = 101\n    while palpite != numero:\n        palpite = int(input('Adivinhe o numero:'))\n\n        if numero < palpite:\n            print ('Muito alto!')\n\n        elif numero > palpite:\n            print('Muito baixo!')\n    print(\"Na medida\")\n\nchute()",
   "execution_count": null,
   "outputs": [
    {
     "name": "stdout",
     "text": "Muito alto!\nMuito alto!\nMuito baixo!\nMuito baixo!\nMuito alto!\nMuito alto!\nMuito alto!\nMuito alto!\nMuito alto!\nMuito alto!\nMuito alto!\nMuito alto!\nMuito alto!\nMuito baixo!\nMuito baixo!\nMuito baixo!\nMuito alto!\n",
     "output_type": "stream"
    },
    {
     "output_type": "error",
     "ename": "ValueError",
     "evalue": "invalid literal for int() with base 10: ''",
     "traceback": [
      "\u001b[0;31m---------------------------------------------------------------------------\u001b[0m",
      "\u001b[0;31mValueError\u001b[0m                                Traceback (most recent call last)",
      "\u001b[0;32m<ipython-input-3-a234672159b3>\u001b[0m in \u001b[0;36m<module>\u001b[0;34m\u001b[0m\n\u001b[1;32m     14\u001b[0m     \u001b[0mprint\u001b[0m\u001b[0;34m(\u001b[0m\u001b[0;34m\"Na medida\"\u001b[0m\u001b[0;34m)\u001b[0m\u001b[0;34m\u001b[0m\u001b[0;34m\u001b[0m\u001b[0m\n\u001b[1;32m     15\u001b[0m \u001b[0;34m\u001b[0m\u001b[0m\n\u001b[0;32m---> 16\u001b[0;31m \u001b[0mchute\u001b[0m\u001b[0;34m(\u001b[0m\u001b[0;34m)\u001b[0m\u001b[0;34m\u001b[0m\u001b[0;34m\u001b[0m\u001b[0m\n\u001b[0m",
      "\u001b[0;32m<ipython-input-3-a234672159b3>\u001b[0m in \u001b[0;36mchute\u001b[0;34m()\u001b[0m\n\u001b[1;32m      5\u001b[0m     \u001b[0mpalpite\u001b[0m \u001b[0;34m=\u001b[0m \u001b[0;36m101\u001b[0m\u001b[0;34m\u001b[0m\u001b[0;34m\u001b[0m\u001b[0m\n\u001b[1;32m      6\u001b[0m     \u001b[0;32mwhile\u001b[0m \u001b[0mpalpite\u001b[0m \u001b[0;34m!=\u001b[0m \u001b[0mnumero\u001b[0m\u001b[0;34m:\u001b[0m\u001b[0;34m\u001b[0m\u001b[0;34m\u001b[0m\u001b[0m\n\u001b[0;32m----> 7\u001b[0;31m         \u001b[0mpalpite\u001b[0m \u001b[0;34m=\u001b[0m \u001b[0mint\u001b[0m\u001b[0;34m(\u001b[0m\u001b[0minput\u001b[0m\u001b[0;34m(\u001b[0m\u001b[0;34m'Adivinhe o numero:'\u001b[0m\u001b[0;34m)\u001b[0m\u001b[0;34m)\u001b[0m\u001b[0;34m\u001b[0m\u001b[0;34m\u001b[0m\u001b[0m\n\u001b[0m\u001b[1;32m      8\u001b[0m \u001b[0;34m\u001b[0m\u001b[0m\n\u001b[1;32m      9\u001b[0m         \u001b[0;32mif\u001b[0m \u001b[0mnumero\u001b[0m \u001b[0;34m<\u001b[0m \u001b[0mpalpite\u001b[0m\u001b[0;34m:\u001b[0m\u001b[0;34m\u001b[0m\u001b[0;34m\u001b[0m\u001b[0m\n",
      "\u001b[0;31mValueError\u001b[0m: invalid literal for int() with base 10: ''"
     ]
    }
   ]
  },
  {
   "cell_type": "markdown",
   "source": "##### EXERCÍCIO  2\n\nPara este exercício, vamos supor que você corra 10 km por dia como parte de seu regime. Você quer saber quanto tempo, em média, essa corrida leva.\n\nEscreva uma função (tempo_de_execucao) que pergunte quanto tempo você levou para correr 10 km.\nA função continua perguntando quanto tempo (em minutos) levou para execuções adicionais, até que o usuário pressiona Enter. Nesse ponto, a função sai - mas somente depois de calcular e exibindo o tempo médio que as corridas de 10 km levaram.\nA média das corridas pode ser calculado pela formula: **tempo_total / numero_de_corridas**\n\nPor exemplo, veja como seria a saída se o usuário inserisse três dados pontos:",
   "metadata": {
    "cell_id": "00004-0615c033-2735-408d-8204-b27151636ddb",
    "deepnote_cell_type": "markdown",
    "deepnote_cell_height": 250.8000030517578
   }
  },
  {
   "cell_type": "code",
   "metadata": {
    "cell_id": "00005-80ac3434-fc50-4648-9b0a-c6f427783391",
    "deepnote_cell_type": "code",
    "deepnote_cell_height": 210
   },
   "source": "Digite o tempo de corrida de 10 km: 15\n\nDigite o tempo de corrida de 10 km: 20\n\nDigite o tempo de corrida de 10 km: 10\n\nDigite o tempo de corrida de 10 km: <enter>\n\nMédia de 15,0, nas 3 corridas.",
   "execution_count": null,
   "outputs": []
  },
  {
   "cell_type": "code",
   "metadata": {
    "cell_id": "00006-4620843b-d654-4171-b2f6-6768f486f4c3",
    "deepnote_to_be_reexecuted": false,
    "source_hash": "9c75d980",
    "execution_start": 1654214972013,
    "execution_millis": 5,
    "deepnote_cell_type": "code",
    "deepnote_cell_height": 351
   },
   "source": "def tempo_de_execucao():\n    contador = 0\n    soma = 0\n    while True:\n        tempo = input(\"Digite o tempo de corrida de 10 km:\")\n        if not tempo:\n            break\n        tempo_total = int(tempo)\n        soma += tempo_total\n        contador += 1\n        print('{} corridas'.format(contador))\n        media = soma / contador\n        print(media)\n        \n        \n    print(media)",
   "execution_count": null,
   "outputs": []
  },
  {
   "cell_type": "code",
   "metadata": {
    "cell_id": "dc6138f1474b43da9f9e7e2ea73082fb",
    "tags": [],
    "deepnote_to_be_reexecuted": false,
    "source_hash": "8a1f77fa",
    "execution_start": 1654215201082,
    "execution_millis": 1,
    "deepnote_cell_type": "code",
    "deepnote_cell_height": 297
   },
   "source": "def tempo_de_execucao():\n    tempo_lista = []\n    contador = 1\n\n    while True:\n        tempo = input(\"Digite o tempo de corrida de 10 km:\")\n        if not tempo:\n            break\n        tempo_lista.append(float(tempo))\n        contador += 1 \n        \n\n    print(f'media de {sum(tempo_lista)/contador}, nas {contador} corridas ')",
   "execution_count": null,
   "outputs": []
  },
  {
   "cell_type": "code",
   "metadata": {
    "cell_id": "00007-1aa81655-f7fd-4b88-86d6-5066bd48ec7e",
    "deepnote_to_be_reexecuted": false,
    "source_hash": "b8ba1ff6",
    "execution_start": 1654215204203,
    "execution_millis": 5420,
    "deepnote_cell_type": "code",
    "deepnote_cell_height": 111.19999694824219
   },
   "source": "tempo_de_execucao()",
   "execution_count": null,
   "outputs": [
    {
     "name": "stdout",
     "text": "media de 5.25, nas 4 corridas \n",
     "output_type": "stream"
    }
   ]
  },
  {
   "cell_type": "code",
   "metadata": {
    "cell_id": "00008-715e280d-0167-46f8-86a5-45d33dcd8e60",
    "deepnote_cell_type": "code",
    "deepnote_cell_height": 84
   },
   "source": "\n",
   "execution_count": null,
   "outputs": []
  },
  {
   "cell_type": "code",
   "metadata": {
    "cell_id": "00009-84794d26-a2e8-4270-8c6c-bf9ea6e135f6",
    "deepnote_cell_type": "code",
    "deepnote_cell_height": 66
   },
   "source": "",
   "execution_count": null,
   "outputs": []
  },
  {
   "cell_type": "code",
   "metadata": {
    "cell_id": "00010-4a58f772-3d60-470c-ad0f-82eaf7b86a89",
    "deepnote_cell_type": "code",
    "deepnote_cell_height": 66
   },
   "source": "",
   "execution_count": null,
   "outputs": []
  },
  {
   "cell_type": "markdown",
   "source": "##### EXERCÍCIO 3 \nEscreva um programa em Python para contar o número de números pares e ímpares de uma série de números. \n\nExemplo:\n\nEntrada: números = (1, 2, 3, 4, 5, 6, 7, 8, 9)\n\nSaída esperada:\n\nNúmero de números pares: 4\n\nNúmero de números ímpares: 5",
   "metadata": {
    "cell_id": "00011-646050a4-944f-4ddb-b769-69c02330d8d9",
    "deepnote_cell_type": "markdown",
    "deepnote_cell_height": 270.3999938964844
   }
  },
  {
   "cell_type": "code",
   "metadata": {
    "cell_id": "00012-b3f05f01-726f-4965-99ac-275815ad2666",
    "deepnote_to_be_reexecuted": false,
    "source_hash": "c8c845df",
    "execution_start": 1654215611710,
    "execution_millis": 5890,
    "deepnote_cell_type": "code",
    "deepnote_cell_height": 345.20001220703125
   },
   "source": "numeros_a = input('Numeros separados por virgula:')\n    \nnumeros_b = numeros_a.split(',')\n\npares = []\nimpares = []\n\nfor n in range(len(numeros_b)):\n    if int(numeros_b[n])%2 == 0:\n        pares.append(numeros_b[n])\n    elif int(numeros_b[n])%2 != 0:\n        impares.append(numeros_b[n])\n\nprint(f'pares = {len(pares)},impares = {len(impares)}')",
   "execution_count": null,
   "outputs": [
    {
     "name": "stdout",
     "text": "pares = 3,impares = 3\n",
     "output_type": "stream"
    }
   ]
  },
  {
   "cell_type": "markdown",
   "source": "#### EXERCÍCIO 4\n\nEscreva um código que retorne a sequência de Fibonacci para uma quantidade de números.\n\nPara mais informações sobre o que é a Sequência de Fibonacci: https://pt.wikipedia.org/wiki/Sequ%C3%AAncia_de_Fibonacci\n\nExemplo 1:\n    \nQuantos números você quer gerar? 5\n\n[1, 1, 2, 3, 5]\n\nExemplo 2:\n    \nQuantos números você quer gerar? 10\n\n[1, 1, 2, 3, 5, 8, 13, 21, 34, 55]\n\nExemplo 3:\n\nQuantos números você quer gerar? 0\n[]\n\n\n",
   "metadata": {
    "cell_id": "00013-39844152-714f-4f7d-b6e7-08668c9c8026",
    "deepnote_cell_type": "markdown",
    "deepnote_cell_height": 416
   }
  },
  {
   "cell_type": "code",
   "metadata": {
    "cell_id": "00014-6ca7d566-db45-4630-9070-663a2c19ff7b",
    "deepnote_cell_type": "code",
    "deepnote_cell_height": 292.3999938964844
   },
   "source": "from math import sqrt,floor\n\nn = int(input(\"Quantos números você quer gerar? \"))\nlista = []\n \nfor i in range(1, n+1):\n  fibonacci = ((1+sqrt(5))**i-(1-sqrt(5))**i)/(2**i*sqrt(5))\n  lista.append(floor(fibonacci))\n\nprint(lista)",
   "execution_count": null,
   "outputs": [
    {
     "name": "stdout",
     "output_type": "stream",
     "text": "Quantos números você quer gerar? 10\n[1, 1, 2, 3, 5, 8, 13, 21, 34, 55]\n"
    }
   ]
  },
  {
   "cell_type": "code",
   "metadata": {
    "cell_id": "00015-9229eb47-1366-441f-ba62-96917dd275f4",
    "deepnote_cell_type": "code",
    "deepnote_cell_height": 66
   },
   "source": "",
   "execution_count": null,
   "outputs": []
  },
  {
   "cell_type": "markdown",
   "source": "<a style='text-decoration:none;line-height:16px;display:flex;color:#5B5B62;padding:10px;justify-content:end;' href='https://deepnote.com?utm_source=created-in-deepnote-cell&projectId=31152f18-3036-40d1-92d9-59f0bbdc0756' target=\"_blank\">\n<img alt='Created in deepnote.com' style='display:inline;max-height:16px;margin:0px;margin-right:7.5px;' src='data:image/svg+xml;base64,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' > </img>\nCreated in <span style='font-weight:600;margin-left:4px;'>Deepnote</span></a>",
   "metadata": {
    "tags": [],
    "created_in_deepnote_cell": true,
    "deepnote_cell_type": "markdown"
   }
  }
 ],
 "nbformat": 4,
 "nbformat_minor": 5,
 "metadata": {
  "hide_input": false,
  "kernelspec": {
   "display_name": "Python 3",
   "language": "python",
   "name": "python3"
  },
  "language_info": {
   "codemirror_mode": {
    "name": "ipython",
    "version": 3
   },
   "file_extension": ".py",
   "mimetype": "text/x-python",
   "name": "python",
   "nbconvert_exporter": "python",
   "pygments_lexer": "ipython3",
   "version": "3.8.8"
  },
  "deepnote_notebook_id": "9cbbe6cc-c1c1-4efe-a36b-3ed94826878a",
  "deepnote": {},
  "deepnote_execution_queue": []
 }
}