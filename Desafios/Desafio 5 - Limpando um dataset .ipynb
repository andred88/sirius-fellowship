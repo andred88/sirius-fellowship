{
 "cells": [
  {
   "cell_type": "markdown",
   "source": "<div>\n    <p style=\"float: right;\"><img src=\"https://media.swipepages.com/2021/2/sirius-logo-principal-tag-1-300.png\" height=\"80px\"border=\"1px\"></p>\n    \n</div>\n<h1>Nano Desafio 5 </h1>\n<h2>Pandas </h2>\n\nAluno: André Luiz Deitos\n\nData: 07/06/2022",
   "metadata": {
    "cell_id": "7bbebd8d-0ebd-4d12-bde8-7ebc2099192c",
    "deepnote_cell_type": "markdown",
    "deepnote_cell_height": 196.8000030517578
   }
  },
  {
   "cell_type": "markdown",
   "source": "###### Estima-se em torno de 70-80% do tempo e esforço total de um projeto de análise de dados é o pré-processamento.Uma das partes do processamento é o que chamamos de \"data cleaning\" que é  limpeza de dados e o processo de detecção e correção de registros corrompidos ou imprecisos. Isso é importante  para deixar os dados prontos para análises posteriores!\n###### Por isso, chegou sua vez de ver um pouco como isso tudo acontece!",
   "metadata": {
    "cell_id": "00001-08d27e38-a054-4e6c-8ef9-5edd4aca497f",
    "deepnote_cell_type": "markdown",
    "deepnote_cell_height": 119.60000610351562
   }
  },
  {
   "cell_type": "markdown",
   "source": "Você recebeu um csv chamado Churn em que você deve limpar e deixar esse dataset pronto para análises. Não se preocupe tanto em analisar o dataset agora. Seu objetivo, por hora, é encontrar possíveis erros de input, discutir com a área de negócios e tomar algumas decisões que serão comuns quando você receber um dataset:\n - Excluir ou não uma informação;\n - inputar um valor faltante;\n - substituir valores, etc",
   "metadata": {
    "cell_id": "00002-1c3e83cb-722a-410c-a537-b74cd87c9299",
    "deepnote_cell_type": "markdown",
    "deepnote_cell_height": 198.39999389648438
   }
  },
  {
   "cell_type": "markdown",
   "source": "**Obs.: churn, em poucas palavras,são os casos onde um cliente ou usuário para de comprar ou usar o produto ou serviço de uma empresa.**",
   "metadata": {
    "cell_id": "00003-121d504f-d072-47d3-a58c-04bb2ab6030b",
    "deepnote_cell_type": "markdown",
    "deepnote_cell_height": 52.399993896484375
   }
  },
  {
   "cell_type": "markdown",
   "source": "1 - sua primeira tarefa é importar alguns pacotes importantes para seu trabalho:\n\n- importe os pacotes pandas e seaborn\n    ",
   "metadata": {
    "cell_id": "00004-1a647268-3f18-48d4-87c6-7db7f54915fb",
    "deepnote_cell_type": "markdown",
    "deepnote_cell_height": 102.80000305175781
   }
  },
  {
   "cell_type": "code",
   "metadata": {
    "cell_id": "00005-1256afb9-89ee-4fd2-86d2-b8c424086264",
    "deepnote_to_be_reexecuted": false,
    "source_hash": "e0df300b",
    "execution_start": 1654727540948,
    "execution_millis": 0,
    "deepnote_cell_type": "code",
    "deepnote_cell_height": 99
   },
   "source": "import pandas as pd\nimport seaborn as sns",
   "execution_count": null,
   "outputs": []
  },
  {
   "cell_type": "markdown",
   "source": "2 - para trabalhar com os dados você precisa trazê-los para o Python. Faça isso:",
   "metadata": {
    "cell_id": "00006-bbdf99c2-2720-47b4-905e-c2bdc85b752e",
    "deepnote_cell_type": "markdown",
    "deepnote_cell_height": 52.399993896484375
   }
  },
  {
   "cell_type": "code",
   "metadata": {
    "cell_id": "00007-4871a14e-c80d-4a92-80bb-cea3322315ec",
    "deepnote_to_be_reexecuted": false,
    "source_hash": "33da9555",
    "execution_start": 1654725927868,
    "execution_millis": 15,
    "deepnote_cell_type": "code",
    "deepnote_cell_height": 99
   },
   "source": "churn = pd.read_csv('Churn.csv', ';')\n",
   "execution_count": null,
   "outputs": []
  },
  {
   "cell_type": "code",
   "metadata": {
    "cell_id": "b3a8e23c7a39489ab94322111d5287be",
    "tags": [],
    "deepnote_to_be_reexecuted": false,
    "source_hash": "a0961a25",
    "execution_start": 1654643317637,
    "execution_millis": 72,
    "deepnote_cell_type": "code",
    "deepnote_cell_height": 395
   },
   "source": "churn.head()",
   "execution_count": null,
   "outputs": [
    {
     "output_type": "execute_result",
     "execution_count": 9,
     "data": {
      "application/vnd.deepnote.dataframe.v3+json": {
       "column_count": 11,
       "row_count": 5,
       "columns": [
        {
         "name": "X1",
         "dtype": "int64",
         "stats": {
          "unique_count": 5,
          "nan_count": 0,
          "min": "502",
          "max": "850",
          "histogram": [
           {
            "bin_start": 502,
            "bin_end": 536.8,
            "count": 1
           },
           {
            "bin_start": 536.8,
            "bin_end": 571.6,
            "count": 0
           },
           {
            "bin_start": 571.6,
            "bin_end": 606.4,
            "count": 0
           },
           {
            "bin_start": 606.4,
            "bin_end": 641.2,
            "count": 2
           },
           {
            "bin_start": 641.2,
            "bin_end": 676,
            "count": 0
           },
           {
            "bin_start": 676,
            "bin_end": 710.8,
            "count": 1
           },
           {
            "bin_start": 710.8,
            "bin_end": 745.5999999999999,
            "count": 0
           },
           {
            "bin_start": 745.5999999999999,
            "bin_end": 780.4,
            "count": 0
           },
           {
            "bin_start": 780.4,
            "bin_end": 815.2,
            "count": 0
           },
           {
            "bin_start": 815.2,
            "bin_end": 850,
            "count": 1
           }
          ]
         }
        },
        {
         "name": "X2",
         "dtype": "object",
         "stats": {
          "unique_count": 2,
          "nan_count": 0,
          "categories": [
           {
            "name": "RS",
            "count": 3
           },
           {
            "name": "SC",
            "count": 2
           }
          ]
         }
        },
        {
         "name": "X3",
         "dtype": "object",
         "stats": {
          "unique_count": 1,
          "nan_count": 0,
          "categories": [
           {
            "name": "Feminino",
            "count": 5
           }
          ]
         }
        },
        {
         "name": "X4",
         "dtype": "int64",
         "stats": {
          "unique_count": 4,
          "nan_count": 0,
          "min": "39",
          "max": "43",
          "histogram": [
           {
            "bin_start": 39,
            "bin_end": 39.4,
            "count": 1
           },
           {
            "bin_start": 39.4,
            "bin_end": 39.8,
            "count": 0
           },
           {
            "bin_start": 39.8,
            "bin_end": 40.2,
            "count": 0
           },
           {
            "bin_start": 40.2,
            "bin_end": 40.6,
            "count": 0
           },
           {
            "bin_start": 40.6,
            "bin_end": 41,
            "count": 0
           },
           {
            "bin_start": 41,
            "bin_end": 41.4,
            "count": 1
           },
           {
            "bin_start": 41.4,
            "bin_end": 41.8,
            "count": 0
           },
           {
            "bin_start": 41.8,
            "bin_end": 42.2,
            "count": 2
           },
           {
            "bin_start": 42.2,
            "bin_end": 42.6,
            "count": 0
           },
           {
            "bin_start": 42.6,
            "bin_end": 43,
            "count": 1
           }
          ]
         }
        },
        {
         "name": "X4.1",
         "dtype": "int64",
         "stats": {
          "unique_count": 3,
          "nan_count": 0,
          "min": "1",
          "max": "8",
          "histogram": [
           {
            "bin_start": 1,
            "bin_end": 1.7,
            "count": 2
           },
           {
            "bin_start": 1.7,
            "bin_end": 2.4,
            "count": 2
           },
           {
            "bin_start": 2.4,
            "bin_end": 3.0999999999999996,
            "count": 0
           },
           {
            "bin_start": 3.0999999999999996,
            "bin_end": 3.8,
            "count": 0
           },
           {
            "bin_start": 3.8,
            "bin_end": 4.5,
            "count": 0
           },
           {
            "bin_start": 4.5,
            "bin_end": 5.199999999999999,
            "count": 0
           },
           {
            "bin_start": 5.199999999999999,
            "bin_end": 5.8999999999999995,
            "count": 0
           },
           {
            "bin_start": 5.8999999999999995,
            "bin_end": 6.6,
            "count": 0
           },
           {
            "bin_start": 6.6,
            "bin_end": 7.3,
            "count": 0
           },
           {
            "bin_start": 7.3,
            "bin_end": 8,
            "count": 1
           }
          ]
         }
        },
        {
         "name": "X6",
         "dtype": "int64",
         "stats": {
          "unique_count": 4,
          "nan_count": 0,
          "min": "0",
          "max": "12551082",
          "histogram": [
           {
            "bin_start": 0,
            "bin_end": 1255108.2,
            "count": 2
           },
           {
            "bin_start": 1255108.2,
            "bin_end": 2510216.4,
            "count": 1
           },
           {
            "bin_start": 2510216.4,
            "bin_end": 3765324.5999999996,
            "count": 0
           },
           {
            "bin_start": 3765324.5999999996,
            "bin_end": 5020432.8,
            "count": 0
           },
           {
            "bin_start": 5020432.8,
            "bin_end": 6275541,
            "count": 0
           },
           {
            "bin_start": 6275541,
            "bin_end": 7530649.199999999,
            "count": 0
           },
           {
            "bin_start": 7530649.199999999,
            "bin_end": 8785757.4,
            "count": 1
           },
           {
            "bin_start": 8785757.4,
            "bin_end": 10040865.6,
            "count": 0
           },
           {
            "bin_start": 10040865.6,
            "bin_end": 11295973.799999999,
            "count": 0
           },
           {
            "bin_start": 11295973.799999999,
            "bin_end": 12551082,
            "count": 1
           }
          ]
         }
        },
        {
         "name": "X7",
         "dtype": "int64",
         "stats": {
          "unique_count": 3,
          "nan_count": 0,
          "min": "1",
          "max": "3",
          "histogram": [
           {
            "bin_start": 1,
            "bin_end": 1.2,
            "count": 3
           },
           {
            "bin_start": 1.2,
            "bin_end": 1.4,
            "count": 0
           },
           {
            "bin_start": 1.4,
            "bin_end": 1.6,
            "count": 0
           },
           {
            "bin_start": 1.6,
            "bin_end": 1.8,
            "count": 0
           },
           {
            "bin_start": 1.8,
            "bin_end": 2,
            "count": 0
           },
           {
            "bin_start": 2,
            "bin_end": 2.2,
            "count": 1
           },
           {
            "bin_start": 2.2,
            "bin_end": 2.4000000000000004,
            "count": 0
           },
           {
            "bin_start": 2.4000000000000004,
            "bin_end": 2.6,
            "count": 0
           },
           {
            "bin_start": 2.6,
            "bin_end": 2.8,
            "count": 0
           },
           {
            "bin_start": 2.8,
            "bin_end": 3,
            "count": 1
           }
          ]
         }
        },
        {
         "name": "X8",
         "dtype": "int64",
         "stats": {
          "unique_count": 2,
          "nan_count": 0,
          "min": "0",
          "max": "1",
          "histogram": [
           {
            "bin_start": 0,
            "bin_end": 0.1,
            "count": 2
           },
           {
            "bin_start": 0.1,
            "bin_end": 0.2,
            "count": 0
           },
           {
            "bin_start": 0.2,
            "bin_end": 0.30000000000000004,
            "count": 0
           },
           {
            "bin_start": 0.30000000000000004,
            "bin_end": 0.4,
            "count": 0
           },
           {
            "bin_start": 0.4,
            "bin_end": 0.5,
            "count": 0
           },
           {
            "bin_start": 0.5,
            "bin_end": 0.6000000000000001,
            "count": 0
           },
           {
            "bin_start": 0.6000000000000001,
            "bin_end": 0.7000000000000001,
            "count": 0
           },
           {
            "bin_start": 0.7000000000000001,
            "bin_end": 0.8,
            "count": 0
           },
           {
            "bin_start": 0.8,
            "bin_end": 0.9,
            "count": 0
           },
           {
            "bin_start": 0.9,
            "bin_end": 1,
            "count": 3
           }
          ]
         }
        },
        {
         "name": "X9",
         "dtype": "int64",
         "stats": {
          "unique_count": 2,
          "nan_count": 0,
          "min": "0",
          "max": "1",
          "histogram": [
           {
            "bin_start": 0,
            "bin_end": 0.1,
            "count": 2
           },
           {
            "bin_start": 0.1,
            "bin_end": 0.2,
            "count": 0
           },
           {
            "bin_start": 0.2,
            "bin_end": 0.30000000000000004,
            "count": 0
           },
           {
            "bin_start": 0.30000000000000004,
            "bin_end": 0.4,
            "count": 0
           },
           {
            "bin_start": 0.4,
            "bin_end": 0.5,
            "count": 0
           },
           {
            "bin_start": 0.5,
            "bin_end": 0.6000000000000001,
            "count": 0
           },
           {
            "bin_start": 0.6000000000000001,
            "bin_end": 0.7000000000000001,
            "count": 0
           },
           {
            "bin_start": 0.7000000000000001,
            "bin_end": 0.8,
            "count": 0
           },
           {
            "bin_start": 0.8,
            "bin_end": 0.9,
            "count": 0
           },
           {
            "bin_start": 0.9,
            "bin_end": 1,
            "count": 3
           }
          ]
         }
        },
        {
         "name": "X10",
         "dtype": "float64",
         "stats": {
          "unique_count": 5,
          "nan_count": 0,
          "min": "790841.0",
          "max": "11393157.0",
          "histogram": [
           {
            "bin_start": 790841,
            "bin_end": 1851072.6,
            "count": 1
           },
           {
            "bin_start": 1851072.6,
            "bin_end": 2911304.2,
            "count": 0
           },
           {
            "bin_start": 2911304.2,
            "bin_end": 3971535.8000000003,
            "count": 0
           },
           {
            "bin_start": 3971535.8000000003,
            "bin_end": 5031767.4,
            "count": 0
           },
           {
            "bin_start": 5031767.4,
            "bin_end": 6091999,
            "count": 0
           },
           {
            "bin_start": 6091999,
            "bin_end": 7152230.600000001,
            "count": 0
           },
           {
            "bin_start": 7152230.600000001,
            "bin_end": 8212462.200000001,
            "count": 0
           },
           {
            "bin_start": 8212462.200000001,
            "bin_end": 9272693.8,
            "count": 0
           },
           {
            "bin_start": 9272693.8,
            "bin_end": 10332925.4,
            "count": 2
           },
           {
            "bin_start": 10332925.4,
            "bin_end": 11393157,
            "count": 2
           }
          ]
         }
        },
        {
         "name": "X11",
         "dtype": "int64",
         "stats": {
          "unique_count": 2,
          "nan_count": 0,
          "min": "0",
          "max": "1",
          "histogram": [
           {
            "bin_start": 0,
            "bin_end": 0.1,
            "count": 3
           },
           {
            "bin_start": 0.1,
            "bin_end": 0.2,
            "count": 0
           },
           {
            "bin_start": 0.2,
            "bin_end": 0.30000000000000004,
            "count": 0
           },
           {
            "bin_start": 0.30000000000000004,
            "bin_end": 0.4,
            "count": 0
           },
           {
            "bin_start": 0.4,
            "bin_end": 0.5,
            "count": 0
           },
           {
            "bin_start": 0.5,
            "bin_end": 0.6000000000000001,
            "count": 0
           },
           {
            "bin_start": 0.6000000000000001,
            "bin_end": 0.7000000000000001,
            "count": 0
           },
           {
            "bin_start": 0.7000000000000001,
            "bin_end": 0.8,
            "count": 0
           },
           {
            "bin_start": 0.8,
            "bin_end": 0.9,
            "count": 0
           },
           {
            "bin_start": 0.9,
            "bin_end": 1,
            "count": 2
           }
          ]
         }
        },
        {
         "name": "_deepnote_index_column",
         "dtype": "int64"
        }
       ],
       "rows": [
        {
         "X1": 619,
         "X2": "RS",
         "X3": "Feminino",
         "X4": 42,
         "X4.1": 2,
         "X6": 0,
         "X7": 1,
         "X8": 1,
         "X9": 1,
         "X10": 10134888,
         "X11": 1,
         "_deepnote_index_column": 1
        },
        {
         "X1": 608,
         "X2": "SC",
         "X3": "Feminino",
         "X4": 41,
         "X4.1": 1,
         "X6": 8380786,
         "X7": 1,
         "X8": 0,
         "X9": 1,
         "X10": 11254258,
         "X11": 0,
         "_deepnote_index_column": 2
        },
        {
         "X1": 502,
         "X2": "RS",
         "X3": "Feminino",
         "X4": 42,
         "X4.1": 8,
         "X6": 1596608,
         "X7": 3,
         "X8": 1,
         "X9": 0,
         "X10": 11393157,
         "X11": 1,
         "_deepnote_index_column": 3
        },
        {
         "X1": 699,
         "X2": "RS",
         "X3": "Feminino",
         "X4": 39,
         "X4.1": 1,
         "X6": 0,
         "X7": 2,
         "X8": 0,
         "X9": 0,
         "X10": 9382663,
         "X11": 0,
         "_deepnote_index_column": 4
        },
        {
         "X1": 850,
         "X2": "SC",
         "X3": "Feminino",
         "X4": 43,
         "X4.1": 2,
         "X6": 12551082,
         "X7": 1,
         "X8": 1,
         "X9": 1,
         "X10": 790841,
         "X11": 0,
         "_deepnote_index_column": 5
        }
       ]
      },
      "text/plain": "     X1  X2        X3  X4  X4.1        X6  X7  X8  X9         X10  X11\nX0                                                                    \n1   619  RS  Feminino  42     2         0   1   1   1  10134888.0    1\n2   608  SC  Feminino  41     1   8380786   1   0   1  11254258.0    0\n3   502  RS  Feminino  42     8   1596608   3   1   0  11393157.0    1\n4   699  RS  Feminino  39     1         0   2   0   0   9382663.0    0\n5   850  SC  Feminino  43     2  12551082   1   1   1    790841.0    0",
      "text/html": "<div>\n<style scoped>\n    .dataframe tbody tr th:only-of-type {\n        vertical-align: middle;\n    }\n\n    .dataframe tbody tr th {\n        vertical-align: top;\n    }\n\n    .dataframe thead th {\n        text-align: right;\n    }\n</style>\n<table border=\"1\" class=\"dataframe\">\n  <thead>\n    <tr style=\"text-align: right;\">\n      <th></th>\n      <th>X1</th>\n      <th>X2</th>\n      <th>X3</th>\n      <th>X4</th>\n      <th>X4.1</th>\n      <th>X6</th>\n      <th>X7</th>\n      <th>X8</th>\n      <th>X9</th>\n      <th>X10</th>\n      <th>X11</th>\n    </tr>\n    <tr>\n      <th>X0</th>\n      <th></th>\n      <th></th>\n      <th></th>\n      <th></th>\n      <th></th>\n      <th></th>\n      <th></th>\n      <th></th>\n      <th></th>\n      <th></th>\n      <th></th>\n    </tr>\n  </thead>\n  <tbody>\n    <tr>\n      <th>1</th>\n      <td>619</td>\n      <td>RS</td>\n      <td>Feminino</td>\n      <td>42</td>\n      <td>2</td>\n      <td>0</td>\n      <td>1</td>\n      <td>1</td>\n      <td>1</td>\n      <td>10134888.0</td>\n      <td>1</td>\n    </tr>\n    <tr>\n      <th>2</th>\n      <td>608</td>\n      <td>SC</td>\n      <td>Feminino</td>\n      <td>41</td>\n      <td>1</td>\n      <td>8380786</td>\n      <td>1</td>\n      <td>0</td>\n      <td>1</td>\n      <td>11254258.0</td>\n      <td>0</td>\n    </tr>\n    <tr>\n      <th>3</th>\n      <td>502</td>\n      <td>RS</td>\n      <td>Feminino</td>\n      <td>42</td>\n      <td>8</td>\n      <td>1596608</td>\n      <td>3</td>\n      <td>1</td>\n      <td>0</td>\n      <td>11393157.0</td>\n      <td>1</td>\n    </tr>\n    <tr>\n      <th>4</th>\n      <td>699</td>\n      <td>RS</td>\n      <td>Feminino</td>\n      <td>39</td>\n      <td>1</td>\n      <td>0</td>\n      <td>2</td>\n      <td>0</td>\n      <td>0</td>\n      <td>9382663.0</td>\n      <td>0</td>\n    </tr>\n    <tr>\n      <th>5</th>\n      <td>850</td>\n      <td>SC</td>\n      <td>Feminino</td>\n      <td>43</td>\n      <td>2</td>\n      <td>12551082</td>\n      <td>1</td>\n      <td>1</td>\n      <td>1</td>\n      <td>790841.0</td>\n      <td>0</td>\n    </tr>\n  </tbody>\n</table>\n</div>"
     },
     "metadata": {}
    }
   ]
  },
  {
   "cell_type": "markdown",
   "source": "3 - agora que você trouxe os dados para o mundo maravilhoso do Python, visualize algumas linhas desse conjunto de dados, afinal você precisa conhecer esses dados não é?!!",
   "metadata": {
    "cell_id": "00008-6928e4dc-79f5-4e15-b4ad-bf357ad741ad",
    "deepnote_cell_type": "markdown",
    "deepnote_cell_height": 74.80000305175781
   }
  },
  {
   "cell_type": "code",
   "metadata": {
    "cell_id": "00009-80fad56b-ce88-485e-a9c7-4b19ec1e5fd2",
    "deepnote_to_be_reexecuted": false,
    "source_hash": "f0f2c684",
    "execution_start": 1654643476054,
    "execution_millis": 30,
    "deepnote_table_state": {
     "pageSize": 10,
     "pageIndex": 1,
     "filters": [],
     "sortBy": []
    },
    "deepnote_table_loading": false,
    "deepnote_cell_type": "code",
    "deepnote_cell_height": 600
   },
   "source": "churn.head(20)",
   "execution_count": null,
   "outputs": [
    {
     "output_type": "execute_result",
     "execution_count": 11,
     "data": {
      "application/vnd.deepnote.dataframe.v3+json": {
       "column_count": 11,
       "row_count": 20,
       "columns": [
        {
         "name": "X1",
         "dtype": "int64",
         "stats": {
          "unique_count": 19,
          "nan_count": 0,
          "min": "376",
          "max": "850",
          "histogram": [
           {
            "bin_start": 376,
            "bin_end": 423.4,
            "count": 1
           },
           {
            "bin_start": 423.4,
            "bin_end": 470.8,
            "count": 0
           },
           {
            "bin_start": 470.8,
            "bin_end": 518.2,
            "count": 4
           },
           {
            "bin_start": 518.2,
            "bin_end": 565.6,
            "count": 3
           },
           {
            "bin_start": 565.6,
            "bin_end": 613,
            "count": 2
           },
           {
            "bin_start": 613,
            "bin_end": 660.4,
            "count": 5
           },
           {
            "bin_start": 660.4,
            "bin_end": 707.8,
            "count": 2
           },
           {
            "bin_start": 707.8,
            "bin_end": 755.2,
            "count": 1
           },
           {
            "bin_start": 755.2,
            "bin_end": 802.5999999999999,
            "count": 0
           },
           {
            "bin_start": 802.5999999999999,
            "bin_end": 850,
            "count": 2
           }
          ]
         }
        },
        {
         "name": "X2",
         "dtype": "object",
         "stats": {
          "unique_count": 3,
          "nan_count": 0,
          "categories": [
           {
            "name": "RS",
            "count": 10
           },
           {
            "name": "SC",
            "count": 7
           },
           {
            "name": "PR",
            "count": 3
           }
          ]
         }
        },
        {
         "name": "X3",
         "dtype": "object",
         "stats": {
          "unique_count": 3,
          "nan_count": 0,
          "categories": [
           {
            "name": "Feminino",
            "count": 11
           },
           {
            "name": "Masculino",
            "count": 7
           },
           {
            "name": "M",
            "count": 2
           }
          ]
         }
        },
        {
         "name": "X4",
         "dtype": "int64",
         "stats": {
          "unique_count": 15,
          "nan_count": 0,
          "min": "24",
          "max": "58",
          "histogram": [
           {
            "bin_start": 24,
            "bin_end": 27.4,
            "count": 5
           },
           {
            "bin_start": 27.4,
            "bin_end": 30.8,
            "count": 1
           },
           {
            "bin_start": 30.8,
            "bin_end": 34.2,
            "count": 2
           },
           {
            "bin_start": 34.2,
            "bin_end": 37.6,
            "count": 1
           },
           {
            "bin_start": 37.6,
            "bin_end": 41,
            "count": 1
           },
           {
            "bin_start": 41,
            "bin_end": 44.4,
            "count": 6
           },
           {
            "bin_start": 44.4,
            "bin_end": 47.8,
            "count": 2
           },
           {
            "bin_start": 47.8,
            "bin_end": 51.2,
            "count": 1
           },
           {
            "bin_start": 51.2,
            "bin_end": 54.599999999999994,
            "count": 0
           },
           {
            "bin_start": 54.599999999999994,
            "bin_end": 58,
            "count": 1
           }
          ]
         }
        },
        {
         "name": "X4.1",
         "dtype": "int64",
         "stats": {
          "unique_count": 10,
          "nan_count": 0,
          "min": "1",
          "max": "10",
          "histogram": [
           {
            "bin_start": 1,
            "bin_end": 1.9,
            "count": 3
           },
           {
            "bin_start": 1.9,
            "bin_end": 2.8,
            "count": 3
           },
           {
            "bin_start": 2.8,
            "bin_end": 3.7,
            "count": 2
           },
           {
            "bin_start": 3.7,
            "bin_end": 4.6,
            "count": 2
           },
           {
            "bin_start": 4.6,
            "bin_end": 5.5,
            "count": 1
           },
           {
            "bin_start": 5.5,
            "bin_end": 6.4,
            "count": 3
           },
           {
            "bin_start": 6.4,
            "bin_end": 7.3,
            "count": 2
           },
           {
            "bin_start": 7.3,
            "bin_end": 8.2,
            "count": 2
           },
           {
            "bin_start": 8.2,
            "bin_end": 9.1,
            "count": 1
           },
           {
            "bin_start": 9.1,
            "bin_end": 10,
            "count": 1
           }
          ]
         }
        },
        {
         "name": "X6",
         "dtype": "int64",
         "stats": {
          "unique_count": 11,
          "nan_count": 0,
          "min": "0",
          "max": "14312941",
          "histogram": [
           {
            "bin_start": 0,
            "bin_end": 1431294.1,
            "count": 10
           },
           {
            "bin_start": 1431294.1,
            "bin_end": 2862588.2,
            "count": 1
           },
           {
            "bin_start": 2862588.2,
            "bin_end": 4293882.300000001,
            "count": 0
           },
           {
            "bin_start": 4293882.300000001,
            "bin_end": 5725176.4,
            "count": 0
           },
           {
            "bin_start": 5725176.4,
            "bin_end": 7156470.5,
            "count": 0
           },
           {
            "bin_start": 7156470.5,
            "bin_end": 8587764.600000001,
            "count": 1
           },
           {
            "bin_start": 8587764.600000001,
            "bin_end": 10019058.700000001,
            "count": 0
           },
           {
            "bin_start": 10019058.700000001,
            "bin_end": 11450352.8,
            "count": 2
           },
           {
            "bin_start": 11450352.8,
            "bin_end": 12881646.9,
            "count": 2
           },
           {
            "bin_start": 12881646.9,
            "bin_end": 14312941,
            "count": 4
           }
          ]
         }
        },
        {
         "name": "X7",
         "dtype": "int64",
         "stats": {
          "unique_count": 4,
          "nan_count": 0,
          "min": "1",
          "max": "4",
          "histogram": [
           {
            "bin_start": 1,
            "bin_end": 1.3,
            "count": 6
           },
           {
            "bin_start": 1.3,
            "bin_end": 1.6,
            "count": 0
           },
           {
            "bin_start": 1.6,
            "bin_end": 1.9,
            "count": 0
           },
           {
            "bin_start": 1.9,
            "bin_end": 2.2,
            "count": 12
           },
           {
            "bin_start": 2.2,
            "bin_end": 2.5,
            "count": 0
           },
           {
            "bin_start": 2.5,
            "bin_end": 2.8,
            "count": 0
           },
           {
            "bin_start": 2.8,
            "bin_end": 3.1,
            "count": 1
           },
           {
            "bin_start": 3.1,
            "bin_end": 3.4,
            "count": 0
           },
           {
            "bin_start": 3.4,
            "bin_end": 3.6999999999999997,
            "count": 0
           },
           {
            "bin_start": 3.6999999999999997,
            "bin_end": 4,
            "count": 1
           }
          ]
         }
        },
        {
         "name": "X8",
         "dtype": "int64",
         "stats": {
          "unique_count": 2,
          "nan_count": 0,
          "min": "0",
          "max": "1",
          "histogram": [
           {
            "bin_start": 0,
            "bin_end": 0.1,
            "count": 7
           },
           {
            "bin_start": 0.1,
            "bin_end": 0.2,
            "count": 0
           },
           {
            "bin_start": 0.2,
            "bin_end": 0.30000000000000004,
            "count": 0
           },
           {
            "bin_start": 0.30000000000000004,
            "bin_end": 0.4,
            "count": 0
           },
           {
            "bin_start": 0.4,
            "bin_end": 0.5,
            "count": 0
           },
           {
            "bin_start": 0.5,
            "bin_end": 0.6000000000000001,
            "count": 0
           },
           {
            "bin_start": 0.6000000000000001,
            "bin_end": 0.7000000000000001,
            "count": 0
           },
           {
            "bin_start": 0.7000000000000001,
            "bin_end": 0.8,
            "count": 0
           },
           {
            "bin_start": 0.8,
            "bin_end": 0.9,
            "count": 0
           },
           {
            "bin_start": 0.9,
            "bin_end": 1,
            "count": 13
           }
          ]
         }
        },
        {
         "name": "X9",
         "dtype": "int64",
         "stats": {
          "unique_count": 2,
          "nan_count": 0,
          "min": "0",
          "max": "1",
          "histogram": [
           {
            "bin_start": 0,
            "bin_end": 0.1,
            "count": 10
           },
           {
            "bin_start": 0.1,
            "bin_end": 0.2,
            "count": 0
           },
           {
            "bin_start": 0.2,
            "bin_end": 0.30000000000000004,
            "count": 0
           },
           {
            "bin_start": 0.30000000000000004,
            "bin_end": 0.4,
            "count": 0
           },
           {
            "bin_start": 0.4,
            "bin_end": 0.5,
            "count": 0
           },
           {
            "bin_start": 0.5,
            "bin_end": 0.6000000000000001,
            "count": 0
           },
           {
            "bin_start": 0.6000000000000001,
            "bin_end": 0.7000000000000001,
            "count": 0
           },
           {
            "bin_start": 0.7000000000000001,
            "bin_end": 0.8,
            "count": 0
           },
           {
            "bin_start": 0.8,
            "bin_end": 0.9,
            "count": 0
           },
           {
            "bin_start": 0.9,
            "bin_end": 1,
            "count": 10
           }
          ]
         }
        },
        {
         "name": "X10",
         "dtype": "float64",
         "stats": {
          "unique_count": 19,
          "nan_count": 1,
          "min": "100628.0",
          "max": "11934688000.0",
          "histogram": [
           {
            "bin_start": 100628,
            "bin_end": 1193559365.2,
            "count": 18
           },
           {
            "bin_start": 1193559365.2,
            "bin_end": 2387018102.4,
            "count": 0
           },
           {
            "bin_start": 2387018102.4,
            "bin_end": 3580476839.6000004,
            "count": 0
           },
           {
            "bin_start": 3580476839.6000004,
            "bin_end": 4773935576.8,
            "count": 0
           },
           {
            "bin_start": 4773935576.8,
            "bin_end": 5967394314,
            "count": 0
           },
           {
            "bin_start": 5967394314,
            "bin_end": 7160853051.200001,
            "count": 0
           },
           {
            "bin_start": 7160853051.200001,
            "bin_end": 8354311788.400001,
            "count": 0
           },
           {
            "bin_start": 8354311788.400001,
            "bin_end": 9547770525.6,
            "count": 0
           },
           {
            "bin_start": 9547770525.6,
            "bin_end": 10741229262.800001,
            "count": 0
           },
           {
            "bin_start": 10741229262.800001,
            "bin_end": 11934688000,
            "count": 1
           }
          ]
         }
        },
        {
         "name": "X11",
         "dtype": "int64",
         "stats": {
          "unique_count": 2,
          "nan_count": 0,
          "min": "0",
          "max": "1",
          "histogram": [
           {
            "bin_start": 0,
            "bin_end": 0.1,
            "count": 15
           },
           {
            "bin_start": 0.1,
            "bin_end": 0.2,
            "count": 0
           },
           {
            "bin_start": 0.2,
            "bin_end": 0.30000000000000004,
            "count": 0
           },
           {
            "bin_start": 0.30000000000000004,
            "bin_end": 0.4,
            "count": 0
           },
           {
            "bin_start": 0.4,
            "bin_end": 0.5,
            "count": 0
           },
           {
            "bin_start": 0.5,
            "bin_end": 0.6000000000000001,
            "count": 0
           },
           {
            "bin_start": 0.6000000000000001,
            "bin_end": 0.7000000000000001,
            "count": 0
           },
           {
            "bin_start": 0.7000000000000001,
            "bin_end": 0.8,
            "count": 0
           },
           {
            "bin_start": 0.8,
            "bin_end": 0.9,
            "count": 0
           },
           {
            "bin_start": 0.9,
            "bin_end": 1,
            "count": 5
           }
          ]
         }
        },
        {
         "name": "_deepnote_index_column",
         "dtype": "int64"
        }
       ],
       "rows": [
        {
         "X1": 528,
         "X2": "RS",
         "X3": "Masculino",
         "X4": 31,
         "X4.1": 6,
         "X6": 10201672,
         "X7": 2,
         "X8": 0,
         "X9": 0,
         "X10": 8018112,
         "X11": 0,
         "_deepnote_index_column": 11
        },
        {
         "X1": 497,
         "X2": "SC",
         "X3": "Masculino",
         "X4": 24,
         "X4.1": 3,
         "X6": 0,
         "X7": 2,
         "X8": 1,
         "X9": 0,
         "X10": 7639001,
         "X11": 0,
         "_deepnote_index_column": 12
        },
        {
         "X1": 476,
         "X2": "RS",
         "X3": "Feminino",
         "X4": 34,
         "X4.1": 10,
         "X6": 0,
         "X7": 2,
         "X8": 1,
         "X9": 0,
         "X10": 2626098,
         "X11": 0,
         "_deepnote_index_column": 13
        },
        {
         "X1": 549,
         "X2": "RS",
         "X3": "Feminino",
         "X4": 25,
         "X4.1": 5,
         "X6": 0,
         "X7": 2,
         "X8": 0,
         "X9": 0,
         "X10": 19085779,
         "X11": 0,
         "_deepnote_index_column": 14
        },
        {
         "X1": 635,
         "X2": "SC",
         "X3": "Feminino",
         "X4": 35,
         "X4.1": 7,
         "X6": 0,
         "X7": 2,
         "X8": 1,
         "X9": 1,
         "X10": 6595165,
         "X11": 0,
         "_deepnote_index_column": 15
        },
        {
         "X1": 616,
         "X2": "PR",
         "X3": "M",
         "X4": 45,
         "X4.1": 3,
         "X6": 14312941,
         "X7": 2,
         "X8": 0,
         "X9": 1,
         "X10": 6432726,
         "X11": 0,
         "_deepnote_index_column": 16
        },
        {
         "X1": 653,
         "X2": "PR",
         "X3": "Masculino",
         "X4": 58,
         "X4.1": 1,
         "X6": 13260288,
         "X7": 1,
         "X8": 1,
         "X9": 0,
         "X10": 509767,
         "X11": 1,
         "_deepnote_index_column": 17
        },
        {
         "X1": 549,
         "X2": "SC",
         "X3": "Feminino",
         "X4": 24,
         "X4.1": 9,
         "X6": 0,
         "X7": 2,
         "X8": 1,
         "X9": 1,
         "X10": "nan",
         "X11": 0,
         "_deepnote_index_column": 18
        },
        {
         "X1": 587,
         "X2": "SC",
         "X3": "Masculino",
         "X4": 45,
         "X4.1": 6,
         "X6": 0,
         "X7": 1,
         "X8": 0,
         "X9": 0,
         "X10": 15868481,
         "X11": 0,
         "_deepnote_index_column": 19
        },
        {
         "X1": 726,
         "X2": "RS",
         "X3": "Feminino",
         "X4": 24,
         "X4.1": 6,
         "X6": 0,
         "X7": 2,
         "X8": 1,
         "X9": 1,
         "X10": 5472403,
         "X11": 0,
         "_deepnote_index_column": 20
        }
       ]
      },
      "text/plain": "     X1  X2         X3  X4  X4.1        X6  X7  X8  X9           X10  X11\nX0                                                                       \n1   619  RS   Feminino  42     2         0   1   1   1  1.013489e+07    1\n2   608  SC   Feminino  41     1   8380786   1   0   1  1.125426e+07    0\n3   502  RS   Feminino  42     8   1596608   3   1   0  1.139316e+07    1\n4   699  RS   Feminino  39     1         0   2   0   0  9.382663e+06    0\n5   850  SC   Feminino  43     2  12551082   1   1   1  7.908410e+05    0\n6   645  SC  Masculino  44     8  11375578   2   1   0  1.497567e+07    1\n7   822  RS          M  50     7         0   2   1   1  1.006280e+05    0\n8   376  PR   Feminino  29     4  11504674   4   1   0  1.193469e+10    1\n9   501  RS  Masculino  44     4  14205107   2   0   1  7.494050e+05    0\n10  684  RS  Masculino  27     2  13460388   1   1   1  7.172573e+06    0\n11  528  RS  Masculino  31     6  10201672   2   0   0  8.018112e+06    0\n12  497  SC  Masculino  24     3         0   2   1   0  7.639001e+06    0\n13  476  RS   Feminino  34    10         0   2   1   0  2.626098e+06    0\n14  549  RS   Feminino  25     5         0   2   0   0  1.908578e+07    0\n15  635  SC   Feminino  35     7         0   2   1   1  6.595165e+06    0\n16  616  PR          M  45     3  14312941   2   0   1  6.432726e+06    0\n17  653  PR  Masculino  58     1  13260288   1   1   0  5.097670e+05    1\n18  549  SC   Feminino  24     9         0   2   1   1           NaN    0\n19  587  SC  Masculino  45     6         0   1   0   0  1.586848e+07    0\n20  726  RS   Feminino  24     6         0   2   1   1  5.472403e+06    0",
      "text/html": "<div>\n<style scoped>\n    .dataframe tbody tr th:only-of-type {\n        vertical-align: middle;\n    }\n\n    .dataframe tbody tr th {\n        vertical-align: top;\n    }\n\n    .dataframe thead th {\n        text-align: right;\n    }\n</style>\n<table border=\"1\" class=\"dataframe\">\n  <thead>\n    <tr style=\"text-align: right;\">\n      <th></th>\n      <th>X1</th>\n      <th>X2</th>\n      <th>X3</th>\n      <th>X4</th>\n      <th>X4.1</th>\n      <th>X6</th>\n      <th>X7</th>\n      <th>X8</th>\n      <th>X9</th>\n      <th>X10</th>\n      <th>X11</th>\n    </tr>\n    <tr>\n      <th>X0</th>\n      <th></th>\n      <th></th>\n      <th></th>\n      <th></th>\n      <th></th>\n      <th></th>\n      <th></th>\n      <th></th>\n      <th></th>\n      <th></th>\n      <th></th>\n    </tr>\n  </thead>\n  <tbody>\n    <tr>\n      <th>1</th>\n      <td>619</td>\n      <td>RS</td>\n      <td>Feminino</td>\n      <td>42</td>\n      <td>2</td>\n      <td>0</td>\n      <td>1</td>\n      <td>1</td>\n      <td>1</td>\n      <td>1.013489e+07</td>\n      <td>1</td>\n    </tr>\n    <tr>\n      <th>2</th>\n      <td>608</td>\n      <td>SC</td>\n      <td>Feminino</td>\n      <td>41</td>\n      <td>1</td>\n      <td>8380786</td>\n      <td>1</td>\n      <td>0</td>\n      <td>1</td>\n      <td>1.125426e+07</td>\n      <td>0</td>\n    </tr>\n    <tr>\n      <th>3</th>\n      <td>502</td>\n      <td>RS</td>\n      <td>Feminino</td>\n      <td>42</td>\n      <td>8</td>\n      <td>1596608</td>\n      <td>3</td>\n      <td>1</td>\n      <td>0</td>\n      <td>1.139316e+07</td>\n      <td>1</td>\n    </tr>\n    <tr>\n      <th>4</th>\n      <td>699</td>\n      <td>RS</td>\n      <td>Feminino</td>\n      <td>39</td>\n      <td>1</td>\n      <td>0</td>\n      <td>2</td>\n      <td>0</td>\n      <td>0</td>\n      <td>9.382663e+06</td>\n      <td>0</td>\n    </tr>\n    <tr>\n      <th>5</th>\n      <td>850</td>\n      <td>SC</td>\n      <td>Feminino</td>\n      <td>43</td>\n      <td>2</td>\n      <td>12551082</td>\n      <td>1</td>\n      <td>1</td>\n      <td>1</td>\n      <td>7.908410e+05</td>\n      <td>0</td>\n    </tr>\n    <tr>\n      <th>6</th>\n      <td>645</td>\n      <td>SC</td>\n      <td>Masculino</td>\n      <td>44</td>\n      <td>8</td>\n      <td>11375578</td>\n      <td>2</td>\n      <td>1</td>\n      <td>0</td>\n      <td>1.497567e+07</td>\n      <td>1</td>\n    </tr>\n    <tr>\n      <th>7</th>\n      <td>822</td>\n      <td>RS</td>\n      <td>M</td>\n      <td>50</td>\n      <td>7</td>\n      <td>0</td>\n      <td>2</td>\n      <td>1</td>\n      <td>1</td>\n      <td>1.006280e+05</td>\n      <td>0</td>\n    </tr>\n    <tr>\n      <th>8</th>\n      <td>376</td>\n      <td>PR</td>\n      <td>Feminino</td>\n      <td>29</td>\n      <td>4</td>\n      <td>11504674</td>\n      <td>4</td>\n      <td>1</td>\n      <td>0</td>\n      <td>1.193469e+10</td>\n      <td>1</td>\n    </tr>\n    <tr>\n      <th>9</th>\n      <td>501</td>\n      <td>RS</td>\n      <td>Masculino</td>\n      <td>44</td>\n      <td>4</td>\n      <td>14205107</td>\n      <td>2</td>\n      <td>0</td>\n      <td>1</td>\n      <td>7.494050e+05</td>\n      <td>0</td>\n    </tr>\n    <tr>\n      <th>10</th>\n      <td>684</td>\n      <td>RS</td>\n      <td>Masculino</td>\n      <td>27</td>\n      <td>2</td>\n      <td>13460388</td>\n      <td>1</td>\n      <td>1</td>\n      <td>1</td>\n      <td>7.172573e+06</td>\n      <td>0</td>\n    </tr>\n    <tr>\n      <th>11</th>\n      <td>528</td>\n      <td>RS</td>\n      <td>Masculino</td>\n      <td>31</td>\n      <td>6</td>\n      <td>10201672</td>\n      <td>2</td>\n      <td>0</td>\n      <td>0</td>\n      <td>8.018112e+06</td>\n      <td>0</td>\n    </tr>\n    <tr>\n      <th>12</th>\n      <td>497</td>\n      <td>SC</td>\n      <td>Masculino</td>\n      <td>24</td>\n      <td>3</td>\n      <td>0</td>\n      <td>2</td>\n      <td>1</td>\n      <td>0</td>\n      <td>7.639001e+06</td>\n      <td>0</td>\n    </tr>\n    <tr>\n      <th>13</th>\n      <td>476</td>\n      <td>RS</td>\n      <td>Feminino</td>\n      <td>34</td>\n      <td>10</td>\n      <td>0</td>\n      <td>2</td>\n      <td>1</td>\n      <td>0</td>\n      <td>2.626098e+06</td>\n      <td>0</td>\n    </tr>\n    <tr>\n      <th>14</th>\n      <td>549</td>\n      <td>RS</td>\n      <td>Feminino</td>\n      <td>25</td>\n      <td>5</td>\n      <td>0</td>\n      <td>2</td>\n      <td>0</td>\n      <td>0</td>\n      <td>1.908578e+07</td>\n      <td>0</td>\n    </tr>\n    <tr>\n      <th>15</th>\n      <td>635</td>\n      <td>SC</td>\n      <td>Feminino</td>\n      <td>35</td>\n      <td>7</td>\n      <td>0</td>\n      <td>2</td>\n      <td>1</td>\n      <td>1</td>\n      <td>6.595165e+06</td>\n      <td>0</td>\n    </tr>\n    <tr>\n      <th>16</th>\n      <td>616</td>\n      <td>PR</td>\n      <td>M</td>\n      <td>45</td>\n      <td>3</td>\n      <td>14312941</td>\n      <td>2</td>\n      <td>0</td>\n      <td>1</td>\n      <td>6.432726e+06</td>\n      <td>0</td>\n    </tr>\n    <tr>\n      <th>17</th>\n      <td>653</td>\n      <td>PR</td>\n      <td>Masculino</td>\n      <td>58</td>\n      <td>1</td>\n      <td>13260288</td>\n      <td>1</td>\n      <td>1</td>\n      <td>0</td>\n      <td>5.097670e+05</td>\n      <td>1</td>\n    </tr>\n    <tr>\n      <th>18</th>\n      <td>549</td>\n      <td>SC</td>\n      <td>Feminino</td>\n      <td>24</td>\n      <td>9</td>\n      <td>0</td>\n      <td>2</td>\n      <td>1</td>\n      <td>1</td>\n      <td>NaN</td>\n      <td>0</td>\n    </tr>\n    <tr>\n      <th>19</th>\n      <td>587</td>\n      <td>SC</td>\n      <td>Masculino</td>\n      <td>45</td>\n      <td>6</td>\n      <td>0</td>\n      <td>1</td>\n      <td>0</td>\n      <td>0</td>\n      <td>1.586848e+07</td>\n      <td>0</td>\n    </tr>\n    <tr>\n      <th>20</th>\n      <td>726</td>\n      <td>RS</td>\n      <td>Feminino</td>\n      <td>24</td>\n      <td>6</td>\n      <td>0</td>\n      <td>2</td>\n      <td>1</td>\n      <td>1</td>\n      <td>5.472403e+06</td>\n      <td>0</td>\n    </tr>\n  </tbody>\n</table>\n</div>"
     },
     "metadata": {}
    }
   ]
  },
  {
   "cell_type": "markdown",
   "source": "4 - Notou algo estranho? Apesar de você saber do que se trata  o problema e os dados, parece que falta alguma coisa, não é?\n\nVocê não sabe quem são suas variáveis pois as colunas não estão nomeadas!! Bem Vindo ao mundo da análise de dados!!!\n\n",
   "metadata": {
    "cell_id": "00010-40d23c26-2725-46a9-ae02-944fa7a46ce1",
    "deepnote_cell_type": "markdown",
    "deepnote_cell_height": 88.80000305175781
   }
  },
  {
   "cell_type": "markdown",
   "source": "5 - Essa é a hora que você deveria procurar a área de negócios para descobrir o que é cada coluna!\n\nFaça isso! Lembre-se que no dia-dia de trabalho você terá contato com várias áreas e é de suma importancia ser proativo!!!\n\nConsulte um tutor, abra um ticket!!( ele é a sua área de negócios hoje!!) e peça a para ele te ajudar a identificar nome das colunas desse dataset!",
   "metadata": {
    "cell_id": "00011-fda9ca8b-4883-4dcb-84b8-70b751e77c38",
    "deepnote_cell_type": "markdown",
    "deepnote_cell_height": 125.19999694824219
   }
  },
  {
   "cell_type": "code",
   "metadata": {
    "cell_id": "4f849aec9e7e4615bdb6ff02ebe0c2ff",
    "tags": [],
    "deepnote_to_be_reexecuted": false,
    "source_hash": "1d3a83a6",
    "execution_start": 1654643858309,
    "execution_millis": 3,
    "deepnote_cell_type": "code",
    "deepnote_cell_height": 81
   },
   "source": "",
   "execution_count": null,
   "outputs": []
  },
  {
   "cell_type": "markdown",
   "source": "6 - Agora que você tem os nomes das colunas, dê os nomes correspondentes:",
   "metadata": {
    "cell_id": "00013-0d5af0f8-d456-4433-8c55-53a33d675076",
    "deepnote_cell_type": "markdown",
    "deepnote_cell_height": 52.399993896484375
   }
  },
  {
   "cell_type": "code",
   "metadata": {
    "cell_id": "00014-2ce457cb-3ba1-4487-b313-d107ca6db937",
    "deepnote_to_be_reexecuted": false,
    "source_hash": "69a77f4f",
    "execution_start": 1654726013222,
    "execution_millis": 16,
    "deepnote_cell_type": "code",
    "deepnote_cell_height": 81
   },
   "source": "churn.columns = [\"Id\",\"Score\",\"Estado\",\"Genero\",\"Idade\",\"Patrimonio\",\"Saldo\",\"Produtos\",\"TemCartCredito\",\"Ativo\",\"Salario\",\"Saiu\"]",
   "execution_count": null,
   "outputs": []
  },
  {
   "cell_type": "markdown",
   "source": "7 - visualize novamente algumas linhas do seu conjunto de dados",
   "metadata": {
    "cell_id": "00015-17779ca3-4d0b-41c9-a74c-3074a1063edf",
    "deepnote_cell_type": "markdown",
    "deepnote_cell_height": 52.399993896484375
   }
  },
  {
   "cell_type": "code",
   "metadata": {
    "cell_id": "00016-dbcfa285-d2af-4e53-b5d7-aa3e06212b52",
    "deepnote_to_be_reexecuted": false,
    "source_hash": "a0961a25",
    "execution_start": 1654643885937,
    "execution_millis": 12,
    "deepnote_cell_type": "code",
    "deepnote_cell_height": 395
   },
   "source": "churn.head()",
   "execution_count": null,
   "outputs": [
    {
     "output_type": "execute_result",
     "execution_count": 15,
     "data": {
      "application/vnd.deepnote.dataframe.v3+json": {
       "column_count": 12,
       "row_count": 5,
       "columns": [
        {
         "name": "Id",
         "dtype": "int64",
         "stats": {
          "unique_count": 5,
          "nan_count": 0,
          "min": "1",
          "max": "5",
          "histogram": [
           {
            "bin_start": 1,
            "bin_end": 1.4,
            "count": 1
           },
           {
            "bin_start": 1.4,
            "bin_end": 1.8,
            "count": 0
           },
           {
            "bin_start": 1.8,
            "bin_end": 2.2,
            "count": 1
           },
           {
            "bin_start": 2.2,
            "bin_end": 2.6,
            "count": 0
           },
           {
            "bin_start": 2.6,
            "bin_end": 3,
            "count": 0
           },
           {
            "bin_start": 3,
            "bin_end": 3.4000000000000004,
            "count": 1
           },
           {
            "bin_start": 3.4000000000000004,
            "bin_end": 3.8000000000000003,
            "count": 0
           },
           {
            "bin_start": 3.8000000000000003,
            "bin_end": 4.2,
            "count": 1
           },
           {
            "bin_start": 4.2,
            "bin_end": 4.6,
            "count": 0
           },
           {
            "bin_start": 4.6,
            "bin_end": 5,
            "count": 1
           }
          ]
         }
        },
        {
         "name": "Score",
         "dtype": "int64",
         "stats": {
          "unique_count": 5,
          "nan_count": 0,
          "min": "502",
          "max": "850",
          "histogram": [
           {
            "bin_start": 502,
            "bin_end": 536.8,
            "count": 1
           },
           {
            "bin_start": 536.8,
            "bin_end": 571.6,
            "count": 0
           },
           {
            "bin_start": 571.6,
            "bin_end": 606.4,
            "count": 0
           },
           {
            "bin_start": 606.4,
            "bin_end": 641.2,
            "count": 2
           },
           {
            "bin_start": 641.2,
            "bin_end": 676,
            "count": 0
           },
           {
            "bin_start": 676,
            "bin_end": 710.8,
            "count": 1
           },
           {
            "bin_start": 710.8,
            "bin_end": 745.5999999999999,
            "count": 0
           },
           {
            "bin_start": 745.5999999999999,
            "bin_end": 780.4,
            "count": 0
           },
           {
            "bin_start": 780.4,
            "bin_end": 815.2,
            "count": 0
           },
           {
            "bin_start": 815.2,
            "bin_end": 850,
            "count": 1
           }
          ]
         }
        },
        {
         "name": "Estado",
         "dtype": "object",
         "stats": {
          "unique_count": 2,
          "nan_count": 0,
          "categories": [
           {
            "name": "RS",
            "count": 3
           },
           {
            "name": "SC",
            "count": 2
           }
          ]
         }
        },
        {
         "name": "Genero",
         "dtype": "object",
         "stats": {
          "unique_count": 1,
          "nan_count": 0,
          "categories": [
           {
            "name": "Feminino",
            "count": 5
           }
          ]
         }
        },
        {
         "name": "Idade",
         "dtype": "int64",
         "stats": {
          "unique_count": 4,
          "nan_count": 0,
          "min": "39",
          "max": "43",
          "histogram": [
           {
            "bin_start": 39,
            "bin_end": 39.4,
            "count": 1
           },
           {
            "bin_start": 39.4,
            "bin_end": 39.8,
            "count": 0
           },
           {
            "bin_start": 39.8,
            "bin_end": 40.2,
            "count": 0
           },
           {
            "bin_start": 40.2,
            "bin_end": 40.6,
            "count": 0
           },
           {
            "bin_start": 40.6,
            "bin_end": 41,
            "count": 0
           },
           {
            "bin_start": 41,
            "bin_end": 41.4,
            "count": 1
           },
           {
            "bin_start": 41.4,
            "bin_end": 41.8,
            "count": 0
           },
           {
            "bin_start": 41.8,
            "bin_end": 42.2,
            "count": 2
           },
           {
            "bin_start": 42.2,
            "bin_end": 42.6,
            "count": 0
           },
           {
            "bin_start": 42.6,
            "bin_end": 43,
            "count": 1
           }
          ]
         }
        },
        {
         "name": "Patrimonio",
         "dtype": "int64",
         "stats": {
          "unique_count": 3,
          "nan_count": 0,
          "min": "1",
          "max": "8",
          "histogram": [
           {
            "bin_start": 1,
            "bin_end": 1.7,
            "count": 2
           },
           {
            "bin_start": 1.7,
            "bin_end": 2.4,
            "count": 2
           },
           {
            "bin_start": 2.4,
            "bin_end": 3.0999999999999996,
            "count": 0
           },
           {
            "bin_start": 3.0999999999999996,
            "bin_end": 3.8,
            "count": 0
           },
           {
            "bin_start": 3.8,
            "bin_end": 4.5,
            "count": 0
           },
           {
            "bin_start": 4.5,
            "bin_end": 5.199999999999999,
            "count": 0
           },
           {
            "bin_start": 5.199999999999999,
            "bin_end": 5.8999999999999995,
            "count": 0
           },
           {
            "bin_start": 5.8999999999999995,
            "bin_end": 6.6,
            "count": 0
           },
           {
            "bin_start": 6.6,
            "bin_end": 7.3,
            "count": 0
           },
           {
            "bin_start": 7.3,
            "bin_end": 8,
            "count": 1
           }
          ]
         }
        },
        {
         "name": "Saldo",
         "dtype": "int64",
         "stats": {
          "unique_count": 4,
          "nan_count": 0,
          "min": "0",
          "max": "12551082",
          "histogram": [
           {
            "bin_start": 0,
            "bin_end": 1255108.2,
            "count": 2
           },
           {
            "bin_start": 1255108.2,
            "bin_end": 2510216.4,
            "count": 1
           },
           {
            "bin_start": 2510216.4,
            "bin_end": 3765324.5999999996,
            "count": 0
           },
           {
            "bin_start": 3765324.5999999996,
            "bin_end": 5020432.8,
            "count": 0
           },
           {
            "bin_start": 5020432.8,
            "bin_end": 6275541,
            "count": 0
           },
           {
            "bin_start": 6275541,
            "bin_end": 7530649.199999999,
            "count": 0
           },
           {
            "bin_start": 7530649.199999999,
            "bin_end": 8785757.4,
            "count": 1
           },
           {
            "bin_start": 8785757.4,
            "bin_end": 10040865.6,
            "count": 0
           },
           {
            "bin_start": 10040865.6,
            "bin_end": 11295973.799999999,
            "count": 0
           },
           {
            "bin_start": 11295973.799999999,
            "bin_end": 12551082,
            "count": 1
           }
          ]
         }
        },
        {
         "name": "Produtos",
         "dtype": "int64",
         "stats": {
          "unique_count": 3,
          "nan_count": 0,
          "min": "1",
          "max": "3",
          "histogram": [
           {
            "bin_start": 1,
            "bin_end": 1.2,
            "count": 3
           },
           {
            "bin_start": 1.2,
            "bin_end": 1.4,
            "count": 0
           },
           {
            "bin_start": 1.4,
            "bin_end": 1.6,
            "count": 0
           },
           {
            "bin_start": 1.6,
            "bin_end": 1.8,
            "count": 0
           },
           {
            "bin_start": 1.8,
            "bin_end": 2,
            "count": 0
           },
           {
            "bin_start": 2,
            "bin_end": 2.2,
            "count": 1
           },
           {
            "bin_start": 2.2,
            "bin_end": 2.4000000000000004,
            "count": 0
           },
           {
            "bin_start": 2.4000000000000004,
            "bin_end": 2.6,
            "count": 0
           },
           {
            "bin_start": 2.6,
            "bin_end": 2.8,
            "count": 0
           },
           {
            "bin_start": 2.8,
            "bin_end": 3,
            "count": 1
           }
          ]
         }
        },
        {
         "name": "TemCartCredito",
         "dtype": "int64",
         "stats": {
          "unique_count": 2,
          "nan_count": 0,
          "min": "0",
          "max": "1",
          "histogram": [
           {
            "bin_start": 0,
            "bin_end": 0.1,
            "count": 2
           },
           {
            "bin_start": 0.1,
            "bin_end": 0.2,
            "count": 0
           },
           {
            "bin_start": 0.2,
            "bin_end": 0.30000000000000004,
            "count": 0
           },
           {
            "bin_start": 0.30000000000000004,
            "bin_end": 0.4,
            "count": 0
           },
           {
            "bin_start": 0.4,
            "bin_end": 0.5,
            "count": 0
           },
           {
            "bin_start": 0.5,
            "bin_end": 0.6000000000000001,
            "count": 0
           },
           {
            "bin_start": 0.6000000000000001,
            "bin_end": 0.7000000000000001,
            "count": 0
           },
           {
            "bin_start": 0.7000000000000001,
            "bin_end": 0.8,
            "count": 0
           },
           {
            "bin_start": 0.8,
            "bin_end": 0.9,
            "count": 0
           },
           {
            "bin_start": 0.9,
            "bin_end": 1,
            "count": 3
           }
          ]
         }
        },
        {
         "name": "Ativo",
         "dtype": "int64",
         "stats": {
          "unique_count": 2,
          "nan_count": 0,
          "min": "0",
          "max": "1",
          "histogram": [
           {
            "bin_start": 0,
            "bin_end": 0.1,
            "count": 2
           },
           {
            "bin_start": 0.1,
            "bin_end": 0.2,
            "count": 0
           },
           {
            "bin_start": 0.2,
            "bin_end": 0.30000000000000004,
            "count": 0
           },
           {
            "bin_start": 0.30000000000000004,
            "bin_end": 0.4,
            "count": 0
           },
           {
            "bin_start": 0.4,
            "bin_end": 0.5,
            "count": 0
           },
           {
            "bin_start": 0.5,
            "bin_end": 0.6000000000000001,
            "count": 0
           },
           {
            "bin_start": 0.6000000000000001,
            "bin_end": 0.7000000000000001,
            "count": 0
           },
           {
            "bin_start": 0.7000000000000001,
            "bin_end": 0.8,
            "count": 0
           },
           {
            "bin_start": 0.8,
            "bin_end": 0.9,
            "count": 0
           },
           {
            "bin_start": 0.9,
            "bin_end": 1,
            "count": 3
           }
          ]
         }
        },
        {
         "name": "Salario",
         "dtype": "float64",
         "stats": {
          "unique_count": 5,
          "nan_count": 0,
          "min": "790841.0",
          "max": "11393157.0",
          "histogram": [
           {
            "bin_start": 790841,
            "bin_end": 1851072.6,
            "count": 1
           },
           {
            "bin_start": 1851072.6,
            "bin_end": 2911304.2,
            "count": 0
           },
           {
            "bin_start": 2911304.2,
            "bin_end": 3971535.8000000003,
            "count": 0
           },
           {
            "bin_start": 3971535.8000000003,
            "bin_end": 5031767.4,
            "count": 0
           },
           {
            "bin_start": 5031767.4,
            "bin_end": 6091999,
            "count": 0
           },
           {
            "bin_start": 6091999,
            "bin_end": 7152230.600000001,
            "count": 0
           },
           {
            "bin_start": 7152230.600000001,
            "bin_end": 8212462.200000001,
            "count": 0
           },
           {
            "bin_start": 8212462.200000001,
            "bin_end": 9272693.8,
            "count": 0
           },
           {
            "bin_start": 9272693.8,
            "bin_end": 10332925.4,
            "count": 2
           },
           {
            "bin_start": 10332925.4,
            "bin_end": 11393157,
            "count": 2
           }
          ]
         }
        },
        {
         "name": "Saiu",
         "dtype": "int64",
         "stats": {
          "unique_count": 2,
          "nan_count": 0,
          "min": "0",
          "max": "1",
          "histogram": [
           {
            "bin_start": 0,
            "bin_end": 0.1,
            "count": 3
           },
           {
            "bin_start": 0.1,
            "bin_end": 0.2,
            "count": 0
           },
           {
            "bin_start": 0.2,
            "bin_end": 0.30000000000000004,
            "count": 0
           },
           {
            "bin_start": 0.30000000000000004,
            "bin_end": 0.4,
            "count": 0
           },
           {
            "bin_start": 0.4,
            "bin_end": 0.5,
            "count": 0
           },
           {
            "bin_start": 0.5,
            "bin_end": 0.6000000000000001,
            "count": 0
           },
           {
            "bin_start": 0.6000000000000001,
            "bin_end": 0.7000000000000001,
            "count": 0
           },
           {
            "bin_start": 0.7000000000000001,
            "bin_end": 0.8,
            "count": 0
           },
           {
            "bin_start": 0.8,
            "bin_end": 0.9,
            "count": 0
           },
           {
            "bin_start": 0.9,
            "bin_end": 1,
            "count": 2
           }
          ]
         }
        },
        {
         "name": "_deepnote_index_column",
         "dtype": "int64"
        }
       ],
       "rows": [
        {
         "Id": 1,
         "Score": 619,
         "Estado": "RS",
         "Genero": "Feminino",
         "Idade": 42,
         "Patrimonio": 2,
         "Saldo": 0,
         "Produtos": 1,
         "TemCartCredito": 1,
         "Ativo": 1,
         "Salario": 10134888,
         "Saiu": 1,
         "_deepnote_index_column": 0
        },
        {
         "Id": 2,
         "Score": 608,
         "Estado": "SC",
         "Genero": "Feminino",
         "Idade": 41,
         "Patrimonio": 1,
         "Saldo": 8380786,
         "Produtos": 1,
         "TemCartCredito": 0,
         "Ativo": 1,
         "Salario": 11254258,
         "Saiu": 0,
         "_deepnote_index_column": 1
        },
        {
         "Id": 3,
         "Score": 502,
         "Estado": "RS",
         "Genero": "Feminino",
         "Idade": 42,
         "Patrimonio": 8,
         "Saldo": 1596608,
         "Produtos": 3,
         "TemCartCredito": 1,
         "Ativo": 0,
         "Salario": 11393157,
         "Saiu": 1,
         "_deepnote_index_column": 2
        },
        {
         "Id": 4,
         "Score": 699,
         "Estado": "RS",
         "Genero": "Feminino",
         "Idade": 39,
         "Patrimonio": 1,
         "Saldo": 0,
         "Produtos": 2,
         "TemCartCredito": 0,
         "Ativo": 0,
         "Salario": 9382663,
         "Saiu": 0,
         "_deepnote_index_column": 3
        },
        {
         "Id": 5,
         "Score": 850,
         "Estado": "SC",
         "Genero": "Feminino",
         "Idade": 43,
         "Patrimonio": 2,
         "Saldo": 12551082,
         "Produtos": 1,
         "TemCartCredito": 1,
         "Ativo": 1,
         "Salario": 790841,
         "Saiu": 0,
         "_deepnote_index_column": 4
        }
       ]
      },
      "text/plain": "   Id  Score Estado    Genero  Idade  Patrimonio     Saldo  Produtos  \\\n0   1    619     RS  Feminino     42           2         0         1   \n1   2    608     SC  Feminino     41           1   8380786         1   \n2   3    502     RS  Feminino     42           8   1596608         3   \n3   4    699     RS  Feminino     39           1         0         2   \n4   5    850     SC  Feminino     43           2  12551082         1   \n\n   TemCartCredito  Ativo     Salario  Saiu  \n0               1      1  10134888.0     1  \n1               0      1  11254258.0     0  \n2               1      0  11393157.0     1  \n3               0      0   9382663.0     0  \n4               1      1    790841.0     0  ",
      "text/html": "<div>\n<style scoped>\n    .dataframe tbody tr th:only-of-type {\n        vertical-align: middle;\n    }\n\n    .dataframe tbody tr th {\n        vertical-align: top;\n    }\n\n    .dataframe thead th {\n        text-align: right;\n    }\n</style>\n<table border=\"1\" class=\"dataframe\">\n  <thead>\n    <tr style=\"text-align: right;\">\n      <th></th>\n      <th>Id</th>\n      <th>Score</th>\n      <th>Estado</th>\n      <th>Genero</th>\n      <th>Idade</th>\n      <th>Patrimonio</th>\n      <th>Saldo</th>\n      <th>Produtos</th>\n      <th>TemCartCredito</th>\n      <th>Ativo</th>\n      <th>Salario</th>\n      <th>Saiu</th>\n    </tr>\n  </thead>\n  <tbody>\n    <tr>\n      <th>0</th>\n      <td>1</td>\n      <td>619</td>\n      <td>RS</td>\n      <td>Feminino</td>\n      <td>42</td>\n      <td>2</td>\n      <td>0</td>\n      <td>1</td>\n      <td>1</td>\n      <td>1</td>\n      <td>10134888.0</td>\n      <td>1</td>\n    </tr>\n    <tr>\n      <th>1</th>\n      <td>2</td>\n      <td>608</td>\n      <td>SC</td>\n      <td>Feminino</td>\n      <td>41</td>\n      <td>1</td>\n      <td>8380786</td>\n      <td>1</td>\n      <td>0</td>\n      <td>1</td>\n      <td>11254258.0</td>\n      <td>0</td>\n    </tr>\n    <tr>\n      <th>2</th>\n      <td>3</td>\n      <td>502</td>\n      <td>RS</td>\n      <td>Feminino</td>\n      <td>42</td>\n      <td>8</td>\n      <td>1596608</td>\n      <td>3</td>\n      <td>1</td>\n      <td>0</td>\n      <td>11393157.0</td>\n      <td>1</td>\n    </tr>\n    <tr>\n      <th>3</th>\n      <td>4</td>\n      <td>699</td>\n      <td>RS</td>\n      <td>Feminino</td>\n      <td>39</td>\n      <td>1</td>\n      <td>0</td>\n      <td>2</td>\n      <td>0</td>\n      <td>0</td>\n      <td>9382663.0</td>\n      <td>0</td>\n    </tr>\n    <tr>\n      <th>4</th>\n      <td>5</td>\n      <td>850</td>\n      <td>SC</td>\n      <td>Feminino</td>\n      <td>43</td>\n      <td>2</td>\n      <td>12551082</td>\n      <td>1</td>\n      <td>1</td>\n      <td>1</td>\n      <td>790841.0</td>\n      <td>0</td>\n    </tr>\n  </tbody>\n</table>\n</div>"
     },
     "metadata": {}
    }
   ]
  },
  {
   "cell_type": "markdown",
   "source": "8 - Agora que você conhece um pouco melhor os dados, veja o tamanho desse conjunto de dados.",
   "metadata": {
    "cell_id": "00017-97925c4e-4cf6-4f8b-a039-f15637bb9cdb",
    "deepnote_cell_type": "markdown",
    "deepnote_cell_height": 52.399993896484375
   }
  },
  {
   "cell_type": "code",
   "metadata": {
    "cell_id": "00018-b672bf8a-5f56-4810-821c-8ae04e722ea2",
    "deepnote_to_be_reexecuted": false,
    "source_hash": "b0904472",
    "execution_start": 1654728353423,
    "execution_millis": 25,
    "deepnote_cell_type": "code",
    "deepnote_cell_height": 456.79998779296875
   },
   "source": "churn.info()",
   "execution_count": null,
   "outputs": [
    {
     "name": "stdout",
     "text": "<class 'pandas.core.frame.DataFrame'>\nRangeIndex: 999 entries, 0 to 998\nData columns (total 12 columns):\n #   Column          Non-Null Count  Dtype  \n---  ------          --------------  -----  \n 0   Id              999 non-null    int64  \n 1   Score           999 non-null    int64  \n 2   Estado          999 non-null    object \n 3   Genero          999 non-null    object \n 4   Idade           999 non-null    int64  \n 5   Patrimonio      999 non-null    int64  \n 6   Saldo           999 non-null    int64  \n 7   Produtos        999 non-null    int64  \n 8   TemCartCredito  999 non-null    int64  \n 9   Ativo           999 non-null    int64  \n 10  Salario         992 non-null    float64\n 11  Saiu            999 non-null    int64  \ndtypes: float64(1), int64(9), object(2)\nmemory usage: 93.8+ KB\n",
     "output_type": "stream"
    }
   ]
  },
  {
   "cell_type": "code",
   "metadata": {
    "cell_id": "00019-936a7eb4-3a86-4aad-b1fb-6a5769afaab8",
    "deepnote_to_be_reexecuted": false,
    "source_hash": "9ec0e0ab",
    "execution_start": 1654725948145,
    "execution_millis": 20,
    "deepnote_cell_type": "code",
    "deepnote_cell_height": 118,
    "deepnote_output_heights": [
     21
    ]
   },
   "source": "churn.shape",
   "execution_count": null,
   "outputs": [
    {
     "output_type": "execute_result",
     "execution_count": 5,
     "data": {
      "text/plain": "(999, 12)"
     },
     "metadata": {}
    }
   ]
  },
  {
   "cell_type": "markdown",
   "source": "9 - Antes de continuar sua análise, salve  esse dataset com as colunas renomeadas em um arquivo csv:",
   "metadata": {
    "cell_id": "00020-d77db694-db81-4b91-a8a7-940cb12a94a0",
    "deepnote_cell_type": "markdown",
    "deepnote_cell_height": 52.399993896484375
   }
  },
  {
   "cell_type": "code",
   "metadata": {
    "cell_id": "00021-e979857a-9027-4b7f-9ab8-621e7f30e926",
    "deepnote_to_be_reexecuted": false,
    "source_hash": "5a550e88",
    "execution_start": 1654644084830,
    "execution_millis": 9,
    "deepnote_cell_type": "code",
    "deepnote_cell_height": 81
   },
   "source": "churn.to_csv('Churn2.csv')",
   "execution_count": null,
   "outputs": []
  },
  {
   "cell_type": "markdown",
   "source": "10 - No mundo da análise de dados as colunas(que são as variáveis) podem ser numéricas ou categóricas. Você verá isso com mais precisão no curso de estatística, porém aqui variaveis categóricas serão representadas por letras, por exemplo cor dos olhos(preto, azul, verde, castanho) e variáveis numéricas serão representadas por números, por exemplo quantidade de filhos(1,2,3,4,etc).\n\nDisto isso vamos explorar as variáveis categóricas:",
   "metadata": {
    "cell_id": "00022-57da6e79-e37b-45b1-a78c-730fbc4bf8f2",
    "deepnote_cell_type": "markdown",
    "deepnote_cell_height": 133.60000610351562
   }
  },
  {
   "cell_type": "markdown",
   "source": "11 - Explore a variável *Estado* vendo como as pessoas estão distribuídas nos estados!",
   "metadata": {
    "cell_id": "00023-87a729e0-0a24-4f94-afbc-7ce335f84152",
    "deepnote_cell_type": "markdown",
    "deepnote_cell_height": 52.399993896484375
   }
  },
  {
   "cell_type": "code",
   "metadata": {
    "cell_id": "62d43fcc082e42d8830ef259c4e3b624",
    "tags": [],
    "deepnote_to_be_reexecuted": false,
    "source_hash": "24419bd3",
    "execution_start": 1654726354568,
    "execution_millis": 5,
    "deepnote_cell_type": "code",
    "deepnote_cell_height": 81
   },
   "source": "churn_estado = churn.groupby(['Estado']).size()",
   "execution_count": null,
   "outputs": []
  },
  {
   "cell_type": "code",
   "metadata": {
    "cell_id": "184f7885a0d245888dcd02f234cdc78c",
    "tags": [],
    "deepnote_to_be_reexecuted": false,
    "source_hash": "6ec51ea5",
    "execution_start": 1654726356968,
    "execution_millis": 696,
    "deepnote_cell_type": "code",
    "deepnote_cell_height": 195,
    "deepnote_output_heights": [
     98
    ]
   },
   "source": "churn_estado",
   "execution_count": null,
   "outputs": [
    {
     "output_type": "execute_result",
     "execution_count": 29,
     "data": {
      "text/plain": "Estado\nPR    257\nRS    484\nSC    258\ndtype: int64"
     },
     "metadata": {}
    }
   ]
  },
  {
   "cell_type": "markdown",
   "source": "12 - Não é obrigatório, mas não menos importante, você conseguiria fazer um gráfico de barras com a contagem que fez acima?\n\nVocê pode consultar aqui a documentação do pandas e gráficos de barras:\n    \nhttps://pandas.pydata.org/docs/reference/api/pandas.DataFrame.plot.bar.html",
   "metadata": {
    "cell_id": "00025-77e27a73-2537-4da4-b423-720b7f448e78",
    "deepnote_cell_type": "markdown",
    "deepnote_cell_height": 125.19999694824219
   }
  },
  {
   "cell_type": "code",
   "metadata": {
    "cell_id": "00026-6632136b-aee8-4601-882e-519f2056649f",
    "deepnote_to_be_reexecuted": false,
    "source_hash": "18d2c3a",
    "execution_start": 1654726361273,
    "execution_millis": 183,
    "deepnote_cell_type": "code",
    "deepnote_cell_height": 417,
    "deepnote_output_heights": [
     21,
     268
    ]
   },
   "source": "churn_estado.plot.bar()",
   "execution_count": null,
   "outputs": [
    {
     "output_type": "execute_result",
     "execution_count": 30,
     "data": {
      "text/plain": "<AxesSubplot:xlabel='Estado'>"
     },
     "metadata": {}
    },
    {
     "data": {
      "text/plain": "<Figure size 432x288 with 1 Axes>",
      "image/png": "[encoded data removed]"
     },
     "metadata": {
      "needs_background": "light",
      "image/png": {
       "width": 375,
       "height": 266
      }
     },
     "output_type": "display_data"
    }
   ]
  },
  {
   "cell_type": "code",
   "metadata": {
    "cell_id": "726e6d21f94945589676572756c737c5",
    "tags": [],
    "deepnote_to_be_reexecuted": false,
    "source_hash": "12400647",
    "execution_start": 1654726044696,
    "execution_millis": 13,
    "deepnote_cell_type": "code",
    "deepnote_cell_height": 136,
    "deepnote_output_heights": [
     21
    ]
   },
   "source": "import statistics as st\nst.mode(churn['Estado'])",
   "execution_count": null,
   "outputs": [
    {
     "output_type": "execute_result",
     "execution_count": 11,
     "data": {
      "text/plain": "'RS'"
     },
     "metadata": {}
    }
   ]
  },
  {
   "cell_type": "markdown",
   "source": "13 - Você chegou até aqui? Consulte novamente a área de negócios pois eles tem uma informação importante para te passar.\n\n",
   "metadata": {
    "cell_id": "00027-d58cd6e1-aff4-4a2f-b80f-106b648c8646",
    "deepnote_cell_type": "markdown",
    "deepnote_cell_height": 52.399993896484375
   }
  },
  {
   "cell_type": "code",
   "metadata": {
    "cell_id": "00028-7d527bdd-c919-4c11-8a54-8f14468fa056",
    "deepnote_to_be_reexecuted": false,
    "source_hash": "3def720a",
    "execution_start": 1654726322251,
    "execution_millis": 7,
    "deepnote_cell_type": "code",
    "deepnote_cell_height": 81
   },
   "source": "churn['Estado'].replace(['RP','TD','SP'], 'RS', inplace=True)",
   "execution_count": null,
   "outputs": []
  },
  {
   "cell_type": "markdown",
   "source": "14 - Explore a variável *genero* vendo como essa variável está distribuida!",
   "metadata": {
    "cell_id": "00031-6b378b86-9a79-4f88-9169-a4ca847369ff",
    "deepnote_cell_type": "markdown",
    "deepnote_cell_height": 52.399993896484375
   }
  },
  {
   "cell_type": "code",
   "metadata": {
    "cell_id": "00032-171245b3-a4ba-4405-a4ba-0fe372d47de6",
    "deepnote_to_be_reexecuted": false,
    "source_hash": "acae017f",
    "execution_start": 1654728482043,
    "execution_millis": 4,
    "deepnote_cell_type": "code",
    "deepnote_cell_height": 81
   },
   "source": "churn_genero = churn.groupby(['Genero']).size()",
   "execution_count": null,
   "outputs": []
  },
  {
   "cell_type": "code",
   "metadata": {
    "cell_id": "55238c52888b497dae7e7bc05c310f67",
    "tags": [],
    "deepnote_to_be_reexecuted": false,
    "source_hash": "451384e8",
    "execution_start": 1654728484778,
    "execution_millis": 11,
    "deepnote_cell_type": "code",
    "deepnote_cell_height": 176,
    "deepnote_output_heights": [
     79
    ]
   },
   "source": "churn_genero",
   "execution_count": null,
   "outputs": [
    {
     "output_type": "execute_result",
     "execution_count": 74,
     "data": {
      "text/plain": "Genero\nFeminino     464\nMasculino    535\ndtype: int64"
     },
     "metadata": {}
    }
   ]
  },
  {
   "cell_type": "code",
   "metadata": {
    "cell_id": "dc7a61e0d3a9485587e5016ff0802280",
    "tags": [],
    "deepnote_to_be_reexecuted": false,
    "source_hash": "b96ee409",
    "execution_start": 1654726405984,
    "execution_millis": 5,
    "deepnote_cell_type": "code",
    "deepnote_cell_height": 81
   },
   "source": "churn['Genero'].replace(['F','Fem'], 'Feminino', inplace=True)",
   "execution_count": null,
   "outputs": []
  },
  {
   "cell_type": "code",
   "metadata": {
    "cell_id": "cc7a10d68475443791e64047ab7a449e",
    "tags": [],
    "deepnote_to_be_reexecuted": false,
    "source_hash": "5620e654",
    "execution_start": 1654726439912,
    "execution_millis": 3,
    "deepnote_cell_type": "code",
    "deepnote_cell_height": 81
   },
   "source": "churn['Genero'].replace(['M'], 'Masculino', inplace=True)",
   "execution_count": null,
   "outputs": []
  },
  {
   "cell_type": "markdown",
   "source": "15 - Consegue ver a mesma informação graficamente?",
   "metadata": {
    "cell_id": "00033-87794e35-0521-4595-95be-a34f02b5c18f",
    "deepnote_cell_type": "markdown",
    "deepnote_cell_height": 52.399993896484375
   }
  },
  {
   "cell_type": "code",
   "metadata": {
    "cell_id": "00034-53736a16-be11-4ac5-a115-3cd052e808d3",
    "deepnote_to_be_reexecuted": false,
    "source_hash": "6e7c4fee",
    "execution_start": 1654728833449,
    "execution_millis": 133,
    "deepnote_cell_type": "code",
    "deepnote_cell_height": 453,
    "deepnote_output_heights": [
     21,
     304
    ]
   },
   "source": "churn_genero.plot.bar()",
   "execution_count": null,
   "outputs": [
    {
     "output_type": "execute_result",
     "execution_count": 75,
     "data": {
      "text/plain": "<AxesSubplot:xlabel='Genero'>"
     },
     "metadata": {}
    },
    {
     "data": {
      "text/plain": "<Figure size 432x288 with 1 Axes>",
      "image/png": "[encoded data removed]"
     },
     "metadata": {
      "needs_background": "light",
      "image/png": {
       "width": 375,
       "height": 302
      }
     },
     "output_type": "display_data"
    }
   ]
  },
  {
   "cell_type": "markdown",
   "source": "16 - Notou algo estranho? Acho que seu grupo precisa tomar uma decisão em relação a essa variável, o que farão?\nPode consultar a área de negócios se quiser ampliar a discussão!!",
   "metadata": {
    "cell_id": "00035-b7564b0b-6cab-45f6-be1d-2b2e0b42d546",
    "deepnote_cell_type": "markdown",
    "deepnote_cell_height": 74.80000305175781
   }
  },
  {
   "cell_type": "code",
   "metadata": {
    "cell_id": "00036-0c8c73af-2ac1-4562-8aed-66d2f7eb1481",
    "deepnote_to_be_reexecuted": false,
    "source_hash": "8701f162",
    "execution_start": 1654726649057,
    "execution_millis": 16,
    "deepnote_cell_type": "code",
    "deepnote_cell_height": 118,
    "deepnote_output_heights": [
     21
    ]
   },
   "source": "churn['Genero'].isnull().sum()",
   "execution_count": null,
   "outputs": [
    {
     "output_type": "execute_result",
     "execution_count": 41,
     "data": {
      "text/plain": "0"
     },
     "metadata": {}
    }
   ]
  },
  {
   "cell_type": "code",
   "metadata": {
    "cell_id": "3e16b1ba91784b1985120de35ea7c752",
    "tags": [],
    "deepnote_to_be_reexecuted": false,
    "source_hash": "eadb81be",
    "execution_start": 1654726789932,
    "execution_millis": 6,
    "deepnote_cell_type": "code",
    "deepnote_cell_height": 118,
    "deepnote_output_heights": [
     21
    ]
   },
   "source": "churn_genero.shape",
   "execution_count": null,
   "outputs": [
    {
     "output_type": "execute_result",
     "execution_count": 51,
     "data": {
      "text/plain": "(2,)"
     },
     "metadata": {}
    }
   ]
  },
  {
   "cell_type": "code",
   "metadata": {
    "cell_id": "c4ff53f2bb0142b4ba5b34652a950834",
    "tags": [],
    "deepnote_to_be_reexecuted": false,
    "source_hash": "fb9847f8",
    "execution_start": 1654726809410,
    "execution_millis": 7,
    "deepnote_cell_type": "code",
    "deepnote_cell_height": 176,
    "deepnote_output_heights": [
     79
    ]
   },
   "source": "churn_genero.head()",
   "execution_count": null,
   "outputs": [
    {
     "output_type": "execute_result",
     "execution_count": 52,
     "data": {
      "text/plain": "Genero\nFeminino     464\nMasculino    527\ndtype: int64"
     },
     "metadata": {}
    }
   ]
  },
  {
   "cell_type": "markdown",
   "source": "17 - Ainda na variável genero, veja se há dados faltantes:",
   "metadata": {
    "cell_id": "00038-20425acf-b564-4dd1-afcf-51a58636f163",
    "deepnote_cell_type": "markdown",
    "deepnote_cell_height": 52.399993896484375
   }
  },
  {
   "cell_type": "code",
   "metadata": {
    "cell_id": "421773b0bdb948309b10247823f8e15b",
    "tags": [],
    "deepnote_to_be_reexecuted": false,
    "source_hash": "8701f162",
    "execution_start": 1654726734906,
    "execution_millis": 1,
    "deepnote_cell_type": "code",
    "deepnote_cell_height": 118,
    "deepnote_output_heights": [
     21
    ]
   },
   "source": "churn['Genero'].isnull().sum()",
   "execution_count": null,
   "outputs": [
    {
     "output_type": "execute_result",
     "execution_count": 44,
     "data": {
      "text/plain": "0"
     },
     "metadata": {}
    }
   ]
  },
  {
   "cell_type": "code",
   "metadata": {
    "cell_id": "a1557c528834472aa36bf8a241f4acdd",
    "tags": [],
    "deepnote_to_be_reexecuted": false,
    "source_hash": "8701f162",
    "execution_start": 1654726641765,
    "execution_millis": 9,
    "deepnote_cell_type": "code",
    "deepnote_cell_height": 118,
    "deepnote_output_heights": [
     21
    ]
   },
   "source": "",
   "execution_count": null,
   "outputs": [
    {
     "output_type": "execute_result",
     "execution_count": 40,
     "data": {
      "text/plain": "0"
     },
     "metadata": {}
    }
   ]
  },
  {
   "cell_type": "markdown",
   "source": "18 - Decida o que irá fazer com esses dados e faça as alterações no dataset:",
   "metadata": {
    "cell_id": "00040-0047c142-f847-43d9-a5c6-72cf378a6c35",
    "deepnote_cell_type": "markdown",
    "deepnote_cell_height": 52.399993896484375
   }
  },
  {
   "cell_type": "code",
   "metadata": {
    "cell_id": "00041-ffa357c7-8468-4359-b106-1e007a947666",
    "deepnote_to_be_reexecuted": false,
    "source_hash": "3131399e",
    "execution_start": 1654726669361,
    "execution_millis": 4,
    "deepnote_cell_type": "code",
    "deepnote_cell_height": 81
   },
   "source": "churn[\"Genero\"].fillna(st.mode(churn['Genero']), inplace=True)",
   "execution_count": null,
   "outputs": []
  },
  {
   "cell_type": "code",
   "metadata": {
    "cell_id": "00042-c9db8ddf-a48f-4808-b422-d10ce9c4e0d9",
    "deepnote_cell_type": "code",
    "deepnote_cell_height": 66
   },
   "source": "",
   "execution_count": null,
   "outputs": []
  },
  {
   "cell_type": "markdown",
   "source": "19- Vamos agora explorar um pouco as variáveis numéricas! Veja algumas estatísticas da variável(coluna) 'Score':\n\nMaximo, minimo, média etc\n",
   "metadata": {
    "cell_id": "00043-c1f36020-bfb0-4fae-a658-c6ab033092b9",
    "deepnote_cell_type": "markdown",
    "deepnote_cell_height": 88.80000305175781
   }
  },
  {
   "cell_type": "code",
   "metadata": {
    "cell_id": "00044-940d1f50-d592-4271-a3fa-ab52affc41ac",
    "deepnote_to_be_reexecuted": false,
    "source_hash": "143b800e",
    "execution_start": 1654726929205,
    "execution_millis": 9,
    "deepnote_cell_type": "code",
    "deepnote_cell_height": 118,
    "deepnote_output_heights": [
     21
    ]
   },
   "source": "churn['Score'].max()",
   "execution_count": null,
   "outputs": [
    {
     "output_type": "execute_result",
     "execution_count": 57,
     "data": {
      "text/plain": "850"
     },
     "metadata": {}
    }
   ]
  },
  {
   "cell_type": "code",
   "metadata": {
    "cell_id": "f9fa9fe81e3545ab9a6f1f7c5ae665ac",
    "tags": [],
    "deepnote_to_be_reexecuted": false,
    "source_hash": "1f65a4e6",
    "execution_start": 1654726946313,
    "execution_millis": 665,
    "deepnote_cell_type": "code",
    "deepnote_cell_height": 118,
    "deepnote_output_heights": [
     21
    ]
   },
   "source": "churn['Score'].min()",
   "execution_count": null,
   "outputs": [
    {
     "output_type": "execute_result",
     "execution_count": 58,
     "data": {
      "text/plain": "376"
     },
     "metadata": {}
    }
   ]
  },
  {
   "cell_type": "code",
   "metadata": {
    "cell_id": "e5c3842859b84de3bcc2543fc8c811db",
    "tags": [],
    "deepnote_to_be_reexecuted": false,
    "source_hash": "911766d4",
    "execution_start": 1654727045634,
    "execution_millis": 8,
    "deepnote_cell_type": "code",
    "deepnote_cell_height": 118,
    "deepnote_output_heights": [
     21
    ]
   },
   "source": "churn['Score'].mean()",
   "execution_count": null,
   "outputs": [
    {
     "output_type": "execute_result",
     "execution_count": 59,
     "data": {
      "text/plain": "648.6216216216217"
     },
     "metadata": {}
    }
   ]
  },
  {
   "cell_type": "code",
   "metadata": {
    "cell_id": "249b45224b8242d4bd07df11ddb4fb9a",
    "tags": [],
    "deepnote_to_be_reexecuted": false,
    "source_hash": "7720f31c",
    "execution_start": 1654727059503,
    "execution_millis": 16,
    "deepnote_cell_type": "code",
    "deepnote_cell_height": 272,
    "deepnote_output_heights": [
     175
    ]
   },
   "source": "churn['Score'].describe()",
   "execution_count": null,
   "outputs": [
    {
     "output_type": "execute_result",
     "execution_count": 60,
     "data": {
      "text/plain": "count    999.000000\nmean     648.621622\nstd       98.264219\nmin      376.000000\n25%      580.000000\n50%      653.000000\n75%      721.000000\nmax      850.000000\nName: Score, dtype: float64"
     },
     "metadata": {}
    }
   ]
  },
  {
   "cell_type": "markdown",
   "source": "20 - Conseguiria fazer um boxplot desssa variável",
   "metadata": {
    "cell_id": "00045-fcea061d-09d4-41c3-af71-16e099515c79",
    "deepnote_cell_type": "markdown",
    "deepnote_cell_height": 52.399993896484375
   }
  },
  {
   "cell_type": "code",
   "metadata": {
    "cell_id": "0e607784a61e4e618b5a62ae53b6e71b",
    "tags": [],
    "deepnote_to_be_reexecuted": false,
    "source_hash": "62530a62",
    "execution_start": 1654730852467,
    "execution_millis": 213,
    "deepnote_cell_type": "code",
    "deepnote_cell_height": 399,
    "deepnote_output_heights": [
     21,
     250,
     264
    ]
   },
   "source": "churn.boxplot(column='Score')",
   "execution_count": null,
   "outputs": [
    {
     "output_type": "execute_result",
     "execution_count": 85,
     "data": {
      "text/plain": "<AxesSubplot:>"
     },
     "metadata": {}
    },
    {
     "data": {
      "text/plain": "<Figure size 432x288 with 1 Axes>",
      "image/png": "[encoded data removed]"
     },
     "metadata": {
      "needs_background": "light",
      "image/png": {
       "width": 375,
       "height": 248
      }
     },
     "output_type": "display_data"
    }
   ]
  },
  {
   "cell_type": "markdown",
   "source": "Pode consultar a documentação:\n\n- Usando pandas: https://pandas.pydata.org/docs/reference/api/pandas.DataFrame.boxplot.html\n- Usando seaborn: https://seaborn.pydata.org/generated/seaborn.boxplot.html\n",
   "metadata": {
    "cell_id": "00046-567b994e-5f77-4f8d-9741-b19d51e5c0c9",
    "deepnote_cell_type": "markdown",
    "deepnote_cell_height": 128.1999969482422
   }
  },
  {
   "cell_type": "code",
   "metadata": {
    "cell_id": "00047-7e3d17b9-66a1-41a9-bc04-bfa63ceb78b0",
    "deepnote_cell_type": "code",
    "deepnote_cell_height": 66
   },
   "source": "",
   "execution_count": null,
   "outputs": []
  },
  {
   "cell_type": "code",
   "metadata": {
    "cell_id": "00048-5274f2fa-f227-4d47-a4bf-86ede3a4195e",
    "deepnote_cell_type": "code",
    "deepnote_cell_height": 66
   },
   "source": "",
   "execution_count": null,
   "outputs": []
  },
  {
   "cell_type": "code",
   "metadata": {
    "cell_id": "00049-91f207e1-d6d7-47dd-8284-bc4327b8d368",
    "deepnote_cell_type": "code",
    "deepnote_cell_height": 66
   },
   "source": "",
   "execution_count": null,
   "outputs": []
  },
  {
   "cell_type": "markdown",
   "source": "21 - Uma forma de verificar a distribuição de uma variável continua é fazendo um histograma. Você poderia fazer um?",
   "metadata": {
    "cell_id": "00050-67f7f0e7-5053-4f50-8f95-0c9590b1df3b",
    "deepnote_cell_type": "markdown",
    "deepnote_cell_height": 52.399993896484375
   }
  },
  {
   "cell_type": "code",
   "metadata": {
    "cell_id": "00051-417cd105-dabc-4a4a-a8a7-a05339edc154",
    "deepnote_to_be_reexecuted": false,
    "source_hash": "70c32288",
    "execution_start": 1654730926047,
    "execution_millis": 240,
    "deepnote_cell_type": "code",
    "deepnote_cell_height": 415,
    "deepnote_output_heights": [
     21,
     266
    ]
   },
   "source": "churn.hist(column='Score')",
   "execution_count": null,
   "outputs": [
    {
     "output_type": "execute_result",
     "execution_count": 86,
     "data": {
      "text/plain": "array([[<AxesSubplot:title={'center':'Score'}>]], dtype=object)"
     },
     "metadata": {}
    },
    {
     "data": {
      "text/plain": "<Figure size 432x288 with 1 Axes>",
      "image/png": "[encoded data removed]"
     },
     "metadata": {
      "needs_background": "light",
      "image/png": {
       "width": 375,
       "height": 264
      }
     },
     "output_type": "display_data"
    }
   ]
  },
  {
   "cell_type": "markdown",
   "source": "Documentação:\n- https://pandas.pydata.org/docs/reference/api/pandas.DataFrame.hist.html\n- https://seaborn.pydata.org/generated/seaborn.histplot.html",
   "metadata": {
    "cell_id": "00052-12112694-f7f9-4c3f-9df9-8b33125f6c6c",
    "deepnote_cell_type": "markdown",
    "deepnote_cell_height": 128.1999969482422
   }
  },
  {
   "cell_type": "code",
   "metadata": {
    "cell_id": "00053-e70fdc92-b82c-4492-a0b0-8d92a927b726",
    "deepnote_to_be_reexecuted": false,
    "source_hash": "3cb3e70d",
    "execution_start": 1654731010810,
    "execution_millis": 503,
    "deepnote_cell_type": "code",
    "deepnote_cell_height": 413,
    "deepnote_output_heights": [
     21,
     264
    ]
   },
   "source": "sns.histplot(data=churn['Score'])",
   "execution_count": null,
   "outputs": [
    {
     "output_type": "execute_result",
     "execution_count": 87,
     "data": {
      "text/plain": "<AxesSubplot:xlabel='Score', ylabel='Count'>"
     },
     "metadata": {}
    },
    {
     "data": {
      "text/plain": "<Figure size 432x288 with 1 Axes>",
      "image/png": "[encoded data removed]"
     },
     "metadata": {
      "needs_background": "light",
      "image/png": {
       "width": 389,
       "height": 262
      }
     },
     "output_type": "display_data"
    }
   ]
  },
  {
   "cell_type": "code",
   "metadata": {
    "cell_id": "00054-f28d5f41-5ff6-4acd-9a16-1ea7a4822389",
    "deepnote_cell_type": "code",
    "deepnote_cell_height": 66
   },
   "source": "",
   "execution_count": null,
   "outputs": []
  },
  {
   "cell_type": "markdown",
   "source": "22 - Veja algumas estatísticas da variável(coluna) 'Idade':",
   "metadata": {
    "cell_id": "00055-5c6bceed-3a98-48ad-9acd-b2415107364a",
    "deepnote_cell_type": "markdown",
    "deepnote_cell_height": 52.399993896484375
   }
  },
  {
   "cell_type": "code",
   "metadata": {
    "cell_id": "00056-34d6978f-6197-4055-aa67-7cafd58df173",
    "deepnote_to_be_reexecuted": false,
    "source_hash": "3dffd64",
    "execution_start": 1654731092142,
    "execution_millis": 9,
    "deepnote_cell_type": "code",
    "deepnote_cell_height": 272,
    "deepnote_output_heights": [
     175
    ]
   },
   "source": "churn['Idade'].describe()",
   "execution_count": null,
   "outputs": [
    {
     "output_type": "execute_result",
     "execution_count": 88,
     "data": {
      "text/plain": "count    999.000000\nmean      38.902903\nstd       11.401912\nmin      -20.000000\n25%       32.000000\n50%       37.000000\n75%       44.000000\nmax      140.000000\nName: Idade, dtype: float64"
     },
     "metadata": {}
    }
   ]
  },
  {
   "cell_type": "markdown",
   "source": "23 - Notou algo estranho? Discuta com seu grupo!! ",
   "metadata": {
    "cell_id": "00057-0143ac9a-4eb1-4552-8483-16b365bef64a",
    "deepnote_cell_type": "markdown",
    "deepnote_cell_height": 52.399993896484375
   }
  },
  {
   "cell_type": "markdown",
   "source": "24 - Como sugestão faça novamente um boxplot ou um histograma dessa variável.",
   "metadata": {
    "cell_id": "00058-85cbf46b-622f-4275-b003-3d75e71a4bce",
    "deepnote_cell_type": "markdown",
    "deepnote_cell_height": 52.399993896484375
   }
  },
  {
   "cell_type": "code",
   "metadata": {
    "cell_id": "00059-cd63f95a-09be-4c06-a970-832936565cab",
    "deepnote_to_be_reexecuted": false,
    "source_hash": "a4a3db54",
    "execution_start": 1654731890182,
    "execution_millis": 128,
    "deepnote_cell_type": "code",
    "deepnote_cell_height": 399,
    "deepnote_output_heights": [
     21,
     250
    ]
   },
   "source": "churn.boxplot(column='Idade')",
   "execution_count": null,
   "outputs": [
    {
     "output_type": "execute_result",
     "execution_count": 100,
     "data": {
      "text/plain": "<AxesSubplot:>"
     },
     "metadata": {}
    },
    {
     "data": {
      "text/plain": "<Figure size 432x288 with 1 Axes>",
      "image/png": "[encoded data removed]"
     },
     "metadata": {
      "needs_background": "light",
      "image/png": {
       "width": 368,
       "height": 248
      }
     },
     "output_type": "display_data"
    }
   ]
  },
  {
   "cell_type": "code",
   "metadata": {
    "cell_id": "00060-5aae49a0-c4f8-4271-9cfa-04e7d56d827e",
    "deepnote_to_be_reexecuted": false,
    "source_hash": "81e1b382",
    "execution_start": 1654731588410,
    "execution_millis": 261,
    "deepnote_cell_type": "code",
    "deepnote_cell_height": 413,
    "deepnote_output_heights": [
     21,
     264
    ]
   },
   "source": "sns.histplot(data=churn['Idade'])",
   "execution_count": null,
   "outputs": [
    {
     "output_type": "execute_result",
     "execution_count": 97,
     "data": {
      "text/plain": "<AxesSubplot:xlabel='Idade', ylabel='Count'>"
     },
     "metadata": {}
    },
    {
     "data": {
      "text/plain": "<Figure size 432x288 with 1 Axes>",
      "image/png": "[encoded data removed]"
     },
     "metadata": {
      "needs_background": "light",
      "image/png": {
       "width": 389,
       "height": 262
      }
     },
     "output_type": "display_data"
    }
   ]
  },
  {
   "cell_type": "code",
   "metadata": {
    "cell_id": "00061-3ede9ac1-30d7-4bb9-8075-e3e44502bccb",
    "deepnote_to_be_reexecuted": false,
    "source_hash": "584b7472",
    "execution_start": 1654731234385,
    "execution_millis": 9,
    "deepnote_cell_type": "code",
    "deepnote_cell_height": 329,
    "deepnote_output_heights": [
     232
    ]
   },
   "source": "churn['Idade'].value_counts()",
   "execution_count": null,
   "outputs": [
    {
     "output_type": "execute_result",
     "execution_count": 91,
     "data": {
      "text/plain": " 36    59\n 35    56\n 34    47\n 37    44\n 38    44\n       ..\n 73     1\n-10     1\n 18     1\n 20     1\n-20     1\nName: Idade, Length: 64, dtype: int64"
     },
     "metadata": {}
    }
   ]
  },
  {
   "cell_type": "code",
   "metadata": {
    "cell_id": "00062-d71217cc-0cde-497b-95a1-0c3150e0d563",
    "deepnote_to_be_reexecuted": false,
    "source_hash": "e2af6ffa",
    "execution_start": 1654731519902,
    "execution_millis": 17,
    "deepnote_cell_type": "code",
    "deepnote_cell_height": 349,
    "deepnote_output_heights": [
     252
    ]
   },
   "source": "churn.groupby(['Idade']).size()",
   "execution_count": null,
   "outputs": [
    {
     "output_type": "execute_result",
     "execution_count": 95,
     "data": {
      "text/plain": "Idade\n0     5\n18    1\n19    2\n20    1\n21    6\n     ..\n74    1\n75    2\n79    1\n80    1\n82    1\nLength: 61, dtype: int64"
     },
     "metadata": {}
    }
   ]
  },
  {
   "cell_type": "code",
   "metadata": {
    "cell_id": "f979c760b4974bf499ac361847a7979a",
    "tags": [],
    "deepnote_to_be_reexecuted": false,
    "source_hash": "642f6ab1",
    "execution_start": 1654731402877,
    "execution_millis": 8,
    "deepnote_cell_type": "code",
    "deepnote_cell_height": 118,
    "deepnote_output_heights": [
     21
    ]
   },
   "source": "st.mode(churn['Idade'])",
   "execution_count": null,
   "outputs": [
    {
     "output_type": "execute_result",
     "execution_count": 93,
     "data": {
      "text/plain": "36"
     },
     "metadata": {}
    }
   ]
  },
  {
   "cell_type": "code",
   "metadata": {
    "cell_id": "018079c81714441cbdc3d762e8c3560d",
    "tags": [],
    "deepnote_to_be_reexecuted": false,
    "source_hash": "c8fc89f0",
    "execution_start": 1654731514270,
    "execution_millis": 0,
    "deepnote_cell_type": "code",
    "deepnote_cell_height": 81
   },
   "source": "",
   "execution_count": null,
   "outputs": []
  },
  {
   "cell_type": "markdown",
   "source": "25 - Que decisão seu grupo irá tomar em relação a variável idade? Implemente as mudança que vocês dicutiram.",
   "metadata": {
    "cell_id": "00063-6dfeb8e9-407f-4051-952c-65e0af0c66b0",
    "deepnote_cell_type": "markdown",
    "deepnote_cell_height": 52.399993896484375
   }
  },
  {
   "cell_type": "code",
   "metadata": {
    "cell_id": "00064-6e2b3377-5a92-435a-9127-f07b6c43f94d",
    "deepnote_to_be_reexecuted": false,
    "source_hash": "c8fc89f0",
    "execution_start": 1654731573142,
    "execution_millis": 5,
    "deepnote_cell_type": "code",
    "deepnote_cell_height": 81
   },
   "source": "churn['Idade'].replace([-20, -10, 140], 36, inplace=True)",
   "execution_count": null,
   "outputs": []
  },
  {
   "cell_type": "code",
   "metadata": {
    "cell_id": "00065-c3c0ec3e-0183-4ed9-8d27-3af1b34ffa49",
    "deepnote_to_be_reexecuted": false,
    "source_hash": "a0961a25",
    "execution_start": 1654732242002,
    "execution_millis": 77,
    "deepnote_cell_type": "code",
    "deepnote_cell_height": 395
   },
   "source": "churn.head()",
   "execution_count": null,
   "outputs": [
    {
     "output_type": "execute_result",
     "execution_count": 105,
     "data": {
      "application/vnd.deepnote.dataframe.v3+json": {
       "column_count": 12,
       "row_count": 5,
       "columns": [
        {
         "name": "Id",
         "dtype": "int64",
         "stats": {
          "unique_count": 5,
          "nan_count": 0,
          "min": "1",
          "max": "5",
          "histogram": [
           {
            "bin_start": 1,
            "bin_end": 1.4,
            "count": 1
           },
           {
            "bin_start": 1.4,
            "bin_end": 1.8,
            "count": 0
           },
           {
            "bin_start": 1.8,
            "bin_end": 2.2,
            "count": 1
           },
           {
            "bin_start": 2.2,
            "bin_end": 2.6,
            "count": 0
           },
           {
            "bin_start": 2.6,
            "bin_end": 3,
            "count": 0
           },
           {
            "bin_start": 3,
            "bin_end": 3.4000000000000004,
            "count": 1
           },
           {
            "bin_start": 3.4000000000000004,
            "bin_end": 3.8000000000000003,
            "count": 0
           },
           {
            "bin_start": 3.8000000000000003,
            "bin_end": 4.2,
            "count": 1
           },
           {
            "bin_start": 4.2,
            "bin_end": 4.6,
            "count": 0
           },
           {
            "bin_start": 4.6,
            "bin_end": 5,
            "count": 1
           }
          ]
         }
        },
        {
         "name": "Score",
         "dtype": "int64",
         "stats": {
          "unique_count": 5,
          "nan_count": 0,
          "min": "502",
          "max": "850",
          "histogram": [
           {
            "bin_start": 502,
            "bin_end": 536.8,
            "count": 1
           },
           {
            "bin_start": 536.8,
            "bin_end": 571.6,
            "count": 0
           },
           {
            "bin_start": 571.6,
            "bin_end": 606.4,
            "count": 0
           },
           {
            "bin_start": 606.4,
            "bin_end": 641.2,
            "count": 2
           },
           {
            "bin_start": 641.2,
            "bin_end": 676,
            "count": 0
           },
           {
            "bin_start": 676,
            "bin_end": 710.8,
            "count": 1
           },
           {
            "bin_start": 710.8,
            "bin_end": 745.5999999999999,
            "count": 0
           },
           {
            "bin_start": 745.5999999999999,
            "bin_end": 780.4,
            "count": 0
           },
           {
            "bin_start": 780.4,
            "bin_end": 815.2,
            "count": 0
           },
           {
            "bin_start": 815.2,
            "bin_end": 850,
            "count": 1
           }
          ]
         }
        },
        {
         "name": "Estado",
         "dtype": "object",
         "stats": {
          "unique_count": 2,
          "nan_count": 0,
          "categories": [
           {
            "name": "RS",
            "count": 3
           },
           {
            "name": "SC",
            "count": 2
           }
          ]
         }
        },
        {
         "name": "Genero",
         "dtype": "object",
         "stats": {
          "unique_count": 1,
          "nan_count": 0,
          "categories": [
           {
            "name": "Feminino",
            "count": 5
           }
          ]
         }
        },
        {
         "name": "Idade",
         "dtype": "int64",
         "stats": {
          "unique_count": 4,
          "nan_count": 0,
          "min": "39",
          "max": "43",
          "histogram": [
           {
            "bin_start": 39,
            "bin_end": 39.4,
            "count": 1
           },
           {
            "bin_start": 39.4,
            "bin_end": 39.8,
            "count": 0
           },
           {
            "bin_start": 39.8,
            "bin_end": 40.2,
            "count": 0
           },
           {
            "bin_start": 40.2,
            "bin_end": 40.6,
            "count": 0
           },
           {
            "bin_start": 40.6,
            "bin_end": 41,
            "count": 0
           },
           {
            "bin_start": 41,
            "bin_end": 41.4,
            "count": 1
           },
           {
            "bin_start": 41.4,
            "bin_end": 41.8,
            "count": 0
           },
           {
            "bin_start": 41.8,
            "bin_end": 42.2,
            "count": 2
           },
           {
            "bin_start": 42.2,
            "bin_end": 42.6,
            "count": 0
           },
           {
            "bin_start": 42.6,
            "bin_end": 43,
            "count": 1
           }
          ]
         }
        },
        {
         "name": "Patrimonio",
         "dtype": "int64",
         "stats": {
          "unique_count": 3,
          "nan_count": 0,
          "min": "1",
          "max": "8",
          "histogram": [
           {
            "bin_start": 1,
            "bin_end": 1.7,
            "count": 2
           },
           {
            "bin_start": 1.7,
            "bin_end": 2.4,
            "count": 2
           },
           {
            "bin_start": 2.4,
            "bin_end": 3.0999999999999996,
            "count": 0
           },
           {
            "bin_start": 3.0999999999999996,
            "bin_end": 3.8,
            "count": 0
           },
           {
            "bin_start": 3.8,
            "bin_end": 4.5,
            "count": 0
           },
           {
            "bin_start": 4.5,
            "bin_end": 5.199999999999999,
            "count": 0
           },
           {
            "bin_start": 5.199999999999999,
            "bin_end": 5.8999999999999995,
            "count": 0
           },
           {
            "bin_start": 5.8999999999999995,
            "bin_end": 6.6,
            "count": 0
           },
           {
            "bin_start": 6.6,
            "bin_end": 7.3,
            "count": 0
           },
           {
            "bin_start": 7.3,
            "bin_end": 8,
            "count": 1
           }
          ]
         }
        },
        {
         "name": "Saldo",
         "dtype": "int64",
         "stats": {
          "unique_count": 4,
          "nan_count": 0,
          "min": "0",
          "max": "12551082",
          "histogram": [
           {
            "bin_start": 0,
            "bin_end": 1255108.2,
            "count": 2
           },
           {
            "bin_start": 1255108.2,
            "bin_end": 2510216.4,
            "count": 1
           },
           {
            "bin_start": 2510216.4,
            "bin_end": 3765324.5999999996,
            "count": 0
           },
           {
            "bin_start": 3765324.5999999996,
            "bin_end": 5020432.8,
            "count": 0
           },
           {
            "bin_start": 5020432.8,
            "bin_end": 6275541,
            "count": 0
           },
           {
            "bin_start": 6275541,
            "bin_end": 7530649.199999999,
            "count": 0
           },
           {
            "bin_start": 7530649.199999999,
            "bin_end": 8785757.4,
            "count": 1
           },
           {
            "bin_start": 8785757.4,
            "bin_end": 10040865.6,
            "count": 0
           },
           {
            "bin_start": 10040865.6,
            "bin_end": 11295973.799999999,
            "count": 0
           },
           {
            "bin_start": 11295973.799999999,
            "bin_end": 12551082,
            "count": 1
           }
          ]
         }
        },
        {
         "name": "Produtos",
         "dtype": "int64",
         "stats": {
          "unique_count": 3,
          "nan_count": 0,
          "min": "1",
          "max": "3",
          "histogram": [
           {
            "bin_start": 1,
            "bin_end": 1.2,
            "count": 3
           },
           {
            "bin_start": 1.2,
            "bin_end": 1.4,
            "count": 0
           },
           {
            "bin_start": 1.4,
            "bin_end": 1.6,
            "count": 0
           },
           {
            "bin_start": 1.6,
            "bin_end": 1.8,
            "count": 0
           },
           {
            "bin_start": 1.8,
            "bin_end": 2,
            "count": 0
           },
           {
            "bin_start": 2,
            "bin_end": 2.2,
            "count": 1
           },
           {
            "bin_start": 2.2,
            "bin_end": 2.4000000000000004,
            "count": 0
           },
           {
            "bin_start": 2.4000000000000004,
            "bin_end": 2.6,
            "count": 0
           },
           {
            "bin_start": 2.6,
            "bin_end": 2.8,
            "count": 0
           },
           {
            "bin_start": 2.8,
            "bin_end": 3,
            "count": 1
           }
          ]
         }
        },
        {
         "name": "TemCartCredito",
         "dtype": "int64",
         "stats": {
          "unique_count": 2,
          "nan_count": 0,
          "min": "0",
          "max": "1",
          "histogram": [
           {
            "bin_start": 0,
            "bin_end": 0.1,
            "count": 2
           },
           {
            "bin_start": 0.1,
            "bin_end": 0.2,
            "count": 0
           },
           {
            "bin_start": 0.2,
            "bin_end": 0.30000000000000004,
            "count": 0
           },
           {
            "bin_start": 0.30000000000000004,
            "bin_end": 0.4,
            "count": 0
           },
           {
            "bin_start": 0.4,
            "bin_end": 0.5,
            "count": 0
           },
           {
            "bin_start": 0.5,
            "bin_end": 0.6000000000000001,
            "count": 0
           },
           {
            "bin_start": 0.6000000000000001,
            "bin_end": 0.7000000000000001,
            "count": 0
           },
           {
            "bin_start": 0.7000000000000001,
            "bin_end": 0.8,
            "count": 0
           },
           {
            "bin_start": 0.8,
            "bin_end": 0.9,
            "count": 0
           },
           {
            "bin_start": 0.9,
            "bin_end": 1,
            "count": 3
           }
          ]
         }
        },
        {
         "name": "Ativo",
         "dtype": "int64",
         "stats": {
          "unique_count": 2,
          "nan_count": 0,
          "min": "0",
          "max": "1",
          "histogram": [
           {
            "bin_start": 0,
            "bin_end": 0.1,
            "count": 2
           },
           {
            "bin_start": 0.1,
            "bin_end": 0.2,
            "count": 0
           },
           {
            "bin_start": 0.2,
            "bin_end": 0.30000000000000004,
            "count": 0
           },
           {
            "bin_start": 0.30000000000000004,
            "bin_end": 0.4,
            "count": 0
           },
           {
            "bin_start": 0.4,
            "bin_end": 0.5,
            "count": 0
           },
           {
            "bin_start": 0.5,
            "bin_end": 0.6000000000000001,
            "count": 0
           },
           {
            "bin_start": 0.6000000000000001,
            "bin_end": 0.7000000000000001,
            "count": 0
           },
           {
            "bin_start": 0.7000000000000001,
            "bin_end": 0.8,
            "count": 0
           },
           {
            "bin_start": 0.8,
            "bin_end": 0.9,
            "count": 0
           },
           {
            "bin_start": 0.9,
            "bin_end": 1,
            "count": 3
           }
          ]
         }
        },
        {
         "name": "Salario",
         "dtype": "float64",
         "stats": {
          "unique_count": 5,
          "nan_count": 0,
          "min": "790841.0",
          "max": "11393157.0",
          "histogram": [
           {
            "bin_start": 790841,
            "bin_end": 1851072.6,
            "count": 1
           },
           {
            "bin_start": 1851072.6,
            "bin_end": 2911304.2,
            "count": 0
           },
           {
            "bin_start": 2911304.2,
            "bin_end": 3971535.8000000003,
            "count": 0
           },
           {
            "bin_start": 3971535.8000000003,
            "bin_end": 5031767.4,
            "count": 0
           },
           {
            "bin_start": 5031767.4,
            "bin_end": 6091999,
            "count": 0
           },
           {
            "bin_start": 6091999,
            "bin_end": 7152230.600000001,
            "count": 0
           },
           {
            "bin_start": 7152230.600000001,
            "bin_end": 8212462.200000001,
            "count": 0
           },
           {
            "bin_start": 8212462.200000001,
            "bin_end": 9272693.8,
            "count": 0
           },
           {
            "bin_start": 9272693.8,
            "bin_end": 10332925.4,
            "count": 2
           },
           {
            "bin_start": 10332925.4,
            "bin_end": 11393157,
            "count": 2
           }
          ]
         }
        },
        {
         "name": "Saiu",
         "dtype": "int64",
         "stats": {
          "unique_count": 2,
          "nan_count": 0,
          "min": "0",
          "max": "1",
          "histogram": [
           {
            "bin_start": 0,
            "bin_end": 0.1,
            "count": 3
           },
           {
            "bin_start": 0.1,
            "bin_end": 0.2,
            "count": 0
           },
           {
            "bin_start": 0.2,
            "bin_end": 0.30000000000000004,
            "count": 0
           },
           {
            "bin_start": 0.30000000000000004,
            "bin_end": 0.4,
            "count": 0
           },
           {
            "bin_start": 0.4,
            "bin_end": 0.5,
            "count": 0
           },
           {
            "bin_start": 0.5,
            "bin_end": 0.6000000000000001,
            "count": 0
           },
           {
            "bin_start": 0.6000000000000001,
            "bin_end": 0.7000000000000001,
            "count": 0
           },
           {
            "bin_start": 0.7000000000000001,
            "bin_end": 0.8,
            "count": 0
           },
           {
            "bin_start": 0.8,
            "bin_end": 0.9,
            "count": 0
           },
           {
            "bin_start": 0.9,
            "bin_end": 1,
            "count": 2
           }
          ]
         }
        },
        {
         "name": "_deepnote_index_column",
         "dtype": "int64"
        }
       ],
       "rows": [
        {
         "Id": 1,
         "Score": 619,
         "Estado": "RS",
         "Genero": "Feminino",
         "Idade": 42,
         "Patrimonio": 2,
         "Saldo": 0,
         "Produtos": 1,
         "TemCartCredito": 1,
         "Ativo": 1,
         "Salario": 10134888,
         "Saiu": 1,
         "_deepnote_index_column": 0
        },
        {
         "Id": 2,
         "Score": 608,
         "Estado": "SC",
         "Genero": "Feminino",
         "Idade": 41,
         "Patrimonio": 1,
         "Saldo": 8380786,
         "Produtos": 1,
         "TemCartCredito": 0,
         "Ativo": 1,
         "Salario": 11254258,
         "Saiu": 0,
         "_deepnote_index_column": 1
        },
        {
         "Id": 3,
         "Score": 502,
         "Estado": "RS",
         "Genero": "Feminino",
         "Idade": 42,
         "Patrimonio": 8,
         "Saldo": 1596608,
         "Produtos": 3,
         "TemCartCredito": 1,
         "Ativo": 0,
         "Salario": 11393157,
         "Saiu": 1,
         "_deepnote_index_column": 2
        },
        {
         "Id": 4,
         "Score": 699,
         "Estado": "RS",
         "Genero": "Feminino",
         "Idade": 39,
         "Patrimonio": 1,
         "Saldo": 0,
         "Produtos": 2,
         "TemCartCredito": 0,
         "Ativo": 0,
         "Salario": 9382663,
         "Saiu": 0,
         "_deepnote_index_column": 3
        },
        {
         "Id": 5,
         "Score": 850,
         "Estado": "SC",
         "Genero": "Feminino",
         "Idade": 43,
         "Patrimonio": 2,
         "Saldo": 12551082,
         "Produtos": 1,
         "TemCartCredito": 1,
         "Ativo": 1,
         "Salario": 790841,
         "Saiu": 0,
         "_deepnote_index_column": 4
        }
       ]
      },
      "text/plain": "   Id  Score Estado    Genero  Idade  Patrimonio     Saldo  Produtos  \\\n0   1    619     RS  Feminino     42           2         0         1   \n1   2    608     SC  Feminino     41           1   8380786         1   \n2   3    502     RS  Feminino     42           8   1596608         3   \n3   4    699     RS  Feminino     39           1         0         2   \n4   5    850     SC  Feminino     43           2  12551082         1   \n\n   TemCartCredito  Ativo     Salario  Saiu  \n0               1      1  10134888.0     1  \n1               0      1  11254258.0     0  \n2               1      0  11393157.0     1  \n3               0      0   9382663.0     0  \n4               1      1    790841.0     0  ",
      "text/html": "<div>\n<style scoped>\n    .dataframe tbody tr th:only-of-type {\n        vertical-align: middle;\n    }\n\n    .dataframe tbody tr th {\n        vertical-align: top;\n    }\n\n    .dataframe thead th {\n        text-align: right;\n    }\n</style>\n<table border=\"1\" class=\"dataframe\">\n  <thead>\n    <tr style=\"text-align: right;\">\n      <th></th>\n      <th>Id</th>\n      <th>Score</th>\n      <th>Estado</th>\n      <th>Genero</th>\n      <th>Idade</th>\n      <th>Patrimonio</th>\n      <th>Saldo</th>\n      <th>Produtos</th>\n      <th>TemCartCredito</th>\n      <th>Ativo</th>\n      <th>Salario</th>\n      <th>Saiu</th>\n    </tr>\n  </thead>\n  <tbody>\n    <tr>\n      <th>0</th>\n      <td>1</td>\n      <td>619</td>\n      <td>RS</td>\n      <td>Feminino</td>\n      <td>42</td>\n      <td>2</td>\n      <td>0</td>\n      <td>1</td>\n      <td>1</td>\n      <td>1</td>\n      <td>10134888.0</td>\n      <td>1</td>\n    </tr>\n    <tr>\n      <th>1</th>\n      <td>2</td>\n      <td>608</td>\n      <td>SC</td>\n      <td>Feminino</td>\n      <td>41</td>\n      <td>1</td>\n      <td>8380786</td>\n      <td>1</td>\n      <td>0</td>\n      <td>1</td>\n      <td>11254258.0</td>\n      <td>0</td>\n    </tr>\n    <tr>\n      <th>2</th>\n      <td>3</td>\n      <td>502</td>\n      <td>RS</td>\n      <td>Feminino</td>\n      <td>42</td>\n      <td>8</td>\n      <td>1596608</td>\n      <td>3</td>\n      <td>1</td>\n      <td>0</td>\n      <td>11393157.0</td>\n      <td>1</td>\n    </tr>\n    <tr>\n      <th>3</th>\n      <td>4</td>\n      <td>699</td>\n      <td>RS</td>\n      <td>Feminino</td>\n      <td>39</td>\n      <td>1</td>\n      <td>0</td>\n      <td>2</td>\n      <td>0</td>\n      <td>0</td>\n      <td>9382663.0</td>\n      <td>0</td>\n    </tr>\n    <tr>\n      <th>4</th>\n      <td>5</td>\n      <td>850</td>\n      <td>SC</td>\n      <td>Feminino</td>\n      <td>43</td>\n      <td>2</td>\n      <td>12551082</td>\n      <td>1</td>\n      <td>1</td>\n      <td>1</td>\n      <td>790841.0</td>\n      <td>0</td>\n    </tr>\n  </tbody>\n</table>\n</div>"
     },
     "metadata": {}
    }
   ]
  },
  {
   "cell_type": "code",
   "metadata": {
    "cell_id": "00066-cb0e4bea-97ab-4e62-a7ed-888b91cf4d02",
    "deepnote_cell_type": "code",
    "deepnote_cell_height": 66
   },
   "source": "",
   "execution_count": null,
   "outputs": []
  },
  {
   "cell_type": "code",
   "metadata": {
    "cell_id": "00067-14317aef-73cb-4187-830c-21f5b6742840",
    "deepnote_cell_type": "code",
    "deepnote_cell_height": 66
   },
   "source": "",
   "execution_count": null,
   "outputs": []
  },
  {
   "cell_type": "markdown",
   "source": "26 - Verifique a variável saldo, ou seja exiba algumas estatísticas",
   "metadata": {
    "cell_id": "00068-01540891-f5cd-45d4-b41d-dabf25be5270",
    "deepnote_cell_type": "markdown",
    "deepnote_cell_height": 52.399993896484375
   }
  },
  {
   "cell_type": "code",
   "metadata": {
    "cell_id": "00069-d21a07c9-3d81-4fab-b18d-dd761f955208",
    "deepnote_to_be_reexecuted": false,
    "source_hash": "5c28c3ce",
    "execution_start": 1654731635380,
    "execution_millis": 10,
    "deepnote_cell_type": "code",
    "deepnote_cell_height": 272,
    "deepnote_output_heights": [
     175
    ]
   },
   "source": "churn['Saldo'].describe()",
   "execution_count": null,
   "outputs": [
    {
     "output_type": "execute_result",
     "execution_count": 99,
     "data": {
      "text/plain": "count    9.990000e+02\nmean     7.164928e+06\nstd      6.311840e+06\nmin      0.000000e+00\n25%      0.000000e+00\n50%      8.958835e+06\n75%      1.258684e+07\nmax      2.117743e+07\nName: Saldo, dtype: float64"
     },
     "metadata": {}
    }
   ]
  },
  {
   "cell_type": "markdown",
   "source": "27 - Faça um boxplot da variável saldo",
   "metadata": {
    "cell_id": "00070-da64f715-a9f0-412b-89f7-33d5357daca8",
    "deepnote_cell_type": "markdown",
    "deepnote_cell_height": 52.399993896484375
   }
  },
  {
   "cell_type": "code",
   "metadata": {
    "cell_id": "00071-a5b120ad-6348-4cfc-a685-41e782547ecf",
    "deepnote_to_be_reexecuted": false,
    "source_hash": "44378006",
    "execution_start": 1654732109383,
    "execution_millis": 158,
    "deepnote_cell_type": "code",
    "deepnote_cell_height": 410,
    "deepnote_output_heights": [
     21,
     261
    ]
   },
   "source": "sns.boxplot(data=churn['Saldo'])",
   "execution_count": null,
   "outputs": [
    {
     "output_type": "execute_result",
     "execution_count": 104,
     "data": {
      "text/plain": "<AxesSubplot:>"
     },
     "metadata": {}
    },
    {
     "data": {
      "text/plain": "<Figure size 432x288 with 1 Axes>",
      "image/png": "[encoded data removed]"
     },
     "metadata": {
      "needs_background": "light",
      "image/png": {
       "width": 372,
       "height": 259
      }
     },
     "output_type": "display_data"
    }
   ]
  },
  {
   "cell_type": "code",
   "metadata": {
    "cell_id": "00072-61cdb80d-1494-4381-bc65-afb98e0ce1f7",
    "deepnote_to_be_reexecuted": false,
    "source_hash": "db4fd2c8",
    "execution_start": 1654732758924,
    "execution_millis": 145,
    "deepnote_cell_type": "code",
    "deepnote_cell_height": 410,
    "deepnote_output_heights": [
     21,
     261
    ]
   },
   "source": "churn.boxplot(column='Saldo')",
   "execution_count": null,
   "outputs": [
    {
     "output_type": "execute_result",
     "execution_count": 107,
     "data": {
      "text/plain": "<AxesSubplot:>"
     },
     "metadata": {}
    },
    {
     "data": {
      "text/plain": "<Figure size 432x288 with 1 Axes>",
      "image/png": "[encoded data removed]"
     },
     "metadata": {
      "needs_background": "light",
      "image/png": {
       "width": 372,
       "height": 259
      }
     },
     "output_type": "display_data"
    }
   ]
  },
  {
   "cell_type": "code",
   "metadata": {
    "cell_id": "00073-7dc664c3-15b4-4d46-9bfa-b58ad3e51632",
    "deepnote_cell_type": "code",
    "deepnote_cell_height": 66
   },
   "source": "",
   "execution_count": null,
   "outputs": []
  },
  {
   "cell_type": "markdown",
   "source": "28 - Examine a variável salário fazendo algumas estatísticas",
   "metadata": {
    "cell_id": "00074-5ebff097-9983-4fc2-94c4-f12337f145e4",
    "deepnote_cell_type": "markdown",
    "deepnote_cell_height": 52.399993896484375
   }
  },
  {
   "cell_type": "code",
   "metadata": {
    "cell_id": "00075-1258bace-a962-4146-8deb-44a7e52bd4b8",
    "deepnote_to_be_reexecuted": false,
    "source_hash": "7b852181",
    "execution_start": 1654732810893,
    "execution_millis": 6,
    "deepnote_cell_type": "code",
    "deepnote_cell_height": 329,
    "deepnote_output_heights": [
     232
    ]
   },
   "source": "churn['Salario'].value_counts()",
   "execution_count": null,
   "outputs": [
    {
     "output_type": "execute_result",
     "execution_count": 108,
     "data": {
      "text/plain": "10000.0       5\n17141366.0    2\n1640616.0     1\n11051028.0    1\n19863734.0    1\n             ..\n14670022.0    1\n14130053.0    1\n10499128.0    1\n16884023.0    1\n5909339.0     1\nName: Salario, Length: 987, dtype: int64"
     },
     "metadata": {}
    }
   ]
  },
  {
   "cell_type": "code",
   "metadata": {
    "cell_id": "74aaa5689aef4653bb42b4238abf1bea",
    "tags": [],
    "deepnote_to_be_reexecuted": false,
    "source_hash": "7687f5b8",
    "execution_start": 1654733365984,
    "execution_millis": 207,
    "deepnote_cell_type": "code",
    "deepnote_cell_height": 272,
    "deepnote_output_heights": [
     175
    ]
   },
   "source": "churn['Salario'].describe()",
   "execution_count": null,
   "outputs": [
    {
     "output_type": "execute_result",
     "execution_count": 117,
     "data": {
      "text/plain": "count    9.920000e+02\nmean     3.528762e+07\nstd      5.305800e+08\nmin      9.677000e+03\n25%      3.029011e+06\n50%      8.703250e+06\n75%      1.405213e+07\nmax      1.193469e+10\nName: Salario, dtype: float64"
     },
     "metadata": {}
    }
   ]
  },
  {
   "cell_type": "markdown",
   "source": "29 -  Não deu para ver muita coisa, não é? Use agora o poder da visualização! Faça um boxplot!",
   "metadata": {
    "cell_id": "00076-c6eb6c37-3e33-411c-aeeb-9ed1e35c0128",
    "deepnote_cell_type": "markdown",
    "deepnote_cell_height": 52.399993896484375
   }
  },
  {
   "cell_type": "code",
   "metadata": {
    "cell_id": "00077-aaf6f558-1e17-4029-a3fb-bdc06d034c80",
    "deepnote_to_be_reexecuted": false,
    "source_hash": "40f78661",
    "execution_start": 1654732989980,
    "execution_millis": 176,
    "deepnote_cell_type": "code",
    "deepnote_cell_height": 410,
    "deepnote_output_heights": [
     21,
     261
    ]
   },
   "source": "sns.boxplot(data=churn['Salario'])",
   "execution_count": null,
   "outputs": [
    {
     "output_type": "execute_result",
     "execution_count": 110,
     "data": {
      "text/plain": "<AxesSubplot:>"
     },
     "metadata": {}
    },
    {
     "data": {
      "text/plain": "<Figure size 432x288 with 1 Axes>",
      "image/png": "[encoded data removed]"
     },
     "metadata": {
      "needs_background": "light",
      "image/png": {
       "width": 372,
       "height": 259
      }
     },
     "output_type": "display_data"
    }
   ]
  },
  {
   "cell_type": "code",
   "metadata": {
    "cell_id": "00078-a1e54693-88dd-4fdf-a8bb-42aa183c6c9b",
    "deepnote_to_be_reexecuted": false,
    "source_hash": "90906c38",
    "execution_start": 1654733127755,
    "execution_millis": 179,
    "deepnote_cell_type": "code",
    "deepnote_cell_height": 410,
    "deepnote_output_heights": [
     21,
     261
    ]
   },
   "source": "churn.boxplot(column='Salario')",
   "execution_count": null,
   "outputs": [
    {
     "output_type": "execute_result",
     "execution_count": 114,
     "data": {
      "text/plain": "<AxesSubplot:>"
     },
     "metadata": {}
    },
    {
     "data": {
      "text/plain": "<Figure size 432x288 with 1 Axes>",
      "image/png": "[encoded data removed]"
     },
     "metadata": {
      "needs_background": "light",
      "image/png": {
       "width": 372,
       "height": 259
      }
     },
     "output_type": "display_data"
    }
   ]
  },
  {
   "cell_type": "markdown",
   "source": "30 - O que você acha que aconteceu? Por quê não aparece o boxplot! Tente um histograma!!",
   "metadata": {
    "cell_id": "00079-d5257a78-817a-4b68-9441-d738eab82b7b",
    "deepnote_cell_type": "markdown",
    "deepnote_cell_height": 52.399993896484375
   }
  },
  {
   "cell_type": "code",
   "metadata": {
    "cell_id": "00080-ccb38ffc-0907-4764-ad90-47a75b8b3bc5",
    "deepnote_to_be_reexecuted": false,
    "source_hash": "d6aa7bae",
    "execution_start": 1654733045606,
    "execution_millis": 14613,
    "deepnote_cell_type": "code",
    "deepnote_cell_height": 413,
    "deepnote_output_heights": [
     21,
     264
    ]
   },
   "source": "sns.histplot(data=churn['Salario'])",
   "execution_count": null,
   "outputs": [
    {
     "output_type": "execute_result",
     "execution_count": 112,
     "data": {
      "text/plain": "<AxesSubplot:xlabel='Salario', ylabel='Count'>"
     },
     "metadata": {}
    },
    {
     "data": {
      "text/plain": "<Figure size 432x288 with 1 Axes>",
      "image/png": "[encoded data removed]"
     },
     "metadata": {
      "needs_background": "light",
      "image/png": {
       "width": 389,
       "height": 262
      }
     },
     "output_type": "display_data"
    }
   ]
  },
  {
   "cell_type": "code",
   "metadata": {
    "cell_id": "324757d749f94bd68229735cbb7a358a",
    "tags": [],
    "deepnote_to_be_reexecuted": false,
    "source_hash": "6173c9b7",
    "execution_start": 1654733083935,
    "execution_millis": 218,
    "deepnote_cell_type": "code",
    "deepnote_cell_height": 428,
    "deepnote_output_heights": [
     21,
     279
    ]
   },
   "source": "churn.hist(column='Salario')",
   "execution_count": null,
   "outputs": [
    {
     "output_type": "execute_result",
     "execution_count": 113,
     "data": {
      "text/plain": "array([[<AxesSubplot:title={'center':'Salario'}>]], dtype=object)"
     },
     "metadata": {}
    },
    {
     "data": {
      "text/plain": "<Figure size 432x288 with 1 Axes>",
      "image/png": "[encoded data removed]"
     },
     "metadata": {
      "needs_background": "light",
      "image/png": {
       "width": 381,
       "height": 277
      }
     },
     "output_type": "display_data"
    }
   ]
  },
  {
   "cell_type": "markdown",
   "source": "31 - Discuta com o grupo! Consulte a área de negócio! Os dados estão corretos?",
   "metadata": {
    "cell_id": "00081-14b7e914-ce3d-4440-a111-a0a459fae3bb",
    "deepnote_cell_type": "markdown",
    "deepnote_cell_height": 52.399993896484375
   }
  },
  {
   "cell_type": "code",
   "metadata": {
    "cell_id": "00082-b7ee10fa-a018-4d3a-af8d-75ca268904dc",
    "deepnote_cell_type": "code",
    "deepnote_cell_height": 120
   },
   "source": "#Supondo que são outliers! O que é isso:\n##Os outliers são dados que se diferenciam drasticamente de todos os outros.\n#Em outras palavras, um outlier é um valor que foge da normalidade e que pode (e provavelmente irá)\n#causar anomalias nos resultados obtidos por meio de algoritmos e sistemas de análise.",
   "execution_count": null,
   "outputs": []
  },
  {
   "cell_type": "markdown",
   "source": "32 - A área de negocio informou que o valor salario não pode passar  de R$1061159976.6. E agora, como resolver! Discuta com o grupo!",
   "metadata": {
    "cell_id": "00083-9e15b055-f8f7-46f6-86b9-014a7869f7d6",
    "deepnote_cell_type": "markdown",
    "deepnote_cell_height": 52.399993896484375
   }
  },
  {
   "cell_type": "code",
   "metadata": {
    "cell_id": "00084-25e21d63-15d7-4458-8eef-4adb18fa2e5a",
    "deepnote_to_be_reexecuted": false,
    "source_hash": "9d51b023",
    "execution_start": 1654734015549,
    "execution_millis": 5,
    "deepnote_cell_type": "code",
    "deepnote_cell_height": 118,
    "deepnote_output_heights": [
     21
    ]
   },
   "source": "churn['Salario'].max()",
   "execution_count": null,
   "outputs": [
    {
     "output_type": "execute_result",
     "execution_count": 128,
     "data": {
      "text/plain": "1061159976.6"
     },
     "metadata": {}
    }
   ]
  },
  {
   "cell_type": "code",
   "metadata": {
    "cell_id": "00085-4b93fb83-4c69-4849-b1cf-23f7d7e31d76",
    "deepnote_to_be_reexecuted": false,
    "source_hash": "6af2805",
    "execution_start": 1654734028315,
    "execution_millis": 1,
    "deepnote_cell_type": "code",
    "deepnote_cell_height": 118,
    "deepnote_output_heights": [
     21
    ]
   },
   "source": "churn['Salario'].min()",
   "execution_count": null,
   "outputs": [
    {
     "output_type": "execute_result",
     "execution_count": 129,
     "data": {
      "text/plain": "9677.0"
     },
     "metadata": {}
    }
   ]
  },
  {
   "cell_type": "code",
   "metadata": {
    "cell_id": "00086-20df0035-5c64-4365-9831-372d096163ac",
    "deepnote_to_be_reexecuted": false,
    "source_hash": "3cd73510",
    "execution_start": 1654734032650,
    "execution_millis": 7,
    "deepnote_cell_type": "code",
    "deepnote_cell_height": 118,
    "deepnote_output_heights": [
     21
    ]
   },
   "source": "st.mode(churn['Salario'])",
   "execution_count": null,
   "outputs": [
    {
     "output_type": "execute_result",
     "execution_count": 130,
     "data": {
      "text/plain": "10000.0"
     },
     "metadata": {}
    }
   ]
  },
  {
   "cell_type": "code",
   "metadata": {
    "cell_id": "00087-b8693afb-21c3-4727-abb3-912e8d9430f7",
    "deepnote_to_be_reexecuted": false,
    "source_hash": "3d765c48",
    "execution_start": 1654734010007,
    "execution_millis": 10,
    "deepnote_cell_type": "code",
    "deepnote_cell_height": 81
   },
   "source": "churn.loc[churn.Salario > 1061159976.6, 'Salario'] = 1061159976.6",
   "execution_count": null,
   "outputs": []
  },
  {
   "cell_type": "markdown",
   "source": "33 - Agora veja se o dataset tem algum valor nulo!",
   "metadata": {
    "cell_id": "00088-a223d4a8-5691-43ca-a7c8-d50616eed907",
    "deepnote_cell_type": "markdown",
    "deepnote_cell_height": 52.399993896484375
   }
  },
  {
   "cell_type": "code",
   "metadata": {
    "cell_id": "00089-156b2dbd-1747-4e8a-ae70-4ffc205d09b0",
    "deepnote_to_be_reexecuted": false,
    "source_hash": "54f736dc",
    "execution_start": 1654734356555,
    "execution_millis": 44,
    "deepnote_cell_type": "code",
    "deepnote_cell_height": 349,
    "deepnote_output_heights": [
     252
    ]
   },
   "source": "churn.isnull().sum()",
   "execution_count": null,
   "outputs": [
    {
     "output_type": "execute_result",
     "execution_count": 133,
     "data": {
      "text/plain": "Id                0\nScore             0\nEstado            0\nGenero            0\nIdade             0\nPatrimonio        0\nSaldo             0\nProdutos          0\nTemCartCredito    0\nAtivo             0\nSalario           0\nSaiu              0\ndtype: int64"
     },
     "metadata": {}
    }
   ]
  },
  {
   "cell_type": "markdown",
   "source": "34 - Há alguns nulos na variável salário. Discuta com o grupo o que fazer!!",
   "metadata": {
    "cell_id": "00090-f82c4bb3-e0db-4f3b-939c-ee76a84f709f",
    "deepnote_cell_type": "markdown",
    "deepnote_cell_height": 52.399993896484375
   }
  },
  {
   "cell_type": "code",
   "metadata": {
    "cell_id": "00091-daff082d-0b68-4a8f-b9da-9b5b5628a11f",
    "deepnote_to_be_reexecuted": false,
    "source_hash": "3b7e219e",
    "execution_start": 1654734352909,
    "execution_millis": 4,
    "owner_user_id": "f3b685db-82a0-4f74-9158-9e3d6de2c3bf",
    "deepnote_cell_type": "code",
    "deepnote_cell_height": 81
   },
   "source": "churn[\"Salario\"].fillna(st.mode(churn['Salario']), inplace=True)",
   "execution_count": null,
   "outputs": []
  },
  {
   "cell_type": "code",
   "metadata": {
    "cell_id": "00092-2afb3a04-2410-4136-9bf2-b023855b7e7f",
    "deepnote_to_be_reexecuted": false,
    "source_hash": "7687f5b8",
    "execution_start": 1654734392913,
    "execution_millis": 11,
    "deepnote_cell_type": "code",
    "deepnote_cell_height": 272,
    "deepnote_output_heights": [
     175
    ]
   },
   "source": "churn['Salario'].describe()",
   "execution_count": null,
   "outputs": [
    {
     "output_type": "execute_result",
     "execution_count": 134,
     "data": {
      "text/plain": "count    9.990000e+02\nmean     1.300453e+07\nstd      6.676726e+07\nmin      9.677000e+03\n25%      2.856485e+06\n50%      8.641028e+06\n75%      1.402954e+07\nmax      1.061160e+09\nName: Salario, dtype: float64"
     },
     "metadata": {}
    }
   ]
  },
  {
   "cell_type": "markdown",
   "source": "35 -Parabéns por ter chegado até aqui!!",
   "metadata": {
    "cell_id": "00093-e15fe453-eba4-4679-8e28-e397b7e29fea",
    "deepnote_cell_type": "markdown",
    "deepnote_cell_height": 52.399993896484375
   }
  },
  {
   "cell_type": "code",
   "metadata": {
    "cell_id": "00094-8e75ae4b-ad3a-461a-bfe3-43ace1e09b6c",
    "deepnote_cell_type": "code",
    "deepnote_cell_height": 66
   },
   "source": "UHUL",
   "execution_count": null,
   "outputs": []
  },
  {
   "cell_type": "markdown",
   "source": "<a style='text-decoration:none;line-height:16px;display:flex;color:#5B5B62;padding:10px;justify-content:end;' href='https://deepnote.com?utm_source=created-in-deepnote-cell&projectId=31152f18-3036-40d1-92d9-59f0bbdc0756' target=\"_blank\">\n<img alt='Created in deepnote.com' style='display:inline;max-height:16px;margin:0px;margin-right:7.5px;' src='data:image/svg+xml;base64,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' > </img>\nCreated in <span style='font-weight:600;margin-left:4px;'>Deepnote</span></a>",
   "metadata": {
    "tags": [],
    "created_in_deepnote_cell": true,
    "deepnote_cell_type": "markdown"
   }
  }
 ],
 "nbformat": 4,
 "nbformat_minor": 4,
 "metadata": {
  "hide_input": false,
  "kernelspec": {
   "display_name": "Python 3 (ipykernel)",
   "language": "python",
   "name": "python3"
  },
  "language_info": {
   "codemirror_mode": {
    "name": "ipython",
    "version": 3
   },
   "file_extension": ".py",
   "mimetype": "text/x-python",
   "name": "python",
   "nbconvert_exporter": "python",
   "pygments_lexer": "ipython3",
   "version": "3.9.7"
  },
  "deepnote_notebook_id": "1a89f637-d897-43cc-9ea3-a64f961548c7",
  "deepnote": {},
  "deepnote_execution_queue": []
 }
}