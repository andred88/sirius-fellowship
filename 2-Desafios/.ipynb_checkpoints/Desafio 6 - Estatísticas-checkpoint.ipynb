{
 "cells": [
  {
   "cell_type": "markdown",
   "id": "7e4f5ae4",
   "metadata": {},
   "source": [
    "<div>\n",
    "    <p style=\"float: right;\"><img src=\"https://media.swipepages.com/2021/2/sirius-logo-principal-tag-1-300.png\" height=\"80px\"border=\"1px\"></p>\n",
    "    \n",
    "</div>\n",
    "<h1>Nano Desafio 6 </h1>\n",
    "<h2>Pandas - estatísticas </h2>\n",
    "\n",
    "Aluno: \n",
    "\n",
    "Data:"
   ]
  },
  {
   "cell_type": "markdown",
   "id": "48c084d7",
   "metadata": {},
   "source": [
    "##### Introdução"
   ]
  },
  {
   "cell_type": "markdown",
   "id": "025060d1",
   "metadata": {},
   "source": [
    "Já conhecemos o pandas e um pouco do seu poder para analisar dados! Agora vamos fazer alguns calculos estatísticos usando essa ferramenta já no ritmo de despedida e também como uma  prévia do que esta por vir. Afinal você está crescendo e sua jornada de Introdução ao Python está chegando ao fim!!! \n",
    "\n",
    "A Estatística já está batendo a porta e dando boas vindas!!"
   ]
  },
  {
   "cell_type": "markdown",
   "id": "92351feb",
   "metadata": {},
   "source": [
    "##### Estatísticas\n",
    "Estatísticas resumo, para que servem? Adivinhe? - elas \"resumem\" muitos números!!!. Por exemplo, média, mediana, mínimo, máximo e desvio padrão são estatísticas resumidas. O cálculo de estatísticas resumidas permitem que você tenha uma noção melhor de seus dados, mesmo que você tenha milhares ou milhões!!"
   ]
  },
  {
   "cell_type": "markdown",
   "id": "564c22c9",
   "metadata": {},
   "source": [
    "##### O conjunto de dados\n",
    "A Walt Disney Studios já produziu mais de 600 filmes desde seu filme de estreia, Branca de Neve e os Sete Anões, em 1937. Vamos, explorar um conjunto de dados de filmes da Disney !! Esses dados foram compilados por <a href=\"https://data.world/kgarrett/disney-character-success-00-16\">Kelly Garrett</a>. Os dados contêm 579 filmes da Disney com seis características: título do filme, data de lançamento, gênero, classificação MPAA, bilheteria bruta  e bilheteria ajustada pela inflação. </p>"
   ]
  },
  {
   "cell_type": "markdown",
   "id": "af2ea7e4",
   "metadata": {},
   "source": []
  },
  {
   "cell_type": "markdown",
   "id": "51f2b192",
   "metadata": {},
   "source": [
    "1 -Importe o  dataset disney_movies_total_gross.csv e salvar com o nome dados."
   ]
  },
  {
   "cell_type": "code",
   "execution_count": 1,
   "id": "2750f558",
   "metadata": {},
   "outputs": [
    {
     "ename": "ModuleNotFoundError",
     "evalue": "No module named 'pandas'",
     "output_type": "error",
     "traceback": [
      "\u001b[0;31m---------------------------------------------------------------------------\u001b[0m",
      "\u001b[0;31mModuleNotFoundError\u001b[0m                       Traceback (most recent call last)",
      "Input \u001b[0;32mIn [1]\u001b[0m, in \u001b[0;36m<cell line: 1>\u001b[0;34m()\u001b[0m\n\u001b[0;32m----> 1\u001b[0m \u001b[38;5;28;01mimport\u001b[39;00m \u001b[38;5;21;01mpandas\u001b[39;00m \u001b[38;5;28;01mas\u001b[39;00m \u001b[38;5;21;01mpd\u001b[39;00m\n\u001b[1;32m      2\u001b[0m \u001b[38;5;66;03m# Leia o arquivo \u001b[39;00m\n\u001b[1;32m      3\u001b[0m dados \u001b[38;5;241m=\u001b[39m pd\u001b[38;5;241m.\u001b[39mread_csv(\u001b[38;5;124m'\u001b[39m\u001b[38;5;124mdisney_movies_total_gross.csv\u001b[39m\u001b[38;5;124m'\u001b[39m, parse_dates \u001b[38;5;241m=\u001b[39m[\u001b[38;5;124m'\u001b[39m\u001b[38;5;124mrelease_date\u001b[39m\u001b[38;5;124m'\u001b[39m])\n",
      "\u001b[0;31mModuleNotFoundError\u001b[0m: No module named 'pandas'"
     ]
    }
   ],
   "source": [
    "import pandas as pd\n",
    "# Leia o arquivo \n",
    "dados = pd.read_csv('disney_movies_total_gross.csv', parse_dates =['release_date'])"
   ]
  },
  {
   "cell_type": "markdown",
   "id": "97272379",
   "metadata": {},
   "source": []
  },
  {
   "cell_type": "code",
   "execution_count": null,
   "id": "748b642e",
   "metadata": {},
   "outputs": [],
   "source": []
  },
  {
   "cell_type": "markdown",
   "id": "b230e93c",
   "metadata": {},
   "source": [
    "2 -  Imprima as primeiras linhas desse dataset"
   ]
  },
  {
   "cell_type": "code",
   "execution_count": null,
   "id": "59ce51cc",
   "metadata": {},
   "outputs": [],
   "source": []
  },
  {
   "cell_type": "markdown",
   "id": "eab3247c",
   "metadata": {},
   "source": [
    "Obs.: Motion Picture Association of America (MPAA) - é uma associação que tem por objetivo original garantir a viabilidade da indústria cinematográfica norte-americana. Além disso, a MPA estabeleceu diretrizes para o conteúdo de filmes que resultaram na criação do Código de Produção em 1930. \n",
    "Por exemplo, a classificação de filmes segundo essa associação é:"
   ]
  },
  {
   "cell_type": "markdown",
   "id": "b8ad1e28",
   "metadata": {},
   "source": [
    "![wikipedia](mpaa_rating.png)\n",
    "\n",
    "fonte:https://pt.wikipedia.org/wiki/Motion_Picture_Association"
   ]
  },
  {
   "cell_type": "markdown",
   "id": "d52ae9ee",
   "metadata": {},
   "source": [
    "Agora, antes de mais nada vamos renomear as colunas para ficar mais fácil o entendimento?"
   ]
  },
  {
   "cell_type": "markdown",
   "id": "e5e4a2f6",
   "metadata": {},
   "source": [
    "['tit_do_filme','dt_lancamento','genero','classificacao_mpaa','bilheteria_bruta','bilheteria_ajustada_inflacao']"
   ]
  },
  {
   "cell_type": "markdown",
   "id": "17fce58e",
   "metadata": {},
   "source": [
    "3 - Veja o dataset agora:"
   ]
  },
  {
   "cell_type": "code",
   "execution_count": null,
   "id": "4c510b9c",
   "metadata": {},
   "outputs": [],
   "source": []
  },
  {
   "cell_type": "markdown",
   "id": "39ddad3f",
   "metadata": {},
   "source": []
  },
  {
   "cell_type": "markdown",
   "id": "dbcc6abc",
   "metadata": {},
   "source": [
    "4 -Imprima informações básicas sobre o DataFrame"
   ]
  },
  {
   "cell_type": "code",
   "execution_count": null,
   "id": "2947b71b",
   "metadata": {},
   "outputs": [],
   "source": []
  },
  {
   "cell_type": "markdown",
   "id": "99cf10a8",
   "metadata": {},
   "source": [
    "5 - Calcule a média da bilheteria ajustada"
   ]
  },
  {
   "cell_type": "code",
   "execution_count": null,
   "id": "911d11c6",
   "metadata": {},
   "outputs": [],
   "source": []
  },
  {
   "cell_type": "markdown",
   "id": "80f0ce0c",
   "metadata": {},
   "source": [
    "6 - Calcule a mediana da bilheterias ajustada"
   ]
  },
  {
   "cell_type": "code",
   "execution_count": null,
   "id": "bdf6342f",
   "metadata": {},
   "outputs": [],
   "source": []
  },
  {
   "cell_type": "markdown",
   "id": "1ddca842",
   "metadata": {},
   "source": [
    "7 - Encontre as datas máximas e minimas de lançamentos de filmes nesse dataset"
   ]
  },
  {
   "cell_type": "code",
   "execution_count": null,
   "id": "951ebec7",
   "metadata": {},
   "outputs": [],
   "source": []
  },
  {
   "cell_type": "markdown",
   "id": "c2c74ae8",
   "metadata": {},
   "source": [
    "8 - Qual filme tem maior bilheteria_ajustada_inflacao ?"
   ]
  },
  {
   "cell_type": "code",
   "execution_count": null,
   "id": "840584dd",
   "metadata": {},
   "outputs": [],
   "source": []
  },
  {
   "cell_type": "markdown",
   "id": "e60ba8ea",
   "metadata": {},
   "source": []
  },
  {
   "cell_type": "code",
   "execution_count": null,
   "id": "d90a31bc",
   "metadata": {},
   "outputs": [],
   "source": []
  },
  {
   "cell_type": "markdown",
   "id": "4eb6a2c1",
   "metadata": {},
   "source": [
    "9 - Ordene os dados por dt_lancamento e chame de data_ordenada"
   ]
  },
  {
   "cell_type": "code",
   "execution_count": null,
   "id": "9c8ae3bf",
   "metadata": {},
   "outputs": [],
   "source": []
  },
  {
   "cell_type": "markdown",
   "id": "83cdf73f",
   "metadata": {},
   "source": [
    "10- Obtenha a soma cumulativa da bilheteria_ajustada_inflacao,adicione ao dataset com o nome de bilheteria_milionaria"
   ]
  },
  {
   "cell_type": "code",
   "execution_count": null,
   "id": "689b7837",
   "metadata": {},
   "outputs": [],
   "source": []
  },
  {
   "cell_type": "markdown",
   "id": "e0c7ffc8",
   "metadata": {},
   "source": [
    "11 - Veja a coluna que você criou"
   ]
  },
  {
   "cell_type": "code",
   "execution_count": null,
   "id": "533171d5",
   "metadata": {},
   "outputs": [],
   "source": []
  },
  {
   "cell_type": "markdown",
   "id": "875fb027",
   "metadata": {},
   "source": [
    "12 - Selecione os filmes de aventura e atribua a uma variável chamada filmes_aventura"
   ]
  },
  {
   "cell_type": "code",
   "execution_count": null,
   "id": "38bbaae5",
   "metadata": {},
   "outputs": [],
   "source": []
  },
  {
   "cell_type": "markdown",
   "id": "8816a9c3",
   "metadata": {},
   "source": [
    "13 - Veja as primeiras linha desse novo dataset:"
   ]
  },
  {
   "cell_type": "code",
   "execution_count": null,
   "id": "719759d1",
   "metadata": {},
   "outputs": [],
   "source": []
  },
  {
   "cell_type": "markdown",
   "id": "58b724d2",
   "metadata": {},
   "source": [
    "14 - Conte o número de filmes por genero e ordene"
   ]
  },
  {
   "cell_type": "code",
   "execution_count": null,
   "id": "9f35f2dd",
   "metadata": {},
   "outputs": [],
   "source": []
  },
  {
   "cell_type": "markdown",
   "id": "5acb96d9",
   "metadata": {},
   "source": [
    "15 - Calcule agora a proporção de filmes por genero e ordene"
   ]
  },
  {
   "cell_type": "code",
   "execution_count": null,
   "id": "934f5164",
   "metadata": {},
   "outputs": [],
   "source": []
  },
  {
   "cell_type": "markdown",
   "id": "c0e64ed2",
   "metadata": {},
   "source": [
    "Estatísticas resumidas agrupadas"
   ]
  },
  {
   "cell_type": "markdown",
   "id": "8ce11db4",
   "metadata": {},
   "source": [
    "16 - Calcule o total da \"bilheteria_bruta\""
   ]
  },
  {
   "cell_type": "code",
   "execution_count": null,
   "id": "55dbb07e",
   "metadata": {},
   "outputs": [],
   "source": []
  },
  {
   "cell_type": "markdown",
   "id": "a35facfb",
   "metadata": {},
   "source": [
    "17 - Visualize os tipos de generos que tem nesse dataset:"
   ]
  },
  {
   "cell_type": "code",
   "execution_count": null,
   "id": "1a6152ca",
   "metadata": {},
   "outputs": [],
   "source": []
  },
  {
   "cell_type": "markdown",
   "id": "47955f3b",
   "metadata": {},
   "source": [
    "18 - Calcule o total da bilheteria_bruta pelo genero 'Drama'"
   ]
  },
  {
   "cell_type": "code",
   "execution_count": null,
   "id": "504703e4",
   "metadata": {},
   "outputs": [],
   "source": []
  },
  {
   "cell_type": "markdown",
   "id": "2671365c",
   "metadata": {},
   "source": [
    "19 - Calcule o total da bilheteria_bruta pelo genero Comedia 'Comedy'"
   ]
  },
  {
   "cell_type": "code",
   "execution_count": null,
   "id": "b06d5fcd",
   "metadata": {},
   "outputs": [],
   "source": []
  },
  {
   "cell_type": "markdown",
   "id": "f3073292",
   "metadata": {},
   "source": [
    "20 - Calcule o total da bilheteria_bruta pelo genero Ação 'Action'"
   ]
  },
  {
   "cell_type": "code",
   "execution_count": null,
   "id": "fc908d7a",
   "metadata": {},
   "outputs": [],
   "source": []
  },
  {
   "cell_type": "markdown",
   "id": "13fd0acf",
   "metadata": {},
   "source": [
    "21 -  Obtenha proporção do bilheteria_bruta para os três generos acima."
   ]
  },
  {
   "cell_type": "code",
   "execution_count": null,
   "id": "408343b4",
   "metadata": {},
   "outputs": [],
   "source": []
  },
  {
   "cell_type": "markdown",
   "id": "def6832b",
   "metadata": {},
   "source": [
    "22 - Importe numpy com o alias np"
   ]
  },
  {
   "cell_type": "code",
   "execution_count": null,
   "id": "55f563e8",
   "metadata": {},
   "outputs": [],
   "source": []
  },
  {
   "cell_type": "markdown",
   "id": "70537d5b",
   "metadata": {},
   "source": [
    "23 - Para cada genero de filme, agregue a bilheteria_bruta obtendo min, max, média e mediana e imprima o resultado\n",
    "\n",
    "Dica: use numpy para as estatísticas"
   ]
  },
  {
   "cell_type": "code",
   "execution_count": null,
   "id": "fe3088e8",
   "metadata": {},
   "outputs": [],
   "source": []
  },
  {
   "cell_type": "markdown",
   "id": "3fdc9959",
   "metadata": {},
   "source": [
    "24 - Para cada genero de filme, agregue bilheteria_bruta e bilheteria_ajustada_inflacao: obtenha o minimo, maximo, média e mediana"
   ]
  },
  {
   "cell_type": "code",
   "execution_count": null,
   "id": "1fb8b150",
   "metadata": {},
   "outputs": [],
   "source": []
  },
  {
   "cell_type": "markdown",
   "id": "fbebf915",
   "metadata": {},
   "source": [
    "Está na hora de fazermos um pouco de gráficos. Não existe análise de dados sem visualização!!"
   ]
  },
  {
   "cell_type": "code",
   "execution_count": null,
   "id": "e5c18af4",
   "metadata": {},
   "outputs": [],
   "source": []
  },
  {
   "cell_type": "markdown",
   "id": "cc1f85d1",
   "metadata": {},
   "source": []
  },
  {
   "cell_type": "code",
   "execution_count": 44,
   "id": "31d99f5a",
   "metadata": {},
   "outputs": [],
   "source": [
    "import seaborn as sns\n"
   ]
  },
  {
   "cell_type": "markdown",
   "id": "0bdd6de2",
   "metadata": {},
   "source": [
    "25 - Some a bilheteria_bruta por genero"
   ]
  },
  {
   "cell_type": "code",
   "execution_count": null,
   "id": "49d0c034",
   "metadata": {},
   "outputs": [],
   "source": [
    "\n"
   ]
  },
  {
   "cell_type": "markdown",
   "id": "ce14137d",
   "metadata": {},
   "source": [
    "26 - Agora sim faça um gráfico de barras com o resultado anterior!"
   ]
  },
  {
   "cell_type": "code",
   "execution_count": null,
   "id": "d07655f7",
   "metadata": {},
   "outputs": [],
   "source": [
    "\n"
   ]
  },
  {
   "cell_type": "markdown",
   "id": "f4db205c",
   "metadata": {},
   "source": [
    "27 - Importe o seaborn com o apelido sns "
   ]
  },
  {
   "cell_type": "code",
   "execution_count": 41,
   "id": "c9bf4215",
   "metadata": {},
   "outputs": [],
   "source": [
    "import seaborn as sns\n",
    "sns.set()"
   ]
  },
  {
   "cell_type": "markdown",
   "id": "2bda7f9f",
   "metadata": {},
   "source": [
    "28 -Faça um boxplot comparando a bilheteria_ajustada_inflacao dos filmes de ação e comédia\n"
   ]
  },
  {
   "cell_type": "code",
   "execution_count": null,
   "id": "05cb1c96",
   "metadata": {},
   "outputs": [],
   "source": []
  },
  {
   "cell_type": "code",
   "execution_count": null,
   "id": "61e1f626",
   "metadata": {},
   "outputs": [],
   "source": []
  },
  {
   "cell_type": "code",
   "execution_count": null,
   "id": "c420ae3d",
   "metadata": {},
   "outputs": [],
   "source": []
  }
 ],
 "metadata": {
  "hide_input": false,
  "kernelspec": {
   "display_name": "Python 3 (ipykernel)",
   "language": "python",
   "name": "python3"
  },
  "language_info": {
   "codemirror_mode": {
    "name": "ipython",
    "version": 3
   },
   "file_extension": ".py",
   "mimetype": "text/x-python",
   "name": "python",
   "nbconvert_exporter": "python",
   "pygments_lexer": "ipython3",
   "version": "3.10.4"
  }
 },
 "nbformat": 4,
 "nbformat_minor": 5
}
