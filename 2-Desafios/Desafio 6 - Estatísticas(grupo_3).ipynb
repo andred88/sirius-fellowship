{
 "cells": [
  {
   "cell_type": "markdown",
   "id": "956b9578",
   "metadata": {
    "cell_id": "2940711a-c401-4342-8602-c29c6e026645",
    "deepnote_cell_height": 196.3000030517578,
    "deepnote_cell_type": "markdown"
   },
   "source": [
    "<div>\n",
    "    <p style=\"float: right;\"><img src=\"https://media.swipepages.com/2021/2/sirius-logo-principal-tag-1-300.png\" height=\"80px\"border=\"1px\"></p>\n",
    "    \n",
    "</div>\n",
    "<h1>Nano Desafio 6 </h1>\n",
    "<h2>Pandas - estatísticas </h2>\n",
    "\n",
    "Aluno: André Luiz Deitos\n",
    "\n",
    "Data: 09/06/2022"
   ]
  },
  {
   "cell_type": "markdown",
   "id": "e72cc8cd",
   "metadata": {
    "cell_id": "00001-7fc13c08-9277-4f6a-94ca-64896983a51d",
    "deepnote_cell_height": 53.5,
    "deepnote_cell_type": "markdown"
   },
   "source": [
    "##### Introdução"
   ]
  },
  {
   "cell_type": "markdown",
   "id": "2740d0fd",
   "metadata": {
    "cell_id": "00002-d21d614e-90ee-4f2a-ae7d-f7ad22cf2304",
    "deepnote_cell_height": 133.10000610351562,
    "deepnote_cell_type": "markdown"
   },
   "source": [
    "Já conhecemos o pandas e um pouco do seu poder para analisar dados! Agora vamos fazer alguns calculos estatísticos usando essa ferramenta já no ritmo de despedida e também como uma  prévia do que esta por vir. Afinal você está crescendo e sua jornada de Introdução ao Python está chegando ao fim!!! \n",
    "\n",
    "A Estatística já está batendo a porta e dando boas vindas!!"
   ]
  },
  {
   "cell_type": "markdown",
   "id": "9f89ec30",
   "metadata": {
    "cell_id": "00003-a8eb83d6-cc94-4554-91e7-7acf334427ce",
    "deepnote_cell_height": 132.6999969482422,
    "deepnote_cell_type": "markdown"
   },
   "source": [
    "##### Estatísticas\n",
    "Estatísticas resumo, para que servem? Adivinhe? - elas \"resumem\" muitos números!!!. Por exemplo, média, mediana, mínimo, máximo e desvio padrão são estatísticas resumidas. O cálculo de estatísticas resumidas permitem que você tenha uma noção melhor de seus dados, mesmo que você tenha milhares ou milhões!!"
   ]
  },
  {
   "cell_type": "markdown",
   "id": "c947d695",
   "metadata": {
    "cell_id": "00004-a6ed1a93-29bb-4ea6-b06c-c529024fefb2",
    "deepnote_cell_height": 146.6999969482422,
    "deepnote_cell_type": "markdown"
   },
   "source": [
    "##### O conjunto de dados\n",
    "A Walt Disney Studios já produziu mais de 600 filmes desde seu filme de estreia, Branca de Neve e os Sete Anões, em 1937. Vamos, explorar um conjunto de dados de filmes da Disney !! Esses dados foram compilados por <a href=\"https://data.world/kgarrett/disney-character-success-00-16\">Kelly Garrett</a>. Os dados contêm 579 filmes da Disney com seis características: título do filme, data de lançamento, gênero, classificação MPAA, bilheteria bruta  e bilheteria ajustada pela inflação. </p>"
   ]
  },
  {
   "cell_type": "markdown",
   "id": "d2d8d758",
   "metadata": {
    "cell_id": "00005-0e74eb57-4acc-4d26-968c-e6b44463f407",
    "deepnote_cell_height": 45.5,
    "deepnote_cell_type": "markdown"
   },
   "source": []
  },
  {
   "cell_type": "markdown",
   "id": "34dfdda4",
   "metadata": {
    "cell_id": "00006-ce35232f-755b-4b05-b9a2-04b482a31ae2",
    "deepnote_cell_height": 51.899993896484375,
    "deepnote_cell_type": "markdown"
   },
   "source": [
    "1 -Importe o  dataset disney_movies_total_gross.csv e salvar com o nome dados."
   ]
  },
  {
   "cell_type": "code",
   "execution_count": 5,
   "id": "052c3c56",
   "metadata": {
    "cell_id": "00007-b15e9672-92d3-41bf-986c-2a7d0f99197c",
    "deepnote_cell_height": 116.5,
    "deepnote_cell_type": "code",
    "deepnote_to_be_reexecuted": false,
    "execution_millis": 16,
    "execution_start": 1654815800981,
    "source_hash": "b052780a"
   },
   "outputs": [],
   "source": [
    "import pandas as pd\n",
    "# Leia o arquivo \n",
    "dados = pd.read_csv('disney_movies_total_gross.csv', parse_dates =['release_date'])"
   ]
  },
  {
   "cell_type": "markdown",
   "id": "c860411d",
   "metadata": {
    "cell_id": "00008-557f4c9e-fec8-4a06-ba15-61df72fdef0a",
    "deepnote_cell_height": 45.5,
    "deepnote_cell_type": "markdown"
   },
   "source": []
  },
  {
   "cell_type": "code",
   "execution_count": null,
   "id": "6deb3abd",
   "metadata": {
    "cell_id": "00009-69378889-4ca2-40c0-905f-230e9d7b3f23",
    "deepnote_cell_height": 65.5,
    "deepnote_cell_type": "code"
   },
   "outputs": [],
   "source": []
  },
  {
   "cell_type": "markdown",
   "id": "65083b81",
   "metadata": {
    "cell_id": "00010-b81f0fd7-b505-4392-aba2-eeef9f512527",
    "deepnote_cell_height": 51.899993896484375,
    "deepnote_cell_type": "markdown"
   },
   "source": [
    "2 -  Imprima as primeiras linhas desse dataset"
   ]
  },
  {
   "cell_type": "code",
   "execution_count": 3,
   "id": "feea550a",
   "metadata": {
    "cell_id": "00011-7ebcb4f0-c81d-4819-9539-3763b39bc6b6",
    "deepnote_cell_height": 394,
    "deepnote_cell_type": "code",
    "deepnote_to_be_reexecuted": false,
    "execution_millis": 60,
    "execution_start": 1654815826858,
    "source_hash": "1db5586b"
   },
   "outputs": [
    {
     "data": {
      "text/html": [
       "<div>\n",
       "<style scoped>\n",
       "    .dataframe tbody tr th:only-of-type {\n",
       "        vertical-align: middle;\n",
       "    }\n",
       "\n",
       "    .dataframe tbody tr th {\n",
       "        vertical-align: top;\n",
       "    }\n",
       "\n",
       "    .dataframe thead th {\n",
       "        text-align: right;\n",
       "    }\n",
       "</style>\n",
       "<table border=\"1\" class=\"dataframe\">\n",
       "  <thead>\n",
       "    <tr style=\"text-align: right;\">\n",
       "      <th></th>\n",
       "      <th>movie_title</th>\n",
       "      <th>release_date</th>\n",
       "      <th>genre</th>\n",
       "      <th>mpaa_rating</th>\n",
       "      <th>total_gross</th>\n",
       "      <th>inflation_adjusted_gross</th>\n",
       "    </tr>\n",
       "  </thead>\n",
       "  <tbody>\n",
       "    <tr>\n",
       "      <th>0</th>\n",
       "      <td>Snow White and the Seven Dwarfs</td>\n",
       "      <td>1937-12-21</td>\n",
       "      <td>Musical</td>\n",
       "      <td>G</td>\n",
       "      <td>184925485</td>\n",
       "      <td>5228953251</td>\n",
       "    </tr>\n",
       "    <tr>\n",
       "      <th>1</th>\n",
       "      <td>Pinocchio</td>\n",
       "      <td>1940-02-09</td>\n",
       "      <td>Adventure</td>\n",
       "      <td>G</td>\n",
       "      <td>84300000</td>\n",
       "      <td>2188229052</td>\n",
       "    </tr>\n",
       "    <tr>\n",
       "      <th>2</th>\n",
       "      <td>Fantasia</td>\n",
       "      <td>1940-11-13</td>\n",
       "      <td>Musical</td>\n",
       "      <td>G</td>\n",
       "      <td>83320000</td>\n",
       "      <td>2187090808</td>\n",
       "    </tr>\n",
       "    <tr>\n",
       "      <th>3</th>\n",
       "      <td>Song of the South</td>\n",
       "      <td>1946-11-12</td>\n",
       "      <td>Adventure</td>\n",
       "      <td>G</td>\n",
       "      <td>65000000</td>\n",
       "      <td>1078510579</td>\n",
       "    </tr>\n",
       "    <tr>\n",
       "      <th>4</th>\n",
       "      <td>Cinderella</td>\n",
       "      <td>1950-02-15</td>\n",
       "      <td>Drama</td>\n",
       "      <td>G</td>\n",
       "      <td>85000000</td>\n",
       "      <td>920608730</td>\n",
       "    </tr>\n",
       "  </tbody>\n",
       "</table>\n",
       "</div>"
      ],
      "text/plain": [
       "                       movie_title release_date      genre mpaa_rating  \\\n",
       "0  Snow White and the Seven Dwarfs   1937-12-21    Musical           G   \n",
       "1                        Pinocchio   1940-02-09  Adventure           G   \n",
       "2                         Fantasia   1940-11-13    Musical           G   \n",
       "3                Song of the South   1946-11-12  Adventure           G   \n",
       "4                       Cinderella   1950-02-15      Drama           G   \n",
       "\n",
       "   total_gross  inflation_adjusted_gross  \n",
       "0    184925485                5228953251  \n",
       "1     84300000                2188229052  \n",
       "2     83320000                2187090808  \n",
       "3     65000000                1078510579  \n",
       "4     85000000                 920608730  "
      ]
     },
     "execution_count": 3,
     "metadata": {},
     "output_type": "execute_result"
    }
   ],
   "source": [
    "dados.head()"
   ]
  },
  {
   "cell_type": "markdown",
   "id": "bc089ff7",
   "metadata": {
    "cell_id": "00012-cd579f4f-ec2a-41a2-a3c1-a7c885b26358",
    "deepnote_cell_height": 96.69999694824219,
    "deepnote_cell_type": "markdown"
   },
   "source": [
    "Obs.: Motion Picture Association of America (MPAA) - é uma associação que tem por objetivo original garantir a viabilidade da indústria cinematográfica norte-americana. Além disso, a MPA estabeleceu diretrizes para o conteúdo de filmes que resultaram na criação do Código de Produção em 1930. \n",
    "Por exemplo, a classificação de filmes segundo essa associação é:"
   ]
  },
  {
   "cell_type": "markdown",
   "id": "8f28d1da",
   "metadata": {
    "cell_id": "00013-40c40a81-6fe4-49ed-aa94-6f1a46ff9fc9",
    "deepnote_cell_height": 114.30000305175781,
    "deepnote_cell_type": "markdown"
   },
   "source": [
    "![wikipedia](mpaa_rating.png)\n",
    "\n",
    "fonte:https://pt.wikipedia.org/wiki/Motion_Picture_Association"
   ]
  },
  {
   "cell_type": "markdown",
   "id": "3078ccf0",
   "metadata": {
    "cell_id": "00014-f0dcd0f8-eb06-41ad-a17d-ac3d0c08980f",
    "deepnote_cell_height": 51.899993896484375,
    "deepnote_cell_type": "markdown"
   },
   "source": [
    "Agora, antes de mais nada vamos renomear as colunas para ficar mais fácil o entendimento?"
   ]
  },
  {
   "cell_type": "markdown",
   "id": "9bfa536e",
   "metadata": {
    "cell_id": "00015-18f2e5e1-ae33-4dcd-b825-012985456f54",
    "deepnote_cell_height": 51.899993896484375,
    "deepnote_cell_type": "markdown"
   },
   "source": [
    "['tit_do_filme','dt_lancamento','genero','classificacao_mpaa','bilheteria_bruta','bilheteria_ajustada_inflacao']"
   ]
  },
  {
   "cell_type": "code",
   "execution_count": 6,
   "id": "cb7fdf7f",
   "metadata": {
    "cell_id": "312d66e738e84eeeadcf370d0e5dbcba",
    "deepnote_cell_height": 80.5,
    "deepnote_cell_type": "code",
    "deepnote_to_be_reexecuted": false,
    "execution_millis": 0,
    "execution_start": 1654815872033,
    "source_hash": "43172182",
    "tags": []
   },
   "outputs": [],
   "source": [
    "dados.columns = ['tit_do_filme','dt_lancamento','genero','classificacao_mpaa','bilheteria_bruta','bilheteria_ajustada_inflacao']"
   ]
  },
  {
   "cell_type": "markdown",
   "id": "9fdbc17f",
   "metadata": {
    "cell_id": "00016-eaa10a41-92c6-4fc2-a8d8-3edd27eaa920",
    "deepnote_cell_height": 51.899993896484375,
    "deepnote_cell_type": "markdown"
   },
   "source": [
    "3 - Veja o dataset agora:"
   ]
  },
  {
   "cell_type": "code",
   "execution_count": 10,
   "id": "1d1b7b78",
   "metadata": {
    "cell_id": "00017-e509e2b6-358d-4228-badc-857144a70dc0",
    "deepnote_cell_height": 394,
    "deepnote_cell_type": "code",
    "deepnote_to_be_reexecuted": false,
    "execution_millis": 157,
    "execution_start": 1654815878628,
    "source_hash": "1db5586b"
   },
   "outputs": [
    {
     "data": {
      "text/html": [
       "<div>\n",
       "<style scoped>\n",
       "    .dataframe tbody tr th:only-of-type {\n",
       "        vertical-align: middle;\n",
       "    }\n",
       "\n",
       "    .dataframe tbody tr th {\n",
       "        vertical-align: top;\n",
       "    }\n",
       "\n",
       "    .dataframe thead th {\n",
       "        text-align: right;\n",
       "    }\n",
       "</style>\n",
       "<table border=\"1\" class=\"dataframe\">\n",
       "  <thead>\n",
       "    <tr style=\"text-align: right;\">\n",
       "      <th></th>\n",
       "      <th>tit_do_filme</th>\n",
       "      <th>dt_lancamento</th>\n",
       "      <th>genero</th>\n",
       "      <th>classificacao_mpaa</th>\n",
       "      <th>bilheteria_bruta</th>\n",
       "      <th>bilheteria_ajustada_inflacao</th>\n",
       "    </tr>\n",
       "  </thead>\n",
       "  <tbody>\n",
       "    <tr>\n",
       "      <th>0</th>\n",
       "      <td>Snow White and the Seven Dwarfs</td>\n",
       "      <td>1937-12-21</td>\n",
       "      <td>Musical</td>\n",
       "      <td>G</td>\n",
       "      <td>184925485</td>\n",
       "      <td>5228953251</td>\n",
       "    </tr>\n",
       "    <tr>\n",
       "      <th>1</th>\n",
       "      <td>Pinocchio</td>\n",
       "      <td>1940-02-09</td>\n",
       "      <td>Adventure</td>\n",
       "      <td>G</td>\n",
       "      <td>84300000</td>\n",
       "      <td>2188229052</td>\n",
       "    </tr>\n",
       "    <tr>\n",
       "      <th>2</th>\n",
       "      <td>Fantasia</td>\n",
       "      <td>1940-11-13</td>\n",
       "      <td>Musical</td>\n",
       "      <td>G</td>\n",
       "      <td>83320000</td>\n",
       "      <td>2187090808</td>\n",
       "    </tr>\n",
       "    <tr>\n",
       "      <th>3</th>\n",
       "      <td>Song of the South</td>\n",
       "      <td>1946-11-12</td>\n",
       "      <td>Adventure</td>\n",
       "      <td>G</td>\n",
       "      <td>65000000</td>\n",
       "      <td>1078510579</td>\n",
       "    </tr>\n",
       "    <tr>\n",
       "      <th>4</th>\n",
       "      <td>Cinderella</td>\n",
       "      <td>1950-02-15</td>\n",
       "      <td>Drama</td>\n",
       "      <td>G</td>\n",
       "      <td>85000000</td>\n",
       "      <td>920608730</td>\n",
       "    </tr>\n",
       "  </tbody>\n",
       "</table>\n",
       "</div>"
      ],
      "text/plain": [
       "                      tit_do_filme dt_lancamento     genero  \\\n",
       "0  Snow White and the Seven Dwarfs    1937-12-21    Musical   \n",
       "1                        Pinocchio    1940-02-09  Adventure   \n",
       "2                         Fantasia    1940-11-13    Musical   \n",
       "3                Song of the South    1946-11-12  Adventure   \n",
       "4                       Cinderella    1950-02-15      Drama   \n",
       "\n",
       "  classificacao_mpaa  bilheteria_bruta  bilheteria_ajustada_inflacao  \n",
       "0                  G         184925485                    5228953251  \n",
       "1                  G          84300000                    2188229052  \n",
       "2                  G          83320000                    2187090808  \n",
       "3                  G          65000000                    1078510579  \n",
       "4                  G          85000000                     920608730  "
      ]
     },
     "execution_count": 10,
     "metadata": {},
     "output_type": "execute_result"
    }
   ],
   "source": [
    "dados.head()"
   ]
  },
  {
   "cell_type": "markdown",
   "id": "33f56234",
   "metadata": {
    "cell_id": "00018-5674231b-75e8-42a6-86b9-0778294f94e9",
    "deepnote_cell_height": 45.5,
    "deepnote_cell_type": "markdown"
   },
   "source": []
  },
  {
   "cell_type": "markdown",
   "id": "588369be",
   "metadata": {
    "cell_id": "00019-acae1034-237b-43d5-816d-2766e664709c",
    "deepnote_cell_height": 51.899993896484375,
    "deepnote_cell_type": "markdown"
   },
   "source": [
    "4 -Imprima informações básicas sobre o DataFrame"
   ]
  },
  {
   "cell_type": "code",
   "execution_count": 5,
   "id": "d25f16b0",
   "metadata": {
    "cell_id": "00020-e0a3389c-4b86-4f10-9c7b-53b83a9e1e67",
    "deepnote_cell_height": 517,
    "deepnote_cell_type": "code",
    "deepnote_to_be_reexecuted": false,
    "execution_millis": 10,
    "execution_start": 1654815896882,
    "source_hash": "248e9f28"
   },
   "outputs": [
    {
     "data": {
      "text/html": [
       "<div>\n",
       "<style scoped>\n",
       "    .dataframe tbody tr th:only-of-type {\n",
       "        vertical-align: middle;\n",
       "    }\n",
       "\n",
       "    .dataframe tbody tr th {\n",
       "        vertical-align: top;\n",
       "    }\n",
       "\n",
       "    .dataframe thead th {\n",
       "        text-align: right;\n",
       "    }\n",
       "</style>\n",
       "<table border=\"1\" class=\"dataframe\">\n",
       "  <thead>\n",
       "    <tr style=\"text-align: right;\">\n",
       "      <th></th>\n",
       "      <th>bilheteria_bruta</th>\n",
       "      <th>bilheteria_ajustada_inflacao</th>\n",
       "    </tr>\n",
       "  </thead>\n",
       "  <tbody>\n",
       "    <tr>\n",
       "      <th>count</th>\n",
       "      <td>5.790000e+02</td>\n",
       "      <td>5.790000e+02</td>\n",
       "    </tr>\n",
       "    <tr>\n",
       "      <th>mean</th>\n",
       "      <td>6.470179e+07</td>\n",
       "      <td>1.187625e+08</td>\n",
       "    </tr>\n",
       "    <tr>\n",
       "      <th>std</th>\n",
       "      <td>9.301301e+07</td>\n",
       "      <td>2.860853e+08</td>\n",
       "    </tr>\n",
       "    <tr>\n",
       "      <th>min</th>\n",
       "      <td>0.000000e+00</td>\n",
       "      <td>0.000000e+00</td>\n",
       "    </tr>\n",
       "    <tr>\n",
       "      <th>25%</th>\n",
       "      <td>1.278886e+07</td>\n",
       "      <td>2.274123e+07</td>\n",
       "    </tr>\n",
       "    <tr>\n",
       "      <th>50%</th>\n",
       "      <td>3.070245e+07</td>\n",
       "      <td>5.515978e+07</td>\n",
       "    </tr>\n",
       "    <tr>\n",
       "      <th>75%</th>\n",
       "      <td>7.570903e+07</td>\n",
       "      <td>1.192020e+08</td>\n",
       "    </tr>\n",
       "    <tr>\n",
       "      <th>max</th>\n",
       "      <td>9.366622e+08</td>\n",
       "      <td>5.228953e+09</td>\n",
       "    </tr>\n",
       "  </tbody>\n",
       "</table>\n",
       "</div>"
      ],
      "text/plain": [
       "       bilheteria_bruta  bilheteria_ajustada_inflacao\n",
       "count      5.790000e+02                  5.790000e+02\n",
       "mean       6.470179e+07                  1.187625e+08\n",
       "std        9.301301e+07                  2.860853e+08\n",
       "min        0.000000e+00                  0.000000e+00\n",
       "25%        1.278886e+07                  2.274123e+07\n",
       "50%        3.070245e+07                  5.515978e+07\n",
       "75%        7.570903e+07                  1.192020e+08\n",
       "max        9.366622e+08                  5.228953e+09"
      ]
     },
     "execution_count": 5,
     "metadata": {},
     "output_type": "execute_result"
    }
   ],
   "source": [
    "dados.describe()"
   ]
  },
  {
   "cell_type": "code",
   "execution_count": 8,
   "id": "6a95463a",
   "metadata": {
    "cell_id": "1d8b6a32d7894c288f722c378a909dd6",
    "deepnote_cell_height": 117.25,
    "deepnote_cell_type": "code",
    "deepnote_output_heights": [
     21
    ],
    "deepnote_to_be_reexecuted": false,
    "execution_millis": 2,
    "execution_start": 1654815909962,
    "source_hash": "d6ea96ec",
    "tags": []
   },
   "outputs": [
    {
     "data": {
      "text/plain": [
       "(579, 6)"
      ]
     },
     "execution_count": 8,
     "metadata": {},
     "output_type": "execute_result"
    }
   ],
   "source": [
    "dados.shape"
   ]
  },
  {
   "cell_type": "code",
   "execution_count": 8,
   "id": "2358651b",
   "metadata": {
    "cell_id": "b870086682734ba6be0f6cfd0abb2ef2",
    "deepnote_cell_height": 345.83331298828125,
    "deepnote_cell_type": "code",
    "deepnote_to_be_reexecuted": false,
    "execution_millis": 7,
    "execution_start": 1654815924014,
    "source_hash": "2360d0b6",
    "tags": []
   },
   "outputs": [
    {
     "name": "stdout",
     "output_type": "stream",
     "text": [
      "<class 'pandas.core.frame.DataFrame'>\n",
      "RangeIndex: 579 entries, 0 to 578\n",
      "Data columns (total 6 columns):\n",
      " #   Column                        Non-Null Count  Dtype         \n",
      "---  ------                        --------------  -----         \n",
      " 0   tit_do_filme                  579 non-null    object        \n",
      " 1   dt_lancamento                 579 non-null    datetime64[ns]\n",
      " 2   genero                        562 non-null    object        \n",
      " 3   classificacao_mpaa            523 non-null    object        \n",
      " 4   bilheteria_bruta              579 non-null    int64         \n",
      " 5   bilheteria_ajustada_inflacao  579 non-null    int64         \n",
      "dtypes: datetime64[ns](1), int64(2), object(3)\n",
      "memory usage: 27.3+ KB\n"
     ]
    }
   ],
   "source": [
    "dados.info()"
   ]
  },
  {
   "cell_type": "markdown",
   "id": "de328ed9",
   "metadata": {
    "cell_id": "00021-9a3b810a-e0c0-4d18-aec9-3e801aceecbe",
    "deepnote_cell_height": 51.899993896484375,
    "deepnote_cell_type": "markdown"
   },
   "source": [
    "5 - Calcule a média da bilheteria ajustada"
   ]
  },
  {
   "cell_type": "code",
   "execution_count": 9,
   "id": "c208dee6",
   "metadata": {
    "cell_id": "00022-e853b578-5555-470c-b926-4b86e7916c7f",
    "deepnote_cell_height": 271.25,
    "deepnote_cell_type": "code",
    "deepnote_output_heights": [
     175
    ],
    "deepnote_to_be_reexecuted": false,
    "execution_millis": 532,
    "execution_start": 1654816024438,
    "source_hash": "4eedf520"
   },
   "outputs": [
    {
     "data": {
      "text/plain": [
       "count    5.790000e+02\n",
       "mean     1.187625e+08\n",
       "std      2.860853e+08\n",
       "min      0.000000e+00\n",
       "25%      2.274123e+07\n",
       "50%      5.515978e+07\n",
       "75%      1.192020e+08\n",
       "max      5.228953e+09\n",
       "Name: bilheteria_ajustada_inflacao, dtype: float64"
      ]
     },
     "execution_count": 9,
     "metadata": {},
     "output_type": "execute_result"
    }
   ],
   "source": [
    "dados['bilheteria_ajustada_inflacao'].describe()"
   ]
  },
  {
   "cell_type": "markdown",
   "id": "e2ee3879",
   "metadata": {
    "cell_id": "00023-7c6528df-ff6c-415e-9653-ef99ba2a14ac",
    "deepnote_cell_height": 51.899993896484375,
    "deepnote_cell_type": "markdown"
   },
   "source": [
    "6 - Calcule a mediana da bilheterias ajustada"
   ]
  },
  {
   "cell_type": "code",
   "execution_count": 10,
   "id": "6280d5c1",
   "metadata": {
    "cell_id": "00024-180550dd-4de5-4068-9324-6c41cfa5421c",
    "deepnote_cell_height": 117.25,
    "deepnote_cell_type": "code",
    "deepnote_output_heights": [
     21
    ],
    "deepnote_to_be_reexecuted": false,
    "execution_millis": 261,
    "execution_start": 1654816072669,
    "source_hash": "9037163a"
   },
   "outputs": [
    {
     "data": {
      "text/plain": [
       "55159783.0"
      ]
     },
     "execution_count": 10,
     "metadata": {},
     "output_type": "execute_result"
    }
   ],
   "source": [
    "dados['bilheteria_ajustada_inflacao'].median()"
   ]
  },
  {
   "cell_type": "markdown",
   "id": "5b36d58e",
   "metadata": {
    "cell_id": "00025-03a4e10b-07f4-4bcc-8cb7-58aa89f3c4e6",
    "deepnote_cell_height": 51.899993896484375,
    "deepnote_cell_type": "markdown"
   },
   "source": [
    "7 - Encontre as datas máximas e minimas de lançamentos de filmes nesse dataset"
   ]
  },
  {
   "cell_type": "code",
   "execution_count": 11,
   "id": "8913cb2b",
   "metadata": {
    "cell_id": "00026-e6353004-8933-4001-9987-f0b49ae4a8ea",
    "deepnote_cell_height": 117.25,
    "deepnote_cell_type": "code",
    "deepnote_output_heights": [
     21
    ],
    "deepnote_to_be_reexecuted": false,
    "execution_millis": 8,
    "execution_start": 1654816126488,
    "source_hash": "ad94025"
   },
   "outputs": [
    {
     "data": {
      "text/plain": [
       "Timestamp('2016-12-16 00:00:00')"
      ]
     },
     "execution_count": 11,
     "metadata": {},
     "output_type": "execute_result"
    }
   ],
   "source": [
    "dados['dt_lancamento'].max()"
   ]
  },
  {
   "cell_type": "code",
   "execution_count": 12,
   "id": "3aa04c29",
   "metadata": {
    "cell_id": "db9b81a72c714f8c918090902b0fc1ea",
    "deepnote_cell_height": 117.25,
    "deepnote_cell_type": "code",
    "deepnote_output_heights": [
     21
    ],
    "deepnote_to_be_reexecuted": false,
    "execution_millis": 12,
    "execution_start": 1654816168541,
    "source_hash": "e2937370",
    "tags": []
   },
   "outputs": [
    {
     "data": {
      "text/plain": [
       "Timestamp('1937-12-21 00:00:00')"
      ]
     },
     "execution_count": 12,
     "metadata": {},
     "output_type": "execute_result"
    }
   ],
   "source": [
    "dados['dt_lancamento'].min()"
   ]
  },
  {
   "cell_type": "code",
   "execution_count": null,
   "id": "a141969c",
   "metadata": {
    "cell_id": "212870cd15084e3c9c0bdfc2d00b9139",
    "deepnote_cell_height": 65.5,
    "deepnote_cell_type": "code",
    "tags": []
   },
   "outputs": [],
   "source": []
  },
  {
   "cell_type": "markdown",
   "id": "fe094d3b",
   "metadata": {
    "cell_id": "00027-2ba3a551-1842-481c-b0db-4fe0600f4e28",
    "deepnote_cell_height": 51.899993896484375,
    "deepnote_cell_type": "markdown"
   },
   "source": [
    "8 - Qual filme tem maior bilheteria_ajustada_inflacao ?"
   ]
  },
  {
   "cell_type": "code",
   "execution_count": 28,
   "id": "9f98bfd9",
   "metadata": {
    "cell_id": "00028-6752bbeb-e53a-4f95-9c84-3f8d4613de63",
    "deepnote_cell_height": 230,
    "deepnote_cell_type": "code",
    "deepnote_output_heights": [
     232
    ],
    "deepnote_to_be_reexecuted": false,
    "execution_millis": 39,
    "execution_start": 1654816825231,
    "source_hash": "8bd5fc8f"
   },
   "outputs": [
    {
     "data": {
      "application/vnd.deepnote.dataframe.v3+json": {
       "column_count": 6,
       "columns": [
        {
         "dtype": "object",
         "name": "tit_do_filme",
         "stats": {
          "categories": [
           {
            "count": 1,
            "name": "Snow White and the Seven Dwarfs"
           }
          ],
          "nan_count": 0,
          "unique_count": 1
         }
        },
        {
         "dtype": "datetime64[ns]",
         "name": "dt_lancamento",
         "stats": {
          "histogram": null,
          "max": "1937-12-21 00:00:00",
          "min": "1937-12-21 00:00:00",
          "nan_count": 0,
          "unique_count": 1
         }
        },
        {
         "dtype": "object",
         "name": "genero",
         "stats": {
          "categories": [
           {
            "count": 1,
            "name": "Musical"
           }
          ],
          "nan_count": 0,
          "unique_count": 1
         }
        },
        {
         "dtype": "object",
         "name": "classificacao_mpaa",
         "stats": {
          "categories": [
           {
            "count": 1,
            "name": "G"
           }
          ],
          "nan_count": 0,
          "unique_count": 1
         }
        },
        {
         "dtype": "int64",
         "name": "bilheteria_bruta",
         "stats": {
          "histogram": [
           {
            "bin_end": 184925484.6,
            "bin_start": 184925484.5,
            "count": 0
           },
           {
            "bin_end": 184925484.7,
            "bin_start": 184925484.6,
            "count": 0
           },
           {
            "bin_end": 184925484.8,
            "bin_start": 184925484.7,
            "count": 0
           },
           {
            "bin_end": 184925484.9,
            "bin_start": 184925484.8,
            "count": 0
           },
           {
            "bin_end": 184925485,
            "bin_start": 184925484.9,
            "count": 0
           },
           {
            "bin_end": 184925485.1,
            "bin_start": 184925485,
            "count": 1
           },
           {
            "bin_end": 184925485.2,
            "bin_start": 184925485.1,
            "count": 0
           },
           {
            "bin_end": 184925485.3,
            "bin_start": 184925485.2,
            "count": 0
           },
           {
            "bin_end": 184925485.4,
            "bin_start": 184925485.3,
            "count": 0
           },
           {
            "bin_end": 184925485.5,
            "bin_start": 184925485.4,
            "count": 0
           }
          ],
          "max": "184925485",
          "min": "184925485",
          "nan_count": 0,
          "unique_count": 1
         }
        },
        {
         "dtype": "int64",
         "name": "bilheteria_ajustada_inflacao",
         "stats": {
          "histogram": [
           {
            "bin_end": 5228953250.6,
            "bin_start": 5228953250.5,
            "count": 0
           },
           {
            "bin_end": 5228953250.7,
            "bin_start": 5228953250.6,
            "count": 0
           },
           {
            "bin_end": 5228953250.8,
            "bin_start": 5228953250.7,
            "count": 0
           },
           {
            "bin_end": 5228953250.9,
            "bin_start": 5228953250.8,
            "count": 0
           },
           {
            "bin_end": 5228953251,
            "bin_start": 5228953250.9,
            "count": 0
           },
           {
            "bin_end": 5228953251.1,
            "bin_start": 5228953251,
            "count": 1
           },
           {
            "bin_end": 5228953251.2,
            "bin_start": 5228953251.1,
            "count": 0
           },
           {
            "bin_end": 5228953251.3,
            "bin_start": 5228953251.2,
            "count": 0
           },
           {
            "bin_end": 5228953251.4,
            "bin_start": 5228953251.3,
            "count": 0
           },
           {
            "bin_end": 5228953251.5,
            "bin_start": 5228953251.4,
            "count": 0
           }
          ],
          "max": "5228953251",
          "min": "5228953251",
          "nan_count": 0,
          "unique_count": 1
         }
        },
        {
         "dtype": "int64",
         "name": "_deepnote_index_column"
        }
       ],
       "row_count": 1,
       "rows": [
        {
         "_deepnote_index_column": 0,
         "bilheteria_ajustada_inflacao": 5228953251,
         "bilheteria_bruta": 184925485,
         "classificacao_mpaa": "G",
         "dt_lancamento": "1937-12-21T00:00:00.000000",
         "genero": "Musical",
         "tit_do_filme": "Snow White and the Seven Dwarfs"
        }
       ]
      },
      "text/html": [
       "<div>\n",
       "<style scoped>\n",
       "    .dataframe tbody tr th:only-of-type {\n",
       "        vertical-align: middle;\n",
       "    }\n",
       "\n",
       "    .dataframe tbody tr th {\n",
       "        vertical-align: top;\n",
       "    }\n",
       "\n",
       "    .dataframe thead th {\n",
       "        text-align: right;\n",
       "    }\n",
       "</style>\n",
       "<table border=\"1\" class=\"dataframe\">\n",
       "  <thead>\n",
       "    <tr style=\"text-align: right;\">\n",
       "      <th></th>\n",
       "      <th>tit_do_filme</th>\n",
       "      <th>dt_lancamento</th>\n",
       "      <th>genero</th>\n",
       "      <th>classificacao_mpaa</th>\n",
       "      <th>bilheteria_bruta</th>\n",
       "      <th>bilheteria_ajustada_inflacao</th>\n",
       "    </tr>\n",
       "  </thead>\n",
       "  <tbody>\n",
       "    <tr>\n",
       "      <th>0</th>\n",
       "      <td>Snow White and the Seven Dwarfs</td>\n",
       "      <td>1937-12-21</td>\n",
       "      <td>Musical</td>\n",
       "      <td>G</td>\n",
       "      <td>184925485</td>\n",
       "      <td>5228953251</td>\n",
       "    </tr>\n",
       "  </tbody>\n",
       "</table>\n",
       "</div>"
      ],
      "text/plain": [
       "                      tit_do_filme dt_lancamento   genero classificacao_mpaa  \\\n",
       "0  Snow White and the Seven Dwarfs    1937-12-21  Musical                  G   \n",
       "\n",
       "   bilheteria_bruta  bilheteria_ajustada_inflacao  \n",
       "0         184925485                    5228953251  "
      ]
     },
     "execution_count": 28,
     "metadata": {},
     "output_type": "execute_result"
    }
   ],
   "source": [
    "dados.sort_values(by='bilheteria_ajustada_inflacao', ascending=False).head(1)"
   ]
  },
  {
   "cell_type": "markdown",
   "id": "ec974440",
   "metadata": {
    "cell_id": "00029-1d390d79-a034-45f5-9c44-68a6cbca908d",
    "deepnote_cell_height": 45.5,
    "deepnote_cell_type": "markdown"
   },
   "source": []
  },
  {
   "cell_type": "code",
   "execution_count": 23,
   "id": "a7ee9834",
   "metadata": {
    "cell_id": "00030-dcfb358b-a522-449d-91b4-cf1d24774163",
    "deepnote_cell_height": 230,
    "deepnote_cell_type": "code",
    "deepnote_to_be_reexecuted": false,
    "execution_millis": 31,
    "execution_start": 1654816616738,
    "source_hash": "aff163f3"
   },
   "outputs": [
    {
     "data": {
      "application/vnd.deepnote.dataframe.v3+json": {
       "column_count": 6,
       "columns": [
        {
         "dtype": "object",
         "name": "tit_do_filme",
         "stats": {
          "categories": [
           {
            "count": 1,
            "name": "Snow White and the Seven Dwarfs"
           }
          ],
          "nan_count": 0,
          "unique_count": 1
         }
        },
        {
         "dtype": "datetime64[ns]",
         "name": "dt_lancamento",
         "stats": {
          "histogram": null,
          "max": "1937-12-21 00:00:00",
          "min": "1937-12-21 00:00:00",
          "nan_count": 0,
          "unique_count": 1
         }
        },
        {
         "dtype": "object",
         "name": "genero",
         "stats": {
          "categories": [
           {
            "count": 1,
            "name": "Musical"
           }
          ],
          "nan_count": 0,
          "unique_count": 1
         }
        },
        {
         "dtype": "object",
         "name": "classificacao_mpaa",
         "stats": {
          "categories": [
           {
            "count": 1,
            "name": "G"
           }
          ],
          "nan_count": 0,
          "unique_count": 1
         }
        },
        {
         "dtype": "int64",
         "name": "bilheteria_bruta",
         "stats": {
          "histogram": [
           {
            "bin_end": 184925484.6,
            "bin_start": 184925484.5,
            "count": 0
           },
           {
            "bin_end": 184925484.7,
            "bin_start": 184925484.6,
            "count": 0
           },
           {
            "bin_end": 184925484.8,
            "bin_start": 184925484.7,
            "count": 0
           },
           {
            "bin_end": 184925484.9,
            "bin_start": 184925484.8,
            "count": 0
           },
           {
            "bin_end": 184925485,
            "bin_start": 184925484.9,
            "count": 0
           },
           {
            "bin_end": 184925485.1,
            "bin_start": 184925485,
            "count": 1
           },
           {
            "bin_end": 184925485.2,
            "bin_start": 184925485.1,
            "count": 0
           },
           {
            "bin_end": 184925485.3,
            "bin_start": 184925485.2,
            "count": 0
           },
           {
            "bin_end": 184925485.4,
            "bin_start": 184925485.3,
            "count": 0
           },
           {
            "bin_end": 184925485.5,
            "bin_start": 184925485.4,
            "count": 0
           }
          ],
          "max": "184925485",
          "min": "184925485",
          "nan_count": 0,
          "unique_count": 1
         }
        },
        {
         "dtype": "int64",
         "name": "bilheteria_ajustada_inflacao",
         "stats": {
          "histogram": [
           {
            "bin_end": 5228953250.6,
            "bin_start": 5228953250.5,
            "count": 0
           },
           {
            "bin_end": 5228953250.7,
            "bin_start": 5228953250.6,
            "count": 0
           },
           {
            "bin_end": 5228953250.8,
            "bin_start": 5228953250.7,
            "count": 0
           },
           {
            "bin_end": 5228953250.9,
            "bin_start": 5228953250.8,
            "count": 0
           },
           {
            "bin_end": 5228953251,
            "bin_start": 5228953250.9,
            "count": 0
           },
           {
            "bin_end": 5228953251.1,
            "bin_start": 5228953251,
            "count": 1
           },
           {
            "bin_end": 5228953251.2,
            "bin_start": 5228953251.1,
            "count": 0
           },
           {
            "bin_end": 5228953251.3,
            "bin_start": 5228953251.2,
            "count": 0
           },
           {
            "bin_end": 5228953251.4,
            "bin_start": 5228953251.3,
            "count": 0
           },
           {
            "bin_end": 5228953251.5,
            "bin_start": 5228953251.4,
            "count": 0
           }
          ],
          "max": "5228953251",
          "min": "5228953251",
          "nan_count": 0,
          "unique_count": 1
         }
        },
        {
         "dtype": "int64",
         "name": "_deepnote_index_column"
        }
       ],
       "row_count": 1,
       "rows": [
        {
         "_deepnote_index_column": 0,
         "bilheteria_ajustada_inflacao": 5228953251,
         "bilheteria_bruta": 184925485,
         "classificacao_mpaa": "G",
         "dt_lancamento": "1937-12-21T00:00:00.000000",
         "genero": "Musical",
         "tit_do_filme": "Snow White and the Seven Dwarfs"
        }
       ]
      },
      "text/html": [
       "<div>\n",
       "<style scoped>\n",
       "    .dataframe tbody tr th:only-of-type {\n",
       "        vertical-align: middle;\n",
       "    }\n",
       "\n",
       "    .dataframe tbody tr th {\n",
       "        vertical-align: top;\n",
       "    }\n",
       "\n",
       "    .dataframe thead th {\n",
       "        text-align: right;\n",
       "    }\n",
       "</style>\n",
       "<table border=\"1\" class=\"dataframe\">\n",
       "  <thead>\n",
       "    <tr style=\"text-align: right;\">\n",
       "      <th></th>\n",
       "      <th>tit_do_filme</th>\n",
       "      <th>dt_lancamento</th>\n",
       "      <th>genero</th>\n",
       "      <th>classificacao_mpaa</th>\n",
       "      <th>bilheteria_bruta</th>\n",
       "      <th>bilheteria_ajustada_inflacao</th>\n",
       "    </tr>\n",
       "  </thead>\n",
       "  <tbody>\n",
       "    <tr>\n",
       "      <th>0</th>\n",
       "      <td>Snow White and the Seven Dwarfs</td>\n",
       "      <td>1937-12-21</td>\n",
       "      <td>Musical</td>\n",
       "      <td>G</td>\n",
       "      <td>184925485</td>\n",
       "      <td>5228953251</td>\n",
       "    </tr>\n",
       "  </tbody>\n",
       "</table>\n",
       "</div>"
      ],
      "text/plain": [
       "                      tit_do_filme dt_lancamento   genero classificacao_mpaa  \\\n",
       "0  Snow White and the Seven Dwarfs    1937-12-21  Musical                  G   \n",
       "\n",
       "   bilheteria_bruta  bilheteria_ajustada_inflacao  \n",
       "0         184925485                    5228953251  "
      ]
     },
     "execution_count": 23,
     "metadata": {},
     "output_type": "execute_result"
    }
   ],
   "source": [
    "dados.loc[(dados['bilheteria_ajustada_inflacao'] == dados['bilheteria_ajustada_inflacao'].max())]"
   ]
  },
  {
   "cell_type": "markdown",
   "id": "a8148c84",
   "metadata": {
    "cell_id": "00031-285d92f8-0b5e-490a-b987-a1e344721f8e",
    "deepnote_cell_height": 51.899993896484375,
    "deepnote_cell_type": "markdown"
   },
   "source": [
    "9 - Ordene os dados por dt_lancamento e chame de data_ordenada"
   ]
  },
  {
   "cell_type": "code",
   "execution_count": 34,
   "id": "5234fe7c",
   "metadata": {
    "cell_id": "00032-f8575962-bf33-4dc2-8eaa-5e8ed9170494",
    "deepnote_cell_height": 80.5,
    "deepnote_cell_type": "code",
    "deepnote_to_be_reexecuted": false,
    "execution_millis": 1,
    "execution_start": 1654817732599,
    "source_hash": "dcbc8a7"
   },
   "outputs": [],
   "source": [
    "data_ordenada = dados.sort_values(by='dt_lancamento')"
   ]
  },
  {
   "cell_type": "code",
   "execution_count": 35,
   "id": "a45f44fe",
   "metadata": {
    "cell_id": "80bc98e18a8e4c4a839f4508118d2f69",
    "deepnote_cell_height": 599,
    "deepnote_cell_type": "code",
    "deepnote_to_be_reexecuted": false,
    "execution_millis": 47,
    "execution_start": 1654817734617,
    "source_hash": "4d914004",
    "tags": []
   },
   "outputs": [
    {
     "data": {
      "application/vnd.deepnote.dataframe.v3+json": {
       "column_count": 6,
       "columns": [
        {
         "dtype": "object",
         "name": "tit_do_filme",
         "stats": {
          "categories": [
           {
            "count": 3,
            "name": "The Jungle Book"
           },
           {
            "count": 2,
            "name": "Cinderella"
           },
           {
            "count": 574,
            "name": "571 others"
           }
          ],
          "nan_count": 0,
          "unique_count": 573
         }
        },
        {
         "dtype": "datetime64[ns]",
         "name": "dt_lancamento",
         "stats": {
          "histogram": [
           {
            "bin_end": -761529600000000000,
            "bin_start": -1010793600000000000,
            "count": 3
           },
           {
            "bin_end": -512265600000000000,
            "bin_start": -761529600000000000,
            "count": 2
           },
           {
            "bin_end": -263001600000000000,
            "bin_start": -512265600000000000,
            "count": 5
           },
           {
            "bin_end": -13737600000000000,
            "bin_start": -263001600000000000,
            "count": 5
           },
           {
            "bin_end": 235526400000000000,
            "bin_start": -13737600000000000,
            "count": 6
           },
           {
            "bin_end": 484790400000000000,
            "bin_start": 235526400000000000,
            "count": 19
           },
           {
            "bin_end": 734054400000000000,
            "bin_start": 484790400000000000,
            "count": 106
           },
           {
            "bin_end": 983318400000000000,
            "bin_start": 734054400000000000,
            "count": 196
           },
           {
            "bin_end": 1232582400000000000,
            "bin_start": 983318400000000000,
            "count": 135
           },
           {
            "bin_end": 1481846400000000000,
            "bin_start": 1232582400000000000,
            "count": 102
           }
          ],
          "max": "2016-12-16 00:00:00",
          "min": "1937-12-21 00:00:00",
          "nan_count": 0,
          "unique_count": 553
         }
        },
        {
         "dtype": "object",
         "name": "genero",
         "stats": {
          "categories": [
           {
            "count": 182,
            "name": "Comedy"
           },
           {
            "count": 380,
            "name": "11 others"
           },
           {
            "count": 17,
            "name": "Missing"
           }
          ],
          "nan_count": 17,
          "unique_count": 12
         }
        },
        {
         "dtype": "object",
         "name": "classificacao_mpaa",
         "stats": {
          "categories": [
           {
            "count": 187,
            "name": "PG"
           },
           {
            "count": 336,
            "name": "4 others"
           },
           {
            "count": 56,
            "name": "Missing"
           }
          ],
          "nan_count": 56,
          "unique_count": 5
         }
        },
        {
         "dtype": "int64",
         "name": "bilheteria_bruta",
         "stats": {
          "histogram": [
           {
            "bin_end": 93666222.5,
            "bin_start": 0,
            "count": 469
           },
           {
            "bin_end": 187332445,
            "bin_start": 93666222.5,
            "count": 61
           },
           {
            "bin_end": 280998667.5,
            "bin_start": 187332445,
            "count": 26
           },
           {
            "bin_end": 374664890,
            "bin_start": 280998667.5,
            "count": 11
           },
           {
            "bin_end": 468331112.5,
            "bin_start": 374664890,
            "count": 8
           },
           {
            "bin_end": 561997335,
            "bin_start": 468331112.5,
            "count": 2
           },
           {
            "bin_end": 655663557.5,
            "bin_start": 561997335,
            "count": 1
           },
           {
            "bin_end": 749329780,
            "bin_start": 655663557.5,
            "count": 0
           },
           {
            "bin_end": 842996002.5,
            "bin_start": 749329780,
            "count": 0
           },
           {
            "bin_end": 936662225,
            "bin_start": 842996002.5,
            "count": 1
           }
          ],
          "max": "936662225",
          "min": "0",
          "nan_count": 0,
          "unique_count": 576
         }
        },
        {
         "dtype": "int64",
         "name": "bilheteria_ajustada_inflacao",
         "stats": {
          "histogram": [
           {
            "bin_end": 522895325.1,
            "bin_start": 0,
            "count": 565
           },
           {
            "bin_end": 1045790650.2,
            "bin_start": 522895325.1,
            "count": 8
           },
           {
            "bin_end": 1568685975.3000002,
            "bin_start": 1045790650.2,
            "count": 3
           },
           {
            "bin_end": 2091581300.4,
            "bin_start": 1568685975.3000002,
            "count": 0
           },
           {
            "bin_end": 2614476625.5,
            "bin_start": 2091581300.4,
            "count": 2
           },
           {
            "bin_end": 3137371950.6000004,
            "bin_start": 2614476625.5,
            "count": 0
           },
           {
            "bin_end": 3660267275.7000003,
            "bin_start": 3137371950.6000004,
            "count": 0
           },
           {
            "bin_end": 4183162600.8,
            "bin_start": 3660267275.7000003,
            "count": 0
           },
           {
            "bin_end": 4706057925.900001,
            "bin_start": 4183162600.8,
            "count": 0
           },
           {
            "bin_end": 5228953251,
            "bin_start": 4706057925.900001,
            "count": 1
           }
          ],
          "max": "5228953251",
          "min": "0",
          "nan_count": 0,
          "unique_count": 576
         }
        },
        {
         "dtype": "int64",
         "name": "_deepnote_index_column"
        }
       ],
       "row_count": 579,
       "rows": [
        {
         "_deepnote_index_column": 0,
         "bilheteria_ajustada_inflacao": 5228953251,
         "bilheteria_bruta": 184925485,
         "classificacao_mpaa": "G",
         "dt_lancamento": "1937-12-21T00:00:00.000000",
         "genero": "Musical",
         "tit_do_filme": "Snow White and the Seven Dwarfs"
        },
        {
         "_deepnote_index_column": 1,
         "bilheteria_ajustada_inflacao": 2188229052,
         "bilheteria_bruta": 84300000,
         "classificacao_mpaa": "G",
         "dt_lancamento": "1940-02-09T00:00:00.000000",
         "genero": "Adventure",
         "tit_do_filme": "Pinocchio"
        },
        {
         "_deepnote_index_column": 2,
         "bilheteria_ajustada_inflacao": 2187090808,
         "bilheteria_bruta": 83320000,
         "classificacao_mpaa": "G",
         "dt_lancamento": "1940-11-13T00:00:00.000000",
         "genero": "Musical",
         "tit_do_filme": "Fantasia"
        },
        {
         "_deepnote_index_column": 3,
         "bilheteria_ajustada_inflacao": 1078510579,
         "bilheteria_bruta": 65000000,
         "classificacao_mpaa": "G",
         "dt_lancamento": "1946-11-12T00:00:00.000000",
         "genero": "Adventure",
         "tit_do_filme": "Song of the South"
        },
        {
         "_deepnote_index_column": 4,
         "bilheteria_ajustada_inflacao": 920608730,
         "bilheteria_bruta": 85000000,
         "classificacao_mpaa": "G",
         "dt_lancamento": "1950-02-15T00:00:00.000000",
         "genero": "Drama",
         "tit_do_filme": "Cinderella"
        },
        {
         "_deepnote_index_column": 5,
         "bilheteria_ajustada_inflacao": 528279994,
         "bilheteria_bruta": 28200000,
         "classificacao_mpaa": "nan",
         "dt_lancamento": "1954-12-23T00:00:00.000000",
         "genero": "Adventure",
         "tit_do_filme": "20,000 Leagues Under the Sea"
        },
        {
         "_deepnote_index_column": 6,
         "bilheteria_ajustada_inflacao": 1236035515,
         "bilheteria_bruta": 93600000,
         "classificacao_mpaa": "G",
         "dt_lancamento": "1955-06-22T00:00:00.000000",
         "genero": "Drama",
         "tit_do_filme": "Lady and the Tramp"
        },
        {
         "_deepnote_index_column": 7,
         "bilheteria_ajustada_inflacao": 21505832,
         "bilheteria_bruta": 9464608,
         "classificacao_mpaa": "nan",
         "dt_lancamento": "1959-01-29T00:00:00.000000",
         "genero": "Drama",
         "tit_do_filme": "Sleeping Beauty"
        },
        {
         "_deepnote_index_column": 8,
         "bilheteria_ajustada_inflacao": 1362870985,
         "bilheteria_bruta": 153000000,
         "classificacao_mpaa": "G",
         "dt_lancamento": "1961-01-25T00:00:00.000000",
         "genero": "Comedy",
         "tit_do_filme": "101 Dalmatians"
        },
        {
         "_deepnote_index_column": 9,
         "bilheteria_ajustada_inflacao": 310094574,
         "bilheteria_bruta": 25381407,
         "classificacao_mpaa": "nan",
         "dt_lancamento": "1961-03-16T00:00:00.000000",
         "genero": "Comedy",
         "tit_do_filme": "The Absent Minded Professor"
        }
       ]
      },
      "text/html": [
       "<div>\n",
       "<style scoped>\n",
       "    .dataframe tbody tr th:only-of-type {\n",
       "        vertical-align: middle;\n",
       "    }\n",
       "\n",
       "    .dataframe tbody tr th {\n",
       "        vertical-align: top;\n",
       "    }\n",
       "\n",
       "    .dataframe thead th {\n",
       "        text-align: right;\n",
       "    }\n",
       "</style>\n",
       "<table border=\"1\" class=\"dataframe\">\n",
       "  <thead>\n",
       "    <tr style=\"text-align: right;\">\n",
       "      <th></th>\n",
       "      <th>tit_do_filme</th>\n",
       "      <th>dt_lancamento</th>\n",
       "      <th>genero</th>\n",
       "      <th>classificacao_mpaa</th>\n",
       "      <th>bilheteria_bruta</th>\n",
       "      <th>bilheteria_ajustada_inflacao</th>\n",
       "    </tr>\n",
       "  </thead>\n",
       "  <tbody>\n",
       "    <tr>\n",
       "      <th>0</th>\n",
       "      <td>Snow White and the Seven Dwarfs</td>\n",
       "      <td>1937-12-21</td>\n",
       "      <td>Musical</td>\n",
       "      <td>G</td>\n",
       "      <td>184925485</td>\n",
       "      <td>5228953251</td>\n",
       "    </tr>\n",
       "    <tr>\n",
       "      <th>1</th>\n",
       "      <td>Pinocchio</td>\n",
       "      <td>1940-02-09</td>\n",
       "      <td>Adventure</td>\n",
       "      <td>G</td>\n",
       "      <td>84300000</td>\n",
       "      <td>2188229052</td>\n",
       "    </tr>\n",
       "    <tr>\n",
       "      <th>2</th>\n",
       "      <td>Fantasia</td>\n",
       "      <td>1940-11-13</td>\n",
       "      <td>Musical</td>\n",
       "      <td>G</td>\n",
       "      <td>83320000</td>\n",
       "      <td>2187090808</td>\n",
       "    </tr>\n",
       "    <tr>\n",
       "      <th>3</th>\n",
       "      <td>Song of the South</td>\n",
       "      <td>1946-11-12</td>\n",
       "      <td>Adventure</td>\n",
       "      <td>G</td>\n",
       "      <td>65000000</td>\n",
       "      <td>1078510579</td>\n",
       "    </tr>\n",
       "    <tr>\n",
       "      <th>4</th>\n",
       "      <td>Cinderella</td>\n",
       "      <td>1950-02-15</td>\n",
       "      <td>Drama</td>\n",
       "      <td>G</td>\n",
       "      <td>85000000</td>\n",
       "      <td>920608730</td>\n",
       "    </tr>\n",
       "    <tr>\n",
       "      <th>...</th>\n",
       "      <td>...</td>\n",
       "      <td>...</td>\n",
       "      <td>...</td>\n",
       "      <td>...</td>\n",
       "      <td>...</td>\n",
       "      <td>...</td>\n",
       "    </tr>\n",
       "    <tr>\n",
       "      <th>574</th>\n",
       "      <td>The Light Between Oceans</td>\n",
       "      <td>2016-09-02</td>\n",
       "      <td>Drama</td>\n",
       "      <td>PG-13</td>\n",
       "      <td>12545979</td>\n",
       "      <td>12545979</td>\n",
       "    </tr>\n",
       "    <tr>\n",
       "      <th>575</th>\n",
       "      <td>Queen of Katwe</td>\n",
       "      <td>2016-09-23</td>\n",
       "      <td>Drama</td>\n",
       "      <td>PG</td>\n",
       "      <td>8874389</td>\n",
       "      <td>8874389</td>\n",
       "    </tr>\n",
       "    <tr>\n",
       "      <th>576</th>\n",
       "      <td>Doctor Strange</td>\n",
       "      <td>2016-11-04</td>\n",
       "      <td>Adventure</td>\n",
       "      <td>PG-13</td>\n",
       "      <td>232532923</td>\n",
       "      <td>232532923</td>\n",
       "    </tr>\n",
       "    <tr>\n",
       "      <th>577</th>\n",
       "      <td>Moana</td>\n",
       "      <td>2016-11-23</td>\n",
       "      <td>Adventure</td>\n",
       "      <td>PG</td>\n",
       "      <td>246082029</td>\n",
       "      <td>246082029</td>\n",
       "    </tr>\n",
       "    <tr>\n",
       "      <th>578</th>\n",
       "      <td>Rogue One: A Star Wars Story</td>\n",
       "      <td>2016-12-16</td>\n",
       "      <td>Adventure</td>\n",
       "      <td>PG-13</td>\n",
       "      <td>529483936</td>\n",
       "      <td>529483936</td>\n",
       "    </tr>\n",
       "  </tbody>\n",
       "</table>\n",
       "<p>579 rows × 6 columns</p>\n",
       "</div>"
      ],
      "text/plain": [
       "                        tit_do_filme dt_lancamento     genero  \\\n",
       "0    Snow White and the Seven Dwarfs    1937-12-21    Musical   \n",
       "1                          Pinocchio    1940-02-09  Adventure   \n",
       "2                           Fantasia    1940-11-13    Musical   \n",
       "3                  Song of the South    1946-11-12  Adventure   \n",
       "4                         Cinderella    1950-02-15      Drama   \n",
       "..                               ...           ...        ...   \n",
       "574         The Light Between Oceans    2016-09-02      Drama   \n",
       "575                   Queen of Katwe    2016-09-23      Drama   \n",
       "576                   Doctor Strange    2016-11-04  Adventure   \n",
       "577                            Moana    2016-11-23  Adventure   \n",
       "578     Rogue One: A Star Wars Story    2016-12-16  Adventure   \n",
       "\n",
       "    classificacao_mpaa  bilheteria_bruta  bilheteria_ajustada_inflacao  \n",
       "0                    G         184925485                    5228953251  \n",
       "1                    G          84300000                    2188229052  \n",
       "2                    G          83320000                    2187090808  \n",
       "3                    G          65000000                    1078510579  \n",
       "4                    G          85000000                     920608730  \n",
       "..                 ...               ...                           ...  \n",
       "574              PG-13          12545979                      12545979  \n",
       "575                 PG           8874389                       8874389  \n",
       "576              PG-13         232532923                     232532923  \n",
       "577                 PG         246082029                     246082029  \n",
       "578              PG-13         529483936                     529483936  \n",
       "\n",
       "[579 rows x 6 columns]"
      ]
     },
     "execution_count": 35,
     "metadata": {},
     "output_type": "execute_result"
    }
   ],
   "source": [
    "data_ordenada"
   ]
  },
  {
   "cell_type": "markdown",
   "id": "0fdedf8a",
   "metadata": {
    "cell_id": "00033-7354be1f-9851-41b9-a211-49aea7e062ea",
    "deepnote_cell_height": 51.899993896484375,
    "deepnote_cell_type": "markdown"
   },
   "source": [
    "10- Obtenha a soma cumulativa da bilheteria_ajustada_inflacao,adicione ao dataset com o nome de bilheteria_milionaria"
   ]
  },
  {
   "cell_type": "code",
   "execution_count": 39,
   "id": "29b42bc5",
   "metadata": {
    "cell_id": "00034-2e5f75db-b390-4f81-b86f-9d3e68fe4214",
    "deepnote_cell_height": 80.5,
    "deepnote_cell_type": "code",
    "deepnote_to_be_reexecuted": false,
    "execution_millis": 5,
    "execution_start": 1654817906130,
    "source_hash": "ce9c4204"
   },
   "outputs": [],
   "source": [
    "dados['bilheteria_milionaria'] = dados['bilheteria_ajustada_inflacao'].cumsum()"
   ]
  },
  {
   "cell_type": "code",
   "execution_count": 42,
   "id": "b7929608",
   "metadata": {
    "cell_id": "b3e637c0cbaa40dc88ea0a8ae083c1a1",
    "deepnote_cell_height": 394,
    "deepnote_cell_type": "code",
    "deepnote_output_heights": [
     232
    ],
    "deepnote_to_be_reexecuted": false,
    "execution_millis": 8,
    "execution_start": 1654817964321,
    "source_hash": "1db5586b",
    "tags": []
   },
   "outputs": [
    {
     "data": {
      "application/vnd.deepnote.dataframe.v3+json": {
       "column_count": 7,
       "columns": [
        {
         "dtype": "object",
         "name": "tit_do_filme",
         "stats": {
          "categories": [
           {
            "count": 1,
            "name": "Snow White and the Seven Dwarfs"
           },
           {
            "count": 1,
            "name": "Pinocchio"
           },
           {
            "count": 3,
            "name": "3 others"
           }
          ],
          "nan_count": 0,
          "unique_count": 5
         }
        },
        {
         "dtype": "datetime64[ns]",
         "name": "dt_lancamento",
         "stats": {
          "histogram": [
           {
            "bin_end": -972440640000000000,
            "bin_start": -1010793600000000000,
            "count": 1
           },
           {
            "bin_end": -934087680000000000,
            "bin_start": -972440640000000000,
            "count": 1
           },
           {
            "bin_end": -895734720000000000,
            "bin_start": -934087680000000000,
            "count": 1
           },
           {
            "bin_end": -857381760000000000,
            "bin_start": -895734720000000000,
            "count": 0
           },
           {
            "bin_end": -819028800000000000,
            "bin_start": -857381760000000000,
            "count": 0
           },
           {
            "bin_end": -780675840000000000,
            "bin_start": -819028800000000000,
            "count": 0
           },
           {
            "bin_end": -742322880000000000,
            "bin_start": -780675840000000000,
            "count": 0
           },
           {
            "bin_end": -703969920000000000,
            "bin_start": -742322880000000000,
            "count": 1
           },
           {
            "bin_end": -665616960000000000,
            "bin_start": -703969920000000000,
            "count": 0
           },
           {
            "bin_end": -627264000000000000,
            "bin_start": -665616960000000000,
            "count": 1
           }
          ],
          "max": "1950-02-15 00:00:00",
          "min": "1937-12-21 00:00:00",
          "nan_count": 0,
          "unique_count": 5
         }
        },
        {
         "dtype": "object",
         "name": "genero",
         "stats": {
          "categories": [
           {
            "count": 2,
            "name": "Musical"
           },
           {
            "count": 2,
            "name": "Adventure"
           },
           {
            "count": 1,
            "name": "Drama"
           }
          ],
          "nan_count": 0,
          "unique_count": 3
         }
        },
        {
         "dtype": "object",
         "name": "classificacao_mpaa",
         "stats": {
          "categories": [
           {
            "count": 5,
            "name": "G"
           }
          ],
          "nan_count": 0,
          "unique_count": 1
         }
        },
        {
         "dtype": "int64",
         "name": "bilheteria_bruta",
         "stats": {
          "histogram": [
           {
            "bin_end": 76992548.5,
            "bin_start": 65000000,
            "count": 1
           },
           {
            "bin_end": 88985097,
            "bin_start": 76992548.5,
            "count": 3
           },
           {
            "bin_end": 100977645.5,
            "bin_start": 88985097,
            "count": 0
           },
           {
            "bin_end": 112970194,
            "bin_start": 100977645.5,
            "count": 0
           },
           {
            "bin_end": 124962742.5,
            "bin_start": 112970194,
            "count": 0
           },
           {
            "bin_end": 136955291,
            "bin_start": 124962742.5,
            "count": 0
           },
           {
            "bin_end": 148947839.5,
            "bin_start": 136955291,
            "count": 0
           },
           {
            "bin_end": 160940388,
            "bin_start": 148947839.5,
            "count": 0
           },
           {
            "bin_end": 172932936.5,
            "bin_start": 160940388,
            "count": 0
           },
           {
            "bin_end": 184925485,
            "bin_start": 172932936.5,
            "count": 1
           }
          ],
          "max": "184925485",
          "min": "65000000",
          "nan_count": 0,
          "unique_count": 5
         }
        },
        {
         "dtype": "int64",
         "name": "bilheteria_ajustada_inflacao",
         "stats": {
          "histogram": [
           {
            "bin_end": 1351443182.1,
            "bin_start": 920608730,
            "count": 2
           },
           {
            "bin_end": 1782277634.2,
            "bin_start": 1351443182.1,
            "count": 0
           },
           {
            "bin_end": 2213112086.3,
            "bin_start": 1782277634.2,
            "count": 2
           },
           {
            "bin_end": 2643946538.4,
            "bin_start": 2213112086.3,
            "count": 0
           },
           {
            "bin_end": 3074780990.5,
            "bin_start": 2643946538.4,
            "count": 0
           },
           {
            "bin_end": 3505615442.6000004,
            "bin_start": 3074780990.5,
            "count": 0
           },
           {
            "bin_end": 3936449894.7000003,
            "bin_start": 3505615442.6000004,
            "count": 0
           },
           {
            "bin_end": 4367284346.8,
            "bin_start": 3936449894.7000003,
            "count": 0
           },
           {
            "bin_end": 4798118798.9,
            "bin_start": 4367284346.8,
            "count": 0
           },
           {
            "bin_end": 5228953251,
            "bin_start": 4798118798.9,
            "count": 1
           }
          ],
          "max": "5228953251",
          "min": "920608730",
          "nan_count": 0,
          "unique_count": 5
         }
        },
        {
         "dtype": "int64",
         "name": "bilheteria_milionaria",
         "stats": {
          "histogram": [
           {
            "bin_end": 5866397167.9,
            "bin_start": 5228953251,
            "count": 1
           },
           {
            "bin_end": 6503841084.8,
            "bin_start": 5866397167.9,
            "count": 0
           },
           {
            "bin_end": 7141285001.7,
            "bin_start": 6503841084.8,
            "count": 0
           },
           {
            "bin_end": 7778728918.6,
            "bin_start": 7141285001.7,
            "count": 1
           },
           {
            "bin_end": 8416172835.5,
            "bin_start": 7778728918.6,
            "count": 0
           },
           {
            "bin_end": 9053616752.4,
            "bin_start": 8416172835.5,
            "count": 0
           },
           {
            "bin_end": 9691060669.3,
            "bin_start": 9053616752.4,
            "count": 1
           },
           {
            "bin_end": 10328504586.2,
            "bin_start": 9691060669.3,
            "count": 0
           },
           {
            "bin_end": 10965948503.099998,
            "bin_start": 10328504586.2,
            "count": 1
           },
           {
            "bin_end": 11603392420,
            "bin_start": 10965948503.099998,
            "count": 1
           }
          ],
          "max": "11603392420",
          "min": "5228953251",
          "nan_count": 0,
          "unique_count": 5
         }
        },
        {
         "dtype": "int64",
         "name": "_deepnote_index_column"
        }
       ],
       "row_count": 5,
       "rows": [
        {
         "_deepnote_index_column": 0,
         "bilheteria_ajustada_inflacao": 5228953251,
         "bilheteria_bruta": 184925485,
         "bilheteria_milionaria": 5228953251,
         "classificacao_mpaa": "G",
         "dt_lancamento": "1937-12-21T00:00:00.000000",
         "genero": "Musical",
         "tit_do_filme": "Snow White and the Seven Dwarfs"
        },
        {
         "_deepnote_index_column": 1,
         "bilheteria_ajustada_inflacao": 2188229052,
         "bilheteria_bruta": 84300000,
         "bilheteria_milionaria": 7417182303,
         "classificacao_mpaa": "G",
         "dt_lancamento": "1940-02-09T00:00:00.000000",
         "genero": "Adventure",
         "tit_do_filme": "Pinocchio"
        },
        {
         "_deepnote_index_column": 2,
         "bilheteria_ajustada_inflacao": 2187090808,
         "bilheteria_bruta": 83320000,
         "bilheteria_milionaria": 9604273111,
         "classificacao_mpaa": "G",
         "dt_lancamento": "1940-11-13T00:00:00.000000",
         "genero": "Musical",
         "tit_do_filme": "Fantasia"
        },
        {
         "_deepnote_index_column": 3,
         "bilheteria_ajustada_inflacao": 1078510579,
         "bilheteria_bruta": 65000000,
         "bilheteria_milionaria": 10682783690,
         "classificacao_mpaa": "G",
         "dt_lancamento": "1946-11-12T00:00:00.000000",
         "genero": "Adventure",
         "tit_do_filme": "Song of the South"
        },
        {
         "_deepnote_index_column": 4,
         "bilheteria_ajustada_inflacao": 920608730,
         "bilheteria_bruta": 85000000,
         "bilheteria_milionaria": 11603392420,
         "classificacao_mpaa": "G",
         "dt_lancamento": "1950-02-15T00:00:00.000000",
         "genero": "Drama",
         "tit_do_filme": "Cinderella"
        }
       ]
      },
      "text/html": [
       "<div>\n",
       "<style scoped>\n",
       "    .dataframe tbody tr th:only-of-type {\n",
       "        vertical-align: middle;\n",
       "    }\n",
       "\n",
       "    .dataframe tbody tr th {\n",
       "        vertical-align: top;\n",
       "    }\n",
       "\n",
       "    .dataframe thead th {\n",
       "        text-align: right;\n",
       "    }\n",
       "</style>\n",
       "<table border=\"1\" class=\"dataframe\">\n",
       "  <thead>\n",
       "    <tr style=\"text-align: right;\">\n",
       "      <th></th>\n",
       "      <th>tit_do_filme</th>\n",
       "      <th>dt_lancamento</th>\n",
       "      <th>genero</th>\n",
       "      <th>classificacao_mpaa</th>\n",
       "      <th>bilheteria_bruta</th>\n",
       "      <th>bilheteria_ajustada_inflacao</th>\n",
       "      <th>bilheteria_milionaria</th>\n",
       "    </tr>\n",
       "  </thead>\n",
       "  <tbody>\n",
       "    <tr>\n",
       "      <th>0</th>\n",
       "      <td>Snow White and the Seven Dwarfs</td>\n",
       "      <td>1937-12-21</td>\n",
       "      <td>Musical</td>\n",
       "      <td>G</td>\n",
       "      <td>184925485</td>\n",
       "      <td>5228953251</td>\n",
       "      <td>5228953251</td>\n",
       "    </tr>\n",
       "    <tr>\n",
       "      <th>1</th>\n",
       "      <td>Pinocchio</td>\n",
       "      <td>1940-02-09</td>\n",
       "      <td>Adventure</td>\n",
       "      <td>G</td>\n",
       "      <td>84300000</td>\n",
       "      <td>2188229052</td>\n",
       "      <td>7417182303</td>\n",
       "    </tr>\n",
       "    <tr>\n",
       "      <th>2</th>\n",
       "      <td>Fantasia</td>\n",
       "      <td>1940-11-13</td>\n",
       "      <td>Musical</td>\n",
       "      <td>G</td>\n",
       "      <td>83320000</td>\n",
       "      <td>2187090808</td>\n",
       "      <td>9604273111</td>\n",
       "    </tr>\n",
       "    <tr>\n",
       "      <th>3</th>\n",
       "      <td>Song of the South</td>\n",
       "      <td>1946-11-12</td>\n",
       "      <td>Adventure</td>\n",
       "      <td>G</td>\n",
       "      <td>65000000</td>\n",
       "      <td>1078510579</td>\n",
       "      <td>10682783690</td>\n",
       "    </tr>\n",
       "    <tr>\n",
       "      <th>4</th>\n",
       "      <td>Cinderella</td>\n",
       "      <td>1950-02-15</td>\n",
       "      <td>Drama</td>\n",
       "      <td>G</td>\n",
       "      <td>85000000</td>\n",
       "      <td>920608730</td>\n",
       "      <td>11603392420</td>\n",
       "    </tr>\n",
       "  </tbody>\n",
       "</table>\n",
       "</div>"
      ],
      "text/plain": [
       "                      tit_do_filme dt_lancamento     genero  \\\n",
       "0  Snow White and the Seven Dwarfs    1937-12-21    Musical   \n",
       "1                        Pinocchio    1940-02-09  Adventure   \n",
       "2                         Fantasia    1940-11-13    Musical   \n",
       "3                Song of the South    1946-11-12  Adventure   \n",
       "4                       Cinderella    1950-02-15      Drama   \n",
       "\n",
       "  classificacao_mpaa  bilheteria_bruta  bilheteria_ajustada_inflacao  \\\n",
       "0                  G         184925485                    5228953251   \n",
       "1                  G          84300000                    2188229052   \n",
       "2                  G          83320000                    2187090808   \n",
       "3                  G          65000000                    1078510579   \n",
       "4                  G          85000000                     920608730   \n",
       "\n",
       "   bilheteria_milionaria  \n",
       "0             5228953251  \n",
       "1             7417182303  \n",
       "2             9604273111  \n",
       "3            10682783690  \n",
       "4            11603392420  "
      ]
     },
     "execution_count": 42,
     "metadata": {},
     "output_type": "execute_result"
    }
   ],
   "source": [
    "dados.head()"
   ]
  },
  {
   "cell_type": "markdown",
   "id": "df39b609",
   "metadata": {
    "cell_id": "00035-be53b717-861c-418d-bebf-6d57a7175975",
    "deepnote_cell_height": 51.899993896484375,
    "deepnote_cell_type": "markdown"
   },
   "source": [
    "11 - Veja a coluna que você criou"
   ]
  },
  {
   "cell_type": "code",
   "execution_count": 43,
   "id": "c4af987b",
   "metadata": {
    "cell_id": "00036-b80ba5ae-7356-4409-81b8-aad36abcb98c",
    "deepnote_cell_height": 328.25,
    "deepnote_cell_type": "code",
    "deepnote_output_heights": [
     232
    ],
    "deepnote_to_be_reexecuted": false,
    "execution_millis": 3,
    "execution_start": 1654817995658,
    "source_hash": "811b1934"
   },
   "outputs": [
    {
     "data": {
      "text/plain": [
       "0       5228953251\n",
       "1       7417182303\n",
       "2       9604273111\n",
       "3      10682783690\n",
       "4      11603392420\n",
       "          ...     \n",
       "574    67746527720\n",
       "575    67755402109\n",
       "576    67987935032\n",
       "577    68234017061\n",
       "578    68763500997\n",
       "Name: bilheteria_milionaria, Length: 579, dtype: int64"
      ]
     },
     "execution_count": 43,
     "metadata": {},
     "output_type": "execute_result"
    }
   ],
   "source": [
    "dados['bilheteria_milionaria']"
   ]
  },
  {
   "cell_type": "markdown",
   "id": "4394f8ee",
   "metadata": {
    "cell_id": "00037-6219952f-bc06-44e3-9d5d-c72d3cc99ef6",
    "deepnote_cell_height": 51.899993896484375,
    "deepnote_cell_type": "markdown"
   },
   "source": [
    "12 - Selecione os filmes de aventura e atribua a uma variável chamada filmes_aventura"
   ]
  },
  {
   "cell_type": "code",
   "execution_count": 45,
   "id": "52eca40b",
   "metadata": {
    "cell_id": "e715f7582d8a47f0931e66397a00ef4a",
    "deepnote_cell_height": 348.25,
    "deepnote_cell_type": "code",
    "deepnote_output_heights": [
     252
    ],
    "deepnote_to_be_reexecuted": false,
    "execution_millis": 337,
    "execution_start": 1654818116714,
    "source_hash": "21654b7a",
    "tags": []
   },
   "outputs": [
    {
     "data": {
      "text/plain": [
       "Comedy                 182\n",
       "Adventure              129\n",
       "Drama                  114\n",
       "Action                  40\n",
       "Thriller/Suspense       24\n",
       "Romantic Comedy         23\n",
       "Musical                 16\n",
       "Documentary             16\n",
       "Western                  7\n",
       "Horror                   6\n",
       "Black Comedy             3\n",
       "Concert/Performance      2\n",
       "Name: genero, dtype: int64"
      ]
     },
     "execution_count": 45,
     "metadata": {},
     "output_type": "execute_result"
    }
   ],
   "source": [
    "dados['genero'].value_counts()"
   ]
  },
  {
   "cell_type": "code",
   "execution_count": 44,
   "id": "f63a4fb0",
   "metadata": {
    "cell_id": "00038-2e3b53b7-22f6-4b56-bb55-d4ebebcc630b",
    "deepnote_cell_height": 80.5,
    "deepnote_cell_type": "code",
    "deepnote_to_be_reexecuted": false,
    "execution_millis": 1,
    "execution_start": 1654818089407,
    "source_hash": "a20fcb39"
   },
   "outputs": [],
   "source": [
    "filmes_aventura = dados.loc[dados['genero'] == 'Adventure']"
   ]
  },
  {
   "cell_type": "markdown",
   "id": "43af31c2",
   "metadata": {
    "cell_id": "00039-4c93a618-6ffc-48b3-a0d1-9822521fd92d",
    "deepnote_cell_height": 51.899993896484375,
    "deepnote_cell_type": "markdown"
   },
   "source": [
    "13 - Veja as primeiras linha desse novo dataset:"
   ]
  },
  {
   "cell_type": "code",
   "execution_count": 46,
   "id": "7a706733",
   "metadata": {
    "cell_id": "00040-78314876-4d34-4ba4-9fef-345087675248",
    "deepnote_cell_height": 394,
    "deepnote_cell_type": "code",
    "deepnote_to_be_reexecuted": false,
    "execution_millis": 7,
    "execution_start": 1654818132402,
    "source_hash": "fb9bedc7"
   },
   "outputs": [
    {
     "data": {
      "application/vnd.deepnote.dataframe.v3+json": {
       "column_count": 7,
       "columns": [
        {
         "dtype": "object",
         "name": "tit_do_filme",
         "stats": {
          "categories": [
           {
            "count": 1,
            "name": "Pinocchio"
           },
           {
            "count": 1,
            "name": "Song of the South"
           },
           {
            "count": 3,
            "name": "3 others"
           }
          ],
          "nan_count": 0,
          "unique_count": 5
         }
        },
        {
         "dtype": "datetime64[ns]",
         "name": "dt_lancamento",
         "stats": {
          "histogram": [
           {
            "bin_end": -825482880000000000,
            "bin_start": -943401600000000000,
            "count": 1
           },
           {
            "bin_end": -707564160000000000,
            "bin_start": -825482880000000000,
            "count": 1
           },
           {
            "bin_end": -589645440000000000,
            "bin_start": -707564160000000000,
            "count": 0
           },
           {
            "bin_end": -471726720000000000,
            "bin_start": -589645440000000000,
            "count": 1
           },
           {
            "bin_end": -353808000000000000,
            "bin_start": -471726720000000000,
            "count": 0
           },
           {
            "bin_end": -235889280000000000,
            "bin_start": -353808000000000000,
            "count": 0
           },
           {
            "bin_end": -117970560000000000,
            "bin_start": -235889280000000000,
            "count": 1
           },
           {
            "bin_end": -51840000000000,
            "bin_start": -117970560000000000,
            "count": 0
           },
           {
            "bin_end": 117866880000000000,
            "bin_start": -51840000000000,
            "count": 0
           },
           {
            "bin_end": 235785600000000000,
            "bin_start": 117866880000000000,
            "count": 1
           }
          ],
          "max": "1977-06-22 00:00:00",
          "min": "1940-02-09 00:00:00",
          "nan_count": 0,
          "unique_count": 5
         }
        },
        {
         "dtype": "object",
         "name": "genero",
         "stats": {
          "categories": [
           {
            "count": 5,
            "name": "Adventure"
           }
          ],
          "nan_count": 0,
          "unique_count": 1
         }
        },
        {
         "dtype": "object",
         "name": "classificacao_mpaa",
         "stats": {
          "categories": [
           {
            "count": 2,
            "name": "G"
           },
           {
            "count": 3,
            "name": "Missing"
           }
          ],
          "nan_count": 3,
          "unique_count": 1
         }
        },
        {
         "dtype": "int64",
         "name": "bilheteria_bruta",
         "stats": {
          "histogram": [
           {
            "bin_end": 28394117.7,
            "bin_start": 22182353,
            "count": 2
           },
           {
            "bin_end": 34605882.4,
            "bin_start": 28394117.7,
            "count": 0
           },
           {
            "bin_end": 40817647.1,
            "bin_start": 34605882.4,
            "count": 0
           },
           {
            "bin_end": 47029411.8,
            "bin_start": 40817647.1,
            "count": 0
           },
           {
            "bin_end": 53241176.5,
            "bin_start": 47029411.8,
            "count": 1
           },
           {
            "bin_end": 59452941.2,
            "bin_start": 53241176.5,
            "count": 0
           },
           {
            "bin_end": 65664705.9,
            "bin_start": 59452941.2,
            "count": 1
           },
           {
            "bin_end": 71876470.6,
            "bin_start": 65664705.9,
            "count": 0
           },
           {
            "bin_end": 78088235.30000001,
            "bin_start": 71876470.6,
            "count": 0
           },
           {
            "bin_end": 84300000,
            "bin_start": 78088235.30000001,
            "count": 1
           }
          ],
          "max": "84300000",
          "min": "22182353",
          "nan_count": 0,
          "unique_count": 5
         }
        },
        {
         "dtype": "int64",
         "name": "bilheteria_ajustada_inflacao",
         "stats": {
          "histogram": [
           {
            "bin_end": 357306655.8,
            "bin_start": 153870834,
            "count": 2
           },
           {
            "bin_end": 560742477.6,
            "bin_start": 357306655.8,
            "count": 1
           },
           {
            "bin_end": 764178299.4000001,
            "bin_start": 560742477.6,
            "count": 0
           },
           {
            "bin_end": 967614121.2,
            "bin_start": 764178299.4000001,
            "count": 0
           },
           {
            "bin_end": 1171049943,
            "bin_start": 967614121.2,
            "count": 1
           },
           {
            "bin_end": 1374485764.8000002,
            "bin_start": 1171049943,
            "count": 0
           },
           {
            "bin_end": 1577921586.6000001,
            "bin_start": 1374485764.8000002,
            "count": 0
           },
           {
            "bin_end": 1781357408.4,
            "bin_start": 1577921586.6000001,
            "count": 0
           },
           {
            "bin_end": 1984793230.2,
            "bin_start": 1781357408.4,
            "count": 0
           },
           {
            "bin_end": 2188229052,
            "bin_start": 1984793230.2,
            "count": 1
           }
          ],
          "max": "2188229052",
          "min": "153870834",
          "nan_count": 0,
          "unique_count": 5
         }
        },
        {
         "dtype": "int64",
         "name": "bilheteria_milionaria",
         "stats": {
          "histogram": [
           {
            "bin_end": 8397006492.7,
            "bin_start": 7417182303,
            "count": 1
           },
           {
            "bin_end": 9376830682.4,
            "bin_start": 8397006492.7,
            "count": 0
           },
           {
            "bin_end": 10356654872.1,
            "bin_start": 9376830682.4,
            "count": 0
           },
           {
            "bin_end": 11336479061.8,
            "bin_start": 10356654872.1,
            "count": 1
           },
           {
            "bin_end": 12316303251.5,
            "bin_start": 11336479061.8,
            "count": 1
           },
           {
            "bin_end": 13296127441.2,
            "bin_start": 12316303251.5,
            "count": 0
           },
           {
            "bin_end": 14275951630.900002,
            "bin_start": 13296127441.2,
            "count": 0
           },
           {
            "bin_end": 15255775820.6,
            "bin_start": 14275951630.900002,
            "count": 0
           },
           {
            "bin_end": 16235600010.300001,
            "bin_start": 15255775820.6,
            "count": 1
           },
           {
            "bin_end": 17215424200,
            "bin_start": 16235600010.300001,
            "count": 1
           }
          ],
          "max": "17215424200",
          "min": "7417182303",
          "nan_count": 0,
          "unique_count": 5
         }
        },
        {
         "dtype": "int64",
         "name": "_deepnote_index_column"
        }
       ],
       "row_count": 5,
       "rows": [
        {
         "_deepnote_index_column": 1,
         "bilheteria_ajustada_inflacao": 2188229052,
         "bilheteria_bruta": 84300000,
         "bilheteria_milionaria": 7417182303,
         "classificacao_mpaa": "G",
         "dt_lancamento": "1940-02-09T00:00:00.000000",
         "genero": "Adventure",
         "tit_do_filme": "Pinocchio"
        },
        {
         "_deepnote_index_column": 3,
         "bilheteria_ajustada_inflacao": 1078510579,
         "bilheteria_bruta": 65000000,
         "bilheteria_milionaria": 10682783690,
         "classificacao_mpaa": "G",
         "dt_lancamento": "1946-11-12T00:00:00.000000",
         "genero": "Adventure",
         "tit_do_filme": "Song of the South"
        },
        {
         "_deepnote_index_column": 5,
         "bilheteria_ajustada_inflacao": 528279994,
         "bilheteria_bruta": 28200000,
         "bilheteria_milionaria": 12131672414,
         "classificacao_mpaa": "nan",
         "dt_lancamento": "1954-12-23T00:00:00.000000",
         "genero": "Adventure",
         "tit_do_filme": "20,000 Leagues Under the Sea"
        },
        {
         "_deepnote_index_column": 12,
         "bilheteria_ajustada_inflacao": 153870834,
         "bilheteria_bruta": 22182353,
         "bilheteria_milionaria": 15450472960,
         "classificacao_mpaa": "nan",
         "dt_lancamento": "1963-12-25T00:00:00.000000",
         "genero": "Adventure",
         "tit_do_filme": "The Sword in the Stone"
        },
        {
         "_deepnote_index_column": 21,
         "bilheteria_ajustada_inflacao": 159743914,
         "bilheteria_bruta": 48775599,
         "bilheteria_milionaria": 17215424200,
         "classificacao_mpaa": "nan",
         "dt_lancamento": "1977-06-22T00:00:00.000000",
         "genero": "Adventure",
         "tit_do_filme": "The Rescuers"
        }
       ]
      },
      "text/html": [
       "<div>\n",
       "<style scoped>\n",
       "    .dataframe tbody tr th:only-of-type {\n",
       "        vertical-align: middle;\n",
       "    }\n",
       "\n",
       "    .dataframe tbody tr th {\n",
       "        vertical-align: top;\n",
       "    }\n",
       "\n",
       "    .dataframe thead th {\n",
       "        text-align: right;\n",
       "    }\n",
       "</style>\n",
       "<table border=\"1\" class=\"dataframe\">\n",
       "  <thead>\n",
       "    <tr style=\"text-align: right;\">\n",
       "      <th></th>\n",
       "      <th>tit_do_filme</th>\n",
       "      <th>dt_lancamento</th>\n",
       "      <th>genero</th>\n",
       "      <th>classificacao_mpaa</th>\n",
       "      <th>bilheteria_bruta</th>\n",
       "      <th>bilheteria_ajustada_inflacao</th>\n",
       "      <th>bilheteria_milionaria</th>\n",
       "    </tr>\n",
       "  </thead>\n",
       "  <tbody>\n",
       "    <tr>\n",
       "      <th>1</th>\n",
       "      <td>Pinocchio</td>\n",
       "      <td>1940-02-09</td>\n",
       "      <td>Adventure</td>\n",
       "      <td>G</td>\n",
       "      <td>84300000</td>\n",
       "      <td>2188229052</td>\n",
       "      <td>7417182303</td>\n",
       "    </tr>\n",
       "    <tr>\n",
       "      <th>3</th>\n",
       "      <td>Song of the South</td>\n",
       "      <td>1946-11-12</td>\n",
       "      <td>Adventure</td>\n",
       "      <td>G</td>\n",
       "      <td>65000000</td>\n",
       "      <td>1078510579</td>\n",
       "      <td>10682783690</td>\n",
       "    </tr>\n",
       "    <tr>\n",
       "      <th>5</th>\n",
       "      <td>20,000 Leagues Under the Sea</td>\n",
       "      <td>1954-12-23</td>\n",
       "      <td>Adventure</td>\n",
       "      <td>NaN</td>\n",
       "      <td>28200000</td>\n",
       "      <td>528279994</td>\n",
       "      <td>12131672414</td>\n",
       "    </tr>\n",
       "    <tr>\n",
       "      <th>12</th>\n",
       "      <td>The Sword in the Stone</td>\n",
       "      <td>1963-12-25</td>\n",
       "      <td>Adventure</td>\n",
       "      <td>NaN</td>\n",
       "      <td>22182353</td>\n",
       "      <td>153870834</td>\n",
       "      <td>15450472960</td>\n",
       "    </tr>\n",
       "    <tr>\n",
       "      <th>21</th>\n",
       "      <td>The Rescuers</td>\n",
       "      <td>1977-06-22</td>\n",
       "      <td>Adventure</td>\n",
       "      <td>NaN</td>\n",
       "      <td>48775599</td>\n",
       "      <td>159743914</td>\n",
       "      <td>17215424200</td>\n",
       "    </tr>\n",
       "  </tbody>\n",
       "</table>\n",
       "</div>"
      ],
      "text/plain": [
       "                    tit_do_filme dt_lancamento     genero classificacao_mpaa  \\\n",
       "1                      Pinocchio    1940-02-09  Adventure                  G   \n",
       "3              Song of the South    1946-11-12  Adventure                  G   \n",
       "5   20,000 Leagues Under the Sea    1954-12-23  Adventure                NaN   \n",
       "12        The Sword in the Stone    1963-12-25  Adventure                NaN   \n",
       "21                  The Rescuers    1977-06-22  Adventure                NaN   \n",
       "\n",
       "    bilheteria_bruta  bilheteria_ajustada_inflacao  bilheteria_milionaria  \n",
       "1           84300000                    2188229052             7417182303  \n",
       "3           65000000                    1078510579            10682783690  \n",
       "5           28200000                     528279994            12131672414  \n",
       "12          22182353                     153870834            15450472960  \n",
       "21          48775599                     159743914            17215424200  "
      ]
     },
     "execution_count": 46,
     "metadata": {},
     "output_type": "execute_result"
    }
   ],
   "source": [
    "filmes_aventura.head()"
   ]
  },
  {
   "cell_type": "markdown",
   "id": "2abe29d4",
   "metadata": {
    "cell_id": "00041-c8117db7-b599-4440-a42b-75a8df63f93b",
    "deepnote_cell_height": 51.899993896484375,
    "deepnote_cell_type": "markdown"
   },
   "source": [
    "14 - Conte o número de filmes por genero e ordene"
   ]
  },
  {
   "cell_type": "code",
   "execution_count": 48,
   "id": "9f5045d1",
   "metadata": {
    "cell_id": "00042-e3337327-42ab-42bf-90db-3505b0c215f7",
    "deepnote_cell_height": 348.25,
    "deepnote_cell_type": "code",
    "deepnote_output_heights": [
     252
    ],
    "deepnote_to_be_reexecuted": false,
    "execution_millis": 18,
    "execution_start": 1654818250293,
    "source_hash": "f9d8e17b"
   },
   "outputs": [
    {
     "data": {
      "text/plain": [
       "Concert/Performance      2\n",
       "Black Comedy             3\n",
       "Horror                   6\n",
       "Western                  7\n",
       "Musical                 16\n",
       "Documentary             16\n",
       "Romantic Comedy         23\n",
       "Thriller/Suspense       24\n",
       "Action                  40\n",
       "Drama                  114\n",
       "Adventure              129\n",
       "Comedy                 182\n",
       "Name: genero, dtype: int64"
      ]
     },
     "execution_count": 48,
     "metadata": {},
     "output_type": "execute_result"
    }
   ],
   "source": [
    "dados['genero'].value_counts(ascending=True)"
   ]
  },
  {
   "cell_type": "markdown",
   "id": "5cd0ff7b",
   "metadata": {
    "cell_id": "00043-b3e73ed9-c2a5-4cb3-9a28-e5077f17af44",
    "deepnote_cell_height": 51.899993896484375,
    "deepnote_cell_type": "markdown"
   },
   "source": [
    "15 - Calcule agora a proporção de filmes por genero e ordene"
   ]
  },
  {
   "cell_type": "code",
   "execution_count": 51,
   "id": "7b350e7b",
   "metadata": {
    "cell_id": "d301b8ec34634d719d0debaf58dcc181",
    "deepnote_cell_height": 252.25,
    "deepnote_cell_type": "code",
    "deepnote_output_heights": [
     156
    ],
    "deepnote_to_be_reexecuted": false,
    "execution_millis": 7,
    "execution_start": 1654818331912,
    "source_hash": "9c35a85b",
    "tags": []
   },
   "outputs": [
    {
     "data": {
      "text/plain": [
       "tit_do_filme                     0\n",
       "dt_lancamento                    0\n",
       "genero                          17\n",
       "classificacao_mpaa              56\n",
       "bilheteria_bruta                 0\n",
       "bilheteria_ajustada_inflacao     0\n",
       "bilheteria_milionaria            0\n",
       "dtype: int64"
      ]
     },
     "execution_count": 51,
     "metadata": {},
     "output_type": "execute_result"
    }
   ],
   "source": [
    "dados.isnull().sum()"
   ]
  },
  {
   "cell_type": "code",
   "execution_count": 53,
   "id": "d415f175",
   "metadata": {
    "cell_id": "00044-016e9264-5115-47a5-a5c0-d4e79225c3db",
    "deepnote_cell_height": 365.41668701171875,
    "deepnote_cell_type": "code",
    "deepnote_to_be_reexecuted": false,
    "execution_millis": 447,
    "execution_start": 1654818364872,
    "source_hash": "2360d0b6"
   },
   "outputs": [
    {
     "name": "stdout",
     "output_type": "stream",
     "text": [
      "<class 'pandas.core.frame.DataFrame'>\n",
      "RangeIndex: 579 entries, 0 to 578\n",
      "Data columns (total 7 columns):\n",
      " #   Column                        Non-Null Count  Dtype         \n",
      "---  ------                        --------------  -----         \n",
      " 0   tit_do_filme                  579 non-null    object        \n",
      " 1   dt_lancamento                 579 non-null    datetime64[ns]\n",
      " 2   genero                        562 non-null    object        \n",
      " 3   classificacao_mpaa            523 non-null    object        \n",
      " 4   bilheteria_bruta              579 non-null    int64         \n",
      " 5   bilheteria_ajustada_inflacao  579 non-null    int64         \n",
      " 6   bilheteria_milionaria         579 non-null    int64         \n",
      "dtypes: datetime64[ns](1), int64(3), object(3)\n",
      "memory usage: 31.8+ KB\n"
     ]
    }
   ],
   "source": [
    "dados.info()"
   ]
  },
  {
   "cell_type": "code",
   "execution_count": 60,
   "id": "0f3a1d0c",
   "metadata": {
    "cell_id": "fb19e6ae0cfc4e32a68e76dcb6d773ee",
    "deepnote_cell_height": 80.5,
    "deepnote_cell_type": "code",
    "deepnote_output_heights": [
     21
    ],
    "deepnote_to_be_reexecuted": false,
    "execution_millis": 4,
    "execution_start": 1654819087119,
    "source_hash": "aa1f447e",
    "tags": []
   },
   "outputs": [],
   "source": [
    "proporcao = (dados['genero'].value_counts()/562)*100"
   ]
  },
  {
   "cell_type": "code",
   "execution_count": 68,
   "id": "9c2d2bae",
   "metadata": {
    "cell_id": "9fe757625a5247749e4cf05e00c774e7",
    "deepnote_cell_height": 80.5,
    "deepnote_cell_type": "code",
    "deepnote_to_be_reexecuted": false,
    "execution_millis": 1,
    "execution_start": 1654819253330,
    "source_hash": "600afeb6",
    "tags": []
   },
   "outputs": [],
   "source": [
    "proporcao = (dados['genero'].value_counts(normalize=True))*100"
   ]
  },
  {
   "cell_type": "code",
   "execution_count": 69,
   "id": "da9f5e78",
   "metadata": {
    "cell_id": "b1cb4311f21746b38aa5e8b881fc2e1b",
    "deepnote_cell_height": 348.25,
    "deepnote_cell_type": "code",
    "deepnote_output_heights": [
     252
    ],
    "deepnote_to_be_reexecuted": false,
    "execution_millis": 1140,
    "execution_start": 1654819257731,
    "source_hash": "e8ba2204",
    "tags": []
   },
   "outputs": [
    {
     "data": {
      "text/plain": [
       "Comedy                 32.384342\n",
       "Adventure              22.953737\n",
       "Drama                  20.284698\n",
       "Action                  7.117438\n",
       "Thriller/Suspense       4.270463\n",
       "Romantic Comedy         4.092527\n",
       "Musical                 2.846975\n",
       "Documentary             2.846975\n",
       "Western                 1.245552\n",
       "Horror                  1.067616\n",
       "Black Comedy            0.533808\n",
       "Concert/Performance     0.355872\n",
       "Name: genero, dtype: float64"
      ]
     },
     "execution_count": 69,
     "metadata": {},
     "output_type": "execute_result"
    }
   ],
   "source": [
    "proporcao"
   ]
  },
  {
   "cell_type": "markdown",
   "id": "1f28ba5c",
   "metadata": {
    "cell_id": "00045-39c966c8-e20a-4143-86de-01f694986fe5",
    "deepnote_cell_height": 51.899993896484375,
    "deepnote_cell_type": "markdown"
   },
   "source": [
    "Estatísticas resumidas agrupadas"
   ]
  },
  {
   "cell_type": "markdown",
   "id": "e7545129",
   "metadata": {
    "cell_id": "00046-b7b0dc45-a303-4915-8a0b-d1fc74577ebb",
    "deepnote_cell_height": 51.899993896484375,
    "deepnote_cell_type": "markdown"
   },
   "source": [
    "16 - Calcule o total da \"bilheteria_bruta\""
   ]
  },
  {
   "cell_type": "code",
   "execution_count": 70,
   "id": "0c7efae9",
   "metadata": {
    "cell_id": "00047-4f75ef18-fdf0-4f24-8fd8-119e88e41958",
    "deepnote_cell_height": 117.25,
    "deepnote_cell_type": "code",
    "deepnote_output_heights": [
     21
    ],
    "deepnote_to_be_reexecuted": false,
    "execution_millis": 9,
    "execution_start": 1654819539346,
    "source_hash": "dc2d720c"
   },
   "outputs": [
    {
     "data": {
      "text/plain": [
       "37462335553"
      ]
     },
     "execution_count": 70,
     "metadata": {},
     "output_type": "execute_result"
    }
   ],
   "source": [
    "dados['bilheteria_bruta'].sum()"
   ]
  },
  {
   "cell_type": "markdown",
   "id": "ece2f9da",
   "metadata": {
    "cell_id": "00048-93069bc3-2aec-448b-bb13-98449808a2b2",
    "deepnote_cell_height": 51.899993896484375,
    "deepnote_cell_type": "markdown"
   },
   "source": [
    "17 - Visualize os tipos de generos que tem nesse dataset:"
   ]
  },
  {
   "cell_type": "code",
   "execution_count": 71,
   "id": "690ede59",
   "metadata": {
    "cell_id": "848fc51b8efc4934853946b5e6867f3a",
    "deepnote_cell_height": 156.25,
    "deepnote_cell_type": "code",
    "deepnote_output_heights": [
     60
    ],
    "deepnote_to_be_reexecuted": false,
    "execution_millis": 4,
    "execution_start": 1654819594018,
    "source_hash": "bea51c83",
    "tags": []
   },
   "outputs": [
    {
     "data": {
      "text/plain": [
       "array(['Musical', 'Adventure', 'Drama', 'Comedy', nan, 'Action', 'Horror',\n",
       "       'Romantic Comedy', 'Thriller/Suspense', 'Western', 'Black Comedy',\n",
       "       'Documentary', 'Concert/Performance'], dtype=object)"
      ]
     },
     "execution_count": 71,
     "metadata": {},
     "output_type": "execute_result"
    }
   ],
   "source": [
    "dados['genero'].unique()"
   ]
  },
  {
   "cell_type": "markdown",
   "id": "081e5bd3",
   "metadata": {
    "cell_id": "00050-1b1289d6-0228-4658-bf10-b7b20c53edea",
    "deepnote_cell_height": 51.899993896484375,
    "deepnote_cell_type": "markdown"
   },
   "source": [
    "18 - Calcule o total da bilheteria_bruta pelo genero 'Drama'"
   ]
  },
  {
   "cell_type": "code",
   "execution_count": 73,
   "id": "60925201",
   "metadata": {
    "cell_id": "00051-537aa9ae-478c-486f-9aed-03c2a268636c",
    "deepnote_cell_height": 80.5,
    "deepnote_cell_type": "code",
    "deepnote_to_be_reexecuted": false,
    "execution_millis": 4,
    "execution_start": 1654819743691,
    "source_hash": "ffb0a780"
   },
   "outputs": [],
   "source": [
    "dados.loc[dados['genero'] == 'Drama']['bilheteria_bruta'].sum()"
   ]
  },
  {
   "cell_type": "markdown",
   "id": "005eedcf",
   "metadata": {
    "cell_id": "00052-f7215f0c-ab3c-45c7-8fd2-737a86c13d59",
    "deepnote_cell_height": 51.899993896484375,
    "deepnote_cell_type": "markdown"
   },
   "source": [
    "19 - Calcule o total da bilheteria_bruta pelo genero Comedia 'Comedy'"
   ]
  },
  {
   "cell_type": "code",
   "execution_count": 80,
   "id": "618134b9",
   "metadata": {
    "cell_id": "00053-79e68ac9-4b2b-4140-82ff-f75b29286683",
    "deepnote_cell_height": 117.25,
    "deepnote_cell_type": "code",
    "deepnote_output_heights": [
     21
    ],
    "deepnote_to_be_reexecuted": false,
    "execution_millis": 5,
    "execution_start": 1654819912572,
    "source_hash": "e6da122c"
   },
   "outputs": [
    {
     "data": {
      "text/plain": [
       "4106972970"
      ]
     },
     "execution_count": 80,
     "metadata": {},
     "output_type": "execute_result"
    }
   ],
   "source": [
    "dados.loc[dados['genero'] == 'Comedy']['bilheteria_bruta'].sum()"
   ]
  },
  {
   "cell_type": "markdown",
   "id": "eecaae14",
   "metadata": {
    "cell_id": "00054-41021b34-f36b-447f-bfa4-00a209992d9c",
    "deepnote_cell_height": 51.899993896484375,
    "deepnote_cell_type": "markdown"
   },
   "source": [
    "20 - Calcule o total da bilheteria_bruta pelo genero Ação 'Action'"
   ]
  },
  {
   "cell_type": "code",
   "execution_count": 81,
   "id": "e865ad97",
   "metadata": {
    "cell_id": "00055-03ec0ae0-0ee3-4e9e-8699-3a8a0092f41b",
    "deepnote_cell_height": 117.25,
    "deepnote_cell_type": "code",
    "deepnote_output_heights": [
     21
    ],
    "deepnote_to_be_reexecuted": false,
    "execution_millis": 2,
    "execution_start": 1654819946079,
    "source_hash": "6e13c2e1"
   },
   "outputs": [
    {
     "data": {
      "text/plain": [
       "4184563282"
      ]
     },
     "execution_count": 81,
     "metadata": {},
     "output_type": "execute_result"
    }
   ],
   "source": [
    "dados.loc[dados['genero'] == 'Action']['bilheteria_bruta'].sum()"
   ]
  },
  {
   "cell_type": "markdown",
   "id": "697b107d",
   "metadata": {
    "cell_id": "00056-360e9b64-198b-4e47-8eaf-d68c1fae2be5",
    "deepnote_cell_height": 51.899993896484375,
    "deepnote_cell_type": "markdown"
   },
   "source": [
    "21 -  Obtenha proporção do bilheteria_bruta para os três generos acima."
   ]
  },
  {
   "cell_type": "code",
   "execution_count": 110,
   "id": "9b85309f",
   "metadata": {
    "cell_id": "27c6e8f042e04b669c3e1f00825ab3ab",
    "deepnote_cell_height": 80.5,
    "deepnote_cell_type": "code",
    "deepnote_output_heights": [
     252
    ],
    "deepnote_to_be_reexecuted": false,
    "execution_millis": 4,
    "execution_start": 1654820977346,
    "source_hash": "34ba7d6c",
    "tags": []
   },
   "outputs": [],
   "source": [
    "tres_generos = dados.loc[(dados['genero'] == 'Comedy') | (dados['genero'] == 'Action') | (dados['genero'] == 'Drama')]"
   ]
  },
  {
   "cell_type": "code",
   "execution_count": 115,
   "id": "5e47dc40",
   "metadata": {
    "cell_id": "8162b80e0b7247dd929fb1e4b4597c3d",
    "deepnote_cell_height": 175.25,
    "deepnote_cell_type": "code",
    "deepnote_output_heights": [
     79
    ],
    "deepnote_to_be_reexecuted": false,
    "execution_millis": 70,
    "execution_start": 1654821062162,
    "owner_user_id": "f3b685db-82a0-4f74-9158-9e3d6de2c3bf",
    "source_hash": "fabdd51b",
    "tags": []
   },
   "outputs": [
    {
     "data": {
      "text/plain": [
       "Comedy    54.166667\n",
       "Drama     33.928571\n",
       "Action    11.904762\n",
       "Name: genero, dtype: float64"
      ]
     },
     "execution_count": 115,
     "metadata": {},
     "output_type": "execute_result"
    }
   ],
   "source": [
    "tres_generos['genero'].value_counts(normalize=True)*100"
   ]
  },
  {
   "cell_type": "code",
   "execution_count": 95,
   "id": "03fe6d8f",
   "metadata": {
    "cell_id": "00057-dec9c7d8-027f-4d7a-a314-92271c5e9baa",
    "deepnote_cell_height": 80.5,
    "deepnote_cell_type": "code",
    "deepnote_to_be_reexecuted": false,
    "execution_millis": 6,
    "execution_start": 1654820552883,
    "source_hash": "600afeb6"
   },
   "outputs": [],
   "source": [
    " proporcao = (dados['genero'].value_counts(normalize=True))*100"
   ]
  },
  {
   "cell_type": "markdown",
   "id": "002c31b6",
   "metadata": {
    "cell_id": "00058-b00ddebe-f98c-4298-b4e0-298e13837d58",
    "deepnote_cell_height": 51.899993896484375,
    "deepnote_cell_type": "markdown"
   },
   "source": [
    "22 - Importe numpy com o alias np"
   ]
  },
  {
   "cell_type": "code",
   "execution_count": 8,
   "id": "9ce5f502",
   "metadata": {
    "cell_id": "00059-103c73a9-1e66-47ee-85b4-b76278db9083",
    "deepnote_cell_height": 65.5,
    "deepnote_cell_type": "code"
   },
   "outputs": [],
   "source": [
    "import numpy as np"
   ]
  },
  {
   "cell_type": "markdown",
   "id": "1f1ecc44",
   "metadata": {
    "cell_id": "00060-3cae9f3c-24c4-474a-a001-b87114ab24e5",
    "deepnote_cell_height": 88.30000305175781,
    "deepnote_cell_type": "markdown"
   },
   "source": [
    "23 - Para cada genero de filme, agregue a bilheteria_bruta obtendo min, max, média e mediana e imprima o resultado\n",
    "\n",
    "Dica: use numpy para as estatísticas"
   ]
  },
  {
   "cell_type": "code",
   "execution_count": 61,
   "id": "d9d9239c",
   "metadata": {
    "cell_id": "00061-093e909c-f867-4f24-ac3f-6c1c59894715",
    "deepnote_cell_height": 65.5,
    "deepnote_cell_type": "code"
   },
   "outputs": [
    {
     "data": {
      "text/html": [
       "<div>\n",
       "<style scoped>\n",
       "    .dataframe tbody tr th:only-of-type {\n",
       "        vertical-align: middle;\n",
       "    }\n",
       "\n",
       "    .dataframe tbody tr th {\n",
       "        vertical-align: top;\n",
       "    }\n",
       "\n",
       "    .dataframe thead th {\n",
       "        text-align: right;\n",
       "    }\n",
       "</style>\n",
       "<table border=\"1\" class=\"dataframe\">\n",
       "  <thead>\n",
       "    <tr style=\"text-align: right;\">\n",
       "      <th></th>\n",
       "      <th>Minimo</th>\n",
       "      <th>Maximo</th>\n",
       "      <th>Media</th>\n",
       "      <th>Mediana</th>\n",
       "    </tr>\n",
       "    <tr>\n",
       "      <th>genero</th>\n",
       "      <th></th>\n",
       "      <th></th>\n",
       "      <th></th>\n",
       "      <th></th>\n",
       "    </tr>\n",
       "  </thead>\n",
       "  <tbody>\n",
       "    <tr>\n",
       "      <th>Action</th>\n",
       "      <td>0</td>\n",
       "      <td>623279547</td>\n",
       "      <td>1.046141e+08</td>\n",
       "      <td>43315244.5</td>\n",
       "    </tr>\n",
       "    <tr>\n",
       "      <th>Adventure</th>\n",
       "      <td>2815</td>\n",
       "      <td>936662225</td>\n",
       "      <td>1.270471e+08</td>\n",
       "      <td>65000000.0</td>\n",
       "    </tr>\n",
       "    <tr>\n",
       "      <th>Black Comedy</th>\n",
       "      <td>17105219</td>\n",
       "      <td>52353636</td>\n",
       "      <td>3.251440e+07</td>\n",
       "      <td>28084357.0</td>\n",
       "    </tr>\n",
       "    <tr>\n",
       "      <th>Comedy</th>\n",
       "      <td>45779</td>\n",
       "      <td>244082982</td>\n",
       "      <td>4.461329e+07</td>\n",
       "      <td>26923500.5</td>\n",
       "    </tr>\n",
       "    <tr>\n",
       "      <th>Concert/Performance</th>\n",
       "      <td>38174685</td>\n",
       "      <td>65281781</td>\n",
       "      <td>5.172823e+07</td>\n",
       "      <td>51728233.0</td>\n",
       "    </tr>\n",
       "    <tr>\n",
       "      <th>Documentary</th>\n",
       "      <td>20521</td>\n",
       "      <td>32011576</td>\n",
       "      <td>1.129285e+07</td>\n",
       "      <td>9688331.0</td>\n",
       "    </tr>\n",
       "    <tr>\n",
       "      <th>Drama</th>\n",
       "      <td>0</td>\n",
       "      <td>201151353</td>\n",
       "      <td>3.602608e+07</td>\n",
       "      <td>19730097.0</td>\n",
       "    </tr>\n",
       "    <tr>\n",
       "      <th>Horror</th>\n",
       "      <td>4877567</td>\n",
       "      <td>26570463</td>\n",
       "      <td>1.451148e+07</td>\n",
       "      <td>13439137.5</td>\n",
       "    </tr>\n",
       "    <tr>\n",
       "      <th>Musical</th>\n",
       "      <td>5632086</td>\n",
       "      <td>218951625</td>\n",
       "      <td>7.233026e+07</td>\n",
       "      <td>53041787.5</td>\n",
       "    </tr>\n",
       "    <tr>\n",
       "      <th>Romantic Comedy</th>\n",
       "      <td>468240</td>\n",
       "      <td>178406268</td>\n",
       "      <td>5.009595e+07</td>\n",
       "      <td>32680633.0</td>\n",
       "    </tr>\n",
       "    <tr>\n",
       "      <th>Thriller/Suspense</th>\n",
       "      <td>2154540</td>\n",
       "      <td>293506292</td>\n",
       "      <td>5.861694e+07</td>\n",
       "      <td>28153827.0</td>\n",
       "    </tr>\n",
       "    <tr>\n",
       "      <th>Western</th>\n",
       "      <td>8247627</td>\n",
       "      <td>89302115</td>\n",
       "      <td>5.128735e+07</td>\n",
       "      <td>56932305.0</td>\n",
       "    </tr>\n",
       "  </tbody>\n",
       "</table>\n",
       "</div>"
      ],
      "text/plain": [
       "                       Minimo     Maximo         Media     Mediana\n",
       "genero                                                            \n",
       "Action                      0  623279547  1.046141e+08  43315244.5\n",
       "Adventure                2815  936662225  1.270471e+08  65000000.0\n",
       "Black Comedy         17105219   52353636  3.251440e+07  28084357.0\n",
       "Comedy                  45779  244082982  4.461329e+07  26923500.5\n",
       "Concert/Performance  38174685   65281781  5.172823e+07  51728233.0\n",
       "Documentary             20521   32011576  1.129285e+07   9688331.0\n",
       "Drama                       0  201151353  3.602608e+07  19730097.0\n",
       "Horror                4877567   26570463  1.451148e+07  13439137.5\n",
       "Musical               5632086  218951625  7.233026e+07  53041787.5\n",
       "Romantic Comedy        468240  178406268  5.009595e+07  32680633.0\n",
       "Thriller/Suspense     2154540  293506292  5.861694e+07  28153827.0\n",
       "Western               8247627   89302115  5.128735e+07  56932305.0"
      ]
     },
     "execution_count": 61,
     "metadata": {},
     "output_type": "execute_result"
    }
   ],
   "source": [
    "dados.groupby(['genero'])['bilheteria_bruta'].agg(Minimo='min',Maximo='max',Media='mean',Mediana='median')"
   ]
  },
  {
   "cell_type": "code",
   "execution_count": 17,
   "id": "f34fd6ba",
   "metadata": {},
   "outputs": [],
   "source": [
    "x1 = dados.groupby(['genero'])['bilheteria_bruta'].agg([np.min,np.max,np.mean])"
   ]
  },
  {
   "cell_type": "code",
   "execution_count": 14,
   "id": "acf1bb45",
   "metadata": {},
   "outputs": [],
   "source": [
    "x1.columns = (['Minimo','Maximo'])"
   ]
  },
  {
   "cell_type": "code",
   "execution_count": 18,
   "id": "02dd2d48",
   "metadata": {},
   "outputs": [
    {
     "data": {
      "text/html": [
       "<div>\n",
       "<style scoped>\n",
       "    .dataframe tbody tr th:only-of-type {\n",
       "        vertical-align: middle;\n",
       "    }\n",
       "\n",
       "    .dataframe tbody tr th {\n",
       "        vertical-align: top;\n",
       "    }\n",
       "\n",
       "    .dataframe thead th {\n",
       "        text-align: right;\n",
       "    }\n",
       "</style>\n",
       "<table border=\"1\" class=\"dataframe\">\n",
       "  <thead>\n",
       "    <tr style=\"text-align: right;\">\n",
       "      <th></th>\n",
       "      <th>amin</th>\n",
       "      <th>amax</th>\n",
       "      <th>mean</th>\n",
       "    </tr>\n",
       "    <tr>\n",
       "      <th>genero</th>\n",
       "      <th></th>\n",
       "      <th></th>\n",
       "      <th></th>\n",
       "    </tr>\n",
       "  </thead>\n",
       "  <tbody>\n",
       "    <tr>\n",
       "      <th>Action</th>\n",
       "      <td>0</td>\n",
       "      <td>623279547</td>\n",
       "      <td>1.046141e+08</td>\n",
       "    </tr>\n",
       "    <tr>\n",
       "      <th>Adventure</th>\n",
       "      <td>2815</td>\n",
       "      <td>936662225</td>\n",
       "      <td>1.270471e+08</td>\n",
       "    </tr>\n",
       "    <tr>\n",
       "      <th>Black Comedy</th>\n",
       "      <td>17105219</td>\n",
       "      <td>52353636</td>\n",
       "      <td>3.251440e+07</td>\n",
       "    </tr>\n",
       "    <tr>\n",
       "      <th>Comedy</th>\n",
       "      <td>45779</td>\n",
       "      <td>244082982</td>\n",
       "      <td>4.461329e+07</td>\n",
       "    </tr>\n",
       "    <tr>\n",
       "      <th>Concert/Performance</th>\n",
       "      <td>38174685</td>\n",
       "      <td>65281781</td>\n",
       "      <td>5.172823e+07</td>\n",
       "    </tr>\n",
       "    <tr>\n",
       "      <th>Documentary</th>\n",
       "      <td>20521</td>\n",
       "      <td>32011576</td>\n",
       "      <td>1.129285e+07</td>\n",
       "    </tr>\n",
       "    <tr>\n",
       "      <th>Drama</th>\n",
       "      <td>0</td>\n",
       "      <td>201151353</td>\n",
       "      <td>3.602608e+07</td>\n",
       "    </tr>\n",
       "    <tr>\n",
       "      <th>Horror</th>\n",
       "      <td>4877567</td>\n",
       "      <td>26570463</td>\n",
       "      <td>1.451148e+07</td>\n",
       "    </tr>\n",
       "    <tr>\n",
       "      <th>Musical</th>\n",
       "      <td>5632086</td>\n",
       "      <td>218951625</td>\n",
       "      <td>7.233026e+07</td>\n",
       "    </tr>\n",
       "    <tr>\n",
       "      <th>Romantic Comedy</th>\n",
       "      <td>468240</td>\n",
       "      <td>178406268</td>\n",
       "      <td>5.009595e+07</td>\n",
       "    </tr>\n",
       "    <tr>\n",
       "      <th>Thriller/Suspense</th>\n",
       "      <td>2154540</td>\n",
       "      <td>293506292</td>\n",
       "      <td>5.861694e+07</td>\n",
       "    </tr>\n",
       "    <tr>\n",
       "      <th>Western</th>\n",
       "      <td>8247627</td>\n",
       "      <td>89302115</td>\n",
       "      <td>5.128735e+07</td>\n",
       "    </tr>\n",
       "  </tbody>\n",
       "</table>\n",
       "</div>"
      ],
      "text/plain": [
       "                         amin       amax          mean\n",
       "genero                                                \n",
       "Action                      0  623279547  1.046141e+08\n",
       "Adventure                2815  936662225  1.270471e+08\n",
       "Black Comedy         17105219   52353636  3.251440e+07\n",
       "Comedy                  45779  244082982  4.461329e+07\n",
       "Concert/Performance  38174685   65281781  5.172823e+07\n",
       "Documentary             20521   32011576  1.129285e+07\n",
       "Drama                       0  201151353  3.602608e+07\n",
       "Horror                4877567   26570463  1.451148e+07\n",
       "Musical               5632086  218951625  7.233026e+07\n",
       "Romantic Comedy        468240  178406268  5.009595e+07\n",
       "Thriller/Suspense     2154540  293506292  5.861694e+07\n",
       "Western               8247627   89302115  5.128735e+07"
      ]
     },
     "execution_count": 18,
     "metadata": {},
     "output_type": "execute_result"
    }
   ],
   "source": [
    "x1"
   ]
  },
  {
   "cell_type": "markdown",
   "id": "1ea57f7d",
   "metadata": {
    "cell_id": "00062-3f80e5e0-a9da-4967-9c63-188eea718a57",
    "deepnote_cell_height": 51.899993896484375,
    "deepnote_cell_type": "markdown"
   },
   "source": [
    "24 - Para cada genero de filme, agregue bilheteria_bruta e bilheteria_ajustada_inflacao: obtenha o minimo, maximo, média e mediana"
   ]
  },
  {
   "cell_type": "code",
   "execution_count": 73,
   "id": "db3895ff",
   "metadata": {
    "cell_id": "00063-b73f0085-fec6-475a-8221-7fcaffd3f4c7",
    "deepnote_cell_height": 65.5,
    "deepnote_cell_type": "code"
   },
   "outputs": [
    {
     "name": "stderr",
     "output_type": "stream",
     "text": [
      "/tmp/ipykernel_43629/2644310420.py:1: FutureWarning: Indexing with multiple keys (implicitly converted to a tuple of keys) will be deprecated, use a list instead.\n",
      "  dados.groupby(['genero'])['bilheteria_bruta','bilheteria_ajustada_inflacao'].agg(['min','max','mean','median'])\n"
     ]
    },
    {
     "data": {
      "text/html": [
       "<div>\n",
       "<style scoped>\n",
       "    .dataframe tbody tr th:only-of-type {\n",
       "        vertical-align: middle;\n",
       "    }\n",
       "\n",
       "    .dataframe tbody tr th {\n",
       "        vertical-align: top;\n",
       "    }\n",
       "\n",
       "    .dataframe thead tr th {\n",
       "        text-align: left;\n",
       "    }\n",
       "\n",
       "    .dataframe thead tr:last-of-type th {\n",
       "        text-align: right;\n",
       "    }\n",
       "</style>\n",
       "<table border=\"1\" class=\"dataframe\">\n",
       "  <thead>\n",
       "    <tr>\n",
       "      <th></th>\n",
       "      <th colspan=\"4\" halign=\"left\">bilheteria_bruta</th>\n",
       "      <th colspan=\"4\" halign=\"left\">bilheteria_ajustada_inflacao</th>\n",
       "    </tr>\n",
       "    <tr>\n",
       "      <th></th>\n",
       "      <th>min</th>\n",
       "      <th>max</th>\n",
       "      <th>mean</th>\n",
       "      <th>median</th>\n",
       "      <th>min</th>\n",
       "      <th>max</th>\n",
       "      <th>mean</th>\n",
       "      <th>median</th>\n",
       "    </tr>\n",
       "    <tr>\n",
       "      <th>genero</th>\n",
       "      <th></th>\n",
       "      <th></th>\n",
       "      <th></th>\n",
       "      <th></th>\n",
       "      <th></th>\n",
       "      <th></th>\n",
       "      <th></th>\n",
       "      <th></th>\n",
       "    </tr>\n",
       "  </thead>\n",
       "  <tbody>\n",
       "    <tr>\n",
       "      <th>Action</th>\n",
       "      <td>0</td>\n",
       "      <td>623279547</td>\n",
       "      <td>1.046141e+08</td>\n",
       "      <td>43315244.5</td>\n",
       "      <td>0</td>\n",
       "      <td>660081224</td>\n",
       "      <td>1.374734e+08</td>\n",
       "      <td>69012064.5</td>\n",
       "    </tr>\n",
       "    <tr>\n",
       "      <th>Adventure</th>\n",
       "      <td>2815</td>\n",
       "      <td>936662225</td>\n",
       "      <td>1.270471e+08</td>\n",
       "      <td>65000000.0</td>\n",
       "      <td>2984</td>\n",
       "      <td>2188229052</td>\n",
       "      <td>1.903974e+08</td>\n",
       "      <td>102254492.0</td>\n",
       "    </tr>\n",
       "    <tr>\n",
       "      <th>Black Comedy</th>\n",
       "      <td>17105219</td>\n",
       "      <td>52353636</td>\n",
       "      <td>3.251440e+07</td>\n",
       "      <td>28084357.0</td>\n",
       "      <td>28392518</td>\n",
       "      <td>76758193</td>\n",
       "      <td>5.224349e+07</td>\n",
       "      <td>51579764.0</td>\n",
       "    </tr>\n",
       "    <tr>\n",
       "      <th>Comedy</th>\n",
       "      <td>45779</td>\n",
       "      <td>244082982</td>\n",
       "      <td>4.461329e+07</td>\n",
       "      <td>26923500.5</td>\n",
       "      <td>82277</td>\n",
       "      <td>1362870985</td>\n",
       "      <td>8.466773e+07</td>\n",
       "      <td>51195217.0</td>\n",
       "    </tr>\n",
       "    <tr>\n",
       "      <th>Concert/Performance</th>\n",
       "      <td>38174685</td>\n",
       "      <td>65281781</td>\n",
       "      <td>5.172823e+07</td>\n",
       "      <td>51728233.0</td>\n",
       "      <td>38174685</td>\n",
       "      <td>76646993</td>\n",
       "      <td>5.741084e+07</td>\n",
       "      <td>57410839.0</td>\n",
       "    </tr>\n",
       "    <tr>\n",
       "      <th>Documentary</th>\n",
       "      <td>20521</td>\n",
       "      <td>32011576</td>\n",
       "      <td>1.129285e+07</td>\n",
       "      <td>9688331.0</td>\n",
       "      <td>23064</td>\n",
       "      <td>35981010</td>\n",
       "      <td>1.271803e+07</td>\n",
       "      <td>12344483.5</td>\n",
       "    </tr>\n",
       "    <tr>\n",
       "      <th>Drama</th>\n",
       "      <td>0</td>\n",
       "      <td>201151353</td>\n",
       "      <td>3.602608e+07</td>\n",
       "      <td>19730097.0</td>\n",
       "      <td>0</td>\n",
       "      <td>1236035515</td>\n",
       "      <td>7.189302e+07</td>\n",
       "      <td>39325794.0</td>\n",
       "    </tr>\n",
       "    <tr>\n",
       "      <th>Horror</th>\n",
       "      <td>4877567</td>\n",
       "      <td>26570463</td>\n",
       "      <td>1.451148e+07</td>\n",
       "      <td>13439137.5</td>\n",
       "      <td>9907922</td>\n",
       "      <td>48546161</td>\n",
       "      <td>2.341385e+07</td>\n",
       "      <td>18589709.5</td>\n",
       "    </tr>\n",
       "    <tr>\n",
       "      <th>Musical</th>\n",
       "      <td>5632086</td>\n",
       "      <td>218951625</td>\n",
       "      <td>7.233026e+07</td>\n",
       "      <td>53041787.5</td>\n",
       "      <td>11468231</td>\n",
       "      <td>5228953251</td>\n",
       "      <td>6.035979e+08</td>\n",
       "      <td>103167587.5</td>\n",
       "    </tr>\n",
       "    <tr>\n",
       "      <th>Romantic Comedy</th>\n",
       "      <td>468240</td>\n",
       "      <td>178406268</td>\n",
       "      <td>5.009595e+07</td>\n",
       "      <td>32680633.0</td>\n",
       "      <td>907414</td>\n",
       "      <td>356389765</td>\n",
       "      <td>7.777708e+07</td>\n",
       "      <td>57925202.0</td>\n",
       "    </tr>\n",
       "    <tr>\n",
       "      <th>Thriller/Suspense</th>\n",
       "      <td>2154540</td>\n",
       "      <td>293506292</td>\n",
       "      <td>5.861694e+07</td>\n",
       "      <td>28153827.0</td>\n",
       "      <td>3957025</td>\n",
       "      <td>485424724</td>\n",
       "      <td>8.965379e+07</td>\n",
       "      <td>51804588.0</td>\n",
       "    </tr>\n",
       "    <tr>\n",
       "      <th>Western</th>\n",
       "      <td>8247627</td>\n",
       "      <td>89302115</td>\n",
       "      <td>5.128735e+07</td>\n",
       "      <td>56932305.0</td>\n",
       "      <td>15983331</td>\n",
       "      <td>115781734</td>\n",
       "      <td>7.381571e+07</td>\n",
       "      <td>89042541.0</td>\n",
       "    </tr>\n",
       "  </tbody>\n",
       "</table>\n",
       "</div>"
      ],
      "text/plain": [
       "                    bilheteria_bruta                                       \\\n",
       "                                 min        max          mean      median   \n",
       "genero                                                                      \n",
       "Action                             0  623279547  1.046141e+08  43315244.5   \n",
       "Adventure                       2815  936662225  1.270471e+08  65000000.0   \n",
       "Black Comedy                17105219   52353636  3.251440e+07  28084357.0   \n",
       "Comedy                         45779  244082982  4.461329e+07  26923500.5   \n",
       "Concert/Performance         38174685   65281781  5.172823e+07  51728233.0   \n",
       "Documentary                    20521   32011576  1.129285e+07   9688331.0   \n",
       "Drama                              0  201151353  3.602608e+07  19730097.0   \n",
       "Horror                       4877567   26570463  1.451148e+07  13439137.5   \n",
       "Musical                      5632086  218951625  7.233026e+07  53041787.5   \n",
       "Romantic Comedy               468240  178406268  5.009595e+07  32680633.0   \n",
       "Thriller/Suspense            2154540  293506292  5.861694e+07  28153827.0   \n",
       "Western                      8247627   89302115  5.128735e+07  56932305.0   \n",
       "\n",
       "                    bilheteria_ajustada_inflacao                            \\\n",
       "                                             min         max          mean   \n",
       "genero                                                                       \n",
       "Action                                         0   660081224  1.374734e+08   \n",
       "Adventure                                   2984  2188229052  1.903974e+08   \n",
       "Black Comedy                            28392518    76758193  5.224349e+07   \n",
       "Comedy                                     82277  1362870985  8.466773e+07   \n",
       "Concert/Performance                     38174685    76646993  5.741084e+07   \n",
       "Documentary                                23064    35981010  1.271803e+07   \n",
       "Drama                                          0  1236035515  7.189302e+07   \n",
       "Horror                                   9907922    48546161  2.341385e+07   \n",
       "Musical                                 11468231  5228953251  6.035979e+08   \n",
       "Romantic Comedy                           907414   356389765  7.777708e+07   \n",
       "Thriller/Suspense                        3957025   485424724  8.965379e+07   \n",
       "Western                                 15983331   115781734  7.381571e+07   \n",
       "\n",
       "                                  \n",
       "                          median  \n",
       "genero                            \n",
       "Action                69012064.5  \n",
       "Adventure            102254492.0  \n",
       "Black Comedy          51579764.0  \n",
       "Comedy                51195217.0  \n",
       "Concert/Performance   57410839.0  \n",
       "Documentary           12344483.5  \n",
       "Drama                 39325794.0  \n",
       "Horror                18589709.5  \n",
       "Musical              103167587.5  \n",
       "Romantic Comedy       57925202.0  \n",
       "Thriller/Suspense     51804588.0  \n",
       "Western               89042541.0  "
      ]
     },
     "execution_count": 73,
     "metadata": {},
     "output_type": "execute_result"
    }
   ],
   "source": [
    "dados.groupby(['genero'])['bilheteria_bruta','bilheteria_ajustada_inflacao'].agg(['min','max','mean','median'])"
   ]
  },
  {
   "cell_type": "markdown",
   "id": "b8f7184e",
   "metadata": {
    "cell_id": "00064-f19133b3-2da8-49ed-84ea-fb0f72ca4a1e",
    "deepnote_cell_height": 51.899993896484375,
    "deepnote_cell_type": "markdown"
   },
   "source": [
    "Está na hora de fazermos um pouco de gráficos. Não existe análise de dados sem visualização!!"
   ]
  },
  {
   "cell_type": "code",
   "execution_count": null,
   "id": "cfd757de",
   "metadata": {
    "cell_id": "00065-789f2709-c3b1-479f-ac5e-49dee994f9c8",
    "deepnote_cell_height": 65.5,
    "deepnote_cell_type": "code"
   },
   "outputs": [],
   "source": []
  },
  {
   "cell_type": "markdown",
   "id": "0c72ff98",
   "metadata": {
    "cell_id": "00066-c0dc31ac-b0c8-40b7-af34-f1693af8c4fd",
    "deepnote_cell_height": 45.5,
    "deepnote_cell_type": "markdown"
   },
   "source": []
  },
  {
   "cell_type": "code",
   "execution_count": 28,
   "id": "d9ba12d3",
   "metadata": {
    "cell_id": "00067-e637fd61-e96b-4513-acfc-ce5575227215",
    "deepnote_cell_height": 83.5,
    "deepnote_cell_type": "code"
   },
   "outputs": [],
   "source": [
    "import seaborn as sns"
   ]
  },
  {
   "cell_type": "markdown",
   "id": "2bbfc3fa",
   "metadata": {
    "cell_id": "00068-4445d032-622c-422c-8582-5295fa90e7e9",
    "deepnote_cell_height": 51.899993896484375,
    "deepnote_cell_type": "markdown"
   },
   "source": [
    "25 - Some a bilheteria_bruta por genero"
   ]
  },
  {
   "cell_type": "code",
   "execution_count": 27,
   "id": "e94d58a5",
   "metadata": {
    "cell_id": "00069-de94199b-eaad-4e7f-af00-aad1972204de",
    "deepnote_cell_height": 83.5,
    "deepnote_cell_type": "code"
   },
   "outputs": [
    {
     "data": {
      "text/plain": [
       "genero\n",
       "Action                  4184563282\n",
       "Adventure              16389069453\n",
       "Black Comedy              97543212\n",
       "Comedy                  8119619678\n",
       "Concert/Performance      103456466\n",
       "Documentary              180685619\n",
       "Drama                   4106972970\n",
       "Horror                    87068872\n",
       "Musical                 1157284155\n",
       "Romantic Comedy         1152206855\n",
       "Thriller/Suspense       1406806519\n",
       "Western                  359011459\n",
       "Name: bilheteria_bruta, dtype: int64"
      ]
     },
     "execution_count": 27,
     "metadata": {},
     "output_type": "execute_result"
    }
   ],
   "source": [
    "dados.groupby(['genero'])['bilheteria_bruta'].sum()"
   ]
  },
  {
   "cell_type": "markdown",
   "id": "983283b1",
   "metadata": {
    "cell_id": "00070-09ec7bf8-dc8f-43b2-854e-0df7a1136dcc",
    "deepnote_cell_height": 51.899993896484375,
    "deepnote_cell_type": "markdown"
   },
   "source": [
    "26 - Agora sim faça um gráfico de barras com o resultado anterior!"
   ]
  },
  {
   "cell_type": "code",
   "execution_count": 23,
   "id": "1e9e82b1",
   "metadata": {
    "cell_id": "00071-7ff39f87-26fe-415e-a9d4-eb06627ed68a",
    "deepnote_cell_height": 83.5,
    "deepnote_cell_type": "code"
   },
   "outputs": [],
   "source": [
    "\n",
    "soma_genero = dados.groupby(['genero'])['bilheteria_bruta'].sum()"
   ]
  },
  {
   "cell_type": "code",
   "execution_count": 24,
   "id": "0f818c91",
   "metadata": {},
   "outputs": [],
   "source": [
    "import matplotlib.pyplot as plt"
   ]
  },
  {
   "cell_type": "code",
   "execution_count": 25,
   "id": "326f3f4a",
   "metadata": {},
   "outputs": [
    {
     "data": {
      "text/plain": [
       "Text(0.5, 1.0, 'Bilheteria bruta por genero')"
      ]
     },
     "execution_count": 25,
     "metadata": {},
     "output_type": "execute_result"
    },
    {
     "data": {
      "image/png": "[encoded data removed]",
      "text/plain": [
       "<Figure size 432x288 with 1 Axes>"
      ]
     },
     "metadata": {},
     "output_type": "display_data"
    }
   ],
   "source": [
    "soma_genero.plot.bar()\n",
    "plt.title('Bilheteria bruta por genero')"
   ]
  },
  {
   "cell_type": "markdown",
   "id": "70c50fa4",
   "metadata": {
    "cell_id": "00072-d2a73bf7-c528-4072-b04e-9a2af01367e2",
    "deepnote_cell_height": 51.899993896484375,
    "deepnote_cell_type": "markdown"
   },
   "source": [
    "27 - Importe o seaborn com o apelido sns "
   ]
  },
  {
   "cell_type": "code",
   "execution_count": 26,
   "id": "856cc3ad",
   "metadata": {},
   "outputs": [],
   "source": [
    "import seaborn as sns"
   ]
  },
  {
   "cell_type": "markdown",
   "id": "7413e863",
   "metadata": {
    "cell_id": "00074-7c47aa98-0dd0-4380-9e6c-7116eeb0535f",
    "deepnote_cell_height": 51.899993896484375,
    "deepnote_cell_type": "markdown"
   },
   "source": [
    "28 -Faça um boxplot comparando a bilheteria_ajustada_inflacao dos filmes de ação e comédia\n"
   ]
  },
  {
   "cell_type": "code",
   "execution_count": 21,
   "id": "3aef1227",
   "metadata": {},
   "outputs": [],
   "source": [
    "acao_comedia = dados[dados['genero'].isin(['Action','Comedy'])]"
   ]
  },
  {
   "cell_type": "code",
   "execution_count": 22,
   "id": "e3453b3a",
   "metadata": {
    "cell_id": "00076-219d8492-3e26-46e2-9446-2c68d19cb124",
    "deepnote_cell_height": 65.5,
    "deepnote_cell_type": "code"
   },
   "outputs": [
    {
     "ename": "NameError",
     "evalue": "name 'plt' is not defined",
     "output_type": "error",
     "traceback": [
      "\u001b[0;31m---------------------------------------------------------------------------\u001b[0m",
      "\u001b[0;31mNameError\u001b[0m                                 Traceback (most recent call last)",
      "Input \u001b[0;32mIn [22]\u001b[0m, in \u001b[0;36m<cell line: 3>\u001b[0;34m()\u001b[0m\n\u001b[1;32m      1\u001b[0m sns\u001b[38;5;241m.\u001b[39mboxplot(data\u001b[38;5;241m=\u001b[39macao_comedia, x\u001b[38;5;241m=\u001b[39m\u001b[38;5;124m'\u001b[39m\u001b[38;5;124mbilheteria_ajustada_inflacao\u001b[39m\u001b[38;5;124m'\u001b[39m, y\u001b[38;5;241m=\u001b[39m\u001b[38;5;124m'\u001b[39m\u001b[38;5;124mgenero\u001b[39m\u001b[38;5;124m'\u001b[39m)\n\u001b[1;32m      2\u001b[0m sns\u001b[38;5;241m.\u001b[39mset_theme(style\u001b[38;5;241m=\u001b[39m\u001b[38;5;124m'\u001b[39m\u001b[38;5;124mwhitegrid\u001b[39m\u001b[38;5;124m'\u001b[39m)\n\u001b[0;32m----> 3\u001b[0m \u001b[43mplt\u001b[49m\u001b[38;5;241m.\u001b[39mtitle(\u001b[38;5;124m'\u001b[39m\u001b[38;5;124mComparação Bilheteria Ajustada Inflacao dos filmes de Ação e Comedia\u001b[39m\u001b[38;5;124m'\u001b[39m)\n",
      "\u001b[0;31mNameError\u001b[0m: name 'plt' is not defined"
     ]
    },
    {
     "data": {
      "image/png": "[encoded data removed]",
      "text/plain": [
       "<Figure size 432x288 with 1 Axes>"
      ]
     },
     "metadata": {
      "needs_background": "light"
     },
     "output_type": "display_data"
    }
   ],
   "source": [
    "sns.boxplot(data=acao_comedia, x='bilheteria_ajustada_inflacao', y='genero')\n",
    "sns.set_theme(style='whitegrid')\n",
    "plt.title('Comparação Bilheteria Ajustada Inflacao dos filmes de Ação e Comedia')"
   ]
  },
  {
   "cell_type": "code",
   "execution_count": null,
   "id": "a86f3ba0",
   "metadata": {
    "cell_id": "00077-f7072b74-a645-4ebe-b1cb-ee598632d18c",
    "deepnote_cell_height": 65.5,
    "deepnote_cell_type": "code"
   },
   "outputs": [],
   "source": []
  },
  {
   "cell_type": "markdown",
   "id": "c8b4d2b9",
   "metadata": {
    "created_in_deepnote_cell": true,
    "deepnote_cell_type": "markdown",
    "tags": []
   },
   "source": [
    "<a style='text-decoration:none;line-height:16px;display:flex;color:#5B5B62;padding:10px;justify-content:end;' href='https://deepnote.com?utm_source=created-in-deepnote-cell&projectId=31152f18-3036-40d1-92d9-59f0bbdc0756' target=\"_blank\">\n",
    "<img alt='Created in deepnote.com' style='display:inline;max-height:16px;margin:0px;margin-right:7.5px;' src='data:image/svg+xml;base64,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' > </img>\n",
    "Created in <span style='font-weight:600;margin-left:4px;'>Deepnote</span></a>"
   ]
  }
 ],
 "metadata": {
  "deepnote": {},
  "deepnote_execution_queue": [],
  "deepnote_notebook_id": "6ef7d4bb-8ce4-4e0b-966d-6e3d9af34d62",
  "hide_input": false,
  "kernelspec": {
   "display_name": "Python 3 (ipykernel)",
   "language": "python",
   "name": "python3"
  },
  "language_info": {
   "codemirror_mode": {
    "name": "ipython",
    "version": 3
   },
   "file_extension": ".py",
   "mimetype": "text/x-python",
   "name": "python",
   "nbconvert_exporter": "python",
   "pygments_lexer": "ipython3",
   "version": "3.10.4"
  }
 },
 "nbformat": 4,
 "nbformat_minor": 5
}
