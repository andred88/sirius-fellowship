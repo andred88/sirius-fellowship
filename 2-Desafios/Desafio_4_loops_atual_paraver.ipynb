{
 "cells": [
  {
   "cell_type": "markdown",
   "source": "<div>\n    <p style=\"float: right;\"><img src=\"https://media.swipepages.com/2021/2/sirius-logo-principal-tag-1-300.png\" height=\"80px\"border=\"1px\"></p>\n    \n</div>\n<h1>Nano Desafio 4 </h1>\n<h2> Desafios </h2>\n\nAluno: \n\nData:",
   "metadata": {
    "id": "fd0672f9",
    "cell_id": "a97ca162-8db8-4ff4-83a2-977113683f64",
    "deepnote_cell_type": "markdown",
    "deepnote_cell_height": 196.8000030517578
   }
  },
  {
   "cell_type": "markdown",
   "source": "##### EXERCÍCIO 1 \n\n###### Jogo de adivinhação de números\n\nEste primeiro exercício apresenta vários tópicos que se repetirão em sua carreira com Python : loops, entrada do usuário, conversão e comparação de valores.\n\nSaber como pedir a entrada do usuário não apenas é útil, mas nos permite pensar sobre o tipo de dados que estamos recebendo, como convertê-los em um formato que podemos usar, e qual seria o formato.\n\nComo você deve saber, o Python fornece apenas dois tipos de loops: for e while. Saber como escrevê-los e usá-los será muito útil ao longo de sua carreira em Ciência de Dados. \nO fato de que quase todos os tipos de dados podem ser usados dentro de um loop torna seu uso muito comum. Se você estiver trabalhando com registros de banco de dados, elementos em um XML ou os resultados da pesquisa de texto usando expressões regulares, você será provavelmente usará loops.\n \nPara este exercício\n- Escreva uma função (chute) que não receba argumentos.\n- Quando executada, a função escolhe um inteiro aleatório entre 0 e 100.\n- Em seguida, peça ao usuário para adivinhar qual número foi escolhido.\n- Cada vez que o usuário insere um palpite, o programa indica um dos seguintes:\n- Muito alto\n- Muito baixo\n- Na medida\n\n- Se o usuário adivinhar corretamente, o programa é encerrado. Caso contrário, o usuário é solicitado a\ntentar novamente.\n- O programa só sai depois que o usuário adivinhar corretamente.\n\n\nDica - resolva o exercício complementar 2 antes de resolver esse exercício",
   "metadata": {
    "id": "7501b9f3",
    "cell_id": "00001-4709cccc-dff6-45ad-950a-7bab043146be",
    "deepnote_cell_type": "markdown",
    "deepnote_cell_height": 655.4000244140625
   }
  },
  {
   "cell_type": "code",
   "metadata": {
    "colab": {
     "base_uri": "https://localhost:8080/"
    },
    "id": "40f57806",
    "outputId": "217e9084-e733-4a2f-d8a4-2b2a64ee0ded",
    "cell_id": "00002-ed80c809-e624-4f9a-99b9-949de1614dbb",
    "deepnote_cell_type": "code",
    "deepnote_cell_height": 420.79998779296875
   },
   "source": "from random import randint\n\ndef chute():\n  num = randint(1, 100)\n  palp = 0\n  while palp != num:\n    palp = float(input('Qual seu chute?: '))\n    if palp == num:\n      print(f'Na medida!: {num}')\n    elif palp > num:\n      print(f'Muito alto!')\n    elif palp < num:\n      print(f'Muito baixo!')\n\nchute()",
   "outputs": [
    {
     "output_type": "stream",
     "name": "stdout",
     "text": "Qual seu chute?: 30\nMuito alto!\nQual seu chute?: 20\nNa medida!: 20\n"
    }
   ],
   "execution_count": null
  },
  {
   "cell_type": "markdown",
   "source": "##### EXERCÍCIO  2\n\nPara este exercício, vamos supor que você corra 10 km por dia como parte de seu regime. Você quer saber quanto tempo, em média, essa corrida leva.\n\nEscreva uma função (tempo_de_execucao) que pergunte quanto tempo você levou para correr 10 km.\nA função continua perguntando quanto tempo (em minutos) levou para execuções adicionais, até que o usuário pressiona Enter. Nesse ponto, a função sai - mas somente depois de calcular e exibindo o tempo médio que as corridas de 10 km levaram.\nA média das corridas pode ser calculado pela formula: **tempo_total / numero_de_corridas**\n\nPor exemplo, veja como seria a saída se o usuário inserisse três dados pontos:",
   "metadata": {
    "id": "e2c79c2b",
    "cell_id": "00003-dfa890b9-2ca7-45e9-bcf4-628ca919a2fd",
    "deepnote_cell_type": "markdown",
    "deepnote_cell_height": 250.8000030517578
   }
  },
  {
   "cell_type": "code",
   "source": "'Digite o tempo de corrida de 10 km: 15\n\nDigite o tempo de corrida de 10 km: 20\n\nDigite o tempo de corrida de 10 km: 10\n\nDigite o tempo de corrida de 10 km: <enter>\n\nMédia de 15,0, nas 3 corridas.",
   "metadata": {
    "id": "634ada7e",
    "cell_id": "00004-ce5ecd2a-4d14-4957-a66a-a8bb7817ee47",
    "deepnote_cell_type": "code",
    "deepnote_cell_height": 210
   },
   "execution_count": null,
   "outputs": []
  },
  {
   "cell_type": "code",
   "metadata": {
    "id": "0bd3e603",
    "colab": {
     "base_uri": "https://localhost:8080/"
    },
    "outputId": "d47c7a4b-5b47-4810-ed33-97481e4f6825",
    "cell_id": "00005-42b51d97-7b50-46bb-93ef-a2d681fecee1",
    "deepnote_cell_type": "code",
    "deepnote_cell_height": 458
   },
   "source": "def tempoExecucao():\n  tempos = []\n  contador = 0\n\n  while True:\n    tempo = input('Digite o tempo de corrida de 10 km: ')\n    contador+=1\n    if tempo == '':\n      break\n    else:\n      tempos.append(float(tempo))\n  media = sum(tempos)/len(tempos)\n\n  print(f'Média de {media:.2f} nas {contador-1} corridas')\n\ntempoExecucao()",
   "outputs": [
    {
     "output_type": "stream",
     "name": "stdout",
     "text": "Digite o tempo de corrida de 10 km: 30\nDigite o tempo de corrida de 10 km: 40\nDigite o tempo de corrida de 10 km: 20\nDigite o tempo de corrida de 10 km: \nMédia de 30.00 nas 3 corridas\n"
    }
   ],
   "execution_count": null
  },
  {
   "cell_type": "markdown",
   "source": "##### EXERCÍCIO 3 \nEscreva um programa em Python para contar o número de números pares e ímpares de uma série de números. \n\nExemplo:\n\nEntrada: números = (1, 2, 3, 4, 5, 6, 7, 8, 9)\n\nSaída esperada:\n\nNúmero de números pares: 4\n\nNúmero de números ímpares: 5",
   "metadata": {
    "id": "15dc6111",
    "cell_id": "00006-bbe736bc-96d6-46d9-a8ab-cb02c5d6c94d",
    "deepnote_cell_type": "markdown",
    "deepnote_cell_height": 270.3999938964844
   }
  },
  {
   "cell_type": "code",
   "metadata": {
    "id": "d41bf6e5",
    "outputId": "2b907f61-54c6-41ff-8e9a-ca104a7661b3",
    "colab": {
     "base_uri": "https://localhost:8080/"
    },
    "cell_id": "00007-326ab4f3-128f-4cb7-ad30-31231cebccf7",
    "deepnote_cell_type": "code",
    "deepnote_cell_height": 382.3999938964844
   },
   "source": "def contarParImpar(lista):\n  contadorpar = 0\n  contadorimpar = 0\n\n  for i in lista:\n    if i%2 == 0:\n      contadorpar+=1\n    else:\n      contadorimpar+=1\n\n  print(f'Números pares: {contadorpar}')\n  print(f'Números ímpares: {contadorimpar}')\n\nlista = (1, 2, 3, 4, 5, 6, 7, 8, 9)\ncontarParImpar(lista)",
   "outputs": [
    {
     "output_type": "stream",
     "name": "stdout",
     "text": "Números pares: 4\nNúmeros ímpares: 5\n"
    }
   ],
   "execution_count": null
  },
  {
   "cell_type": "markdown",
   "source": "#### EXERCÍCIO 4\n\nEscreva um código que retorne a sequência de Fibonacci para uma quantidade de números.\n\nPara mais informações sobre o que é a Sequência de Fibonacci: https://pt.wikipedia.org/wiki/Sequ%C3%AAncia_de_Fibonacci\n\nExemplo 1:\n    \nQuantos números você quer gerar? 5\n\n[1, 1, 2, 3, 5]\n\nExemplo 2:\n    \nQuantos números você quer gerar? 10\n\n[1, 1, 2, 3, 5, 8, 13, 21, 34, 55]\n\nExemplo 3:\n\nQuantos números você quer gerar? 0\n[]\n\n\n",
   "metadata": {
    "id": "5b451e7e",
    "cell_id": "00008-9de4d069-c0f4-4f00-bad0-f6e2d2032d36",
    "deepnote_cell_type": "markdown",
    "deepnote_cell_height": 416
   }
  },
  {
   "cell_type": "code",
   "metadata": {
    "id": "5b781a54",
    "outputId": "fb32e12c-46c7-40d3-9ba9-f78afc8b0825",
    "colab": {
     "base_uri": "https://localhost:8080/"
    },
    "cell_id": "00009-65962fa1-9262-49e5-880f-283a65b7acba",
    "owner_user_id": "f3b685db-82a0-4f74-9158-9e3d6de2c3bf",
    "deepnote_cell_type": "code",
    "deepnote_cell_height": 292.3999938964844
   },
   "source": "from math import sqrt,floor\n\nn = int(input(\"Quantos números você quer gerar? \"))\nlista = []\n \nfor i in range(1, n+1):\n  fibonacci = ((1+sqrt(5))**i-(1-sqrt(5))**i)/(2**i*sqrt(5))\n  lista.append(floor(fibonacci))\n\nprint(lista)",
   "outputs": [
    {
     "output_type": "stream",
     "name": "stdout",
     "text": "Quantos números você quer gerar? 10\n[1, 1, 2, 3, 5, 8, 13, 21, 34, 55]\n"
    }
   ],
   "execution_count": null
  },
  {
   "cell_type": "code",
   "metadata": {
    "id": "B1Wl965kIcXZ",
    "cell_id": "00010-90ec7b46-acb4-438b-98ba-4c310e67d7a4",
    "deepnote_cell_type": "code",
    "deepnote_cell_height": 66
   },
   "source": "",
   "execution_count": null,
   "outputs": []
  },
  {
   "cell_type": "markdown",
   "source": "<a style='text-decoration:none;line-height:16px;display:flex;color:#5B5B62;padding:10px;justify-content:end;' href='https://deepnote.com?utm_source=created-in-deepnote-cell&projectId=31152f18-3036-40d1-92d9-59f0bbdc0756' target=\"_blank\">\n<img alt='Created in deepnote.com' style='display:inline;max-height:16px;margin:0px;margin-right:7.5px;' src='data:image/svg+xml;base64,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' > </img>\nCreated in <span style='font-weight:600;margin-left:4px;'>Deepnote</span></a>",
   "metadata": {
    "tags": [],
    "created_in_deepnote_cell": true,
    "deepnote_cell_type": "markdown"
   }
  }
 ],
 "nbformat": 4,
 "nbformat_minor": 5,
 "metadata": {
  "hide_input": false,
  "kernelspec": {
   "display_name": "Python 3",
   "language": "python",
   "name": "python3"
  },
  "language_info": {
   "codemirror_mode": {
    "name": "ipython",
    "version": 3
   },
   "file_extension": ".py",
   "mimetype": "text/x-python",
   "name": "python",
   "nbconvert_exporter": "python",
   "pygments_lexer": "ipython3",
   "version": "3.8.8"
  },
  "colab": {
   "name": "Desafio 4 loops_atual.ipynb",
   "provenance": []
  },
  "deepnote_notebook_id": "eaa91e36-595b-4533-ab26-d2a72d2c4670",
  "deepnote": {},
  "deepnote_execution_queue": []
 }
}