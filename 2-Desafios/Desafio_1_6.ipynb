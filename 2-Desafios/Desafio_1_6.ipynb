{
 "cells": [
  {
   "cell_type": "markdown",
   "source": "<div>\n    <p style=\"float: right;\"><img src=\"https://media.swipepages.com/2021/2/sirius-logo-principal-tag-1-300.png\" height=\"80px\"border=\"1px\"></p>\n    \n</div>\n<h1>Nano Desafio 2 </h1>\n<h2> Desafios </h2>\n\nAluno: André Luiz Deitos\n\nData: 26/05/2022",
   "metadata": {
    "cell_id": "00000-e8ac9e2f-d35b-4610-b8ce-bb66388448af",
    "tags": [],
    "deepnote_cell_type": "markdown",
    "deepnote_cell_height": 196.8000030517578
   }
  },
  {
   "cell_type": "markdown",
   "source": "# Desafio 1\n\n\n![Calculo](preco.jpg)\n",
   "metadata": {
    "cell_id": "00001-1fcaf13b-4d79-4c96-806b-d1c948f8a35b",
    "tags": [],
    "deepnote_cell_type": "markdown",
    "deepnote_cell_height": 3989.533447265625
   }
  },
  {
   "cell_type": "markdown",
   "source": "# Pergunta\nQual o preço final ao consumidor deste modelo de sapato? <br>\nPara envio do seu resultado final, considere os seguites valores abaixo de referência mas lembre-se que o seu programa deve ser capaz de calcular quaisquer que sejam os valores! <br>\nCouro: 140 <br>\nSolado: 80 <br>\nCordões e Ilhoses: 40 <br>\nInsumos: 30 <br>\nMão de Obra: 50 <br>\nMarketing: 30 <br>\nCustos de Venda: 20 <br>",
   "metadata": {
    "cell_id": "00002-d9beadac-64fe-4b1f-aaf7-020a6b348857",
    "tags": [],
    "deepnote_cell_type": "markdown",
    "deepnote_cell_height": 322
   }
  },
  {
   "cell_type": "markdown",
   "source": "",
   "metadata": {
    "cell_id": "00003-e58e431a-dacd-4002-bfc0-7963d5fc5945",
    "tags": [],
    "deepnote_cell_type": "markdown",
    "deepnote_cell_height": 46
   }
  },
  {
   "cell_type": "code",
   "metadata": {
    "cell_id": "8708f30c64ac45828ea5dc676b2ad598",
    "tags": [],
    "deepnote_to_be_reexecuted": false,
    "source_hash": "49dde0bc",
    "execution_start": 1653608318297,
    "execution_millis": 16881,
    "deepnote_cell_type": "code",
    "deepnote_cell_height": 252.1999969482422
   },
   "source": "custo_couro = float(input('Qual o valor de custo couro: '))\ncusto_solado = float(input('Qual o valor de custo do solado: '))\ncusto_cordoes_ilhoses = float(input('Qual valor de custo dos cordões e ilhoses: '))\ncusto_insumos = float(input('Qual valor dos insumos: '))\ncusto_maodeobra = float(input('Qual valor de custo de mão de obra: '))\ncusto_marketing = float(input('Qual valor de custo de marketing: '))\ncusto_vendas = float(input('Qual valor de custo de vendas: '))",
   "execution_count": null,
   "outputs": [
    {
     "output_type": "error",
     "ename": "ValueError",
     "evalue": "could not convert string to float: ",
     "traceback": [
      "\u001b[0;31m---------------------------------------------------------------------------\u001b[0m",
      "\u001b[0;31mValueError\u001b[0m                                Traceback (most recent call last)",
      "\u001b[0;32m<ipython-input-2-dcd0da6faad9>\u001b[0m in \u001b[0;36m<module>\u001b[0;34m\u001b[0m\n\u001b[1;32m      4\u001b[0m \u001b[0mcusto_insumos\u001b[0m \u001b[0;34m=\u001b[0m \u001b[0mfloat\u001b[0m\u001b[0;34m(\u001b[0m\u001b[0minput\u001b[0m\u001b[0;34m(\u001b[0m\u001b[0;34m'Qual valor dos insumos: '\u001b[0m\u001b[0;34m)\u001b[0m\u001b[0;34m)\u001b[0m\u001b[0;34m\u001b[0m\u001b[0;34m\u001b[0m\u001b[0m\n\u001b[1;32m      5\u001b[0m \u001b[0mcusto_maodeobra\u001b[0m \u001b[0;34m=\u001b[0m \u001b[0mfloat\u001b[0m\u001b[0;34m(\u001b[0m\u001b[0minput\u001b[0m\u001b[0;34m(\u001b[0m\u001b[0;34m'Qual valor de custo de mão de obra: '\u001b[0m\u001b[0;34m)\u001b[0m\u001b[0;34m)\u001b[0m\u001b[0;34m\u001b[0m\u001b[0;34m\u001b[0m\u001b[0m\n\u001b[0;32m----> 6\u001b[0;31m \u001b[0mcusto_marketing\u001b[0m \u001b[0;34m=\u001b[0m \u001b[0mfloat\u001b[0m\u001b[0;34m(\u001b[0m\u001b[0minput\u001b[0m\u001b[0;34m(\u001b[0m\u001b[0;34m'Qual valor de custo de marketing: '\u001b[0m\u001b[0;34m)\u001b[0m\u001b[0;34m)\u001b[0m\u001b[0;34m\u001b[0m\u001b[0;34m\u001b[0m\u001b[0m\n\u001b[0m\u001b[1;32m      7\u001b[0m \u001b[0mcusto_vendas\u001b[0m \u001b[0;34m=\u001b[0m \u001b[0mfloat\u001b[0m\u001b[0;34m(\u001b[0m\u001b[0minput\u001b[0m\u001b[0;34m(\u001b[0m\u001b[0;34m'Qual valor de custo de vendas: '\u001b[0m\u001b[0;34m)\u001b[0m\u001b[0;34m)\u001b[0m\u001b[0;34m\u001b[0m\u001b[0;34m\u001b[0m\u001b[0m\n",
      "\u001b[0;31mValueError\u001b[0m: could not convert string to float: "
     ]
    }
   ]
  },
  {
   "cell_type": "code",
   "metadata": {
    "cell_id": "7ef183e18bbf4bfeaca5017b7c2caef2",
    "tags": [],
    "deepnote_to_be_reexecuted": false,
    "source_hash": "c738cfe8",
    "execution_start": 1653607051308,
    "execution_millis": 16,
    "deepnote_cell_type": "code",
    "deepnote_cell_height": 81
   },
   "source": "calculo_preco_custo = (custo_couro * 0.3) + (custo_solado * 0.2) + (custo_cordoes_ilhoses * 0.05) + (custo_insumos * 0.05) + (custo_maodeobra * 0.2) + (custo_marketing * 0.1) + (custo_vendas * 0.1)",
   "execution_count": null,
   "outputs": []
  },
  {
   "cell_type": "code",
   "metadata": {
    "cell_id": "2e54dbfab9b3426f8752b015e4a7f708",
    "tags": [],
    "deepnote_to_be_reexecuted": false,
    "source_hash": "7e897ec2",
    "execution_start": 1653607061634,
    "execution_millis": 2,
    "owner_user_id": "f3b685db-82a0-4f74-9158-9e3d6de2c3bf",
    "deepnote_cell_type": "code",
    "deepnote_cell_height": 171
   },
   "source": "calculo_lucro_fabricante = calculo_preco_custo * 1.3\ncalculo_perdas_capital = calculo_preco_custo * 1.15\ncalculo_preco_impostos = calculo_perdas_capital * 1.15\ncalculo_preco_margem_vendas = calculo_preco_impostos * 1.25\ncalculo_preco_impostos_estado_municipio = calculo_preco_margem_vendas * 1.30\npreco_final = calculo_preco_impostos_estado_municipio",
   "execution_count": null,
   "outputs": []
  },
  {
   "cell_type": "code",
   "metadata": {
    "cell_id": "965bd5aec62b470db124a3c1f69ac74d",
    "tags": [],
    "deepnote_to_be_reexecuted": false,
    "source_hash": "7c467041",
    "execution_start": 1653607066031,
    "execution_millis": 1,
    "deepnote_cell_type": "code",
    "deepnote_cell_height": 111.19999694824219
   },
   "source": "print('O preço de custo é: {} e o preço de final é: {}'.format(calculo_preco_custo,preco_final))",
   "execution_count": null,
   "outputs": [
    {
     "name": "stdout",
     "text": "O preço de custo é: 60.75 e o preço de final é: 130.55554687499998\n",
     "output_type": "stream"
    }
   ]
  },
  {
   "cell_type": "markdown",
   "source": "<a style='text-decoration:none;line-height:16px;display:flex;color:#5B5B62;padding:10px;justify-content:end;' href='https://deepnote.com?utm_source=created-in-deepnote-cell&projectId=31152f18-3036-40d1-92d9-59f0bbdc0756' target=\"_blank\">\n<img alt='Created in deepnote.com' style='display:inline;max-height:16px;margin:0px;margin-right:7.5px;' src='data:image/svg+xml;base64,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' > </img>\nCreated in <span style='font-weight:600;margin-left:4px;'>Deepnote</span></a>",
   "metadata": {
    "tags": [],
    "created_in_deepnote_cell": true,
    "deepnote_cell_type": "markdown"
   }
  }
 ],
 "nbformat": 4,
 "nbformat_minor": 2,
 "metadata": {
  "deepnote": {
   "is_reactive": false
  },
  "deepnote_execution_queue": [],
  "deepnote_notebook_id": "f324b11a-158a-4746-b2df-a66e34c34b29",
  "hide_input": false,
  "kernelspec": {
   "display_name": "Python 3",
   "language": "python",
   "name": "python3"
  },
  "language_info": {
   "codemirror_mode": {
    "name": "ipython",
    "version": 3
   },
   "file_extension": ".py",
   "mimetype": "text/x-python",
   "name": "python",
   "nbconvert_exporter": "python",
   "pygments_lexer": "ipython3",
   "version": "3.8.8"
  }
 }
}