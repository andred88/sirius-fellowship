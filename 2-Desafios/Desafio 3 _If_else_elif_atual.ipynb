{
 "cells": [
  {
   "cell_type": "markdown",
   "source": "<div>\n    <p style=\"float: right;\"><img src=\"https://media.swipepages.com/2021/2/sirius-logo-principal-tag-1-300.png\" height=\"80px\"border=\"1px\"></p>\n    \n</div>\n<h1>Nano Desafio 3 </h1>\n<h2> Desafios </h2>\n\nAluno: André Luiz Deitos\n\nData: 31/05/2022",
   "metadata": {
    "cell_id": "beab240c-3abf-41c9-a544-ba4d73b7c28b",
    "deepnote_cell_type": "markdown",
    "deepnote_cell_height": 196.8000030517578
   }
  },
  {
   "cell_type": "markdown",
   "source": "#### Desafio 1 - Sistema ENEM\n\nVocê foi contratado para criar um sistema para uma Faculdade que leia dados de um candidato e que após avaliar os dados diga se o candidato foi aprovado ou não.\n\nEsse sistema deve ler os seguintes dados dos candidatos:\n\n - idade(deve ser inteiro)\n - Nota do Enem - (número real - float)\n - Brasileiro( variável lógica)\n\nNesses sistema o candidato será aprovado para essa Faculdade se obedecer os critérios abaixo:\n\n- menos que 25 anos\n- nota miníma do ENEM: 70 pontos\n- ser brasileiro: S se brasileiro e N caso não seja\n\nO sistema deve emitir uma mensagem informando se ele foi ou não aprovado.",
   "metadata": {
    "cell_id": "00001-97a6a5c6-11ab-4b56-a0f7-8841b8699b3b",
    "deepnote_cell_type": "markdown",
    "deepnote_cell_height": 394.3999938964844
   }
  },
  {
   "cell_type": "code",
   "metadata": {
    "cell_id": "00002-fbc3b7cd-1240-4a8d-9928-922aa2cc5ba8",
    "deepnote_to_be_reexecuted": false,
    "source_hash": "a1f65058",
    "execution_start": 1654038294023,
    "execution_millis": 12473,
    "deepnote_cell_type": "code",
    "deepnote_cell_height": 117
   },
   "source": "idade = int(input('Insira sua idade: '))\nnota = float(input('Insira a sua nota no Enem: '))\nbrasileiro = (input('Você é brasileiro? S/N '))",
   "execution_count": null,
   "outputs": []
  },
  {
   "cell_type": "code",
   "metadata": {
    "cell_id": "9ba3c98ab053438f8fd134785d9b9e11",
    "tags": [],
    "deepnote_to_be_reexecuted": false,
    "source_hash": "da6d1964",
    "execution_start": 1654038404890,
    "execution_millis": 1,
    "deepnote_cell_type": "code",
    "deepnote_cell_height": 171
   },
   "source": "if idade < 25:\n    if nota >= 70:\n        if brasileiro == 'S':\n            print('Você foi aprovado')\nelse: \n    print('Você não foi aprovado')",
   "execution_count": null,
   "outputs": []
  },
  {
   "cell_type": "markdown",
   "source": "#### Desafio 2 - Mediana",
   "metadata": {
    "cell_id": "00003-21f3ea0e-45ec-423b-adad-33d84d0d4d4c",
    "deepnote_cell_type": "markdown",
    "deepnote_cell_height": 54
   }
  },
  {
   "cell_type": "markdown",
   "source": "Em estatística, a Mediana representa o valor central de um conjunto de dados. Ou seja, dado que os dados estão ordenados a mediana ocupa a 50º posição.\nPara encontrar o valor da mediana é necessário colocar os valores em ordem crescente.\n\nEscreva uma função que receba três números como parâmetros e retorne o valor mediano desses parâmetros como seu resultado. \n\nDica: No caso de três valores, o valor mediano é o valor do meio desses três valores quando eles são ordenados em ordem crescente.",
   "metadata": {
    "cell_id": "00004-d8dc9008-c84a-4b2b-8adc-bdb6a209ec5f",
    "deepnote_cell_type": "markdown",
    "deepnote_cell_height": 147.60000610351562
   }
  },
  {
   "cell_type": "code",
   "metadata": {
    "cell_id": "df2421fd78e942ddb7a55e4761c8ba0a",
    "tags": [],
    "deepnote_to_be_reexecuted": false,
    "source_hash": "70a888f9",
    "execution_start": 1654076200211,
    "execution_millis": 10,
    "deepnote_cell_type": "code",
    "deepnote_cell_height": 291.20001220703125
   },
   "source": "def mediana (x,y,z):\n    if y < x and y > z or y > x and y < z:\n        print(y)\n    elif x < y and x > z or x > y and x < z:\n        print(x)\n    else:\n        print(z)\n\nmediana(10,20,30)\n\n    ",
   "execution_count": null,
   "outputs": [
    {
     "name": "stdout",
     "text": "4\n",
     "output_type": "stream"
    }
   ]
  },
  {
   "cell_type": "markdown",
   "source": "#### Desafio 3 - Multiplos\nCrie uma função que irá checar se um número é múltiplo do outro número.\n\nRetorne True caso seja múltiplo e False se não for.\n\nExemplos:\n\n - print(multiplo_de(355, 5))\n\nTrue\n\n- print(multiplo_de(356, 5))\n\nFalse\n\n- print(multiplo_de(2357, 3))\n\nFalse\n\n- print(multiplo_de(2358, 3))\n\nTrue",
   "metadata": {
    "cell_id": "00006-7357d017-a1fc-4eba-a3a1-5103ade18a67",
    "deepnote_cell_type": "markdown",
    "deepnote_cell_height": 452.3999938964844
   }
  },
  {
   "cell_type": "code",
   "metadata": {
    "cell_id": "00007-9580368e-d7c5-44e1-aea2-bf12f2babea6",
    "deepnote_to_be_reexecuted": false,
    "source_hash": "ee9914ae",
    "execution_start": 1654076724363,
    "execution_millis": 302,
    "deepnote_cell_type": "code",
    "deepnote_cell_height": 226,
    "deepnote_output_heights": [
     21
    ]
   },
   "source": "def multiplo(num,num2):\n    if num % num2 == 0:\n        return(True)\n    else:\n        return(False)\n\nmultiplo(321,5)",
   "execution_count": null,
   "outputs": [
    {
     "output_type": "execute_result",
     "execution_count": 20,
     "data": {
      "text/plain": "False"
     },
     "metadata": {}
    }
   ]
  },
  {
   "cell_type": "markdown",
   "source": "#### Desafio 4 - Soma e limite\n\nEscreva uma função que recebe dois números (a e b) como parâmetro e retorna True caso a soma dos dois seja maior que um terceiro parâmetro, chamado limite, caso contrário retorna False.",
   "metadata": {
    "cell_id": "00008-9eea24db-b326-46ea-bb40-a8772161be19",
    "deepnote_cell_type": "markdown",
    "deepnote_cell_height": 110.80000305175781
   }
  },
  {
   "cell_type": "code",
   "metadata": {
    "cell_id": "efc92a9d58c74a1f94a1e38f115bcbe5",
    "tags": [],
    "deepnote_to_be_reexecuted": false,
    "source_hash": "75e77a8c",
    "execution_start": 1654076776832,
    "execution_millis": 10,
    "deepnote_cell_type": "code",
    "deepnote_cell_height": 255.1999969482422
   },
   "source": "limite = 10\ndef numeros(a,b):\n    soma = a+b\n    if soma > limite:\n        print(True)\n    else:\n        print(False)\n\nnumeros(2,5)",
   "execution_count": null,
   "outputs": [
    {
     "name": "stdout",
     "text": "False\n",
     "output_type": "stream"
    }
   ]
  },
  {
   "cell_type": "markdown",
   "source": "#### Desafio 5 - Celsius e Fahrenheit ( de novo!!! rs)",
   "metadata": {
    "cell_id": "00009-bc6996e7-13ed-422d-a1fd-9dfae8e387c8",
    "deepnote_cell_type": "markdown",
    "deepnote_cell_height": 54
   }
  },
  {
   "cell_type": "markdown",
   "source": "\nEscreva um programa em Python para converter temperaturas de Fahrenheit para Celsius e de Celsius para Fahrenheit.\n    O usuário deve escrever o número acompanhado da letra f se a entrada for temperatura em Fahrenheit, se a temperatura for em Celsius entrada do usuário será o número acompanhado da letra c\n\nA fórmula de conversão de Celsius para Fahrenheit é:\n\n\nC = (5/9) * (F - 32) onde F é a temperatura Fahrenheit. \n\nExemplo: \n- Para converter de Fahrenheit para Celsius a temperatura de 15:\n\n*entrada do usuário: 15F ou 15f*\n\n*saida: A temperatura em Celsius é -9 graus*\n\n- Para converter de Celsius para Fahrenheit a temperatura de 20:\n\n*entrada do usuário: 20C ou 20c*\n\n*saida: A temperatura em Fahrenheit é 68 graus*",
   "metadata": {
    "cell_id": "00010-e793befa-2eb7-4302-9dbf-1db214c20c58",
    "deepnote_cell_type": "markdown",
    "deepnote_cell_height": 402.3999938964844
   }
  },
  {
   "cell_type": "code",
   "metadata": {
    "cell_id": "00011-33997128-3b48-4075-8834-d07f8bb9458d",
    "deepnote_to_be_reexecuted": false,
    "source_hash": "18328899",
    "execution_start": 1654078524180,
    "execution_millis": 4385,
    "deepnote_cell_type": "code",
    "deepnote_cell_height": 81
   },
   "source": "temperatura = input('Qual temperatura você gostaria de converter para Celsius ou para Fahrenheit? [Digite a temperatura seguida de C ou F]')",
   "execution_count": null,
   "outputs": []
  },
  {
   "cell_type": "code",
   "metadata": {
    "cell_id": "00012-feb6c42f-14ec-4d38-a69f-aca032fc9d49",
    "deepnote_to_be_reexecuted": false,
    "source_hash": "6c2635ba",
    "execution_start": 1654078562451,
    "execution_millis": 6,
    "deepnote_cell_type": "code",
    "deepnote_cell_height": 237.1999969482422
   },
   "source": "if 'f' in temperatura or 'F' in temperatura:\n    temp = float(temperatura[:-1])\n    celsius = round((5 / 9) * (temp - 32),2)\n    print('A temperatura em Celsius é {} graus'.format(celsius))\nelse:\n    temp = float(temperatura[:-1])\n    fahrenheit = (9 * temp + 160) / 5\n    print('A temperatura em Fahrenheit é {} graus'.format(fahrenheit))",
   "execution_count": null,
   "outputs": [
    {
     "name": "stdout",
     "text": "A temperatura em Fahrenheit é 68.0 graus\n",
     "output_type": "stream"
    }
   ]
  },
  {
   "cell_type": "code",
   "metadata": {
    "cell_id": "00013-36a8f922-3586-48f8-8c92-d1ec020c97d8",
    "deepnote_cell_type": "code",
    "deepnote_cell_height": 66
   },
   "source": "",
   "execution_count": null,
   "outputs": []
  },
  {
   "cell_type": "markdown",
   "source": "#### Desafio 6\n\n\nEstação do ano, mês e do dia\n\nO ano é dividido em quatro estações: primavera, verão, outono (ou outono) e inverno. Usaremos as seguintes datas e perídos para este exercício supondo que você está resolvendo um problema para Portugal:\n\n\n- Primavera: de janeiro até 20 de março\n- Verão: até 21 de junho\n- Outono: até 22 de setembro\n- Inverno: até 21 de dezembro\n\nCrie um programa que leia um mês e um dia do usuário. O usuário irá digitar o nome do mês como uma string, seguido pelo dia dentro do mês como um inteiro. Em seguida, seu programa deve exibir a estação do ano associada à data em que foi inserido.",
   "metadata": {
    "cell_id": "00014-99485ae1-f49b-461e-810c-bf6cb3262896",
    "deepnote_cell_type": "markdown",
    "deepnote_cell_height": 318.6000061035156
   }
  },
  {
   "cell_type": "code",
   "metadata": {
    "cell_id": "00017-f7c3f7ab-28ce-4d15-a332-eacc0a711d74",
    "deepnote_to_be_reexecuted": false,
    "source_hash": "9dc9ad2",
    "execution_start": 1654090114032,
    "execution_millis": 6387,
    "deepnote_cell_type": "code",
    "deepnote_cell_height": 171
   },
   "source": "mes_dia_1 = str(input('Insira um mês, seguido pelo dia do mês (ex: Janeiro, 21)'))\nmes_dia = mes_dia_1.lower()\nlista_mes_dia = mes_dia.split(',')\nmes = lista_mes_dia[0]\ndia = int(lista_mes_dia[1])\n",
   "execution_count": null,
   "outputs": []
  },
  {
   "cell_type": "code",
   "metadata": {
    "cell_id": "00018-96a0a619-d0c4-4fb8-a0c0-fb003f3e02fe",
    "deepnote_to_be_reexecuted": false,
    "source_hash": "37eccef2",
    "execution_start": 1654090125808,
    "execution_millis": 9,
    "deepnote_cell_type": "code",
    "deepnote_cell_height": 567
   },
   "source": "if mes == 'janeiro' or mes == 'fevereiro' or mes == 'marco':\n    if mes == 'marco' and dia <= 20:\n        estacao = 'Primavera'\n    if mes == 'marco' and dia > 20:\n        estacao = 'Verão'\n    else:\n        estacao = 'Primavera'\nelif mes == 'maio' or mes == 'junho':\n    if mes == 'junho' and dia <= 21:\n        estacao = 'Verão'\n    if mes == 'junho' and dia > 21:\n        estacao = 'Outono'\n    else:\n        estacao = 'Verão'\nelif mes == 'julho' or mes == 'agosto' or mes == 'setembro':\n    if mes == 'setembro' and dia <= 22:\n        estacao = 'Outono'\n    if mes == 'setembro' and dia > 22:\n        estacao = 'Inverno'\n    else:\n        estacao = 'Outono'\nelif mes == 'outubro' or mes == 'novembro' or mes == 'dezembro':\n    if mes == 'dezembro' and dia <= 21:\n        estacao = 'Inverno'\n    if mes == 'dezembro' and dia > 21:\n        estacao = 'Primavera'\n    else:\n        estacao = 'Inverno'",
   "execution_count": null,
   "outputs": []
  },
  {
   "cell_type": "code",
   "metadata": {
    "cell_id": "00022-10da28da-3cb9-402b-97f8-6e86816d2923",
    "deepnote_to_be_reexecuted": false,
    "source_hash": "e657f543",
    "execution_start": 1654090129813,
    "execution_millis": 4,
    "owner_user_id": "f3b685db-82a0-4f74-9158-9e3d6de2c3bf",
    "deepnote_cell_type": "code",
    "deepnote_cell_height": 111.19999694824219
   },
   "source": "print('{} do dia {} de {}'.format(estacao,dia,mes))",
   "execution_count": null,
   "outputs": [
    {
     "name": "stdout",
     "text": "Primavera do dia 2 de fevereiro\n",
     "output_type": "stream"
    }
   ]
  },
  {
   "cell_type": "markdown",
   "source": "<a style='text-decoration:none;line-height:16px;display:flex;color:#5B5B62;padding:10px;justify-content:end;' href='https://deepnote.com?utm_source=created-in-deepnote-cell&projectId=31152f18-3036-40d1-92d9-59f0bbdc0756' target=\"_blank\">\n<img alt='Created in deepnote.com' style='display:inline;max-height:16px;margin:0px;margin-right:7.5px;' src='data:image/svg+xml;base64,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' > </img>\nCreated in <span style='font-weight:600;margin-left:4px;'>Deepnote</span></a>",
   "metadata": {
    "tags": [],
    "created_in_deepnote_cell": true,
    "deepnote_cell_type": "markdown"
   }
  }
 ],
 "nbformat": 4,
 "nbformat_minor": 5,
 "metadata": {
  "hide_input": false,
  "kernelspec": {
   "display_name": "Python 3 (ipykernel)",
   "language": "python",
   "name": "python3"
  },
  "language_info": {
   "codemirror_mode": {
    "name": "ipython",
    "version": 3
   },
   "file_extension": ".py",
   "mimetype": "text/x-python",
   "name": "python",
   "nbconvert_exporter": "python",
   "pygments_lexer": "ipython3",
   "version": "3.9.7"
  },
  "deepnote_notebook_id": "32f1ecfe-e0c1-4e06-8ec6-0ac0e3896067",
  "deepnote": {},
  "deepnote_execution_queue": []
 }
}